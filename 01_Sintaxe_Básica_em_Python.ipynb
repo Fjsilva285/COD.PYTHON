{
  "nbformat": 4,
  "nbformat_minor": 0,
  "metadata": {
    "colab": {
      "name": "01 - Sintaxe Básica em Python.ipynb",
      "provenance": []
    },
    "kernelspec": {
      "name": "python3",
      "display_name": "Python 3"
    },
    "language_info": {
      "name": "python"
    }
  },
  "cells": [
    {
      "cell_type": "markdown",
      "metadata": {
        "id": "3geZCrCP2aol"
      },
      "source": [
        "## Sintaxe Básica em Python"
      ]
    },
    {
      "cell_type": "markdown",
      "metadata": {
        "id": "WPtiq2SfW9rt"
      },
      "source": [
        "Declaração de Variáveis"
      ]
    },
    {
      "cell_type": "code",
      "metadata": {
        "colab": {
          "base_uri": "https://localhost:8080/"
        },
        "id": "l2Ko_2jI2U_F",
        "outputId": "463974e4-af61-4ddf-cac4-6523b7cb91f2"
      },
      "source": [
        "# nome_da_variavel = dado/valor/atributo\n",
        "\n",
        "numero = 20\n",
        "# Nome da variável: numero\n",
        "# Dado/valor atribuído: 20\n",
        "\n",
        "nome = 'Veronica'\n",
        "\n",
        "variavel = [21, 'Maria', 19.90]\n",
        "\n",
        "print(numero)\n",
        "# Exibe em tela o conteúdo da variável numero\n",
        "\n",
        "print(nome)\n",
        "print(variavel)\n"
      ],
      "execution_count": null,
      "outputs": [
        {
          "output_type": "stream",
          "text": [
            "20\n",
            "Veronica\n",
            "[21, 'Maria', 19.9]\n"
          ],
          "name": "stdout"
        }
      ]
    },
    {
      "cell_type": "markdown",
      "metadata": {
        "id": "U2AN7hmrW9rv"
      },
      "source": [
        "Sintaxe básica, leitura léxica e indentação"
      ]
    },
    {
      "cell_type": "code",
      "metadata": {
        "colab": {
          "base_uri": "https://localhost:8080/"
        },
        "id": "VdNmCgnrUKcX",
        "outputId": "a940fa20-f2e5-4d32-ef39-81a7e3b1c65d"
      },
      "source": [
        "dicionario = {'Nome':'Fernando',\n",
        "              'Idade':33,\n",
        "              'Formação':'Eng. da Computação'}\n",
        "\n",
        "print(dicionario)\n",
        "\n",
        "# Por leitura léxica entenda que o interpretador lê o código sequencialmente,\n",
        "# de cima para baixo, da esquerda para direita, levando em conta os espaços e\n",
        "# tabulações aplicadas ao código (indentação).\n"
      ],
      "execution_count": null,
      "outputs": [
        {
          "output_type": "stream",
          "text": [
            "{'Nome': 'Fernando', 'Idade': 33, 'Formação': 'Eng. da Computação'}\n"
          ],
          "name": "stdout"
        }
      ]
    },
    {
      "cell_type": "markdown",
      "metadata": {
        "id": "a2qrKGqkW9rz"
      },
      "source": [
        "Estrutura básica de um programa"
      ]
    },
    {
      "cell_type": "markdown",
      "metadata": {
        "id": "3ZS9pXUcW9rz"
      },
      "source": [
        "Olá Mundo!!! em Java"
      ]
    },
    {
      "cell_type": "code",
      "metadata": {
        "id": "EHvDeVWtVKQf"
      },
      "source": [
        "class MeuPrograma {\n",
        "    public static void main(String args[]) {\n",
        "        System.out.println(\"Olá Mundo!!!\");\n",
        "    }\n",
        "}\n"
      ],
      "execution_count": null,
      "outputs": []
    },
    {
      "cell_type": "markdown",
      "metadata": {
        "id": "Cy2OkUk8W9r0"
      },
      "source": [
        "Olá Mundo!!! em C#"
      ]
    },
    {
      "cell_type": "code",
      "metadata": {
        "id": "u2JaymKDW9r1"
      },
      "source": [
        "using System; \n",
        "namespace MeuPrograma { \n",
        "    class OlaMundo { \n",
        "\t    static void Main(string[] args) {\n",
        "           Console.WriteLine(\"Olá Mundo!!!\"); \n",
        "\t       Console.ReadKey(); \n",
        "\t    } \n",
        "    } \n",
        "} \n"
      ],
      "execution_count": null,
      "outputs": []
    },
    {
      "cell_type": "markdown",
      "metadata": {
        "id": "sgUDlNsiW9r1"
      },
      "source": [
        "Olá Mundo!!! em Python"
      ]
    },
    {
      "cell_type": "code",
      "metadata": {
        "id": "Xqxuu02EW9r1",
        "colab": {
          "base_uri": "https://localhost:8080/"
        },
        "outputId": "e29d55fc-8c9c-4daf-9fa0-3e8718300e43"
      },
      "source": [
        "print('Olá Mundo!!!')\n"
      ],
      "execution_count": null,
      "outputs": [
        {
          "output_type": "stream",
          "text": [
            "Olá Mundo!!!\n"
          ],
          "name": "stdout"
        }
      ]
    },
    {
      "cell_type": "markdown",
      "metadata": {
        "id": "7HQ_jTX5W9r2"
      },
      "source": [
        "Linguagens de Alto Nível vs Linguagens de Baixo Nível"
      ]
    },
    {
      "cell_type": "markdown",
      "metadata": {
        "id": "7xVbSTgJW9r3"
      },
      "source": [
        "Olá Mundo!!! em Assembly"
      ]
    },
    {
      "cell_type": "code",
      "metadata": {
        "id": "ELCO7MxEWA-T"
      },
      "source": [
        "section     .text\n",
        "global      _start\n",
        "\n",
        "_start:\n",
        "\n",
        "    mov     edx,len\n",
        "    mov     ecx,msg\n",
        "    mov     ebx,1\n",
        "    mov     eax,4\n",
        "    int     0x80\n",
        "\n",
        "    mov     eax,1\n",
        "    int     0x80\n",
        "\n",
        "section     .data\n",
        "\n",
        "msg     db  'Olá Mundo!!!',0xa \n",
        "len     equ $ - msg\n"
      ],
      "execution_count": null,
      "outputs": []
    },
    {
      "cell_type": "markdown",
      "metadata": {
        "id": "vYD2-gEWW9r3"
      },
      "source": [
        "Olá Mundo!!! em Python"
      ]
    },
    {
      "cell_type": "code",
      "metadata": {
        "id": "2iPbDUvlW9r4",
        "colab": {
          "base_uri": "https://localhost:8080/"
        },
        "outputId": "210f6c64-cfb6-4d4d-c969-c6b775b9427c"
      },
      "source": [
        "print('Olá Mundo!!!')\n"
      ],
      "execution_count": null,
      "outputs": [
        {
          "output_type": "stream",
          "text": [
            "Olá Mundo!!!\n"
          ],
          "name": "stdout"
        }
      ]
    }
  ]
}