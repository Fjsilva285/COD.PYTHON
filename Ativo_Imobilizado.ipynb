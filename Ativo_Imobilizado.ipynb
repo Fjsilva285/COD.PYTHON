{
  "nbformat": 4,
  "nbformat_minor": 0,
  "metadata": {
    "colab": {
      "provenance": [],
      "authorship_tag": "ABX9TyP9cKUN/n4O05/KPdmtYu/m",
      "include_colab_link": true
    },
    "kernelspec": {
      "name": "python3",
      "display_name": "Python 3"
    },
    "language_info": {
      "name": "python"
    }
  },
  "cells": [
    {
      "cell_type": "markdown",
      "metadata": {
        "id": "view-in-github",
        "colab_type": "text"
      },
      "source": [
        "<a href=\"https://colab.research.google.com/github/Fjsilva285/COD.PYTHON/blob/master/Ativo_Imobilizado.ipynb\" target=\"_parent\"><img src=\"https://colab.research.google.com/assets/colab-badge.svg\" alt=\"Open In Colab\"/></a>"
      ]
    },
    {
      "cell_type": "code",
      "execution_count": null,
      "metadata": {
        "colab": {
          "base_uri": "https://localhost:8080/"
        },
        "id": "ocRcvXjuWHLO",
        "outputId": "b9d5cb89-901d-4384-f70d-45defcdd8967"
      },
      "outputs": [
        {
          "output_type": "stream",
          "name": "stdout",
          "text": [
            "Valor Coletado: 1\n",
            "Local Coletado: 2\n",
            "{'Nome': ['Carro', 'Maquina', 'TV', 'Mesa', 'Molde'], 'ID': [1, 2, 3, 4, 5], 'Local': ['100', '101', '102', '103', '104']}\n"
          ]
        }
      ],
      "source": [
        "# Base de dados_para Inventario\n",
        "Base = {\n",
        "    'Nome': ['Carro', 'Maquina', 'TV', 'Mesa', 'Molde'],\n",
        "    'ID': [1, 2, 3, 4, 5],\n",
        "    'Local': ['100', '101', '102', '103', '104']\n",
        "}\n",
        "\n",
        "\n",
        "# Coletando o valor via APP\n",
        "Valor_Coletado = int(input(\"Valor Coletado: \"))\n",
        "Local_Coletado = input(\"Local Coletado: \")\n",
        "\n",
        "print(Base)\n",
        "\n"
      ]
    },
    {
      "cell_type": "code",
      "source": [
        "Valor_nf = int(input(\"Insira o Valor total da NF: \"))\n",
        "Valor_IR = int(input(\"Insira o Valor total dos IR: \"))\n",
        "Valor_ISS = int(input(\"Insira o Valor total dos ISS: \"))\n",
        "Valor_CSLL = int(input(\"Insira o Valor total dos CSLL\"))\n",
        "Valor_Impostos = Valor_IR + Valor_ISS + Valor_CSLL\n",
        "print(\"Valor dos Impostos :\", Valor_Impostos)\n",
        "Resultado = Valor_nf - Valor_Impostos\n",
        "print(\"Valor Liquido da NF :\", Resultado)\n",
        "\n",
        "MAquina= int(input(\"Insira a CG da Maquina: \"))\n",
        "print(\"Conta CG :\",MAquina)\n",
        "\n",
        "Ativo_Imobilizado = int(input(\"Insira a CG do Ativo: \"))\n",
        "print(\"Conta CG :\",Ativo_Imobilizado)\n",
        "print(\"Total dos Imposto:\",Valor_Impostos)\n"
      ],
      "metadata": {
        "colab": {
          "base_uri": "https://localhost:8080/"
        },
        "id": "QaM0hAPU5EmB",
        "outputId": "813d93a7-855c-4c9d-8e89-bee921b40c38"
      },
      "execution_count": null,
      "outputs": [
        {
          "output_type": "stream",
          "name": "stdout",
          "text": [
            "Insira o Valor total da NF: 100\n",
            "Insira o Valor total dos IR: 10\n",
            "Insira o Valor total dos ISS: 0\n",
            "Insira o Valor total dos CSLL0\n",
            "Valor dos Impostos : 10\n",
            "Valor Liquido da NF : 90\n",
            "Insira a CG do Ativo: 1221005\n",
            "Conta CG : 1221005\n",
            "Total dos Imposto: 10\n"
          ]
        }
      ]
    }
  ]
}