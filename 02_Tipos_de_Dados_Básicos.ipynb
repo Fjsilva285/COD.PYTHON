{
  "nbformat": 4,
  "nbformat_minor": 0,
  "metadata": {
    "colab": {
      "name": "Tipos de Dados Básicos.ipynb",
      "provenance": []
    },
    "kernelspec": {
      "name": "python3",
      "display_name": "Python 3"
    },
    "language_info": {
      "name": "python"
    }
  },
  "cells": [
    {
      "cell_type": "markdown",
      "metadata": {
        "id": "GjcsshqNDPqq"
      },
      "source": [
        "## Tipos de Dados Básicos"
      ]
    },
    {
      "cell_type": "markdown",
      "metadata": {
        "id": "kc9S9ViwW9r4"
      },
      "source": [
        "Int - Número Inteiro"
      ]
    },
    {
      "cell_type": "code",
      "metadata": {
        "id": "4zPcgZWKDZF5",
        "colab": {
          "base_uri": "https://localhost:8080/"
        },
        "outputId": "7caf3a7c-bc20-42db-9e01-7f8396b70079"
      },
      "source": [
        "num1 = 12\n",
        "\n",
        "num2 = int(15)\n",
        "\n",
        "print(num1)\n",
        "# Exibe em tela o conteúdo da variável num1\n",
        "\n",
        "print(type(num1))\n",
        "# Exibe em tela o tipo de dado da variável num1\n",
        "\n",
        "print(num2)\n",
        "print(type(num2))\n"
      ],
      "execution_count": null,
      "outputs": [
        {
          "output_type": "stream",
          "text": [
            "12\n",
            "<class 'int'>\n",
            "15\n",
            "<class 'int'>\n"
          ],
          "name": "stdout"
        }
      ]
    },
    {
      "cell_type": "code",
      "metadata": {
        "id": "EALX2tJvW9r5",
        "colab": {
          "base_uri": "https://localhost:8080/"
        },
        "outputId": "696c768b-4008-41c8-dadd-ee68b7ec2ad5"
      },
      "source": [
        "num1 = 12\n",
        "# Será automaticamente identificado pelo interpretador como dado do tipo int\n",
        "\n",
        "num2 = int(15)\n",
        "# Será manualmente identificado pelo interpretador como dado do tipo int\n",
        "\n",
        "num3 = str(15)\n",
        "# Será manualmente identificado pelo interpretador como dado do tipo string\n",
        "\n",
        "print(type(num1))\n",
        "print(type(num2))\n",
        "print(type(num3))\n"
      ],
      "execution_count": null,
      "outputs": [
        {
          "output_type": "stream",
          "text": [
            "<class 'int'>\n",
            "<class 'int'>\n",
            "<class 'str'>\n"
          ],
          "name": "stdout"
        }
      ]
    },
    {
      "cell_type": "markdown",
      "metadata": {
        "id": "OOjmX3BDW9r6"
      },
      "source": [
        "Float - Número de ponto flutuante / com casas decimais."
      ]
    },
    {
      "cell_type": "code",
      "metadata": {
        "id": "5bJd3GgWZuwW",
        "colab": {
          "base_uri": "https://localhost:8080/"
        },
        "outputId": "513649a1-6eda-4f99-8346-fa4d4455dc04"
      },
      "source": [
        "num3 = 12.8\n",
        "# Ao inserir o ponto demarcador de casa decimal, tal número será\n",
        "# automaticamente reconhecido pelo interpretador como tipo float\n",
        "\n",
        "num4 = float(19.0)\n",
        "\n",
        "print(num3)\n",
        "print(type(num3))\n",
        "\n",
        "print(num4)\n",
        "print(type(num4))\n"
      ],
      "execution_count": null,
      "outputs": [
        {
          "output_type": "stream",
          "text": [
            "12.8\n",
            "<class 'float'>\n",
            "19.0\n",
            "<class 'float'>\n"
          ],
          "name": "stdout"
        }
      ]
    },
    {
      "cell_type": "markdown",
      "metadata": {
        "id": "64b0FktJW9r6"
      },
      "source": [
        "String - Texto composto de qualquer caractere alfanumérico."
      ]
    },
    {
      "cell_type": "code",
      "metadata": {
        "id": "ErfJUN4LZzUh",
        "colab": {
          "base_uri": "https://localhost:8080/"
        },
        "outputId": "e9b76b4e-7cde-47f6-bb1a-0630219d7b0c"
      },
      "source": [
        "palavra1 = 'palavra'\n",
        "# Todo conteúdo contido entre aspas é lido como texto pelo interpretador\n",
        "\n",
        "palavra2 = \"marca d'água\"\n",
        "# Uso de aspas duplas para não gerar conflito com o apóstrofo '\n",
        "\n",
        "frase1 = 'Uma frase qualquer'\n",
        "\n",
        "frase3 = 'Ela tinha 8 anos'\n",
        "\n",
        "frase3 = str('Outra frase qualquer')\n",
        "\n",
        "print(palavra1)\n",
        "print(palavra2)\n",
        "\n",
        "print(frase3)\n",
        "print(type(frase3))\n"
      ],
      "execution_count": null,
      "outputs": [
        {
          "output_type": "stream",
          "text": [
            "palavra\n",
            "marca d'água\n",
            "Outra frase qualquer\n",
            "<class 'str'>\n"
          ],
          "name": "stdout"
        }
      ]
    },
    {
      "cell_type": "code",
      "metadata": {
        "id": "OpWLp2_r0YA3",
        "colab": {
          "base_uri": "https://localhost:8080/"
        },
        "outputId": "db988e5d-60e0-4689-dde0-90b0f1433d7d"
      },
      "source": [
        "codigo1 = '887237'\n",
        "# Apesar de composto apenas por números, o atributo da variável codigo1 por\n",
        "# conta de sua sintaxe é um texto, tipo de dado string\n",
        "\n",
        "print(codigo1)\n",
        "print(type(codigo1))\n"
      ],
      "execution_count": null,
      "outputs": [
        {
          "output_type": "stream",
          "text": [
            "887237\n",
            "<class 'str'>\n"
          ],
          "name": "stdout"
        }
      ]
    },
    {
      "cell_type": "markdown",
      "metadata": {
        "id": "ccqt5NAbW9r7"
      },
      "source": [
        "Tupla - Conjunto de elementos imutável"
      ]
    },
    {
      "cell_type": "code",
      "metadata": {
        "id": "xQ-M5WhP4pTo",
        "colab": {
          "base_uri": "https://localhost:8080/"
        },
        "outputId": "891cd0fb-8e5a-49b9-8dc7-9996e5b0cc2f"
      },
      "source": [
        "# Método simples para guardar mais de um dado/valor atribuído a uma variável.\n",
        "\n",
        "tupla = ('Ana', 'Fernando', 3, 19.90)\n",
        "# Cada elemento declarado conforme sua sintaxe.\n",
        "\n",
        "print(tupla)\n",
        "print(type(tupla))\n"
      ],
      "execution_count": null,
      "outputs": [
        {
          "output_type": "stream",
          "text": [
            "('Ana', 'Fernando', 3, 19.9)\n",
            "<class 'tuple'>\n"
          ],
          "name": "stdout"
        }
      ]
    },
    {
      "cell_type": "markdown",
      "metadata": {
        "id": "esDSJhNFW9r8"
      },
      "source": [
        "List - Listas - Conjunto de elementos indexados e mutáveis"
      ]
    },
    {
      "cell_type": "code",
      "metadata": {
        "id": "iFAeGUxVZ2W9",
        "colab": {
          "base_uri": "https://localhost:8080/"
        },
        "outputId": "1cac28a1-85e9-4365-d606-199c105c8646"
      },
      "source": [
        "# Basicamente o mesmo tipo de dado array de outras linguagens de programação.\n",
        "\n",
        "lista = [2, 'Pedro', 15.9]\n",
        "# Cada elemento possui um número de índice, começando em 0.\n",
        "\n",
        "lista2 = list([1, 'Maria', 19.99])\n",
        "\n",
        "print(lista)\n",
        "print(type(lista))\n",
        "\n",
        "print(lista2)\n"
      ],
      "execution_count": null,
      "outputs": [
        {
          "output_type": "stream",
          "text": [
            "[2, 'Pedro', 15.9]\n",
            "<class 'list'>\n",
            "[1, 'Maria', 19.99]\n"
          ],
          "name": "stdout"
        }
      ]
    },
    {
      "cell_type": "code",
      "metadata": {
        "id": "9aXbUPhM2JhC",
        "colab": {
          "base_uri": "https://localhost:8080/"
        },
        "outputId": "9437a60f-6f09-4f3e-b3b5-a861a3c71bf0"
      },
      "source": [
        "lista_compras = ['Arroz',\n",
        "                 'Açúcar',\n",
        "                 'Café',\n",
        "                 'Carne',\n",
        "                 'Frutas',\n",
        "                 'Pão',\n",
        "                 'Sabão em pó']\n",
        "# Apenas por organização, os elementos de uma lista podem ser organizados\n",
        "# em linhas separadas, desde que mantenham a indentação\n",
        "\n",
        "print(lista_compras)\n"
      ],
      "execution_count": null,
      "outputs": [
        {
          "output_type": "stream",
          "text": [
            "['Arroz', 'Açúcar', 'Café', 'Carne', 'Frutas', 'Pão', 'Sabão em pó']\n"
          ],
          "name": "stdout"
        }
      ]
    },
    {
      "cell_type": "markdown",
      "metadata": {
        "id": "NcNKGX-tW9r9"
      },
      "source": [
        "Dict - Dicionários - Estrutura de dados baseada em 'chave : valor'"
      ]
    },
    {
      "cell_type": "code",
      "metadata": {
        "id": "PL_Haq_7Z5QK",
        "colab": {
          "base_uri": "https://localhost:8080/"
        },
        "outputId": "8f28b65a-d24e-4924-8d4f-892d9e25425a"
      },
      "source": [
        "dicionario = {'Nome':'Fernando', 'Idade':32}\n",
        "# Na primeira entrada, 'Nome' é a chave e 'Fernando' é o valor.\n",
        "\n",
        "print(dicionario)\n",
        "print(type(dicionario))\n"
      ],
      "execution_count": null,
      "outputs": [
        {
          "output_type": "stream",
          "text": [
            "{'Nome': 'Fernando', 'Idade': 32}\n",
            "<class 'dict'>\n"
          ],
          "name": "stdout"
        }
      ]
    },
    {
      "cell_type": "code",
      "metadata": {
        "id": "fEuYqD1g1Uad",
        "colab": {
          "base_uri": "https://localhost:8080/"
        },
        "outputId": "7554fa01-22de-445e-f769-42dbc680e5b8"
      },
      "source": [
        "dicionario = {'Nome':'Fernando',\n",
        "              'Idade': 32,\n",
        "              'Altura': 1.90,\n",
        "              'Peso': '120kg'}\n",
        "# Por uma questão de organização, os itens de um dicionário podem\n",
        "# ser dispostos em linhas independentes, desde que respeitando a\n",
        "# indentação.\n",
        "\n",
        "print(dicionario)\n"
      ],
      "execution_count": null,
      "outputs": [
        {
          "output_type": "stream",
          "text": [
            "{'Nome': 'Fernando', 'Idade': 32, 'Altura': 1.9, 'Peso': '120kg'}\n"
          ],
          "name": "stdout"
        }
      ]
    },
    {
      "cell_type": "markdown",
      "metadata": {
        "id": "8Qf4o1m4W9r-"
      },
      "source": [
        "Bool - Booleano (True / False)"
      ]
    },
    {
      "cell_type": "code",
      "metadata": {
        "id": "DBSsfX3WZxOx",
        "colab": {
          "base_uri": "https://localhost:8080/"
        },
        "outputId": "aec07ed2-dc63-4c82-bdd6-0458d7b968a9"
      },
      "source": [
        "condicao1 = True\n",
        "# Tipo de dado usado em expressões/proposições lógicas, onde o retorno é True\n",
        "# ou False, referente a Verdadeiro ou Falso, válido ou inválido, ligado ou\n",
        "# desligado, etc... de acordo com a proposição.\n",
        "\n",
        "print(condicao1)\n",
        "print(type(condicao1))\n"
      ],
      "execution_count": null,
      "outputs": [
        {
          "output_type": "stream",
          "text": [
            "True\n",
            "<class 'bool'>\n"
          ],
          "name": "stdout"
        }
      ]
    }
  ]
}