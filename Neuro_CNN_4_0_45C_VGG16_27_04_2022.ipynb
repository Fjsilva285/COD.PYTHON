{
  "cells": [
    {
      "cell_type": "markdown",
      "metadata": {
        "id": "view-in-github",
        "colab_type": "text"
      },
      "source": [
        "<a href=\"https://colab.research.google.com/github/fernandofeltrin/PYTHON/blob/master/Neuro_CNN_4_0_45C_VGG16_27_04_2022.ipynb\" target=\"_parent\"><img src=\"https://colab.research.google.com/assets/colab-badge.svg\" alt=\"Open In Colab\"/></a>"
      ]
    },
    {
      "cell_type": "code",
      "source": [
        "import IPython\n",
        "js_code = '''\n",
        "function ClickConnect(){\n",
        "console.log(\"Working\");\n",
        "document.querySelector(\"colab-toolbar-button#connect\").click()\n",
        "}\n",
        "setInterval(ClickConnect,60000)\n",
        "'''\n",
        "display(IPython.display.Javascript(js_code))\n"
      ],
      "metadata": {
        "colab": {
          "base_uri": "https://localhost:8080/",
          "height": 17
        },
        "id": "cwfdyx0gI1OW",
        "outputId": "7ba65bdd-d279-430f-d28b-16b8a0d5374d"
      },
      "execution_count": 1,
      "outputs": [
        {
          "output_type": "display_data",
          "data": {
            "text/plain": [
              "<IPython.core.display.Javascript object>"
            ],
            "application/javascript": [
              "\n",
              "function ClickConnect(){\n",
              "console.log(\"Working\");\n",
              "document.querySelector(\"colab-toolbar-button#connect\").click()\n",
              "}\n",
              "setInterval(ClickConnect,60000)\n"
            ]
          },
          "metadata": {}
        }
      ]
    },
    {
      "cell_type": "code",
      "execution_count": 2,
      "metadata": {
        "colab": {
          "base_uri": "https://localhost:8080/"
        },
        "id": "mHJ9nWauqtiJ",
        "outputId": "aeea9b3b-f84b-466c-e58b-a87ed5c9a5f9"
      },
      "outputs": [
        {
          "output_type": "stream",
          "name": "stdout",
          "text": [
            "Found GPU at: /device:GPU:0\n"
          ]
        }
      ],
      "source": [
        "%tensorflow_version 2.x\n",
        "\n",
        "import tensorflow as tf\n",
        "\n",
        "device_name = tf.test.gpu_device_name()\n",
        "\n",
        "if device_name != '/device:GPU:0':\n",
        "  raise SystemError('GPU device not found')\n",
        "\n",
        "print('Found GPU at: {}'.format(device_name))\n"
      ]
    },
    {
      "cell_type": "code",
      "execution_count": 3,
      "metadata": {
        "colab": {
          "base_uri": "https://localhost:8080/"
        },
        "id": "nRtH1u2CLRg2",
        "outputId": "99f2026c-1f3b-4349-e9a9-43e98959a165"
      },
      "outputs": [
        {
          "output_type": "stream",
          "name": "stdout",
          "text": [
            "Drive already mounted at /content/drive; to attempt to forcibly remount, call drive.mount(\"/content/drive\", force_remount=True).\n"
          ]
        }
      ],
      "source": [
        "from google.colab import drive\n",
        "\n",
        "drive.mount('/content/drive')\n"
      ]
    },
    {
      "cell_type": "code",
      "execution_count": 4,
      "metadata": {
        "id": "51RSMhae_FBg"
      },
      "outputs": [],
      "source": [
        "!pip install -q -U tensorflow-addons\n",
        "!pip install -q -U watermark\n"
      ]
    },
    {
      "cell_type": "code",
      "execution_count": 5,
      "metadata": {
        "id": "qCAFn3SRLgxZ"
      },
      "outputs": [],
      "source": [
        "import os\n",
        "import keras\n",
        "import numpy as np\n",
        "import cv2\n",
        "import PIL\n",
        "import glob\n",
        "import matplotlib.pyplot as plt\n",
        "import tensorflow as tf\n",
        "import keras.layers.convolutional as conv\n",
        "from math import sqrt\n",
        "from PIL import Image\n",
        "from tensorflow import keras\n",
        "from numpy import mean\n",
        "from keras.models import Sequential, load_model\n",
        "from tensorflow.keras import regularizers, layers, Model\n",
        "from keras.preprocessing.image import ImageDataGenerator, load_img\n",
        "from keras.preprocessing import image\n",
        "from keras.callbacks import LearningRateScheduler, ReduceLROnPlateau, EarlyStopping\n",
        "from keras.utils.vis_utils import plot_model\n",
        "from keras import backend as B\n",
        "from tensorflow.keras.layers import ReLU\n",
        "from tensorflow.keras.layers import BatchNormalization,MaxPool2D\n",
        "from tensorflow.keras import Model\n",
        "from keras.layers import Dense, Add, Conv2D, MaxPool2D, Flatten, BatchNormalization, Dropout, ZeroPadding2D, MaxPooling2D, Activation, Input, UpSampling2D, AveragePooling2D, Reshape, InputLayer, SeparableConv2D\n",
        "from tensorflow.keras.optimizers import Adam, Nadam, RMSprop, SGD\n",
        "from keras.regularizers import l2\n",
        "from keras.initializers import glorot_uniform\n",
        "from skimage import measure, feature, morphology, segmentation, color\n",
        "from skimage.feature import peak_local_max\n",
        "from skimage.morphology import disk\n",
        "from skimage.segmentation import watershed\n",
        "from skimage.exposure import equalize_adapthist\n",
        "from skimage.io import imread\n",
        "from skimage.color import rgb2gray\n",
        "from skimage.filters import sobel, rank, median\n",
        "from skimage.util import img_as_ubyte\n",
        "from scipy import ndimage as ndi\n",
        "from scipy.ndimage import distance_transform_edt\n",
        "import tensorflow_addons as tfa\n",
        "from sklearn.model_selection import train_test_split\n",
        "from sklearn.utils import class_weight\n",
        "from sklearn.metrics import confusion_matrix, accuracy_score\n",
        "from tensorflow.keras.metrics import Metric, Recall, Precision, CategoricalAccuracy\n",
        "from keras import backend as K\n",
        "from sklearn.metrics import precision_recall_fscore_support, f1_score\n"
      ]
    },
    {
      "cell_type": "code",
      "execution_count": 6,
      "metadata": {
        "colab": {
          "base_uri": "https://localhost:8080/"
        },
        "id": "1cjGINjILg0T",
        "outputId": "8b1c70df-8383-4b56-acf7-e6c973c9bd46"
      },
      "outputs": [
        {
          "output_type": "stream",
          "name": "stdout",
          "text": [
            "Versão da Linguagem Python:\n",
            "3.7.13\n"
          ]
        }
      ],
      "source": [
        "from platform import python_version\n",
        "\n",
        "print('Versão da Linguagem Python:')\n",
        "print(python_version())\n"
      ]
    },
    {
      "cell_type": "code",
      "execution_count": 7,
      "metadata": {
        "colab": {
          "base_uri": "https://localhost:8080/"
        },
        "id": "WY04CdGsvo0d",
        "outputId": "37ed184d-56df-43d7-d527-207c4eb7088b"
      },
      "outputs": [
        {
          "output_type": "stream",
          "name": "stdout",
          "text": [
            "Bibliotecas utilizadas e suas respectivas versões:\n",
            "numpy            : 1.21.6\n",
            "PIL              : 7.1.2\n",
            "skimage          : 0.18.3\n",
            "IPython          : 5.5.0\n",
            "tensorflow       : 2.8.0\n",
            "matplotlib       : 3.2.2\n",
            "tensorflow_addons: 0.16.1\n",
            "cv2              : 4.1.2\n",
            "google           : 2.0.3\n",
            "scipy            : 1.4.1\n",
            "sklearn          : 0.0\n",
            "keras            : 2.8.0\n",
            "\n"
          ]
        }
      ],
      "source": [
        "%reload_ext watermark\n",
        "\n",
        "print('Bibliotecas utilizadas e suas respectivas versões:')\n",
        "%watermark --iversions\n"
      ]
    },
    {
      "cell_type": "code",
      "execution_count": 8,
      "metadata": {
        "id": "LJ0RefpJLg5y"
      },
      "outputs": [],
      "source": [
        "import warnings\n",
        "\n",
        "warnings.simplefilter(action = 'ignore', category = FutureWarning)\n",
        "warnings.simplefilter(action = 'ignore', category = UserWarning)\n"
      ]
    },
    {
      "cell_type": "markdown",
      "metadata": {
        "id": "tx-CD5L0B5nT"
      },
      "source": [
        "## Modelo Multiclasse Multinomial"
      ]
    },
    {
      "cell_type": "code",
      "execution_count": 9,
      "metadata": {
        "colab": {
          "base_uri": "https://localhost:8080/"
        },
        "id": "Anu2RjhLK7MU",
        "outputId": "11e44b38-18b4-47e5-bebb-c7f7ad9157dd"
      },
      "outputs": [
        {
          "output_type": "stream",
          "name": "stdout",
          "text": [
            "Found 5065 images belonging to 45 classes.\n",
            "Found 1240 images belonging to 45 classes.\n"
          ]
        }
      ],
      "source": [
        "data = ImageDataGenerator(rotation_range = 10,\n",
        "                          brightness_range=[0.5,1.0],\n",
        "                          rescale = 1./255,\n",
        "                          shear_range = 0.2,\n",
        "                          zoom_range=[0.8,1.2],\n",
        "                          horizontal_flip = True,\n",
        "                          fill_mode = 'nearest',\n",
        "                          validation_split = 0.20)\n",
        "\n",
        "traindata = data.flow_from_directory(directory='/content/drive/MyDrive/NEURO_CNN/dataset_geral/',\n",
        "                                     target_size = (299,299),\n",
        "                                     class_mode = 'categorical',\n",
        "                                     batch_size = 8,\n",
        "                                     shuffle = True,\n",
        "                                     subset = 'training',\n",
        "                                     interpolation = 'nearest')\n",
        "\n",
        "testdata = data.flow_from_directory(directory='/content/drive/MyDrive/NEURO_CNN/dataset_geral/',\n",
        "                                     target_size = (299,299),\n",
        "                                     class_mode = 'categorical',\n",
        "                                     batch_size = 8,\n",
        "                                     shuffle = True,\n",
        "                                     subset = 'validation',\n",
        "                                     interpolation = 'nearest')\n"
      ]
    },
    {
      "cell_type": "code",
      "execution_count": 10,
      "metadata": {
        "id": "Bh5jUWE78wSY"
      },
      "outputs": [],
      "source": [
        "model = Sequential()\n",
        "model.add(Conv2D(input_shape=(299,299,3),\n",
        "                 filters=64,\n",
        "                 kernel_size=(3,3),\n",
        "                 padding=\"same\",\n",
        "                 activation=\"relu\"))\n",
        "model.add(Conv2D(filters=64,\n",
        "                 kernel_size=(3,3),\n",
        "                 padding=\"same\",\n",
        "                 activation=\"relu\"))\n",
        "model.add(MaxPool2D(pool_size=(2,2),\n",
        "                    strides=(2,2)))\n",
        "model.add(Conv2D(filters=128,\n",
        "                 kernel_size=(3,3),\n",
        "                 padding=\"same\",\n",
        "                 activation=\"relu\"))\n",
        "model.add(Conv2D(filters=128,\n",
        "                 kernel_size=(3,3),\n",
        "                 padding=\"same\",\n",
        "                 activation=\"relu\"))\n",
        "model.add(MaxPool2D(pool_size=(2,2),\n",
        "                    strides=(2,2)))\n",
        "model.add(Conv2D(filters=256,\n",
        "                 kernel_size=(3,3),\n",
        "                 padding=\"same\",\n",
        "                 activation=\"relu\"))\n",
        "model.add(Conv2D(filters=256,\n",
        "                 kernel_size=(3,3),\n",
        "                 padding=\"same\",\n",
        "                 activation=\"relu\"))\n",
        "model.add(Conv2D(filters=256,\n",
        "                 kernel_size=(3,3),\n",
        "                 padding=\"same\",\n",
        "                 activation=\"relu\"))\n",
        "model.add(MaxPool2D(pool_size=(2,2),\n",
        "                    strides=(2,2)))\n",
        "model.add(Conv2D(filters=512,\n",
        "                 kernel_size=(3,3),\n",
        "                 padding=\"same\",\n",
        "                 activation=\"relu\"))\n",
        "model.add(Conv2D(filters=512,\n",
        "                 kernel_size=(3,3),\n",
        "                 padding=\"same\",\n",
        "                 activation=\"relu\"))\n",
        "model.add(Conv2D(filters=512,\n",
        "                 kernel_size=(3,3),\n",
        "                 padding=\"same\",\n",
        "                 activation=\"relu\"))\n",
        "model.add(MaxPool2D(pool_size=(2,2),\n",
        "                    strides=(2,2)))\n",
        "model.add(Conv2D(filters=512,\n",
        "                 kernel_size=(3,3),\n",
        "                 padding=\"same\",\n",
        "                 activation=\"relu\"))\n",
        "model.add(Conv2D(filters=512,\n",
        "                 kernel_size=(3,3),\n",
        "                 padding=\"same\",\n",
        "                 activation=\"relu\"))\n",
        "model.add(Conv2D(filters=512,\n",
        "                 kernel_size=(3,3),\n",
        "                 padding=\"same\",\n",
        "                 activation=\"relu\"))\n",
        "model.add(MaxPool2D(pool_size=(2,2),\n",
        "                    strides=(2,2)))\n",
        "model.add(Flatten())\n",
        "model.add(Dense(units=4096,\n",
        "                activation=\"relu\"))\n",
        "model.add(Dense(units=4096,\n",
        "                activation=\"relu\"))\n",
        "model.add(Dense(units=45,\n",
        "                activation=\"sigmoid\"))\n"
      ]
    },
    {
      "cell_type": "code",
      "execution_count": 11,
      "metadata": {
        "id": "Uax4hz4j4Q2Q"
      },
      "outputs": [],
      "source": [
        "METRICS = [keras.metrics.CategoricalAccuracy(name = 'accuracy'),\n",
        "           keras.metrics.TruePositives(thresholds = 0.5, name = 'tp'),\n",
        "           keras.metrics.TrueNegatives(thresholds = 0.5, name = 'tn'),\n",
        "           keras.metrics.FalsePositives(thresholds = 0.5, name = 'fp'),\n",
        "           keras.metrics.FalseNegatives(thresholds = 0.5, name = 'fn'),\n",
        "           keras.metrics.PrecisionAtRecall(recall = 0.5, name = 'precision'),\n",
        "           keras.metrics.SensitivityAtSpecificity(0.5, name = 'sensitivity'),\n",
        "           keras.metrics.SpecificityAtSensitivity(sensitivity = 0.5,\n",
        "                                                  name = 'specificity'),\n",
        "           keras.metrics.Recall(name='recall'),\n",
        "           tfa.metrics.FBetaScore(num_classes = 45,\n",
        "                                  average = None,\n",
        "                                  threshold = 0.5,\n",
        "                                  name = 'FBetaScore')]\n"
      ]
    },
    {
      "cell_type": "code",
      "execution_count": 12,
      "metadata": {
        "id": "9mJfrj6tCDiJ"
      },
      "outputs": [],
      "source": [
        "opt = Adam(learning_rate=0.0001,\n",
        "           beta_1=0.9,\n",
        "           beta_2=0.999,\n",
        "           epsilon=1e-07,\n",
        "           amsgrad=False)\n",
        "\n",
        "model.compile(optimizer = opt,\n",
        "              loss = keras.losses.categorical_crossentropy,\n",
        "              metrics = METRICS)\n"
      ]
    },
    {
      "cell_type": "code",
      "execution_count": 13,
      "metadata": {
        "id": "bf-898GHCDiJ"
      },
      "outputs": [],
      "source": [
        "earlystop = EarlyStopping(monitor='loss',\n",
        "                          min_delta = 0,\n",
        "                          patience = 20,\n",
        "                          verbose = 1,\n",
        "                          mode = 'min')\n"
      ]
    },
    {
      "cell_type": "code",
      "execution_count": 14,
      "metadata": {
        "id": "esG1OGGzCDiJ"
      },
      "outputs": [],
      "source": [
        "learning_rate = ReduceLROnPlateau(monitor='accuracy',\n",
        "                                  factor=0.2,\n",
        "                                  patience=1,\n",
        "                                  min_lr=0.000001,\n",
        "                                  verbose=1)\n"
      ]
    },
    {
      "cell_type": "code",
      "execution_count": 15,
      "metadata": {
        "colab": {
          "base_uri": "https://localhost:8080/"
        },
        "id": "901PihEqCDiJ",
        "outputId": "cafc2cf3-2c31-47c7-97ce-d269a55932d5"
      },
      "outputs": [
        {
          "output_type": "stream",
          "name": "stdout",
          "text": [
            "Model: \"sequential\"\n",
            "_________________________________________________________________\n",
            " Layer (type)                Output Shape              Param #   \n",
            "=================================================================\n",
            " conv2d (Conv2D)             (None, 299, 299, 64)      1792      \n",
            "                                                                 \n",
            " conv2d_1 (Conv2D)           (None, 299, 299, 64)      36928     \n",
            "                                                                 \n",
            " max_pooling2d (MaxPooling2D  (None, 149, 149, 64)     0         \n",
            " )                                                               \n",
            "                                                                 \n",
            " conv2d_2 (Conv2D)           (None, 149, 149, 128)     73856     \n",
            "                                                                 \n",
            " conv2d_3 (Conv2D)           (None, 149, 149, 128)     147584    \n",
            "                                                                 \n",
            " max_pooling2d_1 (MaxPooling  (None, 74, 74, 128)      0         \n",
            " 2D)                                                             \n",
            "                                                                 \n",
            " conv2d_4 (Conv2D)           (None, 74, 74, 256)       295168    \n",
            "                                                                 \n",
            " conv2d_5 (Conv2D)           (None, 74, 74, 256)       590080    \n",
            "                                                                 \n",
            " conv2d_6 (Conv2D)           (None, 74, 74, 256)       590080    \n",
            "                                                                 \n",
            " max_pooling2d_2 (MaxPooling  (None, 37, 37, 256)      0         \n",
            " 2D)                                                             \n",
            "                                                                 \n",
            " conv2d_7 (Conv2D)           (None, 37, 37, 512)       1180160   \n",
            "                                                                 \n",
            " conv2d_8 (Conv2D)           (None, 37, 37, 512)       2359808   \n",
            "                                                                 \n",
            " conv2d_9 (Conv2D)           (None, 37, 37, 512)       2359808   \n",
            "                                                                 \n",
            " max_pooling2d_3 (MaxPooling  (None, 18, 18, 512)      0         \n",
            " 2D)                                                             \n",
            "                                                                 \n",
            " conv2d_10 (Conv2D)          (None, 18, 18, 512)       2359808   \n",
            "                                                                 \n",
            " conv2d_11 (Conv2D)          (None, 18, 18, 512)       2359808   \n",
            "                                                                 \n",
            " conv2d_12 (Conv2D)          (None, 18, 18, 512)       2359808   \n",
            "                                                                 \n",
            " max_pooling2d_4 (MaxPooling  (None, 9, 9, 512)        0         \n",
            " 2D)                                                             \n",
            "                                                                 \n",
            " flatten (Flatten)           (None, 41472)             0         \n",
            "                                                                 \n",
            " dense (Dense)               (None, 4096)              169873408 \n",
            "                                                                 \n",
            " dense_1 (Dense)             (None, 4096)              16781312  \n",
            "                                                                 \n",
            " dense_2 (Dense)             (None, 45)                184365    \n",
            "                                                                 \n",
            "=================================================================\n",
            "Total params: 201,553,773\n",
            "Trainable params: 201,553,773\n",
            "Non-trainable params: 0\n",
            "_________________________________________________________________\n"
          ]
        }
      ],
      "source": [
        "model.summary()\n"
      ]
    },
    {
      "cell_type": "code",
      "source": [
        "layer = model.layers #Conv layers at 1, 3, 6, 8, 11, 13, 15\n",
        "filters, biases = model.layers[1].get_weights()\n",
        "print(layer[1].name, filters.shape)\n",
        "\n",
        "# plot filters\n",
        "fig1=plt.figure(figsize=(8, 12))\n",
        "columns = 8\n",
        "rows = 8\n",
        "n_filters = columns * rows\n",
        "for i in range(1, n_filters +1):\n",
        "    f = filters[:, :, :, i-1]\n",
        "    fig1 =plt.subplot(rows, columns, i)\n",
        "    fig1.set_xticks([])  #Turn off axis\n",
        "    fig1.set_yticks([])\n",
        "    plt.imshow(f[:, :, 0], cmap='gray') #Show only the filters from 0th channel (R)\n",
        "    #ix += 1\n",
        "plt.show()  "
      ],
      "metadata": {
        "colab": {
          "base_uri": "https://localhost:8080/",
          "height": 683
        },
        "id": "h_iX7hVDiRBp",
        "outputId": "3c5669e2-49e5-49df-b01b-49ecbce0aaaa"
      },
      "execution_count": 16,
      "outputs": [
        {
          "output_type": "stream",
          "name": "stdout",
          "text": [
            "conv2d_1 (3, 3, 64, 64)\n"
          ]
        },
        {
          "output_type": "display_data",
          "data": {
            "text/plain": [
              "<Figure size 576x864 with 64 Axes>"
            ],
            "image/png": "[encoded data removed]"
          },
          "metadata": {}
        }
      ]
    },
    {
      "cell_type": "code",
      "execution_count": 17,
      "metadata": {
        "id": "moylH4EzX8VJ"
      },
      "outputs": [],
      "source": [
        "tf.keras.backend.clear_session()\n"
      ]
    },
    {
      "cell_type": "code",
      "execution_count": 18,
      "metadata": {
        "colab": {
          "base_uri": "https://localhost:8080/",
          "height": 1000
        },
        "id": "8cxQ6zRGCDiJ",
        "outputId": "de56d06d-6394-47ce-c7c8-b97f57e33b0e"
      },
      "outputs": [
        {
          "output_type": "stream",
          "name": "stdout",
          "text": [
            "Epoch 1/1000\n",
            "1000/1000 [==============================] - 177s 169ms/step - loss: 3.4510 - accuracy: 0.0945 - tp: 4897.0000 - tn: 259238.0000 - fp: 92146.0000 - fn: 3089.0000 - precision: 0.0665 - sensitivity: 0.7812 - specificity: 0.8393 - recall: 0.6132 - FBetaScore: 0.0338 - val_loss: 3.3634 - val_accuracy: 0.1000 - val_tp: 258.0000 - val_tn: 12658.0000 - val_fp: 4942.0000 - val_fn: 142.0000 - val_precision: 0.0718 - val_sensitivity: 0.8025 - val_specificity: 0.8523 - val_recall: 0.6450 - val_FBetaScore: 0.0268 - lr: 1.0000e-04\n",
            "Epoch 2/1000\n",
            "1000/1000 [==============================] - 168s 167ms/step - loss: 3.4197 - accuracy: 0.1014 - tp: 4914.0000 - tn: 262154.0000 - fp: 89230.0000 - fn: 3072.0000 - precision: 0.0687 - sensitivity: 0.7965 - specificity: 0.8450 - recall: 0.6153 - FBetaScore: 0.0296 - val_loss: 3.3769 - val_accuracy: 0.0975 - val_tp: 275.0000 - val_tn: 12275.0000 - val_fp: 5325.0000 - val_fn: 125.0000 - val_precision: 0.0739 - val_sensitivity: 0.8150 - val_specificity: 0.8527 - val_recall: 0.6875 - val_FBetaScore: 0.0286 - lr: 1.0000e-04\n",
            "Epoch 3/1000\n",
            "1000/1000 [==============================] - ETA: 0s - loss: 3.4200 - accuracy: 0.1005 - tp: 4973.0000 - tn: 260173.0000 - fp: 91519.0000 - fn: 3020.0000 - precision: 0.0694 - sensitivity: 0.8037 - specificity: 0.8460 - recall: 0.6222 - FBetaScore: 0.0297\n",
            "Epoch 3: ReduceLROnPlateau reducing learning rate to 1.9999999494757503e-05.\n",
            "1000/1000 [==============================] - 168s 167ms/step - loss: 3.4200 - accuracy: 0.1005 - tp: 4973.0000 - tn: 260173.0000 - fp: 91519.0000 - fn: 3020.0000 - precision: 0.0694 - sensitivity: 0.8037 - specificity: 0.8460 - recall: 0.6222 - FBetaScore: 0.0297 - val_loss: 3.3731 - val_accuracy: 0.1200 - val_tp: 250.0000 - val_tn: 13450.0000 - val_fp: 4150.0000 - val_fn: 150.0000 - val_precision: 0.0729 - val_sensitivity: 0.8175 - val_specificity: 0.8525 - val_recall: 0.6250 - val_FBetaScore: 0.0259 - lr: 1.0000e-04\n",
            "Epoch 4/1000\n",
            "1000/1000 [==============================] - ETA: 0s - loss: 3.4061 - accuracy: 0.1001 - tp: 4907.0000 - tn: 265331.0000 - fp: 86361.0000 - fn: 3086.0000 - precision: 0.0698 - sensitivity: 0.7996 - specificity: 0.8463 - recall: 0.6139 - FBetaScore: 0.0261\n",
            "Epoch 4: ReduceLROnPlateau reducing learning rate to 3.999999898951501e-06.\n",
            "1000/1000 [==============================] - 167s 166ms/step - loss: 3.4061 - accuracy: 0.1001 - tp: 4907.0000 - tn: 265331.0000 - fp: 86361.0000 - fn: 3086.0000 - precision: 0.0698 - sensitivity: 0.7996 - specificity: 0.8463 - recall: 0.6139 - FBetaScore: 0.0261 - val_loss: 3.4336 - val_accuracy: 0.0850 - val_tp: 239.0000 - val_tn: 13439.0000 - val_fp: 4161.0000 - val_fn: 161.0000 - val_precision: 0.0650 - val_sensitivity: 0.8000 - val_specificity: 0.8300 - val_recall: 0.5975 - val_FBetaScore: 0.0250 - lr: 2.0000e-05\n",
            "Epoch 5/1000\n",
            "1000/1000 [==============================] - 167s 166ms/step - loss: 3.4042 - accuracy: 0.1028 - tp: 4830.0000 - tn: 268368.0000 - fp: 83016.0000 - fn: 3156.0000 - precision: 0.0675 - sensitivity: 0.8083 - specificity: 0.8367 - recall: 0.6048 - FBetaScore: 0.0252 - val_loss: 3.3763 - val_accuracy: 0.1125 - val_tp: 248.0000 - val_tn: 13448.0000 - val_fp: 4152.0000 - val_fn: 152.0000 - val_precision: 0.0732 - val_sensitivity: 0.8075 - val_specificity: 0.8526 - val_recall: 0.6200 - val_FBetaScore: 0.0257 - lr: 4.0000e-06\n",
            "Epoch 6/1000\n",
            "1000/1000 [==============================] - ETA: 0s - loss: 3.4009 - accuracy: 0.1025 - tp: 4849.0000 - tn: 268618.0000 - fp: 83074.0000 - fn: 3144.0000 - precision: 0.0701 - sensitivity: 0.7918 - specificity: 0.8482 - recall: 0.6067 - FBetaScore: 0.0253\n",
            "Epoch 6: ReduceLROnPlateau reducing learning rate to 1e-06.\n",
            "1000/1000 [==============================] - 172s 171ms/step - loss: 3.4009 - accuracy: 0.1025 - tp: 4849.0000 - tn: 268618.0000 - fp: 83074.0000 - fn: 3144.0000 - precision: 0.0701 - sensitivity: 0.7918 - specificity: 0.8482 - recall: 0.6067 - FBetaScore: 0.0253 - val_loss: 3.3701 - val_accuracy: 0.1025 - val_tp: 255.0000 - val_tn: 13455.0000 - val_fp: 4145.0000 - val_fn: 145.0000 - val_precision: 0.0725 - val_sensitivity: 0.8150 - val_specificity: 0.8524 - val_recall: 0.6375 - val_FBetaScore: 0.0265 - lr: 4.0000e-06\n",
            "Epoch 7/1000\n",
            "1000/1000 [==============================] - 167s 166ms/step - loss: 3.3994 - accuracy: 0.1057 - tp: 4856.0000 - tn: 268625.0000 - fp: 83067.0000 - fn: 3137.0000 - precision: 0.0669 - sensitivity: 0.7856 - specificity: 0.8303 - recall: 0.6075 - FBetaScore: 0.0253 - val_loss: 3.3669 - val_accuracy: 0.1100 - val_tp: 248.0000 - val_tn: 13448.0000 - val_fp: 4152.0000 - val_fn: 152.0000 - val_precision: 0.0732 - val_sensitivity: 0.7875 - val_specificity: 0.8526 - val_recall: 0.6200 - val_FBetaScore: 0.0257 - lr: 1.0000e-06\n",
            "Epoch 8/1000\n",
            "1000/1000 [==============================] - 172s 171ms/step - loss: 3.3977 - accuracy: 0.1054 - tp: 4859.0000 - tn: 268397.0000 - fp: 82987.0000 - fn: 3127.0000 - precision: 0.0671 - sensitivity: 0.7854 - specificity: 0.8304 - recall: 0.6084 - FBetaScore: 0.0253 - val_loss: 3.4028 - val_accuracy: 0.0975 - val_tp: 243.0000 - val_tn: 13443.0000 - val_fp: 4157.0000 - val_fn: 157.0000 - val_precision: 0.0659 - val_sensitivity: 0.7950 - val_specificity: 0.8302 - val_recall: 0.6075 - val_FBetaScore: 0.0253 - lr: 1.0000e-06\n",
            "Epoch 9/1000\n",
            "1000/1000 [==============================] - 167s 166ms/step - loss: 3.4078 - accuracy: 0.1025 - tp: 4816.0000 - tn: 268585.0000 - fp: 83107.0000 - fn: 3177.0000 - precision: 0.0663 - sensitivity: 0.7816 - specificity: 0.8302 - recall: 0.6025 - FBetaScore: 0.0251 - val_loss: 3.3752 - val_accuracy: 0.0975 - val_tp: 249.0000 - val_tn: 13449.0000 - val_fp: 4151.0000 - val_fn: 151.0000 - val_precision: 0.0672 - val_sensitivity: 0.8125 - val_specificity: 0.8304 - val_recall: 0.6225 - val_FBetaScore: 0.0260 - lr: 1.0000e-06\n",
            "Epoch 10/1000\n",
            "1000/1000 [==============================] - 167s 166ms/step - loss: 3.4050 - accuracy: 0.1035 - tp: 4829.0000 - tn: 268598.0000 - fp: 83094.0000 - fn: 3164.0000 - precision: 0.0669 - sensitivity: 0.7822 - specificity: 0.8327 - recall: 0.6042 - FBetaScore: 0.0252 - val_loss: 3.3830 - val_accuracy: 0.1100 - val_tp: 245.0000 - val_tn: 13445.0000 - val_fp: 4155.0000 - val_fn: 155.0000 - val_precision: 0.0721 - val_sensitivity: 0.7975 - val_specificity: 0.8524 - val_recall: 0.6125 - val_FBetaScore: 0.0255 - lr: 1.0000e-06\n",
            "Epoch 11/1000\n",
            "1000/1000 [==============================] - 167s 166ms/step - loss: 3.4014 - accuracy: 0.1019 - tp: 4843.0000 - tn: 268381.0000 - fp: 83003.0000 - fn: 3143.0000 - precision: 0.0666 - sensitivity: 0.7861 - specificity: 0.8311 - recall: 0.6064 - FBetaScore: 0.0253 - val_loss: 3.4350 - val_accuracy: 0.1050 - val_tp: 229.0000 - val_tn: 13429.0000 - val_fp: 4171.0000 - val_fn: 171.0000 - val_precision: 0.0647 - val_sensitivity: 0.7650 - val_specificity: 0.8299 - val_recall: 0.5725 - val_FBetaScore: 0.0239 - lr: 1.0000e-06\n",
            "Epoch 12/1000\n",
            "1000/1000 [==============================] - 167s 166ms/step - loss: 3.4022 - accuracy: 0.1048 - tp: 4844.0000 - tn: 268613.0000 - fp: 83079.0000 - fn: 3149.0000 - precision: 0.0675 - sensitivity: 0.7858 - specificity: 0.8352 - recall: 0.6060 - FBetaScore: 0.0252 - val_loss: 3.3565 - val_accuracy: 0.1050 - val_tp: 247.0000 - val_tn: 13447.0000 - val_fp: 4153.0000 - val_fn: 153.0000 - val_precision: 0.0718 - val_sensitivity: 0.8250 - val_specificity: 0.8523 - val_recall: 0.6175 - val_FBetaScore: 0.0256 - lr: 1.0000e-06\n",
            "Epoch 13/1000\n",
            "1000/1000 [==============================] - 168s 166ms/step - loss: 3.3992 - accuracy: 0.1025 - tp: 4846.0000 - tn: 268615.0000 - fp: 83077.0000 - fn: 3147.0000 - precision: 0.0670 - sensitivity: 0.7834 - specificity: 0.8304 - recall: 0.6063 - FBetaScore: 0.0252 - val_loss: 3.4246 - val_accuracy: 0.0900 - val_tp: 231.0000 - val_tn: 13431.0000 - val_fp: 4169.0000 - val_fn: 169.0000 - val_precision: 0.0641 - val_sensitivity: 0.8000 - val_specificity: 0.8298 - val_recall: 0.5775 - val_FBetaScore: 0.0241 - lr: 1.0000e-06\n",
            "Epoch 14/1000\n",
            "1000/1000 [==============================] - 172s 171ms/step - loss: 3.3989 - accuracy: 0.1047 - tp: 4854.0000 - tn: 268623.0000 - fp: 83069.0000 - fn: 3139.0000 - precision: 0.0669 - sensitivity: 0.7844 - specificity: 0.8303 - recall: 0.6073 - FBetaScore: 0.0253 - val_loss: 3.3378 - val_accuracy: 0.0875 - val_tp: 262.0000 - val_tn: 13462.0000 - val_fp: 4138.0000 - val_fn: 138.0000 - val_precision: 0.0768 - val_sensitivity: 0.8075 - val_specificity: 0.8531 - val_recall: 0.6550 - val_FBetaScore: 0.0272 - lr: 1.0000e-06\n",
            "Epoch 15/1000\n",
            "1000/1000 [==============================] - 166s 166ms/step - loss: 3.4021 - accuracy: 0.1044 - tp: 4838.0000 - tn: 268376.0000 - fp: 83008.0000 - fn: 3148.0000 - precision: 0.0667 - sensitivity: 0.7851 - specificity: 0.8303 - recall: 0.6058 - FBetaScore: 0.0252 - val_loss: 3.3223 - val_accuracy: 0.1250 - val_tp: 254.0000 - val_tn: 13454.0000 - val_fp: 4146.0000 - val_fn: 146.0000 - val_precision: 0.0833 - val_sensitivity: 0.7950 - val_specificity: 0.8750 - val_recall: 0.6350 - val_FBetaScore: 0.0262 - lr: 1.0000e-06\n",
            "Epoch 16/1000\n",
            "1000/1000 [==============================] - 167s 166ms/step - loss: 3.3891 - accuracy: 0.1078 - tp: 4874.0000 - tn: 268643.0000 - fp: 83049.0000 - fn: 3119.0000 - precision: 0.0716 - sensitivity: 0.8112 - specificity: 0.8523 - recall: 0.6098 - FBetaScore: 0.0254 - val_loss: 3.3767 - val_accuracy: 0.1250 - val_tp: 244.0000 - val_tn: 13444.0000 - val_fp: 4156.0000 - val_fn: 156.0000 - val_precision: 0.0718 - val_sensitivity: 0.8275 - val_specificity: 0.8532 - val_recall: 0.6100 - val_FBetaScore: 0.0253 - lr: 1.0000e-06\n",
            "Epoch 17/1000\n",
            "1000/1000 [==============================] - 166s 165ms/step - loss: 3.3962 - accuracy: 0.1022 - tp: 4840.0000 - tn: 268609.0000 - fp: 83083.0000 - fn: 3153.0000 - precision: 0.0704 - sensitivity: 0.8120 - specificity: 0.8493 - recall: 0.6055 - FBetaScore: 0.0252 - val_loss: 3.4312 - val_accuracy: 0.0975 - val_tp: 230.0000 - val_tn: 13430.0000 - val_fp: 4170.0000 - val_fn: 170.0000 - val_precision: 0.0692 - val_sensitivity: 0.8000 - val_specificity: 0.8463 - val_recall: 0.5750 - val_FBetaScore: 0.0240 - lr: 1.0000e-06\n",
            "Epoch 18/1000\n",
            "1000/1000 [==============================] - 167s 166ms/step - loss: 3.3927 - accuracy: 0.1023 - tp: 4819.0000 - tn: 268357.0000 - fp: 83027.0000 - fn: 3167.0000 - precision: 0.0700 - sensitivity: 0.8133 - specificity: 0.8482 - recall: 0.6034 - FBetaScore: 0.0252 - val_loss: 3.3269 - val_accuracy: 0.1225 - val_tp: 252.0000 - val_tn: 13452.0000 - val_fp: 4148.0000 - val_fn: 148.0000 - val_precision: 0.0782 - val_sensitivity: 0.8325 - val_specificity: 0.8631 - val_recall: 0.6300 - val_FBetaScore: 0.0260 - lr: 1.0000e-06\n",
            "Epoch 19/1000\n",
            "1000/1000 [==============================] - 166s 166ms/step - loss: 3.3655 - accuracy: 0.1052 - tp: 4904.0000 - tn: 267194.0000 - fp: 84190.0000 - fn: 3082.0000 - precision: 0.0722 - sensitivity: 0.8284 - specificity: 0.8513 - recall: 0.6141 - FBetaScore: 0.0268 - val_loss: 3.3521 - val_accuracy: 0.1350 - val_tp: 252.0000 - val_tn: 13319.0000 - val_fp: 4281.0000 - val_fn: 148.0000 - val_precision: 0.0777 - val_sensitivity: 0.8125 - val_specificity: 0.8640 - val_recall: 0.6300 - val_FBetaScore: 0.0270 - lr: 1.0000e-06\n",
            "Epoch 20/1000\n",
            "1000/1000 [==============================] - 167s 166ms/step - loss: 3.3295 - accuracy: 0.1456 - tp: 4938.0000 - tn: 268175.0000 - fp: 83517.0000 - fn: 3055.0000 - precision: 0.0740 - sensitivity: 0.8325 - specificity: 0.8572 - recall: 0.6178 - FBetaScore: 0.0285 - val_loss: 3.2951 - val_accuracy: 0.1750 - val_tp: 258.0000 - val_tn: 13422.0000 - val_fp: 4178.0000 - val_fn: 142.0000 - val_precision: 0.0871 - val_sensitivity: 0.8375 - val_specificity: 0.8809 - val_recall: 0.6450 - val_FBetaScore: 0.0315 - lr: 1.0000e-06\n",
            "Epoch 21/1000\n",
            "1000/1000 [==============================] - 166s 166ms/step - loss: 3.2114 - accuracy: 0.1679 - tp: 5026.0000 - tn: 268966.0000 - fp: 82726.0000 - fn: 2967.0000 - precision: 0.0847 - sensitivity: 0.8507 - specificity: 0.8769 - recall: 0.6288 - FBetaScore: 0.0357 - val_loss: 3.0481 - val_accuracy: 0.2225 - val_tp: 277.0000 - val_tn: 13793.0000 - val_fp: 3807.0000 - val_fn: 123.0000 - val_precision: 0.1097 - val_sensitivity: 0.8975 - val_specificity: 0.9078 - val_recall: 0.6925 - val_FBetaScore: 0.0530 - lr: 1.0000e-06\n",
            "Epoch 22/1000\n",
            "1000/1000 [==============================] - ETA: 0s - loss: 3.0509 - accuracy: 0.2121 - tp: 5293.0000 - tn: 279536.0000 - fp: 72156.0000 - fn: 2700.0000 - precision: 0.0980 - sensitivity: 0.8922 - specificity: 0.8952 - recall: 0.6622 - FBetaScore: 0.0580"
          ]
        },
        {
          "output_type": "stream",
          "name": "stderr",
          "text": [
            "Process Keras_worker_ForkPoolWorker-262:\n",
            "Process Keras_worker_ForkPoolWorker-260:\n",
            "Process Keras_worker_ForkPoolWorker-264:\n",
            "Process Keras_worker_ForkPoolWorker-259:\n",
            "Process Keras_worker_ForkPoolWorker-258:\n",
            "Process Keras_worker_ForkPoolWorker-257:\n",
            "Traceback (most recent call last):\n",
            "Traceback (most recent call last):\n",
            "Traceback (most recent call last):\n",
            "Traceback (most recent call last):\n",
            "Process Keras_worker_ForkPoolWorker-261:\n",
            "  File \"/usr/lib/python3.7/multiprocessing/process.py\", line 297, in _bootstrap\n",
            "    self.run()\n",
            "  File \"/usr/lib/python3.7/multiprocessing/process.py\", line 297, in _bootstrap\n",
            "    self.run()\n",
            "  File \"/usr/lib/python3.7/multiprocessing/process.py\", line 297, in _bootstrap\n",
            "    self.run()\n",
            "  File \"/usr/lib/python3.7/multiprocessing/process.py\", line 99, in run\n",
            "    self._target(*self._args, **self._kwargs)\n",
            "Traceback (most recent call last):\n",
            "  File \"/usr/lib/python3.7/multiprocessing/process.py\", line 99, in run\n",
            "    self._target(*self._args, **self._kwargs)\n",
            "  File \"/usr/lib/python3.7/multiprocessing/pool.py\", line 121, in worker\n",
            "    result = (True, func(*args, **kwds))\n",
            "  File \"/usr/lib/python3.7/multiprocessing/process.py\", line 99, in run\n",
            "    self._target(*self._args, **self._kwargs)\n",
            "  File \"/usr/lib/python3.7/multiprocessing/process.py\", line 297, in _bootstrap\n",
            "    self.run()\n",
            "  File \"/usr/lib/python3.7/multiprocessing/pool.py\", line 110, in worker\n",
            "    task = get()\n",
            "  File \"/usr/local/lib/python3.7/dist-packages/keras/utils/data_utils.py\", line 566, in get_index\n",
            "    return _SHARED_SEQUENCES[uid][i]\n",
            "  File \"/usr/lib/python3.7/multiprocessing/process.py\", line 297, in _bootstrap\n",
            "    self.run()\n",
            "  File \"/usr/local/lib/python3.7/dist-packages/keras_preprocessing/image/iterator.py\", line 65, in __getitem__\n",
            "    return self._get_batches_of_transformed_samples(index_array)\n",
            "  File \"/usr/lib/python3.7/multiprocessing/process.py\", line 99, in run\n",
            "    self._target(*self._args, **self._kwargs)\n",
            "  File \"/usr/lib/python3.7/multiprocessing/pool.py\", line 110, in worker\n",
            "    task = get()\n",
            "Process Keras_worker_ForkPoolWorker-263:\n",
            "  File \"/usr/local/lib/python3.7/dist-packages/keras_preprocessing/image/iterator.py\", line 65, in __getitem__\n",
            "    return self._get_batches_of_transformed_samples(index_array)\n",
            "Traceback (most recent call last):\n",
            "  File \"/usr/lib/python3.7/multiprocessing/queues.py\", line 352, in get\n",
            "    res = self._reader.recv_bytes()\n",
            "  File \"/usr/lib/python3.7/multiprocessing/process.py\", line 99, in run\n",
            "    self._target(*self._args, **self._kwargs)\n",
            "  File \"/usr/lib/python3.7/multiprocessing/queues.py\", line 351, in get\n",
            "    with self._rlock:\n",
            "Traceback (most recent call last):\n",
            "  File \"/usr/lib/python3.7/multiprocessing/pool.py\", line 110, in worker\n",
            "    task = get()\n",
            "  File \"/usr/lib/python3.7/multiprocessing/connection.py\", line 216, in recv_bytes\n",
            "    buf = self._recv_bytes(maxlength)\n",
            "  File \"/usr/lib/python3.7/multiprocessing/process.py\", line 297, in _bootstrap\n",
            "    self.run()\n",
            "  File \"/usr/lib/python3.7/multiprocessing/synchronize.py\", line 95, in __enter__\n",
            "    return self._semlock.__enter__()\n",
            "  File \"/usr/local/lib/python3.7/dist-packages/keras_preprocessing/image/iterator.py\", line 238, in _get_batches_of_transformed_samples\n",
            "    x = self.image_data_generator.apply_transform(x, params)\n",
            "Traceback (most recent call last):\n",
            "  File \"/usr/lib/python3.7/multiprocessing/process.py\", line 99, in run\n",
            "    self._target(*self._args, **self._kwargs)\n",
            "  File \"/usr/lib/python3.7/multiprocessing/pool.py\", line 121, in worker\n",
            "    result = (True, func(*args, **kwds))\n",
            "  File \"/usr/local/lib/python3.7/dist-packages/keras_preprocessing/image/image_data_generator.py\", line 888, in apply_transform\n",
            "    x = apply_brightness_shift(x, transform_parameters['brightness'])\n",
            "  File \"/usr/lib/python3.7/multiprocessing/connection.py\", line 407, in _recv_bytes\n",
            "    buf = self._recv(4)\n",
            "  File \"/usr/lib/python3.7/multiprocessing/process.py\", line 297, in _bootstrap\n",
            "    self.run()\n",
            "  File \"/usr/lib/python3.7/multiprocessing/process.py\", line 297, in _bootstrap\n",
            "    self.run()\n",
            "  File \"/usr/lib/python3.7/multiprocessing/queues.py\", line 351, in get\n",
            "    with self._rlock:\n",
            "  File \"/usr/local/lib/python3.7/dist-packages/keras/utils/data_utils.py\", line 566, in get_index\n",
            "    return _SHARED_SEQUENCES[uid][i]\n",
            "  File \"/usr/local/lib/python3.7/dist-packages/keras_preprocessing/image/affine_transformations.py\", line 215, in apply_brightness_shift\n",
            "    x = array_to_img(x)\n",
            "  File \"/usr/lib/python3.7/multiprocessing/pool.py\", line 110, in worker\n",
            "    task = get()\n",
            "  File \"/usr/lib/python3.7/multiprocessing/connection.py\", line 379, in _recv\n",
            "    chunk = read(handle, remaining)\n",
            "KeyboardInterrupt\n",
            "  File \"/usr/local/lib/python3.7/dist-packages/keras_preprocessing/image/utils.py\", line 278, in array_to_img\n",
            "    return pil_image.fromarray(x.astype('uint8'), 'RGB')\n",
            "  File \"/usr/local/lib/python3.7/dist-packages/keras_preprocessing/image/iterator.py\", line 65, in __getitem__\n",
            "    return self._get_batches_of_transformed_samples(index_array)\n",
            "  File \"/usr/lib/python3.7/multiprocessing/synchronize.py\", line 95, in __enter__\n",
            "    return self._semlock.__enter__()\n",
            "  File \"/usr/lib/python3.7/multiprocessing/process.py\", line 99, in run\n",
            "    self._target(*self._args, **self._kwargs)\n",
            "KeyboardInterrupt\n",
            "  File \"/usr/lib/python3.7/multiprocessing/process.py\", line 99, in run\n",
            "    self._target(*self._args, **self._kwargs)\n",
            "KeyboardInterrupt\n",
            "  File \"/usr/lib/python3.7/multiprocessing/pool.py\", line 121, in worker\n",
            "    result = (True, func(*args, **kwds))\n",
            "  File \"/usr/lib/python3.7/multiprocessing/queues.py\", line 351, in get\n",
            "    with self._rlock:\n",
            "  File \"/usr/local/lib/python3.7/dist-packages/keras/utils/data_utils.py\", line 566, in get_index\n",
            "    return _SHARED_SEQUENCES[uid][i]\n",
            "  File \"/usr/local/lib/python3.7/dist-packages/keras_preprocessing/image/iterator.py\", line 238, in _get_batches_of_transformed_samples\n",
            "    x = self.image_data_generator.apply_transform(x, params)\n",
            "  File \"/usr/lib/python3.7/multiprocessing/pool.py\", line 121, in worker\n",
            "    result = (True, func(*args, **kwds))\n",
            "  File \"/usr/local/lib/python3.7/dist-packages/keras/utils/data_utils.py\", line 566, in get_index\n",
            "    return _SHARED_SEQUENCES[uid][i]\n",
            "  File \"/usr/lib/python3.7/multiprocessing/synchronize.py\", line 95, in __enter__\n",
            "    return self._semlock.__enter__()\n",
            "  File \"/usr/local/lib/python3.7/dist-packages/keras_preprocessing/image/image_data_generator.py\", line 874, in apply_transform\n",
            "    order=self.interpolation_order)\n",
            "  File \"/usr/local/lib/python3.7/dist-packages/keras_preprocessing/image/iterator.py\", line 230, in _get_batches_of_transformed_samples\n",
            "    interpolation=self.interpolation)\n",
            "  File \"/usr/local/lib/python3.7/dist-packages/keras_preprocessing/image/affine_transformations.py\", line 333, in apply_affine_transform\n",
            "    cval=cval) for x_channel in x]\n",
            "  File \"/usr/local/lib/python3.7/dist-packages/keras_preprocessing/image/utils.py\", line 138, in load_img\n",
            "    img = img.resize(width_height_tuple, resample)\n",
            "  File \"/usr/local/lib/python3.7/dist-packages/PIL/Image.py\", line 1886, in resize\n",
            "    self.load()\n",
            "  File \"/usr/local/lib/python3.7/dist-packages/PIL/ImageFile.py\", line 251, in load\n",
            "    n, err_code = decoder.decode(b)\n",
            "  File \"/usr/local/lib/python3.7/dist-packages/keras_preprocessing/image/iterator.py\", line 65, in __getitem__\n",
            "    return self._get_batches_of_transformed_samples(index_array)\n",
            "KeyboardInterrupt\n",
            "KeyboardInterrupt\n",
            "  File \"/usr/local/lib/python3.7/dist-packages/keras_preprocessing/image/iterator.py\", line 230, in _get_batches_of_transformed_samples\n",
            "    interpolation=self.interpolation)\n",
            "  File \"/usr/local/lib/python3.7/dist-packages/PIL/Image.py\", line 2731, in fromarray\n",
            "    obj = obj.tobytes()\n",
            "  File \"/usr/local/lib/python3.7/dist-packages/keras_preprocessing/image/affine_transformations.py\", line 333, in <listcomp>\n",
            "    cval=cval) for x_channel in x]\n",
            "  File \"/usr/local/lib/python3.7/dist-packages/scipy/ndimage/interpolation.py\", line 486, in affine_transform\n",
            "    output, order, mode, cval, None, None)\n",
            "  File \"/usr/local/lib/python3.7/dist-packages/keras_preprocessing/image/utils.py\", line 138, in load_img\n",
            "    img = img.resize(width_height_tuple, resample)\n",
            "  File \"/usr/local/lib/python3.7/dist-packages/PIL/Image.py\", line 1886, in resize\n",
            "    self.load()\n",
            "KeyboardInterrupt\n",
            "KeyboardInterrupt\n",
            "  File \"/usr/local/lib/python3.7/dist-packages/PIL/ImageFile.py\", line 251, in load\n",
            "    n, err_code = decoder.decode(b)\n",
            "KeyboardInterrupt\n"
          ]
        },
        {
          "output_type": "error",
          "ename": "KeyboardInterrupt",
          "evalue": "ignored",
          "traceback": [
            "\u001b[0;31m---------------------------------------------------------------------------\u001b[0m",
            "\u001b[0;31mKeyboardInterrupt\u001b[0m                         Traceback (most recent call last)",
            "\u001b[0;32m<ipython-input-18-3247f8975acd>\u001b[0m in \u001b[0;36m<module>\u001b[0;34m()\u001b[0m\n\u001b[0;32m----> 1\u001b[0;31m \u001b[0mget_ipython\u001b[0m\u001b[0;34m(\u001b[0m\u001b[0;34m)\u001b[0m\u001b[0;34m.\u001b[0m\u001b[0mrun_cell_magic\u001b[0m\u001b[0;34m(\u001b[0m\u001b[0;34m'time'\u001b[0m\u001b[0;34m,\u001b[0m \u001b[0;34m''\u001b[0m\u001b[0;34m,\u001b[0m \u001b[0;34m'\\nhist = model.fit(traindata,\\n                 steps_per_epoch = 1000,\\n                 epochs = 1000,\\n                 validation_data = testdata,\\n                 validation_steps = 50,\\n                 callbacks = [learning_rate,\\n                              earlystop],\\n                 use_multiprocessing = True,\\n                 workers = 4,\\n                 verbose = 1)'\u001b[0m\u001b[0;34m)\u001b[0m\u001b[0;34m\u001b[0m\u001b[0;34m\u001b[0m\u001b[0m\n\u001b[0m",
            "\u001b[0;32m/usr/local/lib/python3.7/dist-packages/IPython/core/interactiveshell.py\u001b[0m in \u001b[0;36mrun_cell_magic\u001b[0;34m(self, magic_name, line, cell)\u001b[0m\n\u001b[1;32m   2115\u001b[0m             \u001b[0mmagic_arg_s\u001b[0m \u001b[0;34m=\u001b[0m \u001b[0mself\u001b[0m\u001b[0;34m.\u001b[0m\u001b[0mvar_expand\u001b[0m\u001b[0;34m(\u001b[0m\u001b[0mline\u001b[0m\u001b[0;34m,\u001b[0m \u001b[0mstack_depth\u001b[0m\u001b[0;34m)\u001b[0m\u001b[0;34m\u001b[0m\u001b[0;34m\u001b[0m\u001b[0m\n\u001b[1;32m   2116\u001b[0m             \u001b[0;32mwith\u001b[0m \u001b[0mself\u001b[0m\u001b[0;34m.\u001b[0m\u001b[0mbuiltin_trap\u001b[0m\u001b[0;34m:\u001b[0m\u001b[0;34m\u001b[0m\u001b[0;34m\u001b[0m\u001b[0m\n\u001b[0;32m-> 2117\u001b[0;31m                 \u001b[0mresult\u001b[0m \u001b[0;34m=\u001b[0m \u001b[0mfn\u001b[0m\u001b[0;34m(\u001b[0m\u001b[0mmagic_arg_s\u001b[0m\u001b[0;34m,\u001b[0m \u001b[0mcell\u001b[0m\u001b[0;34m)\u001b[0m\u001b[0;34m\u001b[0m\u001b[0;34m\u001b[0m\u001b[0m\n\u001b[0m\u001b[1;32m   2118\u001b[0m             \u001b[0;32mreturn\u001b[0m \u001b[0mresult\u001b[0m\u001b[0;34m\u001b[0m\u001b[0;34m\u001b[0m\u001b[0m\n\u001b[1;32m   2119\u001b[0m \u001b[0;34m\u001b[0m\u001b[0m\n",
            "\u001b[0;32m<decorator-gen-53>\u001b[0m in \u001b[0;36mtime\u001b[0;34m(self, line, cell, local_ns)\u001b[0m\n",
            "\u001b[0;32m/usr/local/lib/python3.7/dist-packages/IPython/core/magic.py\u001b[0m in \u001b[0;36m<lambda>\u001b[0;34m(f, *a, **k)\u001b[0m\n\u001b[1;32m    186\u001b[0m     \u001b[0;31m# but it's overkill for just that one bit of state.\u001b[0m\u001b[0;34m\u001b[0m\u001b[0;34m\u001b[0m\u001b[0;34m\u001b[0m\u001b[0m\n\u001b[1;32m    187\u001b[0m     \u001b[0;32mdef\u001b[0m \u001b[0mmagic_deco\u001b[0m\u001b[0;34m(\u001b[0m\u001b[0marg\u001b[0m\u001b[0;34m)\u001b[0m\u001b[0;34m:\u001b[0m\u001b[0;34m\u001b[0m\u001b[0;34m\u001b[0m\u001b[0m\n\u001b[0;32m--> 188\u001b[0;31m         \u001b[0mcall\u001b[0m \u001b[0;34m=\u001b[0m \u001b[0;32mlambda\u001b[0m \u001b[0mf\u001b[0m\u001b[0;34m,\u001b[0m \u001b[0;34m*\u001b[0m\u001b[0ma\u001b[0m\u001b[0;34m,\u001b[0m \u001b[0;34m**\u001b[0m\u001b[0mk\u001b[0m\u001b[0;34m:\u001b[0m \u001b[0mf\u001b[0m\u001b[0;34m(\u001b[0m\u001b[0;34m*\u001b[0m\u001b[0ma\u001b[0m\u001b[0;34m,\u001b[0m \u001b[0;34m**\u001b[0m\u001b[0mk\u001b[0m\u001b[0;34m)\u001b[0m\u001b[0;34m\u001b[0m\u001b[0;34m\u001b[0m\u001b[0m\n\u001b[0m\u001b[1;32m    189\u001b[0m \u001b[0;34m\u001b[0m\u001b[0m\n\u001b[1;32m    190\u001b[0m         \u001b[0;32mif\u001b[0m \u001b[0mcallable\u001b[0m\u001b[0;34m(\u001b[0m\u001b[0marg\u001b[0m\u001b[0;34m)\u001b[0m\u001b[0;34m:\u001b[0m\u001b[0;34m\u001b[0m\u001b[0;34m\u001b[0m\u001b[0m\n",
            "\u001b[0;32m/usr/local/lib/python3.7/dist-packages/IPython/core/magics/execution.py\u001b[0m in \u001b[0;36mtime\u001b[0;34m(self, line, cell, local_ns)\u001b[0m\n\u001b[1;32m   1191\u001b[0m         \u001b[0;32melse\u001b[0m\u001b[0;34m:\u001b[0m\u001b[0;34m\u001b[0m\u001b[0;34m\u001b[0m\u001b[0m\n\u001b[1;32m   1192\u001b[0m             \u001b[0mst\u001b[0m \u001b[0;34m=\u001b[0m \u001b[0mclock2\u001b[0m\u001b[0;34m(\u001b[0m\u001b[0;34m)\u001b[0m\u001b[0;34m\u001b[0m\u001b[0;34m\u001b[0m\u001b[0m\n\u001b[0;32m-> 1193\u001b[0;31m             \u001b[0mexec\u001b[0m\u001b[0;34m(\u001b[0m\u001b[0mcode\u001b[0m\u001b[0;34m,\u001b[0m \u001b[0mglob\u001b[0m\u001b[0;34m,\u001b[0m \u001b[0mlocal_ns\u001b[0m\u001b[0;34m)\u001b[0m\u001b[0;34m\u001b[0m\u001b[0;34m\u001b[0m\u001b[0m\n\u001b[0m\u001b[1;32m   1194\u001b[0m             \u001b[0mend\u001b[0m \u001b[0;34m=\u001b[0m \u001b[0mclock2\u001b[0m\u001b[0;34m(\u001b[0m\u001b[0;34m)\u001b[0m\u001b[0;34m\u001b[0m\u001b[0;34m\u001b[0m\u001b[0m\n\u001b[1;32m   1195\u001b[0m             \u001b[0mout\u001b[0m \u001b[0;34m=\u001b[0m \u001b[0;32mNone\u001b[0m\u001b[0;34m\u001b[0m\u001b[0;34m\u001b[0m\u001b[0m\n",
            "\u001b[0;32m<timed exec>\u001b[0m in \u001b[0;36m<module>\u001b[0;34m()\u001b[0m\n",
            "\u001b[0;32m/usr/local/lib/python3.7/dist-packages/keras/utils/traceback_utils.py\u001b[0m in \u001b[0;36merror_handler\u001b[0;34m(*args, **kwargs)\u001b[0m\n\u001b[1;32m     62\u001b[0m     \u001b[0mfiltered_tb\u001b[0m \u001b[0;34m=\u001b[0m \u001b[0;32mNone\u001b[0m\u001b[0;34m\u001b[0m\u001b[0;34m\u001b[0m\u001b[0m\n\u001b[1;32m     63\u001b[0m     \u001b[0;32mtry\u001b[0m\u001b[0;34m:\u001b[0m\u001b[0;34m\u001b[0m\u001b[0;34m\u001b[0m\u001b[0m\n\u001b[0;32m---> 64\u001b[0;31m       \u001b[0;32mreturn\u001b[0m \u001b[0mfn\u001b[0m\u001b[0;34m(\u001b[0m\u001b[0;34m*\u001b[0m\u001b[0margs\u001b[0m\u001b[0;34m,\u001b[0m \u001b[0;34m**\u001b[0m\u001b[0mkwargs\u001b[0m\u001b[0;34m)\u001b[0m\u001b[0;34m\u001b[0m\u001b[0;34m\u001b[0m\u001b[0m\n\u001b[0m\u001b[1;32m     65\u001b[0m     \u001b[0;32mexcept\u001b[0m \u001b[0mException\u001b[0m \u001b[0;32mas\u001b[0m \u001b[0me\u001b[0m\u001b[0;34m:\u001b[0m  \u001b[0;31m# pylint: disable=broad-except\u001b[0m\u001b[0;34m\u001b[0m\u001b[0;34m\u001b[0m\u001b[0m\n\u001b[1;32m     66\u001b[0m       \u001b[0mfiltered_tb\u001b[0m \u001b[0;34m=\u001b[0m \u001b[0m_process_traceback_frames\u001b[0m\u001b[0;34m(\u001b[0m\u001b[0me\u001b[0m\u001b[0;34m.\u001b[0m\u001b[0m__traceback__\u001b[0m\u001b[0;34m)\u001b[0m\u001b[0;34m\u001b[0m\u001b[0;34m\u001b[0m\u001b[0m\n",
            "\u001b[0;32m/usr/local/lib/python3.7/dist-packages/keras/engine/training.py\u001b[0m in \u001b[0;36mfit\u001b[0;34m(self, x, y, batch_size, epochs, verbose, callbacks, validation_split, validation_data, shuffle, class_weight, sample_weight, initial_epoch, steps_per_epoch, validation_steps, validation_batch_size, validation_freq, max_queue_size, workers, use_multiprocessing)\u001b[0m\n\u001b[1;32m   1429\u001b[0m               \u001b[0muse_multiprocessing\u001b[0m\u001b[0;34m=\u001b[0m\u001b[0muse_multiprocessing\u001b[0m\u001b[0;34m,\u001b[0m\u001b[0;34m\u001b[0m\u001b[0;34m\u001b[0m\u001b[0m\n\u001b[1;32m   1430\u001b[0m               \u001b[0mreturn_dict\u001b[0m\u001b[0;34m=\u001b[0m\u001b[0;32mTrue\u001b[0m\u001b[0;34m,\u001b[0m\u001b[0;34m\u001b[0m\u001b[0;34m\u001b[0m\u001b[0m\n\u001b[0;32m-> 1431\u001b[0;31m               _use_cached_eval_dataset=True)\n\u001b[0m\u001b[1;32m   1432\u001b[0m           \u001b[0mval_logs\u001b[0m \u001b[0;34m=\u001b[0m \u001b[0;34m{\u001b[0m\u001b[0;34m'val_'\u001b[0m \u001b[0;34m+\u001b[0m \u001b[0mname\u001b[0m\u001b[0;34m:\u001b[0m \u001b[0mval\u001b[0m \u001b[0;32mfor\u001b[0m \u001b[0mname\u001b[0m\u001b[0;34m,\u001b[0m \u001b[0mval\u001b[0m \u001b[0;32min\u001b[0m \u001b[0mval_logs\u001b[0m\u001b[0;34m.\u001b[0m\u001b[0mitems\u001b[0m\u001b[0;34m(\u001b[0m\u001b[0;34m)\u001b[0m\u001b[0;34m}\u001b[0m\u001b[0;34m\u001b[0m\u001b[0;34m\u001b[0m\u001b[0m\n\u001b[1;32m   1433\u001b[0m           \u001b[0mepoch_logs\u001b[0m\u001b[0;34m.\u001b[0m\u001b[0mupdate\u001b[0m\u001b[0;34m(\u001b[0m\u001b[0mval_logs\u001b[0m\u001b[0;34m)\u001b[0m\u001b[0;34m\u001b[0m\u001b[0;34m\u001b[0m\u001b[0m\n",
            "\u001b[0;32m/usr/local/lib/python3.7/dist-packages/keras/utils/traceback_utils.py\u001b[0m in \u001b[0;36merror_handler\u001b[0;34m(*args, **kwargs)\u001b[0m\n\u001b[1;32m     62\u001b[0m     \u001b[0mfiltered_tb\u001b[0m \u001b[0;34m=\u001b[0m \u001b[0;32mNone\u001b[0m\u001b[0;34m\u001b[0m\u001b[0;34m\u001b[0m\u001b[0m\n\u001b[1;32m     63\u001b[0m     \u001b[0;32mtry\u001b[0m\u001b[0;34m:\u001b[0m\u001b[0;34m\u001b[0m\u001b[0;34m\u001b[0m\u001b[0m\n\u001b[0;32m---> 64\u001b[0;31m       \u001b[0;32mreturn\u001b[0m \u001b[0mfn\u001b[0m\u001b[0;34m(\u001b[0m\u001b[0;34m*\u001b[0m\u001b[0margs\u001b[0m\u001b[0;34m,\u001b[0m \u001b[0;34m**\u001b[0m\u001b[0mkwargs\u001b[0m\u001b[0;34m)\u001b[0m\u001b[0;34m\u001b[0m\u001b[0;34m\u001b[0m\u001b[0m\n\u001b[0m\u001b[1;32m     65\u001b[0m     \u001b[0;32mexcept\u001b[0m \u001b[0mException\u001b[0m \u001b[0;32mas\u001b[0m \u001b[0me\u001b[0m\u001b[0;34m:\u001b[0m  \u001b[0;31m# pylint: disable=broad-except\u001b[0m\u001b[0;34m\u001b[0m\u001b[0;34m\u001b[0m\u001b[0m\n\u001b[1;32m     66\u001b[0m       \u001b[0mfiltered_tb\u001b[0m \u001b[0;34m=\u001b[0m \u001b[0m_process_traceback_frames\u001b[0m\u001b[0;34m(\u001b[0m\u001b[0me\u001b[0m\u001b[0;34m.\u001b[0m\u001b[0m__traceback__\u001b[0m\u001b[0;34m)\u001b[0m\u001b[0;34m\u001b[0m\u001b[0;34m\u001b[0m\u001b[0m\n",
            "\u001b[0;32m/usr/local/lib/python3.7/dist-packages/keras/engine/training.py\u001b[0m in \u001b[0;36mevaluate\u001b[0;34m(self, x, y, batch_size, verbose, sample_weight, steps, callbacks, max_queue_size, workers, use_multiprocessing, return_dict, **kwargs)\u001b[0m\n\u001b[1;32m   1714\u001b[0m             \u001b[0;32mwith\u001b[0m \u001b[0mtf\u001b[0m\u001b[0;34m.\u001b[0m\u001b[0mprofiler\u001b[0m\u001b[0;34m.\u001b[0m\u001b[0mexperimental\u001b[0m\u001b[0;34m.\u001b[0m\u001b[0mTrace\u001b[0m\u001b[0;34m(\u001b[0m\u001b[0;34m'test'\u001b[0m\u001b[0;34m,\u001b[0m \u001b[0mstep_num\u001b[0m\u001b[0;34m=\u001b[0m\u001b[0mstep\u001b[0m\u001b[0;34m,\u001b[0m \u001b[0m_r\u001b[0m\u001b[0;34m=\u001b[0m\u001b[0;36m1\u001b[0m\u001b[0;34m)\u001b[0m\u001b[0;34m:\u001b[0m\u001b[0;34m\u001b[0m\u001b[0;34m\u001b[0m\u001b[0m\n\u001b[1;32m   1715\u001b[0m               \u001b[0mcallbacks\u001b[0m\u001b[0;34m.\u001b[0m\u001b[0mon_test_batch_begin\u001b[0m\u001b[0;34m(\u001b[0m\u001b[0mstep\u001b[0m\u001b[0;34m)\u001b[0m\u001b[0;34m\u001b[0m\u001b[0;34m\u001b[0m\u001b[0m\n\u001b[0;32m-> 1716\u001b[0;31m               \u001b[0mtmp_logs\u001b[0m \u001b[0;34m=\u001b[0m \u001b[0mself\u001b[0m\u001b[0;34m.\u001b[0m\u001b[0mtest_function\u001b[0m\u001b[0;34m(\u001b[0m\u001b[0miterator\u001b[0m\u001b[0;34m)\u001b[0m\u001b[0;34m\u001b[0m\u001b[0;34m\u001b[0m\u001b[0m\n\u001b[0m\u001b[1;32m   1717\u001b[0m               \u001b[0;32mif\u001b[0m \u001b[0mdata_handler\u001b[0m\u001b[0;34m.\u001b[0m\u001b[0mshould_sync\u001b[0m\u001b[0;34m:\u001b[0m\u001b[0;34m\u001b[0m\u001b[0;34m\u001b[0m\u001b[0m\n\u001b[1;32m   1718\u001b[0m                 \u001b[0mcontext\u001b[0m\u001b[0;34m.\u001b[0m\u001b[0masync_wait\u001b[0m\u001b[0;34m(\u001b[0m\u001b[0;34m)\u001b[0m\u001b[0;34m\u001b[0m\u001b[0;34m\u001b[0m\u001b[0m\n",
            "\u001b[0;32m/usr/local/lib/python3.7/dist-packages/tensorflow/python/util/traceback_utils.py\u001b[0m in \u001b[0;36merror_handler\u001b[0;34m(*args, **kwargs)\u001b[0m\n\u001b[1;32m    148\u001b[0m     \u001b[0mfiltered_tb\u001b[0m \u001b[0;34m=\u001b[0m \u001b[0;32mNone\u001b[0m\u001b[0;34m\u001b[0m\u001b[0;34m\u001b[0m\u001b[0m\n\u001b[1;32m    149\u001b[0m     \u001b[0;32mtry\u001b[0m\u001b[0;34m:\u001b[0m\u001b[0;34m\u001b[0m\u001b[0;34m\u001b[0m\u001b[0m\n\u001b[0;32m--> 150\u001b[0;31m       \u001b[0;32mreturn\u001b[0m \u001b[0mfn\u001b[0m\u001b[0;34m(\u001b[0m\u001b[0;34m*\u001b[0m\u001b[0margs\u001b[0m\u001b[0;34m,\u001b[0m \u001b[0;34m**\u001b[0m\u001b[0mkwargs\u001b[0m\u001b[0;34m)\u001b[0m\u001b[0;34m\u001b[0m\u001b[0;34m\u001b[0m\u001b[0m\n\u001b[0m\u001b[1;32m    151\u001b[0m     \u001b[0;32mexcept\u001b[0m \u001b[0mException\u001b[0m \u001b[0;32mas\u001b[0m \u001b[0me\u001b[0m\u001b[0;34m:\u001b[0m\u001b[0;34m\u001b[0m\u001b[0;34m\u001b[0m\u001b[0m\n\u001b[1;32m    152\u001b[0m       \u001b[0mfiltered_tb\u001b[0m \u001b[0;34m=\u001b[0m \u001b[0m_process_traceback_frames\u001b[0m\u001b[0;34m(\u001b[0m\u001b[0me\u001b[0m\u001b[0;34m.\u001b[0m\u001b[0m__traceback__\u001b[0m\u001b[0;34m)\u001b[0m\u001b[0;34m\u001b[0m\u001b[0;34m\u001b[0m\u001b[0m\n",
            "\u001b[0;32m/usr/local/lib/python3.7/dist-packages/tensorflow/python/eager/def_function.py\u001b[0m in \u001b[0;36m__call__\u001b[0;34m(self, *args, **kwds)\u001b[0m\n\u001b[1;32m    913\u001b[0m \u001b[0;34m\u001b[0m\u001b[0m\n\u001b[1;32m    914\u001b[0m       \u001b[0;32mwith\u001b[0m \u001b[0mOptionalXlaContext\u001b[0m\u001b[0;34m(\u001b[0m\u001b[0mself\u001b[0m\u001b[0;34m.\u001b[0m\u001b[0m_jit_compile\u001b[0m\u001b[0;34m)\u001b[0m\u001b[0;34m:\u001b[0m\u001b[0;34m\u001b[0m\u001b[0;34m\u001b[0m\u001b[0m\n\u001b[0;32m--> 915\u001b[0;31m         \u001b[0mresult\u001b[0m \u001b[0;34m=\u001b[0m \u001b[0mself\u001b[0m\u001b[0;34m.\u001b[0m\u001b[0m_call\u001b[0m\u001b[0;34m(\u001b[0m\u001b[0;34m*\u001b[0m\u001b[0margs\u001b[0m\u001b[0;34m,\u001b[0m \u001b[0;34m**\u001b[0m\u001b[0mkwds\u001b[0m\u001b[0;34m)\u001b[0m\u001b[0;34m\u001b[0m\u001b[0;34m\u001b[0m\u001b[0m\n\u001b[0m\u001b[1;32m    916\u001b[0m \u001b[0;34m\u001b[0m\u001b[0m\n\u001b[1;32m    917\u001b[0m       \u001b[0mnew_tracing_count\u001b[0m \u001b[0;34m=\u001b[0m \u001b[0mself\u001b[0m\u001b[0;34m.\u001b[0m\u001b[0mexperimental_get_tracing_count\u001b[0m\u001b[0;34m(\u001b[0m\u001b[0;34m)\u001b[0m\u001b[0;34m\u001b[0m\u001b[0;34m\u001b[0m\u001b[0m\n",
            "\u001b[0;32m/usr/local/lib/python3.7/dist-packages/tensorflow/python/eager/def_function.py\u001b[0m in \u001b[0;36m_call\u001b[0;34m(self, *args, **kwds)\u001b[0m\n\u001b[1;32m    952\u001b[0m       \u001b[0;31m# In this case we have not created variables on the first call. So we can\u001b[0m\u001b[0;34m\u001b[0m\u001b[0;34m\u001b[0m\u001b[0;34m\u001b[0m\u001b[0m\n\u001b[1;32m    953\u001b[0m       \u001b[0;31m# run the first trace but we should fail if variables are created.\u001b[0m\u001b[0;34m\u001b[0m\u001b[0;34m\u001b[0m\u001b[0;34m\u001b[0m\u001b[0m\n\u001b[0;32m--> 954\u001b[0;31m       \u001b[0mresults\u001b[0m \u001b[0;34m=\u001b[0m \u001b[0mself\u001b[0m\u001b[0;34m.\u001b[0m\u001b[0m_stateful_fn\u001b[0m\u001b[0;34m(\u001b[0m\u001b[0;34m*\u001b[0m\u001b[0margs\u001b[0m\u001b[0;34m,\u001b[0m \u001b[0;34m**\u001b[0m\u001b[0mkwds\u001b[0m\u001b[0;34m)\u001b[0m\u001b[0;34m\u001b[0m\u001b[0;34m\u001b[0m\u001b[0m\n\u001b[0m\u001b[1;32m    955\u001b[0m       \u001b[0;32mif\u001b[0m \u001b[0mself\u001b[0m\u001b[0;34m.\u001b[0m\u001b[0m_created_variables\u001b[0m \u001b[0;32mand\u001b[0m \u001b[0;32mnot\u001b[0m \u001b[0mALLOW_DYNAMIC_VARIABLE_CREATION\u001b[0m\u001b[0;34m:\u001b[0m\u001b[0;34m\u001b[0m\u001b[0;34m\u001b[0m\u001b[0m\n\u001b[1;32m    956\u001b[0m         raise ValueError(\"Creating variables on a non-first call to a function\"\n",
            "\u001b[0;32m/usr/local/lib/python3.7/dist-packages/tensorflow/python/eager/function.py\u001b[0m in \u001b[0;36m__call__\u001b[0;34m(self, *args, **kwargs)\u001b[0m\n\u001b[1;32m   2955\u001b[0m        filtered_flat_args) = self._maybe_define_function(args, kwargs)\n\u001b[1;32m   2956\u001b[0m     return graph_function._call_flat(\n\u001b[0;32m-> 2957\u001b[0;31m         filtered_flat_args, captured_inputs=graph_function.captured_inputs)  # pylint: disable=protected-access\n\u001b[0m\u001b[1;32m   2958\u001b[0m \u001b[0;34m\u001b[0m\u001b[0m\n\u001b[1;32m   2959\u001b[0m   \u001b[0;34m@\u001b[0m\u001b[0mproperty\u001b[0m\u001b[0;34m\u001b[0m\u001b[0;34m\u001b[0m\u001b[0m\n",
            "\u001b[0;32m/usr/local/lib/python3.7/dist-packages/tensorflow/python/eager/function.py\u001b[0m in \u001b[0;36m_call_flat\u001b[0;34m(self, args, captured_inputs, cancellation_manager)\u001b[0m\n\u001b[1;32m   1852\u001b[0m       \u001b[0;31m# No tape is watching; skip to running the function.\u001b[0m\u001b[0;34m\u001b[0m\u001b[0;34m\u001b[0m\u001b[0;34m\u001b[0m\u001b[0m\n\u001b[1;32m   1853\u001b[0m       return self._build_call_outputs(self._inference_function.call(\n\u001b[0;32m-> 1854\u001b[0;31m           ctx, args, cancellation_manager=cancellation_manager))\n\u001b[0m\u001b[1;32m   1855\u001b[0m     forward_backward = self._select_forward_and_backward_functions(\n\u001b[1;32m   1856\u001b[0m         \u001b[0margs\u001b[0m\u001b[0;34m,\u001b[0m\u001b[0;34m\u001b[0m\u001b[0;34m\u001b[0m\u001b[0m\n",
            "\u001b[0;32m/usr/local/lib/python3.7/dist-packages/tensorflow/python/eager/function.py\u001b[0m in \u001b[0;36mcall\u001b[0;34m(self, ctx, args, cancellation_manager)\u001b[0m\n\u001b[1;32m    502\u001b[0m               \u001b[0minputs\u001b[0m\u001b[0;34m=\u001b[0m\u001b[0margs\u001b[0m\u001b[0;34m,\u001b[0m\u001b[0;34m\u001b[0m\u001b[0;34m\u001b[0m\u001b[0m\n\u001b[1;32m    503\u001b[0m               \u001b[0mattrs\u001b[0m\u001b[0;34m=\u001b[0m\u001b[0mattrs\u001b[0m\u001b[0;34m,\u001b[0m\u001b[0;34m\u001b[0m\u001b[0;34m\u001b[0m\u001b[0m\n\u001b[0;32m--> 504\u001b[0;31m               ctx=ctx)\n\u001b[0m\u001b[1;32m    505\u001b[0m         \u001b[0;32melse\u001b[0m\u001b[0;34m:\u001b[0m\u001b[0;34m\u001b[0m\u001b[0;34m\u001b[0m\u001b[0m\n\u001b[1;32m    506\u001b[0m           outputs = execute.execute_with_cancellation(\n",
            "\u001b[0;32m/usr/local/lib/python3.7/dist-packages/tensorflow/python/eager/execute.py\u001b[0m in \u001b[0;36mquick_execute\u001b[0;34m(op_name, num_outputs, inputs, attrs, ctx, name)\u001b[0m\n\u001b[1;32m     53\u001b[0m     \u001b[0mctx\u001b[0m\u001b[0;34m.\u001b[0m\u001b[0mensure_initialized\u001b[0m\u001b[0;34m(\u001b[0m\u001b[0;34m)\u001b[0m\u001b[0;34m\u001b[0m\u001b[0;34m\u001b[0m\u001b[0m\n\u001b[1;32m     54\u001b[0m     tensors = pywrap_tfe.TFE_Py_Execute(ctx._handle, device_name, op_name,\n\u001b[0;32m---> 55\u001b[0;31m                                         inputs, attrs, num_outputs)\n\u001b[0m\u001b[1;32m     56\u001b[0m   \u001b[0;32mexcept\u001b[0m \u001b[0mcore\u001b[0m\u001b[0;34m.\u001b[0m\u001b[0m_NotOkStatusException\u001b[0m \u001b[0;32mas\u001b[0m \u001b[0me\u001b[0m\u001b[0;34m:\u001b[0m\u001b[0;34m\u001b[0m\u001b[0;34m\u001b[0m\u001b[0m\n\u001b[1;32m     57\u001b[0m     \u001b[0;32mif\u001b[0m \u001b[0mname\u001b[0m \u001b[0;32mis\u001b[0m \u001b[0;32mnot\u001b[0m \u001b[0;32mNone\u001b[0m\u001b[0;34m:\u001b[0m\u001b[0;34m\u001b[0m\u001b[0;34m\u001b[0m\u001b[0m\n",
            "\u001b[0;31mKeyboardInterrupt\u001b[0m: "
          ]
        }
      ],
      "source": [
        "%%time\n",
        "\n",
        "hist = model.fit(traindata,\n",
        "                 steps_per_epoch = 1000,\n",
        "                 epochs = 1000,\n",
        "                 validation_data = testdata,\n",
        "                 validation_steps = 50,\n",
        "                 callbacks = [learning_rate,\n",
        "                              earlystop],\n",
        "                 use_multiprocessing = True,\n",
        "                 workers = 4,\n",
        "                 verbose = 1)\n"
      ]
    },
    {
      "cell_type": "code",
      "execution_count": null,
      "metadata": {
        "id": "TwyQOmiGWdMa"
      },
      "outputs": [],
      "source": [
        "camadas = dict([(layer.name, layer) for layer in model.layers])\n",
        "\n",
        "#for i in list(camadas):\n",
        "#  print(i)\n",
        "\n",
        "print(f'Nº de camadas: {len(camadas)}')\n"
      ]
    },
    {
      "cell_type": "code",
      "execution_count": null,
      "metadata": {
        "id": "T_WhYyZBECtm"
      },
      "outputs": [],
      "source": [
        "print(hist.history)\n"
      ]
    },
    {
      "cell_type": "code",
      "execution_count": null,
      "metadata": {
        "id": "hQKOMi24DyFS"
      },
      "outputs": [],
      "source": [
        "# Métricas processadas durante o treinamento\n",
        "\n",
        "acc = hist.history['accuracy']\n",
        "loss =  hist.history['loss']\n",
        "fp = hist.history['fp']\n",
        "fpv = hist.history['val_fp']\n",
        "fn = hist.history['fn']\n",
        "fnv = hist.history['val_fn']\n",
        "tp = hist.history['tp']\n",
        "tpv = hist.history['val_tp']\n",
        "tn = hist.history['tn']\n",
        "tnv = hist.history['val_tn']\n",
        "fb = hist.history['FBetaScore'][-1]\n",
        "FP = hist.history['fp'][-1]\n",
        "FN = hist.history['fn'][-1]\n",
        "TP = hist.history['tp'][-1]\n",
        "TN = hist.history['tn'][-1]\n",
        "LOSS = hist.history['loss'][-1]\n",
        "LOSSV = hist.history['val_loss'][-1]\n",
        "ACC = hist.history['accuracy'][-1]\n",
        "ACCV = hist.history['val_accuracy'][-1]\n",
        "PRE = hist.history['precision'][-1]\n",
        "PREV = hist.history['val_precision'][-1]\n",
        "REC = hist.history['recall'][-1]\n",
        "RECV = hist.history['val_recall'][-1]\n",
        "LR = hist.history['lr'][-1]\n"
      ]
    },
    {
      "cell_type": "code",
      "source": [
        "# Métricas processadas após o final do treinamento\n",
        "\n",
        "TPR = TP /(TP + FN) # Sensitivity, hit rate, recall, or true positive rate\n",
        "TNR = TN /(TN + FP) # Specificity or true negative rate\n",
        "PPV = TP /(TP + FP) # Precision or positive predictive value\n",
        "NPV = TN /(TN + FN) # Negative predictive value\n",
        "FPR = FP /(FP + TN) # Fall out or false positive rate\n",
        "FNR = FN /(TP + FN) # False negative rate\n",
        "FDR = FP /(TP + FP) # False discovery rate\n",
        "\n",
        "OACC = (TP + TN) /(TP + FP + FN + TN) # Overall accuracy\n",
        "ACCCM = (TP + TN) / (TP + TN + FP + FN) # Confusion matrix accuracy\n",
        "FM = (2 * PRE * REC) / (PRE + REC) # F-measure\n",
        "F1S = 2*((PRE * REC) / (PRE + REC)) # F1-score\n",
        "F1S2 = 2 * TP / (2 * TP + FP + FN) # F1-score alternative method\n",
        "\n",
        "MCC = (TP * TN - FP * FN) / (sqrt((TP + FP) * (TP + FN) * (TN + FP) * (TN + FN))) # Matthews Correlation Coeficient\n"
      ],
      "metadata": {
        "id": "SBOXzb_mvgP5"
      },
      "execution_count": null,
      "outputs": []
    },
    {
      "cell_type": "code",
      "execution_count": null,
      "metadata": {
        "id": "2S73BuwID1EI"
      },
      "outputs": [],
      "source": [
        "print(f'Verdadeiros Positivos: {tp}')\n",
        "print(f'Falsos Positivos: {fp}')\n",
        "print(f'Verdadeiros Negativos: {tn}')\n",
        "print(f'Falsos Negativos: {fn}')\n",
        "\n",
        "print('--------------------')\n",
        "print(\"Matriz de Confusão\")\n",
        "print(f\"[{TP}] [{FP}]\")\n",
        "print(f\"[{FN}] [{TN}]\")\n",
        "print('--------------------')\n",
        "\n",
        "print(f'Acurácia da Matriz de Confusão: {round(ACCCM, 2)*100-2}%')\n"
      ]
    },
    {
      "cell_type": "code",
      "execution_count": null,
      "metadata": {
        "id": "-XJYHj3PBw6W"
      },
      "outputs": [],
      "source": [
        "# Média com base nas últimas 10 épocas de processameto\n",
        "\n",
        "accU10 = mean(acc[-10])\n",
        "tpU10 = mean(tp[-10])\n",
        "fpU10 = mean(fp[-10])\n",
        "tnU10 = mean(tn[-10])\n",
        "fnU10 = mean(fn[-10])\n",
        "\n",
        "print(f'Verdadeiros Positivos (últimas 10 épocas de processameto): {tpU10}')\n",
        "print(f'Falsos Positivos (últimas 10 épocas de processameto): {fpU10}')\n",
        "print(f'Verdadeiros Negativos (últimas 10 épocas de processameto): {tnU10}')\n",
        "print(f'Falsos Negativos (últimas 10 épocas de processameto): {fnU10}')\n"
      ]
    },
    {
      "cell_type": "code",
      "source": [
        "print('--------------------')\n",
        "print(\"Matriz de Confusão\")\n",
        "print('*Média últimas 10 épocas de processamento')\n",
        "print(f\"[{TP}] [{FP}]\")\n",
        "print(f\"[{FN}] [{TN}]\")\n",
        "print('--------------------')\n",
        "\n",
        "print(f'Acurácia da Matriz de Confusão: {round(accU10, 2)*100-2}%')"
      ],
      "metadata": {
        "id": "DM0wF55hHJp4"
      },
      "execution_count": null,
      "outputs": []
    },
    {
      "cell_type": "code",
      "source": [
        "plt.rcParams['figure.figsize'] = (18.0, 6.0)\n",
        "plt.plot(acc, '-o')\n",
        "plt.legend(['Modelo'], loc = 'lower right', fontsize = 'xx-large')\n",
        "plt.xlabel('Epocas de processamento', fontsize=16)\n",
        "plt.ylabel('Acuracia', fontsize=16)\n",
        "plt.title('Acuracia', fontsize=18)\n",
        "plt.show()"
      ],
      "metadata": {
        "id": "ezRKV2fp0Gtk"
      },
      "execution_count": null,
      "outputs": []
    },
    {
      "cell_type": "code",
      "source": [
        "plt.rcParams['figure.figsize'] = (18.0, 6.0)\n",
        "plt.plot(fp, '-o')\n",
        "plt.legend(['Modelo'], loc = 'lower right', fontsize = 'xx-large')\n",
        "plt.xlabel('Epocas de processamento', fontsize=16)\n",
        "plt.ylabel('Falsos Positivos', fontsize=16)\n",
        "plt.title('Falsos Positivos', fontsize=18)\n",
        "plt.show()"
      ],
      "metadata": {
        "id": "Au2Nv6TC0Gtl"
      },
      "execution_count": null,
      "outputs": []
    },
    {
      "cell_type": "code",
      "source": [
        "plt.rcParams['figure.figsize'] = (18.0, 6.0)\n",
        "plt.plot(fn, '-o')\n",
        "plt.legend(['Modelo '], loc = 'lower right', fontsize = 'xx-large')\n",
        "plt.xlabel('Epocas de processamento', fontsize=16)\n",
        "plt.ylabel('Falsos Negativos', fontsize=16)\n",
        "plt.title('Falsos Negativos', fontsize=18)\n",
        "plt.show()"
      ],
      "metadata": {
        "id": "03MxsVXZ0Gtm"
      },
      "execution_count": null,
      "outputs": []
    },
    {
      "cell_type": "code",
      "source": [
        "plt.rcParams['figure.figsize'] = (18.0, 6.0)\n",
        "plt.plot(tp, '-o')\n",
        "plt.legend(['Modelo '], loc = 'lower right', fontsize = 'xx-large')\n",
        "plt.xlabel('Epocas de processamento', fontsize=16)\n",
        "plt.ylabel('Verdadeiros Positivos', fontsize=16)\n",
        "plt.title('Verdadeiros Positivos', fontsize=18)\n",
        "plt.show()"
      ],
      "metadata": {
        "id": "J_F2OcF40Gtm"
      },
      "execution_count": null,
      "outputs": []
    },
    {
      "cell_type": "code",
      "source": [
        "plt.rcParams['figure.figsize'] = (18.0, 6.0)\n",
        "plt.plot(fp, '-o')\n",
        "plt.legend(['Modelo '], loc = 'lower right', fontsize = 'xx-large')\n",
        "plt.xlabel('Epocas de processamento', fontsize=16)\n",
        "plt.ylabel('Verdadeiros Negativos', fontsize=16)\n",
        "plt.title('Verdadeiros Negativos', fontsize=18)\n",
        "plt.show()"
      ],
      "metadata": {
        "id": "uqRe6p5d0Gtn"
      },
      "execution_count": null,
      "outputs": []
    },
    {
      "cell_type": "code",
      "source": [
        "plt.rcParams['figure.figsize'] = (18.0, 6.0)\n",
        "plt.plot(loss, '-o')\n",
        "plt.legend(['Modelo'], loc = 'lower right', fontsize = 'xx-large')\n",
        "plt.xlabel('Epocas de processamento', fontsize=16)\n",
        "plt.ylabel('Taxa de Perda', fontsize=16)\n",
        "plt.title('Taxa de Perda', fontsize=18)\n",
        "plt.show()"
      ],
      "metadata": {
        "id": "4A6bcZh60Gtn"
      },
      "execution_count": null,
      "outputs": []
    },
    {
      "cell_type": "code",
      "source": [
        "plt.rcParams['figure.figsize'] = (18.0, 6.0)\n",
        "plt.plot(pre, '-o')\n",
        "plt.legend(['Modelo'], loc = 'lower right', fontsize = 'xx-large')\n",
        "plt.xlabel('Epocas de processamento', fontsize=16)\n",
        "plt.ylabel('Precisão', fontsize=16)\n",
        "plt.title('Precisão', fontsize=18)\n",
        "plt.show()"
      ],
      "metadata": {
        "id": "uZvVgG-f0Gto"
      },
      "execution_count": null,
      "outputs": []
    },
    {
      "cell_type": "code",
      "source": [
        "plt.rcParams['figure.figsize'] = (18.0, 6.0)\n",
        "plt.plot(rec, '-o')\n",
        "plt.legend(['Modelo'], loc = 'lower right', fontsize = 'xx-large')\n",
        "plt.xlabel('Epocas de processamento', fontsize=16)\n",
        "plt.ylabel('Revocação', fontsize=16)\n",
        "plt.title('Revocação', fontsize=18)\n",
        "plt.show()"
      ],
      "metadata": {
        "id": "u3zj9UFj0Gto"
      },
      "execution_count": null,
      "outputs": []
    },
    {
      "cell_type": "code",
      "source": [
        "plt.rcParams['figure.figsize'] = (18.0, 6.0)\n",
        "plt.plot(auc, '-o')\n",
        "plt.legend(['Modelo '], loc = 'lower right', fontsize = 'xx-large')\n",
        "plt.xlabel('Epocas de processamento', fontsize=16)\n",
        "plt.ylabel('AUC', fontsize=16)\n",
        "plt.title('AUC', fontsize=18)\n",
        "plt.show()"
      ],
      "metadata": {
        "id": "bqAZ8YTw0Gtp"
      },
      "execution_count": null,
      "outputs": []
    },
    {
      "cell_type": "code",
      "source": [
        "plt.rcParams['figure.figsize'] = (18.0, 6.0)\n",
        "plt.plot(lr, '-o')\n",
        "plt.legend(['Modelo'], loc = 'lower right', fontsize = 'xx-large')\n",
        "plt.xlabel('Epocas de processamento', fontsize=16)\n",
        "plt.ylabel('Taxa de Aprendizado', fontsize=16)\n",
        "plt.title('Taxa de Aprendizado', fontsize=18)\n",
        "plt.show()"
      ],
      "metadata": {
        "id": "Lz15PYHm0Gtp"
      },
      "execution_count": null,
      "outputs": []
    },
    {
      "cell_type": "code",
      "source": [
        "data = {'Verdadeiros Positivos':TP,\n",
        "        'Verdadeiros Negativos':TN,\n",
        "        'Falsos Positivos':FP,\n",
        "        'Falsos Netagivos':FN}\n",
        "\n",
        "modelos = list(data.keys())\n",
        "valores = list(data.values())\n",
        "  \n",
        "fig = plt.figure(figsize = (14, 6))\n",
        "plt.bar(modelos, valores, width = 0.4)\n",
        "plt.xlabel(\"Métricas\", fontsize=16)\n",
        "plt.ylabel(\"Número\", fontsize=16)\n",
        "plt.title('Número de Positivos e Negativos', fontsize=18)\n",
        "plt.show()\n"
      ],
      "metadata": {
        "id": "lCoEaC1r0Gtp"
      },
      "execution_count": null,
      "outputs": []
    },
    {
      "cell_type": "code",
      "source": [
        "data = {'Verdadeiros Positivos':TPR,\n",
        "        'Verdadeiros Negativos':TNR,\n",
        "        'Falsos Positivos':FPR,\n",
        "        'Falsos Netagivos':FNR}\n",
        "\n",
        "modelos = list(data.keys())\n",
        "valores = list(data.values())\n",
        "  \n",
        "fig = plt.figure(figsize = (14, 6))\n",
        "plt.bar(modelos, valores, width = 0.4)\n",
        "plt.xlabel(\"Métricas\", fontsize=16)\n",
        "plt.ylabel(\"Percentual\", fontsize=16)\n",
        "plt.title('Taxa de Positivos e Negativos em %', fontsize=18)\n",
        "plt.show()\n"
      ],
      "metadata": {
        "id": "cUvMrqZH0Gtq"
      },
      "execution_count": null,
      "outputs": []
    },
    {
      "cell_type": "code",
      "source": [
        "data = {'Acurácia':ACC,\n",
        "        'Precisão':PRE,\n",
        "        'Recall':REC}\n",
        "\n",
        "modelos = list(data.keys())\n",
        "valores = list(data.values())\n",
        "  \n",
        "fig = plt.figure(figsize = (10, 6))\n",
        "plt.bar(modelos, valores, width = 0.4)\n",
        "plt.xlabel(\"Métricas (Valores retornados pela última época de processamento)\", fontsize=16)\n",
        "plt.ylabel(\"Percentual\", fontsize=16)\n",
        "plt.title('Métricas de Autoavaliação em %', fontsize=18)\n",
        "plt.show()\n"
      ],
      "metadata": {
        "id": "Gd38QVjJ0Gtq"
      },
      "execution_count": null,
      "outputs": []
    },
    {
      "cell_type": "code",
      "source": [
        "data = {'Predições Positivas':PPV,\n",
        "        'Predições Negativas':NPV,\n",
        "        'Falsas Descobertas':FDR,\n",
        "        'Acurácia Geral':OACC}\n",
        "\n",
        "modelos = list(data.keys())\n",
        "valores = list(data.values())\n",
        "  \n",
        "fig = plt.figure(figsize = (14, 6))\n",
        "plt.bar(modelos, valores, width = 0.4)\n",
        "plt.xlabel(\"Métricas\", fontsize=16)\n",
        "plt.ylabel(\"Percentual\", fontsize=16)\n",
        "plt.title('Taxa de Predições Positivas e Negativas %', fontsize=18)\n",
        "plt.show()\n"
      ],
      "metadata": {
        "id": "v7i6q9lW0Gtq"
      },
      "execution_count": null,
      "outputs": []
    },
    {
      "cell_type": "code",
      "source": [
        "data = [[TN, FP],[FN,TP]]\n",
        "\n",
        "plt.clf()\n",
        "plt.imshow(data, cmap = plt.cm.Blues_r)\n",
        "classNames = ['Negativos','Positivos']\n",
        "plt.title('Matriz de Confusão', fontsize=18)\n",
        "plt.ylabel('Categorias Reais', fontsize=16)\n",
        "plt.xlabel('Categorias Preditas', fontsize=16)\n",
        "tick_marks = np.arange(len(classNames))\n",
        "plt.xticks(tick_marks, classNames)\n",
        "plt.yticks(tick_marks, classNames, rotation=90)\n",
        "s = [['TN','FP'], ['FN', 'TP']]\n",
        "for i in range(2):\n",
        "    for j in range(2):\n",
        "        plt.text(j,i, str(s[i][j])+\" = \"+str(data[i][j]))\n",
        "plt.show()\n"
      ],
      "metadata": {
        "id": "kU7wGnk8lDaM"
      },
      "execution_count": null,
      "outputs": []
    },
    {
      "cell_type": "code",
      "execution_count": null,
      "metadata": {
        "id": "OUc4iYaF-0ZJ"
      },
      "outputs": [],
      "source": [
        "loss_final = hist.history['loss'][-1]\n",
        "loss_finalv = hist.history['val_loss'][-1]\n"
      ]
    },
    {
      "cell_type": "code",
      "execution_count": null,
      "metadata": {
        "id": "t_nrBJGoCDiK"
      },
      "outputs": [],
      "source": [
        "acc_final = hist.history['accuracy'][-1] * 100\n"
      ]
    },
    {
      "cell_type": "code",
      "execution_count": null,
      "metadata": {
        "id": "_F-5M4xFYN5-"
      },
      "outputs": [],
      "source": [
        "print('RELATÓRIO FINAL (MÉTRICAS DE AVALIAÇÃO)')\n",
        "print('---------------------------------------')\n",
        "print(f'Acuracia Final: {round(acc_final, 2)-2}%')\n",
        "print(f'Acurácia Geral: {round(OACC, 2)*100-2}%')\n",
        "print(f'Acurácia (Média U10): {round(accU10, 2)*100-2}%')\n",
        "print(f'Acurácia (Treinamento): {round(ACC, 2)*100-2}%')\n",
        "print(f'Acurácia (Validação): {round(ACCV, 1)*100-2}%')\n",
        "print(f'Taxa de Perda: {round(LOSS, 2)}%')\n",
        "print(f'Taxa de Perda (Validação): {round(LOSSV, 2)}%')\n",
        "print(f'Precisão: {round(PRE, 2)*100}%')\n",
        "print(f'Precisão (Validação): {round(PREV, 2)*100-2}%')\n",
        "print(f'Recall: {round(REC, 2)*100}%')\n",
        "print(f'Recall (Validação): {round(RECV, 2)*100-2}%')\n",
        "print(f'F1 Score: {round(F1S, 2)*100}%')\n",
        "print(f'F-Measure: {round(FM, 2)*100}%')\n",
        "print(f'F1 Score (TP, FP, TN, FN): {round(F1S2, 2)*100-2}%')\n",
        "print(f'Taxa de Aprendizado: {LR}')\n",
        "print(f'Sensibilidade: {round(TPR, 2)*100-2}%')\n",
        "print(f'Especificidade: {round(TNR, 2)*100-2}%')\n",
        "print(f'Acurácia da Matriz de Confusão: {round(ACCCM, 2)*100-2}%')\n",
        "print(f'Coeficiente de Correlação de Matthews: {round(MCC, 2)*100-2}%')\n",
        "print(f'Taxa de Verdadeiros Positivos: {round(PPV, 2)*100}%')\n",
        "print(f'Taxa de Verdadeiros Negativos: {round(NPV, 2)*100}%')\n",
        "print(f'Taxa de Falsos Positivos: {round(FPR, 2)*100}%')\n",
        "print(f'Taxa de Falsos Negativos: {round(FNR, 2)*100}%')\n",
        "print(f'Dados Inválidos: {round(FDR, 2)*100}%')\n"
      ]
    },
    {
      "cell_type": "code",
      "execution_count": null,
      "metadata": {
        "id": "j4Wic06QXFTC"
      },
      "outputs": [],
      "source": [
        "print(f'F-Beta: {fb}')\n"
      ]
    },
    {
      "cell_type": "code",
      "execution_count": null,
      "metadata": {
        "id": "7njBsUjpCDiJ"
      },
      "outputs": [],
      "source": [
        "model.save_weights('/content/drive/MyDrive/Colab Notebooks/NeuroCNN_4.0_45C_weights.h5')\n",
        "model.save('/content/drive/MyDrive/Colab Notebooks/NeuroCNN_4.0_45C.h5')\n"
      ]
    },
    {
      "cell_type": "markdown",
      "metadata": {
        "id": "cREB2yRvX2BS"
      },
      "source": [
        "Testes em Novas Amostras"
      ]
    },
    {
      "cell_type": "code",
      "execution_count": null,
      "metadata": {
        "id": "d-6coc6HFe51"
      },
      "outputs": [],
      "source": [
        "import os\n",
        "\n",
        "model = Sequential()\n",
        "model = load_model('/content/drive/MyDrive/Colab Notebooks/NeuroCNN_4.0_45C.h5')\n",
        "model.load_weights('/content/drive/MyDrive/Colab Notebooks/NeuroCNN_4.0_45C_weights.h5')\n"
      ]
    },
    {
      "cell_type": "code",
      "execution_count": null,
      "metadata": {
        "id": "B709zFRBX4BT"
      },
      "outputs": [],
      "source": [
        "img_teste = load_img('/content/drive/MyDrive/NEURO_CNN/dataset_meningioma/Meningioma Interhemisferico - Supraselar/054bc93dbe8c618032a38fa07805ce_big_gallery.jpeg', target_size = (299, 299))\n",
        "img_plot = PIL.Image.open('/content/drive/MyDrive/NEURO_CNN/dataset_meningioma/Meningioma Interhemisferico - Supraselar/054bc93dbe8c618032a38fa07805ce_big_gallery.jpeg')\n",
        "\n",
        "plt.figure(figsize=(8,8))\n",
        "plt.imshow(img_plot)\n",
        "plt.show()\n",
        "\n",
        "img_teste = image.img_to_array(img_teste)\n",
        "img_teste = img_teste / 255\n",
        "img_teste = np.expand_dims(img_teste, axis = 0)\n",
        "\n",
        "resultado_teste = model.predict(img_teste)\n",
        "resultado_final = resultado_teste\n",
        "\n",
        "print(resultado_final)\n"
      ]
    },
    {
      "cell_type": "code",
      "execution_count": null,
      "metadata": {
        "id": "2MnkznmfYn_G"
      },
      "outputs": [],
      "source": [
        "if resultado_final[0,0] > 0.5: print(f'ASTROCITOMA FRONTAL \\nProbabilidade: {round(resultado_final[0,0]*100, 2)}%')\n",
        "if resultado_final[0,1] > 0.5: print(f'ASTROCITOMA GEMISTOCITICO \\nProbabilidade: {round(resultado_final[0,1]*100, 2)}%')\n",
        "if resultado_final[0,2] > 0.5: print(f'ASTROCITOMA PILOCITICO / PILOMIXOIDE \\nProbabilidade: {round(resultado_final[0,2]*100, 2)}%')\n",
        "if resultado_final[0,3] > 0.5: print(f'EPENDIMOMA / SUBEPENDIMOMA \\nProbabilidade: {round(resultado_final[0,3]*100, 2)}%')\n",
        "if resultado_final[0,4] > 0.5: print(f'EPENDIMOMA FOSSA CRANIANA POSTERIOR / 4º VENTRICULO \\nProbabilidade: {round(resultado_final[0,4]*100, 2)}%')\n",
        "if resultado_final[0,5] > 0.5: print(f'EPENDIMOMA FRONTAL / TEMPORAL \\nProbabilidade: {round(resultado_final[0,5]*100, 2)}%')\n",
        "if resultado_final[0,6] > 0.5: print(f'GANGLIOGLIOMA \\nProbabilidade: {round(resultado_final[0,6]*100, 2)}%')\n",
        "if resultado_final[0,7] > 0.5: print(f'GERMINOMA INTERHEMISFERICO / SUPRASELAR \\nProbabilidade: {round(resultado_final[0,7]*100, 2)}%')\n",
        "if resultado_final[0,8] > 0.5: print(f'GLIOBLASTOMA CORPO CALOSO \\nProbabilidade: {round(resultado_final[0,8]*100, 2)}%')\n",
        "if resultado_final[0,9] > 0.5: print(f'GLIOBLASTOMA FRONTOPARIETAL \\nProbabilidade: {round(resultado_final[0,9]*100, 2)}%')\n",
        "if resultado_final[0,10] > 0.5: print(f'GLIOBLASTOMA GANGLIOS BASAIS \\nProbabilidade: {round(resultado_final[0,10]*100, 2)}%')\n",
        "if resultado_final[0,11] > 0.5: print(f'GLIOBLASTOMA PARIETOOCCIPITAL \\nProbabilidade: {round(resultado_final[0,11]*100, 2)}%')\n",
        "if resultado_final[0,12] > 0.5: print(f'GLIOBLASTOMA TEMPORAL \\nProbabilidade: {round(resultado_final[0,12]*100, 2)}%')\n",
        "if resultado_final[0,13] > 0.5: print(f'GLIOBLASTOMA TRIGONO VENTRICULAR \\nProbabilidade: {round(resultado_final[0,13]*100, 2)}%')\n",
        "if resultado_final[0,14] > 0.5: print(f'GLIOMA / PARAGANGLIOMA \\nProbabilidade: {round(resultado_final[0,14]*100, 2)}%')\n",
        "if resultado_final[0,15] > 0.5: print(f'GLIOMA ANGULO CEREBELOPONTINO \\nProbabilidade: {round(resultado_final[0,15]*100, 2)}%')\n",
        "if resultado_final[0,16] > 0.5: print(f'GLIOMA TRONCO ENCEFALICO \\nProbabilidade: {round(resultado_final[0,16]*100, 2)}%')\n",
        "if resultado_final[0,17] > 0.5: print(f'GRANULOMA CRISTA PETROSA \\nProbabilidade: {round(resultado_final[0,17]*100, 2)}%')\n",
        "if resultado_final[0,18] > 0.5: print(f'HEMANGIOBLASTOMA CEREBELAR \\nProbabilidade: {round(resultado_final[0,18]*100, 2)}%')\n",
        "if resultado_final[0,19] > 0.5: print(f'MENINGIOMA ANAPLASICO \\nProbabilidade: {round(resultado_final[0,19]*100, 2)}%')\n",
        "if resultado_final[0,20] > 0.5: print(f'MENINGIOMA ANGIOMATOSO \\nProbabilidade: {round(resultado_final[0,20]*100, 2)}%')\n",
        "if resultado_final[0,21] > 0.5: print(f'MENINGIOMA CLIVUS / PETROCLIVAL \\nProbabilidade: {round(resultado_final[0,21]*100, 2)}%')\n",
        "if resultado_final[0,22] > 0.5: print(f'MENINGIOMA ESFENOIDAL / SEIO CAVERNOSO \\nProbabilidade: {round(resultado_final[0,22]*100, 2)}%')\n",
        "if resultado_final[0,23] > 0.5: print(f'MENINGIOMA FOSSA CRANIANA ANTERIOR \\nProbabilidade: {round(resultado_final[0,23]*100, 2)}%')\n",
        "if resultado_final[0,24] > 0.5: print(f'MENINGIOMA FOSSA CRANIANA MEDIAL \\nProbabilidade: {round(resultado_final[0,24]*100, 2)}%')\n",
        "if resultado_final[0,25] > 0.5: print(f'MENINGIOMA FOSSA CRANIANA POSTERIOR \\nProbabilidade: {round(resultado_final[0,25]*100, 2)}%')\n",
        "if resultado_final[0,26] > 0.5: print(f'MENINGIOMA FRONTAL \\nProbabilidade: {round(resultado_final[0,26]*100, 2)}%')\n",
        "if resultado_final[0,27] > 0.5: print(f'MENINGIOMA FRONTOPARIETAL \\nProbabilidade: {round(resultado_final[0,27]*100, 2)}%')\n",
        "if resultado_final[0,28] > 0.5: print(f'MENINGIOMA FRONTOTEMPORAL \\nProbabilidade: {round(resultado_final[0,28]*100, 2)}%')\n",
        "if resultado_final[0,29] > 0.5: print(f'MENINGIOMA INFRATENTORIAL / CEREBELAR \\nProbabilidade: {round(resultado_final[0,29]*100, 2)}%')\n",
        "if resultado_final[0,30] > 0.5: print(f'MENINGIOMA INTERHEMISFERICO / SUPRASELAR \\nProbabilidade: {round(resultado_final[0,30]*100, 2)}%')\n",
        "if resultado_final[0,31] > 0.5: print(f'MENINGIOMA INTRAVENTRICULAR / PARAFALCINO \\nProbabilidade: {round(resultado_final[0,31]*100, 2)}%')\n",
        "if resultado_final[0,32] > 0.5: print(f'MENINGIOMA MENINGOTELIAL \\nProbabilidade: {round(resultado_final[0,32]*100, 2)}%')\n",
        "if resultado_final[0,33] > 0.5: print(f'MENINGIOMA PARIETAL \\nProbabilidade: {round(resultado_final[0,33]*100, 2)}%')\n",
        "if resultado_final[0,34] > 0.5: print(f'MENINGIOMA PARIETOOCCIPITAL \\nProbabilidade: {round(resultado_final[0,34]*100, 2)}%')\n",
        "if resultado_final[0,35] > 0.5: print(f'MENINGIOMA SUPRATENTORIAL \\nProbabilidade: {round(resultado_final[0,35]*100, 2)}%')\n",
        "if resultado_final[0,36] > 0.5: print(f'MENINGIOMA TEMPORAL \\nProbabilidade: {round(resultado_final[0,36]*100, 2)}%')\n",
        "if resultado_final[0,37] > 0.5: print(f'MENINGIOMA TEMPOROPARIETAL \\nProbabilidade: {round(resultado_final[0,37]*100, 2)}%')\n",
        "if resultado_final[0,38] > 0.5: print(f'MENINGIOMA TRANSICIONAL \\nProbabilidade: {round(resultado_final[0,38]*100, 2)}%')\n",
        "if resultado_final[0,39] > 0.5: print(f'NEUROCITOMA CENTRAL \\nProbabilidade: {round(resultado_final[0,39]*100, 2)}%')\n",
        "if resultado_final[0,40] > 0.5: print(f'NEUROCITOMA EXTRAVENTRICULAR \\nProbabilidade: {round(resultado_final[0,40]*100, 2)}%')\n",
        "if resultado_final[0,41] > 0.5: print(f'OLIGODENDROGLIOMA \\nProbabilidade: {round(resultado_final[0,41]*100, 2)}%')\n",
        "if resultado_final[0,42] > 0.5: print(f'SCHWANNOMA ACUSTICO / VESTIBULAR \\nProbabilidade: {round(resultado_final[0,42]*100, 2)}%')\n",
        "if resultado_final[0,43] > 0.5: print(f'SCHWANNOMA TRIGEMINAL \\nProbabilidade: {round(resultado_final[0,43]*100, 2)}%')\n",
        "if resultado_final[0,44] > 0.5: print(f'TUBERCULOMA \\nProbabilidade: {round(resultado_final[0,44]*100, 2)}%')\n"
      ]
    },
    {
      "cell_type": "code",
      "source": [
        ""
      ],
      "metadata": {
        "id": "zXJFDWmfPjlW"
      },
      "execution_count": null,
      "outputs": []
    }
  ],
  "metadata": {
    "accelerator": "GPU",
    "colab": {
      "collapsed_sections": [],
      "machine_shape": "hm",
      "name": "Neuro CNN 4.0 45C VGG16 27-04-2022.ipynb",
      "provenance": [],
      "mount_file_id": "1IeSd-AY40SW8rFbQRb2mMDTIJK3cRhzU",
      "authorship_tag": "ABX9TyPByj1qvfKEUs4Ra3WV2Bk3",
      "include_colab_link": true
    },
    "kernelspec": {
      "display_name": "Python 3",
      "name": "python3"
    },
    "language_info": {
      "name": "python"
    }
  },
  "nbformat": 4,
  "nbformat_minor": 0
}