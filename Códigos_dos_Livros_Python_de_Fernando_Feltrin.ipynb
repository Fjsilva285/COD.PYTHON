{
  "nbformat": 4,
  "nbformat_minor": 0,
  "metadata": {
    "colab": {
      "name": "Códigos dos Livros Python de Fernando Feltrin.ipynb",
      "provenance": [],
      "toc_visible": true
    },
    "kernelspec": {
      "name": "python3",
      "display_name": "Python 3"
    },
    "language_info": {
      "name": "python"
    }
  },
  "cells": [
    {
      "cell_type": "markdown",
      "metadata": {
        "id": "69IhtZ4qTDY5"
      },
      "source": [
        "# || Python do Básico ao Avançado ||"
      ]
    },
    {
      "cell_type": "markdown",
      "metadata": {
        "id": "A6CCGsy0jkzb"
      },
      "source": [
        "A Filosofia do Python"
      ]
    },
    {
      "cell_type": "code",
      "metadata": {
        "colab": {
          "base_uri": "https://localhost:8080/"
        },
        "id": "Ij5vxrVSjowC",
        "outputId": "8d6d18bf-3eb8-453a-e758-a541f05f4088"
      },
      "source": [
        "import this"
      ],
      "execution_count": null,
      "outputs": [
        {
          "output_type": "stream",
          "text": [
            "The Zen of Python, by Tim Peters\n",
            "\n",
            "Beautiful is better than ugly.\n",
            "Explicit is better than implicit.\n",
            "Simple is better than complex.\n",
            "Complex is better than complicated.\n",
            "Flat is better than nested.\n",
            "Sparse is better than dense.\n",
            "Readability counts.\n",
            "Special cases aren't special enough to break the rules.\n",
            "Although practicality beats purity.\n",
            "Errors should never pass silently.\n",
            "Unless explicitly silenced.\n",
            "In the face of ambiguity, refuse the temptation to guess.\n",
            "There should be one-- and preferably only one --obvious way to do it.\n",
            "Although that way may not be obvious at first unless you're Dutch.\n",
            "Now is better than never.\n",
            "Although never is often better than *right* now.\n",
            "If the implementation is hard to explain, it's a bad idea.\n",
            "If the implementation is easy to explain, it may be a good idea.\n",
            "Namespaces are one honking great idea -- let's do more of those!\n"
          ],
          "name": "stdout"
        }
      ]
    },
    {
      "cell_type": "markdown",
      "metadata": {
        "id": "3geZCrCP2aol"
      },
      "source": [
        "## Sintaxe Básica em Python"
      ]
    },
    {
      "cell_type": "markdown",
      "metadata": {
        "id": "WPtiq2SfW9rt"
      },
      "source": [
        "Declaração de Variáveis"
      ]
    },
    {
      "cell_type": "code",
      "metadata": {
        "colab": {
          "base_uri": "https://localhost:8080/"
        },
        "id": "l2Ko_2jI2U_F",
        "outputId": "463974e4-af61-4ddf-cac4-6523b7cb91f2"
      },
      "source": [
        "# nome_da_variavel = dado/valor/atributo\n",
        "\n",
        "numero = 20\n",
        "# Nome da variável: numero\n",
        "# Dado/valor atribuído: 20\n",
        "\n",
        "nome = 'Veronica'\n",
        "\n",
        "variavel = [21, 'Maria', 19.90]\n",
        "\n",
        "print(numero)\n",
        "# Exibe em tela o conteúdo da variável numero\n",
        "\n",
        "print(nome)\n",
        "print(variavel)\n"
      ],
      "execution_count": null,
      "outputs": [
        {
          "output_type": "stream",
          "text": [
            "20\n",
            "Veronica\n",
            "[21, 'Maria', 19.9]\n"
          ],
          "name": "stdout"
        }
      ]
    },
    {
      "cell_type": "markdown",
      "metadata": {
        "id": "U2AN7hmrW9rv"
      },
      "source": [
        "Sintaxe básica, leitura léxica e indentação"
      ]
    },
    {
      "cell_type": "code",
      "metadata": {
        "colab": {
          "base_uri": "https://localhost:8080/"
        },
        "id": "VdNmCgnrUKcX",
        "outputId": "a940fa20-f2e5-4d32-ef39-81a7e3b1c65d"
      },
      "source": [
        "dicionario = {'Nome':'Fernando',\n",
        "              'Idade':33,\n",
        "              'Formação':'Eng. da Computação'}\n",
        "\n",
        "print(dicionario)\n",
        "\n",
        "# Por leitura léxica entenda que o interpretador lê o código sequencialmente,\n",
        "# de cima para baixo, da esquerda para direita, levando em conta os espaços e\n",
        "# tabulações aplicadas ao código (indentação).\n"
      ],
      "execution_count": null,
      "outputs": [
        {
          "output_type": "stream",
          "text": [
            "{'Nome': 'Fernando', 'Idade': 33, 'Formação': 'Eng. da Computação'}\n"
          ],
          "name": "stdout"
        }
      ]
    },
    {
      "cell_type": "markdown",
      "metadata": {
        "id": "a2qrKGqkW9rz"
      },
      "source": [
        "Estrutura básica de um programa"
      ]
    },
    {
      "cell_type": "markdown",
      "metadata": {
        "id": "3ZS9pXUcW9rz"
      },
      "source": [
        "Olá Mundo!!! em Java"
      ]
    },
    {
      "cell_type": "code",
      "metadata": {
        "id": "EHvDeVWtVKQf"
      },
      "source": [
        "class MeuPrograma {\n",
        "    public static void main(String args[]) {\n",
        "        System.out.println(\"Olá Mundo!!!\");\n",
        "    }\n",
        "}\n"
      ],
      "execution_count": null,
      "outputs": []
    },
    {
      "cell_type": "markdown",
      "metadata": {
        "id": "Cy2OkUk8W9r0"
      },
      "source": [
        "Olá Mundo!!! em C#"
      ]
    },
    {
      "cell_type": "code",
      "metadata": {
        "id": "u2JaymKDW9r1"
      },
      "source": [
        "using System; \n",
        "namespace MeuPrograma { \n",
        "    class OlaMundo { \n",
        "\t    static void Main(string[] args) {\n",
        "           Console.WriteLine(\"Olá Mundo!!!\"); \n",
        "\t       Console.ReadKey(); \n",
        "\t    } \n",
        "    } \n",
        "} \n"
      ],
      "execution_count": null,
      "outputs": []
    },
    {
      "cell_type": "markdown",
      "metadata": {
        "id": "sgUDlNsiW9r1"
      },
      "source": [
        "Olá Mundo!!! em Python"
      ]
    },
    {
      "cell_type": "code",
      "metadata": {
        "id": "Xqxuu02EW9r1",
        "colab": {
          "base_uri": "https://localhost:8080/"
        },
        "outputId": "e29d55fc-8c9c-4daf-9fa0-3e8718300e43"
      },
      "source": [
        "print('Olá Mundo!!!')\n"
      ],
      "execution_count": null,
      "outputs": [
        {
          "output_type": "stream",
          "text": [
            "Olá Mundo!!!\n"
          ],
          "name": "stdout"
        }
      ]
    },
    {
      "cell_type": "markdown",
      "metadata": {
        "id": "7HQ_jTX5W9r2"
      },
      "source": [
        "Linguagens de Alto Nível vs Linguagens de Baixo Nível"
      ]
    },
    {
      "cell_type": "markdown",
      "metadata": {
        "id": "7xVbSTgJW9r3"
      },
      "source": [
        "Olá Mundo!!! em Assembly"
      ]
    },
    {
      "cell_type": "code",
      "metadata": {
        "id": "ELCO7MxEWA-T"
      },
      "source": [
        "section     .text\n",
        "global      _start\n",
        "\n",
        "_start:\n",
        "\n",
        "    mov     edx,len\n",
        "    mov     ecx,msg\n",
        "    mov     ebx,1\n",
        "    mov     eax,4\n",
        "    int     0x80\n",
        "\n",
        "    mov     eax,1\n",
        "    int     0x80\n",
        "\n",
        "section     .data\n",
        "\n",
        "msg     db  'Olá Mundo!!!',0xa \n",
        "len     equ $ - msg\n"
      ],
      "execution_count": null,
      "outputs": []
    },
    {
      "cell_type": "markdown",
      "metadata": {
        "id": "vYD2-gEWW9r3"
      },
      "source": [
        "Olá Mundo!!! em Python"
      ]
    },
    {
      "cell_type": "code",
      "metadata": {
        "id": "2iPbDUvlW9r4",
        "colab": {
          "base_uri": "https://localhost:8080/"
        },
        "outputId": "210f6c64-cfb6-4d4d-c969-c6b775b9427c"
      },
      "source": [
        "print('Olá Mundo!!!')\n"
      ],
      "execution_count": null,
      "outputs": [
        {
          "output_type": "stream",
          "text": [
            "Olá Mundo!!!\n"
          ],
          "name": "stdout"
        }
      ]
    },
    {
      "cell_type": "markdown",
      "metadata": {
        "id": "GjcsshqNDPqq"
      },
      "source": [
        "## Tipos de Dados Básicos"
      ]
    },
    {
      "cell_type": "markdown",
      "metadata": {
        "id": "kc9S9ViwW9r4"
      },
      "source": [
        "Int - Número Inteiro"
      ]
    },
    {
      "cell_type": "code",
      "metadata": {
        "id": "4zPcgZWKDZF5",
        "colab": {
          "base_uri": "https://localhost:8080/"
        },
        "outputId": "7caf3a7c-bc20-42db-9e01-7f8396b70079"
      },
      "source": [
        "num1 = 12\n",
        "\n",
        "num2 = int(15)\n",
        "\n",
        "print(num1)\n",
        "# Exibe em tela o conteúdo da variável num1\n",
        "\n",
        "print(type(num1))\n",
        "# Exibe em tela o tipo de dado da variável num1\n",
        "\n",
        "print(num2)\n",
        "print(type(num2))\n"
      ],
      "execution_count": null,
      "outputs": [
        {
          "output_type": "stream",
          "text": [
            "12\n",
            "<class 'int'>\n",
            "15\n",
            "<class 'int'>\n"
          ],
          "name": "stdout"
        }
      ]
    },
    {
      "cell_type": "code",
      "metadata": {
        "id": "EALX2tJvW9r5",
        "colab": {
          "base_uri": "https://localhost:8080/"
        },
        "outputId": "696c768b-4008-41c8-dadd-ee68b7ec2ad5"
      },
      "source": [
        "num1 = 12\n",
        "# Será automaticamente identificado pelo interpretador como dado do tipo int\n",
        "\n",
        "num2 = int(15)\n",
        "# Será manualmente identificado pelo interpretador como dado do tipo int\n",
        "\n",
        "num3 = str(15)\n",
        "# Será manualmente identificado pelo interpretador como dado do tipo string\n",
        "\n",
        "print(type(num1))\n",
        "print(type(num2))\n",
        "print(type(num3))\n"
      ],
      "execution_count": null,
      "outputs": [
        {
          "output_type": "stream",
          "text": [
            "<class 'int'>\n",
            "<class 'int'>\n",
            "<class 'str'>\n"
          ],
          "name": "stdout"
        }
      ]
    },
    {
      "cell_type": "markdown",
      "metadata": {
        "id": "OOjmX3BDW9r6"
      },
      "source": [
        "Float - Número de ponto flutuante / com casas decimais."
      ]
    },
    {
      "cell_type": "code",
      "metadata": {
        "id": "5bJd3GgWZuwW",
        "colab": {
          "base_uri": "https://localhost:8080/"
        },
        "outputId": "513649a1-6eda-4f99-8346-fa4d4455dc04"
      },
      "source": [
        "num3 = 12.8\n",
        "# Ao inserir o ponto demarcador de casa decimal, tal número será\n",
        "# automaticamente reconhecido pelo interpretador como tipo float\n",
        "\n",
        "num4 = float(19.0)\n",
        "\n",
        "print(num3)\n",
        "print(type(num3))\n",
        "\n",
        "print(num4)\n",
        "print(type(num4))\n"
      ],
      "execution_count": null,
      "outputs": [
        {
          "output_type": "stream",
          "text": [
            "12.8\n",
            "<class 'float'>\n",
            "19.0\n",
            "<class 'float'>\n"
          ],
          "name": "stdout"
        }
      ]
    },
    {
      "cell_type": "markdown",
      "metadata": {
        "id": "64b0FktJW9r6"
      },
      "source": [
        "String - Texto composto de qualquer caractere alfanumérico."
      ]
    },
    {
      "cell_type": "code",
      "metadata": {
        "id": "ErfJUN4LZzUh",
        "colab": {
          "base_uri": "https://localhost:8080/"
        },
        "outputId": "e9b76b4e-7cde-47f6-bb1a-0630219d7b0c"
      },
      "source": [
        "palavra1 = 'palavra'\n",
        "# Todo conteúdo contido entre aspas é lido como texto pelo interpretador\n",
        "\n",
        "palavra2 = \"marca d'água\"\n",
        "# Uso de aspas duplas para não gerar conflito com o apóstrofo '\n",
        "\n",
        "frase1 = 'Uma frase qualquer'\n",
        "\n",
        "frase3 = 'Ela tinha 8 anos'\n",
        "\n",
        "frase3 = str('Outra frase qualquer')\n",
        "\n",
        "print(palavra1)\n",
        "print(palavra2)\n",
        "\n",
        "print(frase3)\n",
        "print(type(frase3))\n"
      ],
      "execution_count": null,
      "outputs": [
        {
          "output_type": "stream",
          "text": [
            "palavra\n",
            "marca d'água\n",
            "Outra frase qualquer\n",
            "<class 'str'>\n"
          ],
          "name": "stdout"
        }
      ]
    },
    {
      "cell_type": "code",
      "metadata": {
        "id": "OpWLp2_r0YA3",
        "colab": {
          "base_uri": "https://localhost:8080/"
        },
        "outputId": "db988e5d-60e0-4689-dde0-90b0f1433d7d"
      },
      "source": [
        "codigo1 = '887237'\n",
        "# Apesar de composto apenas por números, o atributo da variável codigo1 por\n",
        "# conta de sua sintaxe é um texto, tipo de dado string\n",
        "\n",
        "print(codigo1)\n",
        "print(type(codigo1))\n"
      ],
      "execution_count": null,
      "outputs": [
        {
          "output_type": "stream",
          "text": [
            "887237\n",
            "<class 'str'>\n"
          ],
          "name": "stdout"
        }
      ]
    },
    {
      "cell_type": "markdown",
      "metadata": {
        "id": "ccqt5NAbW9r7"
      },
      "source": [
        "Tupla - Conjunto de elementos imutável"
      ]
    },
    {
      "cell_type": "code",
      "metadata": {
        "id": "xQ-M5WhP4pTo",
        "colab": {
          "base_uri": "https://localhost:8080/"
        },
        "outputId": "891cd0fb-8e5a-49b9-8dc7-9996e5b0cc2f"
      },
      "source": [
        "# Método simples para guardar mais de um dado/valor atribuído a uma variável.\n",
        "\n",
        "tupla = ('Ana', 'Fernando', 3, 19.90)\n",
        "# Cada elemento declarado conforme sua sintaxe.\n",
        "\n",
        "print(tupla)\n",
        "print(type(tupla))\n"
      ],
      "execution_count": null,
      "outputs": [
        {
          "output_type": "stream",
          "text": [
            "('Ana', 'Fernando', 3, 19.9)\n",
            "<class 'tuple'>\n"
          ],
          "name": "stdout"
        }
      ]
    },
    {
      "cell_type": "markdown",
      "metadata": {
        "id": "esDSJhNFW9r8"
      },
      "source": [
        "List - Listas - Conjunto de elementos indexados e mutáveis"
      ]
    },
    {
      "cell_type": "code",
      "metadata": {
        "id": "iFAeGUxVZ2W9",
        "colab": {
          "base_uri": "https://localhost:8080/"
        },
        "outputId": "1cac28a1-85e9-4365-d606-199c105c8646"
      },
      "source": [
        "# Basicamente o mesmo tipo de dado array de outras linguagens de programação.\n",
        "\n",
        "lista = [2, 'Pedro', 15.9]\n",
        "# Cada elemento possui um número de índice, começando em 0.\n",
        "\n",
        "lista2 = list([1, 'Maria', 19.99])\n",
        "\n",
        "print(lista)\n",
        "print(type(lista))\n",
        "\n",
        "print(lista2)\n"
      ],
      "execution_count": null,
      "outputs": [
        {
          "output_type": "stream",
          "text": [
            "[2, 'Pedro', 15.9]\n",
            "<class 'list'>\n",
            "[1, 'Maria', 19.99]\n"
          ],
          "name": "stdout"
        }
      ]
    },
    {
      "cell_type": "code",
      "metadata": {
        "id": "9aXbUPhM2JhC",
        "colab": {
          "base_uri": "https://localhost:8080/"
        },
        "outputId": "9437a60f-6f09-4f3e-b3b5-a861a3c71bf0"
      },
      "source": [
        "lista_compras = ['Arroz',\n",
        "                 'Açúcar',\n",
        "                 'Café',\n",
        "                 'Carne',\n",
        "                 'Frutas',\n",
        "                 'Pão',\n",
        "                 'Sabão em pó']\n",
        "# Apenas por organização, os elementos de uma lista podem ser organizados\n",
        "# em linhas separadas, desde que mantenham a indentação\n",
        "\n",
        "print(lista_compras)\n"
      ],
      "execution_count": null,
      "outputs": [
        {
          "output_type": "stream",
          "text": [
            "['Arroz', 'Açúcar', 'Café', 'Carne', 'Frutas', 'Pão', 'Sabão em pó']\n"
          ],
          "name": "stdout"
        }
      ]
    },
    {
      "cell_type": "markdown",
      "metadata": {
        "id": "NcNKGX-tW9r9"
      },
      "source": [
        "Dict - Dicionários - Estrutura de dados baseada em 'chave : valor'"
      ]
    },
    {
      "cell_type": "code",
      "metadata": {
        "id": "PL_Haq_7Z5QK",
        "colab": {
          "base_uri": "https://localhost:8080/"
        },
        "outputId": "8f28b65a-d24e-4924-8d4f-892d9e25425a"
      },
      "source": [
        "dicionario = {'Nome':'Fernando', 'Idade':32}\n",
        "# Na primeira entrada, 'Nome' é a chave e 'Fernando' é o valor.\n",
        "\n",
        "print(dicionario)\n",
        "print(type(dicionario))\n"
      ],
      "execution_count": null,
      "outputs": [
        {
          "output_type": "stream",
          "text": [
            "{'Nome': 'Fernando', 'Idade': 32}\n",
            "<class 'dict'>\n"
          ],
          "name": "stdout"
        }
      ]
    },
    {
      "cell_type": "code",
      "metadata": {
        "id": "fEuYqD1g1Uad",
        "colab": {
          "base_uri": "https://localhost:8080/"
        },
        "outputId": "7554fa01-22de-445e-f769-42dbc680e5b8"
      },
      "source": [
        "dicionario = {'Nome':'Fernando',\n",
        "              'Idade': 32,\n",
        "              'Altura': 1.90,\n",
        "              'Peso': '120kg'}\n",
        "# Por uma questão de organização, os itens de um dicionário podem\n",
        "# ser dispostos em linhas independentes, desde que respeitando a\n",
        "# indentação.\n",
        "\n",
        "print(dicionario)\n"
      ],
      "execution_count": null,
      "outputs": [
        {
          "output_type": "stream",
          "text": [
            "{'Nome': 'Fernando', 'Idade': 32, 'Altura': 1.9, 'Peso': '120kg'}\n"
          ],
          "name": "stdout"
        }
      ]
    },
    {
      "cell_type": "markdown",
      "metadata": {
        "id": "8Qf4o1m4W9r-"
      },
      "source": [
        "Bool - Booleano (True / False)"
      ]
    },
    {
      "cell_type": "code",
      "metadata": {
        "id": "DBSsfX3WZxOx",
        "colab": {
          "base_uri": "https://localhost:8080/"
        },
        "outputId": "aec07ed2-dc63-4c82-bdd6-0458d7b968a9"
      },
      "source": [
        "condicao1 = True\n",
        "# Tipo de dado usado em expressões/proposições lógicas, onde o retorno é True\n",
        "# ou False, referente a Verdadeiro ou Falso, válido ou inválido, ligado ou\n",
        "# desligado, etc... de acordo com a proposição.\n",
        "\n",
        "print(condicao1)\n",
        "print(type(condicao1))\n"
      ],
      "execution_count": null,
      "outputs": [
        {
          "output_type": "stream",
          "text": [
            "True\n",
            "<class 'bool'>\n"
          ],
          "name": "stdout"
        }
      ]
    },
    {
      "cell_type": "markdown",
      "metadata": {
        "id": "uj3hznCxD_-I"
      },
      "source": [
        "## Comentários"
      ]
    },
    {
      "cell_type": "markdown",
      "metadata": {
        "id": "thtonbLnW9r_"
      },
      "source": [
        "Comentário simples de até uma linha"
      ]
    },
    {
      "cell_type": "code",
      "metadata": {
        "id": "AsFzrOGOECsP"
      },
      "source": [
        "# Comentário simples de até uma linha.\n"
      ],
      "execution_count": null,
      "outputs": []
    },
    {
      "cell_type": "code",
      "metadata": {
        "id": "30IeyJwD_upS"
      },
      "source": [
        "# Embora possa acarretar perda de performance\n",
        "# para o código, é perfeitamente possível comentar\n",
        "# linha por linha individualmente.\n"
      ],
      "execution_count": null,
      "outputs": []
    },
    {
      "cell_type": "markdown",
      "metadata": {
        "id": "03isi-nDW9r_"
      },
      "source": [
        "Comentário sem limite de extensão"
      ]
    },
    {
      "cell_type": "code",
      "metadata": {
        "id": "vM_sBIErW9r_",
        "colab": {
          "base_uri": "https://localhost:8080/",
          "height": 36
        },
        "outputId": "f6bbaa5a-1b54-4419-d244-be13d088f557"
      },
      "source": [
        "'''Comentário onde não há limite de linhas,\n",
        "   podendo ser usado para descrever blocos\n",
        "   de código mais detalhadamente'''\n",
        "   "
      ],
      "execution_count": null,
      "outputs": [
        {
          "output_type": "execute_result",
          "data": {
            "application/vnd.google.colaboratory.intrinsic+json": {
              "type": "string"
            },
            "text/plain": [
              "'Comentário onde não há limite de linhas,\\n   podendo ser usado para descrever blocos\\n   de código mais detalhadamente'"
            ]
          },
          "metadata": {
            "tags": []
          },
          "execution_count": 24
        }
      ]
    },
    {
      "cell_type": "markdown",
      "metadata": {
        "id": "ta-kZpO4W9sA"
      },
      "source": [
        "Comentando uma variável para desabilitar a mesma"
      ]
    },
    {
      "cell_type": "code",
      "metadata": {
        "id": "gmPpBtnrmdh6"
      },
      "source": [
        "usuario1 = 'Fernando'  # Visível para o interpretador.\n",
        "\n",
        "#usuario1 = 'Fernando' # Invisível para o interpretador, ignorada.\n"
      ],
      "execution_count": null,
      "outputs": []
    },
    {
      "cell_type": "markdown",
      "metadata": {
        "id": "5ffJLPzoEE4Z"
      },
      "source": [
        "## Variáveis"
      ]
    },
    {
      "cell_type": "markdown",
      "metadata": {
        "id": "zo7OrXesW9sA"
      },
      "source": [
        "Tipos de variáveis"
      ]
    },
    {
      "cell_type": "code",
      "metadata": {
        "id": "E7fgJO3sEJZT"
      },
      "source": [
        "var_int = 12\n",
        "# Número inteiro\n",
        "\n",
        "var_float = 15.3\n",
        "# Número com casas decimais\n",
        "\n",
        "var_string = 'Conjunto de caracteres alfanuméricos'\n",
        "# Incluindo símbolos, caracteres e/ou algarismos especiais\n",
        "\n",
        "var_lista = [1, 2, 'Paulo', 'Maria', True]\n",
        "# Lista de dados/valores\n",
        "\n",
        "var_dicionario = {'nome':'Fernando', 'idade':31}\n",
        "# Conjunto de dados:valores\n",
        "\n",
        "var_tupla = ('Ana', 'Fernando', 3)\n",
        "# Lista de dados/valores porém imutável\n",
        "\n",
        "var_set = {1999, 2000, 2001, 2002, 2003, 2004, 2005}\n",
        "# Conjunto de dados numéricos\n",
        "\n",
        "var_bool = True\n",
        "# Booleano / Binário (0 ou 1)\n",
        "\n",
        "var_comentario = \"\"\"Um comentário atribuído a uma\n",
        "                  variável deixa de ser apenas\n",
        "                  um comentário, vira um texto\n",
        "                  que pode ser incorporado ao\n",
        "                  código...\"\"\"\n",
        "\n",
        "# Os tipos de variáveis como listas, tuplas, dicionários, etc comportam\n",
        "# múltiplos dados em sua composição, suportando dados de qualquer tipo.\n"
      ],
      "execution_count": null,
      "outputs": []
    },
    {
      "cell_type": "code",
      "metadata": {
        "id": "98J5RHTuFclZ",
        "colab": {
          "base_uri": "https://localhost:8080/"
        },
        "outputId": "1f78cb62-feed-4685-e91c-68df41acb6ad"
      },
      "source": [
        "# Exibindo os conteúdos das variáveis declaradas anteriormente\n",
        "\n",
        "print(var_int)\n",
        "\n",
        "print(var_float)\n",
        "\n",
        "print(var_string)\n",
        "\n",
        "print(var_lista)\n",
        "\n",
        "print(var_dicionario)\n",
        "\n",
        "print(var_tupla)\n",
        "\n",
        "print(var_set)\n",
        "\n",
        "print(var_bool)\n",
        "\n",
        "print(var_comentario)\n"
      ],
      "execution_count": null,
      "outputs": [
        {
          "output_type": "stream",
          "text": [
            "12\n",
            "15.3\n",
            "Conjunto de caracteres alfanuméricos\n",
            "[1, 2, 'Paulo', 'Maria', True]\n",
            "{'nome': 'Fernando', 'idade': 31}\n",
            "('Ana', 'Fernando', 3)\n",
            "{1999, 2000, 2001, 2002, 2003, 2004, 2005}\n",
            "True\n",
            "Um comentário atribuído a uma\n",
            "                  variável deixa de ser apenas\n",
            "                  um comentário, vira um texto\n",
            "                  que pode ser incorporado ao\n",
            "                  código...\n"
          ],
          "name": "stdout"
        }
      ]
    },
    {
      "cell_type": "code",
      "metadata": {
        "id": "mqpp822WGL4b",
        "colab": {
          "base_uri": "https://localhost:8080/"
        },
        "outputId": "024a8dca-1585-4432-e910-1586d26b8cd5"
      },
      "source": [
        "# Exibindo os tipos de dados das variáveis declaradas anteriormente\n",
        "\n",
        "print(type(var_int))\n",
        "\n",
        "print(type(var_float))\n",
        "\n",
        "print(type(var_string))\n",
        "\n",
        "print(type(var_lista))\n",
        "\n",
        "print(type(var_dicionario))\n",
        "\n",
        "print(type(var_tupla))\n",
        "\n",
        "print(type(var_set))\n",
        "\n",
        "print(type(var_bool))\n",
        "\n",
        "print(type(var_comentario))\n"
      ],
      "execution_count": null,
      "outputs": [
        {
          "output_type": "stream",
          "text": [
            "<class 'int'>\n",
            "<class 'float'>\n",
            "<class 'str'>\n",
            "<class 'list'>\n",
            "<class 'dict'>\n",
            "<class 'tuple'>\n",
            "<class 'set'>\n",
            "<class 'bool'>\n",
            "<class 'str'>\n"
          ],
          "name": "stdout"
        }
      ]
    },
    {
      "cell_type": "markdown",
      "metadata": {
        "id": "4r3sIN2EW9sB"
      },
      "source": [
        "Declarando uma variável quanto ao seu tipo"
      ]
    },
    {
      "cell_type": "code",
      "metadata": {
        "id": "Wfa-Nbbk8D5R",
        "colab": {
          "base_uri": "https://localhost:8080/"
        },
        "outputId": "0c21d2b8-9f6d-436a-d4e0-7d45fbd9d6b3"
      },
      "source": [
        "ano_nasc = 1987\n",
        "# Automaticamente será identificado como do tipo int\n",
        "\n",
        "ano_nasc2 = '1987'\n",
        "# Automaticamente será identificado como do tipo string\n",
        "\n",
        "ano_nasc = int(1987)\n",
        "# Tipo de dado definido manualmente como int, usando do construtor do objeto\n",
        "\n",
        "ano_nasc2 = str(1987)\n",
        "\n",
        "\n",
        "print(ano_nasc)\n",
        "print(type(ano_nasc))\n",
        "\n",
        "print(ano_nasc2)\n",
        "print(type(ano_nasc2))\n"
      ],
      "execution_count": null,
      "outputs": [
        {
          "output_type": "stream",
          "text": [
            "1987\n",
            "<class 'int'>\n",
            "1987\n",
            "<class 'str'>\n"
          ],
          "name": "stdout"
        }
      ]
    },
    {
      "cell_type": "markdown",
      "metadata": {
        "id": "hzFeYgEaW9sC"
      },
      "source": [
        "Declarando múltiplas variáveis por justaposição"
      ]
    },
    {
      "cell_type": "code",
      "metadata": {
        "id": "wpzChtPFOIL1",
        "colab": {
          "base_uri": "https://localhost:8080/"
        },
        "outputId": "30a94b23-544e-4fc1-ec01-3d5cecd7a7ff"
      },
      "source": [
        "nome, idade, sexo = 'Maria', 32, 'F'\n",
        "\n",
        "# Primeira variável \"nome\" receberá o primeiro atributo \"'Maria'\", segunda\n",
        "# variável \"idade\" receberá o segundo atributo \"32\", e assim por diante...\n",
        "# Esse processo se chama declaração por justaposição.\n",
        "\n",
        "'''\n",
        "Mesmo que:\n",
        "\n",
        "nome = 'Maria'\n",
        "idade = 32\n",
        "sexo = 'F'\n",
        "\n",
        "mas em forma reduzida.\n",
        "'''\n",
        "\n",
        "print(nome)\n",
        "print(idade)\n",
        "print(sexo)\n",
        "\n",
        "print(nome, idade, sexo)\n"
      ],
      "execution_count": null,
      "outputs": [
        {
          "output_type": "stream",
          "text": [
            "Maria\n",
            "32\n",
            "F\n",
            "Maria 32 F\n"
          ],
          "name": "stdout"
        }
      ]
    },
    {
      "cell_type": "markdown",
      "metadata": {
        "id": "lEIZ7OteW9sD"
      },
      "source": [
        "Declarando múltiplas variáveis de mesmo tipo e dado/valor"
      ]
    },
    {
      "cell_type": "code",
      "metadata": {
        "id": "vzo-mowSOUiy",
        "colab": {
          "base_uri": "https://localhost:8080/"
        },
        "outputId": "b30ced78-aa54-4854-a100-7273546e3c8d"
      },
      "source": [
        "num2 = x = a1 = 10\n",
        "\n",
        "# Como as 3 variáveis (num2, x e a1) possuem o mesmo atributo (10), podemos\n",
        "# dizer que são iguais entre si, pois possuem o mesmo atributo.\n",
        "\n",
        "'''\n",
        "Mesmo que:\n",
        "\n",
        "num2 = 10\n",
        "x = 10\n",
        "a1 = 10\n",
        "'''\n",
        "\n",
        "print(num2)\n",
        "print(x)\n",
        "print(a1)\n"
      ],
      "execution_count": null,
      "outputs": [
        {
          "output_type": "stream",
          "text": [
            "10\n",
            "10\n",
            "10\n"
          ],
          "name": "stdout"
        }
      ]
    },
    {
      "cell_type": "markdown",
      "metadata": {
        "id": "61vULMsXW9sE"
      },
      "source": [
        "Operações entre variáveis"
      ]
    },
    {
      "cell_type": "code",
      "metadata": {
        "id": "lDqJVxa7O88u",
        "colab": {
          "base_uri": "https://localhost:8080/"
        },
        "outputId": "e21255ca-a259-49fd-ca76-d4edcb85e860"
      },
      "source": [
        "a = 10\n",
        "b = 5.2\n",
        "\n",
        "print(a + b)\n",
        "# Soma simples dos conteúdos das variáveis a e b\n"
      ],
      "execution_count": null,
      "outputs": [
        {
          "output_type": "stream",
          "text": [
            "15.2\n"
          ],
          "name": "stdout"
        }
      ]
    },
    {
      "cell_type": "code",
      "metadata": {
        "id": "Xn16Vc5_MBQb",
        "colab": {
          "base_uri": "https://localhost:8080/"
        },
        "outputId": "def99499-abdc-4848-f9b8-c18db28abb5e"
      },
      "source": [
        "a = 10\n",
        "b = 5.2\n",
        "\n",
        "c = a + b\n",
        "# Variável c recebe o resultado da soma dos conteúdos das variáveis a e b\n",
        "\n",
        "print(c)"
      ],
      "execution_count": null,
      "outputs": [
        {
          "output_type": "stream",
          "text": [
            "15.2\n"
          ],
          "name": "stdout"
        }
      ]
    },
    {
      "cell_type": "markdown",
      "metadata": {
        "id": "4MrZ2LNRW9sE"
      },
      "source": [
        "Interações entre variáveis"
      ]
    },
    {
      "cell_type": "code",
      "metadata": {
        "id": "EtV3WIr-tt3s",
        "colab": {
          "base_uri": "https://localhost:8080/"
        },
        "outputId": "8c144a5f-6e52-4de9-b830-6f6eb497598d"
      },
      "source": [
        "msg = 'Olá '\n",
        "pessoa = 'Carlos'\n",
        "\n",
        "print(msg + pessoa)\n",
        "# Concatenação dos conteúdos das variáveis msg e pessoa pois ambas são strings\n"
      ],
      "execution_count": null,
      "outputs": [
        {
          "output_type": "stream",
          "text": [
            "Olá Carlos\n"
          ],
          "name": "stdout"
        }
      ]
    },
    {
      "cell_type": "markdown",
      "metadata": {
        "id": "VQ6IgermW9sO"
      },
      "source": [
        "Sintaxe usual permitida"
      ]
    },
    {
      "cell_type": "code",
      "metadata": {
        "id": "0ndNXELxW9sP"
      },
      "source": [
        "nome = 'Fernando'\n",
        "\n",
        "nome2 = 'Fernando'\n",
        "\n",
        "nome_de_variavel = 'Fernando'\n"
      ],
      "execution_count": null,
      "outputs": []
    },
    {
      "cell_type": "markdown",
      "metadata": {
        "id": "sNX8gmo4W9sP"
      },
      "source": [
        "Sintaxe não permitida / não recomendada"
      ]
    },
    {
      "cell_type": "code",
      "metadata": {
        "id": "9rK9QOGE5qIY"
      },
      "source": [
        "# Formas de declarar uma variável que podem gerar erros de interpretação\n",
        "\n",
        "Nome              Nome de variável iniciando em letra maiúscula\n",
        "\n",
        "NOME              Nome de variável escrita totalmente em letras maiúsculas*\n",
        "\n",
        "8dados            Nome de variável iniciando com números\n",
        "\n",
        "_numero           Nome de variável iniciando com caractere especial\n",
        "\n",
        "minha variavel    Nome de variável com espaços\n",
        "\n",
        "número = 12345    Nome de variável contendo acentos\n",
        "\n",
        "(variavel2)       Nome de variável encapsulado em chaves, parênteses ou colchetes\n",
        "\n",
        "# *Uma variável com nome escrito com letras totalmente maiúsculas por\n",
        "# convenção pode ser tratado como uma constante, embora em Python não\n",
        "# existam constantes.\n"
      ],
      "execution_count": null,
      "outputs": []
    },
    {
      "cell_type": "markdown",
      "metadata": {
        "id": "AjWUcwxXW9sQ"
      },
      "source": [
        "Palavras reservadas ao sistema"
      ]
    },
    {
      "cell_type": "code",
      "metadata": {
        "id": "6Qh_yQ9A5syu"
      },
      "source": [
        "# Palavras que não podem ser usadas como nome de variáveis, funções, classes, etc...\n",
        "\n",
        "and        del        from        not        while\n",
        "\n",
        "as         elif       global      or         with\n",
        "\n",
        "assert     else       if          pass       yield\n",
        "\n",
        "break      except     import      print\n",
        "\n",
        "class      exec       in          raise\n",
        "\n",
        "continue   finally    is          return\n",
        "\n",
        "def        for        lambda      try\n",
        "\n",
        "# Palavras reservadas ao sistema são marcadores para que o interpretador da\n",
        "# linguagem identifique estruturas de código padrão, expressões que em geral\n",
        "# estão associadas a possíveis ações a serem realizadas pelo código.\n",
        "# Por exemplo \"while\" é a palavra-chave para uma estrutura de repetição.\n"
      ],
      "execution_count": null,
      "outputs": []
    },
    {
      "cell_type": "markdown",
      "metadata": {
        "id": "Hmuao89QW9sF"
      },
      "source": [
        "Variáveis globais Vs variáveis locais"
      ]
    },
    {
      "cell_type": "code",
      "metadata": {
        "id": "sqyoGFlMvwLG"
      },
      "source": [
        "num1 = 19\n",
        "# Escopo global, visível e iterável por qualquer estrutura do corpo do código.\n",
        "\n",
        "if num1 > 100:\n",
        "  novo_num = num1\n",
        "  # novo_num é acessível e iterável apenas dentro desse bloco de código.\n",
        "  print(novo_num)\n"
      ],
      "execution_count": null,
      "outputs": []
    },
    {
      "cell_type": "markdown",
      "metadata": {
        "id": "A1Ugs4JVifB7"
      },
      "source": [
        "Declarando variáveis de forma reduzida"
      ]
    },
    {
      "cell_type": "code",
      "metadata": {
        "id": "mF9L3ysJih44",
        "colab": {
          "base_uri": "https://localhost:8080/"
        },
        "outputId": "416c98f4-55bd-4ed7-8312-5e31c652282c"
      },
      "source": [
        "# Código usual, prezando pela legibilidade do mesmo\n",
        "\n",
        "nome = 'Maria'\n",
        "idade = 29\n",
        "\n",
        "print(f'{nome} tem {idade} anos!!!')\n"
      ],
      "execution_count": null,
      "outputs": [
        {
          "output_type": "stream",
          "text": [
            "Maria tem 29 anos!!!\n"
          ],
          "name": "stdout"
        }
      ]
    },
    {
      "cell_type": "code",
      "metadata": {
        "id": "1wAwSe8XiyhN",
        "colab": {
          "base_uri": "https://localhost:8080/"
        },
        "outputId": "614ccc36-01ef-4324-dcc6-21783670fa21"
      },
      "source": [
        "# Código reduzido\n",
        "\n",
        "nome = 'Maria'; idade = 29; print(f'{nome} tem {idade} anos!!!')\n",
        "\n",
        "# Uso do separador \" ; \" para incluir na mesma linha várias\n",
        "# declarações/expressões, quando necessário.\n"
      ],
      "execution_count": null,
      "outputs": [
        {
          "output_type": "stream",
          "text": [
            "Maria tem 29 anos!!!\n"
          ],
          "name": "stdout"
        }
      ]
    },
    {
      "cell_type": "markdown",
      "metadata": {
        "id": "o9zox4IhOBBd"
      },
      "source": [
        "Tornando números extensos visualmente melhor identificáveis"
      ]
    },
    {
      "cell_type": "code",
      "metadata": {
        "id": "QogjwB3MOGJX",
        "colab": {
          "base_uri": "https://localhost:8080/"
        },
        "outputId": "a12e6f4a-ae92-4018-ba8a-efe68c616361"
      },
      "source": [
        "num1 = 1000000000000000000\n",
        "# Difícil de identificar\n",
        "\n",
        "num1 = 1_000_000_000_000_000_000\n",
        "# Melhor identificável, um quintilhão \n",
        "# O marcador \" _ \" não afeta a leitura do valor\n",
        "\n",
        "print(num1)\n"
      ],
      "execution_count": null,
      "outputs": [
        {
          "output_type": "stream",
          "text": [
            "1000000000000000000\n"
          ],
          "name": "stdout"
        }
      ]
    },
    {
      "cell_type": "code",
      "metadata": {
        "id": "dKP2i_m3PU8e",
        "colab": {
          "base_uri": "https://localhost:8080/"
        },
        "outputId": "8979957c-6793-44d0-b615-822f39d3eccb"
      },
      "source": [
        "# Tornando o marcador visível no retorno\n",
        "\n",
        "num1 = 1_000_000_000_000_000_000\n",
        "\n",
        "print(f'{num1:,}')\n"
      ],
      "execution_count": null,
      "outputs": [
        {
          "output_type": "stream",
          "text": [
            "1,000,000,000,000,000,000\n"
          ],
          "name": "stdout"
        }
      ]
    },
    {
      "cell_type": "markdown",
      "metadata": {
        "id": "5VpQVBM_EOXn"
      },
      "source": [
        "## Funções Básicas"
      ]
    },
    {
      "cell_type": "markdown",
      "metadata": {
        "id": "PPgxopKBm0eA"
      },
      "source": [
        "Função de saída print( )"
      ]
    },
    {
      "cell_type": "code",
      "metadata": {
        "id": "-y5I3RbyPaaZ",
        "colab": {
          "base_uri": "https://localhost:8080/"
        },
        "outputId": "99644345-e62a-48ca-e7d4-92604161dbb4"
      },
      "source": [
        "# Exibe em tela ou em terminal algo para o usuário\n",
        "\n",
        "print('Seja Bem-Vindo!!!')\n"
      ],
      "execution_count": null,
      "outputs": [
        {
          "output_type": "stream",
          "text": [
            "Seja Bem-Vindo!!!\n"
          ],
          "name": "stdout"
        }
      ]
    },
    {
      "cell_type": "markdown",
      "metadata": {
        "id": "xHxaTebMW9sS"
      },
      "source": [
        "Exibindo em tela o conteúdo de uma variável"
      ]
    },
    {
      "cell_type": "code",
      "metadata": {
        "id": "g-Vslr9uERfv",
        "colab": {
          "base_uri": "https://localhost:8080/"
        },
        "outputId": "9f46e031-335e-42df-ea6a-1448136a83b9"
      },
      "source": [
        "nome = 'Fernando'\n",
        "\n",
        "print('Fernando')\n",
        "# Exibindo diretamente a string 'Fernando'\n",
        "\n",
        "print(nome)\n",
        "# Exibindo o conteúdo da variável nome, nesse caso, 'Fernando'\n"
      ],
      "execution_count": null,
      "outputs": [
        {
          "output_type": "stream",
          "text": [
            "Fernando\n",
            "Fernando\n"
          ],
          "name": "stdout"
        }
      ]
    },
    {
      "cell_type": "markdown",
      "metadata": {
        "id": "ZAJ7Fyf_W9sS"
      },
      "source": [
        "Operações aritméticas diretamente dentro da função print( )"
      ]
    },
    {
      "cell_type": "code",
      "metadata": {
        "id": "pO6aG3z4kyUu",
        "colab": {
          "base_uri": "https://localhost:8080/"
        },
        "outputId": "5d1b8625-3da0-4088-ee6c-684c2220980c"
      },
      "source": [
        "print(15 + 4)\n",
        "# 15 mais 4\n",
        "\n",
        "print(15 - 4)\n",
        "# 15 menos 4\n",
        "\n",
        "print(15 * 4)\n",
        "# 15 vezes 4\n",
        "\n",
        "print(15 / 4)\n",
        "# 15 dividido por 4\n",
        "\n",
        "# O resultado será exibido normalmente, porém, a função print( ) apenas exibe\n",
        "# em tela o resultado, o mesmo não ficará salvo, a menos que esteja associado\n",
        "# a uma variável.\n"
      ],
      "execution_count": null,
      "outputs": [
        {
          "output_type": "stream",
          "text": [
            "19\n",
            "11\n",
            "60\n",
            "3.75\n"
          ],
          "name": "stdout"
        }
      ]
    },
    {
      "cell_type": "markdown",
      "metadata": {
        "id": "hz400EIFW9sT"
      },
      "source": [
        "Operações entre dados/valores declarados e dados/valores atribuídos"
      ]
    },
    {
      "cell_type": "code",
      "metadata": {
        "id": "m03AedTJ8fJY",
        "colab": {
          "base_uri": "https://localhost:8080/"
        },
        "outputId": "085e5d63-b227-4cb5-8a9c-a62fb697b1c8"
      },
      "source": [
        "numero3 = 30\n",
        "\n",
        "print('O resultado da soma é: ', numero3 + 15)\n",
        "# Mesmo que: print('O resultado da soma é: 30 + 15')\n"
      ],
      "execution_count": null,
      "outputs": [
        {
          "output_type": "stream",
          "text": [
            "O resultado da soma é:  45\n"
          ],
          "name": "stdout"
        }
      ]
    },
    {
      "cell_type": "markdown",
      "metadata": {
        "id": "UtWNy2noW9sU"
      },
      "source": [
        "Operações lógicas diretamente dentro da função print( )"
      ]
    },
    {
      "cell_type": "code",
      "metadata": {
        "id": "bsQBB8LilU21",
        "colab": {
          "base_uri": "https://localhost:8080/"
        },
        "outputId": "b156aba7-259a-4de2-e8b3-6a093c597d15"
      },
      "source": [
        "numero = 9\n",
        "\n",
        "print(numero > 3)\n",
        "# o conteúdo da variável numero (9) é maior que 3?\n",
        "\n",
        "print(numero < 10)\n",
        "# 9 é menor que 10?\n",
        "\n",
        "print(numero == 11)\n",
        "# 9 é igual a 11?\n",
        "\n",
        "print(numero >= 12)\n",
        "# 9 é igual ou maior que 12?\n"
      ],
      "execution_count": null,
      "outputs": [
        {
          "output_type": "stream",
          "text": [
            "True\n",
            "True\n",
            "False\n",
            "False\n"
          ],
          "name": "stdout"
        }
      ]
    },
    {
      "cell_type": "markdown",
      "metadata": {
        "id": "eOYjgUsBW9sV"
      },
      "source": [
        "f'Strings e máscaras de substituição dentro da função print( )"
      ]
    },
    {
      "cell_type": "code",
      "metadata": {
        "id": "Uf6Cyki7ltkV",
        "colab": {
          "base_uri": "https://localhost:8080/"
        },
        "outputId": "0edc3766-3557-4f07-99dc-4b4bb069a246"
      },
      "source": [
        "nome = 'Fernando'\n",
        "\n",
        "print(f'Seja muito bem-vindo {nome}!!!')\n",
        "# Dentro da máscara { } será instanciado o conteúdo da variável nome.\n"
      ],
      "execution_count": null,
      "outputs": [
        {
          "output_type": "stream",
          "text": [
            "Seja muito bem-vindo Fernando!!!\n"
          ],
          "name": "stdout"
        }
      ]
    },
    {
      "cell_type": "markdown",
      "metadata": {
        "id": "OQvgah4mW9sV"
      },
      "source": [
        "Operadores aritméticos dentro de máscaras de substituição"
      ]
    },
    {
      "cell_type": "code",
      "metadata": {
        "id": "ru5gPWyOp-up",
        "colab": {
          "base_uri": "https://localhost:8080/"
        },
        "outputId": "a72c536a-a7bc-4f73-e9f3-b03622d46b81"
      },
      "source": [
        "camisa = 19.90\n",
        "calca = 39.90\n",
        "\n",
        "print(f'A soma dos produtos do carrinho é: {camisa + calca}')\n",
        "# Dentro da máscara { } serão somados os conteúdos das variáveis camisa e calca\n"
      ],
      "execution_count": null,
      "outputs": [
        {
          "output_type": "stream",
          "text": [
            "A soma dos produtos do carrinho é: 59.8\n"
          ],
          "name": "stdout"
        }
      ]
    },
    {
      "cell_type": "markdown",
      "metadata": {
        "id": "jRKD957NW9sW"
      },
      "source": [
        "Operadores lógicos dentro de máscaras de substituição"
      ]
    },
    {
      "cell_type": "code",
      "metadata": {
        "id": "BtYgA3NGW9sW",
        "colab": {
          "base_uri": "https://localhost:8080/"
        },
        "outputId": "a33f5c26-b3e2-4423-db3a-5a1234b965cf"
      },
      "source": [
        "altura = 29\n",
        "largura = 12\n",
        "\n",
        "print(f'A altura do prédio é maior que sua largura? {altura > largura}')\n",
        "# Dentro da máscara { } será validada a expressão lógica \"o valor de altura é \n",
        "# maior que o valor de largura?\"\n"
      ],
      "execution_count": null,
      "outputs": [
        {
          "output_type": "stream",
          "text": [
            "A altura do prédio é maior que sua largura? True\n"
          ],
          "name": "stdout"
        }
      ]
    },
    {
      "cell_type": "markdown",
      "metadata": {
        "id": "FIJjex8nW9sX"
      },
      "source": [
        "Sintaxe antiga Vs sintaxe atual moderna"
      ]
    },
    {
      "cell_type": "code",
      "metadata": {
        "id": "lBZjWYw7hK_1",
        "colab": {
          "base_uri": "https://localhost:8080/"
        },
        "outputId": "3a8188df-f03a-4dad-ad6e-121d4e18dda7"
      },
      "source": [
        "nome = 'Maria'\n",
        "\n",
        "# Sintaxe funcional básica  //  Defasada\n",
        "print('Bem-vindo', nome,'!!!')\n",
        "\n",
        "# Sintaxe funcional  //  Defasada\n",
        "print('Bem-vindo' + ' ' + nome + ' ' '!!!')\n",
        "\n",
        "# Sintaxe antiga  //  Defasada\n",
        "print('Bem-vindo %s !!!'%nome) \n",
        "\n",
        "# Sintaxe usual  //  Defasada\n",
        "print('Bem-vindo {} !!!'.format(nome)) \n",
        "\n",
        "\n",
        "# Sintaxe moderna atual\n",
        "print(f'Bem-vindo {nome} !!!')\n",
        "\n",
        "# Apesar da evolução da linguagem, é perfeitamente possível\n",
        "# usar da sintaxe antiga de acordo com sua preferência.\n"
      ],
      "execution_count": null,
      "outputs": [
        {
          "output_type": "stream",
          "text": [
            "Bem-vindo Maria !!!\n",
            "Bem-vindo Maria !!!\n",
            "Bem-vindo Maria !!!\n",
            "Bem-vindo Maria !!!\n",
            "Bem-vindo Maria !!!\n"
          ],
          "name": "stdout"
        }
      ]
    },
    {
      "cell_type": "markdown",
      "metadata": {
        "id": "oW6_qTCIR3Ov"
      },
      "source": [
        "Função de entrada input( )"
      ]
    },
    {
      "cell_type": "code",
      "metadata": {
        "id": "6wzUvKiFR7TI",
        "colab": {
          "base_uri": "https://localhost:8080/"
        },
        "outputId": "f87941c6-f77a-45bd-ccbe-ae141385848c"
      },
      "source": [
        "nome = input('Digite o seu nome: ')\n",
        "\n",
        "print(nome)\n",
        "\n",
        "# Função de entrada, interage com o usuário fazendo com que o mesmo\n",
        "# insira dados. Esta função por sua vez deve ser associada a uma variável.\n",
        "# A mesma só termina sua função no momento que o usuário aperta o botão ENTER.\n"
      ],
      "execution_count": null,
      "outputs": [
        {
          "output_type": "stream",
          "text": [
            "Digite o seu nome: Fernando\n",
            "Fernando\n"
          ],
          "name": "stdout"
        }
      ]
    },
    {
      "cell_type": "code",
      "metadata": {
        "id": "Fn6Q26Y0SWBh",
        "colab": {
          "base_uri": "https://localhost:8080/"
        },
        "outputId": "e3ea5707-470a-4172-98e5-470e6c7caeb2"
      },
      "source": [
        "nome = input('Digite o seu nome: ')\n",
        "\n",
        "print(f'Bem-vindo {nome} !!!') \n",
        "\n",
        "# É pedido ao usuário que digite o seu nome, por meio da função input( ),\n",
        "# supondo que o mesmo tenha digitado Alberto, esse dado fica atribuído à\n",
        "# variável nome. Em seguida, o conteúdo da variável nome é instanciado na\n",
        "# máscara de sibstituição { } inserida na função print( ).\n"
      ],
      "execution_count": null,
      "outputs": [
        {
          "output_type": "stream",
          "text": [
            "Digite o seu nome: Fernando\n",
            "Bem-vindo Fernando !!!\n"
          ],
          "name": "stdout"
        }
      ]
    },
    {
      "cell_type": "markdown",
      "metadata": {
        "id": "a1xZFCoCEUar"
      },
      "source": [
        "## Operadores Aritméticos"
      ]
    },
    {
      "cell_type": "markdown",
      "metadata": {
        "id": "4XSS4pJPW9sa"
      },
      "source": [
        "Soma"
      ]
    },
    {
      "cell_type": "code",
      "metadata": {
        "id": "rhnkl0Jgq43C",
        "colab": {
          "base_uri": "https://localhost:8080/"
        },
        "outputId": "9add873e-6f61-41e3-aa89-18a3c210ca7f"
      },
      "source": [
        "print(5 + 7)\n"
      ],
      "execution_count": null,
      "outputs": [
        {
          "output_type": "stream",
          "text": [
            "12\n"
          ],
          "name": "stdout"
        }
      ]
    },
    {
      "cell_type": "markdown",
      "metadata": {
        "id": "yzNUKVp1W9sa"
      },
      "source": [
        "Subtração"
      ]
    },
    {
      "cell_type": "code",
      "metadata": {
        "id": "vOSo6sYqr-7s",
        "colab": {
          "base_uri": "https://localhost:8080/"
        },
        "outputId": "dd2f4583-a548-4269-f3da-4dc1543eded2"
      },
      "source": [
        "print(12 - 3)\n"
      ],
      "execution_count": null,
      "outputs": [
        {
          "output_type": "stream",
          "text": [
            "9\n"
          ],
          "name": "stdout"
        }
      ]
    },
    {
      "cell_type": "markdown",
      "metadata": {
        "id": "_9UZCP_oW9sb"
      },
      "source": [
        "Multiplicação"
      ]
    },
    {
      "cell_type": "code",
      "metadata": {
        "id": "xi28xC4Ar_Eq",
        "colab": {
          "base_uri": "https://localhost:8080/"
        },
        "outputId": "54d2cdfa-68d1-4c4d-a512-ef1ef2ab1512"
      },
      "source": [
        "print(5 * 7)\n"
      ],
      "execution_count": null,
      "outputs": [
        {
          "output_type": "stream",
          "text": [
            "35\n"
          ],
          "name": "stdout"
        }
      ]
    },
    {
      "cell_type": "markdown",
      "metadata": {
        "id": "FnNhrfpxW9sc"
      },
      "source": [
        "Divisão"
      ]
    },
    {
      "cell_type": "code",
      "metadata": {
        "id": "OBL7N9fDr-5C",
        "colab": {
          "base_uri": "https://localhost:8080/"
        },
        "outputId": "80a05f58-5222-42f9-8384-deee34e06d4f"
      },
      "source": [
        "print(120 / 6)\n"
      ],
      "execution_count": null,
      "outputs": [
        {
          "output_type": "stream",
          "text": [
            "20.0\n"
          ],
          "name": "stdout"
        }
      ]
    },
    {
      "cell_type": "markdown",
      "metadata": {
        "id": "SxBvcyn_W9sc"
      },
      "source": [
        "Mais de uma operação simples"
      ]
    },
    {
      "cell_type": "code",
      "metadata": {
        "id": "TiLXyna3r-2B",
        "colab": {
          "base_uri": "https://localhost:8080/"
        },
        "outputId": "d0e956c3-d5ee-4806-931e-97338269c257"
      },
      "source": [
        "print(5 + 2 * 7)\n"
      ],
      "execution_count": null,
      "outputs": [
        {
          "output_type": "stream",
          "text": [
            "19\n"
          ],
          "name": "stdout"
        }
      ]
    },
    {
      "cell_type": "markdown",
      "metadata": {
        "id": "LyWqCuu5W9sd"
      },
      "source": [
        "Operação matemática composta"
      ]
    },
    {
      "cell_type": "code",
      "metadata": {
        "id": "QhYocEbdq4xk",
        "colab": {
          "base_uri": "https://localhost:8080/"
        },
        "outputId": "a700e435-2256-417a-a1b3-660ca0f4aca4"
      },
      "source": [
        "print((5 + 2) * 7)\n",
        "# Primeiro será realizada a operação dentro dos parênteses, posteriormente o resto.\n"
      ],
      "execution_count": null,
      "outputs": [
        {
          "output_type": "stream",
          "text": [
            "49\n"
          ],
          "name": "stdout"
        }
      ]
    },
    {
      "cell_type": "markdown",
      "metadata": {
        "id": "v3misn90W9se"
      },
      "source": [
        "Potenciação"
      ]
    },
    {
      "cell_type": "code",
      "metadata": {
        "id": "4fFVtiavsKNJ",
        "colab": {
          "base_uri": "https://localhost:8080/"
        },
        "outputId": "d6d7ffce-3e03-47ef-afd6-cf30bad85569"
      },
      "source": [
        "print(3 ** 5)\n",
        "# 3 elevado a 5ª potência\n"
      ],
      "execution_count": null,
      "outputs": [
        {
          "output_type": "stream",
          "text": [
            "243\n"
          ],
          "name": "stdout"
        }
      ]
    },
    {
      "cell_type": "markdown",
      "metadata": {
        "id": "rbt_BJXQW9sf"
      },
      "source": [
        "Divisão exata"
      ]
    },
    {
      "cell_type": "code",
      "metadata": {
        "id": "_2-CtLtasKWv",
        "colab": {
          "base_uri": "https://localhost:8080/"
        },
        "outputId": "50cba829-43e6-48e2-9651-51ed2cdf9670"
      },
      "source": [
        "print(9.4 // 3)\n"
      ],
      "execution_count": null,
      "outputs": [
        {
          "output_type": "stream",
          "text": [
            "3.0\n"
          ],
          "name": "stdout"
        }
      ]
    },
    {
      "cell_type": "markdown",
      "metadata": {
        "id": "Ki1-r6ghW9sf"
      },
      "source": [
        "Módulo/resto de uma divisão"
      ]
    },
    {
      "cell_type": "code",
      "metadata": {
        "id": "j6TexQICsKc9",
        "colab": {
          "base_uri": "https://localhost:8080/"
        },
        "outputId": "0420812d-bfa7-4a4a-f2f4-20f3e7f98d7c"
      },
      "source": [
        "print(10 % 3)\n"
      ],
      "execution_count": null,
      "outputs": [
        {
          "output_type": "stream",
          "text": [
            "1\n"
          ],
          "name": "stdout"
        }
      ]
    },
    {
      "cell_type": "markdown",
      "metadata": {
        "id": "7AokrePVnUgH"
      },
      "source": [
        "## Operadores de Atribuição"
      ]
    },
    {
      "cell_type": "markdown",
      "metadata": {
        "id": "IMS4nLClW9sg"
      },
      "source": [
        "Operador de atribuição \" = \""
      ]
    },
    {
      "cell_type": "code",
      "metadata": {
        "id": "eGyTZf3XEXNZ",
        "colab": {
          "base_uri": "https://localhost:8080/"
        },
        "outputId": "1c9537e4-d0d5-44ec-c29e-c7c9c9f98f55"
      },
      "source": [
        "nome = 'Fernando'\n",
        "# = atribui um dado/valor a uma variável\n",
        "\n",
        "idade = 33\n",
        "\n",
        "# Símbolo \" = \" quando usado uma vez é um operador de atribuição,\n",
        "# quando usado duas vezes \" == \" é um operador de igualdade.\n",
        "\n",
        "print(nome)\n",
        "print(idade)\n"
      ],
      "execution_count": null,
      "outputs": [
        {
          "output_type": "stream",
          "text": [
            "Fernando\n",
            "33\n"
          ],
          "name": "stdout"
        }
      ]
    },
    {
      "cell_type": "markdown",
      "metadata": {
        "id": "zvNVDRRYW9sh"
      },
      "source": [
        "Atribuição aditiva"
      ]
    },
    {
      "cell_type": "code",
      "metadata": {
        "id": "Cr7Zuk6RnXvF",
        "colab": {
          "base_uri": "https://localhost:8080/"
        },
        "outputId": "bbbac417-46e0-44fb-85ee-70b7726d4e14"
      },
      "source": [
        "valor = 4\n",
        "\n",
        "valor += 5\n",
        "\n",
        "'''\n",
        "Mesmo que:\n",
        "valor = valor + 5\n",
        "'''\n",
        "\n",
        "print(valor)\n"
      ],
      "execution_count": null,
      "outputs": [
        {
          "output_type": "stream",
          "text": [
            "9\n"
          ],
          "name": "stdout"
        }
      ]
    },
    {
      "cell_type": "markdown",
      "metadata": {
        "id": "_64KuZRLW9si"
      },
      "source": [
        "Atribuição subtrativa"
      ]
    },
    {
      "cell_type": "code",
      "metadata": {
        "id": "6nnY6XSHnX13",
        "colab": {
          "base_uri": "https://localhost:8080/"
        },
        "outputId": "7b4a6e73-1869-4c17-f897-44cfcd5a6138"
      },
      "source": [
        "valor = 4\n",
        "\n",
        "valor -= 3\n",
        "\n",
        "'''\n",
        "Mesmo que:\n",
        "valor = valor - 3\n",
        "'''\n",
        "\n",
        "print(valor)\n"
      ],
      "execution_count": null,
      "outputs": [
        {
          "output_type": "stream",
          "text": [
            "1\n"
          ],
          "name": "stdout"
        }
      ]
    },
    {
      "cell_type": "markdown",
      "metadata": {
        "id": "am1bpjBFW9sj"
      },
      "source": [
        "Atribuição multiplicativa"
      ]
    },
    {
      "cell_type": "code",
      "metadata": {
        "id": "zaYb3iEBnX81",
        "colab": {
          "base_uri": "https://localhost:8080/"
        },
        "outputId": "4872b296-b75a-43ed-bf84-124dc3217f39"
      },
      "source": [
        "valor = 4\n",
        "\n",
        "valor *= 3\n",
        "\n",
        "'''\n",
        "Mesmo que:\n",
        "valor = valor * 3\n",
        "'''\n",
        "\n",
        "print(valor)\n"
      ],
      "execution_count": null,
      "outputs": [
        {
          "output_type": "stream",
          "text": [
            "12\n"
          ],
          "name": "stdout"
        }
      ]
    },
    {
      "cell_type": "markdown",
      "metadata": {
        "id": "hj8Tek5jW9sj"
      },
      "source": [
        "Atribuição divisiva"
      ]
    },
    {
      "cell_type": "code",
      "metadata": {
        "id": "3dOAJliGq4l3",
        "colab": {
          "base_uri": "https://localhost:8080/"
        },
        "outputId": "451f059e-8714-4a1e-d79d-108b250b1d34"
      },
      "source": [
        "valor = 12\n",
        "\n",
        "valor /= 2\n",
        "\n",
        "'''\n",
        "Mesmo que:\n",
        "valor = valor / 2\n",
        "'''\n",
        "\n",
        "print(valor)\n"
      ],
      "execution_count": null,
      "outputs": [
        {
          "output_type": "stream",
          "text": [
            "6.0\n"
          ],
          "name": "stdout"
        }
      ]
    },
    {
      "cell_type": "markdown",
      "metadata": {
        "id": "ksvmEvJsW9sk"
      },
      "source": [
        "Atribuição de módulo/resto de divisão"
      ]
    },
    {
      "cell_type": "code",
      "metadata": {
        "id": "U8gEWuCTq4tC",
        "colab": {
          "base_uri": "https://localhost:8080/"
        },
        "outputId": "89bb7fc3-6979-42ae-c267-f375c3ca7f9b"
      },
      "source": [
        "valor = 12\n",
        "\n",
        "valor %= 2\n",
        "\n",
        "'''\n",
        "Mesmo que:\n",
        "valor = valor % 4\n",
        "'''\n",
        "\n",
        "print(valor)\n"
      ],
      "execution_count": null,
      "outputs": [
        {
          "output_type": "stream",
          "text": [
            "0\n"
          ],
          "name": "stdout"
        }
      ]
    },
    {
      "cell_type": "markdown",
      "metadata": {
        "id": "nWLw8zsZW9sl"
      },
      "source": [
        "Atribuição divisiva inteira"
      ]
    },
    {
      "cell_type": "code",
      "metadata": {
        "id": "Qikh3PF8rf01",
        "colab": {
          "base_uri": "https://localhost:8080/"
        },
        "outputId": "77d466ec-d660-42d1-905c-8531e5c07b51"
      },
      "source": [
        "valor = 512\n",
        "\n",
        "valor //= 256\n",
        "\n",
        "'''\n",
        "Mesmo que:\n",
        "valor = valor // 256\n",
        "'''\n",
        "\n",
        "print(valor)\n"
      ],
      "execution_count": null,
      "outputs": [
        {
          "output_type": "stream",
          "text": [
            "2\n"
          ],
          "name": "stdout"
        }
      ]
    },
    {
      "cell_type": "markdown",
      "metadata": {
        "id": "bPyylr73W9sm"
      },
      "source": [
        "Atribuição exponenciativa"
      ]
    },
    {
      "cell_type": "code",
      "metadata": {
        "id": "BvGg05Mkq4zW",
        "colab": {
          "base_uri": "https://localhost:8080/"
        },
        "outputId": "99b8ea94-d3fe-46a6-d6ac-385c3ec4e79c"
      },
      "source": [
        "valor = 4\n",
        "\n",
        "valor **= 8\n",
        "\n",
        "'''\n",
        "Mesmo que:\n",
        "valor = valor ** 8\n",
        "ou\n",
        "valor = 4 * 4 * 4 * 4 * 4 * 4 * 4 * 4\n",
        "'''\n",
        "\n",
        "print(valor)\n"
      ],
      "execution_count": null,
      "outputs": [
        {
          "output_type": "stream",
          "text": [
            "65536\n"
          ],
          "name": "stdout"
        }
      ]
    },
    {
      "cell_type": "markdown",
      "metadata": {
        "id": "5qgPdRitW9sn"
      },
      "source": [
        "Arredondando valores de casas decimais"
      ]
    },
    {
      "cell_type": "code",
      "metadata": {
        "id": "QfeQvQC-rbpA",
        "colab": {
          "base_uri": "https://localhost:8080/"
        },
        "outputId": "12ee8fb2-1513-49f6-a30c-9fb87e8f327d"
      },
      "source": [
        "equacao = ((50 + 25) * 7.2) / 3.8\n",
        "\n",
        "print(f'O resultado bruto da equação é: {equacao}')\n",
        "\n",
        "print(f'O resultado arredondado da equação é: {equacao:.2f}')\n",
        "# :.2f define quantas casas decimais serão exibidas após a vírgula\n",
        "\n",
        "print(f'O resultado arredondado da equação é: {round(equacao, 2)}')\n",
        "# Função round() parametrizada com a expressão e em seguida com o número de casas após a vírgula\n"
      ],
      "execution_count": null,
      "outputs": [
        {
          "output_type": "stream",
          "text": [
            "O resultado bruto da equação é: 142.10526315789474\n",
            "O resultado arredondado da equação é: 142.11\n",
            "O resultado arredondado da equação é: 142.11\n"
          ],
          "name": "stdout"
        }
      ]
    },
    {
      "cell_type": "markdown",
      "metadata": {
        "id": "exsKYDeRsXOx"
      },
      "source": [
        "## Operadores Lógicos"
      ]
    },
    {
      "cell_type": "markdown",
      "metadata": {
        "id": "Ug9gMCjHW9so"
      },
      "source": [
        "Operador de igualdade"
      ]
    },
    {
      "cell_type": "code",
      "metadata": {
        "id": "B3SQk1uUBtua",
        "colab": {
          "base_uri": "https://localhost:8080/"
        },
        "outputId": "e7f6ce10-b038-4952-911d-28e1d19a8c39"
      },
      "source": [
        "print(5 == 6)\n",
        "# 5 é igual a 6?\n",
        "\n",
        "print(12 == 12)\n"
      ],
      "execution_count": null,
      "outputs": [
        {
          "output_type": "stream",
          "text": [
            "False\n",
            "True\n"
          ],
          "name": "stdout"
        }
      ]
    },
    {
      "cell_type": "markdown",
      "metadata": {
        "id": "MGpqy3xBW9so"
      },
      "source": [
        "Operador de diferença"
      ]
    },
    {
      "cell_type": "code",
      "metadata": {
        "id": "evpRFO4psKg4",
        "colab": {
          "base_uri": "https://localhost:8080/"
        },
        "outputId": "5a5847a6-a8e8-4353-c1db-cc99413f96f5"
      },
      "source": [
        "print(7 != 3)\n",
        "# 7 é diferente de 3?\n"
      ],
      "execution_count": null,
      "outputs": [
        {
          "output_type": "stream",
          "text": [
            "True\n"
          ],
          "name": "stdout"
        }
      ]
    },
    {
      "cell_type": "markdown",
      "metadata": {
        "id": "BcVezcWwW9sq"
      },
      "source": [
        "Operadores lógicos compostos"
      ]
    },
    {
      "cell_type": "markdown",
      "metadata": {
        "id": "vA8IJHJNW9sq"
      },
      "source": [
        "Operador or"
      ]
    },
    {
      "cell_type": "code",
      "metadata": {
        "id": "uRGAzmNvG4ja",
        "colab": {
          "base_uri": "https://localhost:8080/"
        },
        "outputId": "1292e9d0-4cc4-417e-ff93-36c3845d63ce"
      },
      "source": [
        "# Apenas uma proposição precisa ser verdadeira para o retorno ser True\n",
        "\n",
        "print(7 != 3 or 2 > 3)\n",
        "# 7 é diferente de 3 OU 2 é maior que 3?\n"
      ],
      "execution_count": null,
      "outputs": [
        {
          "output_type": "stream",
          "text": [
            "True\n"
          ],
          "name": "stdout"
        }
      ]
    },
    {
      "cell_type": "markdown",
      "metadata": {
        "id": "yjtBbh17W9sr"
      },
      "source": [
        "Operador and"
      ]
    },
    {
      "cell_type": "code",
      "metadata": {
        "id": "vqBPYS5dscFY",
        "colab": {
          "base_uri": "https://localhost:8080/"
        },
        "outputId": "143e15db-f01a-4825-f86a-7d3e81f039db"
      },
      "source": [
        "# Todas as condições precisam ser verdadeiras para o retorno ser True\n",
        "\n",
        "print(7 != 3 and 2 > 3)\n",
        "#7 é diferente de 3 E 2 é maior que 3?\n"
      ],
      "execution_count": null,
      "outputs": [
        {
          "output_type": "stream",
          "text": [
            "False\n"
          ],
          "name": "stdout"
        }
      ]
    },
    {
      "cell_type": "markdown",
      "metadata": {
        "id": "_4qheb-jW9ss"
      },
      "source": [
        "Operador is"
      ]
    },
    {
      "cell_type": "code",
      "metadata": {
        "id": "1VGXi7aRscDm",
        "colab": {
          "base_uri": "https://localhost:8080/"
        },
        "outputId": "23840740-5151-451f-be93-6763262a4598"
      },
      "source": [
        "num1 = 4\n",
        "num2 = 9\n",
        "num3 = 9\n",
        "\n",
        "print(num1 == num2)\n",
        "# o valor de num1 é igual ao valor de num2?\n",
        "\n",
        "print(num1 is num2)\n",
        "# o valor de num1 é a mesma coisa que o valor de num2?\n",
        "\n",
        "print(num2 is 9)\n",
        "# o valor de num2 é 9?\n",
        "\n",
        "# Outras expressões dependem de qual contexto serão aplicadas.\n"
      ],
      "execution_count": null,
      "outputs": [
        {
          "output_type": "stream",
          "text": [
            "False\n",
            "False\n",
            "True\n"
          ],
          "name": "stdout"
        }
      ]
    },
    {
      "cell_type": "markdown",
      "metadata": {
        "id": "VmE2KJYzspKg"
      },
      "source": [
        "Operadores de Membro"
      ]
    },
    {
      "cell_type": "markdown",
      "metadata": {
        "id": "xYolQqNyW9su"
      },
      "source": [
        "Operador in"
      ]
    },
    {
      "cell_type": "code",
      "metadata": {
        "id": "vy31hDvKscAg",
        "colab": {
          "base_uri": "https://localhost:8080/"
        },
        "outputId": "3240e182-b084-404d-ec94-2b1c0fb89b72"
      },
      "source": [
        "# Verifica se um elemento é membro daquele tipo de dado\n",
        "\n",
        "lista = [1, 2, 3, 'Ana', 'Maria']\n",
        "\n",
        "print(2 in lista)\n",
        "# 2 está dentro de lista (dentro do conteúdo de lista)?\n"
      ],
      "execution_count": null,
      "outputs": [
        {
          "output_type": "stream",
          "text": [
            "True\n"
          ],
          "name": "stdout"
        }
      ]
    },
    {
      "cell_type": "markdown",
      "metadata": {
        "id": "aGEqqOI2W9sv"
      },
      "source": [
        "Operador not in"
      ]
    },
    {
      "cell_type": "code",
      "metadata": {
        "id": "zNzgh4Gisb92",
        "colab": {
          "base_uri": "https://localhost:8080/"
        },
        "outputId": "1e85d920-eaa6-4cfb-ff56-0c11849ab1d6"
      },
      "source": [
        "# Verifica se um elemento não faz parte daquele tipo de dado\n",
        "\n",
        "lista = [1, 2, 3, 'Ana', 'Maria'] \n",
        "\n",
        "print('Maria' not in lista)\n",
        "# 'Maria' não está em lista (dentro do conteúdo de lista)?\n"
      ],
      "execution_count": null,
      "outputs": [
        {
          "output_type": "stream",
          "text": [
            "False\n"
          ],
          "name": "stdout"
        }
      ]
    },
    {
      "cell_type": "markdown",
      "metadata": {
        "id": "IYKKfTnIsvlA"
      },
      "source": [
        "Operadores Relacionais"
      ]
    },
    {
      "cell_type": "markdown",
      "metadata": {
        "id": "ZKFhg3djW9sx"
      },
      "source": [
        "Maior que"
      ]
    },
    {
      "cell_type": "code",
      "metadata": {
        "id": "ZHmknNHfsb7R",
        "colab": {
          "base_uri": "https://localhost:8080/"
        },
        "outputId": "bd1248a6-7a86-4326-aaf2-22bfc0cca5cf"
      },
      "source": [
        "idade = 3\n",
        "\n",
        "print(idade > 4)\n",
        "# 3 é maior que 4?\n"
      ],
      "execution_count": null,
      "outputs": [
        {
          "output_type": "stream",
          "text": [
            "False\n"
          ],
          "name": "stdout"
        }
      ]
    },
    {
      "cell_type": "markdown",
      "metadata": {
        "id": "2ns2mdqKW9sx"
      },
      "source": [
        "Igual ou maior que"
      ]
    },
    {
      "cell_type": "code",
      "metadata": {
        "id": "_CkKsFb0sxly",
        "colab": {
          "base_uri": "https://localhost:8080/"
        },
        "outputId": "3be40754-5cae-4661-f3ff-6d46f918e154"
      },
      "source": [
        "num1 = 7\n",
        "\n",
        "print(num1 >= 7)  \n",
        "# 7 é maior ou igual a 3?\n"
      ],
      "execution_count": null,
      "outputs": [
        {
          "output_type": "stream",
          "text": [
            "True\n"
          ],
          "name": "stdout"
        }
      ]
    },
    {
      "cell_type": "code",
      "metadata": {
        "id": "JK9lkhERs4Zg",
        "colab": {
          "base_uri": "https://localhost:8080/"
        },
        "outputId": "2b7ea42d-1aed-4c57-c7b9-57549b7f540b"
      },
      "source": [
        "# Operações entre valores atribuídos a variáveis\n",
        "\n",
        "x = 2\n",
        "z = 5\n",
        "\n",
        "print(x > z)\n",
        "# O valor de x é maior que o valor de z?\n"
      ],
      "execution_count": null,
      "outputs": [
        {
          "output_type": "stream",
          "text": [
            "False\n"
          ],
          "name": "stdout"
        }
      ]
    },
    {
      "cell_type": "markdown",
      "metadata": {
        "id": "rE9SOlLbW9s0"
      },
      "source": [
        "Menor ou igual a"
      ]
    },
    {
      "cell_type": "code",
      "metadata": {
        "id": "Be_q3Fs5s4XZ",
        "colab": {
          "base_uri": "https://localhost:8080/"
        },
        "outputId": "b025b494-3637-4e22-ac13-604d51cf1807"
      },
      "source": [
        "y = 7\n",
        "z = 5\n",
        "\n",
        "print(z <= y)\n",
        "# O valor de z é igual ou menor que o valor de y?\n"
      ],
      "execution_count": null,
      "outputs": [
        {
          "output_type": "stream",
          "text": [
            "True\n"
          ],
          "name": "stdout"
        }
      ]
    },
    {
      "cell_type": "markdown",
      "metadata": {
        "id": "9YQzXeOCW9s0"
      },
      "source": [
        "Condições lógicas compostas"
      ]
    },
    {
      "cell_type": "code",
      "metadata": {
        "id": "yN2RVtZgs4Uw",
        "colab": {
          "base_uri": "https://localhost:8080/"
        },
        "outputId": "4a870baf-f787-4f0d-b5e7-a1c30f563a79"
      },
      "source": [
        "x = 2\n",
        "y = 7\n",
        "\n",
        "print(x is 2 and y != x)\n",
        "# O valor de x é 2? E o valor de y é diferente do valor de x?\n"
      ],
      "execution_count": null,
      "outputs": [
        {
          "output_type": "stream",
          "text": [
            "True\n"
          ],
          "name": "stdout"
        }
      ]
    },
    {
      "cell_type": "markdown",
      "metadata": {
        "id": "yWHFVP1DaAtc"
      },
      "source": [
        "Operadores em estruturas condicionais"
      ]
    },
    {
      "cell_type": "code",
      "metadata": {
        "id": "a2bTnI5Ns_Dn",
        "colab": {
          "base_uri": "https://localhost:8080/"
        },
        "outputId": "1c2abc3a-871d-482f-c1a8-1b31dd8bdf9c"
      },
      "source": [
        "idade = 21\n",
        "\n",
        "if (idade > 18):\n",
        "        print('Idade adulta.')\n",
        "# se o valor de idade for maior que 18:\n"
      ],
      "execution_count": null,
      "outputs": [
        {
          "output_type": "stream",
          "text": [
            "Idade adulta.\n"
          ],
          "name": "stdout"
        }
      ]
    },
    {
      "cell_type": "code",
      "metadata": {
        "id": "f27G8wG6s_BP",
        "colab": {
          "base_uri": "https://localhost:8080/"
        },
        "outputId": "c4668b84-2a85-45d0-c825-4d70c9b346b8"
      },
      "source": [
        "num1 = 2\n",
        "num2 = 1\n",
        "\n",
        "if num1 > num2:\n",
        "    print('2 é maior que 1')\n",
        "# se o valor de num1 for maior que o valor de num2:\n",
        "    "
      ],
      "execution_count": null,
      "outputs": [
        {
          "output_type": "stream",
          "text": [
            "2 é maior que 1\n"
          ],
          "name": "stdout"
        }
      ]
    },
    {
      "cell_type": "markdown",
      "metadata": {
        "id": "kPp-yuKatNQn"
      },
      "source": [
        "## Operadores de Identidade"
      ]
    },
    {
      "cell_type": "markdown",
      "metadata": {
        "id": "2DDaOXDdW9s2"
      },
      "source": [
        "Operador is"
      ]
    },
    {
      "cell_type": "code",
      "metadata": {
        "id": "z56MLajQtPCf",
        "colab": {
          "base_uri": "https://localhost:8080/"
        },
        "outputId": "ab30de72-1087-4b15-a736-8d2200f5463b"
      },
      "source": [
        "# O valor de uma variável é compatível com outra?\n",
        "\n",
        "aluguel = 250\n",
        "energia = 250\n",
        "agua = 65\n",
        "\n",
        "print(aluguel is energia)\n",
        "# (O valor de) aluguel é (o valor de) energia?\n",
        "\n",
        "print(aluguel is agua)\n",
        "# (O valor de) aluguel é (o mesmo valor) de agua?\n"
      ],
      "execution_count": null,
      "outputs": [
        {
          "output_type": "stream",
          "text": [
            "True\n",
            "False\n"
          ],
          "name": "stdout"
        }
      ]
    },
    {
      "cell_type": "markdown",
      "metadata": {
        "id": "O7okGsokEcJH"
      },
      "source": [
        "## Estruturas Condicionais"
      ]
    },
    {
      "cell_type": "markdown",
      "metadata": {
        "id": "i-laMEUYW9s4"
      },
      "source": [
        "if - Estrutura condicional simples"
      ]
    },
    {
      "cell_type": "code",
      "metadata": {
        "id": "R8_9iJwNDYG7",
        "colab": {
          "base_uri": "https://localhost:8080/"
        },
        "outputId": "01ddd2e8-253c-44de-c3ee-e37e372a8386"
      },
      "source": [
        "nome = input('Digite o seu nome:')\n",
        "\n",
        "if nome == 'Fernando':\n",
        "  print('Bem vindo de volta Fernando!!!')\n",
        "\n",
        "print(f'Você é novo(a) aqui, olá {nome}!!!')\n",
        "\n",
        "# Se a condição for atingida, o bloco indentado a ela é\n",
        "# executado, caso contrario é simplesmente ignorado.\n",
        "\n",
        "# Também chamadas de estruturas de controle de fluxo.\n"
      ],
      "execution_count": null,
      "outputs": [
        {
          "output_type": "stream",
          "text": [
            "Digite o seu nome:Fernando\n",
            "Bem vindo de volta Fernando!!!\n",
            "Você é novo(a) aqui, olá Fernando!!!\n"
          ],
          "name": "stdout"
        }
      ]
    },
    {
      "cell_type": "markdown",
      "metadata": {
        "id": "wLrtj3obW9s4"
      },
      "source": [
        "if, else - Estrutura condicional com dois possíveis desfechos"
      ]
    },
    {
      "cell_type": "code",
      "metadata": {
        "id": "BhXkkppNB-kn",
        "colab": {
          "base_uri": "https://localhost:8080/"
        },
        "outputId": "53183440-9031-480d-e6fa-9072fd44ff27"
      },
      "source": [
        "num = 51\n",
        "\n",
        "if num < 50:\n",
        "  print('Menor que 50')\n",
        "else:\n",
        "  print('Maior que 50')\n",
        "\n",
        "# Se o valor de num for menor que 50, exiba em tela 'Menor que 50',\n",
        "# caso contrário, exiba em tela 'Maior que 50'.\n"
      ],
      "execution_count": null,
      "outputs": [
        {
          "output_type": "stream",
          "text": [
            "Maior que 50\n"
          ],
          "name": "stdout"
        }
      ]
    },
    {
      "cell_type": "markdown",
      "metadata": {
        "id": "Q1JewUlvW9s5"
      },
      "source": [
        "Estrutura condicional composta"
      ]
    },
    {
      "cell_type": "code",
      "metadata": {
        "id": "1kamV4i7EV7a",
        "colab": {
          "base_uri": "https://localhost:8080/"
        },
        "outputId": "3cc92743-174c-43ff-cec6-52cbfc158f52"
      },
      "source": [
        "nome = input('Digite o seu nome:')\n",
        "\n",
        "if nome == 'Fernando':\n",
        "  print('Bem vindo de volta Fernando!!!')\n",
        "if nome == 'Maria':\n",
        "  print('Bem vinda de volta Maria!!!')\n",
        "\n",
        "# Sendo a primeira proposição verdadeira, a execução desse bloco\n",
        "# de código é encerrada.\n"
      ],
      "execution_count": null,
      "outputs": [
        {
          "output_type": "stream",
          "text": [
            "Digite o seu nome:Fernando\n",
            "Bem vindo de volta Fernando!!!\n"
          ],
          "name": "stdout"
        }
      ]
    },
    {
      "cell_type": "code",
      "metadata": {
        "id": "8rA6frhSY-fj",
        "colab": {
          "base_uri": "https://localhost:8080/"
        },
        "outputId": "fff9c3ce-5c80-4026-cb6f-93cdae0a962d"
      },
      "source": [
        "nome = input('Digite o seu nome:')\n",
        "\n",
        "if nome == 'Fernando':\n",
        "  print('Bem vindo de volta Fernando!!!')\n",
        "if nome == 'Maria':\n",
        "  print('Bem vinda de volta Maria!!!')\n",
        "\n",
        "# Quando a primeira proposição não é validada como verdadeira, o\n",
        "# interpretador irá para a segunda proposição, e assim por diante\n",
        "# até encontrar uma proposição verdadeira.\n"
      ],
      "execution_count": null,
      "outputs": [
        {
          "output_type": "stream",
          "text": [
            "Digite o seu nome:Maria\n",
            "Bem vinda de volta Maria!!!\n"
          ],
          "name": "stdout"
        }
      ]
    },
    {
      "cell_type": "code",
      "metadata": {
        "id": "7Q8OKM98Yooe",
        "colab": {
          "base_uri": "https://localhost:8080/"
        },
        "outputId": "771be370-c993-49d7-eaf1-c86a429aa96c"
      },
      "source": [
        "nome = input('Digite o seu nome:')\n",
        "\n",
        "if nome == 'Fernando':\n",
        "    print('Bem vindo de volta Fernando!!!')\n",
        "if nome == 'Carlos':\n",
        "    print('Bem vindo de volta Carlos!!!')\n",
        "if nome == 'Maria':\n",
        "    print('Bem vinda de volta Maria!!!')\n",
        "if nome == 'Tânia':\n",
        "    print('Bem vinda de volta Tânia!!!')\n",
        "else:\n",
        "    print('Você não é Fernando nem Maria...')\n",
        "    print(f'Você é novo(a) aqui, olá {nome}!!!')\n",
        "\n",
        "# Quando nenhuma proposição for verdadeira, é possível por meio\n",
        "# de else criar um retorno padrão para esses casos.\n"
      ],
      "execution_count": null,
      "outputs": [
        {
          "output_type": "stream",
          "text": [
            "Digite o seu nome:Maria\n",
            "Bem vinda de volta Maria!!!\n",
            "Você não é Fernando nem Maria...\n",
            "Você é novo(a) aqui, olá Maria!!!\n"
          ],
          "name": "stdout"
        }
      ]
    },
    {
      "cell_type": "markdown",
      "metadata": {
        "id": "GBOuYsBUW9s6"
      },
      "source": [
        "if, elif, else - Estruturas condicionais aninhadas"
      ]
    },
    {
      "cell_type": "code",
      "metadata": {
        "id": "NHc1XL5kEetN",
        "colab": {
          "base_uri": "https://localhost:8080/"
        },
        "outputId": "922e0d03-d369-4d92-e1c9-d2b12f575526"
      },
      "source": [
        "# Usando elif a partir da segunda proposição, uma proposição sendo verdadeira\n",
        "# já encerra o processo naquele ponto.\n",
        "\n",
        "num1 = float(input('Digite um número: '))\n",
        "\n",
        "if num1 <= 49:\n",
        "    print('Menor que 50')\n",
        "elif num1 == 50:\n",
        "    print('Igual a 50')\n",
        "elif num1 >= 51 and num1 < 100:\n",
        "    print('Maior que 50')\n",
        "else:\n",
        "    print('Número Inválido')\n"
      ],
      "execution_count": null,
      "outputs": [
        {
          "output_type": "stream",
          "text": [
            "Digite um número: 68\n",
            "Maior que 50\n"
          ],
          "name": "stdout"
        }
      ]
    },
    {
      "cell_type": "code",
      "metadata": {
        "id": "6TT_quJpaoGg",
        "colab": {
          "base_uri": "https://localhost:8080/"
        },
        "outputId": "5f8959b1-4989-46a3-d016-bb520dbbc5b7"
      },
      "source": [
        "num1 = float(input('Digite um número: '))\n",
        "\n",
        "if num1 <= 49:\n",
        "    print('Menor que 50')\n",
        "elif num1 == 50:\n",
        "    print('Igual a 50')\n",
        "elif num1 >= 51 and num1 < 100:\n",
        "    print('Maior que 50')\n",
        "else:\n",
        "    print('Número Inválido')\n"
      ],
      "execution_count": null,
      "outputs": [
        {
          "output_type": "stream",
          "text": [
            "Digite um número: 50\n",
            "Igual a 50\n"
          ],
          "name": "stdout"
        }
      ]
    },
    {
      "cell_type": "markdown",
      "metadata": {
        "id": "CCVYnvnuW9s7"
      },
      "source": [
        "Duas ou mais condições sendo verdadeiras"
      ]
    },
    {
      "cell_type": "code",
      "metadata": {
        "id": "MTlM--59udMU",
        "colab": {
          "base_uri": "https://localhost:8080/"
        },
        "outputId": "ac126930-fbde-42ba-a486-ff0605f270d5"
      },
      "source": [
        "nome1 = 'Fernando'\n",
        "nome2 = 'Maria'\n",
        "\n",
        "if nome1 == 'Fernando':\n",
        "  print('Bem-vindo Fernando!!!')\n",
        "if nome2 == 'Maria':\n",
        "  print('Bem-vinda Maria!!!')\n",
        "else:\n",
        "  print('Erro: Nome Desconhecido.')\n",
        "\n",
        "# Usando de ifs, mais de uma proposição pode ser considerada verdadeira,\n",
        "# nesse caso, retornando Bem-vindo Fernando!!! e Bem-vinda Maria!!!\n"
      ],
      "execution_count": null,
      "outputs": [
        {
          "output_type": "stream",
          "text": [
            "Bem-vindo Fernando!!!\n",
            "Bem-vinda Maria!!!\n"
          ],
          "name": "stdout"
        }
      ]
    },
    {
      "cell_type": "code",
      "metadata": {
        "id": "m7LDoup4ayYJ",
        "colab": {
          "base_uri": "https://localhost:8080/"
        },
        "outputId": "0316ac1f-e6b9-46da-9db2-1a7c7856aaa4"
      },
      "source": [
        "nome1 = 'Fernando'\n",
        "nome2 = 'Maria'\n",
        "\n",
        "if nome1 == 'Fernando':\n",
        "  print('Bem-vindo Fernando!!!')\n",
        "elif nome2 == 'Maria':\n",
        "  print('Bem-vinda Maria!!!')\n",
        "else:\n",
        "  print('Erro: Nome Desconhecido.')\n",
        "\n",
        "# Usando de elif, o retorno seria apenas Bem-vindo Fernando!!!\n",
        "# pois uma proposição sendo verdadeira já encerra o processo.\n"
      ],
      "execution_count": null,
      "outputs": [
        {
          "output_type": "stream",
          "text": [
            "Bem-vindo Fernando!!!\n"
          ],
          "name": "stdout"
        }
      ]
    },
    {
      "cell_type": "code",
      "metadata": {
        "id": "zhzpmNQMvr6Z",
        "colab": {
          "base_uri": "https://localhost:8080/"
        },
        "outputId": "08325131-356b-4c1a-905d-3f1ba0dd1c4b"
      },
      "source": [
        "num1 = 12\n",
        "num2 = 44\n",
        "nome1 = 'Fernando'\n",
        "nome2 = 'Maria'\n",
        "\n",
        "if num1 >= 10 and nome1 == 'Fernando':\n",
        "  print('Número maior que 10 e o usuário é Fernando')\n",
        "if num1 <= 10 and nome1 == 'Fernando':\n",
        "  print('Número menor que 10 e o usuário é Fernando')\n",
        "if num1 == num2 and nome2 == 'Maria':\n",
        "  print('Número 1 e número 2 são iguais, assim como o usuário é Maria')\n",
        "if num1 != num2 and nome2 == 'Maria':\n",
        "  print('Número 1 e número 2 são diferentes, assim como o usuário é Maria')\n",
        "\n",
        "# Operador and exige que as duas condições sejam verdadeiras (uma condição e outra).\n"
      ],
      "execution_count": null,
      "outputs": [
        {
          "output_type": "stream",
          "text": [
            "Número maior que 10 e o usuário é Fernando\n",
            "Número 1 e número 2 são diferentes, assim como o usuário é Maria\n"
          ],
          "name": "stdout"
        }
      ]
    },
    {
      "cell_type": "code",
      "metadata": {
        "id": "onjqBVc1ha4t",
        "colab": {
          "base_uri": "https://localhost:8080/"
        },
        "outputId": "1d2bb41a-f7ed-41cd-9e68-6ffcf6578902"
      },
      "source": [
        "num1 = 12\n",
        "num2 = 44\n",
        "nome1 = 'Fernando'\n",
        "nome2 = 'Maria'\n",
        "\n",
        "if num1 >= 10 and nome1 == 'Fernando':\n",
        "  # Se o valor de num1 for igual ou maior que 10 e nome1 for igual a Fernando...\n",
        "  print('Número maior que 10 e o usuário é Fernando')\n",
        "if num1 <= 10 and nome1 == 'Fernando':\n",
        "  # Se o valor de num1 for igual ou menor que 10 e nome1 for igual a Fernando\n",
        "  print('Número menor que 10 e o usuário é Fernando')\n",
        "if num1 == num2 and nome2 == 'Maria':\n",
        "  # Se o valor de num1 for igual ao valor de num2 e nome2 for igual a Maria\n",
        "  print('Número 1 e número 2 são iguais, assim como o usuário é Maria')\n",
        "if num1 != num2 and nome2 == 'Maria':\n",
        "  # Se o valor de num1 for diferente de num2 e nome2 for igual a Maria\n",
        "  print('Número 1 e número 2 são diferentes, assim como o usuário é Maria')\n"
      ],
      "execution_count": null,
      "outputs": [
        {
          "output_type": "stream",
          "text": [
            "Número maior que 10 e o usuário é Fernando\n",
            "Número 1 e número 2 são diferentes, assim como o usuário é Maria\n"
          ],
          "name": "stdout"
        }
      ]
    },
    {
      "cell_type": "markdown",
      "metadata": {
        "id": "8dsWrXFnW9s8"
      },
      "source": [
        "Operações dentro de estruturas condicionais"
      ]
    },
    {
      "cell_type": "code",
      "metadata": {
        "id": "y6elCev-hQTJ",
        "colab": {
          "base_uri": "https://localhost:8080/"
        },
        "outputId": "700a67a3-6a78-42b5-d62b-312761d2829b"
      },
      "source": [
        "num1 = 2\n",
        "num2 = 15\n",
        "\n",
        "if (num1 + num2) > 20:\n",
        "    print('O resultado da soma é MAIOR do que 20')\n",
        "elif (num1 + num2) == 20:\n",
        "    print('O resultado da soma é IGUAL a 20')\n",
        "else:\n",
        "    print('O resultado da soma é MENOR do que 20')\n",
        "  "
      ],
      "execution_count": null,
      "outputs": [
        {
          "output_type": "stream",
          "text": [
            "O resultado da soma é MENOR do que 20\n"
          ],
          "name": "stdout"
        }
      ]
    },
    {
      "cell_type": "code",
      "metadata": {
        "id": "0TaE-sR_w54q",
        "colab": {
          "base_uri": "https://localhost:8080/"
        },
        "outputId": "98504fe4-ef95-4a30-c5d0-c39869dcafce"
      },
      "source": [
        "num1 = 2\n",
        "num2 = 15\n",
        "\n",
        "if (num1 + num2) > 20:\n",
        "    # Se o resultado da soma de num1 e num2 for maior que 20...\n",
        "    print('O resultado da soma é MAIOR do que 20')\n",
        "elif (num1 + num2) == 20:\n",
        "    # Se o resultado da soma de num1 e num2 for igual a 20\n",
        "    print('O resultado da soma é IGUAL a 20')\n",
        "else:\n",
        "    # Caso nenhuma das condições anteriores seja válida\n",
        "    print('O resultado da soma é MENOR do que 20')\n",
        "  "
      ],
      "execution_count": null,
      "outputs": [
        {
          "output_type": "stream",
          "text": [
            "O resultado da soma é MENOR do que 20\n"
          ],
          "name": "stdout"
        }
      ]
    },
    {
      "cell_type": "markdown",
      "metadata": {
        "id": "c27rAIlTW9tC"
      },
      "source": [
        "Estruturas condicionais com interpolação / máscaras de substituição"
      ]
    },
    {
      "cell_type": "code",
      "metadata": {
        "id": "HW_MQ3KnybqK",
        "colab": {
          "base_uri": "https://localhost:8080/"
        },
        "outputId": "1ff61b9b-5dd6-4c93-8c4e-78be2a08cfdf"
      },
      "source": [
        "nomes = ['Fernando', 'Maria', 'Carlos']\n",
        "login = input('Digite o seu nome: ')\n",
        "\n",
        "if login in nomes:\n",
        "  # Se o nome atribuído a login for um dos elementos da lista nomes...\n",
        "  print(f'Bem-vindo(a) {login}')\n",
        "else:\n",
        "  print('Usuário não cadastrado.')\n",
        "  "
      ],
      "execution_count": null,
      "outputs": [
        {
          "output_type": "stream",
          "text": [
            "Digite o seu nome: Carlos\n",
            "Bem-vindo(a) Carlos\n"
          ],
          "name": "stdout"
        }
      ]
    },
    {
      "cell_type": "markdown",
      "metadata": {
        "id": "H1r4eUDpW9tC"
      },
      "source": [
        "Operações dentro de estruturas condicionais compostas"
      ]
    },
    {
      "cell_type": "code",
      "metadata": {
        "id": "twpbPrhOhIfa",
        "colab": {
          "base_uri": "https://localhost:8080/"
        },
        "outputId": "53e747fc-3e5f-481c-ee9b-df37d859bd9a"
      },
      "source": [
        "num1 = 15\n",
        "num2 = 40\n",
        "num3 = 2\n",
        "soma = num1 + num2 + num3\n",
        "\n",
        "if (num1 + num2) >= 0:\n",
        "  print('O número é positivo')\n",
        "if (num1 + num2) > 50 and soma < 100:\n",
        "  print('O número é maior que 50 e menor que 100')\n",
        "  "
      ],
      "execution_count": null,
      "outputs": [
        {
          "output_type": "stream",
          "text": [
            "O número é positivo\n",
            "O número é maior que 50 e menor que 100\n"
          ],
          "name": "stdout"
        }
      ]
    },
    {
      "cell_type": "code",
      "metadata": {
        "id": "e4vvJ9texad5",
        "colab": {
          "base_uri": "https://localhost:8080/"
        },
        "outputId": "e388338c-ff69-4d22-ddf0-890c98ec76f3"
      },
      "source": [
        "num1 = 15\n",
        "num2 = 40\n",
        "num3 = 2\n",
        "soma = num1 + num2 + num3\n",
        "\n",
        "if (num1 + num2) >= 0:\n",
        "  # Se o resultado da soma de num1 e num2 for um número igual ou maior que zero...\n",
        "  print('O número é positivo')\n",
        "if (num1 + num2) > 50 and soma < 100:\n",
        "  # Se o resultado da soma de num1 e num2 for maior que 50 e o valor de soma,\n",
        "  # que por sua vez é a soma dos valores das variáveis num1, num2 e num3 for\n",
        "  # menor que 100...\n",
        "  print('O número é maior que 50 e menor que 100')\n",
        "  "
      ],
      "execution_count": null,
      "outputs": [
        {
          "output_type": "stream",
          "text": [
            "O número é positivo\n",
            "O número é maior que 50 e menor que 100\n"
          ],
          "name": "stdout"
        }
      ]
    },
    {
      "cell_type": "markdown",
      "metadata": {
        "id": "9tWARwhiW9tD"
      },
      "source": [
        "Estruturas condicionais com validação simples (em string)"
      ]
    },
    {
      "cell_type": "code",
      "metadata": {
        "id": "Cn6jzCKCg2fa",
        "colab": {
          "base_uri": "https://localhost:8080/"
        },
        "outputId": "b75911ce-2909-4adf-970d-e5fb1a2f24f8"
      },
      "source": [
        "nome = input('Digite o seu nome: ')\n",
        "\n",
        "if nome == 'Fernando':\n",
        "  print('Olá Fernando, você é o administrador do sistema!!!')\n",
        "elif nome in 'Ana Bárbara Carlos José Maria Paulo Tatiana':\n",
        "  print(f'Bem vindo(a) {nome}, você é um(a) usuário(a) registrado no sistema.')\n",
        "else:\n",
        "  print('Olá, você não está logado no sistema, suas permissões são restritas.')\n",
        "  "
      ],
      "execution_count": null,
      "outputs": [
        {
          "output_type": "stream",
          "text": [
            "Digite o seu nome: Tatiana\n",
            "Bem vindo(a) Tatiana, você é um(a) usuário(a) registrado no sistema.\n"
          ],
          "name": "stdout"
        }
      ]
    },
    {
      "cell_type": "code",
      "metadata": {
        "id": "eWLNWBxzFoo4",
        "colab": {
          "base_uri": "https://localhost:8080/"
        },
        "outputId": "df610541-0be4-4368-f83e-bf1b5a043df6"
      },
      "source": [
        "nome = input('Digite o seu nome: ')\n",
        "\n",
        "if nome == 'Fernando':\n",
        "  # Se o nome atribuído a variável nome for Fernando...\n",
        "  print('Olá Fernando, você é o administrador do sistema!!!')\n",
        "elif nome in 'Ana Bárbara Carlos José Maria Paulo Tatiana':\n",
        "  # Se o nome atribuído a variável nome for um dos nomes em 'Ana Bárbara\n",
        "  # Carlos José Maria Paulo Tatiana'...\n",
        "  print(f'Bem vindo(a) {nome}, você é um(a) usuário(a) registrado no sistema.')\n",
        "else:\n",
        "  # Caso contrário\n",
        "  print('Olá, você não está logado no sistema, suas permissões são restritas.')\n",
        "  "
      ],
      "execution_count": null,
      "outputs": [
        {
          "output_type": "stream",
          "text": [
            "Digite o seu nome: Alberto\n",
            "Olá, você não está logado no sistema, suas permissões são restritas.\n"
          ],
          "name": "stdout"
        }
      ]
    },
    {
      "cell_type": "code",
      "metadata": {
        "id": "_96idZ8ggp_b",
        "colab": {
          "base_uri": "https://localhost:8080/"
        },
        "outputId": "93427cf8-1b1a-42c3-9554-eb42b715b34c"
      },
      "source": [
        "nome = input('Digite o seu nome: ')\n",
        "\n",
        "if nome == 'Fernando':\n",
        "  print('Olá Fernando, você é o administrador do sistema!!!')\n",
        "elif nome in 'Ana Bárbara Carlos José Maria Paulo Tatiana':\n",
        "  print(f'Bem vindo(a) {nome}, você é um(a) usuário(a) registrado no sistema.')\n",
        "else:\n",
        "  print('Olá, você não está logado no sistema, suas permissões são restritas.')\n",
        "  "
      ],
      "execution_count": null,
      "outputs": [
        {
          "output_type": "stream",
          "text": [
            "Digite o seu nome: Paulo\n",
            "Bem vindo(a) Paulo, você é um(a) usuário(a) registrado no sistema.\n"
          ],
          "name": "stdout"
        }
      ]
    },
    {
      "cell_type": "code",
      "metadata": {
        "id": "PPs2SFbnG00n",
        "colab": {
          "base_uri": "https://localhost:8080/"
        },
        "outputId": "f02223f8-1ef8-4033-b76f-6f4ef305cf3c"
      },
      "source": [
        "# Mesmo exemplo que o anterior, mas diferenciando gêneros\n",
        "\n",
        "nome = input('Digite o seu nome: ')\n",
        "\n",
        "if nome == 'Fernando':\n",
        "  print('Olá Fernando, você é o administraor do sistema!!!')\n",
        "elif nome in 'Ana Bárbara Maria Tatiana':\n",
        "  print(f'Bem vinda {nome}, você é uma usuária registrada no sistema.')\n",
        "elif nome in 'Carlos José Paulo':\n",
        "  print(f'Bem vindo {nome}, você é um usuário registrado no sistema.')\n",
        "else:\n",
        "  print('Olá, você não está logado no sistema, suas permissões são restritas.')\n",
        "  "
      ],
      "execution_count": null,
      "outputs": [
        {
          "output_type": "stream",
          "text": [
            "Digite o seu nome: Ana\n",
            "Bem vinda Ana, você é uma usuária registrada no sistema.\n"
          ],
          "name": "stdout"
        }
      ]
    },
    {
      "cell_type": "code",
      "metadata": {
        "id": "O1qkbXIriPP_",
        "colab": {
          "base_uri": "https://localhost:8080/"
        },
        "outputId": "56426651-de96-4f8d-cf80-9eaad80fdc5c"
      },
      "source": [
        "nome = input('Digite o seu nome: ')\n",
        "\n",
        "if nome == 'Fernando':\n",
        "  # Se nome for igual a Fernando\n",
        "  print('Olá Fernando, você é o administraor do sistema!!!')\n",
        "elif nome in 'Ana Bárbara Maria Tatiana':\n",
        "  # Se nome for um dos nomes em 'Ana Bárbara Maria Tatiana'\n",
        "  print(f'Bem vinda {nome}, você é uma usuária registrada no sistema.')\n",
        "elif nome in 'Carlos José Paulo':\n",
        "  # Se nome for um dos nomes em 'Carlos José Paulo'\n",
        "  print(f'Bem vindo {nome}, você é um usuário registrado no sistema.')\n",
        "else:\n",
        "  # Caso contrário\n",
        "  print('Olá, você não está logado no sistema, suas permissões são restritas.')\n",
        "  "
      ],
      "execution_count": null,
      "outputs": [
        {
          "output_type": "stream",
          "text": [
            "Digite o seu nome: Ana\n",
            "Bem vinda Ana, você é uma usuária registrada no sistema.\n"
          ],
          "name": "stdout"
        }
      ]
    },
    {
      "cell_type": "code",
      "metadata": {
        "id": "dNA0_gcLHZ0t",
        "colab": {
          "base_uri": "https://localhost:8080/"
        },
        "outputId": "58508c79-1ac2-4a20-818e-f18be6caab16"
      },
      "source": [
        "# Mesmo exemplo anterior, aprimorado\n",
        "\n",
        "nome = input('Digite o seu nome: ')\n",
        "\n",
        "funcionarios_homens = ['Carlos', 'José', 'Paulo']\n",
        "funcionarias_mulheres = ['Ana', 'Bárbara', 'Maria', 'Tatiana']\n",
        "\n",
        "if nome == 'Fernando':\n",
        "  print('Olá Fernando, você é o administrador do sistema!!!')\n",
        "elif nome in funcionarias_mulheres:\n",
        "  print(f'Bem vinda {nome}, você é uma usuária registrada no sistema.')\n",
        "elif nome in funcionarios_homens:\n",
        "  print(f'Bem vindo {nome}, você é um usuário registrado no sistema.')\n",
        "else:\n",
        "  print('Olá, você não está logado no sistema, suas permissões são restritas.')\n",
        "  "
      ],
      "execution_count": null,
      "outputs": [
        {
          "output_type": "stream",
          "text": [
            "Digite o seu nome: José\n",
            "Bem vindo José, você é um usuário registrado no sistema.\n"
          ],
          "name": "stdout"
        }
      ]
    },
    {
      "cell_type": "code",
      "metadata": {
        "id": "-p_dEykxiqhh",
        "colab": {
          "base_uri": "https://localhost:8080/"
        },
        "outputId": "64456b17-0839-4da3-bf1e-1cfab1be8c68"
      },
      "source": [
        "nome = input('Digite o seu nome: ')\n",
        "\n",
        "funcionarios_homens = ['Carlos', 'José', 'Paulo']\n",
        "funcionarias_mulheres = ['Ana', 'Bárbara', 'Maria', 'Tatiana']\n",
        "\n",
        "if nome == 'Fernando':\n",
        "  # Se nome for igual a Fernando\n",
        "  print('Olá Fernando, você é o administrador do sistema!!!')\n",
        "elif nome in funcionarias_mulheres:\n",
        "  # Se nome for um dos elementos da lista funcionarias_mulheres\n",
        "  print(f'Bem vinda {nome}, você é uma usuária registrada no sistema.')\n",
        "elif nome in funcionarios_homens:\n",
        "  # Se nome for um dos elementos da lista funcionarios_homens\n",
        "  print(f'Bem vindo {nome}, você é um usuário registrado no sistema.')\n",
        "else:\n",
        "  # Caso contrário\n",
        "  print('Olá, você não está logado no sistema, suas permissões são restritas.')\n",
        "  "
      ],
      "execution_count": null,
      "outputs": [
        {
          "output_type": "stream",
          "text": [
            "Digite o seu nome: Maria\n",
            "Bem vinda Maria, você é uma usuária registrada no sistema.\n"
          ],
          "name": "stdout"
        }
      ]
    },
    {
      "cell_type": "markdown",
      "metadata": {
        "id": "RwqzW_s0W9tF"
      },
      "source": [
        "Estrutura condicional composta com or (ou) e and (e)"
      ]
    },
    {
      "cell_type": "code",
      "metadata": {
        "id": "KNYdDcPp0_y5",
        "colab": {
          "base_uri": "https://localhost:8080/"
        },
        "outputId": "d798b911-0084-40db-ba72-3113e5863501"
      },
      "source": [
        "veiculo1 = 'Gol'\n",
        "veiculo2 = 'Corsa'\n",
        "veiculo3 = 'Onibus'\n",
        "\n",
        "cor1 = 'Branco'\n",
        "cor2 = 'Vermelho'\n",
        "\n",
        "if veiculo1 == 'Gol' or veiculo2 == 'Celta':\n",
        "  print('Carro')\n",
        "if veiculo1 == 'Gol' and cor1 == 'Branco':\n",
        "  print('Gol Branco')\n",
        "if veiculo1 == 'Onibus' and cor2 == 'Vermelho':\n",
        "  print('Onibus Vermelho')\n",
        "\n",
        "# Condição em or apenas uma das condicionais precisa ser verdadeira.\n",
        "# Condicão em and as duas condicionais precisam serem verdadeiras.\n"
      ],
      "execution_count": null,
      "outputs": [
        {
          "output_type": "stream",
          "text": [
            "Carro\n",
            "Gol Branco\n"
          ],
          "name": "stdout"
        }
      ]
    },
    {
      "cell_type": "code",
      "metadata": {
        "id": "Ed_MwNTNi_tn",
        "colab": {
          "base_uri": "https://localhost:8080/"
        },
        "outputId": "7f9695f7-ddec-4587-e5ee-3c41cee69e1c"
      },
      "source": [
        "veiculo1 = 'Gol'\n",
        "veiculo2 = 'Corsa'\n",
        "veiculo3 = 'Onibus'\n",
        "\n",
        "cor1 = 'Branco'\n",
        "cor2 = 'Vermelho'\n",
        "\n",
        "if veiculo1 == 'Gol' or veiculo2 == 'Celta':\n",
        "  # Se veiculo1 for igual a Gol ou veiculo2 for igual a Celta\n",
        "  print('Carro')\n",
        "if veiculo1 == 'Gol' and cor1 == 'Branco':\n",
        "  # Se veiculo1 for igual a gol e cor1 for igual a Branco\n",
        "  print('Gol Branco')\n",
        "if veiculo1 == 'Onibus' and cor2 == 'Vermelho':\n",
        "  # Se veiculo1 for igual a Onibus e cor2 for igual a Vermelho\n",
        "  print('Onibus Vermelho')\n"
      ],
      "execution_count": null,
      "outputs": [
        {
          "output_type": "stream",
          "text": [
            "Carro\n",
            "Gol Branco\n"
          ],
          "name": "stdout"
        }
      ]
    },
    {
      "cell_type": "markdown",
      "metadata": {
        "id": "6J5k1s6VRPaj"
      },
      "source": [
        "## Estruturas de Repetição"
      ]
    },
    {
      "cell_type": "markdown",
      "metadata": {
        "id": "hZu4lCdSRgRD"
      },
      "source": [
        "While"
      ]
    },
    {
      "cell_type": "code",
      "metadata": {
        "id": "JKhGEgItRb46",
        "colab": {
          "base_uri": "https://localhost:8080/"
        },
        "outputId": "637a3b71-cbf6-42e6-b372-9c141d41e9d8"
      },
      "source": [
        "# Enquanto determinada condição for verdadeira, o processo se repete.\n",
        "\n",
        "x = 0\n",
        "\n",
        "while x <= 5:\n",
        "  print(x)\n",
        "  x = x + 1\n",
        "  "
      ],
      "execution_count": null,
      "outputs": [
        {
          "output_type": "stream",
          "text": [
            "0\n",
            "1\n",
            "2\n",
            "3\n",
            "4\n",
            "5\n"
          ],
          "name": "stdout"
        }
      ]
    },
    {
      "cell_type": "code",
      "metadata": {
        "id": "waoLjjatjfKQ",
        "colab": {
          "base_uri": "https://localhost:8080/"
        },
        "outputId": "a254aec0-6a29-4082-857f-b39b1f895805"
      },
      "source": [
        "x = 0\n",
        "\n",
        "while x <= 5:\n",
        "  # Enquanto o valor de x for igual ou menor que 5\n",
        "  print(x)\n",
        "  x = x + 1\n",
        "  # o valor de x é atualizado, incrementado/somado em 1\n",
        "  "
      ],
      "execution_count": null,
      "outputs": [
        {
          "output_type": "stream",
          "text": [
            "0\n",
            "1\n",
            "2\n",
            "3\n",
            "4\n",
            "5\n"
          ],
          "name": "stdout"
        }
      ]
    },
    {
      "cell_type": "markdown",
      "metadata": {
        "id": "undZcGXHW9tH"
      },
      "source": [
        "Estruturas de repetição com validação"
      ]
    },
    {
      "cell_type": "code",
      "metadata": {
        "id": "MvjUj_KFyk9Y",
        "colab": {
          "base_uri": "https://localhost:8080/"
        },
        "outputId": "bef92b5c-7ad8-448b-f490-b49349c00e18"
      },
      "source": [
        "# Enquanto o usuário não digitar a palavra específica o código não é executado.\n",
        "\n",
        "validador = input('Digite \"Brasil\" para continuar:')\n",
        "\n",
        "while validador != 'Brasil':\n",
        "    print('Palavra-chave não confere, digite novamente:')\n",
        "    validador = input('Digite \"Brasil\" para continuar:')\n",
        "\n",
        "    if validador == 'Brasil':\n",
        "        print('Agora você digitou Brasil corretamente.')\n"
      ],
      "execution_count": null,
      "outputs": [
        {
          "output_type": "stream",
          "text": [
            "Digite \"Brasil\" para continuar:Itália\n",
            "Palavra-chave não confere, digite novamente:\n",
            "Digite \"Brasil\" para continuar:Brasil\n",
            "Agora você digitou Brasil corretamente.\n"
          ],
          "name": "stdout"
        }
      ]
    },
    {
      "cell_type": "code",
      "metadata": {
        "id": "M3ppC86skbwj",
        "colab": {
          "base_uri": "https://localhost:8080/"
        },
        "outputId": "ff13e4bb-5c8d-43aa-8259-742219cc0eee"
      },
      "source": [
        "validador = input('Digite \"Brasil\" para continuar:')\n",
        "\n",
        "while validador != 'Brasil':\n",
        "    # Enquanto validador for diferente de Brasil\n",
        "    print('Palavra-chave não confere, digite novamente:')\n",
        "    validador = input('Digite \"Brasil\" para continuar:')\n",
        "    # é pedido que o usuário digite Brasil, repetidamente, até que o mesmo\n",
        "    # digite Brasil conforme pedido na mensagem.\n",
        "\n",
        "    if validador == 'Brasil':\n",
        "        # Se validador for igual a Brasil\n",
        "        print('Agora você digitou Brasil corretamente.')\n"
      ],
      "execution_count": null,
      "outputs": [
        {
          "output_type": "stream",
          "text": [
            "Digite \"Brasil\" para continuar:Brasil\n"
          ],
          "name": "stdout"
        }
      ]
    },
    {
      "cell_type": "markdown",
      "metadata": {
        "id": "k0cd1-YOW9tI"
      },
      "source": [
        "Estruturas condicionais dentro de laços de repetição"
      ]
    },
    {
      "cell_type": "code",
      "metadata": {
        "id": "jsb-h2jM3YuI",
        "colab": {
          "base_uri": "https://localhost:8080/"
        },
        "outputId": "82632dce-3e06-4c8f-e02b-4cc47ba74235"
      },
      "source": [
        "num = 0\n",
        "total = 10\n",
        "\n",
        "while num <= 10:\n",
        "  print(num)\n",
        "  num += 1\n",
        "  if num == 5:\n",
        "    print('50% computado')\n",
        "  if num == 10:\n",
        "    print('100%, processo encerrado')\n",
        "    \n",
        "# O ciclo se repete até que a condição inicial imposta, nesse caso, que o valor\n",
        "# de num seja menor ou igual a 10.\n"
      ],
      "execution_count": null,
      "outputs": [
        {
          "output_type": "stream",
          "text": [
            "0\n",
            "1\n",
            "2\n",
            "3\n",
            "4\n",
            "50% computado\n",
            "5\n",
            "6\n",
            "7\n",
            "8\n",
            "9\n",
            "100%, processo encerrado\n",
            "10\n"
          ],
          "name": "stdout"
        }
      ]
    },
    {
      "cell_type": "code",
      "metadata": {
        "id": "AE3fUP8nlrOg",
        "colab": {
          "base_uri": "https://localhost:8080/"
        },
        "outputId": "6e9757ed-20a7-4f88-b225-8c47b64f1ce7"
      },
      "source": [
        "num = 0\n",
        "total = 10\n",
        "\n",
        "while num <= 10:\n",
        "  # Enquanto o valor de num for igual ou menor que 10\n",
        "  print(num)\n",
        "  num += 1\n",
        "  # num é atualizado, incrementado em 1 unidade\n",
        "  if num == 5:\n",
        "    # Se o valor de num for igual a 5\n",
        "    print('50% computado')\n",
        "  if num == 10:\n",
        "    # Se o valor de num for igual a 10\n",
        "    print('100%, processo encerrado')\n",
        "    "
      ],
      "execution_count": null,
      "outputs": [
        {
          "output_type": "stream",
          "text": [
            "0\n",
            "1\n",
            "2\n",
            "3\n",
            "4\n",
            "50% computado\n",
            "5\n",
            "6\n",
            "7\n",
            "8\n",
            "9\n",
            "100%, processo encerrado\n",
            "10\n"
          ],
          "name": "stdout"
        }
      ]
    },
    {
      "cell_type": "markdown",
      "metadata": {
        "id": "mji3fnkEW9tI"
      },
      "source": [
        "while True"
      ]
    },
    {
      "cell_type": "code",
      "metadata": {
        "id": "IkWfuFK7zoMa",
        "colab": {
          "base_uri": "https://localhost:8080/"
        },
        "outputId": "8d4f1951-680f-40ab-95f3-6c595e2e8d6d"
      },
      "source": [
        "# Reescrevendo o exemplo de palavra-chave específica, aprimorado com while True\n",
        "\n",
        "while True:\n",
        "    validador = input('Digite \"Brasil\" para continuar:')\n",
        "    \n",
        "    if validador == 'Brasil':\n",
        "        print('Você digitou Brasil corretamente!!!')\n",
        "        break # interrompe o processo / loop\n",
        "    else:\n",
        "        print('Palavra-chave não confere, digite novamente:')\n",
        "\n",
        "# while True nesse caso simula um ciclo \"infinito\", sendo necessário que quando\n",
        "# a condição for atingida, o marcador break interrompe o ciclo.\n"
      ],
      "execution_count": null,
      "outputs": [
        {
          "output_type": "stream",
          "text": [
            "Digite \"Brasil\" para continuar:Brazil\n",
            "Palavra-chave não confere, digite novamente:\n",
            "Digite \"Brasil\" para continuar:Brasil\n",
            "Você digitou Brasil corretamente!!!\n"
          ],
          "name": "stdout"
        }
      ]
    },
    {
      "cell_type": "markdown",
      "metadata": {
        "id": "rijj2c3SRzIE"
      },
      "source": [
        "For"
      ]
    },
    {
      "cell_type": "code",
      "metadata": {
        "id": "_T0SYDJBRwLs",
        "colab": {
          "base_uri": "https://localhost:8080/"
        },
        "outputId": "062a6fc1-b0a9-448e-c334-303a977af39d"
      },
      "source": [
        "# Laço de repetição simples\n",
        "\n",
        "compras = ['Arroz', 'Feijão', 'Massa', 'Carne', 'Pão']\n",
        "\n",
        "for i in compras:\n",
        "  print(i)\n",
        "\n",
        "# A variável temporária i a cada ciclo irá ler um dos elementos da lista\n",
        "# compras, sendo que a cada ciclo lê e retorna o elemento subsequente.\n"
      ],
      "execution_count": null,
      "outputs": [
        {
          "output_type": "stream",
          "text": [
            "Arroz\n",
            "Feijão\n",
            "Massa\n",
            "Carne\n",
            "Pão\n"
          ],
          "name": "stdout"
        }
      ]
    },
    {
      "cell_type": "markdown",
      "metadata": {
        "id": "Ywfa8ZWkW9tK"
      },
      "source": [
        "Laço for percorrendo cada elemento de uma string"
      ]
    },
    {
      "cell_type": "code",
      "metadata": {
        "id": "ZLhQZXGliZik",
        "colab": {
          "base_uri": "https://localhost:8080/"
        },
        "outputId": "c49d7840-613f-4843-9cbf-4b42d5830c80"
      },
      "source": [
        "nome = 'Alberto'\n",
        "\n",
        "for i in nome:\n",
        "  print(i)\n",
        "\n",
        "# A cada ciclo a variável temporária i retornará um dos caracteres da string\n"
      ],
      "execution_count": null,
      "outputs": [
        {
          "output_type": "stream",
          "text": [
            "A\n",
            "l\n",
            "b\n",
            "e\n",
            "r\n",
            "t\n",
            "o\n"
          ],
          "name": "stdout"
        }
      ]
    },
    {
      "cell_type": "markdown",
      "metadata": {
        "id": "ooN3jWQAW9tL"
      },
      "source": [
        "Laço for repetindo ciclo dentro de um intervalo numérico específico"
      ]
    },
    {
      "cell_type": "code",
      "metadata": {
        "id": "uO25M76wTTla",
        "colab": {
          "base_uri": "https://localhost:8080/"
        },
        "outputId": "9d6066e7-68c8-4bf5-95ea-1ceffb3da80e"
      },
      "source": [
        "for i in range(0, 10):\n",
        "  print(i)\n",
        "\n",
        "# A variável i percorrerá e retornará um intervalo numérico pré-determinado,\n",
        "# sendo que o último valor numérico usado como parâmetro para função range( )\n",
        "# serve como gatilho para encerrar o processo. Nesse caso, último valor 10 fará\n",
        "# que o ciclo encerre retornando o último valor antes de 10, no caso, 9.\n"
      ],
      "execution_count": null,
      "outputs": [
        {
          "output_type": "stream",
          "text": [
            "0\n",
            "1\n",
            "2\n",
            "3\n",
            "4\n",
            "5\n",
            "6\n",
            "7\n",
            "8\n",
            "9\n"
          ],
          "name": "stdout"
        }
      ]
    },
    {
      "cell_type": "markdown",
      "metadata": {
        "id": "txuefgkAW9tM"
      },
      "source": [
        "Laço de repetição que atualiza o valor de uma variável"
      ]
    },
    {
      "cell_type": "code",
      "metadata": {
        "id": "UFpMTQinSHt4",
        "colab": {
          "base_uri": "https://localhost:8080/"
        },
        "outputId": "74b8fba6-6700-4c43-b76a-b732ec924f1b"
      },
      "source": [
        "vendas = [1000, 459, 911, 200, 838, 50]\n",
        "\n",
        "total = 0\n",
        "\n",
        "for i in vendas:\n",
        "  total += i\n",
        "print(total)\n",
        "\n",
        "# A cada ciclo, a variável temporária i lê e retornar um dos elementos\n",
        "# da lista vendas, a variável total, indentada no laço de repetição,\n",
        "# a cada ciclo soma a seu valor atual o último valor de atribuído em i\n"
      ],
      "execution_count": null,
      "outputs": [
        {
          "output_type": "stream",
          "text": [
            "3458\n"
          ],
          "name": "stdout"
        }
      ]
    },
    {
      "cell_type": "markdown",
      "metadata": {
        "id": "yUtiy-h6W9tN"
      },
      "source": [
        "Laço de repetição que desempacota e separa os elementos de uma lista"
      ]
    },
    {
      "cell_type": "code",
      "metadata": {
        "id": "3-xY3rVfStMR",
        "colab": {
          "base_uri": "https://localhost:8080/"
        },
        "outputId": "d988d48c-c067-4fb9-d987-f72f7fd4150a"
      },
      "source": [
        "compras = [['Arroz', 'Feijão'], ['Carne', 'Frango', 'Peixe'], ['Leite']]\n",
        "\n",
        "for i in compras:\n",
        "  print(i)\n",
        "  \n",
        "# De acordo com o separador \" , \" , o primeiro elemento da lista compras é\n",
        "# a lista ['Arroz', 'Feijão'], o segundo elemento é a lista ['Carne', 'Frango',\n",
        "# 'Peixe'] e o terceiro elemento é a lista ['Leite'], de modo que o laço está\n",
        "# extraindo as listas de dentro da lista compras.\n"
      ],
      "execution_count": null,
      "outputs": [
        {
          "output_type": "stream",
          "text": [
            "['Arroz', 'Feijão']\n",
            "['Carne', 'Frango', 'Peixe']\n",
            "['Leite']\n"
          ],
          "name": "stdout"
        }
      ]
    },
    {
      "cell_type": "markdown",
      "metadata": {
        "id": "YdAiIqdjW9tO"
      },
      "source": [
        "Laço de repetição que desempacota e separa os itens de um dicionário"
      ]
    },
    {
      "cell_type": "code",
      "metadata": {
        "id": "6ecR4kK1SdFy",
        "colab": {
          "base_uri": "https://localhost:8080/"
        },
        "outputId": "0df58b5a-47b4-440f-bd1b-a9958228154e"
      },
      "source": [
        "cores = {'verde': 'green', 'azul': 'blue', 'vermelho': 'red'}\n",
        "\n",
        "for i in cores:\n",
        "  print(i, ':', cores[i])\n",
        "\n",
        "# A cada ciclo, a variável i lê e retorna o dado/valor do dicionário cores,\n",
        "# na mensagem de retorno, instanciando cores na posição i, o interpretador\n",
        "# retornará o padrão de um dicionário, onde quando se lê uma chave ele retorna\n",
        "# seu respectivo valor.\n"
      ],
      "execution_count": null,
      "outputs": [
        {
          "output_type": "stream",
          "text": [
            "verde : green\n",
            "azul : blue\n",
            "vermelho : red\n"
          ],
          "name": "stdout"
        }
      ]
    },
    {
      "cell_type": "markdown",
      "metadata": {
        "id": "ejWZdxpiW9tP"
      },
      "source": [
        "Laço for contando de 2 em 2 elementos"
      ]
    },
    {
      "cell_type": "code",
      "metadata": {
        "id": "5t66wujYQCW4",
        "colab": {
          "base_uri": "https://localhost:8080/"
        },
        "outputId": "940754aa-4603-411e-e5b3-6df06e18e775"
      },
      "source": [
        "for i in range(0, 10, 2):\n",
        "  print(i)\n",
        "\n",
        "# Terceiro parâmetro define de quantos em quantos elementos o laço percorrerá\n",
        "# dentro do intervalo numérico definido.\n"
      ],
      "execution_count": null,
      "outputs": [
        {
          "output_type": "stream",
          "text": [
            "0\n",
            "2\n",
            "4\n",
            "6\n",
            "8\n"
          ],
          "name": "stdout"
        }
      ]
    },
    {
      "cell_type": "markdown",
      "metadata": {
        "id": "dVkFULEdW9tP"
      },
      "source": [
        ". "
      ]
    },
    {
      "cell_type": "markdown",
      "metadata": {
        "id": "cuxIjbE7W9tP"
      },
      "source": [
        "Contagem regressiva via laço for"
      ]
    },
    {
      "cell_type": "code",
      "metadata": {
        "id": "ZStEWSQAPnBF",
        "colab": {
          "base_uri": "https://localhost:8080/"
        },
        "outputId": "b885502a-87be-4593-d45c-db01e8db63fb"
      },
      "source": [
        "for i in range(10, 0, -1):\n",
        "  print(i)\n",
        "\n",
        "# Terceiro parâmetro -1 estipula que o laço será feito do fim para o começo.\n"
      ],
      "execution_count": null,
      "outputs": [
        {
          "output_type": "stream",
          "text": [
            "10\n",
            "9\n",
            "8\n",
            "7\n",
            "6\n",
            "5\n",
            "4\n",
            "3\n",
            "2\n",
            "1\n"
          ],
          "name": "stdout"
        }
      ]
    },
    {
      "cell_type": "markdown",
      "metadata": {
        "id": "_SOp5enpW9tQ"
      },
      "source": [
        "Laço for que realiza contagem com base em número digitado pelo usuário"
      ]
    },
    {
      "cell_type": "code",
      "metadata": {
        "id": "eRZZMK1tQgxw",
        "colab": {
          "base_uri": "https://localhost:8080/"
        },
        "outputId": "631443e3-1592-49f6-949e-0b281885b514"
      },
      "source": [
        "num = int(input('Digite o número limite: '))\n",
        "\n",
        "for i in range(0, num+1):\n",
        "  print(i)\n",
        "\n",
        "# Lembrando que o último valor numérico em range( ) é o gatilho para\n",
        "# que o processo se encerre, logo, é necerrário realizar a validação\n",
        "# onde o número digitado pelo usuário deve ser acrescido de uma unidade\n"
      ],
      "execution_count": null,
      "outputs": [
        {
          "output_type": "stream",
          "text": [
            "Digite o número limite: 20\n",
            "0\n",
            "1\n",
            "2\n",
            "3\n",
            "4\n",
            "5\n",
            "6\n",
            "7\n",
            "8\n",
            "9\n",
            "10\n",
            "11\n",
            "12\n",
            "13\n",
            "14\n",
            "15\n",
            "16\n",
            "17\n",
            "18\n",
            "19\n",
            "20\n"
          ],
          "name": "stdout"
        }
      ]
    },
    {
      "cell_type": "markdown",
      "metadata": {
        "id": "_R322t2WW9tR"
      },
      "source": [
        "Laço de repetição com múltiplos parâmetros de múltiplas variáveis"
      ]
    },
    {
      "cell_type": "code",
      "metadata": {
        "id": "eqWOHBhQTa_b",
        "colab": {
          "base_uri": "https://localhost:8080/"
        },
        "outputId": "4eeafd06-ade6-4e80-8864-7eb6e92af62e"
      },
      "source": [
        "repetir = 's'\n",
        "fatura = []\n",
        "total = 0\n",
        "\n",
        "while repetir == 's':\n",
        "  produto = input('Digite o nome do produto: ')\n",
        "  preco = float(input('Digite o preço: '))\n",
        "  fatura.append([produto, preco])\n",
        "  total += preco\n",
        "  repetir = input('Cadastrar mais algum item? (S ou N)').lower()\n",
        "\n",
        "for i in fatura:\n",
        "  print(i[0], ':', i[1])\n",
        "  \n",
        "print('O Total da fatura é: ', total)\n"
      ],
      "execution_count": null,
      "outputs": [
        {
          "output_type": "stream",
          "text": [
            "Digite o nome do produto: Camisa\n",
            "Digite o preço: 59\n",
            "Cadastrar mais algum item? (S ou N)s\n",
            "Digite o nome do produto: Calça\n",
            "Digite o preço: 99\n",
            "Cadastrar mais algum item? (S ou N)s\n",
            "Digite o nome do produto: Tênis\n",
            "Digite o preço: 159\n",
            "Cadastrar mais algum item? (S ou N)s\n",
            "Digite o nome do produto: Meia\n",
            "Digite o preço: 9\n",
            "Cadastrar mais algum item? (S ou N)n\n",
            "Camisa : 59.0\n",
            "Calça : 99.0\n",
            "Tênis : 159.0\n",
            "Meia : 9.0\n",
            "O Total da fatura é:  326.0\n"
          ],
          "name": "stdout"
        }
      ]
    },
    {
      "cell_type": "code",
      "metadata": {
        "id": "WyxO4CQjpMYz",
        "colab": {
          "base_uri": "https://localhost:8080/"
        },
        "outputId": "2ea13d84-822c-48d5-a882-8a60aa0ec821"
      },
      "source": [
        "repetir = 's'\n",
        "fatura = []\n",
        "total = 0\n",
        "\n",
        "while repetir == 's':\n",
        "  # Enquanto repetir for igual a s\n",
        "  produto = input('Digite o nome do produto: ')\n",
        "  preco = float(input('Digite o preço: '))\n",
        "  fatura.append([produto, preco])\n",
        "  # Adiciona a lista fatura um elemento em forma de lista onde consta\n",
        "  # os dados atribuídos para as variáveis produto e preco\n",
        "  total += preco\n",
        "  # Atualiza a variável total somando para seu valor atual o valor de preco\n",
        "  repetir = input('Cadastrar mais algum item? (S ou N)').lower()\n",
        "  # .lower() valida convertendo maiúscula para minúscula, caso necessário\n",
        "\n",
        "for i in fatura:\n",
        "  print(i[0], ':', i[1])\n",
        "  \n",
        "print('O Total da fatura é: ', total)\n"
      ],
      "execution_count": null,
      "outputs": [
        {
          "output_type": "stream",
          "text": [
            "Digite o nome do produto: Camisa\n",
            "Digite o preço: 59\n",
            "Cadastrar mais algum item? (S ou N)s\n",
            "Digite o nome do produto: Calça\n",
            "Digite o preço: 99\n",
            "Cadastrar mais algum item? (S ou N)s\n",
            "Digite o nome do produto: Tênis\n",
            "Digite o preço: 159\n",
            "Cadastrar mais algum item? (S ou N)s\n",
            "Digite o nome do produto: Meia\n",
            "Digite o preço: 9\n",
            "Cadastrar mais algum item? (S ou N)n\n",
            "Camisa : 59.0\n",
            "Calça : 99.0\n",
            "Tênis : 159.0\n",
            "Meia : 9.0\n",
            "O Total da fatura é:  326.0\n"
          ],
          "name": "stdout"
        }
      ]
    },
    {
      "cell_type": "markdown",
      "metadata": {
        "id": "0Hdx17MjW9tR"
      },
      "source": [
        "Usando de alternativas quando o laço for não for eficiente"
      ]
    },
    {
      "cell_type": "code",
      "metadata": {
        "id": "Pc1L6SXqqW0q",
        "colab": {
          "base_uri": "https://localhost:8080/"
        },
        "outputId": "3cf1568c-84ac-4f22-a452-b98cfd7e2b3d"
      },
      "source": [
        "# Código convencional\n",
        "# Percorrendo os elementos de uma string e exibindo-os junto ao seu índice\n",
        "\n",
        "nome = 'Fernando'\n",
        "n_indice = 0\n",
        "\n",
        "for n_indice in range(len(nome)):\n",
        "  print(n_indice, nome[n_indice])\n",
        "\n",
        "# Desmembra caractere por caractere de nome, associando seu número de índice\n",
        "# com a variável n_indice.\n"
      ],
      "execution_count": null,
      "outputs": [
        {
          "output_type": "stream",
          "text": [
            "0 F\n",
            "1 e\n",
            "2 r\n",
            "3 n\n",
            "4 a\n",
            "5 n\n",
            "6 d\n",
            "7 o\n"
          ],
          "name": "stdout"
        }
      ]
    },
    {
      "cell_type": "markdown",
      "metadata": {
        "id": "feFeWdWAav-l"
      },
      "source": [
        "Função enumerate( )"
      ]
    },
    {
      "cell_type": "code",
      "metadata": {
        "id": "Dy-SSUP6W9tS",
        "colab": {
          "base_uri": "https://localhost:8080/"
        },
        "outputId": "9d8dfcb8-7a59-43d4-c5e7-8ba9f2bfed9c"
      },
      "source": [
        "# Código anterior otimizado via função enumerate( )\n",
        "\n",
        "for n_indice, valor in enumerate(nome):\n",
        "  print(n_indice, valor)\n",
        "\n",
        "# enumerate( ) automaticamente realiza a contagem de elementos associados\n",
        "# a uma determinada variável.\n"
      ],
      "execution_count": null,
      "outputs": [
        {
          "output_type": "stream",
          "text": [
            "0 F\n",
            "1 e\n",
            "2 r\n",
            "3 n\n",
            "4 a\n",
            "5 n\n",
            "6 d\n",
            "7 o\n"
          ],
          "name": "stdout"
        }
      ]
    },
    {
      "cell_type": "markdown",
      "metadata": {
        "id": "vTZDgy6OAjJ6"
      },
      "source": [
        "Variável vazia para o laço for"
      ]
    },
    {
      "cell_type": "code",
      "metadata": {
        "colab": {
          "base_uri": "https://localhost:8080/"
        },
        "id": "QsafVDYHAleV",
        "outputId": "2f1269d7-b150-4a24-b5ef-1a7c444b433f"
      },
      "source": [
        "numeros = [1,2,3,4,5,6,7,8,9,10]\n",
        "\n",
        "for _ in numeros: # _ é uma variável temporária\n",
        "    print(_)\n",
        "    "
      ],
      "execution_count": null,
      "outputs": [
        {
          "output_type": "stream",
          "text": [
            "1\n",
            "2\n",
            "3\n",
            "4\n",
            "5\n",
            "6\n",
            "7\n",
            "8\n",
            "9\n",
            "10\n"
          ],
          "name": "stdout"
        }
      ]
    },
    {
      "cell_type": "markdown",
      "metadata": {
        "id": "HKQSc5K2EnlK"
      },
      "source": [
        "## Strings"
      ]
    },
    {
      "cell_type": "markdown",
      "metadata": {
        "id": "JhrORrjsW9tT"
      },
      "source": [
        "Sintaxe básica"
      ]
    },
    {
      "cell_type": "code",
      "metadata": {
        "id": "6bVtytQflFc2"
      },
      "source": [
        "nome = 'atributo em formato alfanumérico'\n",
        "\n",
        "# Todo e qualquer conteúdo entre aspas ' ' será identificado como string\n"
      ],
      "execution_count": null,
      "outputs": []
    },
    {
      "cell_type": "markdown",
      "metadata": {
        "id": "nr3WSsbFW9tT"
      },
      "source": [
        "Contando quantos caracteres compõe uma string"
      ]
    },
    {
      "cell_type": "code",
      "metadata": {
        "id": "dGvDYqRxEuqd",
        "colab": {
          "base_uri": "https://localhost:8080/"
        },
        "outputId": "eb0cf0bf-e64e-4552-800a-20c68e5cfcde"
      },
      "source": [
        "frase1 = 'Porto Alegre é uma cidade Brasileira.'\n",
        "\n",
        "print(len(frase1))\n",
        "\n",
        "# Lembrando que todos elementos dentro da string serão contabilizados,\n",
        "# incluindo os espaços e símbolos.\n"
      ],
      "execution_count": null,
      "outputs": [
        {
          "output_type": "stream",
          "text": [
            "37\n"
          ],
          "name": "stdout"
        }
      ]
    },
    {
      "cell_type": "markdown",
      "metadata": {
        "id": "fRFQ9_qDW9tV"
      },
      "source": [
        "Contando quantos caracteres compõe uma string, desconsiderando os espaços"
      ]
    },
    {
      "cell_type": "code",
      "metadata": {
        "id": "JCy049UJFllV",
        "colab": {
          "base_uri": "https://localhost:8080/"
        },
        "outputId": "7b757ecf-fab2-43bc-bfc4-ce08ae008132"
      },
      "source": [
        "frase1 = str('Porto Alegre é uma cidade Brasileira.')\n",
        "\n",
        "print(len(frase1))\n",
        "# string completa, incluindo espaços\n",
        "\n",
        "print(len(frase1) - frase1.count(' '))\n",
        "# string completa, removendo os elementos ' ' , que são espaços\n"
      ],
      "execution_count": null,
      "outputs": [
        {
          "output_type": "stream",
          "text": [
            "37\n",
            "32\n"
          ],
          "name": "stdout"
        }
      ]
    },
    {
      "cell_type": "markdown",
      "metadata": {
        "id": "Xw5Nyc7_W9tW"
      },
      "source": [
        "Substituindo elementos de uma string"
      ]
    },
    {
      "cell_type": "code",
      "metadata": {
        "id": "e11CK3P0pfbJ",
        "colab": {
          "base_uri": "https://localhost:8080/"
        },
        "outputId": "bb5e6eab-3f23-4d0d-da03-85e7987ce38f"
      },
      "source": [
        "frase1 = 'Porto Alegre é uma cidade Brasileira.'\n",
        "frase1 = frase1.replace('Porto Alegre', 'Curitiba')\n",
        "\n",
        "print(frase1)\n",
        "\n",
        "# replace( ) recebe dois parâmetros, sendo o primeiro o elemento a ser\n",
        "# substituído, e o segundo, o elemento a ser o substituto.\n"
      ],
      "execution_count": null,
      "outputs": [
        {
          "output_type": "stream",
          "text": [
            "Curitiba é uma cidade Brasileira.\n"
          ],
          "name": "stdout"
        }
      ]
    },
    {
      "cell_type": "markdown",
      "metadata": {
        "id": "_rlMZTHXW9tX"
      },
      "source": [
        "Contando quantos de um tipo específico de caractere estão na string"
      ]
    },
    {
      "cell_type": "code",
      "metadata": {
        "id": "L_ziQl_Npz_O",
        "colab": {
          "base_uri": "https://localhost:8080/"
        },
        "outputId": "ca53c169-1a53-4b65-da67-32a2f1406614"
      },
      "source": [
        "frase1 = 'Porto Alegre é uma cidade Brasileira.'\n",
        "\n",
        "print(frase1.count('a'))\n",
        "# count( ) realizará a contagem de quantos elementos 'a' especificamente\n",
        "# existem na string atribuída a frase1.\n"
      ],
      "execution_count": null,
      "outputs": [
        {
          "output_type": "stream",
          "text": [
            "4\n"
          ],
          "name": "stdout"
        }
      ]
    },
    {
      "cell_type": "markdown",
      "metadata": {
        "id": "wLHrYKx2W9tY"
      },
      "source": [
        "Exibindo a posição do índice de um determinado elemento da string"
      ]
    },
    {
      "cell_type": "code",
      "metadata": {
        "id": "oAaxZ4-fqORv",
        "colab": {
          "base_uri": "https://localhost:8080/"
        },
        "outputId": "131400c5-9bc1-4b64-8f89-db09c3e20e8d"
      },
      "source": [
        "frase1 = 'Porto Alegre é uma cidade Brasileira.'\n",
        "\n",
        "print(frase1.find('é'))\n",
        "# find( ) encontrará o elemento 'é', retornando sua posição de índice\n"
      ],
      "execution_count": null,
      "outputs": [
        {
          "output_type": "stream",
          "text": [
            "13\n"
          ],
          "name": "stdout"
        }
      ]
    },
    {
      "cell_type": "markdown",
      "metadata": {
        "id": "XvWsp_DHW9tY"
      },
      "source": [
        "Realizando a leitura de um caractere pelo seu número de índice"
      ]
    },
    {
      "cell_type": "code",
      "metadata": {
        "id": "HL5Ik8_btqiu",
        "colab": {
          "base_uri": "https://localhost:8080/"
        },
        "outputId": "e03ffd0e-8e90-4d56-8a75-a55fc0087cc0"
      },
      "source": [
        "frase1 = 'Porto Alegre é uma cidade Brasileira.'\n",
        "\n",
        "print(frase1[16])\n",
        "\n",
        "# Indicando a posição de índice, será retornado o respectivo elemento\n"
      ],
      "execution_count": null,
      "outputs": [
        {
          "output_type": "stream",
          "text": [
            "m\n"
          ],
          "name": "stdout"
        }
      ]
    },
    {
      "cell_type": "markdown",
      "metadata": {
        "id": "jw01YYQeW9ta"
      },
      "source": [
        "Desmembrando uma string, separando cada palavra da frase"
      ]
    },
    {
      "cell_type": "code",
      "metadata": {
        "id": "KImp_Amwqss2",
        "colab": {
          "base_uri": "https://localhost:8080/"
        },
        "outputId": "f7464012-cb58-4fe0-9da8-969fe4d6d1c7"
      },
      "source": [
        "frase1 = 'Porto Alegre é uma cidade Brasileira.'\n",
        "\n",
        "print(frase1.split())\n",
        "\n",
        "# split() sem parâmetros considerará os espaços entre as palavras, caso\n",
        "# queira um delimitador diferente é necessário definir via parâmetro, por exemplo\n",
        "# split(';'), dessa forma, onde houver ; haverá a separação dos elementos\n",
        "# em novas strings.\n"
      ],
      "execution_count": null,
      "outputs": [
        {
          "output_type": "stream",
          "text": [
            "['Porto', 'Alegre', 'é', 'uma', 'cidade', 'Brasileira.']\n"
          ],
          "name": "stdout"
        }
      ]
    },
    {
      "cell_type": "markdown",
      "metadata": {
        "id": "-P10st7AW9tb"
      },
      "source": [
        "Extraindo dados de uma string especificando um intervalo de índice"
      ]
    },
    {
      "cell_type": "code",
      "metadata": {
        "id": "saKyWA-CrE5f",
        "colab": {
          "base_uri": "https://localhost:8080/"
        },
        "outputId": "ad925920-d876-4e58-ac4f-f0892fe24f6e"
      },
      "source": [
        "frase1 = 'Porto Alegre é uma cidade Brasileira.'\n",
        "\n",
        "print(frase1[26:37])\n",
        "# do elemento 26 até o 37\n"
      ],
      "execution_count": null,
      "outputs": [
        {
          "output_type": "stream",
          "text": [
            "Brasileira.\n"
          ],
          "name": "stdout"
        }
      ]
    },
    {
      "cell_type": "code",
      "metadata": {
        "id": "7LBdGBOezbyP",
        "colab": {
          "base_uri": "https://localhost:8080/"
        },
        "outputId": "c689ce92-3d0f-4129-86d4-d9c0b65e688e"
      },
      "source": [
        "frase1 = 'Porto Alegre é uma cidade Brasileira.'\n",
        "\n",
        "print(frase1[0:5])\n",
        "# do início até uma posição 5\n"
      ],
      "execution_count": null,
      "outputs": [
        {
          "output_type": "stream",
          "text": [
            "Porto\n"
          ],
          "name": "stdout"
        }
      ]
    },
    {
      "cell_type": "code",
      "metadata": {
        "id": "Ye0I53mjzhsr",
        "colab": {
          "base_uri": "https://localhost:8080/"
        },
        "outputId": "4d7739a8-66f9-4a62-d45d-c95213e36915"
      },
      "source": [
        "frase1 = 'Porto Alegre é uma cidade Brasileira.'\n",
        "\n",
        "print(frase1[-9])\n",
        "# elemento de número 9, a contar de trás para frente\n"
      ],
      "execution_count": null,
      "outputs": [
        {
          "output_type": "stream",
          "text": [
            "a\n"
          ],
          "name": "stdout"
        }
      ]
    },
    {
      "cell_type": "markdown",
      "metadata": {
        "id": "oEqZNThJW9tb"
      },
      "source": [
        "Concatenando strings por meio de variáveis"
      ]
    },
    {
      "cell_type": "code",
      "metadata": {
        "id": "DRj-63SuvWQm",
        "colab": {
          "base_uri": "https://localhost:8080/"
        },
        "outputId": "81703d58-64ed-4e06-8818-573882522337"
      },
      "source": [
        "mensagem = 'Seja bem-vinda '\n",
        "usuario = 'Ana Clara'\n",
        "\n",
        "base = mensagem + usuario\n",
        "# Como os atributos das variáveis mensagem e usuario são textos o interpretador\n",
        "# apenas juntará os mesmos em uma nova string.\n",
        "\n",
        "print(base)\n"
      ],
      "execution_count": null,
      "outputs": [
        {
          "output_type": "stream",
          "text": [
            "Seja bem-vinda Ana Clara\n"
          ],
          "name": "stdout"
        }
      ]
    },
    {
      "cell_type": "markdown",
      "metadata": {
        "id": "kJ9afiAGW9tc"
      },
      "source": [
        "Concatenando diferentes tipos de dados em uma string"
      ]
    },
    {
      "cell_type": "code",
      "metadata": {
        "id": "FASEfVB5v_M1",
        "colab": {
          "base_uri": "https://localhost:8080/"
        },
        "outputId": "cf010f98-bd1d-48af-cc15-e0af609e4233"
      },
      "source": [
        "nome = 'Ana Clara'\n",
        "idade = 12\n",
        "\n",
        "print(f'{nome} tem {idade} anos')\n",
        "\n",
        "# Não haverá problema em concatenar diferentes tipos de dados desde que\n",
        "# os mesmos estejam em máscaras de substituição separadas.\n"
      ],
      "execution_count": null,
      "outputs": [
        {
          "output_type": "stream",
          "text": [
            "Ana Clara tem 12 anos\n"
          ],
          "name": "stdout"
        }
      ]
    },
    {
      "cell_type": "code",
      "metadata": {
        "id": "KJ_fVWhtW9td",
        "colab": {
          "base_uri": "https://localhost:8080/"
        },
        "outputId": "99394f84-2a91-473e-ecfa-65acba5d55da"
      },
      "source": [
        "# Exemplo 2:\n",
        "\n",
        "aviso = 'Atenção, geradores entrarão em manutenção às: ' + str(22) + ' horas!'\n",
        "# A variável aviso recebe três atributos distintos, concatenados pelo marcador\n",
        "# \" + \", sendo o segundo atributo convertido para string para evitar conflitos\n",
        "\n",
        "print(aviso)\n",
        "print(type(aviso))\n"
      ],
      "execution_count": null,
      "outputs": [
        {
          "output_type": "stream",
          "text": [
            "Atenção, geradores entrarão em manutenção às: 22 horas!\n",
            "<class 'str'>\n"
          ],
          "name": "stdout"
        }
      ]
    },
    {
      "cell_type": "markdown",
      "metadata": {
        "id": "pJmj2H7EW9te"
      },
      "source": [
        "Operadores lógicos em uma string"
      ]
    },
    {
      "cell_type": "code",
      "metadata": {
        "id": "EXl_gDG2w9J-",
        "colab": {
          "base_uri": "https://localhost:8080/"
        },
        "outputId": "34326843-4ac4-4e40-f910-41f6c7a4aa4f"
      },
      "source": [
        "aviso = 'Não é permitida a entrada de menores de 18 anos'\n",
        "\n",
        "print(aviso)\n",
        "\n",
        "print('anos' in aviso)\n",
        "\n",
        "print('gestante' not in aviso)\n"
      ],
      "execution_count": null,
      "outputs": [
        {
          "output_type": "stream",
          "text": [
            "Não é permitida a entrada de menores de 18 anos\n",
            "True\n",
            "True\n"
          ],
          "name": "stdout"
        }
      ]
    },
    {
      "cell_type": "code",
      "metadata": {
        "id": "4lf_KW9V0xOF",
        "colab": {
          "base_uri": "https://localhost:8080/"
        },
        "outputId": "3e5a9a74-2612-4fde-f9a1-5fa6f41858b7"
      },
      "source": [
        "aviso = 'Não é permitida a entrada de menores de 18 anos'\n",
        "\n",
        "print(aviso)\n",
        "# Exibe todo o conteúdo da variável aviso\n",
        "\n",
        "print('anos' in aviso)\n",
        "# Retorna True caso 'anos' for um dos elementos da string em aviso\n",
        "\n",
        "print('gestante' not in aviso)\n",
        "# Retorna True caso 'gestante' não conste nos elementos da string\n"
      ],
      "execution_count": null,
      "outputs": [
        {
          "output_type": "stream",
          "text": [
            "Não é permitida a entrada de menores de 18 anos\n",
            "True\n",
            "True\n"
          ],
          "name": "stdout"
        }
      ]
    },
    {
      "cell_type": "markdown",
      "metadata": {
        "id": "tWsJ2e7FW9te"
      },
      "source": [
        "Letras maiúsculas ou minúsculas em uma string"
      ]
    },
    {
      "cell_type": "code",
      "metadata": {
        "id": "b3Aq0eS_xtoX",
        "colab": {
          "base_uri": "https://localhost:8080/"
        },
        "outputId": "89186048-f9c2-45e4-a2c5-57c667ba2b61"
      },
      "source": [
        "alerta = 'Risco de Morte'\n",
        "\n",
        "print(alerta.upper())\n",
        "\n",
        "print(alerta.lower())\n"
      ],
      "execution_count": null,
      "outputs": [
        {
          "output_type": "stream",
          "text": [
            "RISCO DE MORTE\n",
            "risco de morte\n"
          ],
          "name": "stdout"
        }
      ]
    },
    {
      "cell_type": "code",
      "metadata": {
        "id": "j9SK1O981Jho",
        "colab": {
          "base_uri": "https://localhost:8080/"
        },
        "outputId": "f7b41ee4-6dfd-42da-f282-b210154fe57f"
      },
      "source": [
        "alerta = 'Risco de Morte'\n",
        "\n",
        "print(alerta.upper())\n",
        "# upper( ) converterá todos os caracteres para maiúsculo\n",
        "\n",
        "print(alerta.lower())\n",
        "# lower( ) converterá todos os caracteres para minúsculo\n"
      ],
      "execution_count": null,
      "outputs": [
        {
          "output_type": "stream",
          "text": [
            "RISCO DE MORTE\n",
            "risco de morte\n"
          ],
          "name": "stdout"
        }
      ]
    },
    {
      "cell_type": "markdown",
      "metadata": {
        "id": "_TNpn3_IW9tf"
      },
      "source": [
        "Convertendo outro tipo de dado para string"
      ]
    },
    {
      "cell_type": "code",
      "metadata": {
        "id": "N-A1g2jGyE-n",
        "colab": {
          "base_uri": "https://localhost:8080/"
        },
        "outputId": "cbe40768-945f-4339-86e7-f11b5569ca99"
      },
      "source": [
        "num1 = 5623\n",
        "num2 = str(num1)\n",
        "\n",
        "print(type(num1))\n",
        "print(type(num2))\n"
      ],
      "execution_count": null,
      "outputs": [
        {
          "output_type": "stream",
          "text": [
            "<class 'int'>\n",
            "<class 'str'>\n"
          ],
          "name": "stdout"
        }
      ]
    },
    {
      "cell_type": "code",
      "metadata": {
        "id": "bPU7syhb1bkv",
        "colab": {
          "base_uri": "https://localhost:8080/"
        },
        "outputId": "caeeadb4-0171-434e-a848-a12310c9e558"
      },
      "source": [
        "num1 = 5623\n",
        "num2 = str(num1)\n",
        "# Recebe como atributo o dado/valor de num1 convertido para string\n",
        "\n",
        "print(type(num1))\n",
        "print(type(num2))\n"
      ],
      "execution_count": null,
      "outputs": [
        {
          "output_type": "stream",
          "text": [
            "<class 'int'>\n",
            "<class 'str'>\n"
          ],
          "name": "stdout"
        }
      ]
    },
    {
      "cell_type": "markdown",
      "metadata": {
        "id": "D5Uzst4qW9tf"
      },
      "source": [
        "Removendo espaços no início e no fim de uma string"
      ]
    },
    {
      "cell_type": "code",
      "metadata": {
        "id": "rQWMXf_Syqbt",
        "colab": {
          "base_uri": "https://localhost:8080/"
        },
        "outputId": "e81cf1aa-2a46-44fa-ded8-f335094612bd"
      },
      "source": [
        "frase1 = '         Olá, você é o visitante nº 1000 '\n",
        "\n",
        "print(frase1)\n",
        "# string em seu formato original\n",
        "\n",
        "print(frase1.strip())\n",
        "# string sem espeços desnecessários\n"
      ],
      "execution_count": null,
      "outputs": [
        {
          "output_type": "stream",
          "text": [
            "         Olá, você é o visitante nº 1000 \n",
            "Olá, você é o visitante nº 1000\n"
          ],
          "name": "stdout"
        }
      ]
    },
    {
      "cell_type": "markdown",
      "metadata": {
        "id": "9fj2wdrFW9tg"
      },
      "source": [
        "Convertendo todas iniciais das palavras para maiúsculo, como em um título"
      ]
    },
    {
      "cell_type": "code",
      "metadata": {
        "id": "82G2GNEw1tG9",
        "colab": {
          "base_uri": "https://localhost:8080/"
        },
        "outputId": "36cd78ff-598d-479c-ec6e-28dd39784a8b"
      },
      "source": [
        "tema = 'O diagnóstico por imagem como ferramenta para detecção de câncer'\n",
        "\n",
        "print(tema)\n",
        "\n",
        "tema = tema.title()\n",
        "# title( ) converterá todas letras iniciais da string para letra maiúscula\n",
        "\n",
        "print(tema)\n"
      ],
      "execution_count": null,
      "outputs": [
        {
          "output_type": "stream",
          "text": [
            "O diagnóstico por imagem como ferramenta para detecção de câncer\n",
            "O Diagnóstico Por Imagem Como Ferramenta Para Detecção De Câncer\n"
          ],
          "name": "stdout"
        }
      ]
    },
    {
      "cell_type": "markdown",
      "metadata": {
        "id": "31g75J9VW9tg"
      },
      "source": [
        "Verificando se uma string é composta por letras e/ou números"
      ]
    },
    {
      "cell_type": "code",
      "metadata": {
        "id": "x_9m1-jv2LVW",
        "colab": {
          "base_uri": "https://localhost:8080/"
        },
        "outputId": "0b9cb37a-adc9-4b21-a1cd-6eaf916cb188"
      },
      "source": [
        "print('aa44'.isalnum())\n",
        "# Qualquer caractere alfanumérico\n",
        "\n",
        "print('aa44'.isalpha())\n",
        "# Apenas letras\n",
        "\n",
        "print('aa44'.isdigit())\n",
        "# Apenas números\n"
      ],
      "execution_count": null,
      "outputs": [
        {
          "output_type": "stream",
          "text": [
            "True\n",
            "False\n",
            "False\n"
          ],
          "name": "stdout"
        }
      ]
    },
    {
      "cell_type": "markdown",
      "metadata": {
        "id": "66fojUBpW9th"
      },
      "source": [
        "Adicionando espaços antes e depois de uma string"
      ]
    },
    {
      "cell_type": "code",
      "metadata": {
        "id": "rqtt2IXA5ONN",
        "colab": {
          "base_uri": "https://localhost:8080/"
        },
        "outputId": "e213e808-d102-4662-9e7a-910786853cf2"
      },
      "source": [
        "frase1 = 'Alerta, Risco de Morte!!!'\n",
        "frase1 = frase1.ljust(50)\n",
        "# em um intervalo de 50 caracteres, alinhando a string à esquerda\n",
        "\n",
        "print(frase1)\n",
        "\n",
        "frase2 = 'Alerta, Risco de Morte!!!'\n",
        "frase2 = frase2.rjust(50)\n",
        "# em um intervalo de 50 caracteres, alinhando a string à direita\n",
        "\n",
        "print(frase2)\n",
        "\n",
        "frase3 = 'Alerta, Risco de Morte!!!'\n",
        "frase3 = frase3.center(50)\n",
        "# em um intervalo de 50 caracteres, alinhando a string ao centro\n",
        "\n",
        "print(frase3)\n"
      ],
      "execution_count": null,
      "outputs": [
        {
          "output_type": "stream",
          "text": [
            "Alerta, Risco de Morte!!!                         \n",
            "                         Alerta, Risco de Morte!!!\n",
            "            Alerta, Risco de Morte!!!             \n"
          ],
          "name": "stdout"
        }
      ]
    },
    {
      "cell_type": "markdown",
      "metadata": {
        "id": "6wJFrrD8ucfR"
      },
      "source": [
        "Particularidades envolvendo o tamanho de uma string"
      ]
    },
    {
      "cell_type": "code",
      "metadata": {
        "id": "xIzoolmKq2ug",
        "colab": {
          "base_uri": "https://localhost:8080/"
        },
        "outputId": "285d8ae5-92ea-47e9-b97d-7f999c087812"
      },
      "source": [
        "nome = 'Alberto'\n",
        "# 7 elementos\n",
        "\n",
        "nome2 = 'Alberto\\n' # marcador \\n é lido como apenas 1 caractere\n",
        "nome3 = 'Alberto ' # espaço é lido como 1 caractere\n",
        "\n",
        "print(len(nome))\n",
        "print(len(nome2))\n",
        "print(len(nome3))\n"
      ],
      "execution_count": null,
      "outputs": [
        {
          "output_type": "stream",
          "text": [
            "7\n",
            "8\n",
            "8\n"
          ],
          "name": "stdout"
        }
      ]
    },
    {
      "cell_type": "markdown",
      "metadata": {
        "id": "DwQFepXoul-_"
      },
      "source": [
        "Tratando os espaços desnecessários de uma string"
      ]
    },
    {
      "cell_type": "code",
      "metadata": {
        "id": "CAaYd54sq2wc",
        "colab": {
          "base_uri": "https://localhost:8080/"
        },
        "outputId": "51e12a37-7817-4c90-9032-b9e423fe1f81"
      },
      "source": [
        "nome = ' Fernando '\n",
        "print(nome)\n",
        "\n",
        "nome2 = nome.rstrip()\n",
        "print(nome2)\n",
        "\n",
        "nome3 = nome.lstrip()\n",
        "print(nome3)\n",
        "\n",
        "nome4 = nome.strip()\n",
        "print(nome4)\n"
      ],
      "execution_count": null,
      "outputs": [
        {
          "output_type": "stream",
          "text": [
            " Fernando \n",
            " Fernando\n",
            "Fernando \n",
            "Fernando\n"
          ],
          "name": "stdout"
        }
      ]
    },
    {
      "cell_type": "code",
      "metadata": {
        "id": "5sAxX2-A2EKE",
        "colab": {
          "base_uri": "https://localhost:8080/"
        },
        "outputId": "e577cb10-6fbd-4fa6-c4d9-c18aa221aef1"
      },
      "source": [
        "nome = ' Fernando '\n",
        "\n",
        "print(nome)\n",
        "\n",
        "nome2 = nome.rstrip()\n",
        "# rstrip( ) removerá os espaços desnecessários à direita\n",
        "print(nome2)\n",
        "\n",
        "nome3 = nome.lstrip()\n",
        "# rstrip( ) removerá os espaços desnecessários à esquerda\n",
        "print(nome3)\n",
        "\n",
        "nome4 = nome.strip()\n",
        "# rstrip( ) removerá os espaços desnecessários em ambos os lados\n",
        "print(nome4)\n"
      ],
      "execution_count": null,
      "outputs": [
        {
          "output_type": "stream",
          "text": [
            " Fernando \n",
            " Fernando\n",
            "Fernando \n",
            "Fernando\n"
          ],
          "name": "stdout"
        }
      ]
    },
    {
      "cell_type": "markdown",
      "metadata": {
        "id": "nCEgYlQ8vs7J"
      },
      "source": [
        "Reposicionando elementos de uma string"
      ]
    },
    {
      "cell_type": "code",
      "metadata": {
        "id": "_jb9O2Svq2ye",
        "colab": {
          "base_uri": "https://localhost:8080/"
        },
        "outputId": "b752ba8e-85e1-4153-d1d6-1d4a37d996a1"
      },
      "source": [
        "codigo = 'AAA\\rBBB'\n",
        "\n",
        "print(codigo)\n",
        "\n",
        "codigo2 = '   AAA\\rBBB'\n",
        "\n",
        "print(codigo2)\n"
      ],
      "execution_count": null,
      "outputs": [
        {
          "output_type": "stream",
          "text": [
            "AAA\rBBB\n",
            "   AAA\rBBB\n"
          ],
          "name": "stdout"
        }
      ]
    },
    {
      "cell_type": "markdown",
      "metadata": {
        "id": "EFAmWuy6JgCH"
      },
      "source": [
        "Resumo de todos os métodos inclusos nos built-ins"
      ]
    },
    {
      "cell_type": "code",
      "metadata": {
        "id": "DH1rINIwD5KA"
      },
      "source": [
        "capitalize()\n",
        "# Converte o primeiro caractere para maiúsculo\n",
        "\n",
        "casefold()\n",
        "# Converte uma string para letras minúsculas\n",
        "\n",
        "center()\n",
        "# Retorna uma string centralizada\n",
        "\n",
        "count()\n",
        "# Retorna o número de vezes em que um elemento aparece na string\n",
        "\n",
        "encode()\n",
        "# Retorna uma versão convertida da string (parametrizar com o tipo de texto, ex: utf-8)\n",
        "\n",
        "endswith()\n",
        "# Dado um dado/valor a ser usado para identificador do fim do texto, retornará True caso o texto de fato termine com tal dado\n",
        "\n",
        "expandtabs()\n",
        "# Define o tamanho da tabulação do texto (margens)\n",
        "\n",
        "find()\n",
        "# Busca no texto um determinado elemento, retornando a posição de índice onde o mesmo foi localizado\n",
        "\n",
        "index()\n",
        "# Dada uma certa palavra, retorna o número de índice onde a mesma foi localizada por primeiro\n",
        "\n",
        "isalnum()\n",
        "# Retorna True se todos os caracteres forem de um tipo numérico\n",
        "\n",
        "isalpha()\n",
        "# Retorna True se todos os caracteres forem alfanuméricos, sem símbolos especiais\n",
        "\n",
        "isdecimal()\n",
        "# Retorna True se todos os elementos forem do tipo numérico com casa decimal\n",
        "\n",
        "isdigit()\n",
        "# Retorna True se todos os elementos forem dígitos\n",
        "\n",
        "islower()\n",
        "# Retorna True se todos os caracteres da string estiverem em minúsculo\n",
        "\n",
        "isnumeric()\n",
        "# Retorna True se todos os elementos forem números, sem símbolos especiais\n",
        "\n",
        "isspace()\n",
        "# Retorna True se todos os elementos de uma string forem espaços em branco\n",
        "\n",
        "istitle()\n",
        "# Retorna True se todas as palavras de uma frase forem iniciadas com letra maiúscula\n",
        "\n",
        "isupper()\n",
        "# Retorna True se todas as letras de uma string forem letras maiúsculas\n",
        "\n",
        "join()\n",
        "# Junta uma nova string ao final da primeira usada como referência\n",
        "\n",
        "ljust()\n",
        "# Alinha à esquerda uma string\n",
        "\n",
        "rjust()\n",
        "# Alinha à direita uma string\n",
        "\n",
        "lower()\n",
        "# Converte todos elementos de uma string para letra minúscula\n",
        "\n",
        "lstrip()\n",
        "# Remove todos os espaços à esquerda de uma string\n",
        "\n",
        "rstrip()\n",
        "# Remove todos os espaços à direita de uma string\n",
        "\n",
        "maketrans()\n",
        "# Retorna uma tradução para a string a partir de outra variável\n",
        "\n",
        "partition()\n",
        "# Retorna uma tupla onde a string original é dividida em 3 partes\n",
        "\n",
        "replace()\n",
        "# Substitui um elemento de uma string por outro\n",
        "\n",
        "rfind()\n",
        "# Busca por uma determinada string mas retorna a última instancia da mesma encontrada\n",
        "\n",
        "rindex()\n",
        "# Busca por uma determinada string mas retorna o último número de índice onde a mesma foi encontrada\n",
        "\n",
        "startswith()\n",
        "# Com base em uma palavra-chave, retorna True caso essa palavra seja a primeira da string\n",
        "\n",
        "title()\n",
        "# Converte o primeiro caractere de cada string para maiúsculo\n",
        "\n",
        "translate()\n",
        "# Retorna uma string traduzida com base em informação contida em uma variável\n",
        "\n",
        "upper()\n",
        "# Converte toda a string para letras maiúsculas\n"
      ],
      "execution_count": null,
      "outputs": []
    },
    {
      "cell_type": "markdown",
      "metadata": {
        "id": "baGyJEPdE1K-"
      },
      "source": [
        "## Listas"
      ]
    },
    {
      "cell_type": "markdown",
      "metadata": {
        "id": "aUTZTVdIW9ti"
      },
      "source": [
        "Criando uma lista simples"
      ]
    },
    {
      "cell_type": "code",
      "metadata": {
        "id": "OUZoUc7pE3wc",
        "colab": {
          "base_uri": "https://localhost:8080/"
        },
        "outputId": "2ff095ee-547b-4880-bbca-e8af1298acf2"
      },
      "source": [
        "lista1 = ['Ana Clara', 'Carlos', 'Maria', 'Michele', 'Fernando', 1987]\n",
        "\n",
        "print(lista1)\n"
      ],
      "execution_count": null,
      "outputs": [
        {
          "output_type": "stream",
          "text": [
            "['Ana Clara', 'Carlos', 'Maria', 'Michele', 'Fernando', 1987]\n"
          ],
          "name": "stdout"
        }
      ]
    },
    {
      "cell_type": "code",
      "metadata": {
        "id": "2boTGhQx2dus",
        "colab": {
          "base_uri": "https://localhost:8080/"
        },
        "outputId": "1ea88bfb-ba99-4a84-b5a4-9d13a404d769"
      },
      "source": [
        "lista1 = ['Ana Clara',\n",
        "          'Carlos',\n",
        "          'Maria',\n",
        "          'Michele',\n",
        "          'Fernando',\n",
        "          1987]\n",
        "\n",
        "print(lista1)\n",
        "\n",
        "# Para uma melhor legibilidade do código, os elementos de uma lista podem ser\n",
        "# organizados dispostos em linhas diferentes, separada pelo marcador \" , \"\n"
      ],
      "execution_count": null,
      "outputs": [
        {
          "output_type": "stream",
          "text": [
            "['Ana Clara', 'Carlos', 'Maria', 'Michele', 'Fernando', 1987]\n"
          ],
          "name": "stdout"
        }
      ]
    },
    {
      "cell_type": "markdown",
      "metadata": {
        "id": "qNpOMZpIW9ti"
      },
      "source": [
        "Descobrindo o elemento de uma lista através de seu número de índice"
      ]
    },
    {
      "cell_type": "code",
      "metadata": {
        "id": "PRXtVhLv4-lZ",
        "colab": {
          "base_uri": "https://localhost:8080/"
        },
        "outputId": "f686582b-3c53-4ffe-a028-98cb3cd8d224"
      },
      "source": [
        "lista1 = ['Ana Clara', 'Carlos', 'Maria', 'Michele', 'Fernando', 1987]\n",
        "\n",
        "print(lista1[3])\n",
        "\n",
        "# Lembrando que em Python o índice se uma lista sempre inicial em 0\n"
      ],
      "execution_count": null,
      "outputs": [
        {
          "output_type": "stream",
          "text": [
            "Michele\n"
          ],
          "name": "stdout"
        }
      ]
    },
    {
      "cell_type": "markdown",
      "metadata": {
        "id": "biaDhHZOW9tj"
      },
      "source": [
        "Descobrindo o número de índice de um determinado elemento"
      ]
    },
    {
      "cell_type": "code",
      "metadata": {
        "id": "AnN8pE5i3v3C",
        "colab": {
          "base_uri": "https://localhost:8080/"
        },
        "outputId": "380dca3c-250c-4f1a-dfa8-e9bde009a16a"
      },
      "source": [
        "lista1 = ['Ana Clara', 'Carlos', 'Maria', 'Michele', 'Fernando', 1987]\n",
        "\n",
        "print(lista1.index('Michele'))\n",
        "# index( ) retornará o número de índice de um determinado elemento da lista,\n",
        "# string ou contêiner de dados de estrutura lógica parecida\n"
      ],
      "execution_count": null,
      "outputs": [
        {
          "output_type": "stream",
          "text": [
            "3\n"
          ],
          "name": "stdout"
        }
      ]
    },
    {
      "cell_type": "markdown",
      "metadata": {
        "id": "Ysw6L-PgW9tj"
      },
      "source": [
        "Descobrindo o número total de elementos de uma lista"
      ]
    },
    {
      "cell_type": "code",
      "metadata": {
        "id": "YEb_najczmWU",
        "colab": {
          "base_uri": "https://localhost:8080/"
        },
        "outputId": "4c87916a-bdba-400b-e8d7-3bab84baa985"
      },
      "source": [
        "lista1 = ['Ana Clara', 'Carlos', 'Maria', 'Michele', 'Fernando', 1987]\n",
        "\n",
        "print(len(lista1))\n"
      ],
      "execution_count": null,
      "outputs": [
        {
          "output_type": "stream",
          "text": [
            "6\n"
          ],
          "name": "stdout"
        }
      ]
    },
    {
      "cell_type": "markdown",
      "metadata": {
        "id": "ZG3huVfjW9tk"
      },
      "source": [
        "Adicionando um novo elemento à lista (por justaposição)"
      ]
    },
    {
      "cell_type": "code",
      "metadata": {
        "id": "2kFM18u65Doo",
        "colab": {
          "base_uri": "https://localhost:8080/"
        },
        "outputId": "c4d41618-644b-42d7-c159-5273383c140a"
      },
      "source": [
        "lista1 = ['Ana Clara', 'Carlos', 'Maria', 'Michele', 'Fernando', 1987]\n",
        "\n",
        "lista1.append('Paulo')\n",
        "# Via append( ) o novo elemento será inserido como último elemento da lista\n",
        "\n",
        "print(lista1)\n"
      ],
      "execution_count": null,
      "outputs": [
        {
          "output_type": "stream",
          "text": [
            "['Ana Clara', 'Carlos', 'Maria', 'Michele', 'Fernando', 1987, 'Paulo']\n"
          ],
          "name": "stdout"
        }
      ]
    },
    {
      "cell_type": "markdown",
      "metadata": {
        "id": "bpiFFJNpW9tk"
      },
      "source": [
        "Adicionando um novo elemento na lista em uma posição específica"
      ]
    },
    {
      "cell_type": "code",
      "metadata": {
        "id": "ZWAucqYDHHBe",
        "colab": {
          "base_uri": "https://localhost:8080/"
        },
        "outputId": "cf00af6d-c91e-4640-f9b9-cee81084fe83"
      },
      "source": [
        "lista1 = ['Ana Clara', 'Carlos', 'Maria', 'Michele', 'Fernando', 1987]\n",
        "\n",
        "lista1[2] = 'José'\n",
        "# Referenciando a posição de índice, é possível inserir um novo elemento\n",
        "# na referente posição ou substituir um elemento que ocupava tal posição\n",
        "\n",
        "print(lista1)\n"
      ],
      "execution_count": null,
      "outputs": [
        {
          "output_type": "stream",
          "text": [
            "['Ana Clara', 'Carlos', 'José', 'Michele', 'Fernando', 1987]\n"
          ],
          "name": "stdout"
        }
      ]
    },
    {
      "cell_type": "markdown",
      "metadata": {
        "id": "ThD5BSoXW9to"
      },
      "source": [
        "Adicionando um novo elemento na lista em uma posição específica via função insert( )"
      ]
    },
    {
      "cell_type": "code",
      "metadata": {
        "id": "Sig7MD107LHT",
        "colab": {
          "base_uri": "https://localhost:8080/"
        },
        "outputId": "f40b74e5-1630-4d57-e6f2-eea09d2efdec"
      },
      "source": [
        "lista1 = ['Ana Clara', 'Carlos', 'Maria', 'Michele', 'Fernando', 1987]\n",
        "\n",
        "lista1.insert(2, 'José')\n",
        "# Via insert( ) é possível adicionar um novo elemento em uma posição específica\n",
        "# sem que o mesmo substitua o elemento antigo daquela posição de índice\n",
        "\n",
        "print(lista1)\n"
      ],
      "execution_count": null,
      "outputs": [
        {
          "output_type": "stream",
          "text": [
            "['Ana Clara', 'Carlos', 'José', 'Maria', 'Michele', 'Fernando', 1987]\n"
          ],
          "name": "stdout"
        }
      ]
    },
    {
      "cell_type": "markdown",
      "metadata": {
        "id": "zs6qYLesTy2m"
      },
      "source": [
        "Removendo um elemento de uma lista via função pop( )"
      ]
    },
    {
      "cell_type": "code",
      "metadata": {
        "id": "ftqtsY54T3H7",
        "colab": {
          "base_uri": "https://localhost:8080/"
        },
        "outputId": "348a4c05-e816-4f9b-980b-3d671ffe8560"
      },
      "source": [
        "lista1 = ['Ana Clara', 'Carlos', 'Maria', 'Michele', 'Fernando', 1987]\n",
        "\n",
        "lista1.pop(1)\n",
        "# pop( ) remove um determinado elemento por meio de seu número de índice.\n",
        "\n",
        "print(lista1)\n"
      ],
      "execution_count": null,
      "outputs": [
        {
          "output_type": "stream",
          "text": [
            "['Ana Clara', 'Maria', 'Michele', 'Fernando', 1987]\n"
          ],
          "name": "stdout"
        }
      ]
    },
    {
      "cell_type": "markdown",
      "metadata": {
        "id": "AWT3QyxsW9tp"
      },
      "source": [
        "Removendo um elemento de uma lista via função remove( )"
      ]
    },
    {
      "cell_type": "code",
      "metadata": {
        "id": "BCeD4PT25M0I",
        "colab": {
          "base_uri": "https://localhost:8080/"
        },
        "outputId": "c4811ead-785a-4886-fe77-3344aedf2bd6"
      },
      "source": [
        "lista1 = ['Ana Clara', 'Carlos', 'Maria', 'Michele', 'Fernando', 1987]\n",
        "\n",
        "lista1.remove(lista1[5])\n",
        "# Via função remove( ) é necessário parametrizar a mesma com a variável em\n",
        "# questão e seu número de índice.\n",
        "\n",
        "print(lista1)\n"
      ],
      "execution_count": null,
      "outputs": [
        {
          "output_type": "stream",
          "text": [
            "['Ana Clara', 'Carlos', 'Maria', 'Michele', 'Fernando']\n"
          ],
          "name": "stdout"
        }
      ]
    },
    {
      "cell_type": "markdown",
      "metadata": {
        "id": "9bZPbmXBVdCp"
      },
      "source": [
        "Ordenando elementos de uma lista"
      ]
    },
    {
      "cell_type": "code",
      "metadata": {
        "id": "MfYwmfLoVfXw",
        "colab": {
          "base_uri": "https://localhost:8080/"
        },
        "outputId": "18a35e5c-8aaf-49e4-a341-7d9f55118ea3"
      },
      "source": [
        "num = [9, 4, 7, 2, 5, 1, 8, 3, 6, 0]\n",
        "\n",
        "num.sort()\n",
        "# Ordena os números em sua ordem natural\n",
        "\n",
        "print(num)\n"
      ],
      "execution_count": null,
      "outputs": [
        {
          "output_type": "stream",
          "text": [
            "[0, 1, 2, 3, 4, 5, 6, 7, 8, 9]\n"
          ],
          "name": "stdout"
        }
      ]
    },
    {
      "cell_type": "code",
      "metadata": {
        "id": "cDKOuErC5Z5m",
        "colab": {
          "base_uri": "https://localhost:8080/"
        },
        "outputId": "12c70055-036e-46af-b68f-acab4703fffe"
      },
      "source": [
        "num.sort(reverse = True)\n",
        "# Ordena os números de trás para frente\n",
        "\n",
        "print(num)\n"
      ],
      "execution_count": null,
      "outputs": [
        {
          "output_type": "stream",
          "text": [
            "[9, 8, 7, 6, 5, 4, 3, 2, 1, 0]\n"
          ],
          "name": "stdout"
        }
      ]
    },
    {
      "cell_type": "markdown",
      "metadata": {
        "id": "YTxagwCDZ4RI"
      },
      "source": [
        "Invertendo a ordem dos elementos de uma lista via reversed( )"
      ]
    },
    {
      "cell_type": "code",
      "metadata": {
        "id": "LHyt5Sa2ZuN2",
        "colab": {
          "base_uri": "https://localhost:8080/"
        },
        "outputId": "833a7026-e374-4b29-dfa4-c99e03c77101"
      },
      "source": [
        "num2 = [9, 4, 7, 2, 5, 1, 8, 3, 6, 0]\n",
        "\n",
        "num3 = list(reversed(num2))\n",
        "# Para inverter os elementos de uma lista pelo método reversed( )\n",
        "# é necessário gerar uma nova lista, além de instanciar a variável\n",
        "# da lista original.\n",
        "\n",
        "print(num3)\n"
      ],
      "execution_count": null,
      "outputs": [
        {
          "output_type": "stream",
          "text": [
            "[0, 6, 3, 8, 1, 5, 2, 7, 4, 9]\n"
          ],
          "name": "stdout"
        }
      ]
    },
    {
      "cell_type": "code",
      "metadata": {
        "colab": {
          "base_uri": "https://localhost:8080/"
        },
        "id": "06kFdw_Ai9VT",
        "outputId": "952d9bc6-6a43-49dc-ea0f-396051f02cd2"
      },
      "source": [
        "# Aplicando o método reverse() diretamente\n",
        "\n",
        "num2 = [9, 4, 7, 2, 5, 1, 8, 3, 6, 0]\n",
        "\n",
        "num2.reverse()\n",
        "\n",
        "print(num2)\n"
      ],
      "execution_count": null,
      "outputs": [
        {
          "output_type": "stream",
          "text": [
            "[0, 6, 3, 8, 1, 5, 2, 7, 4, 9]\n"
          ],
          "name": "stdout"
        }
      ]
    },
    {
      "cell_type": "markdown",
      "metadata": {
        "id": "jtvddUk5aChz"
      },
      "source": [
        "Ordenando elementos de uma lista composta de caracteres alfanuméricos"
      ]
    },
    {
      "cell_type": "code",
      "metadata": {
        "id": "dQuCxwXEX8bF",
        "colab": {
          "base_uri": "https://localhost:8080/"
        },
        "outputId": "1100508d-38a7-42b5-c32d-d0b7aec4e0f5"
      },
      "source": [
        "# Método sorted( ) oferece suporte a ordenação de qualquer elemento sendo este\n",
        "# composto de letras e de números.\n",
        "\n",
        "animal = 'ornitorrinco'\n",
        "\n",
        "letras = sorted(animal)\n",
        "\n",
        "print(letras)\n"
      ],
      "execution_count": null,
      "outputs": [
        {
          "output_type": "stream",
          "text": [
            "['c', 'i', 'i', 'n', 'n', 'o', 'o', 'o', 'r', 'r', 'r', 't']\n"
          ],
          "name": "stdout"
        }
      ]
    },
    {
      "cell_type": "markdown",
      "metadata": {
        "id": "kqCJt7NuW9tp"
      },
      "source": [
        "Listas dentro de listas"
      ]
    },
    {
      "cell_type": "code",
      "metadata": {
        "id": "b2YiMQ2OxMP_",
        "colab": {
          "base_uri": "https://localhost:8080/"
        },
        "outputId": "aa9df8de-ef81-4b3e-a690-8e06390ac688"
      },
      "source": [
        "cadastro = [[1, 2, 3, 4], ['Ana', 'Maria', 'Paulo', 'Roberto']]\n",
        "\n",
        "print(cadastro)\n",
        "\n",
        "# O primeiro elemento da lista atribuída a Carlos é a lista [1, 2, 3, 4],\n",
        "# sendo que o segundo elemento da mesma é a lista ['Ana', 'Maria', 'Paulo',\n",
        "# 'Roberto']\n"
      ],
      "execution_count": null,
      "outputs": [
        {
          "output_type": "stream",
          "text": [
            "[[1, 2, 3, 4], ['Ana', 'Maria', 'Paulo', 'Roberto']]\n"
          ],
          "name": "stdout"
        }
      ]
    },
    {
      "cell_type": "markdown",
      "metadata": {
        "id": "ctccY8GhUPr9"
      },
      "source": [
        "Concatenando listas"
      ]
    },
    {
      "cell_type": "code",
      "metadata": {
        "id": "vhfqErfoUSKV",
        "colab": {
          "base_uri": "https://localhost:8080/"
        },
        "outputId": "a2675d79-095c-4fdc-ae7b-0cd864d0ee52"
      },
      "source": [
        "pessoas1 = ['Ana', 'Bárbara', 'Carla', 'Daiane']\n",
        "pessoas2 = ['André', 'Carlos', 'Diego', 'Fernando']\n",
        "\n",
        "todas_pessoas = pessoas1 + pessoas2\n",
        "\n",
        "print(pessoas1)\n",
        "print(pessoas2)\n",
        "print(todas_pessoas)\n",
        "\n",
        "# Para concatenação é necessário criar uma nova lista\n"
      ],
      "execution_count": null,
      "outputs": [
        {
          "output_type": "stream",
          "text": [
            "['Ana', 'Bárbara', 'Carla', 'Daiane']\n",
            "['André', 'Carlos', 'Diego', 'Fernando']\n",
            "['Ana', 'Bárbara', 'Carla', 'Daiane', 'André', 'Carlos', 'Diego', 'Fernando']\n"
          ],
          "name": "stdout"
        }
      ]
    },
    {
      "cell_type": "markdown",
      "metadata": {
        "id": "YwWGhvj_UnBI"
      },
      "source": [
        "Unindo listas"
      ]
    },
    {
      "cell_type": "code",
      "metadata": {
        "id": "jG2sAaMFUpg4",
        "colab": {
          "base_uri": "https://localhost:8080/"
        },
        "outputId": "5919b939-2ec8-4a29-fa2a-82dc3a71d41b"
      },
      "source": [
        "pessoas1 = ['Ana', 'Bárbara', 'Carla', 'Daiane']\n",
        "pessoas2 = ['André', 'Carlos', 'Diego', 'Fernando']\n",
        "\n",
        "print(pessoas1)\n",
        "print(pessoas2)\n",
        "\n",
        "pessoas1.extend(pessoas2)\n",
        "\n",
        "print(pessoas1)\n",
        "\n",
        "# É possível unir uma lista a outra já existente, nesse caso, por meio\n",
        "# do método extend( ) aplicado a pessoas1, o conteúdo de pessoas2 será\n",
        "# acicionado ao conteúdo de pessoas1.\n"
      ],
      "execution_count": null,
      "outputs": [
        {
          "output_type": "stream",
          "text": [
            "['Ana', 'Bárbara', 'Carla', 'Daiane']\n",
            "['André', 'Carlos', 'Diego', 'Fernando']\n",
            "['Ana', 'Bárbara', 'Carla', 'Daiane', 'André', 'Carlos', 'Diego', 'Fernando']\n"
          ],
          "name": "stdout"
        }
      ]
    },
    {
      "cell_type": "markdown",
      "metadata": {
        "id": "YM9nKxHlWxOH"
      },
      "source": [
        "Fatiando elementos de uma lista"
      ]
    },
    {
      "cell_type": "code",
      "metadata": {
        "id": "PecGxeUAW0J5",
        "colab": {
          "base_uri": "https://localhost:8080/"
        },
        "outputId": "b17c3820-2a09-4725-a3af-8af5182e1f2f"
      },
      "source": [
        "lista5 = ['Ana', 'Carlos', 'Diego', 'Elis', 'Fernando',\n",
        "          'Graziela', 'Marcos', 'Paulo', 'Viviane']\n",
        "\n",
        "lista6 = lista5[1:5]\n",
        "# extraindo do segundo ao quinto elemento por meio de seus índices\n",
        "\n",
        "print(lista5)\n",
        "print(lista6)\n"
      ],
      "execution_count": null,
      "outputs": [
        {
          "output_type": "stream",
          "text": [
            "['Ana', 'Carlos', 'Diego', 'Elis', 'Fernando', 'Graziela', 'Marcos', 'Paulo', 'Viviane']\n",
            "['Carlos', 'Diego', 'Elis', 'Fernando']\n"
          ],
          "name": "stdout"
        }
      ]
    },
    {
      "cell_type": "markdown",
      "metadata": {
        "id": "oPwtA4g8JGAC"
      },
      "source": [
        "Resumo de todos métodos inclusos nos built-ins"
      ]
    },
    {
      "cell_type": "code",
      "metadata": {
        "id": "L3EhcZFx0lGC"
      },
      "source": [
        "append()\n",
        "# Adiciona um elemento ao final de uma lista\n",
        "\n",
        "insert()\n",
        "# Adiciona um elemento em uma posição específica do índice\n",
        "\n",
        "clear()\n",
        "# Remove todos os elementos de uma lista\n",
        "\n",
        "copy()\n",
        "# Associado a outra variável, copia todo o conteúdo de uma lista\n",
        "\n",
        "count()\n",
        "# Retorna o número de vezes que um elemento aparece em uma lista\n",
        "\n",
        "extend()\n",
        "# Adiciona os elementos de um objeto (ou de outra lista) ao final da lista original\n",
        "\n",
        "index()\n",
        "# Retorna o número de índice de um determinado elemento da lista\n",
        "\n",
        "pop()\n",
        "# Remove um determinado elemento da lista por meio de seu número de índice\n",
        "\n",
        "remove()\n",
        "# Remove um determinado elemento da lista por meio de seu nome/dado/valor\n",
        "\n",
        "reverse()\n",
        "# Inverte a ordem dos elementos da lista\n",
        "\n",
        "sort()\n",
        "# Ordena os elementos da lista\n"
      ],
      "execution_count": null,
      "outputs": []
    },
    {
      "cell_type": "markdown",
      "metadata": {
        "id": "4HFrgFjgFCYE"
      },
      "source": [
        "## Conjuntos Numéricos"
      ]
    },
    {
      "cell_type": "markdown",
      "metadata": {
        "id": "4AGac6ciW9tq"
      },
      "source": [
        "Criando um conjunto numérico (set)"
      ]
    },
    {
      "cell_type": "code",
      "metadata": {
        "id": "X563OkTfFH4v",
        "colab": {
          "base_uri": "https://localhost:8080/"
        },
        "outputId": "e0a174a4-5ed5-481c-fac4-9bd3a8d51aba"
      },
      "source": [
        "conjunto1 = {5, 10, 15, 20}\n",
        "\n",
        "print(conjunto1)\n",
        "print(type(conjunto1))\n",
        "\n",
        "# Apesar da notação do conteúdo entre chaves { }, como não existem\n",
        "# conjuntos de chaves : valores, o interpretador identifica tal tipo\n",
        "# de dado como set\n"
      ],
      "execution_count": null,
      "outputs": [
        {
          "output_type": "stream",
          "text": [
            "{10, 20, 5, 15}\n",
            "<class 'set'>\n"
          ],
          "name": "stdout"
        }
      ]
    },
    {
      "cell_type": "markdown",
      "metadata": {
        "id": "1kqprs5vW9tq"
      },
      "source": [
        "Operações entre conjuntos numéricos"
      ]
    },
    {
      "cell_type": "code",
      "metadata": {
        "id": "nq4q-87fmuGP",
        "colab": {
          "base_uri": "https://localhost:8080/"
        },
        "outputId": "a84b6b14-1374-4b01-e31f-dad818d95e79"
      },
      "source": [
        "cj1 = {1, 2, 3, 4, 5}\n",
        "cj2 = {1, 3, 5, 7, 9}\n",
        "\n",
        "print(cj2 - cj1)\n"
      ],
      "execution_count": null,
      "outputs": [
        {
          "output_type": "stream",
          "text": [
            "{9, 7}\n"
          ],
          "name": "stdout"
        }
      ]
    },
    {
      "cell_type": "markdown",
      "metadata": {
        "id": "3EA6V1QoW9tr"
      },
      "source": [
        "União de conjuntos numéricos"
      ]
    },
    {
      "cell_type": "code",
      "metadata": {
        "id": "rvT_2Zii1Vnt",
        "colab": {
          "base_uri": "https://localhost:8080/"
        },
        "outputId": "54fa7d01-3ff6-4132-8bc4-2557d43067a5"
      },
      "source": [
        "conjunto1 = {5, 10, 15, 20, 25}\n",
        "conjunto2 = {1, 2, 3, 4, 5}\n",
        "\n",
        "uniao = conjunto1.union(conjunto2)\n",
        "\n",
        "print(uniao)\n",
        "\n",
        "# Os dados que forem comum aos dois conjuntos não serão duplicados.\n"
      ],
      "execution_count": null,
      "outputs": [
        {
          "output_type": "stream",
          "text": [
            "{1, 2, 3, 4, 5, 10, 15, 20, 25}\n"
          ],
          "name": "stdout"
        }
      ]
    },
    {
      "cell_type": "code",
      "metadata": {
        "id": "NS2hJwbodS9w",
        "colab": {
          "base_uri": "https://localhost:8080/"
        },
        "outputId": "98ba4a81-f5dd-4143-9158-bfba9ef1c930"
      },
      "source": [
        "# Método alternativo usando do operador \" | \"\n",
        "\n",
        "conjunto1 = {5, 10, 15, 20, 25}\n",
        "conjunto2 = {1, 2, 3, 4, 5}\n",
        "\n",
        "uniao2 = conjunto1 | conjunto2\n",
        "\n",
        "print(uniao2)\n",
        "\n",
        "# O operador \" | \" significa ou em contextos gerais, mas quando usado para\n",
        "# conjuntos tem o mesmo comportamento do método union( )\n"
      ],
      "execution_count": null,
      "outputs": [
        {
          "output_type": "stream",
          "text": [
            "{1, 2, 3, 4, 5, 10, 15, 20, 25}\n"
          ],
          "name": "stdout"
        }
      ]
    },
    {
      "cell_type": "markdown",
      "metadata": {
        "id": "St6st28HW9ts"
      },
      "source": [
        "Interseção de dois conjuntos"
      ]
    },
    {
      "cell_type": "code",
      "metadata": {
        "id": "NjKM2FPv6imV",
        "colab": {
          "base_uri": "https://localhost:8080/"
        },
        "outputId": "f7d0a076-759f-469c-ad9a-2e2f3d5bc793"
      },
      "source": [
        "conjunto1 = {5, 10, 15, 20, 25}\n",
        "conjunto2 = {1, 2, 3, 4, 5}\n",
        "\n",
        "intersecao = conjunto1.intersection(conjunto2)\n",
        "# intersection( ) retornará apenas o elemento que for comum aos dois conjuntos\n",
        "\n",
        "print(intersecao)\n"
      ],
      "execution_count": null,
      "outputs": [
        {
          "output_type": "stream",
          "text": [
            "{5}\n"
          ],
          "name": "stdout"
        }
      ]
    },
    {
      "cell_type": "code",
      "metadata": {
        "id": "9uIm5BSidb8N",
        "colab": {
          "base_uri": "https://localhost:8080/"
        },
        "outputId": "14d66cc1-7ed4-4aa8-95d3-485db5adad1d"
      },
      "source": [
        "# Método alternativo usando do operador \" & \"\n",
        "\n",
        "conjunto1 = {5, 10, 15, 20, 25}\n",
        "conjunto2 = {1, 2, 3, 4, 5}\n",
        "\n",
        "intersecao2 = conjunto1 & conjunto2\n",
        "\n",
        "print(intersecao2)\n",
        "\n",
        "# O operador \" & \" quando aplicado a conjuntos numéricos tem o comportamento\n",
        "# semelhante ao método intersection( )\n"
      ],
      "execution_count": null,
      "outputs": [
        {
          "output_type": "stream",
          "text": [
            "{5}\n"
          ],
          "name": "stdout"
        }
      ]
    },
    {
      "cell_type": "markdown",
      "metadata": {
        "id": "tvYYGiGAd3mC"
      },
      "source": [
        "Diferença entre dois conjuntos"
      ]
    },
    {
      "cell_type": "code",
      "metadata": {
        "id": "aiK7PodCd6C5",
        "colab": {
          "base_uri": "https://localhost:8080/"
        },
        "outputId": "ff88f158-9ee2-4341-bb96-81165bc8195d"
      },
      "source": [
        "conjunto1 = {5, 10, 15, 20, 25}\n",
        "conjunto2 = {1, 2, 3, 4, 5}\n",
        "\n",
        "conjunto3 = conjunto1.intersection(conjunto2)\n",
        "# Variável conjunto3 recebendo como atributo o resultado da interseção\n",
        "# de conjunto2 para conjunto1\n",
        "\n",
        "print(conjunto3)\n"
      ],
      "execution_count": null,
      "outputs": [
        {
          "output_type": "stream",
          "text": [
            "{5}\n"
          ],
          "name": "stdout"
        }
      ]
    },
    {
      "cell_type": "code",
      "metadata": {
        "id": "DTibl0OS8bNF",
        "colab": {
          "base_uri": "https://localhost:8080/"
        },
        "outputId": "1b65ec2b-a0fc-43ab-c245-daafaca962ec"
      },
      "source": [
        "# Método alternativo usando do operador \" - \"\n",
        "\n",
        "c1 = {2, 4, 6, 8, 10} - {2, 4, 5, 7, 9}\n",
        "# Retornará os elementos que pertencem ao primeiro conjunto que não constam\n",
        "# nem independentes nem duplicados quando comparado ao segundo conjunto.\n",
        "# Nesse caso, 2 e 4 se anulam pois constam em ambos conjuntos, 6, 8 e 10 são\n",
        "# retornados pois são únicos e pertencentes ao primeiro conjunto.\n",
        "\n",
        "print(c1)\n"
      ],
      "execution_count": null,
      "outputs": [
        {
          "output_type": "stream",
          "text": [
            "{8, 10, 6}\n"
          ],
          "name": "stdout"
        }
      ]
    },
    {
      "cell_type": "markdown",
      "metadata": {
        "id": "3WFgxBf7W9tu"
      },
      "source": [
        "Diferença entre conjuntos associados à variáveis"
      ]
    },
    {
      "cell_type": "code",
      "metadata": {
        "id": "CAhDVcXw8tOT",
        "colab": {
          "base_uri": "https://localhost:8080/"
        },
        "outputId": "541b8c37-5648-4172-e4f3-9b0134e503ba"
      },
      "source": [
        "c1 = {1, 2, 3, 4, 5, 6, 7, 8, 9}\n",
        "c2 = {1, 3, 5, 7, 9}\n",
        "\n",
        "c3 = c1 - c2\n",
        "# Da mesma forma como no tópico anterior, o primeiro conjunto, no caso\n",
        "# c1 será usado como referência, realizando as devidas diferenciações\n",
        "# comparando seus elementos com o conjunto c2.\n",
        "\n",
        "print(c3)\n"
      ],
      "execution_count": null,
      "outputs": [
        {
          "output_type": "stream",
          "text": [
            "{8, 2, 4, 6}\n"
          ],
          "name": "stdout"
        }
      ]
    },
    {
      "cell_type": "markdown",
      "metadata": {
        "id": "dT0n5xJUW9ts"
      },
      "source": [
        "Operadores lógicos em conjuntos numéricos"
      ]
    },
    {
      "cell_type": "code",
      "metadata": {
        "id": "BXF-W1LM7Y5t",
        "colab": {
          "base_uri": "https://localhost:8080/"
        },
        "outputId": "3124ae40-cb96-40bb-e7c0-3af6dec55ff3"
      },
      "source": [
        "conjunto1 = {5, 10, 15, 20, 25}\n",
        "conjunto2 = {1, 2, 3, 4, 5}\n",
        "\n",
        "uniao = conjunto1.union(conjunto2)\n",
        "\n",
        "print(uniao == conjunto1)\n",
        "print(uniao >= conjunto2)\n"
      ],
      "execution_count": null,
      "outputs": [
        {
          "output_type": "stream",
          "text": [
            "False\n",
            "True\n"
          ],
          "name": "stdout"
        }
      ]
    },
    {
      "cell_type": "code",
      "metadata": {
        "id": "3x7DQVmRASAb",
        "colab": {
          "base_uri": "https://localhost:8080/"
        },
        "outputId": "96d4cfb4-1455-44af-e054-5b1ac5df7641"
      },
      "source": [
        "conjunto1 = {5, 10, 15, 20, 25}\n",
        "conjunto2 = {1, 2, 3, 4, 5}\n",
        "\n",
        "uniao = conjunto1.union(conjunto2)\n",
        "\n",
        "print(uniao == conjunto1)\n",
        "# O conteúdo de uniao é igual ao de conjunto1?\n",
        "\n",
        "print(uniao >= conjunto2)\n",
        "# O conteúdo de uniao é maior ou igual se comparado com o conteúdo de conjunto2?\n"
      ],
      "execution_count": null,
      "outputs": [
        {
          "output_type": "stream",
          "text": [
            "False\n",
            "True\n"
          ],
          "name": "stdout"
        }
      ]
    },
    {
      "cell_type": "markdown",
      "metadata": {
        "id": "BkIBEH_Bcq7O"
      },
      "source": [
        "Reiniciando um conjunto"
      ]
    },
    {
      "cell_type": "code",
      "metadata": {
        "id": "0aSMWiy_ctpQ",
        "colab": {
          "base_uri": "https://localhost:8080/"
        },
        "outputId": "aa3c7010-bc28-429e-daa4-0e5f4694e175"
      },
      "source": [
        "conjunto1 = {1, 2, 3, 4, 5, 6, 7, 8, 9}\n",
        "\n",
        "print(conjunto1)\n",
        "\n",
        "conjunto1.clear()\n",
        "# clear( ) apagará todos os elementos do conjunto\n",
        "\n",
        "print(conjunto1)\n"
      ],
      "execution_count": null,
      "outputs": [
        {
          "output_type": "stream",
          "text": [
            "{1, 2, 3, 4, 5, 6, 7, 8, 9}\n",
            "set()\n"
          ],
          "name": "stdout"
        }
      ]
    },
    {
      "cell_type": "markdown",
      "metadata": {
        "id": "AAE-oetresIo"
      },
      "source": [
        "Validação aplicadas a elementos de dois conjuntos"
      ]
    },
    {
      "cell_type": "code",
      "metadata": {
        "id": "t2VxlMUaew53",
        "colab": {
          "base_uri": "https://localhost:8080/"
        },
        "outputId": "42c1132a-4343-48d7-a23f-8cb0682309ba"
      },
      "source": [
        "conjunto1 = {5, 10, 15, 20, 25}\n",
        "conjunto2 = {1, 2, 3, 4, 5}\n",
        "\n",
        "print(conjunto1.issubset(conjunto2))\n",
        "# retornará True caso os elementos de conjunto1 estiverem contidos em conjunto2\n",
        "\n",
        "print(conjunto1.issuperset(conjunto2))\n",
        "# retornará True caso os elementos de conjunto2 estiverem contidos em conjunto1\n",
        "\n",
        "print(conjunto1.isdisjoint(conjunto2))\n",
        "# retornará True caso conjunto1 e conjunto 2 não tiverem elementos em comum\n"
      ],
      "execution_count": null,
      "outputs": [
        {
          "output_type": "stream",
          "text": [
            "False\n",
            "False\n",
            "False\n"
          ],
          "name": "stdout"
        }
      ]
    },
    {
      "cell_type": "markdown",
      "metadata": {
        "id": "UEkV7BTV8ojq"
      },
      "source": [
        "## Pilhas"
      ]
    },
    {
      "cell_type": "markdown",
      "metadata": {
        "id": "bdaQqXqbCkK5"
      },
      "source": [
        "Adicionando elementos a uma pilha"
      ]
    },
    {
      "cell_type": "code",
      "metadata": {
        "id": "OcvzXf9dCmPU",
        "colab": {
          "base_uri": "https://localhost:8080/"
        },
        "outputId": "685816dd-e3be-41e7-c6fb-b3d97226692e"
      },
      "source": [
        "sequencia = [11, 22, 33, 444]\n",
        "\n",
        "pilha = []\n",
        "\n",
        "for elemento in sequencia:\n",
        "    pilha.append(elemento)\n",
        "\n",
        "print(pilha)\n",
        "\n",
        "pilha.append(555)\n",
        "# Acrescenta como último elemento da pilha o valor 555\n",
        "\n",
        "print(pilha)\n",
        "\n",
        "pilha.append(1000)\n",
        "pilha.append(2000)\n",
        "\n",
        "print(pilha)\n",
        "\n",
        "# Todos novos elementos sempre serão adicionados como último elemento da pilha\n"
      ],
      "execution_count": null,
      "outputs": [
        {
          "output_type": "stream",
          "text": [
            "[11, 22, 33, 444]\n",
            "[11, 22, 33, 444, 555]\n",
            "[11, 22, 33, 444, 555, 1000, 2000]\n"
          ],
          "name": "stdout"
        }
      ]
    },
    {
      "cell_type": "markdown",
      "metadata": {
        "id": "92JKZ1esDCsy"
      },
      "source": [
        "Removendo elementos de uma pilha"
      ]
    },
    {
      "cell_type": "code",
      "metadata": {
        "id": "uFUfN7fqDcio",
        "colab": {
          "base_uri": "https://localhost:8080/"
        },
        "outputId": "52dd6b63-fdfb-4c2c-a818-f981c61e9ac0"
      },
      "source": [
        "sequencia = [11, 22, 33, 444, 555]\n",
        "\n",
        "pilha = []\n",
        "\n",
        "for elemento in sequencia:\n",
        "    pilha.append(elemento)\n",
        "\n",
        "print(pilha)\n",
        "\n",
        "pilha.pop()\n",
        "# Mesmo sem parâmetros, removerá o último elemento da pilha\n",
        "\n",
        "print(pilha)\n"
      ],
      "execution_count": null,
      "outputs": [
        {
          "output_type": "stream",
          "text": [
            "[11, 22, 33, 444, 555]\n",
            "[11, 22, 33, 444]\n"
          ],
          "name": "stdout"
        }
      ]
    },
    {
      "cell_type": "code",
      "metadata": {
        "id": "MQSYJeq48sQc",
        "colab": {
          "base_uri": "https://localhost:8080/"
        },
        "outputId": "08092116-30f7-4369-da7c-8daa0d34ab5e"
      },
      "source": [
        "# Automatizando o processo de remoção de elementos da pilha\n",
        "\n",
        "sequencia = [11, 22, 33, 444, 555]\n",
        "\n",
        "pilha = []\n",
        "\n",
        "for elemento in sequencia:\n",
        "    pilha.append(elemento)\n",
        "\n",
        "while len(pilha) > 0:\n",
        "    print(pilha)\n",
        "\n",
        "    topo = pilha.pop()\n",
        "\n",
        "    print(f'Objeto do topo da pilha: {topo}')\n",
        "\n",
        "# Uma pilha segue a lógica de objetos empilhados, onde o último a ser\n",
        "# inserido será o primeiro a ser removido quando necessário.\n"
      ],
      "execution_count": null,
      "outputs": [
        {
          "output_type": "stream",
          "text": [
            "[11, 22, 33, 444, 555]\n",
            "Objeto do topo da pilha: 555\n",
            "[11, 22, 33, 444]\n",
            "Objeto do topo da pilha: 444\n",
            "[11, 22, 33]\n",
            "Objeto do topo da pilha: 33\n",
            "[11, 22]\n",
            "Objeto do topo da pilha: 22\n",
            "[11]\n",
            "Objeto do topo da pilha: 11\n"
          ],
          "name": "stdout"
        }
      ]
    },
    {
      "cell_type": "code",
      "metadata": {
        "id": "BrTmGJpuBHbj",
        "colab": {
          "base_uri": "https://localhost:8080/"
        },
        "outputId": "51f7e637-265b-4d3a-8974-a53967d9dc19"
      },
      "source": [
        "sequencia = [11, 22, 33, 444, 555]\n",
        "\n",
        "pilha = []\n",
        "\n",
        "for elemento in sequencia:\n",
        "    # A cada ciclo a variável elemento lê e retorna o dado/valor contido em\n",
        "    # sequência\n",
        "    pilha.append(elemento)\n",
        "    # A cada laço, o último valor atribuído para elemento é inserido na lista\n",
        "    # atribuída a variável pilha\n",
        "\n",
        "while len(pilha) > 0:\n",
        "    # Enquanto o tamanho de pilha for maior que zero\n",
        "    print(pilha)\n",
        "\n",
        "    topo = pilha.pop()\n",
        "    # pop( ) elimina o último elemento inserido na pilha\n",
        "\n",
        "    print(f'Objeto do topo da pilha: {topo}')\n"
      ],
      "execution_count": null,
      "outputs": [
        {
          "output_type": "stream",
          "text": [
            "[11, 22, 33, 444, 555]\n",
            "Objeto do topo da pilha: 555\n",
            "[11, 22, 33, 444]\n",
            "Objeto do topo da pilha: 444\n",
            "[11, 22, 33]\n",
            "Objeto do topo da pilha: 33\n",
            "[11, 22]\n",
            "Objeto do topo da pilha: 22\n",
            "[11]\n",
            "Objeto do topo da pilha: 11\n"
          ],
          "name": "stdout"
        }
      ]
    },
    {
      "cell_type": "markdown",
      "metadata": {
        "id": "9oZOyemkFKIr"
      },
      "source": [
        "## Interpolação"
      ]
    },
    {
      "cell_type": "markdown",
      "metadata": {
        "id": "T6j_090JW9tv"
      },
      "source": [
        "Uso de máscaras de substituição"
      ]
    },
    {
      "cell_type": "code",
      "metadata": {
        "id": "mEW_s8xBFM0d",
        "colab": {
          "base_uri": "https://localhost:8080/"
        },
        "outputId": "c70ddfdc-d067-4467-9d75-8cd73fcf0a5d"
      },
      "source": [
        "nome = 'Maria'\n",
        "exp = 33\n",
        "\n",
        "print(f'Olá {nome}, queremos te parabenizar por seus {exp} anos em nossa empresa.')\n",
        "\n",
        "# Máscaras de substituição serão espaços alocados na própria string para\n",
        "# instanciar neste espaço o conteúdo de algum objeto qualquer\n"
      ],
      "execution_count": null,
      "outputs": [
        {
          "output_type": "stream",
          "text": [
            "Olá Maria, queremos te parabenizar por seus 33 anos em nossa empresa.\n"
          ],
          "name": "stdout"
        }
      ]
    },
    {
      "cell_type": "markdown",
      "metadata": {
        "id": "solRjNdiW9tw"
      },
      "source": [
        "Operações dentro de máscaras de substituição"
      ]
    },
    {
      "cell_type": "code",
      "metadata": {
        "id": "fykcdYtR9zh0",
        "colab": {
          "base_uri": "https://localhost:8080/"
        },
        "outputId": "43cc0f50-db37-4dfd-b1bf-9122fbaa983e"
      },
      "source": [
        "nome = 'Maria'\n",
        "idade = 30\n",
        "\n",
        "print(f'{nome} tem 3 vezes minha idade, ela tem {3 * idade} anos!!!')\n",
        "\n",
        "# Dentro de uma máscara de substituição é possivel realizar qualquer tipo\n",
        "# de operação lógica ou aritmética, além de funções \n"
      ],
      "execution_count": null,
      "outputs": [
        {
          "output_type": "stream",
          "text": [
            "Maria tem 3 vezes minha idade, ela tem 90 anos!!!\n"
          ],
          "name": "stdout"
        }
      ]
    },
    {
      "cell_type": "markdown",
      "metadata": {
        "id": "J6pTx-TE-uEM"
      },
      "source": [
        "## Dicionários"
      ]
    },
    {
      "cell_type": "markdown",
      "metadata": {
        "id": "iOtGaL_yW9tx"
      },
      "source": [
        "Sintaxe básica"
      ]
    },
    {
      "cell_type": "code",
      "metadata": {
        "id": "3Sk24lK7Qg4p",
        "colab": {
          "base_uri": "https://localhost:8080/"
        },
        "outputId": "bbcebf9d-8ff2-4c21-f3f1-c29a67ff1486"
      },
      "source": [
        "dicionario = {'chave': 'valor'}\n",
        "\n",
        "print(dicionario)\n",
        "\n",
        "# Obrigatoriamente um dicionário deve ter conjuntos de dados dispostos\n",
        "# em forma de chave e valor.\n"
      ],
      "execution_count": null,
      "outputs": [
        {
          "output_type": "stream",
          "text": [
            "{'chave': 'valor'}\n"
          ],
          "name": "stdout"
        }
      ]
    },
    {
      "cell_type": "markdown",
      "metadata": {
        "id": "EmVTa4qhW9ty"
      },
      "source": [
        "Adicionando novos itens ao dicionário"
      ]
    },
    {
      "cell_type": "code",
      "metadata": {
        "id": "uRkMLS0K_Mej",
        "colab": {
          "base_uri": "https://localhost:8080/"
        },
        "outputId": "5800933e-9a33-4014-d401-e37f0d25424b"
      },
      "source": [
        "dicionario1 = {'Nome1':'Paulo'}\n",
        "\n",
        "print(dicionario1)\n",
        "\n",
        "dicionario1['Nome2'] = 'Veronica'\n",
        "# Gera a chave 'Nome2' repassando como valor para a mesma 'Veronica'\n",
        "\n",
        "print(dicionario1)\n"
      ],
      "execution_count": null,
      "outputs": [
        {
          "output_type": "stream",
          "text": [
            "{'Nome1': 'Paulo'}\n",
            "{'Nome1': 'Paulo', 'Nome2': 'Veronica'}\n"
          ],
          "name": "stdout"
        }
      ]
    },
    {
      "cell_type": "markdown",
      "metadata": {
        "id": "wzXCsBmTW9ty"
      },
      "source": [
        "Alterando o valor de uma chave do dicionário"
      ]
    },
    {
      "cell_type": "code",
      "metadata": {
        "id": "YvmGh0N9IZ7c",
        "colab": {
          "base_uri": "https://localhost:8080/"
        },
        "outputId": "24788655-2a92-4219-bcdc-340ba40b2383"
      },
      "source": [
        "dicionario1 = {'Nome1': 'Ana',\n",
        "               'Nome2': 'Carla',\n",
        "               'Nome3': 'Maria'}\n",
        "               \n",
        "print(dicionario1)\n",
        "\n",
        "dicionario1['Nome2'] = 'Bárbara'\n",
        "\n",
        "print(dicionario1)\n",
        "\n",
        "# Para alterar/atualizar um valor de um item do dicionário, se deve\n",
        "# fazer referência à sua chave, para alterar seu valor.\n"
      ],
      "execution_count": null,
      "outputs": [
        {
          "output_type": "stream",
          "text": [
            "{'Nome1': 'Ana', 'Nome2': 'Carla', 'Nome3': 'Maria'}\n",
            "{'Nome1': 'Ana', 'Nome2': 'Bárbara', 'Nome3': 'Maria'}\n"
          ],
          "name": "stdout"
        }
      ]
    },
    {
      "cell_type": "markdown",
      "metadata": {
        "id": "YMFby3SdW9tz"
      },
      "source": [
        "Acessando um determinado elemento do dicionário"
      ]
    },
    {
      "cell_type": "code",
      "metadata": {
        "id": "vpNrovLq_1aY",
        "colab": {
          "base_uri": "https://localhost:8080/"
        },
        "outputId": "d8e49f4f-f2fb-455e-c786-59c3c2e0d70f"
      },
      "source": [
        "dicionario1 = {'Nome':'Fernando',\n",
        "               'Idade':32,\n",
        "               'Sexo':'Masculino',\n",
        "               'Nacionalidade':'Brasileiro'}\n",
        "\n",
        "print(dicionario1['Nome'])\n",
        "print(dicionario1['Nacionalidade'])\n",
        "\n",
        "# Ao consultar a chave, será retornado o valor\n"
      ],
      "execution_count": null,
      "outputs": [
        {
          "output_type": "stream",
          "text": [
            "Fernando\n",
            "Brasileiro\n"
          ],
          "name": "stdout"
        }
      ]
    },
    {
      "cell_type": "markdown",
      "metadata": {
        "id": "44Esg3CdW9t1"
      },
      "source": [
        "Usando o construtor de dicionários do Python"
      ]
    },
    {
      "cell_type": "code",
      "metadata": {
        "id": "r7c-ex_PFiIt",
        "colab": {
          "base_uri": "https://localhost:8080/"
        },
        "outputId": "f427b442-fd50-4fe0-b6bb-4fb1f9e811ee"
      },
      "source": [
        "dicionario2 = dict(chave1 = 'valor da chave1',\n",
        "                   chave2 = 'valor da chave 2')\n",
        "\n",
        "print(dicionario2)\n",
        "print(type(dicionario2))\n",
        "\n",
        "# Lembrando que ao inserir itens no dicionário, devemos sempre\n",
        "# os inserir e conjuntos de chave : valor\n"
      ],
      "execution_count": null,
      "outputs": [
        {
          "output_type": "stream",
          "text": [
            "{'chave1': 'valor da chave1', 'chave2': 'valor da chave 2'}\n",
            "<class 'dict'>\n"
          ],
          "name": "stdout"
        }
      ]
    },
    {
      "cell_type": "markdown",
      "metadata": {
        "id": "r9KGExXGW9t2"
      },
      "source": [
        "Transformando listas em chaves / valores de um dicionário"
      ]
    },
    {
      "cell_type": "code",
      "metadata": {
        "id": "v1fGOMuwnV9m",
        "colab": {
          "base_uri": "https://localhost:8080/"
        },
        "outputId": "f650b77e-329e-4345-cfd2-b0dc4c141589"
      },
      "source": [
        "itens = ['Caneta', 'Lápis', 'Borracha', 'Caderno']\n",
        "precos = ['1,99', '0,99', '0,50', '9,90']\n",
        "\n",
        "dicionario1 = dict(keys = itens, values = precos)\n",
        "\n",
        "print(dicionario1)\n",
        "print(type(dicionario1))\n",
        "\n",
        "# Por meio do construtor de dicionários, usando de seus parâmetros\n",
        "# nomeados keys e values é possível atribuir chaves e valores a partir\n",
        "# de uma variável, normalmente de uma lista \n"
      ],
      "execution_count": null,
      "outputs": [
        {
          "output_type": "stream",
          "text": [
            "{'keys': ['Caneta', 'Lápis', 'Borracha', 'Caderno'], 'values': ['1,99', '0,99', '0,50', '9,90']}\n",
            "<class 'dict'>\n"
          ],
          "name": "stdout"
        }
      ]
    },
    {
      "cell_type": "markdown",
      "metadata": {
        "id": "pnpJylHvW9t3"
      },
      "source": [
        "Consultando apenas as chaves de um dicionário"
      ]
    },
    {
      "cell_type": "code",
      "metadata": {
        "id": "xVo3fmeALndl",
        "colab": {
          "base_uri": "https://localhost:8080/"
        },
        "outputId": "f90b86c8-560f-4f78-84c0-f6361cf10c60"
      },
      "source": [
        "dicionario2 = dict(chave1 = 'valor da chave1',\n",
        "                   chave2 = 'valor da chave 2')\n",
        "\n",
        "dicionario2.keys()\n"
      ],
      "execution_count": null,
      "outputs": [
        {
          "output_type": "execute_result",
          "data": {
            "text/plain": [
              "dict_keys(['chave1', 'chave2'])"
            ]
          },
          "metadata": {
            "tags": []
          },
          "execution_count": 204
        }
      ]
    },
    {
      "cell_type": "markdown",
      "metadata": {
        "id": "fIdOAkNrW9t4"
      },
      "source": [
        "Consultando apenas os valores de um dicionário"
      ]
    },
    {
      "cell_type": "code",
      "metadata": {
        "id": "4rXJDrd0QG4x",
        "colab": {
          "base_uri": "https://localhost:8080/"
        },
        "outputId": "7b5e7089-6fe5-420b-eab0-bb9df95cbae1"
      },
      "source": [
        "dicionario2 = dict(chave1 = 'valor da chave1',\n",
        "                   chave2 = 'valor da chave 2')\n",
        "\n",
        "dicionario2.values()\n"
      ],
      "execution_count": null,
      "outputs": [
        {
          "output_type": "execute_result",
          "data": {
            "text/plain": [
              "dict_values(['valor da chave1', 'valor da chave 2'])"
            ]
          },
          "metadata": {
            "tags": []
          },
          "execution_count": 205
        }
      ]
    },
    {
      "cell_type": "markdown",
      "metadata": {
        "id": "rJyVhum6W9t5"
      },
      "source": [
        "Verificando se uma chave / valor consta no dicionário"
      ]
    },
    {
      "cell_type": "code",
      "metadata": {
        "id": "pBmRc8rNGLRc",
        "colab": {
          "base_uri": "https://localhost:8080/"
        },
        "outputId": "e6927a99-3e87-4c91-94c6-ec748c9f8c53"
      },
      "source": [
        "# Pesquisando pela chave, obtendo valor\n",
        "\n",
        "d3 = {'1':'Ana',\n",
        "      '2':'Maria',\n",
        "      '3':'Paulo',\n",
        "      '4':'Marcos'}\n",
        "\n",
        "print(d3.get('5'))\n",
        "\n",
        "print(d3.get('3'))\n",
        "# Mesmo que: print('3' in d3)\n",
        "\n",
        "# Pelo método get( ), caso o usuário tente consultar um item que não\n",
        "# pertence ao dicionário, no lugar de gerar um erro é simplesmente\n",
        "# retornado None indicando que naquela posição de índice não existe\n",
        "# nenhum item.\n"
      ],
      "execution_count": null,
      "outputs": [
        {
          "output_type": "stream",
          "text": [
            "None\n",
            "Paulo\n"
          ],
          "name": "stdout"
        }
      ]
    },
    {
      "cell_type": "markdown",
      "metadata": {
        "id": "TWuG49i2W9t6"
      },
      "source": [
        "Pesquisando se um dado/valor consta em uma chave"
      ]
    },
    {
      "cell_type": "code",
      "metadata": {
        "id": "3Y-YIX3WW9t6",
        "colab": {
          "base_uri": "https://localhost:8080/"
        },
        "outputId": "699de505-ce8a-439c-d04b-e1e8b1546792"
      },
      "source": [
        "d3 = {'1':'Ana',\n",
        "      '2':'Maria',\n",
        "      '3':'Paulo',\n",
        "      '4':'Marcos'}\n",
        "\n",
        "print('2' in d3.keys())\n",
        "\n",
        "# Lembrando que in é um operador lógico, logo, o retorno será\n",
        "# True ou False dependendo da situação\n"
      ],
      "execution_count": null,
      "outputs": [
        {
          "output_type": "stream",
          "text": [
            "True\n"
          ],
          "name": "stdout"
        }
      ]
    },
    {
      "cell_type": "markdown",
      "metadata": {
        "id": "M8jbiRhiW9t7"
      },
      "source": [
        ". "
      ]
    },
    {
      "cell_type": "markdown",
      "metadata": {
        "id": "f2lzkNjbW9t7"
      },
      "source": [
        "Pesquisando se o dado/valor consta em um valor"
      ]
    },
    {
      "cell_type": "code",
      "metadata": {
        "id": "OKUtlSB1W9t8",
        "colab": {
          "base_uri": "https://localhost:8080/"
        },
        "outputId": "fd45b716-d63a-42da-c931-62b5cc1fb194"
      },
      "source": [
        "d3 = {'1':'Ana',\n",
        "      '2':'Maria',\n",
        "      '3':'Paulo',\n",
        "      '4':'Marcos'}\n",
        "\n",
        "print('Ana' in d3.values())\n"
      ],
      "execution_count": null,
      "outputs": [
        {
          "output_type": "stream",
          "text": [
            "True\n"
          ],
          "name": "stdout"
        }
      ]
    },
    {
      "cell_type": "markdown",
      "metadata": {
        "id": "e0mjfaTJW9t8"
      },
      "source": [
        ". "
      ]
    },
    {
      "cell_type": "markdown",
      "metadata": {
        "id": "Mo6ROaQfW9t8"
      },
      "source": [
        "Pesquisando se o dado/valor de um valor do dicionário é o dado/valor que se espera ser"
      ]
    },
    {
      "cell_type": "code",
      "metadata": {
        "id": "ll28D1DBW9t9",
        "colab": {
          "base_uri": "https://localhost:8080/"
        },
        "outputId": "d12519b0-9e58-4a53-f2dc-e402844517ad"
      },
      "source": [
        "d3 = {'1':'Ana',\n",
        "      '2':'Maria',\n",
        "      '3':'Paulo',\n",
        "      '4':'Marcos'}\n",
        "\n",
        "print(d3['2'] == 'Maria')\n",
        "# No dicionário d3, o valor da chave '2' é igual a 'Maria'?\n"
      ],
      "execution_count": null,
      "outputs": [
        {
          "output_type": "stream",
          "text": [
            "True\n"
          ],
          "name": "stdout"
        }
      ]
    },
    {
      "cell_type": "markdown",
      "metadata": {
        "id": "nMVGz59PW9t-"
      },
      "source": [
        ". "
      ]
    },
    {
      "cell_type": "markdown",
      "metadata": {
        "id": "b37w7q3-W9t-"
      },
      "source": [
        "Atualizando um elemento do dicionário"
      ]
    },
    {
      "cell_type": "code",
      "metadata": {
        "id": "rkgxs7AMPHkT",
        "colab": {
          "base_uri": "https://localhost:8080/"
        },
        "outputId": "10a6e8fc-1155-41d4-e942-89f71f58ae6b"
      },
      "source": [
        "d4 = {'1':'A',\n",
        "      '2':'B',\n",
        "      '3':'C',\n",
        "      '4':'D'}\n",
        "\n",
        "print(d4)\n",
        "\n",
        "d4.update({'2':'F'})\n",
        "# Mesmo que: d4['2'] = 'F'\n",
        "\n",
        "print(d4)\n",
        "\n",
        "# update( ) é simplesmente uma forma alternativa de atualizar itens\n"
      ],
      "execution_count": null,
      "outputs": [
        {
          "output_type": "stream",
          "text": [
            "{'1': 'A', '2': 'B', '3': 'C', '4': 'D'}\n",
            "{'1': 'A', '2': 'F', '3': 'C', '4': 'D'}\n"
          ],
          "name": "stdout"
        }
      ]
    },
    {
      "cell_type": "markdown",
      "metadata": {
        "id": "UfS_Vr9mW9t-"
      },
      "source": [
        ". "
      ]
    },
    {
      "cell_type": "markdown",
      "metadata": {
        "id": "sUJxfGolW9t_"
      },
      "source": [
        "Removendo um elemento do dicionário"
      ]
    },
    {
      "cell_type": "code",
      "metadata": {
        "id": "MBh47MAdPtNo",
        "colab": {
          "base_uri": "https://localhost:8080/"
        },
        "outputId": "ab29942d-21f9-4af3-e87b-b5730aca4d82"
      },
      "source": [
        "d4 = {'1':'A',\n",
        "      '2':'B',\n",
        "      '3':'C',\n",
        "      '4':'D'}\n",
        "\n",
        "print(d4)\n",
        "\n",
        "del d4['4']\n",
        "\n",
        "print(d4)\n",
        "\n",
        "# del é uma palavra reservada ao sistema, de uma função interna que\n",
        "# serve para deletar dados de objetos alocados em memória.\n",
        "# Ao instanciar uma chave, é deletado também seu respectivo valor.\n"
      ],
      "execution_count": null,
      "outputs": [
        {
          "output_type": "stream",
          "text": [
            "{'1': 'A', '2': 'B', '3': 'C', '4': 'D'}\n",
            "{'1': 'A', '2': 'B', '3': 'C'}\n"
          ],
          "name": "stdout"
        }
      ]
    },
    {
      "cell_type": "markdown",
      "metadata": {
        "id": "TJVnxbAwW9t_"
      },
      "source": [
        ". "
      ]
    },
    {
      "cell_type": "markdown",
      "metadata": {
        "id": "n19MVvIOW9t_"
      },
      "source": [
        "Pesquisando o tamanho de um dicionário / de quantos itens ele é composto"
      ]
    },
    {
      "cell_type": "code",
      "metadata": {
        "id": "JrvoW4waQ95x",
        "colab": {
          "base_uri": "https://localhost:8080/"
        },
        "outputId": "2961054b-8eef-4f96-8755-8c2a5bd842e6"
      },
      "source": [
        "d4 = {'1':'A',\n",
        "      '2':'B',\n",
        "      '3':'C',\n",
        "      '4':'D',\n",
        "      '5':'E',\n",
        "      '6':'F'}\n",
        "\n",
        "print(len(d4))\n",
        "\n",
        "# Retornará o número de conjuntos de chaves:valores\n"
      ],
      "execution_count": null,
      "outputs": [
        {
          "output_type": "stream",
          "text": [
            "6\n"
          ],
          "name": "stdout"
        }
      ]
    },
    {
      "cell_type": "markdown",
      "metadata": {
        "id": "0iI1fPJqW9uA"
      },
      "source": [
        ". "
      ]
    },
    {
      "cell_type": "markdown",
      "metadata": {
        "id": "E5T7tYKiW9uA"
      },
      "source": [
        "Exibindo em tela só chaves e só valores de um dicionário"
      ]
    },
    {
      "cell_type": "code",
      "metadata": {
        "id": "UzZRad2QShKu",
        "colab": {
          "base_uri": "https://localhost:8080/"
        },
        "outputId": "d72eb19c-1c97-4d64-e5cb-4dbd73a3d8ed"
      },
      "source": [
        "d4 = {'1':'A',\n",
        "      '2':'B',\n",
        "      '3':'C',\n",
        "      '4':'D',\n",
        "      '5':'E',\n",
        "      '6':'F'}\n",
        "\n",
        "print(d4.keys())\n",
        "# Somente chaves\n",
        "\n",
        "print(d4.values())\n",
        "# Somente valores\n"
      ],
      "execution_count": null,
      "outputs": [
        {
          "output_type": "stream",
          "text": [
            "dict_keys(['1', '2', '3', '4', '5', '6'])\n",
            "dict_values(['A', 'B', 'C', 'D', 'E', 'F'])\n"
          ],
          "name": "stdout"
        }
      ]
    },
    {
      "cell_type": "markdown",
      "metadata": {
        "id": "yBgdrjrnW9uA"
      },
      "source": [
        ". "
      ]
    },
    {
      "cell_type": "markdown",
      "metadata": {
        "id": "30BSX1y8W9uA"
      },
      "source": [
        "Lendo as chaves ou valores de um dicionário por meio do laço for"
      ]
    },
    {
      "cell_type": "code",
      "metadata": {
        "id": "io6M_mTkaEJr",
        "colab": {
          "base_uri": "https://localhost:8080/"
        },
        "outputId": "bb26bb62-3617-4103-ecdb-4f5815149c25"
      },
      "source": [
        "d4 = {'1':'A',\n",
        "      '2':'B',\n",
        "      '3':'C'}\n",
        "\n",
        "for i in d4.keys():\n",
        "  # somente as chaves\n",
        "  print('Chaves:', i)\n",
        "  \n",
        "for j in d4.values():\n",
        "  # somente os valores\n",
        "  print('Valores:', j)\n",
        "  \n",
        "for l in d4.items():\n",
        "  # chaves e valores\n",
        "  print('Chaves : Valores =', l)\n",
        "  "
      ],
      "execution_count": null,
      "outputs": [
        {
          "output_type": "stream",
          "text": [
            "Chaves: 1\n",
            "Chaves: 2\n",
            "Chaves: 3\n",
            "Valores: A\n",
            "Valores: B\n",
            "Valores: C\n",
            "Chaves : Valores = ('1', 'A')\n",
            "Chaves : Valores = ('2', 'B')\n",
            "Chaves : Valores = ('3', 'C')\n"
          ],
          "name": "stdout"
        }
      ]
    },
    {
      "cell_type": "markdown",
      "metadata": {
        "id": "4croZ8j8WEEm"
      },
      "source": [
        "."
      ]
    },
    {
      "cell_type": "code",
      "metadata": {
        "id": "UzB9kodnVz9m",
        "colab": {
          "base_uri": "https://localhost:8080/"
        },
        "outputId": "b0f0e94d-7c2c-4f3b-fac0-7592e8bc629b"
      },
      "source": [
        "# Itens desempacotados\n",
        "\n",
        "d4 = {'1':'A',\n",
        "      '2':'B',\n",
        "      '3':'C'}\n",
        "\n",
        "for m in d4.items():\n",
        "  print('Chaves:',m[0],' - ','Valores:',m[1])\n",
        "  "
      ],
      "execution_count": null,
      "outputs": [
        {
          "output_type": "stream",
          "text": [
            "Chaves: 1  -  Valores: A\n",
            "Chaves: 2  -  Valores: B\n",
            "Chaves: 3  -  Valores: C\n"
          ],
          "name": "stdout"
        }
      ]
    },
    {
      "cell_type": "markdown",
      "metadata": {
        "id": "b11BUzTBWE1A"
      },
      "source": [
        "."
      ]
    },
    {
      "cell_type": "code",
      "metadata": {
        "id": "fh8w4rwVV30k",
        "colab": {
          "base_uri": "https://localhost:8080/"
        },
        "outputId": "0e0bb893-ec2b-43b1-f925-afbb3fa8b59e"
      },
      "source": [
        "# Itens desempacotados e separados\n",
        "\n",
        "d4 = {'1':'A',\n",
        "      '2':'B',\n",
        "      '3':'C'}\n",
        "\n",
        "for n, o in d4.items():\n",
        "  # 2 variáveis temporárias n e o, referente às chaves e valores, respectivamente\n",
        "  print(f'Chaves: {n}, Valores: {o}')\n",
        "  "
      ],
      "execution_count": null,
      "outputs": [
        {
          "output_type": "stream",
          "text": [
            "Chaves: 1, Valores: A\n",
            "Chaves: 2, Valores: B\n",
            "Chaves: 3, Valores: C\n"
          ],
          "name": "stdout"
        }
      ]
    },
    {
      "cell_type": "markdown",
      "metadata": {
        "id": "q5HrxtHtW9uB"
      },
      "source": [
        ". "
      ]
    },
    {
      "cell_type": "markdown",
      "metadata": {
        "id": "1o4Ux-kAW9uB"
      },
      "source": [
        "Listas como valores de uma chave do dicionário"
      ]
    },
    {
      "cell_type": "code",
      "metadata": {
        "id": "Fcz9LOkc05zq",
        "colab": {
          "base_uri": "https://localhost:8080/"
        },
        "outputId": "b7cce366-a65f-42bb-fde6-0564bdc9a97a"
      },
      "source": [
        "dict = {'almox':['Folha de Oficio', 'Caneta', 'Grampeador'],\n",
        "        'cozinha':['Café', 'Açúcar']}\n",
        "\n",
        "print(dict['almox'][0])\n",
        "\n",
        "print(dict['cozinha'][1])\n"
      ],
      "execution_count": null,
      "outputs": [
        {
          "output_type": "stream",
          "text": [
            "Folha de Oficio\n",
            "Açúcar\n"
          ],
          "name": "stdout"
        }
      ]
    },
    {
      "cell_type": "code",
      "metadata": {
        "id": "stheLPyhWNNH",
        "colab": {
          "base_uri": "https://localhost:8080/"
        },
        "outputId": "4ad00a80-0256-4bfc-b3c7-ee7ef60ca274"
      },
      "source": [
        "dict = {'almox':['Folha de Oficio',\n",
        "                 'Caneta',\n",
        "                 'Grampeador'],\n",
        "        'cozinha':['Café',\n",
        "                   'Açúcar']}\n",
        "\n",
        "print(dict['almox'][0])\n",
        "# Retornará o elemento de índice 0 dos valores referentes a chave almox\n",
        "\n",
        "print(dict['cozinha'][1])\n",
        "# Retornará o elemento de índice 1 dos valores referentes a chave cozinha\n"
      ],
      "execution_count": null,
      "outputs": [
        {
          "output_type": "stream",
          "text": [
            "Folha de Oficio\n",
            "Açúcar\n"
          ],
          "name": "stdout"
        }
      ]
    },
    {
      "cell_type": "markdown",
      "metadata": {
        "id": "YRycAh07W9uB"
      },
      "source": [
        ". "
      ]
    },
    {
      "cell_type": "markdown",
      "metadata": {
        "id": "zyEaETuUW9uB"
      },
      "source": [
        "Transformando chaves ou valores de um dicionário em tupla"
      ]
    },
    {
      "cell_type": "code",
      "metadata": {
        "id": "B1-8NcLjU_H4",
        "colab": {
          "base_uri": "https://localhost:8080/"
        },
        "outputId": "12cde9c3-9d27-46a1-8761-16f8977fb0fa"
      },
      "source": [
        "dicionario1 = {'Nome':'Fernando',\n",
        "               'Idade':32,\n",
        "               'Sexo':'Masculino',\n",
        "               'Nacionalidade':'Brasileiro'}\n",
        "\n",
        "print(dicionario1.keys())\n",
        "\n",
        "dict_chaves = tuple(dicionario1.keys())\n",
        "\n",
        "print(dict_chaves)\n",
        "\n",
        "print(dict_chaves[3])\n",
        "\n",
        "# Lembrando que a transformação de uma lista para uma tupla normalmente\n",
        "# tem o propósito de tornar tais dados imutáveis, ou protegidos para\n",
        "# certas modificações.\n"
      ],
      "execution_count": null,
      "outputs": [
        {
          "output_type": "stream",
          "text": [
            "dict_keys(['Nome', 'Idade', 'Sexo', 'Nacionalidade'])\n",
            "('Nome', 'Idade', 'Sexo', 'Nacionalidade')\n",
            "Nacionalidade\n"
          ],
          "name": "stdout"
        }
      ]
    },
    {
      "cell_type": "markdown",
      "metadata": {
        "id": "tzJemJGGW9uC"
      },
      "source": [
        ". "
      ]
    },
    {
      "cell_type": "markdown",
      "metadata": {
        "id": "cHHfJU0XW9uC"
      },
      "source": [
        "Dicionários dentro de dicionários"
      ]
    },
    {
      "cell_type": "code",
      "metadata": {
        "id": "c6IEh8pzah98",
        "colab": {
          "base_uri": "https://localhost:8080/"
        },
        "outputId": "278c1e89-60bf-4aaa-8ad1-60dad0e47840"
      },
      "source": [
        "usuarios = {'João':{'Identificador':'0001',\n",
        "                    'Cargo':'Porteiro',\n",
        "                    'Salario':'2000'},\n",
        "            'Maria':{'Identificador':'0003',\n",
        "                     'Cargo':'Aux. Limpeza',\n",
        "                     'Salario':'1900'},\n",
        "            'José':{'Identificador':'0002',\n",
        "                    'Cargo':'Técnico',\n",
        "                    'Salario':'2500'}}\n",
        "            \n",
        "for i, j in usuarios.items():\n",
        "  print(f'Funcionário: {i}')\n",
        "  for k, l in j.items():\n",
        "    print(f'\\t {k} = {l}')\n",
        "\n",
        "# Um laço for dentro de outro se faz necessário pois os valores são uma\n",
        "# camada a mais por se tratar de outro dicionário.\n"
      ],
      "execution_count": null,
      "outputs": [
        {
          "output_type": "stream",
          "text": [
            "Funcionário: João\n",
            "\t Identificador = 0001\n",
            "\t Cargo = Porteiro\n",
            "\t Salario = 2000\n",
            "Funcionário: Maria\n",
            "\t Identificador = 0003\n",
            "\t Cargo = Aux. Limpeza\n",
            "\t Salario = 1900\n",
            "Funcionário: José\n",
            "\t Identificador = 0002\n",
            "\t Cargo = Técnico\n",
            "\t Salario = 2500\n"
          ],
          "name": "stdout"
        }
      ]
    },
    {
      "cell_type": "markdown",
      "metadata": {
        "id": "l4ePcEhDW9uC"
      },
      "source": [
        ". "
      ]
    },
    {
      "cell_type": "markdown",
      "metadata": {
        "id": "705cA934W9uC"
      },
      "source": [
        "Removendo elementos de um dicionário por meio da função pop( )"
      ]
    },
    {
      "cell_type": "code",
      "metadata": {
        "id": "JE5EB-EuyRAf",
        "colab": {
          "base_uri": "https://localhost:8080/"
        },
        "outputId": "cfaf1c38-9978-4751-eede-364fba4ffc9f"
      },
      "source": [
        "dicionario1 = {'Nome':'Fernando',\n",
        "               'Idade':32,\n",
        "               'Sexo':'Masculino',\n",
        "               'Nacionalidade':'Brasileiro'}\n",
        "\n",
        "dicionario1.pop('Nacionalidade')\n",
        "\n",
        "print(dicionario1)\n",
        "\n",
        "# pop( ) pode remover um item específico quando parametrizado com o mesmo\n",
        "# assim como quando usado sem nenhum parâmetro removerá o último conjunto\n",
        "# de chaves:valores do dicionário.\n"
      ],
      "execution_count": null,
      "outputs": [
        {
          "output_type": "stream",
          "text": [
            "{'Nome': 'Fernando', 'Idade': 32, 'Sexo': 'Masculino'}\n"
          ],
          "name": "stdout"
        }
      ]
    },
    {
      "cell_type": "markdown",
      "metadata": {
        "id": "-XTI46VSW9uD"
      },
      "source": [
        ". "
      ]
    },
    {
      "cell_type": "markdown",
      "metadata": {
        "id": "wt1k9GDVW9uD"
      },
      "source": [
        "Removendo elementos de um dicionário por meio da função do sistema del"
      ]
    },
    {
      "cell_type": "code",
      "metadata": {
        "id": "kzsusKEZW9uD",
        "colab": {
          "base_uri": "https://localhost:8080/"
        },
        "outputId": "7e5e368a-a34d-44fa-91b8-32ef7ea131e4"
      },
      "source": [
        "dicionario1 = {'Nome':'Fernando',\n",
        "               'Idade':32,\n",
        "               'Sexo':'Masculino',\n",
        "               'Nacionalidade':'Brasileiro'}\n",
        "\n",
        "del dicionario1['Nacionalidade']\n",
        "# del seguido do objeto e de seu atributo específico\n",
        "\n",
        "print(dicionario1)\n"
      ],
      "execution_count": null,
      "outputs": [
        {
          "output_type": "stream",
          "text": [
            "{'Nome': 'Fernando', 'Idade': 32, 'Sexo': 'Masculino'}\n"
          ],
          "name": "stdout"
        }
      ]
    },
    {
      "cell_type": "markdown",
      "metadata": {
        "id": "G47EPIaNW9uD"
      },
      "source": [
        ". "
      ]
    },
    {
      "cell_type": "markdown",
      "metadata": {
        "id": "Ph1Uq7mqW9uD"
      },
      "source": [
        "Criando um dicionário, sendo suas chaves importadas de uma lista e seus valores definidos manualmente"
      ]
    },
    {
      "cell_type": "code",
      "metadata": {
        "id": "oX6adMajknpW",
        "colab": {
          "base_uri": "https://localhost:8080/"
        },
        "outputId": "4644df83-884f-4e34-ec6b-1ec8ff9c4a1e"
      },
      "source": [
        "lista = ['camisas',\n",
        "         'calcas',\n",
        "         'vestidos',\n",
        "         'sapatos',\n",
        "         'tenis',\n",
        "         'acessorios']\n",
        "\n",
        "mercadoria = dict.fromkeys(lista, 0)\n",
        "\n",
        "print(mercadoria)\n",
        "\n",
        "mercadoria['camisas'] = 22\n",
        "mercadoria['vestidos'] = 3\n",
        "mercadoria['tenis'] = 10\n",
        "\n",
        "print(mercadoria)\n",
        "\n",
        "# Método fromkeys( ) recebe como primeiro parâmetro justaposto o que se\n",
        "# tornará as chaves, assim como para segundo parâmetro deve ser repassado\n",
        "# os dados que se tornarão os valores. Caso não haja dados iniciais, é\n",
        "# necessário preencher este campo com 0 para evitar conflitos.\n"
      ],
      "execution_count": null,
      "outputs": [
        {
          "output_type": "stream",
          "text": [
            "{'camisas': 0, 'calcas': 0, 'vestidos': 0, 'sapatos': 0, 'tenis': 0, 'acessorios': 0}\n",
            "{'camisas': 22, 'calcas': 0, 'vestidos': 3, 'sapatos': 0, 'tenis': 10, 'acessorios': 0}\n"
          ],
          "name": "stdout"
        }
      ]
    },
    {
      "cell_type": "markdown",
      "metadata": {
        "id": "_g-5YyflW9uE"
      },
      "source": [
        ". "
      ]
    },
    {
      "cell_type": "markdown",
      "metadata": {
        "id": "1XtF787_W9uE"
      },
      "source": [
        "Usando do método get( ) para não gerar exceções quando um elemento não fizer parte do dicionário"
      ]
    },
    {
      "cell_type": "code",
      "metadata": {
        "id": "iO6JUb6Ht44v",
        "colab": {
          "base_uri": "https://localhost:8080/"
        },
        "outputId": "ea5542b3-f9ae-41f7-a773-45eda8260ab8"
      },
      "source": [
        "dict1 = {'1':'A', '2':'B', '3':'C'}\n",
        "\n",
        "print(dict1['1'])   # ok\n",
        "#print(dict1['4'])   # chave não existente, irá gerar um KeyError\n",
        "\n",
        "dict1.get('4')\n",
        "\n",
        "# '4' é um elemento não existente, porém não será gerado um erro ao tentar\n",
        "# buscar dados/valores deste item.\n",
        "                             "
      ],
      "execution_count": null,
      "outputs": [
        {
          "output_type": "stream",
          "text": [
            "A\n"
          ],
          "name": "stdout"
        }
      ]
    },
    {
      "cell_type": "markdown",
      "metadata": {
        "id": "vvZtiUjrW9uE"
      },
      "source": [
        ". "
      ]
    },
    {
      "cell_type": "markdown",
      "metadata": {
        "id": "dK1upn1mbfHv"
      },
      "source": [
        "Descobrindo a hash de um valor"
      ]
    },
    {
      "cell_type": "code",
      "metadata": {
        "id": "HFpIj_h0bXUv",
        "colab": {
          "base_uri": "https://localhost:8080/"
        },
        "outputId": "c7c72575-c7dc-4621-95db-1b4fa61c8587"
      },
      "source": [
        "dicionario1 = {'Nome':'Fernando',\n",
        "               'Idade':32,\n",
        "               'Sexo':'Masculino',\n",
        "               'Nacionalidade':'Brasileiro'}\n",
        "\n",
        "print(hash('Idade'))\n",
        "\n",
        "# Chaves em um dicionário normalmente são dados imutáveis, em função\n",
        "# disso é possível descobrir sua hash de indexação interna.\n"
      ],
      "execution_count": null,
      "outputs": [
        {
          "output_type": "stream",
          "text": [
            "3506287743454017275\n"
          ],
          "name": "stdout"
        }
      ]
    },
    {
      "cell_type": "markdown",
      "metadata": {
        "id": "dyqBDm7Wb8Vm"
      },
      "source": [
        "."
      ]
    },
    {
      "cell_type": "markdown",
      "metadata": {
        "id": "uCsq2UDe-uhS"
      },
      "source": [
        "Resumo de todos os métodos inclusos nos built-ins"
      ]
    },
    {
      "cell_type": "code",
      "metadata": {
        "id": "fndxZExh-ieA"
      },
      "source": [
        "keys()\n",
        "# Retorna uma lista contendo todas as chaves de um dicionário\n",
        "\n",
        "values()\n",
        "# Retorna uma lista contendo todos os valores de um dicionário\n",
        "\n",
        "items()\n",
        "# Retorna uma lista contendo tuplas com os pares de chaves e valores de um dicionário\n",
        "\n",
        "get()\n",
        "# Retorna o valor de uma chave específica\n",
        "\n",
        "clear()\n",
        "# Remove todos os elementos de um dicionário\n",
        "\n",
        "copy()\n",
        "# Associado a outra variável, retorna uma cópia do dicionário original\n",
        "\n",
        "fromkeys()\n",
        "# Retorna um dicionário apenas com chaves e valores específicos\n",
        "\n",
        "pop()\n",
        "# Remove uma chave e seu respectivo valor\n",
        "\n",
        "popitem()\n",
        "# Remove o último par de chaves:valores inserido no dicionário\n",
        "\n",
        "setdefault()\n",
        "# Retorna o valor de uma chave específica, caso a mesma não exista, cria uma chave com valor padrão\n",
        "\n",
        "update()\n",
        "# Atualiza um dicionário inserindo no mesmo um novo par de chaves:valores\n"
      ],
      "execution_count": null,
      "outputs": []
    },
    {
      "cell_type": "markdown",
      "metadata": {
        "id": "mvVXQrsP-_NN"
      },
      "source": [
        "."
      ]
    },
    {
      "cell_type": "markdown",
      "metadata": {
        "id": "9Fe37G6FKXJS"
      },
      "source": [
        "## Funções"
      ]
    },
    {
      "cell_type": "markdown",
      "metadata": {
        "id": "FMhHVpBMW9uF"
      },
      "source": [
        "Sintaxe básica"
      ]
    },
    {
      "cell_type": "code",
      "metadata": {
        "id": "5E3q8UvwKXJS"
      },
      "source": [
        "def nome_da_funcao(parametros):\n",
        "  \"corpo da função\"\n",
        "  "
      ],
      "execution_count": null,
      "outputs": []
    },
    {
      "cell_type": "markdown",
      "metadata": {
        "id": "3eP_uD-JW9uF"
      },
      "source": [
        "Definindo uma função sem parâmetros"
      ]
    },
    {
      "cell_type": "code",
      "metadata": {
        "id": "TJBIRpnOKXJU",
        "colab": {
          "base_uri": "https://localhost:8080/"
        },
        "outputId": "dcd00c78-5ecd-4458-99fb-bd869ecde7ca"
      },
      "source": [
        "def exibe_mensagem():\n",
        "  print('Seja Bem-Vindo!!!')\n",
        "  # Quando executada a função será exibido em tela 'Seja Bem-Vindo!!!'\n",
        "\n",
        "print(exibe_mensagem())\n"
      ],
      "execution_count": null,
      "outputs": [
        {
          "output_type": "stream",
          "text": [
            "Seja Bem-Vindo!!!\n",
            "None\n"
          ],
          "name": "stdout"
        }
      ]
    },
    {
      "cell_type": "code",
      "metadata": {
        "id": "UBy3-A-4brAT",
        "colab": {
          "base_uri": "https://localhost:8080/"
        },
        "outputId": "3ca45a94-ce76-4dc4-b317-e0775224f138"
      },
      "source": [
        "def exibe_mensagem():\n",
        "  return 'Seja Bem-Vindo!!!'\n",
        "  # Quando executada a função será retornado 'Seja Bem-Vindo!!!\n",
        "\n",
        "print(exibe_mensagem())\n"
      ],
      "execution_count": null,
      "outputs": [
        {
          "output_type": "stream",
          "text": [
            "Seja Bem-Vindo!!!\n"
          ],
          "name": "stdout"
        }
      ]
    },
    {
      "cell_type": "markdown",
      "metadata": {
        "id": "fxg0tVtvW9uG"
      },
      "source": [
        "Chamando uma função"
      ]
    },
    {
      "cell_type": "code",
      "metadata": {
        "id": "EdW6oicHKXJV",
        "colab": {
          "base_uri": "https://localhost:8080/"
        },
        "outputId": "5a6d80c8-40d8-4888-97bc-6d7e5f14ee9f"
      },
      "source": [
        "def mensagem():\n",
        "  print('Seja Bem Vindo!!!')\n",
        "\n",
        "mensagem()\n"
      ],
      "execution_count": null,
      "outputs": [
        {
          "output_type": "stream",
          "text": [
            "Seja Bem Vindo!!!\n"
          ],
          "name": "stdout"
        }
      ]
    },
    {
      "cell_type": "markdown",
      "metadata": {
        "id": "VnP31h38W9uG"
      },
      "source": [
        "Instanciando uma função / Função associada a uma variável"
      ]
    },
    {
      "cell_type": "code",
      "metadata": {
        "id": "SSTUWBcsKXJX",
        "colab": {
          "base_uri": "https://localhost:8080/"
        },
        "outputId": "af2d9bc3-a412-452a-8a82-ade1fc24e7e0"
      },
      "source": [
        "def mensagem():\n",
        "  print('Seja Bem Vindo!!!')\n",
        "\n",
        "mensagem1 = mensagem()\n",
        "\n",
        "print(mensagem1)\n"
      ],
      "execution_count": null,
      "outputs": [
        {
          "output_type": "stream",
          "text": [
            "Seja Bem Vindo!!!\n",
            "None\n"
          ],
          "name": "stdout"
        }
      ]
    },
    {
      "cell_type": "markdown",
      "metadata": {
        "id": "Xc5sg4BwW9uG"
      },
      "source": [
        "Criando uma função que temporariamente não realiza nenhuma ação"
      ]
    },
    {
      "cell_type": "code",
      "metadata": {
        "id": "nnZh-umX09Qf",
        "colab": {
          "base_uri": "https://localhost:8080/"
        },
        "outputId": "b8defd8c-aaee-404d-a517-b1b6f89798ec"
      },
      "source": [
        "def funcao():\n",
        "  pass\n",
        "\n",
        "var1 = funcao()\n",
        "# Não acontecerá absolutamente nada\n",
        "\n",
        "print(type(var1))\n",
        "# Retornará NoneType, pois é uma variável que não faz nada\n"
      ],
      "execution_count": null,
      "outputs": [
        {
          "output_type": "stream",
          "text": [
            "<class 'NoneType'>\n"
          ],
          "name": "stdout"
        }
      ]
    },
    {
      "cell_type": "markdown",
      "metadata": {
        "id": "ILgXsd0rW9uH"
      },
      "source": [
        "Função interagindo com variável que interage com o usuário"
      ]
    },
    {
      "cell_type": "code",
      "metadata": {
        "id": "-ExuY4FHKXJY",
        "colab": {
          "base_uri": "https://localhost:8080/"
        },
        "outputId": "c44fc925-2981-4ff1-c4e1-6bfb98e25988"
      },
      "source": [
        "usuario3 = input('Digite o seu nome:')\n",
        "\n",
        "def mensagem(nome):\n",
        "  print(f'Bem Vindo {nome}!!!')\n",
        "\n",
        "print(mensagem(usuario3))\n"
      ],
      "execution_count": null,
      "outputs": [
        {
          "output_type": "stream",
          "text": [
            "Digite o seu nome:Fernando\n",
            "Bem Vindo Fernando!!!\n",
            "None\n"
          ],
          "name": "stdout"
        }
      ]
    },
    {
      "cell_type": "markdown",
      "metadata": {
        "id": "U4qqTaGZW9uI"
      },
      "source": [
        "Parametrizando uma função"
      ]
    },
    {
      "cell_type": "code",
      "metadata": {
        "id": "c8QHvRQDKXJb",
        "colab": {
          "base_uri": "https://localhost:8080/"
        },
        "outputId": "b3b54993-54f2-48b6-fc53-e13b76bfd043"
      },
      "source": [
        "def funcao(msg):\n",
        "  print(msg)\n",
        "  \n",
        "funcao('Bem Vindo!!!')\n",
        "# A string será repassada para a função, substituindo o campo do parâmetro\n",
        "# msg por este dado/valor.\n"
      ],
      "execution_count": null,
      "outputs": [
        {
          "output_type": "stream",
          "text": [
            "Bem Vindo!!!\n"
          ],
          "name": "stdout"
        }
      ]
    },
    {
      "cell_type": "markdown",
      "metadata": {
        "id": "rHM1XwFQW9uI"
      },
      "source": [
        "Instanciando e parametrizando uma função"
      ]
    },
    {
      "cell_type": "code",
      "metadata": {
        "id": "0Srns5yzKXJd",
        "colab": {
          "base_uri": "https://localhost:8080/"
        },
        "outputId": "630f9e6a-d15b-4517-d922-2b15eae0eb39"
      },
      "source": [
        "def mensagem(nome):\n",
        "  print(f'Bem Vindo(a) {nome}!!!')\n",
        "\n",
        "usuario1 = mensagem('Fernando')\n",
        "\n",
        "print(mensagem)\n"
      ],
      "execution_count": null,
      "outputs": [
        {
          "output_type": "stream",
          "text": [
            "Bem Vindo(a) Fernando!!!\n",
            "<function mensagem at 0x7f4356eef7a0>\n"
          ],
          "name": "stdout"
        }
      ]
    },
    {
      "cell_type": "markdown",
      "metadata": {
        "id": "5fJ3uaYBW9uJ"
      },
      "source": [
        "Repassando mais de um parâmetro para função"
      ]
    },
    {
      "cell_type": "code",
      "metadata": {
        "id": "nZqwdBbW2Hf8",
        "colab": {
          "base_uri": "https://localhost:8080/"
        },
        "outputId": "6d533327-ea2e-4374-9131-1a5ec9ac5e11"
      },
      "source": [
        "def mensagem(nome, idade):\n",
        "  print(f'{nome} tem {idade} anos...')\n",
        "\n",
        "usuario1 = mensagem('Fernando', 33)\n",
        "# por justaposição, Fernando será repassado para nome, assim como 33 será\n",
        "# repassado para idade, pois é a ordem a serem declarados tais argumentos\n",
        "\n",
        "print(usuario1)\n"
      ],
      "execution_count": null,
      "outputs": [
        {
          "output_type": "stream",
          "text": [
            "Fernando tem 33 anos...\n",
            "None\n"
          ],
          "name": "stdout"
        }
      ]
    },
    {
      "cell_type": "markdown",
      "metadata": {
        "id": "eekbq4AgW9uJ"
      },
      "source": [
        "Definindo parâmetros \"padrão\""
      ]
    },
    {
      "cell_type": "code",
      "metadata": {
        "id": "Bp5aJXp1KXJe",
        "colab": {
          "base_uri": "https://localhost:8080/"
        },
        "outputId": "44609873-64c6-4fdd-d45b-2daf67850cd7"
      },
      "source": [
        "def funcao(msg, nome='usuário'):\n",
        "  print(msg, nome)\n",
        "  \n",
        "funcao('Olá')\n",
        "\n",
        "# Ao chamar a função, repassando como parâmetro para a mesma apenas Olá,\n",
        "# por justaposição este argumento será atribuído a msg, já o segundo \n",
        "# parâmetro da função (nome) usará do valor padrão 'usuário'.\n"
      ],
      "execution_count": null,
      "outputs": [
        {
          "output_type": "stream",
          "text": [
            "Olá usuário\n"
          ],
          "name": "stdout"
        }
      ]
    },
    {
      "cell_type": "markdown",
      "metadata": {
        "id": "Rrj-TfqGW9uK"
      },
      "source": [
        "Repassando apenas um parâmetro, recebendo o resto padrão"
      ]
    },
    {
      "cell_type": "code",
      "metadata": {
        "id": "Q5ljJ3N8KXJg",
        "colab": {
          "base_uri": "https://localhost:8080/"
        },
        "outputId": "b05e0b32-42cc-45c4-ae13-55d14e6cb362"
      },
      "source": [
        "def funcao(msg='Olá', nome='usuário', msg2='Seja Bem Vindo!!!'):\n",
        "  print(msg, nome, msg2)\n",
        "  \n",
        "funcao(nome='Fernando')\n",
        "\n",
        "# Ao instanciar o parâmetro nome, atribuindo um novo dado/valor, o\n",
        "# parâmetro padrão 'usuário' será substituído por 'Fernando'\n"
      ],
      "execution_count": null,
      "outputs": [
        {
          "output_type": "stream",
          "text": [
            "Olá Fernando Seja Bem Vindo!!!\n"
          ],
          "name": "stdout"
        }
      ]
    },
    {
      "cell_type": "markdown",
      "metadata": {
        "id": "uztXbbLVW9uK"
      },
      "source": [
        "Passando parâmetro e interagindo com o usuário"
      ]
    },
    {
      "cell_type": "code",
      "metadata": {
        "id": "UbbXJLdmKXJh",
        "colab": {
          "base_uri": "https://localhost:8080/"
        },
        "outputId": "161c11af-bba0-4aac-cdd1-5ae9ac4a5717"
      },
      "source": [
        "def funcao(mensagem, nome):\n",
        "  print(mensagem, nome)\n",
        "  \n",
        "funcao('Olá', input('Digite o seu nome: '))\n",
        "\n",
        "# Olá será atribuído para mensagem, assim como o que o usuário digitar\n",
        "# como seu nome será repassado para o parâmetro nome.\n"
      ],
      "execution_count": null,
      "outputs": [
        {
          "output_type": "stream",
          "text": [
            "Digite o seu nome: Fernando\n",
            "Olá Fernando\n"
          ],
          "name": "stdout"
        }
      ]
    },
    {
      "cell_type": "code",
      "metadata": {
        "id": "A-5v5mAMKXJj",
        "colab": {
          "base_uri": "https://localhost:8080/"
        },
        "outputId": "46a44f6c-69e3-43c8-fded-d4c1ca1b8265"
      },
      "source": [
        "# Interagindo com o usuário, exemplo 2\n",
        "\n",
        "def funcao(msg='Ola', nome='usuário', msg2='Seja Bem Vindo!!!'):\n",
        "  nome = input('Digite o seu nome: ')\n",
        "  print(msg, nome, msg2)\n",
        "  \n",
        "variavel1 = funcao()\n",
        "\n",
        "# Inicialmente a função já possui um parâmetro nome com um valor padrão,\n",
        "# dentro de seu corpo existe a variável nome que recebe do usuário um novo\n",
        "# nome, caso o mesmo o digite, nome será atualizado, caso contrário, irá\n",
        "# manter o padrão 'usuário'.\n"
      ],
      "execution_count": null,
      "outputs": [
        {
          "output_type": "stream",
          "text": [
            "Digite o seu nome: Fernando\n",
            "Ola Fernando Seja Bem Vindo!!!\n"
          ],
          "name": "stdout"
        }
      ]
    },
    {
      "cell_type": "code",
      "metadata": {
        "id": "ufwHtSV2KXJk",
        "colab": {
          "base_uri": "https://localhost:8080/"
        },
        "outputId": "567e4eac-f7bc-431a-f357-b88e567c8b75"
      },
      "source": [
        "# Interagindo com o usuário, exemplo 3\n",
        "\n",
        "def funcao(msg='Ola', nome='usuário', msg2='Seja Bem Vindo!!!'):\n",
        "  return f'{msg} {nome}, {msg2}'\n",
        "\n",
        "variavel1 = funcao(nome=input('Digite o seu nome: '))\n",
        "# Chamando a função, diretamente pedindo ao usuário um dado/valor a ser\n",
        "# usado como parâmetro para nome.\n",
        "\n",
        "print(variavel1)\n"
      ],
      "execution_count": null,
      "outputs": [
        {
          "output_type": "stream",
          "text": [
            "Digite o seu nome: Fernando\n",
            "Ola Fernando, Seja Bem Vindo!!!\n"
          ],
          "name": "stdout"
        }
      ]
    },
    {
      "cell_type": "markdown",
      "metadata": {
        "id": "-y55zP9zW9uL"
      },
      "source": [
        "Repassando um parâmetro manualmente fora da ordem da justaposição"
      ]
    },
    {
      "cell_type": "code",
      "metadata": {
        "id": "wEmsABAI3_eo",
        "colab": {
          "base_uri": "https://localhost:8080/"
        },
        "outputId": "8c383bc7-3e23-4d2d-eef3-1e0c501e9083"
      },
      "source": [
        "def msg(nome = 'Ana', idade = 25, prof = 'Cozinheira'):\n",
        "  print(f'{nome}, {idade} anos, {prof}')\n",
        "\n",
        "variavel5 = msg(prof = 'Costureira')\n",
        "# Sempre que é instanciado um parâmetro nomeado, a ordem do mesmo não importa\n",
        "\n",
        "print(msg)\n"
      ],
      "execution_count": null,
      "outputs": [
        {
          "output_type": "stream",
          "text": [
            "Ana, 25 anos, Costureira\n",
            "<function msg at 0x7f4356ea4b90>\n"
          ],
          "name": "stdout"
        }
      ]
    },
    {
      "cell_type": "markdown",
      "metadata": {
        "id": "zzUdx7JTW9uM"
      },
      "source": [
        "Realizando operações dentro de uma função"
      ]
    },
    {
      "cell_type": "code",
      "metadata": {
        "id": "asLr5OyEKXJn",
        "colab": {
          "base_uri": "https://localhost:8080/"
        },
        "outputId": "1ab3fc10-0abb-49e4-bf0d-0d804024f852"
      },
      "source": [
        "# o código:\n",
        "\n",
        "n1 = int(input('Digite o Primeiro Número: '))\n",
        "n2 = int(input('Digite o Segundo Número: '))\n",
        "\n",
        "print(f'O resultado da soma é: {n1 + n2}')\n"
      ],
      "execution_count": null,
      "outputs": [
        {
          "output_type": "stream",
          "text": [
            "Digite o Primeiro Número: 15\n",
            "Digite o Segundo Número: 37\n",
            "O resultado da soma é: 52\n"
          ],
          "name": "stdout"
        }
      ]
    },
    {
      "cell_type": "code",
      "metadata": {
        "id": "Dt4JgGu3ktEH",
        "colab": {
          "base_uri": "https://localhost:8080/"
        },
        "outputId": "7bffaa35-8a63-4c6b-db76-8c8e6dd81e3e"
      },
      "source": [
        "# Pode ser reescrito por:\n",
        "\n",
        "def soma(n1, n2):\n",
        "  return f'O resultado da soma é: {n1 + n2}'\n",
        "\n",
        "n1 = int(input('Digite o Primeiro Número: '))\n",
        "n2 = int(input('Digite o Segundo Número: '))\n",
        "\n",
        "print(soma(n1, n2))\n"
      ],
      "execution_count": null,
      "outputs": [
        {
          "output_type": "stream",
          "text": [
            "Digite o Primeiro Número: 26\n",
            "Digite o Segundo Número: 13\n",
            "O resultado da soma é: 39\n"
          ],
          "name": "stdout"
        }
      ]
    },
    {
      "cell_type": "code",
      "metadata": {
        "id": "jKZZ9O0plKYT",
        "colab": {
          "base_uri": "https://localhost:8080/"
        },
        "outputId": "28f08eef-0e3d-4553-b168-7a6919b19005"
      },
      "source": [
        "# O exemplo anterior pode ser reescrito por:\n",
        "\n",
        "def soma(n1, n2):\n",
        "  return n1 + n2\n",
        "\n",
        "n1 = int(input('Digite o Primeiro Número: '))\n",
        "n2 = int(input('Digite o Segundo Número: '))\n",
        "\n",
        "print(f'O resultado da soma é: {soma(n1, n2)}')\n",
        "# Dentro da máscara de substituição é chamada a função soma( )\n",
        "# parametrizando a mesma com os dados/valores de n1 e n2.\n"
      ],
      "execution_count": null,
      "outputs": [
        {
          "output_type": "stream",
          "text": [
            "Digite o Primeiro Número: 44\n",
            "Digite o Segundo Número: 55\n",
            "O resultado da soma é: 99\n"
          ],
          "name": "stdout"
        }
      ]
    },
    {
      "cell_type": "markdown",
      "metadata": {
        "id": "ei2fRR1NW9uN"
      },
      "source": [
        "Realizando operações compostas dentro de uma função"
      ]
    },
    {
      "cell_type": "code",
      "metadata": {
        "id": "4GLhvSgIKXJo",
        "colab": {
          "base_uri": "https://localhost:8080/"
        },
        "outputId": "d2891833-aff1-45f4-9120-fc5394b3b761"
      },
      "source": [
        "def aumento_percentual(valor, percentual):\n",
        "  return (valor + (valor * percentual / 100))\n",
        "\n",
        "num1 = int(input('Digite o valor: '))\n",
        "num2 = int(input('Você deseja somar quantos % ? '))\n",
        "\n",
        "calculo = aumento_percentual(num1, num2)\n",
        "\n",
        "print(f'O valor final será: {calculo}')\n",
        "\n",
        "print(f'O valor final será: {round(calculo, 2)} reais ')\n",
        "\n",
        "print(f'O valor final será: R${calculo:.2f} reais.')\n"
      ],
      "execution_count": null,
      "outputs": [
        {
          "output_type": "stream",
          "text": [
            "Digite o valor: 180\n",
            "Você deseja somar quantos % ? 6\n",
            "O valor final será: 190.8\n",
            "O valor final será: 190.8 reais \n",
            "O valor final será: R$190.80 reais.\n"
          ],
          "name": "stdout"
        }
      ]
    },
    {
      "cell_type": "code",
      "metadata": {
        "id": "YbCwVolAgmMo",
        "colab": {
          "base_uri": "https://localhost:8080/"
        },
        "outputId": "8d501097-0bf1-41e8-f9b6-92f99a690401"
      },
      "source": [
        "def aumento_percentual(valor, percentual):\n",
        "  return (valor + (valor * percentual / 100))\n",
        "  # Retornará o resultado da soma do valor referente ao primeiro parâmetro pela\n",
        "  # multiplicação deste valor por um percentual aplicado, dividido por 100.\n",
        "\n",
        "num1 = int(input('Digite o valor: '))\n",
        "num2 = int(input('Você deseja somar quantos % ? '))\n",
        "\n",
        "calculo = aumento_percentual(num1, num2)\n",
        "# Variável calculo chama a função aumento_percentual() para metrizando a mesma\n",
        "# com os dados atribuídos para num1 e num2 que por sua vez foram inseridos pelo\n",
        "# usuário.\n",
        "\n",
        "print(f'O valor final será: {calculo}')\n",
        "# Dentro da máscara é instanciada a variável calculo\n",
        "\n",
        "print(f'O valor final será: {round(calculo, 2)} reais ')\n",
        "\n",
        "print(f'O valor final será: R${calculo:.2f} reais.')\n"
      ],
      "execution_count": null,
      "outputs": [
        {
          "output_type": "stream",
          "text": [
            "Digite o valor: 500\n",
            "Você deseja somar quantos % ? 3\n",
            "O valor final será: 515.0\n",
            "O valor final será: 515.0 reais \n",
            "O valor final será: R$515.00 reais.\n"
          ],
          "name": "stdout"
        }
      ]
    },
    {
      "cell_type": "markdown",
      "metadata": {
        "id": "w5_9b-dcW9uO"
      },
      "source": [
        "Estruturas condicionais dentro de funções"
      ]
    },
    {
      "cell_type": "code",
      "metadata": {
        "id": "WzNp5my7KXJq",
        "colab": {
          "base_uri": "https://localhost:8080/"
        },
        "outputId": "dce0584a-ba8c-4e18-e4a3-4ac3865b9c0d"
      },
      "source": [
        "def repetidor(msg):\n",
        "  contador = 0\n",
        "  while contador < 5:\n",
        "    print(msg)\n",
        "    contador += 1\n",
        "\n",
        "print(repetidor(msg=input('Digite algo para ser repetido 5 vezes: ')))\n"
      ],
      "execution_count": null,
      "outputs": [
        {
          "output_type": "stream",
          "text": [
            "Digite algo para ser repetido 5 vezes: Python\n",
            "Python\n",
            "Python\n",
            "Python\n",
            "Python\n",
            "Python\n",
            "None\n"
          ],
          "name": "stdout"
        }
      ]
    },
    {
      "cell_type": "code",
      "metadata": {
        "id": "qon7o5-vKXJr",
        "colab": {
          "base_uri": "https://localhost:8080/"
        },
        "outputId": "9d441efe-5164-43f0-feec-c6ab740a8fbb"
      },
      "source": [
        "# Exemplo 2\n",
        "\n",
        "def divisao(n1, n2):\n",
        "  if n1 == 0 or n2 == 0:\n",
        "    return 'Operação Inválida'\n",
        "  return n1 / n2\n",
        "\n",
        "num1 = int(input('Digite o Primeiro Número:'))\n",
        "num2 = int(input('Digite o Segundo Número:'))\n",
        "\n",
        "print(f'O resultado da divisão é: {divisao(num1, num2)}')\n"
      ],
      "execution_count": null,
      "outputs": [
        {
          "output_type": "stream",
          "text": [
            "Digite o Primeiro Número:99\n",
            "Digite o Segundo Número:18\n",
            "O resultado da divisão é: 5.5\n"
          ],
          "name": "stdout"
        }
      ]
    },
    {
      "cell_type": "code",
      "metadata": {
        "id": "OlTcfSJjKXJs",
        "colab": {
          "base_uri": "https://localhost:8080/"
        },
        "outputId": "22f3aa75-a1ab-4ad6-c4ce-edaee540a167"
      },
      "source": [
        "# Exercício Fizz Buzz\n",
        "\n",
        "def fizz_buzz(num):\n",
        "  if num % 3 == 0 and num % 5 == 0:\n",
        "    return f'FizzBuzz, {num} é divisível por 3 e por 5'\n",
        "  if num % 5 == 0:\n",
        "    return f'Buzz, {num} é divisível por 5'\n",
        "  if num % 3 == 0:\n",
        "    return f'Fizz, {num} é divisível por 3)'\n",
        "  return num\n",
        "\n",
        "print(fizz_buzz(num=int(input('Digite um Número: '))))\n"
      ],
      "execution_count": null,
      "outputs": [
        {
          "output_type": "stream",
          "text": [
            "Digite um Número: 15\n",
            "FizzBuzz, 15 é divisível por 3 e por 5\n"
          ],
          "name": "stdout"
        }
      ]
    },
    {
      "cell_type": "markdown",
      "metadata": {
        "id": "chF3bnNVW9uP"
      },
      "source": [
        "*args - Função com argumentos externos"
      ]
    },
    {
      "cell_type": "code",
      "metadata": {
        "id": "bhxyCie5KXJu",
        "colab": {
          "base_uri": "https://localhost:8080/"
        },
        "outputId": "0b89e223-9d4a-4e71-bcd7-1dd895a825fb"
      },
      "source": [
        "def funcao(*args):\n",
        "  for v in args:\n",
        "    print(v)\n",
        "    \n",
        "argumentos = (1, 2, 3, 'Paulo', 'Ana')\n",
        "\n",
        "print(funcao(argumentos))\n"
      ],
      "execution_count": null,
      "outputs": [
        {
          "output_type": "stream",
          "text": [
            "(1, 2, 3, 'Paulo', 'Ana')\n",
            "None\n"
          ],
          "name": "stdout"
        }
      ]
    },
    {
      "cell_type": "markdown",
      "metadata": {
        "id": "GsbSwWsTW9uQ"
      },
      "source": [
        "Desempacotando uma lista para que seus elementos virem argumentos da função"
      ]
    },
    {
      "cell_type": "code",
      "metadata": {
        "id": "1vOD-eizKXJw",
        "colab": {
          "base_uri": "https://localhost:8080/"
        },
        "outputId": "068b74a8-3c84-4542-d359-fe0655f4fbe9"
      },
      "source": [
        "lista1 = ['nome', 'idade', 'sexo', 'nacionalidade']\n",
        "\n",
        "def funcao(*args):\n",
        "  print('Informações Necessárias:')\n",
        "  print(args)\n",
        "  \n",
        "funcao(*lista1)\n"
      ],
      "execution_count": null,
      "outputs": [
        {
          "output_type": "stream",
          "text": [
            "Informações Necessárias:\n",
            "('nome', 'idade', 'sexo', 'nacionalidade')\n"
          ],
          "name": "stdout"
        }
      ]
    },
    {
      "cell_type": "markdown",
      "metadata": {
        "id": "y6fBtpoDW9uR"
      },
      "source": [
        "Função com parâmetros baseados em * args e ** kwargs"
      ]
    },
    {
      "cell_type": "code",
      "metadata": {
        "id": "BPfIoBWsKXJx",
        "colab": {
          "base_uri": "https://localhost:8080/"
        },
        "outputId": "703e9ed1-f7e3-4a5f-9e2d-260228cb4932"
      },
      "source": [
        "# Supondo que está cadastrando senhas e usuários em um sistema\n",
        "\n",
        "def funcao(*args, **kwargs):\n",
        "  print(args)\n",
        "  print(kwargs)\n",
        "  \n",
        "senhas_padrao = [12345, 11111, 54321]\n",
        "\n",
        "resultado = funcao(*senhas_padrao, usuario='user', administrador='admin')\n",
        "\n",
        "print(resultado)\n",
        "\n",
        "# senhas_padrao substituirá *args e o parametro nomeado aqui usuario substituirá **kwargs\n"
      ],
      "execution_count": null,
      "outputs": [
        {
          "output_type": "stream",
          "text": [
            "(12345, 11111, 54321)\n",
            "{'usuario': 'user', 'administrador': 'admin'}\n",
            "None\n"
          ],
          "name": "stdout"
        }
      ]
    },
    {
      "cell_type": "code",
      "metadata": {
        "id": "WyrXH-PWKXJ0",
        "colab": {
          "base_uri": "https://localhost:8080/"
        },
        "outputId": "d9607183-9b9e-405d-b8ea-e0725e970b92"
      },
      "source": [
        "# Buscando dados do modelo anterior\n",
        "\n",
        "def funcao(*args, **kwargs):\n",
        "  nome = kwargs['usuario']\n",
        "  nome2 = kwargs['administrador']\n",
        "  senha1 = args[0]\n",
        "  senha2 = args[1]\n",
        "  \n",
        "  print(f'O usuário padrão é: {nome}')\n",
        "  print(f'O administrador é:{nome2}')\n",
        "  print(f'A senha padrão é: {senha1}')\n",
        "  print(f'A senha alternativa é: {senha2}')\n",
        "  \n",
        "senhas_padrao = [12345, 11111]\n",
        "\n",
        "funcao(*senhas_padrao, usuario='user', administrador='admin')\n",
        "\n",
        "# senhas_padrao substituirá *args e o parametro nomeado aqui usuario substituirá **kwargs\n"
      ],
      "execution_count": null,
      "outputs": [
        {
          "output_type": "stream",
          "text": [
            "O usuário padrão é: user\n",
            "O administrador é:admin\n",
            "A senha padrão é: 12345\n",
            "A senha alternativa é: 11111\n"
          ],
          "name": "stdout"
        }
      ]
    },
    {
      "cell_type": "markdown",
      "metadata": {
        "id": "MBRRA93eW9uS"
      },
      "source": [
        "Função que recebe outra função como parâmetro"
      ]
    },
    {
      "cell_type": "code",
      "metadata": {
        "id": "BLi3LPiGKXJ4",
        "colab": {
          "base_uri": "https://localhost:8080/"
        },
        "outputId": "450d3246-8b6b-43c6-a7fc-7054feca9ecf"
      },
      "source": [
        "def msg_boas_vindas():\n",
        "  return 'Seja Muito Bem Vindo!!!'\n",
        "\n",
        "def mestre(funcao):\n",
        "  return funcao()\n",
        "\n",
        "executa = mestre(msg_boas_vindas)\n",
        "\n",
        "print(executa)\n"
      ],
      "execution_count": null,
      "outputs": [
        {
          "output_type": "stream",
          "text": [
            "Seja Muito Bem Vindo!!!\n"
          ],
          "name": "stdout"
        }
      ]
    },
    {
      "cell_type": "markdown",
      "metadata": {
        "id": "mShSelCaW9uT"
      },
      "source": [
        "Função que recebe um tipo de dado como parâmetro, e retorna outro tipo de dado já pré-definido"
      ]
    },
    {
      "cell_type": "code",
      "metadata": {
        "id": "HCsCVYidC_Le",
        "colab": {
          "base_uri": "https://localhost:8080/"
        },
        "outputId": "00a3d4ef-a767-42d5-e78c-d58898ffb739"
      },
      "source": [
        "def funcao(valor: int) -> str: # recebe int, retorna string\n",
        "  return f'R$ {valor}'\n",
        "\n",
        "var1 = input('Digite um valor: ')\n",
        "var2 = funcao(var1)\n",
        "\n",
        "print(var2)\n",
        "print(type(var2))\n"
      ],
      "execution_count": null,
      "outputs": [
        {
          "output_type": "stream",
          "text": [
            "Digite um valor: 59\n",
            "R$ 59\n",
            "<class 'str'>\n"
          ],
          "name": "stdout"
        }
      ]
    },
    {
      "cell_type": "markdown",
      "metadata": {
        "id": "thayvTWDKXJ8"
      },
      "source": [
        "## Escopo Global e Local"
      ]
    },
    {
      "cell_type": "code",
      "metadata": {
        "id": "TxwGl21gKXJ8",
        "colab": {
          "base_uri": "https://localhost:8080/"
        },
        "outputId": "ecd2870d-bf63-4f74-f2f7-203d16812c23"
      },
      "source": [
        "variavel1 = 'Paulo'\n",
        "# Escopo global / no corpo geral do código, iterável por qualquer objeto\n",
        "\n",
        "def funcao1():\n",
        "    print(f'Print da variável do escopo global: {variavel1}')\n",
        "  \n",
        "funcao1()\n",
        "\n",
        "\n",
        "def funcao2():\n",
        "  variavel2 = 'Maria'\n",
        "  # Escopo local / dentro do corpo da função, visível e iterável apenas de\n",
        "  # dentro da função funcao2( )\n",
        "  print(f'Print da variável do escopo local: {variavel2}')\n",
        "\n",
        "funcao2()\n"
      ],
      "execution_count": null,
      "outputs": [
        {
          "output_type": "stream",
          "text": [
            "Print da variável do escopo global: Paulo\n",
            "Print da variável do escopo local: Maria\n"
          ],
          "name": "stdout"
        }
      ]
    },
    {
      "cell_type": "markdown",
      "metadata": {
        "id": "7JPSBGeDW9uV"
      },
      "source": [
        "Modificando uma variável global de dentro de uma função"
      ]
    },
    {
      "cell_type": "code",
      "metadata": {
        "id": "9cKTObd1KXJ9",
        "colab": {
          "base_uri": "https://localhost:8080/"
        },
        "outputId": "1b66a37f-66f2-4645-cce8-8a7fcf7d8edb"
      },
      "source": [
        "num1 = 100\n",
        "\n",
        "print(f'Variável com seu valor inicial: {num1}')\n",
        "\n",
        "def modificador():\n",
        "    global num1\n",
        "    num1 = 200\n",
        "    print(f'Variável alterada dentro da função: {num1}')\n",
        "\n",
        "modificador()\n",
        "\n",
        "print(f'Variável atualizada pela função modificador: {num1}')\n"
      ],
      "execution_count": null,
      "outputs": [
        {
          "output_type": "stream",
          "text": [
            "Variável com seu valor inicial: 100\n",
            "Variável alterada dentro da função: 200\n",
            "Variável atualizada pela função modificador: 200\n"
          ],
          "name": "stdout"
        }
      ]
    },
    {
      "cell_type": "code",
      "metadata": {
        "id": "yPPIVPDdQ5a7"
      },
      "source": [
        "num1 = 100\n",
        "# Valor inicial 100\n",
        "\n",
        "print(f'Variável com seu valor inicial: {num1}')\n",
        "\n",
        "def modificador():\n",
        "    global num1\n",
        "    # Instanciando a variável global num1 para fazer uso da mesma\n",
        "    num1 = 200\n",
        "    # Atualizando o valor de num1 para 200\n",
        "    print(f'Variável alterada dentro da função: {num1}')\n",
        "\n",
        "modificador()\n",
        "\n",
        "print(f'Variável atualizada pela função modificador: {num1}')\n",
        "\n",
        "# Pela leitura léxica, o último valor atribuído a uma variável será\n",
        "# seu valor atual, até que outro objeto a atualize novamente.\n"
      ],
      "execution_count": null,
      "outputs": []
    },
    {
      "cell_type": "markdown",
      "metadata": {
        "id": "3vXMf2qcOyYQ"
      },
      "source": [
        "## Sets (Conjuntos)"
      ]
    },
    {
      "cell_type": "markdown",
      "metadata": {
        "id": "ZuOA8ON8W9uW"
      },
      "source": [
        "Sintaxe básica"
      ]
    },
    {
      "cell_type": "code",
      "metadata": {
        "id": "oBsQ65HRNfZx",
        "colab": {
          "base_uri": "https://localhost:8080/"
        },
        "outputId": "e735edd0-2895-464d-ec18-cd236200b526"
      },
      "source": [
        "set1 = {1, 2, 3, 4, 5, 6, 7, 8, 9, 0}\n",
        "\n",
        "print(set1)\n",
        "print(type(set1))\n",
        "\n",
        "set2 = {1, 2, 3, 4, 5, 6, 7, 8, 9, 0, 9, 9, 9, 9, 5, 6, 7}\n",
        "\n",
        "print(set2)\n",
        "\n",
        "# A diferença de um set para um dicionário será que um set não possui\n",
        "# par de elementos chave:valor. Um set não tem índice e os elementos \n",
        "# guardados dentro dele ficam em ordem aleatória. Um set não pode ter\n",
        "# elementos duplicados, caso houver, os mesmos serão ignorados.\n"
      ],
      "execution_count": null,
      "outputs": [
        {
          "output_type": "stream",
          "text": [
            "{0, 1, 2, 3, 4, 5, 6, 7, 8, 9}\n",
            "<class 'set'>\n",
            "{0, 1, 2, 3, 4, 5, 6, 7, 8, 9}\n"
          ],
          "name": "stdout"
        }
      ]
    },
    {
      "cell_type": "code",
      "metadata": {
        "colab": {
          "base_uri": "https://localhost:8080/",
          "height": 209
        },
        "id": "QX44FBHgRknH",
        "outputId": "91d79d28-162a-4f0d-a077-dd62e63776db"
      },
      "source": [
        "set2 = {1, 2, 3, 4, 5, 6, 7, 8, 9, 0, 9, 9, 9, 9, 5, 6, 7}\n",
        "\n",
        "print(set2[3])\n",
        "# Irá gerar um erro pois em um set não é possível buscar um elemento\n",
        "# por meio de número de índice.\n"
      ],
      "execution_count": null,
      "outputs": [
        {
          "output_type": "error",
          "ename": "TypeError",
          "evalue": "ignored",
          "traceback": [
            "\u001b[0;31m---------------------------------------------------------------------------\u001b[0m",
            "\u001b[0;31mTypeError\u001b[0m                                 Traceback (most recent call last)",
            "\u001b[0;32m<ipython-input-1-245846a2b2c9>\u001b[0m in \u001b[0;36m<module>\u001b[0;34m()\u001b[0m\n\u001b[1;32m      1\u001b[0m \u001b[0mset2\u001b[0m \u001b[0;34m=\u001b[0m \u001b[0;34m{\u001b[0m\u001b[0;36m1\u001b[0m\u001b[0;34m,\u001b[0m\u001b[0;36m2\u001b[0m\u001b[0;34m,\u001b[0m\u001b[0;36m3\u001b[0m\u001b[0;34m,\u001b[0m\u001b[0;36m4\u001b[0m\u001b[0;34m,\u001b[0m\u001b[0;36m5\u001b[0m\u001b[0;34m,\u001b[0m\u001b[0;36m6\u001b[0m\u001b[0;34m,\u001b[0m\u001b[0;36m7\u001b[0m\u001b[0;34m,\u001b[0m\u001b[0;36m8\u001b[0m\u001b[0;34m,\u001b[0m\u001b[0;36m9\u001b[0m\u001b[0;34m,\u001b[0m\u001b[0;36m0\u001b[0m\u001b[0;34m,\u001b[0m\u001b[0;36m9\u001b[0m\u001b[0;34m,\u001b[0m\u001b[0;36m9\u001b[0m\u001b[0;34m,\u001b[0m\u001b[0;36m9\u001b[0m\u001b[0;34m,\u001b[0m\u001b[0;36m9\u001b[0m\u001b[0;34m,\u001b[0m\u001b[0;36m5\u001b[0m\u001b[0;34m,\u001b[0m\u001b[0;36m6\u001b[0m\u001b[0;34m,\u001b[0m\u001b[0;36m7\u001b[0m\u001b[0;34m}\u001b[0m\u001b[0;34m\u001b[0m\u001b[0;34m\u001b[0m\u001b[0m\n\u001b[1;32m      2\u001b[0m \u001b[0;34m\u001b[0m\u001b[0m\n\u001b[0;32m----> 3\u001b[0;31m \u001b[0mprint\u001b[0m\u001b[0;34m(\u001b[0m\u001b[0mset2\u001b[0m\u001b[0;34m[\u001b[0m\u001b[0;36m3\u001b[0m\u001b[0;34m]\u001b[0m\u001b[0;34m)\u001b[0m\u001b[0;34m\u001b[0m\u001b[0;34m\u001b[0m\u001b[0m\n\u001b[0m",
            "\u001b[0;31mTypeError\u001b[0m: 'set' object is not subscriptable"
          ]
        }
      ]
    },
    {
      "cell_type": "markdown",
      "metadata": {
        "id": "dRJItc1cW9uX"
      },
      "source": [
        "Criando um Set via construtor"
      ]
    },
    {
      "cell_type": "code",
      "metadata": {
        "id": "_V90bFbFPcWE",
        "colab": {
          "base_uri": "https://localhost:8080/"
        },
        "outputId": "b2d9b4e4-c5cd-407e-db27-681765c47a6c"
      },
      "source": [
        "set1 = set()\n",
        "# Método construtor set( )\n",
        "\n",
        "set1.add('Ana')\n",
        "set1.add(23)\n",
        "\n",
        "print(set1)\n"
      ],
      "execution_count": null,
      "outputs": [
        {
          "output_type": "stream",
          "text": [
            "{'Ana', 23}\n"
          ],
          "name": "stdout"
        }
      ]
    },
    {
      "cell_type": "markdown",
      "metadata": {
        "id": "hfua8eyEStUu"
      },
      "source": [
        "Adicionando / removendo elementos de um set"
      ]
    },
    {
      "cell_type": "code",
      "metadata": {
        "colab": {
          "base_uri": "https://localhost:8080/"
        },
        "id": "d4QJQntLSyas",
        "outputId": "81fe78a7-0651-4980-91c0-d3477e575309"
      },
      "source": [
        "set2 = set()\n",
        "\n",
        "set2.add(2001)\n",
        "# add( ) para adicionar um novo elemento ao set\n",
        "\n",
        "set2.add(500)\n",
        "set2.add('Tânia')\n",
        "\n",
        "print(set2)\n",
        "\n",
        "set2.discard(500)\n",
        "# discard( ) para remover um elemento do set\n",
        "\n",
        "print(set2)\n"
      ],
      "execution_count": null,
      "outputs": [
        {
          "output_type": "stream",
          "text": [
            "{2001, 'Tânia', 500}\n",
            "{2001, 'Tânia'}\n"
          ],
          "name": "stdout"
        }
      ]
    },
    {
      "cell_type": "markdown",
      "metadata": {
        "id": "bWmKYz-3W9uX"
      },
      "source": [
        "Convertendo lista para set para que sejam removidos os elementos duplicados"
      ]
    },
    {
      "cell_type": "code",
      "metadata": {
        "id": "uKxx5B7WPwgL",
        "colab": {
          "base_uri": "https://localhost:8080/"
        },
        "outputId": "3915b83f-76eb-4487-c5f7-7cafab30984f"
      },
      "source": [
        "lista1 = [1,1,2,3,4,4,4,4,4,5,6,7,8,9,'Luiz', 'Maria', 'Carlos', 'Luiz']\n",
        "print(lista1)\n",
        "\n",
        "lista1 = set(lista1)\n",
        "# Transformando em set\n",
        "print(lista1)\n",
        "\n",
        "lista1 = list(lista1)\n",
        "# Transformando em lista novamente\n",
        "print(lista1)\n"
      ],
      "execution_count": null,
      "outputs": [
        {
          "output_type": "stream",
          "text": [
            "[1, 1, 2, 3, 4, 4, 4, 4, 4, 5, 6, 7, 8, 9, 'Luiz', 'Maria', 'Carlos', 'Luiz']\n",
            "{1, 2, 3, 4, 5, 6, 7, 8, 9, 'Carlos', 'Luiz', 'Maria'}\n",
            "[1, 2, 3, 4, 5, 6, 7, 8, 9, 'Carlos', 'Luiz', 'Maria']\n"
          ],
          "name": "stdout"
        }
      ]
    },
    {
      "cell_type": "markdown",
      "metadata": {
        "id": "nm_77C9CBAw2"
      },
      "source": [
        "Resumo de todos métodos inclusos nos built-ins"
      ]
    },
    {
      "cell_type": "code",
      "metadata": {
        "id": "9LwItqUZq260"
      },
      "source": [
        "add()\n",
        "# Adiciona um elemento ao set\n",
        "\n",
        "pop()\n",
        "# Remove um elemento específico do set\n",
        "\n",
        "remove()\n",
        "# Remove um elemento específico do set\n",
        "\n",
        "discard()\n",
        "# Remove um elemento específico do set\n",
        "\n",
        "clear()\n",
        "# Remove todos os elementos de um set\n",
        "\n",
        "copy()\n",
        "# Associado a outra variável, retorna uma cópia do set original\n",
        "\n",
        "difference()\n",
        "# Associado a outra variável, retorna um novo set contendo a diferença entre dois sets\n",
        "\n",
        "intersection()\n",
        "# Associado a outra variável, retorna um novo set contendo a interseção de dois outros sets\n",
        "\n",
        "union()\n",
        "# Retorna um set contendo a união dos elementos de dois outros sets\n",
        "\n",
        "update()\n",
        "# Atualiza um set unindo seu conteúdo original com o de outro set\n",
        "\n",
        "isdisjoint()\n",
        "# Retorna True se dois sets tem uma interseção\n",
        "\n",
        "issubset()\n",
        "# Retorna True se outro set contém os elementos do set original\n",
        "\n",
        "issuperset()\n",
        "# Retorna True se o set original contém os elementos de outro set\n"
      ],
      "execution_count": null,
      "outputs": []
    },
    {
      "cell_type": "markdown",
      "metadata": {
        "id": "an2ukGu9OZNk"
      },
      "source": [
        "## Bool"
      ]
    },
    {
      "cell_type": "markdown",
      "metadata": {
        "id": "ZQcvejHdOi3U"
      },
      "source": [
        "Tipo de dado booleano em Python"
      ]
    },
    {
      "cell_type": "code",
      "metadata": {
        "id": "41gjS27OAsFe"
      },
      "source": [
        "# Quase todo tipo de dado/valor válido será True quando verificado\n"
      ],
      "execution_count": null,
      "outputs": []
    },
    {
      "cell_type": "code",
      "metadata": {
        "id": "Fg6XwVvQAsMF",
        "colab": {
          "base_uri": "https://localhost:8080/"
        },
        "outputId": "474cfa71-eeea-4672-e750-82bdf0d1a1f5"
      },
      "source": [
        "# Qualquer string é True, exceto strings vazias\n",
        "\n",
        "print(bool('Fernando'))\n",
        "\n",
        "print(bool(''))\n"
      ],
      "execution_count": null,
      "outputs": [
        {
          "output_type": "stream",
          "text": [
            "True\n",
            "False\n"
          ],
          "name": "stdout"
        }
      ]
    },
    {
      "cell_type": "code",
      "metadata": {
        "id": "TLc6fbPGBSM7",
        "colab": {
          "base_uri": "https://localhost:8080/"
        },
        "outputId": "ab823ff1-c4e1-4796-8f9b-8ce32a007639"
      },
      "source": [
        "# Qualquer número é True, com exceção do 0\n",
        "\n",
        "print(bool(1987))\n",
        "\n",
        "print(bool(0))\n"
      ],
      "execution_count": null,
      "outputs": [
        {
          "output_type": "stream",
          "text": [
            "True\n",
            "False\n"
          ],
          "name": "stdout"
        }
      ]
    },
    {
      "cell_type": "code",
      "metadata": {
        "id": "l2L6ps46AsOc",
        "colab": {
          "base_uri": "https://localhost:8080/"
        },
        "outputId": "34b25440-22bc-46ed-cef5-1b5678bb6ec0"
      },
      "source": [
        "# Qualquer lista, tupla, set ou dicionário é True, exceto quando vazios\n",
        "\n",
        "nomes = ['Ana', 'Carolina', 'Jéssica']\n",
        "\n",
        "print(bool(nomes))\n",
        "\n",
        "lista = []\n",
        "\n",
        "print(bool(lista))\n"
      ],
      "execution_count": null,
      "outputs": [
        {
          "output_type": "stream",
          "text": [
            "True\n",
            "False\n"
          ],
          "name": "stdout"
        }
      ]
    },
    {
      "cell_type": "code",
      "metadata": {
        "id": "zPKe8HtDJxae",
        "colab": {
          "base_uri": "https://localhost:8080/"
        },
        "outputId": "d07b5acb-c331-4e0b-87ca-16f58dd8fd53"
      },
      "source": [
        "# Expressão lógica/booleana diretamente na função print( )\n",
        "\n",
        "print(bool(15 > 9))\n",
        "\n",
        "print(bool(15 < 9))\n"
      ],
      "execution_count": null,
      "outputs": [
        {
          "output_type": "stream",
          "text": [
            "True\n",
            "False\n"
          ],
          "name": "stdout"
        }
      ]
    },
    {
      "cell_type": "code",
      "metadata": {
        "id": "xzBlgwUQAsRd",
        "colab": {
          "base_uri": "https://localhost:8080/"
        },
        "outputId": "ca2b94ac-df0f-4e2e-e6a1-c246efa8c7d6"
      },
      "source": [
        "# None retorna False\n",
        "\n",
        "id = None\n",
        "\n",
        "print(bool(id))\n"
      ],
      "execution_count": null,
      "outputs": [
        {
          "output_type": "stream",
          "text": [
            "False\n"
          ],
          "name": "stdout"
        }
      ]
    },
    {
      "cell_type": "code",
      "metadata": {
        "id": "ZwowXuOKCHFe",
        "colab": {
          "base_uri": "https://localhost:8080/"
        },
        "outputId": "ad79ce30-c259-440d-fe38-ce8d0cb97bde"
      },
      "source": [
        "# Situações onde o retorno padrão (zero) é usado, será interpretado de forma\n",
        "# literal, logo, será False.\n",
        "\n",
        "class MinhaClasse():\n",
        "  def __len__(self):\n",
        "    return 0\n",
        "\n",
        "variavel1 = MinhaClasse()\n",
        "print(bool(variavel1))\n"
      ],
      "execution_count": null,
      "outputs": [
        {
          "output_type": "stream",
          "text": [
            "False\n"
          ],
          "name": "stdout"
        }
      ]
    },
    {
      "cell_type": "code",
      "metadata": {
        "id": "jNE9jPH6CHIf",
        "colab": {
          "base_uri": "https://localhost:8080/"
        },
        "outputId": "145d7ccb-15e2-443e-9251-a02b5562af53"
      },
      "source": [
        "# Funções podem retornar um booleano\n",
        "\n",
        "def minha_funcao():\n",
        "  return True\n",
        "\n",
        "print(minha_funcao())\n"
      ],
      "execution_count": null,
      "outputs": [
        {
          "output_type": "stream",
          "text": [
            "True\n"
          ],
          "name": "stdout"
        }
      ]
    },
    {
      "cell_type": "markdown",
      "metadata": {
        "id": "MXPBkgQJ4pxt"
      },
      "source": [
        "## List Comprehension"
      ]
    },
    {
      "cell_type": "markdown",
      "metadata": {
        "id": "S6s6Q1WlW9uY"
      },
      "source": [
        "Fazendo operações com elementos de uma lista usando comprehension"
      ]
    },
    {
      "cell_type": "code",
      "metadata": {
        "id": "u0g-3NCw93eE",
        "colab": {
          "base_uri": "https://localhost:8080/"
        },
        "outputId": "cc329170-7a98-4236-f184-f7f581279274"
      },
      "source": [
        "lista1 = [1,2,3,4,5,6]\n",
        "lista2 = [i * 2 for i in lista1]\n",
        "\n",
        "# Variável temporária i que percorre cada elemento da lista1 e multiplica por 2\n",
        "\n",
        "print(lista1)\n",
        "print(lista2)\n"
      ],
      "execution_count": null,
      "outputs": [
        {
          "output_type": "stream",
          "text": [
            "[1, 2, 3, 4, 5, 6]\n",
            "[2, 4, 6, 8, 10, 12]\n"
          ],
          "name": "stdout"
        }
      ]
    },
    {
      "cell_type": "markdown",
      "metadata": {
        "id": "WyJtaH65W9uc"
      },
      "source": [
        "Desmembrando uma string elemento por elemento"
      ]
    },
    {
      "cell_type": "code",
      "metadata": {
        "id": "oBOx3jfTRREC",
        "colab": {
          "base_uri": "https://localhost:8080/"
        },
        "outputId": "3ab58885-d338-44db-ecc3-828aacca19ec"
      },
      "source": [
        "string = '12345678901234567890'\n",
        "comprehension = [letra for letra in string]\n",
        "\n",
        "print(comprehension)\n"
      ],
      "execution_count": null,
      "outputs": [
        {
          "output_type": "stream",
          "text": [
            "['1', '2', '3', '4', '5', '6', '7', '8', '9', '0', '1', '2', '3', '4', '5', '6', '7', '8', '9', '0']\n"
          ],
          "name": "stdout"
        }
      ]
    },
    {
      "cell_type": "markdown",
      "metadata": {
        "id": "yoxsBSCdW9uc"
      },
      "source": [
        "Extraindo partes de uma string"
      ]
    },
    {
      "cell_type": "code",
      "metadata": {
        "id": "rn3B9xLK5Q4d",
        "colab": {
          "base_uri": "https://localhost:8080/"
        },
        "outputId": "00495d0b-66d8-45ae-a8d8-26f1a445b24f"
      },
      "source": [
        "string = '123456789012345678905925249529562956243482649287529843482548258922'\n",
        "\n",
        "print(string[0:10])\n",
        "\n",
        "print(string[10:20])\n",
        "\n",
        "print(string[20:30])\n"
      ],
      "execution_count": null,
      "outputs": [
        {
          "output_type": "stream",
          "text": [
            "1234567890\n",
            "1234567890\n",
            "5925249529\n"
          ],
          "name": "stdout"
        }
      ]
    },
    {
      "cell_type": "markdown",
      "metadata": {
        "id": "h0OGDKaFW9ud"
      },
      "source": [
        "Trabalhando com partes de uma string"
      ]
    },
    {
      "cell_type": "code",
      "metadata": {
        "id": "Qugho_vT6xOx",
        "colab": {
          "base_uri": "https://localhost:8080/"
        },
        "outputId": "a32862c6-eeb5-4075-bbc1-32603fed2660"
      },
      "source": [
        "string = '01234567890123456789012345678901234567890123456789'\n",
        "n = 10\n",
        "comp = [i for i in range(0, len(string), n)]\n",
        "# Separando a string de 10 em 10 de acordo com a variável n\n",
        "\n",
        "print(comp)\n",
        "\n",
        "comp2 = [(i, i + n) for i in range(0, len(string), n)]\n",
        "# Verificando de quanto a quanto é esse intervalo\n",
        "\n",
        "print(comp2)\n",
        "\n",
        "comp3 = [string[i:i + n] for i in range(0, len(string), n)]\n",
        "# Realizando o fatiamento de nossa string\n",
        "\n",
        "print(comp3)\n",
        "\n",
        "lista = [string[i:i + n] for i in range(0, len(string), n)]\n",
        "retorno = '.'.join(lista)\n",
        "# Caractere \".\" usado como separador. join( ) para juntar novamente os elementos da lista\n",
        "\n",
        "print(retorno)\n"
      ],
      "execution_count": null,
      "outputs": [
        {
          "output_type": "stream",
          "text": [
            "[0, 10, 20, 30, 40]\n",
            "[(0, 10), (10, 20), (20, 30), (30, 40), (40, 50)]\n",
            "['0123456789', '0123456789', '0123456789', '0123456789', '0123456789']\n",
            "0123456789.0123456789.0123456789.0123456789.0123456789\n"
          ],
          "name": "stdout"
        }
      ]
    },
    {
      "cell_type": "markdown",
      "metadata": {
        "id": "oVSzqlE4W9ue"
      },
      "source": [
        "Otimizando um código mudando sua função por uma comprehension"
      ]
    },
    {
      "cell_type": "code",
      "metadata": {
        "id": "tVTWAqlV3cVM",
        "colab": {
          "base_uri": "https://localhost:8080/"
        },
        "outputId": "da24d707-0b12-49aa-8fac-120eee716722"
      },
      "source": [
        "carrinho = []\n",
        "carrinho.append(('Item 1', 30))\n",
        "carrinho.append(('Item 2', 45))\n",
        "carrinho.append(('Item 3', 22))\n",
        "total = 0\n",
        "\n",
        "for produto in carrinho:\n",
        "  total = total + produto[1]\n",
        "  \n",
        "print('Método tradicional', total)\n"
      ],
      "execution_count": null,
      "outputs": [
        {
          "output_type": "stream",
          "text": [
            "Método tradicional 97\n"
          ],
          "name": "stdout"
        }
      ]
    },
    {
      "cell_type": "code",
      "metadata": {
        "id": "MSK9nn08W9uf",
        "colab": {
          "base_uri": "https://localhost:8080/"
        },
        "outputId": "4904d83c-2f4f-4155-ad43-c3ec58666cfa"
      },
      "source": [
        "# Mesmo que:\n",
        "\n",
        "carrinho = []\n",
        "carrinho.append(('Item 1', 30))\n",
        "carrinho.append(('Item 2', 45))\n",
        "carrinho.append(('Item 3', 22))\n",
        "total2 = []\n",
        "\n",
        "for produto in carrinho:\n",
        "  total2.append(produto[1])\n",
        "print('Usando funções internas', sum(total2))\n"
      ],
      "execution_count": null,
      "outputs": [
        {
          "output_type": "stream",
          "text": [
            "Usando funções internas 97\n"
          ],
          "name": "stdout"
        }
      ]
    },
    {
      "cell_type": "code",
      "metadata": {
        "id": "uBaK-lELW9uf",
        "colab": {
          "base_uri": "https://localhost:8080/"
        },
        "outputId": "76048299-f372-4c67-f410-c44e0d536977"
      },
      "source": [
        "# Usando list comprehension\n",
        "\n",
        "carrinho = []\n",
        "carrinho.append(('Item 1', 30))\n",
        "carrinho.append(('Item 2', 45))\n",
        "carrinho.append(('Item 3', 22))\n",
        "\n",
        "total3 = sum([y for x, y in carrinho])\n",
        "\n",
        "print(f'Usando list comprehension {total3}')\n"
      ],
      "execution_count": null,
      "outputs": [
        {
          "output_type": "stream",
          "text": [
            "Usando list comprehension 97\n"
          ],
          "name": "stdout"
        }
      ]
    },
    {
      "cell_type": "code",
      "metadata": {
        "id": "7eLsc4EuLsSh",
        "colab": {
          "base_uri": "https://localhost:8080/"
        },
        "outputId": "973d0580-46b1-4a7a-bba3-dfd3d781ea0f"
      },
      "source": [
        "# Estrutura Inicial\n",
        "\n",
        "carrinho = []\n",
        "carrinho.append(('Item 1', 30))\n",
        "carrinho.append(('Item 2', 45))\n",
        "carrinho.append(('Item 3', 22))\n",
        "carrinho.append(('Item 4', 93))\n",
        "carrinho.append(('Item 5', 6))\n",
        "total = 0\n",
        "for produto in carrinho:\n",
        "  total = total + produto[1]\n",
        "print(f'O valor total é: R$ {total}')\n",
        "\n",
        "\n",
        "# Código Otimizado\n",
        "\n",
        "total2 = sum([y for x, y in carrinho])\n",
        "print(f'O Valor total é: R$ {total2}')\n"
      ],
      "execution_count": null,
      "outputs": [
        {
          "output_type": "stream",
          "text": [
            "O valor total é: R$ 196\n",
            "O Valor total é: R$ 196\n"
          ],
          "name": "stdout"
        }
      ]
    },
    {
      "cell_type": "markdown",
      "metadata": {
        "id": "F22ir2Xa9i4c"
      },
      "source": [
        "## Dictionary Comprehension"
      ]
    },
    {
      "cell_type": "code",
      "metadata": {
        "id": "mBnrHYd88khc",
        "colab": {
          "base_uri": "https://localhost:8080/"
        },
        "outputId": "eaa1387c-13c0-4ed4-ad71-84b9c05811e9"
      },
      "source": [
        "# Basicamente a mesma lógica implementada de list comprehension,\n",
        "# mas quando temos chave:valor podemos transormar em dicionário.\n",
        "\n",
        "lista = [('chave1','chave2'), ('chave2','valor2'),('chave3','valor3')]\n",
        "\n",
        "dicionario = {x:y for x, y in lista}\n",
        "# Mesmo que dicionario = dict(lista)\n",
        "\n",
        "print(dicionario)\n"
      ],
      "execution_count": null,
      "outputs": [
        {
          "output_type": "stream",
          "text": [
            "{'chave1': 'chave2', 'chave2': 'valor2', 'chave3': 'valor3'}\n"
          ],
          "name": "stdout"
        }
      ]
    },
    {
      "cell_type": "markdown",
      "metadata": {
        "id": "HpBoS4XtW9uh"
      },
      "source": [
        "Realizando operações dentro do dicionário via comprehension"
      ]
    },
    {
      "cell_type": "code",
      "metadata": {
        "id": "GFVUdA_-_FSf",
        "colab": {
          "base_uri": "https://localhost:8080/"
        },
        "outputId": "be2f995d-fef9-4a4e-c183-36e137416918"
      },
      "source": [
        "produtos = [('Caneta',1.99), ('Lápis',1.49), ('Caderno',8.99)]\n",
        "\n",
        "produtos_com_imposto = {x:y * 1.6 for x, y in produtos}\n",
        "\n",
        "print('Preços SEM Imposto: ', produtos)\n",
        "print('Preços COM Imposto: ', produtos_com_imposto)\n"
      ],
      "execution_count": null,
      "outputs": [
        {
          "output_type": "stream",
          "text": [
            "Preços SEM Imposto:  [('Caneta', 1.99), ('Lápis', 1.49), ('Caderno', 8.99)]\n",
            "Preços COM Imposto:  {'Caneta': 3.184, 'Lápis': 2.384, 'Caderno': 14.384}\n"
          ],
          "name": "stdout"
        }
      ]
    },
    {
      "cell_type": "markdown",
      "metadata": {
        "id": "8wnr5U06B6HQ"
      },
      "source": [
        "## Geradores e Iteradores"
      ]
    },
    {
      "cell_type": "code",
      "metadata": {
        "id": "FblUVoo0AqhB",
        "colab": {
          "base_uri": "https://localhost:8080/"
        },
        "outputId": "4660e662-e1be-49cc-9b49-464b6b267004"
      },
      "source": [
        "# Um objeto iterável é aquele com que você consegue interagir \n",
        "# com cada elemento de sua composição, ex cada letra de uma string\n",
        "\n",
        "lista = [1,2,3,4]\n",
        "nome = 'Fernando'\n",
        "\n",
        "for i in lista:\n",
        "  print(i)\n",
        "  \n",
        "for j in nome:\n",
        "  print(j)\n",
        "  "
      ],
      "execution_count": null,
      "outputs": [
        {
          "output_type": "stream",
          "text": [
            "1\n",
            "2\n",
            "3\n",
            "4\n",
            "F\n",
            "e\n",
            "r\n",
            "n\n",
            "a\n",
            "n\n",
            "d\n",
            "o\n"
          ],
          "name": "stdout"
        }
      ]
    },
    {
      "cell_type": "markdown",
      "metadata": {
        "id": "BAcYl1WZW9ui"
      },
      "source": [
        "Gerador gera valores onde não existem sendo uma alternativa para otimizar o código"
      ]
    },
    {
      "cell_type": "code",
      "metadata": {
        "id": "FEUhkzV9DW2i",
        "colab": {
          "base_uri": "https://localhost:8080/"
        },
        "outputId": "74dc5fac-917e-4f42-bc66-d87f3da2098e"
      },
      "source": [
        "lista_0_a_100 = list(range(101))\n",
        "\n",
        "print(lista_0_a_100)\n"
      ],
      "execution_count": null,
      "outputs": [
        {
          "output_type": "stream",
          "text": [
            "[0, 1, 2, 3, 4, 5, 6, 7, 8, 9, 10, 11, 12, 13, 14, 15, 16, 17, 18, 19, 20, 21, 22, 23, 24, 25, 26, 27, 28, 29, 30, 31, 32, 33, 34, 35, 36, 37, 38, 39, 40, 41, 42, 43, 44, 45, 46, 47, 48, 49, 50, 51, 52, 53, 54, 55, 56, 57, 58, 59, 60, 61, 62, 63, 64, 65, 66, 67, 68, 69, 70, 71, 72, 73, 74, 75, 76, 77, 78, 79, 80, 81, 82, 83, 84, 85, 86, 87, 88, 89, 90, 91, 92, 93, 94, 95, 96, 97, 98, 99, 100]\n"
          ],
          "name": "stdout"
        }
      ]
    },
    {
      "cell_type": "code",
      "metadata": {
        "id": "YqJfmgbqD2Tv",
        "colab": {
          "base_uri": "https://localhost:8080/"
        },
        "outputId": "4e72fab5-a403-499b-be6c-e77891e3ba60"
      },
      "source": [
        "# Porém dados gerados com muitos elementos tem impacto sobre a memória\n",
        "\n",
        "import sys\n",
        "\n",
        "lista100 = list(range(101))\n",
        "listamilhao = list(range(1000001))\n",
        "\n",
        "print('Tamanho em bytes:', sys.getsizeof(lista100))\n",
        "print('Tamanho em bytes:', sys.getsizeof(listamilhao))\n"
      ],
      "execution_count": null,
      "outputs": [
        {
          "output_type": "stream",
          "text": [
            "Tamanho em bytes: 1024\n",
            "Tamanho em bytes: 9000128\n"
          ],
          "name": "stdout"
        }
      ]
    },
    {
      "cell_type": "markdown",
      "metadata": {
        "id": "VguSmkSx4xrx"
      },
      "source": [
        "## Zip"
      ]
    },
    {
      "cell_type": "markdown",
      "metadata": {
        "id": "9MqAxZqdW9uj"
      },
      "source": [
        "Iterando e unindo listas via zip( )"
      ]
    },
    {
      "cell_type": "code",
      "metadata": {
        "id": "LPv5xDIny-Pp",
        "colab": {
          "base_uri": "https://localhost:8080/"
        },
        "outputId": "c272494f-6048-4fad-b50a-fd2f4ff2ec9b"
      },
      "source": [
        "cidades = ['Porto Alegre', 'Curitiba',\n",
        "           'Salvador', 'Belo Horizonte']\n",
        "estados = ['RS', 'PR', 'BH', 'MG']\n",
        "\n",
        "cidades_estados = zip(cidades, estados)\n",
        "\n",
        "for i in cidades_estados:\n",
        "  print(i)\n",
        "\n",
        "# Pareia cada elemento de uma lista com o mesmo elemento equivalente\n",
        "# em índice de outra lista.\n"
      ],
      "execution_count": null,
      "outputs": [
        {
          "output_type": "stream",
          "text": [
            "('Porto Alegre', 'RS')\n",
            "('Curitiba', 'PR')\n",
            "('Salvador', 'BH')\n",
            "('Belo Horizonte', 'MG')\n"
          ],
          "name": "stdout"
        }
      ]
    },
    {
      "cell_type": "markdown",
      "metadata": {
        "id": "FmA3lAK9W9uk"
      },
      "source": [
        "Zip_longest para iterar e unir listas de diferentes tamanhos"
      ]
    },
    {
      "cell_type": "code",
      "metadata": {
        "colab": {
          "base_uri": "https://localhost:8080/"
        },
        "id": "PNXcSeS862s1",
        "outputId": "64b64c4d-bae8-40d6-c193-04a80e8aef6a"
      },
      "source": [
        "from itertools import zip_longest\n",
        "\n",
        "cidades = ['Porto Alegre', 'Curitiba',\n",
        "           'Salvador', 'Belo Horizonte',\n",
        "           'Rio de Janeiro', 'Goiânia']\n",
        "\n",
        "estados = ['RS', 'PR', 'BH', 'MG']\n",
        "\n",
        "cidades_estados = zip_longest(cidades, estados)\n",
        "\n",
        "cidades_estados2 = zip_longest(cidades,\n",
        "                               estados,\n",
        "                               fillvalue='Desconhecido')\n",
        "\n",
        "for i in cidades_estados:\n",
        "  print(i)\n",
        "\n",
        "for j in cidades_estados2:\n",
        "  print(j)\n",
        "  "
      ],
      "execution_count": null,
      "outputs": [
        {
          "output_type": "stream",
          "text": [
            "('Porto Alegre', 'RS')\n",
            "('Curitiba', 'PR')\n",
            "('Salvador', 'BH')\n",
            "('Belo Horizonte', 'MG')\n",
            "('Rio de Janeiro', None)\n",
            "('Goiânia', None)\n",
            "('Porto Alegre', 'RS')\n",
            "('Curitiba', 'PR')\n",
            "('Salvador', 'BH')\n",
            "('Belo Horizonte', 'MG')\n",
            "('Rio de Janeiro', 'Desconhecido')\n",
            "('Goiânia', 'Desconhecido')\n"
          ],
          "name": "stdout"
        }
      ]
    },
    {
      "cell_type": "markdown",
      "metadata": {
        "id": "w7bUz1BM8hwn"
      },
      "source": [
        "## Count"
      ]
    },
    {
      "cell_type": "markdown",
      "metadata": {
        "id": "xM4V1g1uW9ul"
      },
      "source": [
        "Usando o contador do sistema"
      ]
    },
    {
      "cell_type": "code",
      "metadata": {
        "colab": {
          "base_uri": "https://localhost:8080/"
        },
        "id": "wCxv3FQ_79xu",
        "outputId": "b5632651-5217-4dc3-be16-165551dbb4ae"
      },
      "source": [
        "from itertools import count\n",
        "contador = count()\n",
        "\n",
        "for numero in contador:\n",
        "  print(numero)\n",
        "  if numero >= 10:\n",
        "    break\n",
        "    "
      ],
      "execution_count": null,
      "outputs": [
        {
          "output_type": "stream",
          "text": [
            "0\n",
            "1\n",
            "2\n",
            "3\n",
            "4\n",
            "5\n",
            "6\n",
            "7\n",
            "8\n",
            "9\n",
            "10\n"
          ],
          "name": "stdout"
        }
      ]
    },
    {
      "cell_type": "markdown",
      "metadata": {
        "id": "n4eSLOikW9ul"
      },
      "source": [
        "Contando dentro de um intervalo personalizado"
      ]
    },
    {
      "cell_type": "code",
      "metadata": {
        "colab": {
          "base_uri": "https://localhost:8080/"
        },
        "id": "ybuTU-n8-bfa",
        "outputId": "1506fed4-484f-4011-ce77-a4ae8c6ffb5b"
      },
      "source": [
        "from itertools import count\n",
        "contador = count(start = 40)\n",
        "\n",
        "for numero in contador:\n",
        "  print(numero)\n",
        "  if numero >= 50:\n",
        "    break\n",
        "    "
      ],
      "execution_count": null,
      "outputs": [
        {
          "output_type": "stream",
          "text": [
            "40\n",
            "41\n",
            "42\n",
            "43\n",
            "44\n",
            "45\n",
            "46\n",
            "47\n",
            "48\n",
            "49\n",
            "50\n"
          ],
          "name": "stdout"
        }
      ]
    },
    {
      "cell_type": "markdown",
      "metadata": {
        "id": "MDWsJTU_W9um"
      },
      "source": [
        "Personalizando de quantos em quantos números o contador irá trabalhar"
      ]
    },
    {
      "cell_type": "code",
      "metadata": {
        "colab": {
          "base_uri": "https://localhost:8080/"
        },
        "id": "nWDr1pGbBTx_",
        "outputId": "e45a60fe-3d18-49de-83b9-0b38faf86399"
      },
      "source": [
        "from itertools import count\n",
        "contador = count(start = 0, step = 2)\n",
        "\n",
        "for numero in contador:\n",
        "  print(numero)\n",
        "  if numero >= 20:\n",
        "    break\n",
        "    "
      ],
      "execution_count": null,
      "outputs": [
        {
          "output_type": "stream",
          "text": [
            "0\n",
            "2\n",
            "4\n",
            "6\n",
            "8\n",
            "10\n",
            "12\n",
            "14\n",
            "16\n",
            "18\n",
            "20\n"
          ],
          "name": "stdout"
        }
      ]
    },
    {
      "cell_type": "markdown",
      "metadata": {
        "id": "vTHEBc8YlSKt"
      },
      "source": [
        "## Map"
      ]
    },
    {
      "cell_type": "markdown",
      "metadata": {
        "id": "CJsuGheVW9um"
      },
      "source": [
        "Aplicando uma função em cada elemento, ou linha por linha de uma lista/dicionário"
      ]
    },
    {
      "cell_type": "code",
      "metadata": {
        "colab": {
          "base_uri": "https://localhost:8080/"
        },
        "id": "eu9Xnj-glUs_",
        "outputId": "82c74413-a4a4-43e8-e24b-1f469bf515bb"
      },
      "source": [
        "lista = [1,2,3,4,5,6,7,8,9,10]\n",
        "\n",
        "nova_lista = map(lambda x: x * 2, lista)\n",
        "\n",
        "# Mesmo que:\n",
        "nova_lista2 = [x * 2 for x in lista]\n",
        "\n",
        "print(lista)\n",
        "print(list(nova_lista))\n",
        "\n",
        "print(nova_lista2)\n",
        "\n",
        "# map( ) permite iterar individualmente sobre cada elemento de um\n",
        "# contêiner de dados.\n"
      ],
      "execution_count": null,
      "outputs": [
        {
          "output_type": "stream",
          "text": [
            "[1, 2, 3, 4, 5, 6, 7, 8, 9, 10]\n",
            "[2, 4, 6, 8, 10, 12, 14, 16, 18, 20]\n",
            "[2, 4, 6, 8, 10, 12, 14, 16, 18, 20]\n"
          ],
          "name": "stdout"
        }
      ]
    },
    {
      "cell_type": "code",
      "metadata": {
        "id": "jslAZaXWVcIs",
        "colab": {
          "base_uri": "https://localhost:8080/"
        },
        "outputId": "3464fe88-a02f-422c-ce21-021a367e261e"
      },
      "source": [
        "lista = [1,2,3,4,5,6,7,8,9,10]\n",
        "\n",
        "nova_lista = map(lambda x: x * 2, lista)\n",
        "# map( ) recebe como parâmetros em justaposição uma função (podendo ser lambda)\n",
        "# seguido de uma variável onde irá iterar sobre seus dados.\n",
        "\n",
        "# Mesmo que:\n",
        "nova_lista2 = [x * 2 for x in lista]\n",
        "\n",
        "print(lista)\n",
        "print(list(nova_lista))\n",
        "\n",
        "print(nova_lista2)\n"
      ],
      "execution_count": null,
      "outputs": [
        {
          "output_type": "stream",
          "text": [
            "[1, 2, 3, 4, 5, 6, 7, 8, 9, 10]\n",
            "[2, 4, 6, 8, 10, 12, 14, 16, 18, 20]\n",
            "[2, 4, 6, 8, 10, 12, 14, 16, 18, 20]\n"
          ],
          "name": "stdout"
        }
      ]
    },
    {
      "cell_type": "markdown",
      "metadata": {
        "id": "We89pkemW9un"
      },
      "source": [
        "Usando map( ) para extrair dados de um dicionário"
      ]
    },
    {
      "cell_type": "code",
      "metadata": {
        "colab": {
          "base_uri": "https://localhost:8080/"
        },
        "id": "UgZB3iOAr3Vk",
        "outputId": "30b9e003-9cee-4db0-c3e8-36ca15d2c3bd"
      },
      "source": [
        "produtos = [\n",
        "            {'nome': 'item 1', 'preco': 32},\n",
        "            {'nome': 'item 2', 'preco': 23},\n",
        "            {'nome': 'item 3', 'preco': 12},\n",
        "            {'nome': 'item 4', 'preco': 10},\n",
        "            {'nome': 'item 5', 'preco': 55},\n",
        "]\n",
        "\n",
        "precos = map(lambda p: p['preco'], produtos)\n",
        "# Combinando map( ) com lambda, extraindo dado por dado apenas do campo 'preco'\n",
        "\n",
        "for preco in precos:\n",
        "  print(preco)\n",
        "  "
      ],
      "execution_count": null,
      "outputs": [
        {
          "output_type": "stream",
          "text": [
            "32\n",
            "23\n",
            "12\n",
            "10\n",
            "55\n"
          ],
          "name": "stdout"
        }
      ]
    },
    {
      "cell_type": "markdown",
      "metadata": {
        "id": "Awodoj7BW9un"
      },
      "source": [
        "Usando uma função ativa no lugar da lambda (que é uma função vazia)"
      ]
    },
    {
      "cell_type": "code",
      "metadata": {
        "colab": {
          "base_uri": "https://localhost:8080/"
        },
        "id": "kN9e7CDStmDI",
        "outputId": "83b20d92-4425-41a9-d9ae-da3ac6e316fc"
      },
      "source": [
        "def aumenta_precos(p):\n",
        "  p['preco'] = p['preco'] * 1.05\n",
        "  return p\n",
        "\n",
        "precos2 = map(aumenta_precos, produtos)\n",
        "# Função aumenta_precos( ) como parâmetro de map( )\n",
        "\n",
        "for produto in precos2:\n",
        "  print(produto)\n",
        "  "
      ],
      "execution_count": null,
      "outputs": [
        {
          "output_type": "stream",
          "text": [
            "{'nome': 'item 1', 'preco': 33.6}\n",
            "{'nome': 'item 2', 'preco': 24.150000000000002}\n",
            "{'nome': 'item 3', 'preco': 12.600000000000001}\n",
            "{'nome': 'item 4', 'preco': 10.5}\n",
            "{'nome': 'item 5', 'preco': 57.75}\n"
          ],
          "name": "stdout"
        }
      ]
    },
    {
      "cell_type": "markdown",
      "metadata": {
        "id": "zbnEjo1g3vmr"
      },
      "source": [
        "## Filter"
      ]
    },
    {
      "cell_type": "markdown",
      "metadata": {
        "id": "8qNKWjx3W9uo"
      },
      "source": [
        "Aplicando funções sobre dados usando de lógica condicional"
      ]
    },
    {
      "cell_type": "code",
      "metadata": {
        "id": "D_AchhbI3y2f",
        "colab": {
          "base_uri": "https://localhost:8080/"
        },
        "outputId": "d4f91329-9f8f-4238-ff8c-1a5b00441118"
      },
      "source": [
        "pessoas = [\n",
        "           {'nome': 'Ana', 'idade': 22},\n",
        "           {'nome': 'Maria', 'idade': 72},\n",
        "           {'nome': 'Paulo', 'idade': 55},\n",
        "           {'nome': 'Pedro', 'idade': 68},\n",
        "           {'nome': 'Rafael', 'idade': 99},\n",
        "           {'nome': 'Tania', 'idade': 18},\n",
        "]\n",
        "\n",
        "idosos = filter(lambda x: x['idade'] > 70, pessoas)\n",
        "# filter( ) pode receber como parâmetro uma função associada a uma\n",
        "# expressão lógica, iterando individualmente sobre os elementos de\n",
        "# um contêiner de dados.\n",
        "\n",
        "print(list(idosos))\n"
      ],
      "execution_count": null,
      "outputs": [
        {
          "output_type": "stream",
          "text": [
            "[{'nome': 'Maria', 'idade': 72}, {'nome': 'Rafael', 'idade': 99}]\n"
          ],
          "name": "stdout"
        }
      ]
    },
    {
      "cell_type": "code",
      "metadata": {
        "id": "2sBLIM9z5Rhj",
        "colab": {
          "base_uri": "https://localhost:8080/"
        },
        "outputId": "562defde-6168-4a76-991a-ab9f1f6f4e06"
      },
      "source": [
        "produtos2 = [\n",
        "            {'nome': 'item 1', 'preco': 32},\n",
        "            {'nome': 'item 2', 'preco': 23},\n",
        "            {'nome': 'item 3', 'preco': 62},\n",
        "            {'nome': 'item 4', 'preco': 10},\n",
        "            {'nome': 'item 5', 'preco': 55},\n",
        "]\n",
        "\n",
        "def filtra(p):\n",
        "  if p['preco'] > 50:\n",
        "    return True\n",
        "\n",
        "nova_lista3 = filter(filtra, produtos2)\n",
        "for produtox in nova_lista3:\n",
        "  print(produtox)\n",
        "\n",
        "# É perfeitamente possível usar de uma função externa como parâmetro\n",
        "# de filter( ).\n"
      ],
      "execution_count": null,
      "outputs": [
        {
          "output_type": "stream",
          "text": [
            "{'nome': 'item 3', 'preco': 62}\n",
            "{'nome': 'item 5', 'preco': 55}\n"
          ],
          "name": "stdout"
        }
      ]
    },
    {
      "cell_type": "markdown",
      "metadata": {
        "id": "WEQ-TVKCyXSM"
      },
      "source": [
        "## Reduce"
      ]
    },
    {
      "cell_type": "code",
      "metadata": {
        "id": "3kkHZxShyZNV",
        "colab": {
          "base_uri": "https://localhost:8080/"
        },
        "outputId": "5493ebe8-7a8e-4628-e82d-5f99fa9259ac"
      },
      "source": [
        "from functools import reduce\n",
        "\n",
        "def soma(num1, num2):\n",
        "  return num1 + num2\n",
        "\n",
        "lista = [1,2,3,4,5,6,7,8,9,10]\n",
        "\n",
        "resultado = reduce(soma, lista)\n",
        "\n",
        "print(resultado)\n",
        "\n",
        "# reduce( ) \"reduz\" todo um conjunto de elementos de um contêiner de dados\n",
        "# a um elemento único, resultado da soma de todos os elementos de um contêiner\n",
        "# de dados.\n"
      ],
      "execution_count": null,
      "outputs": [
        {
          "output_type": "stream",
          "text": [
            "55\n"
          ],
          "name": "stdout"
        }
      ]
    },
    {
      "cell_type": "markdown",
      "metadata": {
        "id": "IK7V16_MD-Cu"
      },
      "source": [
        "## Break e Continue"
      ]
    },
    {
      "cell_type": "markdown",
      "metadata": {
        "id": "bBAKHGKPl8Fi"
      },
      "source": [
        "Break e Continue"
      ]
    },
    {
      "cell_type": "code",
      "metadata": {
        "id": "3n1LSSMXYRdw",
        "colab": {
          "base_uri": "https://localhost:8080/"
        },
        "outputId": "dc6c5bed-1cf0-406a-e0ff-1f12d5f21792"
      },
      "source": [
        "# break\n",
        "\n",
        "numeros = (1,2,3,4,5,6,7,8,9,10,11,12,13,14,15)\n",
        "\n",
        "for i in numeros:\n",
        "    print(i)\n",
        "    if i == 10:\n",
        "        break\n",
        "    "
      ],
      "execution_count": null,
      "outputs": [
        {
          "output_type": "stream",
          "text": [
            "1\n",
            "2\n",
            "3\n",
            "4\n",
            "5\n",
            "6\n",
            "7\n",
            "8\n",
            "9\n",
            "10\n"
          ],
          "name": "stdout"
        }
      ]
    },
    {
      "cell_type": "code",
      "metadata": {
        "id": "iFyvq4sXYRf7",
        "colab": {
          "base_uri": "https://localhost:8080/"
        },
        "outputId": "12c10781-9918-48a3-8ed8-e9254542f712"
      },
      "source": [
        "# continue define espaços onde elementos vão ser ignorados, não alterando a repetição do laço\n",
        "\n",
        "numeros = (1,2,3,4,5,6,7,8,9,10,11,12,13,14,15)\n",
        "\n",
        "for i in numeros:\n",
        "    if i == 4 or i == 8:\n",
        "        continue\n",
        "    print(i)\n",
        "    if i == 10:\n",
        "        break\n"
      ],
      "execution_count": null,
      "outputs": [
        {
          "output_type": "stream",
          "text": [
            "1\n",
            "2\n",
            "3\n",
            "5\n",
            "6\n",
            "7\n",
            "9\n",
            "10\n"
          ],
          "name": "stdout"
        }
      ]
    },
    {
      "cell_type": "markdown",
      "metadata": {
        "id": "c5X6wEutm-Xd"
      },
      "source": [
        "Laço for + else para criar encerramento de looping mais elaborado"
      ]
    },
    {
      "cell_type": "code",
      "metadata": {
        "colab": {
          "base_uri": "https://localhost:8080/"
        },
        "id": "ChIRXzN5YRiF",
        "outputId": "4289d826-d47b-4846-912a-01fbc26a2e32"
      },
      "source": [
        "for i in range(11):\n",
        "    print(i)\n",
        "else:\n",
        "    print('Contagem concluída')\n",
        "    "
      ],
      "execution_count": null,
      "outputs": [
        {
          "output_type": "stream",
          "text": [
            "0\n",
            "1\n",
            "2\n",
            "3\n",
            "4\n",
            "5\n",
            "6\n",
            "7\n",
            "8\n",
            "9\n",
            "10\n",
            "Contagem concluída\n"
          ],
          "name": "stdout"
        }
      ]
    },
    {
      "cell_type": "code",
      "metadata": {
        "colab": {
          "base_uri": "https://localhost:8080/"
        },
        "id": "MH4R1wkimBAt",
        "outputId": "e57c03ea-bd8b-4d14-b531-ca7a462b7529"
      },
      "source": [
        "# caso seja usado um break, o else não será executado\n",
        "\n",
        "for i in range(11):\n",
        "    print(i)\n",
        "    if i == 10:\n",
        "        break\n",
        "else:\n",
        "    print('Contagem concluída')\n"
      ],
      "execution_count": null,
      "outputs": [
        {
          "output_type": "stream",
          "text": [
            "0\n",
            "1\n",
            "2\n",
            "3\n",
            "4\n",
            "5\n",
            "6\n",
            "7\n",
            "8\n",
            "9\n",
            "10\n"
          ],
          "name": "stdout"
        }
      ]
    },
    {
      "cell_type": "code",
      "metadata": {
        "colab": {
          "base_uri": "https://localhost:8080/"
        },
        "id": "Q5rWIoMRmBDK",
        "outputId": "12302759-b85e-4657-f81c-4c85ea7670fe"
      },
      "source": [
        "# break também pode servir como validador para certos casos\n",
        "\n",
        "numeros = [1,2,3,4,5,6,7,8,9,10]\n",
        "\n",
        "for i in numeros:\n",
        "    if type(i) is not int:\n",
        "        print(i)\n",
        "        break\n",
        "else:\n",
        "    print('Números inteiros válidos')\n",
        "    "
      ],
      "execution_count": null,
      "outputs": [
        {
          "output_type": "stream",
          "text": [
            "Números inteiros válidos\n"
          ],
          "name": "stdout"
        }
      ]
    },
    {
      "cell_type": "code",
      "metadata": {
        "colab": {
          "base_uri": "https://localhost:8080/"
        },
        "id": "rtp_876DmBFL",
        "outputId": "e0cb0ba8-54ab-46b9-c19f-c233e69eeaeb"
      },
      "source": [
        "# simulando o erro\n",
        "numeros = [1,a,2,b,3,c,4,d,5,e]\n",
        "\n",
        "for i in numeros:\n",
        "    if type(i) is not int:\n",
        "        print('Números inválidos')\n",
        "        break\n",
        "else:\n",
        "    print('Números inteiros válidos')\n",
        "    "
      ],
      "execution_count": null,
      "outputs": [
        {
          "output_type": "stream",
          "text": [
            "Números inválidos\n"
          ],
          "name": "stdout"
        }
      ]
    },
    {
      "cell_type": "markdown",
      "metadata": {
        "id": "A6G-R5Tjo2zx"
      },
      "source": [
        "While True + break"
      ]
    },
    {
      "cell_type": "code",
      "metadata": {
        "colab": {
          "base_uri": "https://localhost:8080/"
        },
        "id": "_Mi7LDuimBHc",
        "outputId": "fe8547d1-78c6-48df-97b8-840fe962e86c"
      },
      "source": [
        "valor_inicial = 20\n",
        "\n",
        "while True:\n",
        "    valor_inicial = valor_inicial -1\n",
        "    print(valor_inicial)\n",
        "    if valor_inicial < 10:\n",
        "        break\n",
        "print('Concluído')\n"
      ],
      "execution_count": null,
      "outputs": [
        {
          "output_type": "stream",
          "text": [
            "19\n",
            "18\n",
            "17\n",
            "16\n",
            "15\n",
            "14\n",
            "13\n",
            "12\n",
            "11\n",
            "10\n",
            "9\n",
            "Concluído\n"
          ],
          "name": "stdout"
        }
      ]
    },
    {
      "cell_type": "markdown",
      "metadata": {
        "id": "tGjqW-GC8oxd"
      },
      "source": [
        "## Try, Except"
      ]
    },
    {
      "cell_type": "markdown",
      "metadata": {
        "id": "8dsi0AjPW9up"
      },
      "source": [
        "Tratando exceções para que não se interrompa a execução de um código"
      ]
    },
    {
      "cell_type": "code",
      "metadata": {
        "id": "-OloVsoX8sfy"
      },
      "source": [
        "try:\n",
        "  print(a)\n",
        "except:\n",
        "  pass\n",
        "  \n",
        "# Nesse caso nada acontecerá, mas também não acontecerá um erro ou\n",
        "# interrupção em função de não conseguir executar o comando print(a).\n"
      ],
      "execution_count": null,
      "outputs": []
    },
    {
      "cell_type": "code",
      "metadata": {
        "id": "PB5_FyFOQ9ls",
        "colab": {
          "base_uri": "https://localhost:8080/"
        },
        "outputId": "22edf4b0-7547-42b8-973f-9185d3dedd03"
      },
      "source": [
        "try:\n",
        "  print(av)\n",
        "except:\n",
        "  print('A Variável Não Existe!!!')\n",
        "\n",
        "# Como a tentativa de exibir o conteúdo de av não obteve sucesso, então\n",
        "# via except é exibida em tela uma mensagem de erro.\n"
      ],
      "execution_count": null,
      "outputs": [
        {
          "output_type": "stream",
          "text": [
            "A Variável Não Existe!!!\n"
          ],
          "name": "stdout"
        }
      ]
    },
    {
      "cell_type": "markdown",
      "metadata": {
        "id": "2kBLhufGW9uq"
      },
      "source": [
        "Exibindo que erro específico ocorreu"
      ]
    },
    {
      "cell_type": "code",
      "metadata": {
        "id": "FDE4nAIY9IvA",
        "colab": {
          "base_uri": "https://localhost:8080/"
        },
        "outputId": "a0ae6457-ebaf-48ff-8a5e-8b93e6d970e9"
      },
      "source": [
        "try:\n",
        "  print(ax)\n",
        "except NameError as erro:\n",
        "  print('Ocorreu um erro:', erro)\n"
      ],
      "execution_count": null,
      "outputs": [
        {
          "output_type": "stream",
          "text": [
            "Ocorreu um erro: name 'ax' is not defined\n"
          ],
          "name": "stdout"
        }
      ]
    },
    {
      "cell_type": "markdown",
      "metadata": {
        "id": "m3xNPGZGMyXC"
      },
      "source": [
        "## Asserções"
      ]
    },
    {
      "cell_type": "code",
      "metadata": {
        "id": "mNU5nT1SpbZg",
        "colab": {
          "base_uri": "https://localhost:8080/",
          "height": 338
        },
        "outputId": "f8055365-3060-4aef-bd3f-7b507c6771d6"
      },
      "source": [
        "# Gera uma exceção personalizada, e sua declaração é reduzida se comparado\n",
        "# a outras estruturas de validação de erros.\n",
        "\n",
        "def cadastro(nome, idade):\n",
        "  assert idade >= 18 and idade <= 65, 'Idade do funcionário deve estar entre 18 e 65 anos.'\n",
        "  print(f'{nome} está em idade ativa, pois possui {idade} anos.')\n",
        "\n",
        "idade = 71\n",
        "nome = 'Fernando'\n",
        "\n",
        "verificador = cadastro(nome, idade)\n"
      ],
      "execution_count": null,
      "outputs": [
        {
          "output_type": "error",
          "ename": "AssertionError",
          "evalue": "ignored",
          "traceback": [
            "\u001b[0;31m---------------------------------------------------------------------------\u001b[0m",
            "\u001b[0;31mAssertionError\u001b[0m                            Traceback (most recent call last)",
            "\u001b[0;32m<ipython-input-302-e2ce4e7789e6>\u001b[0m in \u001b[0;36m<module>\u001b[0;34m()\u001b[0m\n\u001b[1;32m      9\u001b[0m \u001b[0mnome\u001b[0m \u001b[0;34m=\u001b[0m \u001b[0;34m'Fernando'\u001b[0m\u001b[0;34m\u001b[0m\u001b[0;34m\u001b[0m\u001b[0m\n\u001b[1;32m     10\u001b[0m \u001b[0;34m\u001b[0m\u001b[0m\n\u001b[0;32m---> 11\u001b[0;31m \u001b[0mverificador\u001b[0m \u001b[0;34m=\u001b[0m \u001b[0mcadastro\u001b[0m\u001b[0;34m(\u001b[0m\u001b[0mnome\u001b[0m\u001b[0;34m,\u001b[0m \u001b[0midade\u001b[0m\u001b[0;34m)\u001b[0m\u001b[0;34m\u001b[0m\u001b[0;34m\u001b[0m\u001b[0m\n\u001b[0m",
            "\u001b[0;32m<ipython-input-302-e2ce4e7789e6>\u001b[0m in \u001b[0;36mcadastro\u001b[0;34m(nome, idade)\u001b[0m\n\u001b[1;32m      3\u001b[0m \u001b[0;34m\u001b[0m\u001b[0m\n\u001b[1;32m      4\u001b[0m \u001b[0;32mdef\u001b[0m \u001b[0mcadastro\u001b[0m\u001b[0;34m(\u001b[0m\u001b[0mnome\u001b[0m\u001b[0;34m,\u001b[0m \u001b[0midade\u001b[0m\u001b[0;34m)\u001b[0m\u001b[0;34m:\u001b[0m\u001b[0;34m\u001b[0m\u001b[0;34m\u001b[0m\u001b[0m\n\u001b[0;32m----> 5\u001b[0;31m   \u001b[0;32massert\u001b[0m \u001b[0midade\u001b[0m \u001b[0;34m>=\u001b[0m \u001b[0;36m18\u001b[0m \u001b[0;32mand\u001b[0m \u001b[0midade\u001b[0m \u001b[0;34m<=\u001b[0m \u001b[0;36m65\u001b[0m\u001b[0;34m,\u001b[0m \u001b[0;34m'Idade do funcionário deve estar entre 18 e 65 anos.'\u001b[0m\u001b[0;34m\u001b[0m\u001b[0;34m\u001b[0m\u001b[0m\n\u001b[0m\u001b[1;32m      6\u001b[0m   \u001b[0mprint\u001b[0m\u001b[0;34m(\u001b[0m\u001b[0;34mf'{nome} está em idade ativa, pois possui {idade} anos.'\u001b[0m\u001b[0;34m)\u001b[0m\u001b[0;34m\u001b[0m\u001b[0;34m\u001b[0m\u001b[0m\n\u001b[1;32m      7\u001b[0m \u001b[0;34m\u001b[0m\u001b[0m\n",
            "\u001b[0;31mAssertionError\u001b[0m: Idade do funcionário deve estar entre 18 e 65 anos."
          ]
        }
      ]
    },
    {
      "cell_type": "markdown",
      "metadata": {
        "id": "nH6Kv_JPFSlE"
      },
      "source": [
        "## Bibliotecas, Módulos e Pacotes"
      ]
    },
    {
      "cell_type": "markdown",
      "metadata": {
        "id": "HfyUEiskW9uq"
      },
      "source": [
        "Função dir( ) exibe quais bibliotecas, módulos e pacotes foram carregados por padrão"
      ]
    },
    {
      "cell_type": "code",
      "metadata": {
        "id": "ZIjC9EZ3uC4k",
        "colab": {
          "base_uri": "https://localhost:8080/"
        },
        "outputId": "cca7bdf4-3a80-4edf-8ab9-cbe0bbde8343"
      },
      "source": [
        "dir()\n"
      ],
      "execution_count": null,
      "outputs": [
        {
          "output_type": "execute_result",
          "data": {
            "text/plain": [
              "['In',\n",
              " 'MinhaClasse',\n",
              " 'Out',\n",
              " '_',\n",
              " '_204',\n",
              " '_205',\n",
              " '_24',\n",
              " '__',\n",
              " '___',\n",
              " '__builtin__',\n",
              " '__builtins__',\n",
              " '__doc__',\n",
              " '__loader__',\n",
              " '__name__',\n",
              " '__package__',\n",
              " '__spec__',\n",
              " '_dh',\n",
              " '_i',\n",
              " '_i1',\n",
              " '_i10',\n",
              " '_i100',\n",
              " '_i101',\n",
              " '_i102',\n",
              " '_i103',\n",
              " '_i104',\n",
              " '_i105',\n",
              " '_i106',\n",
              " '_i107',\n",
              " '_i108',\n",
              " '_i109',\n",
              " '_i11',\n",
              " '_i110',\n",
              " '_i111',\n",
              " '_i112',\n",
              " '_i113',\n",
              " '_i114',\n",
              " '_i115',\n",
              " '_i116',\n",
              " '_i117',\n",
              " '_i118',\n",
              " '_i119',\n",
              " '_i12',\n",
              " '_i120',\n",
              " '_i121',\n",
              " '_i122',\n",
              " '_i123',\n",
              " '_i124',\n",
              " '_i125',\n",
              " '_i126',\n",
              " '_i127',\n",
              " '_i128',\n",
              " '_i129',\n",
              " '_i13',\n",
              " '_i130',\n",
              " '_i131',\n",
              " '_i132',\n",
              " '_i133',\n",
              " '_i134',\n",
              " '_i135',\n",
              " '_i136',\n",
              " '_i137',\n",
              " '_i138',\n",
              " '_i139',\n",
              " '_i14',\n",
              " '_i140',\n",
              " '_i141',\n",
              " '_i142',\n",
              " '_i143',\n",
              " '_i144',\n",
              " '_i145',\n",
              " '_i146',\n",
              " '_i147',\n",
              " '_i148',\n",
              " '_i149',\n",
              " '_i15',\n",
              " '_i150',\n",
              " '_i151',\n",
              " '_i152',\n",
              " '_i153',\n",
              " '_i154',\n",
              " '_i155',\n",
              " '_i156',\n",
              " '_i157',\n",
              " '_i158',\n",
              " '_i159',\n",
              " '_i16',\n",
              " '_i160',\n",
              " '_i161',\n",
              " '_i162',\n",
              " '_i163',\n",
              " '_i164',\n",
              " '_i165',\n",
              " '_i166',\n",
              " '_i167',\n",
              " '_i168',\n",
              " '_i169',\n",
              " '_i17',\n",
              " '_i170',\n",
              " '_i171',\n",
              " '_i172',\n",
              " '_i173',\n",
              " '_i174',\n",
              " '_i175',\n",
              " '_i176',\n",
              " '_i177',\n",
              " '_i178',\n",
              " '_i179',\n",
              " '_i18',\n",
              " '_i180',\n",
              " '_i181',\n",
              " '_i182',\n",
              " '_i183',\n",
              " '_i184',\n",
              " '_i185',\n",
              " '_i186',\n",
              " '_i187',\n",
              " '_i188',\n",
              " '_i189',\n",
              " '_i19',\n",
              " '_i190',\n",
              " '_i191',\n",
              " '_i192',\n",
              " '_i193',\n",
              " '_i194',\n",
              " '_i195',\n",
              " '_i196',\n",
              " '_i197',\n",
              " '_i198',\n",
              " '_i199',\n",
              " '_i2',\n",
              " '_i20',\n",
              " '_i200',\n",
              " '_i201',\n",
              " '_i202',\n",
              " '_i203',\n",
              " '_i204',\n",
              " '_i205',\n",
              " '_i206',\n",
              " '_i207',\n",
              " '_i208',\n",
              " '_i209',\n",
              " '_i21',\n",
              " '_i210',\n",
              " '_i211',\n",
              " '_i212',\n",
              " '_i213',\n",
              " '_i214',\n",
              " '_i215',\n",
              " '_i216',\n",
              " '_i217',\n",
              " '_i218',\n",
              " '_i219',\n",
              " '_i22',\n",
              " '_i220',\n",
              " '_i221',\n",
              " '_i222',\n",
              " '_i223',\n",
              " '_i224',\n",
              " '_i225',\n",
              " '_i226',\n",
              " '_i227',\n",
              " '_i228',\n",
              " '_i229',\n",
              " '_i23',\n",
              " '_i230',\n",
              " '_i231',\n",
              " '_i232',\n",
              " '_i233',\n",
              " '_i234',\n",
              " '_i235',\n",
              " '_i236',\n",
              " '_i237',\n",
              " '_i238',\n",
              " '_i239',\n",
              " '_i24',\n",
              " '_i240',\n",
              " '_i241',\n",
              " '_i242',\n",
              " '_i243',\n",
              " '_i244',\n",
              " '_i245',\n",
              " '_i246',\n",
              " '_i247',\n",
              " '_i248',\n",
              " '_i249',\n",
              " '_i25',\n",
              " '_i250',\n",
              " '_i251',\n",
              " '_i252',\n",
              " '_i253',\n",
              " '_i254',\n",
              " '_i255',\n",
              " '_i256',\n",
              " '_i257',\n",
              " '_i258',\n",
              " '_i259',\n",
              " '_i26',\n",
              " '_i260',\n",
              " '_i261',\n",
              " '_i262',\n",
              " '_i263',\n",
              " '_i264',\n",
              " '_i265',\n",
              " '_i266',\n",
              " '_i267',\n",
              " '_i268',\n",
              " '_i269',\n",
              " '_i27',\n",
              " '_i270',\n",
              " '_i271',\n",
              " '_i272',\n",
              " '_i273',\n",
              " '_i274',\n",
              " '_i275',\n",
              " '_i276',\n",
              " '_i277',\n",
              " '_i278',\n",
              " '_i279',\n",
              " '_i28',\n",
              " '_i280',\n",
              " '_i281',\n",
              " '_i282',\n",
              " '_i283',\n",
              " '_i284',\n",
              " '_i285',\n",
              " '_i286',\n",
              " '_i287',\n",
              " '_i288',\n",
              " '_i289',\n",
              " '_i29',\n",
              " '_i290',\n",
              " '_i291',\n",
              " '_i292',\n",
              " '_i293',\n",
              " '_i294',\n",
              " '_i295',\n",
              " '_i296',\n",
              " '_i297',\n",
              " '_i298',\n",
              " '_i299',\n",
              " '_i3',\n",
              " '_i30',\n",
              " '_i300',\n",
              " '_i301',\n",
              " '_i302',\n",
              " '_i303',\n",
              " '_i31',\n",
              " '_i32',\n",
              " '_i33',\n",
              " '_i34',\n",
              " '_i35',\n",
              " '_i36',\n",
              " '_i37',\n",
              " '_i38',\n",
              " '_i39',\n",
              " '_i4',\n",
              " '_i40',\n",
              " '_i41',\n",
              " '_i42',\n",
              " '_i43',\n",
              " '_i44',\n",
              " '_i45',\n",
              " '_i46',\n",
              " '_i47',\n",
              " '_i48',\n",
              " '_i49',\n",
              " '_i5',\n",
              " '_i50',\n",
              " '_i51',\n",
              " '_i52',\n",
              " '_i53',\n",
              " '_i54',\n",
              " '_i55',\n",
              " '_i56',\n",
              " '_i57',\n",
              " '_i58',\n",
              " '_i59',\n",
              " '_i6',\n",
              " '_i60',\n",
              " '_i61',\n",
              " '_i62',\n",
              " '_i63',\n",
              " '_i64',\n",
              " '_i65',\n",
              " '_i66',\n",
              " '_i67',\n",
              " '_i68',\n",
              " '_i69',\n",
              " '_i7',\n",
              " '_i70',\n",
              " '_i71',\n",
              " '_i72',\n",
              " '_i73',\n",
              " '_i74',\n",
              " '_i75',\n",
              " '_i76',\n",
              " '_i77',\n",
              " '_i78',\n",
              " '_i79',\n",
              " '_i8',\n",
              " '_i80',\n",
              " '_i81',\n",
              " '_i82',\n",
              " '_i83',\n",
              " '_i84',\n",
              " '_i85',\n",
              " '_i86',\n",
              " '_i87',\n",
              " '_i88',\n",
              " '_i89',\n",
              " '_i9',\n",
              " '_i90',\n",
              " '_i91',\n",
              " '_i92',\n",
              " '_i93',\n",
              " '_i94',\n",
              " '_i95',\n",
              " '_i96',\n",
              " '_i97',\n",
              " '_i98',\n",
              " '_i99',\n",
              " '_ih',\n",
              " '_ii',\n",
              " '_iii',\n",
              " '_oh',\n",
              " '_sh',\n",
              " 'a',\n",
              " 'a1',\n",
              " 'agua',\n",
              " 'alerta',\n",
              " 'altura',\n",
              " 'aluguel',\n",
              " 'animal',\n",
              " 'ano_nasc',\n",
              " 'ano_nasc2',\n",
              " 'argumentos',\n",
              " 'aumenta_precos',\n",
              " 'aumento_percentual',\n",
              " 'aviso',\n",
              " 'b',\n",
              " 'base',\n",
              " 'c',\n",
              " 'c1',\n",
              " 'c2',\n",
              " 'c3',\n",
              " 'cadastro',\n",
              " 'calca',\n",
              " 'calculo',\n",
              " 'camisa',\n",
              " 'carrinho',\n",
              " 'cidades',\n",
              " 'cidades_estados',\n",
              " 'cidades_estados2',\n",
              " 'cj1',\n",
              " 'cj2',\n",
              " 'codigo',\n",
              " 'codigo1',\n",
              " 'codigo2',\n",
              " 'comp',\n",
              " 'comp2',\n",
              " 'comp3',\n",
              " 'compras',\n",
              " 'comprehension',\n",
              " 'condicao1',\n",
              " 'conjunto1',\n",
              " 'conjunto2',\n",
              " 'conjunto3',\n",
              " 'contador',\n",
              " 'cor1',\n",
              " 'cor2',\n",
              " 'cores',\n",
              " 'count',\n",
              " 'd3',\n",
              " 'd4',\n",
              " 'dicionario',\n",
              " 'dicionario1',\n",
              " 'dicionario2',\n",
              " 'dict',\n",
              " 'dict1',\n",
              " 'dict_chaves',\n",
              " 'divisao',\n",
              " 'elemento',\n",
              " 'energia',\n",
              " 'equacao',\n",
              " 'estados',\n",
              " 'executa',\n",
              " 'exibe_mensagem',\n",
              " 'exit',\n",
              " 'exp',\n",
              " 'fatura',\n",
              " 'filtra',\n",
              " 'fizz_buzz',\n",
              " 'frase1',\n",
              " 'frase2',\n",
              " 'frase3',\n",
              " 'funcao',\n",
              " 'funcao1',\n",
              " 'funcao2',\n",
              " 'funcionarias_mulheres',\n",
              " 'funcionarios_homens',\n",
              " 'get_ipython',\n",
              " 'i',\n",
              " 'id',\n",
              " 'idade',\n",
              " 'idosos',\n",
              " 'intersecao',\n",
              " 'intersecao2',\n",
              " 'itens',\n",
              " 'j',\n",
              " 'k',\n",
              " 'l',\n",
              " 'largura',\n",
              " 'letras',\n",
              " 'lista',\n",
              " 'lista1',\n",
              " 'lista100',\n",
              " 'lista2',\n",
              " 'lista5',\n",
              " 'lista6',\n",
              " 'lista_0_a_100',\n",
              " 'lista_compras',\n",
              " 'listamilhao',\n",
              " 'login',\n",
              " 'm',\n",
              " 'mensagem',\n",
              " 'mensagem1',\n",
              " 'mercadoria',\n",
              " 'mestre',\n",
              " 'minha_funcao',\n",
              " 'modificador',\n",
              " 'msg',\n",
              " 'msg_boas_vindas',\n",
              " 'n',\n",
              " 'n1',\n",
              " 'n2',\n",
              " 'n_indice',\n",
              " 'nome',\n",
              " 'nome1',\n",
              " 'nome2',\n",
              " 'nome3',\n",
              " 'nome4',\n",
              " 'nome_da_funcao',\n",
              " 'nome_de_variavel',\n",
              " 'nomes',\n",
              " 'nova_lista',\n",
              " 'nova_lista2',\n",
              " 'nova_lista3',\n",
              " 'num',\n",
              " 'num1',\n",
              " 'num2',\n",
              " 'num3',\n",
              " 'num4',\n",
              " 'numero',\n",
              " 'numero3',\n",
              " 'o',\n",
              " 'palavra1',\n",
              " 'palavra2',\n",
              " 'pessoa',\n",
              " 'pessoas',\n",
              " 'pessoas1',\n",
              " 'pessoas2',\n",
              " 'pilha',\n",
              " 'preco',\n",
              " 'precos',\n",
              " 'precos2',\n",
              " 'produto',\n",
              " 'produtos',\n",
              " 'produtos2',\n",
              " 'produtos_com_imposto',\n",
              " 'produtox',\n",
              " 'quit',\n",
              " 'reduce',\n",
              " 'repetidor',\n",
              " 'repetir',\n",
              " 'resultado',\n",
              " 'retorno',\n",
              " 'senhas_padrao',\n",
              " 'sequencia',\n",
              " 'set1',\n",
              " 'set2',\n",
              " 'sexo',\n",
              " 'soma',\n",
              " 'string',\n",
              " 'sys',\n",
              " 'tema',\n",
              " 'todas_pessoas',\n",
              " 'topo',\n",
              " 'total',\n",
              " 'total2',\n",
              " 'total3',\n",
              " 'tupla',\n",
              " 'uniao',\n",
              " 'uniao2',\n",
              " 'usuario',\n",
              " 'usuario1',\n",
              " 'usuario3',\n",
              " 'usuarios',\n",
              " 'validador',\n",
              " 'valor',\n",
              " 'var1',\n",
              " 'var2',\n",
              " 'var_bool',\n",
              " 'var_comentario',\n",
              " 'var_dicionario',\n",
              " 'var_float',\n",
              " 'var_int',\n",
              " 'var_lista',\n",
              " 'var_set',\n",
              " 'var_string',\n",
              " 'var_tupla',\n",
              " 'variavel',\n",
              " 'variavel1',\n",
              " 'variavel5',\n",
              " 'veiculo1',\n",
              " 'veiculo2',\n",
              " 'veiculo3',\n",
              " 'vendas',\n",
              " 'x',\n",
              " 'y',\n",
              " 'z',\n",
              " 'zip_longest']"
            ]
          },
          "metadata": {
            "tags": []
          },
          "execution_count": 303
        }
      ]
    },
    {
      "cell_type": "markdown",
      "metadata": {
        "id": "qMNp93VXW9uq"
      },
      "source": [
        "Explorando tudo o que vem importado por padrão no Python"
      ]
    },
    {
      "cell_type": "code",
      "metadata": {
        "id": "H--07r2QwVLu",
        "colab": {
          "base_uri": "https://localhost:8080/"
        },
        "outputId": "913dddd8-1075-4635-d816-9af9c71695e3"
      },
      "source": [
        "import builtins\n",
        "\n",
        "dir(builtins)\n"
      ],
      "execution_count": null,
      "outputs": [
        {
          "output_type": "execute_result",
          "data": {
            "text/plain": [
              "['ArithmeticError',\n",
              " 'AssertionError',\n",
              " 'AttributeError',\n",
              " 'BaseException',\n",
              " 'BlockingIOError',\n",
              " 'BrokenPipeError',\n",
              " 'BufferError',\n",
              " 'BytesWarning',\n",
              " 'ChildProcessError',\n",
              " 'ConnectionAbortedError',\n",
              " 'ConnectionError',\n",
              " 'ConnectionRefusedError',\n",
              " 'ConnectionResetError',\n",
              " 'DeprecationWarning',\n",
              " 'EOFError',\n",
              " 'Ellipsis',\n",
              " 'EnvironmentError',\n",
              " 'Exception',\n",
              " 'False',\n",
              " 'FileExistsError',\n",
              " 'FileNotFoundError',\n",
              " 'FloatingPointError',\n",
              " 'FutureWarning',\n",
              " 'GeneratorExit',\n",
              " 'IOError',\n",
              " 'ImportError',\n",
              " 'ImportWarning',\n",
              " 'IndentationError',\n",
              " 'IndexError',\n",
              " 'InterruptedError',\n",
              " 'IsADirectoryError',\n",
              " 'KeyError',\n",
              " 'KeyboardInterrupt',\n",
              " 'LookupError',\n",
              " 'MemoryError',\n",
              " 'ModuleNotFoundError',\n",
              " 'NameError',\n",
              " 'None',\n",
              " 'NotADirectoryError',\n",
              " 'NotImplemented',\n",
              " 'NotImplementedError',\n",
              " 'OSError',\n",
              " 'OverflowError',\n",
              " 'PendingDeprecationWarning',\n",
              " 'PermissionError',\n",
              " 'ProcessLookupError',\n",
              " 'RecursionError',\n",
              " 'ReferenceError',\n",
              " 'ResourceWarning',\n",
              " 'RuntimeError',\n",
              " 'RuntimeWarning',\n",
              " 'StopAsyncIteration',\n",
              " 'StopIteration',\n",
              " 'SyntaxError',\n",
              " 'SyntaxWarning',\n",
              " 'SystemError',\n",
              " 'SystemExit',\n",
              " 'TabError',\n",
              " 'TimeoutError',\n",
              " 'True',\n",
              " 'TypeError',\n",
              " 'UnboundLocalError',\n",
              " 'UnicodeDecodeError',\n",
              " 'UnicodeEncodeError',\n",
              " 'UnicodeError',\n",
              " 'UnicodeTranslateError',\n",
              " 'UnicodeWarning',\n",
              " 'UserWarning',\n",
              " 'ValueError',\n",
              " 'Warning',\n",
              " 'ZeroDivisionError',\n",
              " '__IPYTHON__',\n",
              " '__build_class__',\n",
              " '__debug__',\n",
              " '__doc__',\n",
              " '__import__',\n",
              " '__loader__',\n",
              " '__name__',\n",
              " '__package__',\n",
              " '__spec__',\n",
              " 'abs',\n",
              " 'all',\n",
              " 'any',\n",
              " 'ascii',\n",
              " 'bin',\n",
              " 'bool',\n",
              " 'breakpoint',\n",
              " 'bytearray',\n",
              " 'bytes',\n",
              " 'callable',\n",
              " 'chr',\n",
              " 'classmethod',\n",
              " 'compile',\n",
              " 'complex',\n",
              " 'copyright',\n",
              " 'credits',\n",
              " 'delattr',\n",
              " 'dict',\n",
              " 'dir',\n",
              " 'display',\n",
              " 'divmod',\n",
              " 'dreload',\n",
              " 'enumerate',\n",
              " 'eval',\n",
              " 'exec',\n",
              " 'filter',\n",
              " 'float',\n",
              " 'format',\n",
              " 'frozenset',\n",
              " 'get_ipython',\n",
              " 'getattr',\n",
              " 'globals',\n",
              " 'hasattr',\n",
              " 'hash',\n",
              " 'help',\n",
              " 'hex',\n",
              " 'id',\n",
              " 'input',\n",
              " 'int',\n",
              " 'isinstance',\n",
              " 'issubclass',\n",
              " 'iter',\n",
              " 'len',\n",
              " 'license',\n",
              " 'list',\n",
              " 'locals',\n",
              " 'map',\n",
              " 'max',\n",
              " 'memoryview',\n",
              " 'min',\n",
              " 'next',\n",
              " 'object',\n",
              " 'oct',\n",
              " 'open',\n",
              " 'ord',\n",
              " 'pow',\n",
              " 'print',\n",
              " 'property',\n",
              " 'range',\n",
              " 'repr',\n",
              " 'reversed',\n",
              " 'round',\n",
              " 'set',\n",
              " 'setattr',\n",
              " 'slice',\n",
              " 'sorted',\n",
              " 'staticmethod',\n",
              " 'str',\n",
              " 'sum',\n",
              " 'super',\n",
              " 'tuple',\n",
              " 'type',\n",
              " 'vars',\n",
              " 'zip']"
            ]
          },
          "metadata": {
            "tags": []
          },
          "execution_count": 304
        }
      ]
    },
    {
      "cell_type": "markdown",
      "metadata": {
        "id": "gFisQhuUW9ur"
      },
      "source": [
        "Importando bibliotecas, módulos e pacotes que por padrão não são carregados na inicialização do Python"
      ]
    },
    {
      "cell_type": "code",
      "metadata": {
        "id": "BahTIEbMFWS9",
        "colab": {
          "base_uri": "https://localhost:8080/"
        },
        "outputId": "4f046cff-cafb-406b-c850-0fd987424c7c"
      },
      "source": [
        "import random\n",
        "\n",
        "dir()\n",
        "\n",
        "# Agora random( ) está carregada na memória e pronta para uso\n"
      ],
      "execution_count": null,
      "outputs": [
        {
          "output_type": "execute_result",
          "data": {
            "text/plain": [
              "['In',\n",
              " 'MinhaClasse',\n",
              " 'Out',\n",
              " '_',\n",
              " '_204',\n",
              " '_205',\n",
              " '_24',\n",
              " '_303',\n",
              " '_304',\n",
              " '__',\n",
              " '___',\n",
              " '__builtin__',\n",
              " '__builtins__',\n",
              " '__doc__',\n",
              " '__loader__',\n",
              " '__name__',\n",
              " '__package__',\n",
              " '__spec__',\n",
              " '_dh',\n",
              " '_i',\n",
              " '_i1',\n",
              " '_i10',\n",
              " '_i100',\n",
              " '_i101',\n",
              " '_i102',\n",
              " '_i103',\n",
              " '_i104',\n",
              " '_i105',\n",
              " '_i106',\n",
              " '_i107',\n",
              " '_i108',\n",
              " '_i109',\n",
              " '_i11',\n",
              " '_i110',\n",
              " '_i111',\n",
              " '_i112',\n",
              " '_i113',\n",
              " '_i114',\n",
              " '_i115',\n",
              " '_i116',\n",
              " '_i117',\n",
              " '_i118',\n",
              " '_i119',\n",
              " '_i12',\n",
              " '_i120',\n",
              " '_i121',\n",
              " '_i122',\n",
              " '_i123',\n",
              " '_i124',\n",
              " '_i125',\n",
              " '_i126',\n",
              " '_i127',\n",
              " '_i128',\n",
              " '_i129',\n",
              " '_i13',\n",
              " '_i130',\n",
              " '_i131',\n",
              " '_i132',\n",
              " '_i133',\n",
              " '_i134',\n",
              " '_i135',\n",
              " '_i136',\n",
              " '_i137',\n",
              " '_i138',\n",
              " '_i139',\n",
              " '_i14',\n",
              " '_i140',\n",
              " '_i141',\n",
              " '_i142',\n",
              " '_i143',\n",
              " '_i144',\n",
              " '_i145',\n",
              " '_i146',\n",
              " '_i147',\n",
              " '_i148',\n",
              " '_i149',\n",
              " '_i15',\n",
              " '_i150',\n",
              " '_i151',\n",
              " '_i152',\n",
              " '_i153',\n",
              " '_i154',\n",
              " '_i155',\n",
              " '_i156',\n",
              " '_i157',\n",
              " '_i158',\n",
              " '_i159',\n",
              " '_i16',\n",
              " '_i160',\n",
              " '_i161',\n",
              " '_i162',\n",
              " '_i163',\n",
              " '_i164',\n",
              " '_i165',\n",
              " '_i166',\n",
              " '_i167',\n",
              " '_i168',\n",
              " '_i169',\n",
              " '_i17',\n",
              " '_i170',\n",
              " '_i171',\n",
              " '_i172',\n",
              " '_i173',\n",
              " '_i174',\n",
              " '_i175',\n",
              " '_i176',\n",
              " '_i177',\n",
              " '_i178',\n",
              " '_i179',\n",
              " '_i18',\n",
              " '_i180',\n",
              " '_i181',\n",
              " '_i182',\n",
              " '_i183',\n",
              " '_i184',\n",
              " '_i185',\n",
              " '_i186',\n",
              " '_i187',\n",
              " '_i188',\n",
              " '_i189',\n",
              " '_i19',\n",
              " '_i190',\n",
              " '_i191',\n",
              " '_i192',\n",
              " '_i193',\n",
              " '_i194',\n",
              " '_i195',\n",
              " '_i196',\n",
              " '_i197',\n",
              " '_i198',\n",
              " '_i199',\n",
              " '_i2',\n",
              " '_i20',\n",
              " '_i200',\n",
              " '_i201',\n",
              " '_i202',\n",
              " '_i203',\n",
              " '_i204',\n",
              " '_i205',\n",
              " '_i206',\n",
              " '_i207',\n",
              " '_i208',\n",
              " '_i209',\n",
              " '_i21',\n",
              " '_i210',\n",
              " '_i211',\n",
              " '_i212',\n",
              " '_i213',\n",
              " '_i214',\n",
              " '_i215',\n",
              " '_i216',\n",
              " '_i217',\n",
              " '_i218',\n",
              " '_i219',\n",
              " '_i22',\n",
              " '_i220',\n",
              " '_i221',\n",
              " '_i222',\n",
              " '_i223',\n",
              " '_i224',\n",
              " '_i225',\n",
              " '_i226',\n",
              " '_i227',\n",
              " '_i228',\n",
              " '_i229',\n",
              " '_i23',\n",
              " '_i230',\n",
              " '_i231',\n",
              " '_i232',\n",
              " '_i233',\n",
              " '_i234',\n",
              " '_i235',\n",
              " '_i236',\n",
              " '_i237',\n",
              " '_i238',\n",
              " '_i239',\n",
              " '_i24',\n",
              " '_i240',\n",
              " '_i241',\n",
              " '_i242',\n",
              " '_i243',\n",
              " '_i244',\n",
              " '_i245',\n",
              " '_i246',\n",
              " '_i247',\n",
              " '_i248',\n",
              " '_i249',\n",
              " '_i25',\n",
              " '_i250',\n",
              " '_i251',\n",
              " '_i252',\n",
              " '_i253',\n",
              " '_i254',\n",
              " '_i255',\n",
              " '_i256',\n",
              " '_i257',\n",
              " '_i258',\n",
              " '_i259',\n",
              " '_i26',\n",
              " '_i260',\n",
              " '_i261',\n",
              " '_i262',\n",
              " '_i263',\n",
              " '_i264',\n",
              " '_i265',\n",
              " '_i266',\n",
              " '_i267',\n",
              " '_i268',\n",
              " '_i269',\n",
              " '_i27',\n",
              " '_i270',\n",
              " '_i271',\n",
              " '_i272',\n",
              " '_i273',\n",
              " '_i274',\n",
              " '_i275',\n",
              " '_i276',\n",
              " '_i277',\n",
              " '_i278',\n",
              " '_i279',\n",
              " '_i28',\n",
              " '_i280',\n",
              " '_i281',\n",
              " '_i282',\n",
              " '_i283',\n",
              " '_i284',\n",
              " '_i285',\n",
              " '_i286',\n",
              " '_i287',\n",
              " '_i288',\n",
              " '_i289',\n",
              " '_i29',\n",
              " '_i290',\n",
              " '_i291',\n",
              " '_i292',\n",
              " '_i293',\n",
              " '_i294',\n",
              " '_i295',\n",
              " '_i296',\n",
              " '_i297',\n",
              " '_i298',\n",
              " '_i299',\n",
              " '_i3',\n",
              " '_i30',\n",
              " '_i300',\n",
              " '_i301',\n",
              " '_i302',\n",
              " '_i303',\n",
              " '_i304',\n",
              " '_i305',\n",
              " '_i31',\n",
              " '_i32',\n",
              " '_i33',\n",
              " '_i34',\n",
              " '_i35',\n",
              " '_i36',\n",
              " '_i37',\n",
              " '_i38',\n",
              " '_i39',\n",
              " '_i4',\n",
              " '_i40',\n",
              " '_i41',\n",
              " '_i42',\n",
              " '_i43',\n",
              " '_i44',\n",
              " '_i45',\n",
              " '_i46',\n",
              " '_i47',\n",
              " '_i48',\n",
              " '_i49',\n",
              " '_i5',\n",
              " '_i50',\n",
              " '_i51',\n",
              " '_i52',\n",
              " '_i53',\n",
              " '_i54',\n",
              " '_i55',\n",
              " '_i56',\n",
              " '_i57',\n",
              " '_i58',\n",
              " '_i59',\n",
              " '_i6',\n",
              " '_i60',\n",
              " '_i61',\n",
              " '_i62',\n",
              " '_i63',\n",
              " '_i64',\n",
              " '_i65',\n",
              " '_i66',\n",
              " '_i67',\n",
              " '_i68',\n",
              " '_i69',\n",
              " '_i7',\n",
              " '_i70',\n",
              " '_i71',\n",
              " '_i72',\n",
              " '_i73',\n",
              " '_i74',\n",
              " '_i75',\n",
              " '_i76',\n",
              " '_i77',\n",
              " '_i78',\n",
              " '_i79',\n",
              " '_i8',\n",
              " '_i80',\n",
              " '_i81',\n",
              " '_i82',\n",
              " '_i83',\n",
              " '_i84',\n",
              " '_i85',\n",
              " '_i86',\n",
              " '_i87',\n",
              " '_i88',\n",
              " '_i89',\n",
              " '_i9',\n",
              " '_i90',\n",
              " '_i91',\n",
              " '_i92',\n",
              " '_i93',\n",
              " '_i94',\n",
              " '_i95',\n",
              " '_i96',\n",
              " '_i97',\n",
              " '_i98',\n",
              " '_i99',\n",
              " '_ih',\n",
              " '_ii',\n",
              " '_iii',\n",
              " '_oh',\n",
              " '_sh',\n",
              " 'a',\n",
              " 'a1',\n",
              " 'agua',\n",
              " 'alerta',\n",
              " 'altura',\n",
              " 'aluguel',\n",
              " 'animal',\n",
              " 'ano_nasc',\n",
              " 'ano_nasc2',\n",
              " 'argumentos',\n",
              " 'aumenta_precos',\n",
              " 'aumento_percentual',\n",
              " 'aviso',\n",
              " 'b',\n",
              " 'base',\n",
              " 'builtins',\n",
              " 'c',\n",
              " 'c1',\n",
              " 'c2',\n",
              " 'c3',\n",
              " 'cadastro',\n",
              " 'calca',\n",
              " 'calculo',\n",
              " 'camisa',\n",
              " 'carrinho',\n",
              " 'cidades',\n",
              " 'cidades_estados',\n",
              " 'cidades_estados2',\n",
              " 'cj1',\n",
              " 'cj2',\n",
              " 'codigo',\n",
              " 'codigo1',\n",
              " 'codigo2',\n",
              " 'comp',\n",
              " 'comp2',\n",
              " 'comp3',\n",
              " 'compras',\n",
              " 'comprehension',\n",
              " 'condicao1',\n",
              " 'conjunto1',\n",
              " 'conjunto2',\n",
              " 'conjunto3',\n",
              " 'contador',\n",
              " 'cor1',\n",
              " 'cor2',\n",
              " 'cores',\n",
              " 'count',\n",
              " 'd3',\n",
              " 'd4',\n",
              " 'dicionario',\n",
              " 'dicionario1',\n",
              " 'dicionario2',\n",
              " 'dict',\n",
              " 'dict1',\n",
              " 'dict_chaves',\n",
              " 'divisao',\n",
              " 'elemento',\n",
              " 'energia',\n",
              " 'equacao',\n",
              " 'estados',\n",
              " 'executa',\n",
              " 'exibe_mensagem',\n",
              " 'exit',\n",
              " 'exp',\n",
              " 'fatura',\n",
              " 'filtra',\n",
              " 'fizz_buzz',\n",
              " 'frase1',\n",
              " 'frase2',\n",
              " 'frase3',\n",
              " 'funcao',\n",
              " 'funcao1',\n",
              " 'funcao2',\n",
              " 'funcionarias_mulheres',\n",
              " 'funcionarios_homens',\n",
              " 'get_ipython',\n",
              " 'i',\n",
              " 'id',\n",
              " 'idade',\n",
              " 'idosos',\n",
              " 'intersecao',\n",
              " 'intersecao2',\n",
              " 'itens',\n",
              " 'j',\n",
              " 'k',\n",
              " 'l',\n",
              " 'largura',\n",
              " 'letras',\n",
              " 'lista',\n",
              " 'lista1',\n",
              " 'lista100',\n",
              " 'lista2',\n",
              " 'lista5',\n",
              " 'lista6',\n",
              " 'lista_0_a_100',\n",
              " 'lista_compras',\n",
              " 'listamilhao',\n",
              " 'login',\n",
              " 'm',\n",
              " 'mensagem',\n",
              " 'mensagem1',\n",
              " 'mercadoria',\n",
              " 'mestre',\n",
              " 'minha_funcao',\n",
              " 'modificador',\n",
              " 'msg',\n",
              " 'msg_boas_vindas',\n",
              " 'n',\n",
              " 'n1',\n",
              " 'n2',\n",
              " 'n_indice',\n",
              " 'nome',\n",
              " 'nome1',\n",
              " 'nome2',\n",
              " 'nome3',\n",
              " 'nome4',\n",
              " 'nome_da_funcao',\n",
              " 'nome_de_variavel',\n",
              " 'nomes',\n",
              " 'nova_lista',\n",
              " 'nova_lista2',\n",
              " 'nova_lista3',\n",
              " 'num',\n",
              " 'num1',\n",
              " 'num2',\n",
              " 'num3',\n",
              " 'num4',\n",
              " 'numero',\n",
              " 'numero3',\n",
              " 'o',\n",
              " 'palavra1',\n",
              " 'palavra2',\n",
              " 'pessoa',\n",
              " 'pessoas',\n",
              " 'pessoas1',\n",
              " 'pessoas2',\n",
              " 'pilha',\n",
              " 'preco',\n",
              " 'precos',\n",
              " 'precos2',\n",
              " 'produto',\n",
              " 'produtos',\n",
              " 'produtos2',\n",
              " 'produtos_com_imposto',\n",
              " 'produtox',\n",
              " 'quit',\n",
              " 'random',\n",
              " 'reduce',\n",
              " 'repetidor',\n",
              " 'repetir',\n",
              " 'resultado',\n",
              " 'retorno',\n",
              " 'senhas_padrao',\n",
              " 'sequencia',\n",
              " 'set1',\n",
              " 'set2',\n",
              " 'sexo',\n",
              " 'soma',\n",
              " 'string',\n",
              " 'sys',\n",
              " 'tema',\n",
              " 'todas_pessoas',\n",
              " 'topo',\n",
              " 'total',\n",
              " 'total2',\n",
              " 'total3',\n",
              " 'tupla',\n",
              " 'uniao',\n",
              " 'uniao2',\n",
              " 'usuario',\n",
              " 'usuario1',\n",
              " 'usuario3',\n",
              " 'usuarios',\n",
              " 'validador',\n",
              " 'valor',\n",
              " 'var1',\n",
              " 'var2',\n",
              " 'var_bool',\n",
              " 'var_comentario',\n",
              " 'var_dicionario',\n",
              " 'var_float',\n",
              " 'var_int',\n",
              " 'var_lista',\n",
              " 'var_set',\n",
              " 'var_string',\n",
              " 'var_tupla',\n",
              " 'variavel',\n",
              " 'variavel1',\n",
              " 'variavel5',\n",
              " 'veiculo1',\n",
              " 'veiculo2',\n",
              " 'veiculo3',\n",
              " 'vendas',\n",
              " 'x',\n",
              " 'y',\n",
              " 'z',\n",
              " 'zip_longest']"
            ]
          },
          "metadata": {
            "tags": []
          },
          "execution_count": 305
        }
      ]
    },
    {
      "cell_type": "markdown",
      "metadata": {
        "id": "QKMKsLYAW9ur"
      },
      "source": [
        "Verificando tudo o que existe dentro de um módulo/pacote externo"
      ]
    },
    {
      "cell_type": "code",
      "metadata": {
        "id": "6RF6JWlrvQi3",
        "colab": {
          "base_uri": "https://localhost:8080/"
        },
        "outputId": "8c17fa24-a195-45fa-d636-fc355b76aba4"
      },
      "source": [
        "dir(random)\n",
        "\n",
        "# Todas linhas após '__spec__' são os nomes das funções da\n",
        "# biblioteca random disponíveis para serem usadas.\n"
      ],
      "execution_count": null,
      "outputs": [
        {
          "output_type": "execute_result",
          "data": {
            "text/plain": [
              "['BPF',\n",
              " 'LOG4',\n",
              " 'NV_MAGICCONST',\n",
              " 'RECIP_BPF',\n",
              " 'Random',\n",
              " 'SG_MAGICCONST',\n",
              " 'SystemRandom',\n",
              " 'TWOPI',\n",
              " '_BuiltinMethodType',\n",
              " '_MethodType',\n",
              " '_Sequence',\n",
              " '_Set',\n",
              " '__all__',\n",
              " '__builtins__',\n",
              " '__cached__',\n",
              " '__doc__',\n",
              " '__file__',\n",
              " '__loader__',\n",
              " '__name__',\n",
              " '__package__',\n",
              " '__spec__',\n",
              " '_acos',\n",
              " '_bisect',\n",
              " '_ceil',\n",
              " '_cos',\n",
              " '_e',\n",
              " '_exp',\n",
              " '_inst',\n",
              " '_itertools',\n",
              " '_log',\n",
              " '_os',\n",
              " '_pi',\n",
              " '_random',\n",
              " '_sha512',\n",
              " '_sin',\n",
              " '_sqrt',\n",
              " '_test',\n",
              " '_test_generator',\n",
              " '_urandom',\n",
              " '_warn',\n",
              " 'betavariate',\n",
              " 'choice',\n",
              " 'choices',\n",
              " 'expovariate',\n",
              " 'gammavariate',\n",
              " 'gauss',\n",
              " 'getrandbits',\n",
              " 'getstate',\n",
              " 'lognormvariate',\n",
              " 'normalvariate',\n",
              " 'paretovariate',\n",
              " 'randint',\n",
              " 'random',\n",
              " 'randrange',\n",
              " 'sample',\n",
              " 'seed',\n",
              " 'setstate',\n",
              " 'shuffle',\n",
              " 'triangular',\n",
              " 'uniform',\n",
              " 'vonmisesvariate',\n",
              " 'weibullvariate']"
            ]
          },
          "metadata": {
            "tags": []
          },
          "execution_count": 306
        }
      ]
    },
    {
      "cell_type": "markdown",
      "metadata": {
        "id": "3rBtN5L0fhEe"
      },
      "source": [
        "Explorando as funcionalidades de uma biblioteca / módulo / pacote"
      ]
    },
    {
      "cell_type": "code",
      "metadata": {
        "id": "CRXpng_SfnL-",
        "colab": {
          "base_uri": "https://localhost:8080/"
        },
        "outputId": "cfe54b3d-f84e-4381-b416-5426009dc11a"
      },
      "source": [
        "import random\n",
        "\n",
        "help(random)\n"
      ],
      "execution_count": null,
      "outputs": [
        {
          "output_type": "stream",
          "text": [
            "Help on module random:\n",
            "\n",
            "NAME\n",
            "    random - Random variable generators.\n",
            "\n",
            "MODULE REFERENCE\n",
            "    https://docs.python.org/3.7/library/random\n",
            "    \n",
            "    The following documentation is automatically generated from the Python\n",
            "    source files.  It may be incomplete, incorrect or include features that\n",
            "    are considered implementation detail and may vary between Python\n",
            "    implementations.  When in doubt, consult the module reference at the\n",
            "    location listed above.\n",
            "\n",
            "DESCRIPTION\n",
            "        integers\n",
            "        --------\n",
            "               uniform within range\n",
            "    \n",
            "        sequences\n",
            "        ---------\n",
            "               pick random element\n",
            "               pick random sample\n",
            "               pick weighted random sample\n",
            "               generate random permutation\n",
            "    \n",
            "        distributions on the real line:\n",
            "        ------------------------------\n",
            "               uniform\n",
            "               triangular\n",
            "               normal (Gaussian)\n",
            "               lognormal\n",
            "               negative exponential\n",
            "               gamma\n",
            "               beta\n",
            "               pareto\n",
            "               Weibull\n",
            "    \n",
            "        distributions on the circle (angles 0 to 2pi)\n",
            "        ---------------------------------------------\n",
            "               circular uniform\n",
            "               von Mises\n",
            "    \n",
            "    General notes on the underlying Mersenne Twister core generator:\n",
            "    \n",
            "    * The period is 2**19937-1.\n",
            "    * It is one of the most extensively tested generators in existence.\n",
            "    * The random() method is implemented in C, executes in a single Python step,\n",
            "      and is, therefore, threadsafe.\n",
            "\n",
            "CLASSES\n",
            "    _random.Random(builtins.object)\n",
            "        Random\n",
            "            SystemRandom\n",
            "    \n",
            "    class Random(_random.Random)\n",
            "     |  Random(x=None)\n",
            "     |  \n",
            "     |  Random number generator base class used by bound module functions.\n",
            "     |  \n",
            "     |  Used to instantiate instances of Random to get generators that don't\n",
            "     |  share state.\n",
            "     |  \n",
            "     |  Class Random can also be subclassed if you want to use a different basic\n",
            "     |  generator of your own devising: in that case, override the following\n",
            "     |  methods:  random(), seed(), getstate(), and setstate().\n",
            "     |  Optionally, implement a getrandbits() method so that randrange()\n",
            "     |  can cover arbitrarily large ranges.\n",
            "     |  \n",
            "     |  Method resolution order:\n",
            "     |      Random\n",
            "     |      _random.Random\n",
            "     |      builtins.object\n",
            "     |  \n",
            "     |  Methods defined here:\n",
            "     |  \n",
            "     |  __getstate__(self)\n",
            "     |      # Issue 17489: Since __reduce__ was defined to fix #759889 this is no\n",
            "     |      # longer called; we leave it here because it has been here since random was\n",
            "     |      # rewritten back in 2001 and why risk breaking something.\n",
            "     |  \n",
            "     |  __init__(self, x=None)\n",
            "     |      Initialize an instance.\n",
            "     |      \n",
            "     |      Optional argument x controls seeding, as for Random.seed().\n",
            "     |  \n",
            "     |  __reduce__(self)\n",
            "     |      Helper for pickle.\n",
            "     |  \n",
            "     |  __setstate__(self, state)\n",
            "     |  \n",
            "     |  betavariate(self, alpha, beta)\n",
            "     |      Beta distribution.\n",
            "     |      \n",
            "     |      Conditions on the parameters are alpha > 0 and beta > 0.\n",
            "     |      Returned values range between 0 and 1.\n",
            "     |  \n",
            "     |  choice(self, seq)\n",
            "     |      Choose a random element from a non-empty sequence.\n",
            "     |  \n",
            "     |  choices(self, population, weights=None, *, cum_weights=None, k=1)\n",
            "     |      Return a k sized list of population elements chosen with replacement.\n",
            "     |      \n",
            "     |      If the relative weights or cumulative weights are not specified,\n",
            "     |      the selections are made with equal probability.\n",
            "     |  \n",
            "     |  expovariate(self, lambd)\n",
            "     |      Exponential distribution.\n",
            "     |      \n",
            "     |      lambd is 1.0 divided by the desired mean.  It should be\n",
            "     |      nonzero.  (The parameter would be called \"lambda\", but that is\n",
            "     |      a reserved word in Python.)  Returned values range from 0 to\n",
            "     |      positive infinity if lambd is positive, and from negative\n",
            "     |      infinity to 0 if lambd is negative.\n",
            "     |  \n",
            "     |  gammavariate(self, alpha, beta)\n",
            "     |      Gamma distribution.  Not the gamma function!\n",
            "     |      \n",
            "     |      Conditions on the parameters are alpha > 0 and beta > 0.\n",
            "     |      \n",
            "     |      The probability distribution function is:\n",
            "     |      \n",
            "     |                  x ** (alpha - 1) * math.exp(-x / beta)\n",
            "     |        pdf(x) =  --------------------------------------\n",
            "     |                    math.gamma(alpha) * beta ** alpha\n",
            "     |  \n",
            "     |  gauss(self, mu, sigma)\n",
            "     |      Gaussian distribution.\n",
            "     |      \n",
            "     |      mu is the mean, and sigma is the standard deviation.  This is\n",
            "     |      slightly faster than the normalvariate() function.\n",
            "     |      \n",
            "     |      Not thread-safe without a lock around calls.\n",
            "     |  \n",
            "     |  getstate(self)\n",
            "     |      Return internal state; can be passed to setstate() later.\n",
            "     |  \n",
            "     |  lognormvariate(self, mu, sigma)\n",
            "     |      Log normal distribution.\n",
            "     |      \n",
            "     |      If you take the natural logarithm of this distribution, you'll get a\n",
            "     |      normal distribution with mean mu and standard deviation sigma.\n",
            "     |      mu can have any value, and sigma must be greater than zero.\n",
            "     |  \n",
            "     |  normalvariate(self, mu, sigma)\n",
            "     |      Normal distribution.\n",
            "     |      \n",
            "     |      mu is the mean, and sigma is the standard deviation.\n",
            "     |  \n",
            "     |  paretovariate(self, alpha)\n",
            "     |      Pareto distribution.  alpha is the shape parameter.\n",
            "     |  \n",
            "     |  randint(self, a, b)\n",
            "     |      Return random integer in range [a, b], including both end points.\n",
            "     |  \n",
            "     |  randrange(self, start, stop=None, step=1, _int=<class 'int'>)\n",
            "     |      Choose a random item from range(start, stop[, step]).\n",
            "     |      \n",
            "     |      This fixes the problem with randint() which includes the\n",
            "     |      endpoint; in Python this is usually not what you want.\n",
            "     |  \n",
            "     |  sample(self, population, k)\n",
            "     |      Chooses k unique random elements from a population sequence or set.\n",
            "     |      \n",
            "     |      Returns a new list containing elements from the population while\n",
            "     |      leaving the original population unchanged.  The resulting list is\n",
            "     |      in selection order so that all sub-slices will also be valid random\n",
            "     |      samples.  This allows raffle winners (the sample) to be partitioned\n",
            "     |      into grand prize and second place winners (the subslices).\n",
            "     |      \n",
            "     |      Members of the population need not be hashable or unique.  If the\n",
            "     |      population contains repeats, then each occurrence is a possible\n",
            "     |      selection in the sample.\n",
            "     |      \n",
            "     |      To choose a sample in a range of integers, use range as an argument.\n",
            "     |      This is especially fast and space efficient for sampling from a\n",
            "     |      large population:   sample(range(10000000), 60)\n",
            "     |  \n",
            "     |  seed(self, a=None, version=2)\n",
            "     |      Initialize internal state from hashable object.\n",
            "     |      \n",
            "     |      None or no argument seeds from current time or from an operating\n",
            "     |      system specific randomness source if available.\n",
            "     |      \n",
            "     |      If *a* is an int, all bits are used.\n",
            "     |      \n",
            "     |      For version 2 (the default), all of the bits are used if *a* is a str,\n",
            "     |      bytes, or bytearray.  For version 1 (provided for reproducing random\n",
            "     |      sequences from older versions of Python), the algorithm for str and\n",
            "     |      bytes generates a narrower range of seeds.\n",
            "     |  \n",
            "     |  setstate(self, state)\n",
            "     |      Restore internal state from object returned by getstate().\n",
            "     |  \n",
            "     |  shuffle(self, x, random=None)\n",
            "     |      Shuffle list x in place, and return None.\n",
            "     |      \n",
            "     |      Optional argument random is a 0-argument function returning a\n",
            "     |      random float in [0.0, 1.0); if it is the default None, the\n",
            "     |      standard random.random will be used.\n",
            "     |  \n",
            "     |  triangular(self, low=0.0, high=1.0, mode=None)\n",
            "     |      Triangular distribution.\n",
            "     |      \n",
            "     |      Continuous distribution bounded by given lower and upper limits,\n",
            "     |      and having a given mode value in-between.\n",
            "     |      \n",
            "     |      http://en.wikipedia.org/wiki/Triangular_distribution\n",
            "     |  \n",
            "     |  uniform(self, a, b)\n",
            "     |      Get a random number in the range [a, b) or [a, b] depending on rounding.\n",
            "     |  \n",
            "     |  vonmisesvariate(self, mu, kappa)\n",
            "     |      Circular data distribution.\n",
            "     |      \n",
            "     |      mu is the mean angle, expressed in radians between 0 and 2*pi, and\n",
            "     |      kappa is the concentration parameter, which must be greater than or\n",
            "     |      equal to zero.  If kappa is equal to zero, this distribution reduces\n",
            "     |      to a uniform random angle over the range 0 to 2*pi.\n",
            "     |  \n",
            "     |  weibullvariate(self, alpha, beta)\n",
            "     |      Weibull distribution.\n",
            "     |      \n",
            "     |      alpha is the scale parameter and beta is the shape parameter.\n",
            "     |  \n",
            "     |  ----------------------------------------------------------------------\n",
            "     |  Data descriptors defined here:\n",
            "     |  \n",
            "     |  __dict__\n",
            "     |      dictionary for instance variables (if defined)\n",
            "     |  \n",
            "     |  __weakref__\n",
            "     |      list of weak references to the object (if defined)\n",
            "     |  \n",
            "     |  ----------------------------------------------------------------------\n",
            "     |  Data and other attributes defined here:\n",
            "     |  \n",
            "     |  VERSION = 3\n",
            "     |  \n",
            "     |  ----------------------------------------------------------------------\n",
            "     |  Methods inherited from _random.Random:\n",
            "     |  \n",
            "     |  __getattribute__(self, name, /)\n",
            "     |      Return getattr(self, name).\n",
            "     |  \n",
            "     |  getrandbits(...)\n",
            "     |      getrandbits(k) -> x.  Generates an int with k random bits.\n",
            "     |  \n",
            "     |  random(...)\n",
            "     |      random() -> x in the interval [0, 1).\n",
            "     |  \n",
            "     |  ----------------------------------------------------------------------\n",
            "     |  Static methods inherited from _random.Random:\n",
            "     |  \n",
            "     |  __new__(*args, **kwargs) from builtins.type\n",
            "     |      Create and return a new object.  See help(type) for accurate signature.\n",
            "    \n",
            "    class SystemRandom(Random)\n",
            "     |  SystemRandom(x=None)\n",
            "     |  \n",
            "     |  Alternate random number generator using sources provided\n",
            "     |  by the operating system (such as /dev/urandom on Unix or\n",
            "     |  CryptGenRandom on Windows).\n",
            "     |  \n",
            "     |   Not available on all systems (see os.urandom() for details).\n",
            "     |  \n",
            "     |  Method resolution order:\n",
            "     |      SystemRandom\n",
            "     |      Random\n",
            "     |      _random.Random\n",
            "     |      builtins.object\n",
            "     |  \n",
            "     |  Methods defined here:\n",
            "     |  \n",
            "     |  getrandbits(self, k)\n",
            "     |      getrandbits(k) -> x.  Generates an int with k random bits.\n",
            "     |  \n",
            "     |  getstate = _notimplemented(self, *args, **kwds)\n",
            "     |  \n",
            "     |  random(self)\n",
            "     |      Get the next random number in the range [0.0, 1.0).\n",
            "     |  \n",
            "     |  seed(self, *args, **kwds)\n",
            "     |      Stub method.  Not used for a system random number generator.\n",
            "     |  \n",
            "     |  setstate = _notimplemented(self, *args, **kwds)\n",
            "     |  \n",
            "     |  ----------------------------------------------------------------------\n",
            "     |  Methods inherited from Random:\n",
            "     |  \n",
            "     |  __getstate__(self)\n",
            "     |      # Issue 17489: Since __reduce__ was defined to fix #759889 this is no\n",
            "     |      # longer called; we leave it here because it has been here since random was\n",
            "     |      # rewritten back in 2001 and why risk breaking something.\n",
            "     |  \n",
            "     |  __init__(self, x=None)\n",
            "     |      Initialize an instance.\n",
            "     |      \n",
            "     |      Optional argument x controls seeding, as for Random.seed().\n",
            "     |  \n",
            "     |  __reduce__(self)\n",
            "     |      Helper for pickle.\n",
            "     |  \n",
            "     |  __setstate__(self, state)\n",
            "     |  \n",
            "     |  betavariate(self, alpha, beta)\n",
            "     |      Beta distribution.\n",
            "     |      \n",
            "     |      Conditions on the parameters are alpha > 0 and beta > 0.\n",
            "     |      Returned values range between 0 and 1.\n",
            "     |  \n",
            "     |  choice(self, seq)\n",
            "     |      Choose a random element from a non-empty sequence.\n",
            "     |  \n",
            "     |  choices(self, population, weights=None, *, cum_weights=None, k=1)\n",
            "     |      Return a k sized list of population elements chosen with replacement.\n",
            "     |      \n",
            "     |      If the relative weights or cumulative weights are not specified,\n",
            "     |      the selections are made with equal probability.\n",
            "     |  \n",
            "     |  expovariate(self, lambd)\n",
            "     |      Exponential distribution.\n",
            "     |      \n",
            "     |      lambd is 1.0 divided by the desired mean.  It should be\n",
            "     |      nonzero.  (The parameter would be called \"lambda\", but that is\n",
            "     |      a reserved word in Python.)  Returned values range from 0 to\n",
            "     |      positive infinity if lambd is positive, and from negative\n",
            "     |      infinity to 0 if lambd is negative.\n",
            "     |  \n",
            "     |  gammavariate(self, alpha, beta)\n",
            "     |      Gamma distribution.  Not the gamma function!\n",
            "     |      \n",
            "     |      Conditions on the parameters are alpha > 0 and beta > 0.\n",
            "     |      \n",
            "     |      The probability distribution function is:\n",
            "     |      \n",
            "     |                  x ** (alpha - 1) * math.exp(-x / beta)\n",
            "     |        pdf(x) =  --------------------------------------\n",
            "     |                    math.gamma(alpha) * beta ** alpha\n",
            "     |  \n",
            "     |  gauss(self, mu, sigma)\n",
            "     |      Gaussian distribution.\n",
            "     |      \n",
            "     |      mu is the mean, and sigma is the standard deviation.  This is\n",
            "     |      slightly faster than the normalvariate() function.\n",
            "     |      \n",
            "     |      Not thread-safe without a lock around calls.\n",
            "     |  \n",
            "     |  lognormvariate(self, mu, sigma)\n",
            "     |      Log normal distribution.\n",
            "     |      \n",
            "     |      If you take the natural logarithm of this distribution, you'll get a\n",
            "     |      normal distribution with mean mu and standard deviation sigma.\n",
            "     |      mu can have any value, and sigma must be greater than zero.\n",
            "     |  \n",
            "     |  normalvariate(self, mu, sigma)\n",
            "     |      Normal distribution.\n",
            "     |      \n",
            "     |      mu is the mean, and sigma is the standard deviation.\n",
            "     |  \n",
            "     |  paretovariate(self, alpha)\n",
            "     |      Pareto distribution.  alpha is the shape parameter.\n",
            "     |  \n",
            "     |  randint(self, a, b)\n",
            "     |      Return random integer in range [a, b], including both end points.\n",
            "     |  \n",
            "     |  randrange(self, start, stop=None, step=1, _int=<class 'int'>)\n",
            "     |      Choose a random item from range(start, stop[, step]).\n",
            "     |      \n",
            "     |      This fixes the problem with randint() which includes the\n",
            "     |      endpoint; in Python this is usually not what you want.\n",
            "     |  \n",
            "     |  sample(self, population, k)\n",
            "     |      Chooses k unique random elements from a population sequence or set.\n",
            "     |      \n",
            "     |      Returns a new list containing elements from the population while\n",
            "     |      leaving the original population unchanged.  The resulting list is\n",
            "     |      in selection order so that all sub-slices will also be valid random\n",
            "     |      samples.  This allows raffle winners (the sample) to be partitioned\n",
            "     |      into grand prize and second place winners (the subslices).\n",
            "     |      \n",
            "     |      Members of the population need not be hashable or unique.  If the\n",
            "     |      population contains repeats, then each occurrence is a possible\n",
            "     |      selection in the sample.\n",
            "     |      \n",
            "     |      To choose a sample in a range of integers, use range as an argument.\n",
            "     |      This is especially fast and space efficient for sampling from a\n",
            "     |      large population:   sample(range(10000000), 60)\n",
            "     |  \n",
            "     |  shuffle(self, x, random=None)\n",
            "     |      Shuffle list x in place, and return None.\n",
            "     |      \n",
            "     |      Optional argument random is a 0-argument function returning a\n",
            "     |      random float in [0.0, 1.0); if it is the default None, the\n",
            "     |      standard random.random will be used.\n",
            "     |  \n",
            "     |  triangular(self, low=0.0, high=1.0, mode=None)\n",
            "     |      Triangular distribution.\n",
            "     |      \n",
            "     |      Continuous distribution bounded by given lower and upper limits,\n",
            "     |      and having a given mode value in-between.\n",
            "     |      \n",
            "     |      http://en.wikipedia.org/wiki/Triangular_distribution\n",
            "     |  \n",
            "     |  uniform(self, a, b)\n",
            "     |      Get a random number in the range [a, b) or [a, b] depending on rounding.\n",
            "     |  \n",
            "     |  vonmisesvariate(self, mu, kappa)\n",
            "     |      Circular data distribution.\n",
            "     |      \n",
            "     |      mu is the mean angle, expressed in radians between 0 and 2*pi, and\n",
            "     |      kappa is the concentration parameter, which must be greater than or\n",
            "     |      equal to zero.  If kappa is equal to zero, this distribution reduces\n",
            "     |      to a uniform random angle over the range 0 to 2*pi.\n",
            "     |  \n",
            "     |  weibullvariate(self, alpha, beta)\n",
            "     |      Weibull distribution.\n",
            "     |      \n",
            "     |      alpha is the scale parameter and beta is the shape parameter.\n",
            "     |  \n",
            "     |  ----------------------------------------------------------------------\n",
            "     |  Data descriptors inherited from Random:\n",
            "     |  \n",
            "     |  __dict__\n",
            "     |      dictionary for instance variables (if defined)\n",
            "     |  \n",
            "     |  __weakref__\n",
            "     |      list of weak references to the object (if defined)\n",
            "     |  \n",
            "     |  ----------------------------------------------------------------------\n",
            "     |  Data and other attributes inherited from Random:\n",
            "     |  \n",
            "     |  VERSION = 3\n",
            "     |  \n",
            "     |  ----------------------------------------------------------------------\n",
            "     |  Methods inherited from _random.Random:\n",
            "     |  \n",
            "     |  __getattribute__(self, name, /)\n",
            "     |      Return getattr(self, name).\n",
            "     |  \n",
            "     |  ----------------------------------------------------------------------\n",
            "     |  Static methods inherited from _random.Random:\n",
            "     |  \n",
            "     |  __new__(*args, **kwargs) from builtins.type\n",
            "     |      Create and return a new object.  See help(type) for accurate signature.\n",
            "\n",
            "FUNCTIONS\n",
            "    betavariate(alpha, beta) method of Random instance\n",
            "        Beta distribution.\n",
            "        \n",
            "        Conditions on the parameters are alpha > 0 and beta > 0.\n",
            "        Returned values range between 0 and 1.\n",
            "    \n",
            "    choice(seq) method of Random instance\n",
            "        Choose a random element from a non-empty sequence.\n",
            "    \n",
            "    choices(population, weights=None, *, cum_weights=None, k=1) method of Random instance\n",
            "        Return a k sized list of population elements chosen with replacement.\n",
            "        \n",
            "        If the relative weights or cumulative weights are not specified,\n",
            "        the selections are made with equal probability.\n",
            "    \n",
            "    expovariate(lambd) method of Random instance\n",
            "        Exponential distribution.\n",
            "        \n",
            "        lambd is 1.0 divided by the desired mean.  It should be\n",
            "        nonzero.  (The parameter would be called \"lambda\", but that is\n",
            "        a reserved word in Python.)  Returned values range from 0 to\n",
            "        positive infinity if lambd is positive, and from negative\n",
            "        infinity to 0 if lambd is negative.\n",
            "    \n",
            "    gammavariate(alpha, beta) method of Random instance\n",
            "        Gamma distribution.  Not the gamma function!\n",
            "        \n",
            "        Conditions on the parameters are alpha > 0 and beta > 0.\n",
            "        \n",
            "        The probability distribution function is:\n",
            "        \n",
            "                    x ** (alpha - 1) * math.exp(-x / beta)\n",
            "          pdf(x) =  --------------------------------------\n",
            "                      math.gamma(alpha) * beta ** alpha\n",
            "    \n",
            "    gauss(mu, sigma) method of Random instance\n",
            "        Gaussian distribution.\n",
            "        \n",
            "        mu is the mean, and sigma is the standard deviation.  This is\n",
            "        slightly faster than the normalvariate() function.\n",
            "        \n",
            "        Not thread-safe without a lock around calls.\n",
            "    \n",
            "    getrandbits(...) method of Random instance\n",
            "        getrandbits(k) -> x.  Generates an int with k random bits.\n",
            "    \n",
            "    getstate() method of Random instance\n",
            "        Return internal state; can be passed to setstate() later.\n",
            "    \n",
            "    lognormvariate(mu, sigma) method of Random instance\n",
            "        Log normal distribution.\n",
            "        \n",
            "        If you take the natural logarithm of this distribution, you'll get a\n",
            "        normal distribution with mean mu and standard deviation sigma.\n",
            "        mu can have any value, and sigma must be greater than zero.\n",
            "    \n",
            "    normalvariate(mu, sigma) method of Random instance\n",
            "        Normal distribution.\n",
            "        \n",
            "        mu is the mean, and sigma is the standard deviation.\n",
            "    \n",
            "    paretovariate(alpha) method of Random instance\n",
            "        Pareto distribution.  alpha is the shape parameter.\n",
            "    \n",
            "    randint(a, b) method of Random instance\n",
            "        Return random integer in range [a, b], including both end points.\n",
            "    \n",
            "    random(...) method of Random instance\n",
            "        random() -> x in the interval [0, 1).\n",
            "    \n",
            "    randrange(start, stop=None, step=1, _int=<class 'int'>) method of Random instance\n",
            "        Choose a random item from range(start, stop[, step]).\n",
            "        \n",
            "        This fixes the problem with randint() which includes the\n",
            "        endpoint; in Python this is usually not what you want.\n",
            "    \n",
            "    sample(population, k) method of Random instance\n",
            "        Chooses k unique random elements from a population sequence or set.\n",
            "        \n",
            "        Returns a new list containing elements from the population while\n",
            "        leaving the original population unchanged.  The resulting list is\n",
            "        in selection order so that all sub-slices will also be valid random\n",
            "        samples.  This allows raffle winners (the sample) to be partitioned\n",
            "        into grand prize and second place winners (the subslices).\n",
            "        \n",
            "        Members of the population need not be hashable or unique.  If the\n",
            "        population contains repeats, then each occurrence is a possible\n",
            "        selection in the sample.\n",
            "        \n",
            "        To choose a sample in a range of integers, use range as an argument.\n",
            "        This is especially fast and space efficient for sampling from a\n",
            "        large population:   sample(range(10000000), 60)\n",
            "    \n",
            "    seed(a=None, version=2) method of Random instance\n",
            "        Initialize internal state from hashable object.\n",
            "        \n",
            "        None or no argument seeds from current time or from an operating\n",
            "        system specific randomness source if available.\n",
            "        \n",
            "        If *a* is an int, all bits are used.\n",
            "        \n",
            "        For version 2 (the default), all of the bits are used if *a* is a str,\n",
            "        bytes, or bytearray.  For version 1 (provided for reproducing random\n",
            "        sequences from older versions of Python), the algorithm for str and\n",
            "        bytes generates a narrower range of seeds.\n",
            "    \n",
            "    setstate(state) method of Random instance\n",
            "        Restore internal state from object returned by getstate().\n",
            "    \n",
            "    shuffle(x, random=None) method of Random instance\n",
            "        Shuffle list x in place, and return None.\n",
            "        \n",
            "        Optional argument random is a 0-argument function returning a\n",
            "        random float in [0.0, 1.0); if it is the default None, the\n",
            "        standard random.random will be used.\n",
            "    \n",
            "    triangular(low=0.0, high=1.0, mode=None) method of Random instance\n",
            "        Triangular distribution.\n",
            "        \n",
            "        Continuous distribution bounded by given lower and upper limits,\n",
            "        and having a given mode value in-between.\n",
            "        \n",
            "        http://en.wikipedia.org/wiki/Triangular_distribution\n",
            "    \n",
            "    uniform(a, b) method of Random instance\n",
            "        Get a random number in the range [a, b) or [a, b] depending on rounding.\n",
            "    \n",
            "    vonmisesvariate(mu, kappa) method of Random instance\n",
            "        Circular data distribution.\n",
            "        \n",
            "        mu is the mean angle, expressed in radians between 0 and 2*pi, and\n",
            "        kappa is the concentration parameter, which must be greater than or\n",
            "        equal to zero.  If kappa is equal to zero, this distribution reduces\n",
            "        to a uniform random angle over the range 0 to 2*pi.\n",
            "    \n",
            "    weibullvariate(alpha, beta) method of Random instance\n",
            "        Weibull distribution.\n",
            "        \n",
            "        alpha is the scale parameter and beta is the shape parameter.\n",
            "\n",
            "DATA\n",
            "    __all__ = ['Random', 'seed', 'random', 'uniform', 'randint', 'choice',...\n",
            "\n",
            "FILE\n",
            "    /usr/lib/python3.7/random.py\n",
            "\n",
            "\n"
          ],
          "name": "stdout"
        }
      ]
    },
    {
      "cell_type": "markdown",
      "metadata": {
        "id": "qTsF11PBW9us"
      },
      "source": [
        "Usando funções de um módulo/pacote externo"
      ]
    },
    {
      "cell_type": "code",
      "metadata": {
        "cellView": "both",
        "id": "5M0CyLlLuafX",
        "colab": {
          "base_uri": "https://localhost:8080/"
        },
        "outputId": "abac2c1f-7bd5-4cde-cbff-f82413017e44"
      },
      "source": [
        "for i in range(10):\n",
        "  print(random.randint(0,10))\n",
        "  "
      ],
      "execution_count": null,
      "outputs": [
        {
          "output_type": "stream",
          "text": [
            "1\n",
            "2\n",
            "4\n",
            "4\n",
            "3\n",
            "7\n",
            "2\n",
            "7\n",
            "0\n",
            "0\n"
          ],
          "name": "stdout"
        }
      ]
    },
    {
      "cell_type": "markdown",
      "metadata": {
        "id": "jI8kedQ8W9ut"
      },
      "source": [
        "Abreviando a nomenclatura de um módulo"
      ]
    },
    {
      "cell_type": "code",
      "metadata": {
        "id": "D8nsln9g3Zaa",
        "colab": {
          "base_uri": "https://localhost:8080/"
        },
        "outputId": "dc2bc68d-2ac3-4cf2-eba9-0a8f35d51421"
      },
      "source": [
        "import random as ra\n",
        "\n",
        "for i in range(10):\n",
        "  print(ra.randint(1,10))\n",
        "  "
      ],
      "execution_count": null,
      "outputs": [
        {
          "output_type": "stream",
          "text": [
            "4\n",
            "8\n",
            "7\n",
            "3\n",
            "1\n",
            "6\n",
            "3\n",
            "3\n",
            "9\n",
            "2\n"
          ],
          "name": "stdout"
        }
      ]
    },
    {
      "cell_type": "markdown",
      "metadata": {
        "id": "m1fvQh-tW9ut"
      },
      "source": [
        "Importando apenas uma função específica de um módulo"
      ]
    },
    {
      "cell_type": "code",
      "metadata": {
        "id": "VGePhe1K3shG",
        "colab": {
          "base_uri": "https://localhost:8080/"
        },
        "outputId": "b0e13981-7864-437e-f1c8-a8cda9853623"
      },
      "source": [
        "from random import randint\n",
        "\n",
        "for i in range(10):\n",
        "  print(randint(0,10))\n",
        " "
      ],
      "execution_count": null,
      "outputs": [
        {
          "output_type": "stream",
          "text": [
            "2\n",
            "6\n",
            "7\n",
            "8\n",
            "2\n",
            "8\n",
            "1\n",
            "8\n",
            "7\n",
            "6\n"
          ],
          "name": "stdout"
        }
      ]
    },
    {
      "cell_type": "markdown",
      "metadata": {
        "id": "x2jUMbB5zliD"
      },
      "source": [
        "Criando Módulos Manualmente"
      ]
    },
    {
      "cell_type": "code",
      "metadata": {
        "id": "x7YUQ4thCaM7"
      },
      "source": [
        "# Arquivo soma.py\n",
        "\n",
        "def soma(num1, num2):\n",
        "    s = int(num1) + int(num2)\n",
        "    return s\n"
      ],
      "execution_count": null,
      "outputs": []
    },
    {
      "cell_type": "code",
      "metadata": {
        "id": "61CGAGq9BhST"
      },
      "source": [
        "# Arquivo index.py\n",
        "\n",
        "import soma\n",
        "\n",
        "print(f'O resultado da soma é: {soma.soma(8,3)}')\n"
      ],
      "execution_count": null,
      "outputs": []
    },
    {
      "cell_type": "markdown",
      "metadata": {
        "id": "C8fc7rPWPa6h"
      },
      "source": [
        "Importação Específica e Programada"
      ]
    },
    {
      "cell_type": "code",
      "metadata": {
        "id": "NAzVNz9jIl3P",
        "colab": {
          "base_uri": "https://localhost:8080/"
        },
        "outputId": "02be84bc-64f5-4445-a777-52688750fc72"
      },
      "source": [
        "import importlib\n",
        "\n",
        "gerador = importlib.import_module(\"random\")\n",
        "\n",
        "gerador = gerador.randint(0,10)\n",
        "\n",
        "print(gerador)\n"
      ],
      "execution_count": null,
      "outputs": [
        {
          "output_type": "stream",
          "text": [
            "1\n"
          ],
          "name": "stdout"
        }
      ]
    },
    {
      "cell_type": "markdown",
      "metadata": {
        "id": "fV-vRJOSSDi6"
      },
      "source": [
        "Re-importando um módulo, para resetá-lo ao seu estado inicial"
      ]
    },
    {
      "cell_type": "code",
      "metadata": {
        "colab": {
          "base_uri": "https://localhost:8080/"
        },
        "id": "P4F5KZLLPXjX",
        "outputId": "ca1620e1-b196-4adf-c001-a86b9ea5b94f"
      },
      "source": [
        "from importlib import reload\n",
        "import math\n",
        "\n",
        "math.pi = 3\n",
        "pi = math.pi\n",
        "print(pi) # Irá retornar 3, pois foi definido um valor manualmente\n",
        "\n",
        "reload(math)\n",
        "pi2 = math.pi\n",
        "print(pi2) # Irá retornar 3.141592653589793 pois o módulo pi foi recarregado e resetado\n"
      ],
      "execution_count": null,
      "outputs": [
        {
          "output_type": "stream",
          "text": [
            "3\n",
            "3\n"
          ],
          "name": "stdout"
        }
      ]
    },
    {
      "cell_type": "markdown",
      "metadata": {
        "id": "M4XcXNzKM1YU"
      },
      "source": [
        "## Empacotamento e Desempacotamento"
      ]
    },
    {
      "cell_type": "markdown",
      "metadata": {
        "id": "71eGIfptM4YP"
      },
      "source": [
        "Empacotamento"
      ]
    },
    {
      "cell_type": "code",
      "metadata": {
        "id": "63IY2bSpM6ae",
        "colab": {
          "base_uri": "https://localhost:8080/"
        },
        "outputId": "badced67-fdae-4379-9d38-e6622a168cd6"
      },
      "source": [
        "numeros = 2, 4, 6, 8, 10, 12\n",
        "# Todos atributos serão empacotados em uma tupla\n",
        "\n",
        "print(numeros)\n",
        "\n",
        "print(type(numeros))\n"
      ],
      "execution_count": null,
      "outputs": [
        {
          "output_type": "stream",
          "text": [
            "(2, 4, 6, 8, 10, 12)\n",
            "<class 'tuple'>\n"
          ],
          "name": "stdout"
        }
      ]
    },
    {
      "cell_type": "markdown",
      "metadata": {
        "id": "PBOoJ6fdNPL7"
      },
      "source": [
        "Desempacotamento"
      ]
    },
    {
      "cell_type": "code",
      "metadata": {
        "id": "NBWa9rJjNOab",
        "colab": {
          "base_uri": "https://localhost:8080/"
        },
        "outputId": "46fd51a2-41c4-4067-f615-04ccd28b0193"
      },
      "source": [
        "numeros2 = 1, 2, 3\n",
        "\n",
        "a, b, c = numeros2\n",
        "# Desempacotará sequencialmente cada elemento de numeros2 para sua respectiva\n",
        "# variável, após isto, as variáveis a, b e c já tem dados/valores iteráveis\n",
        "\n",
        "print(numeros2)\n",
        "\n",
        "print(a)\n",
        "\n",
        "print(b)\n",
        "\n",
        "print(c)\n"
      ],
      "execution_count": null,
      "outputs": [
        {
          "output_type": "stream",
          "text": [
            "(1, 2, 3)\n",
            "1\n",
            "2\n",
            "3\n"
          ],
          "name": "stdout"
        }
      ]
    },
    {
      "cell_type": "markdown",
      "metadata": {
        "id": "VCtYZYJXFaZl"
      },
      "source": [
        "## Programação Orientada a Objetos"
      ]
    },
    {
      "cell_type": "markdown",
      "metadata": {
        "id": "XC-ZZ47iW9uu"
      },
      "source": [
        "Sintaxe básica"
      ]
    },
    {
      "cell_type": "code",
      "metadata": {
        "id": "yC1OENGJP3EJ"
      },
      "source": [
        "class Nome:\n",
        "  objetos\n",
        "  \n",
        "# Palavra reservada class para identificar um Objeto\n"
      ],
      "execution_count": null,
      "outputs": []
    },
    {
      "cell_type": "markdown",
      "metadata": {
        "id": "hXPK-gg-W9uv"
      },
      "source": [
        "Criando uma classe vazia"
      ]
    },
    {
      "cell_type": "code",
      "metadata": {
        "id": "BoiLe2_GFdsC"
      },
      "source": [
        "class Pessoa:\n",
        "  pass\n",
        "\n",
        "# Palavra reservada pass dá o comando ao interpretador que simplesmente\n",
        "# ignore essa linha de código e parta para a próxima.\n"
      ],
      "execution_count": null,
      "outputs": []
    },
    {
      "cell_type": "markdown",
      "metadata": {
        "id": "fSt5R7aaW9uv"
      },
      "source": [
        "Criando objetos (atributos de classe) dentro de uma classe"
      ]
    },
    {
      "cell_type": "code",
      "metadata": {
        "id": "5acPQQdyQaIZ",
        "colab": {
          "base_uri": "https://localhost:8080/"
        },
        "outputId": "75f3159c-babb-4e72-e51d-781d7396e8fc"
      },
      "source": [
        "class Pessoa:\n",
        "  pass\n",
        "\n",
        "pessoa1 = Pessoa()\n",
        "\n",
        "pessoa1.nome = 'Fernando'\n",
        "pessoa1.idade = 32\n",
        "\n",
        "print(pessoa1.nome)\n"
      ],
      "execution_count": null,
      "outputs": [
        {
          "output_type": "stream",
          "text": [
            "Fernando\n"
          ],
          "name": "stdout"
        }
      ]
    },
    {
      "cell_type": "code",
      "metadata": {
        "id": "0YFUGjDWUSqg"
      },
      "source": [
        "class Pessoa:\n",
        "  pass\n",
        "\n",
        "pessoa1 = Pessoa()\n",
        "# Variável pessoa1 instancia a classe Pessoa, incorporando toda sua estrutura\n",
        "\n",
        "pessoa1.nome = 'Fernando'\n",
        "# Aplicando sobre pessoa1 nome = 'Fernando' é criado dentro da classe Pessoa\n",
        "# o objeto/atributo de classe nome com seu respectivo dado/valor 'Fernando'\n",
        "\n",
        "pessoa1.idade = 32\n",
        "# Da mesma forma, cria o atributo de classe idade, com valor 32\n",
        "\n",
        "print(pessoa1.nome)\n"
      ],
      "execution_count": null,
      "outputs": []
    },
    {
      "cell_type": "markdown",
      "metadata": {
        "id": "sWEohUQHW9uw"
      },
      "source": [
        "Criando funções (métodos de classe) dentro de uma classe"
      ]
    },
    {
      "cell_type": "code",
      "metadata": {
        "id": "vdn8wdNJbuWz",
        "colab": {
          "base_uri": "https://localhost:8080/"
        },
        "outputId": "2875778c-940d-43ee-b8b1-f6e3db6c69ba"
      },
      "source": [
        "class Pessoa:\n",
        "  def acao1(self):\n",
        "    print('Ação 1 sendo executada...')\n",
        "\n",
        "pessoa1 = Pessoa()\n",
        "\n",
        "pessoa1.acao1()\n"
      ],
      "execution_count": null,
      "outputs": [
        {
          "output_type": "stream",
          "text": [
            "Ação 1 sendo executada...\n"
          ],
          "name": "stdout"
        }
      ]
    },
    {
      "cell_type": "code",
      "metadata": {
        "id": "xH69iKxJU4E6"
      },
      "source": [
        "class Pessoa:\n",
        "  def acao1(self):\n",
        "  # Cria o método de classe acao1( ) que realiza uma ação e retorna algum\n",
        "  # dado ou valor dentro da classe via self.\n",
        "    print('Ação 1 sendo executada...')\n",
        "\n",
        "pessoa1 = Pessoa()\n",
        "# Variável pessoa1 instancia a classe Pessoa( ), incorporando toda sua estrutura\n",
        "\n",
        "pessoa1.acao1()\n",
        "# Variável pessoa1 possui todas as estruturas da classe, sendo assim, consegue\n",
        "# executar a função/método acao1( ) que por sua vez exibirá em tela uma mensagem\n",
        "# via função print( )\n"
      ],
      "execution_count": null,
      "outputs": []
    },
    {
      "cell_type": "markdown",
      "metadata": {
        "id": "ATmTyq0XW9uw"
      },
      "source": [
        "Criando uma classe com método construtor e objetos internos"
      ]
    },
    {
      "cell_type": "code",
      "metadata": {
        "id": "-4K5fr9ncHnb",
        "colab": {
          "base_uri": "https://localhost:8080/"
        },
        "outputId": "275883fe-af95-48c7-db7c-da87ec5d3be6"
      },
      "source": [
        "class Pessoa:\n",
        "  def __init__(self, nome, idade, sexo, altura):\n",
        "    self.nome = nome\n",
        "    self.idade = idade\n",
        "    self.sexo = sexo\n",
        "    self.altura = altura\n",
        "\n",
        "pessoa1 = Pessoa('Fernando', 32, 'M', 1.90)\n",
        "\n",
        "print(pessoa1.nome, pessoa1.idade)\n",
        "print(f'Bem vindo {pessoa1.nome}, parabéns pelos seus {pessoa1.idade} anos!!!')\n"
      ],
      "execution_count": null,
      "outputs": [
        {
          "output_type": "stream",
          "text": [
            "Fernando 32\n",
            "Bem vindo Fernando, parabéns pelos seus 32 anos!!!\n"
          ],
          "name": "stdout"
        }
      ]
    },
    {
      "cell_type": "code",
      "metadata": {
        "id": "YGm0Idw8VkrY"
      },
      "source": [
        "class Pessoa:\n",
        "  def __init__(self, nome, idade, sexo, altura):\n",
        "  # Método construtor __init__( ) cria objetos/atributos de classe iteráveis\n",
        "  # por qualquer outra estrutura interna a classe.\n",
        "    self.nome = nome\n",
        "    # self.nome cria o objeto nome no escopo global da classe, recebendo um\n",
        "    # nome a ser repassado pela variávei/objeto que instanciar a classe Pessoa\n",
        "\n",
        "    self.idade = idade\n",
        "    self.sexo = sexo\n",
        "    self.altura = altura\n",
        "\n",
        "pessoa1 = Pessoa('Fernando', 32, 'M', 1.90)\n",
        "# Variável pessoa1 instancia a classe Pessoa, repassando por justaposição\n",
        "# parâmetros para os objetos nome, idade, sexo e altura.\n",
        "\n",
        "print(pessoa1.nome, pessoa1.idade)\n",
        "\n",
        "print(f'Bem vindo {pessoa1.nome}, parabéns pelos seus {pessoa1.idade} anos!!!')\n"
      ],
      "execution_count": null,
      "outputs": []
    },
    {
      "cell_type": "markdown",
      "metadata": {
        "id": "HzCT7MNkW9uy"
      },
      "source": [
        "Mais de um método de classe dentro de uma classe"
      ]
    },
    {
      "cell_type": "code",
      "metadata": {
        "id": "yTN81eZjXAvV"
      },
      "source": [
        "class Pessoa:\n",
        "  ano_atual = 2021\n",
        "\n",
        "  def __init__(self, nome, idade):\n",
        "    self.nome = nome\n",
        "    self.idade = idade\n",
        "\n",
        "  def ano_nascimento(self):\n",
        "    ano_nasc = self.ano_atual - self.idade\n",
        "    print(f'Seu ano de nascimento é {ano_nasc}')\n",
        "\n",
        "pessoa1 = Pessoa('Fernando', 32)\n",
        "\n",
        "print(pessoa1.ano_nascimento())\n"
      ],
      "execution_count": null,
      "outputs": []
    },
    {
      "cell_type": "code",
      "metadata": {
        "id": "ro_Ci-j4c1ck",
        "colab": {
          "base_uri": "https://localhost:8080/"
        },
        "outputId": "cd5ba9d5-3869-4732-82b6-51b35fec4b8a"
      },
      "source": [
        "class Pessoa:\n",
        "  ano_atual = 2021\n",
        "\n",
        "  def __init__(self, nome, idade):\n",
        "  # Método construtor/inicializador de objetos\n",
        "    self.nome = nome\n",
        "    self.idade = idade\n",
        "\n",
        "  def ano_nascimento(self):\n",
        "  # Método ano_nascimento( ) com comportamento padrão de uma função qualquer\n",
        "    ano_nasc = self.ano_atual - self.idade\n",
        "    print(f'Seu ano de nascimento é {ano_nasc}')\n",
        "\n",
        "pessoa1 = Pessoa('Fernando', 32)\n",
        "\n",
        "print(pessoa1.ano_nascimento())\n",
        "\n",
        "# Lembrando que nesse exemplo ano_atual é um objeto/atributo da classe,\n",
        "# e está acessível a todas funções internas, já ano_nasc por exemplo\n",
        "# é uma variável do escopo da função ano_nascimento(), e não está\n",
        "# acessível fora dessa função. Funções dentro de classes podem receber\n",
        "# a nomenclatura de \"métodos\" assim como seus atributos podem ser\n",
        "# chamados de \"instâncias\".'''\n"
      ],
      "execution_count": null,
      "outputs": [
        {
          "output_type": "stream",
          "text": [
            "Seu ano de nascimento é 1989\n",
            "None\n"
          ],
          "name": "stdout"
        }
      ]
    },
    {
      "cell_type": "markdown",
      "metadata": {
        "id": "Sufdzcd-W9uy"
      },
      "source": [
        "Métodos de classe"
      ]
    },
    {
      "cell_type": "code",
      "metadata": {
        "id": "scT3YJ2Ughzd",
        "colab": {
          "base_uri": "https://localhost:8080/"
        },
        "outputId": "a828961f-4c81-4357-bd4a-cec66c71dadb"
      },
      "source": [
        "# Métodos que até interagem com funções internas,\n",
        "# mas retorna dados para o escopo global da classe\n",
        "\n",
        "class Pessoa:\n",
        "  ano_atual = 2021\n",
        "\n",
        "  def __init__(self, nome, idade):\n",
        "    self.nome = nome\n",
        "    self.idade = idade\n",
        "\n",
        "  @classmethod\n",
        "  def ano_nasc(cls, nome, ano_nascimento):\n",
        "    idade = cls.ano_atual - ano_nascimento\n",
        "    return cls(nome, idade)\n",
        "\n",
        "pessoa2 = Pessoa.ano_nasc('Fernando', 1987)\n",
        "\n",
        "print(f'{pessoa2.nome} tem {pessoa2.idade} anos.')\n"
      ],
      "execution_count": null,
      "outputs": [
        {
          "output_type": "stream",
          "text": [
            "Fernando tem 34 anos.\n"
          ],
          "name": "stdout"
        }
      ]
    },
    {
      "cell_type": "markdown",
      "metadata": {
        "id": "7JyOQUa5W9uz"
      },
      "source": [
        "Métodos estáticos"
      ]
    },
    {
      "cell_type": "code",
      "metadata": {
        "id": "p6rjRuvLkpqc",
        "colab": {
          "base_uri": "https://localhost:8080/"
        },
        "outputId": "4a9554db-662e-4395-e2a4-dbfc34b175b6"
      },
      "source": [
        "# Aqueles que não possuem instâncias como atributos,\n",
        "# funciona como uma função normal dentro da classe.\n",
        "\n",
        "from random import randint\n",
        "\n",
        "class Pessoa:\n",
        "  @staticmethod\n",
        "  def gerador_id():\n",
        "    gerador = randint(100, 999)\n",
        "    return gerador\n",
        "\n",
        "print(Pessoa.gerador_id())\n"
      ],
      "execution_count": null,
      "outputs": [
        {
          "output_type": "stream",
          "text": [
            "896\n",
            "<__main__.Pessoa object at 0x7fd0eecc2bd0>\n"
          ],
          "name": "stdout"
        }
      ]
    },
    {
      "cell_type": "code",
      "metadata": {
        "colab": {
          "base_uri": "https://localhost:8080/"
        },
        "id": "A5n1XYsQYnEQ",
        "outputId": "b96f4cc1-2af2-4f72-a71c-099c51fe1c68"
      },
      "source": [
        "from random import randint\n",
        "\n",
        "class Pessoa:\n",
        "  @staticmethod\n",
        "  def gerador_id():\n",
        "    gerador = randint(100, 999)\n",
        "    return gerador\n",
        "\n",
        "print(Pessoa.gerador_id())\n",
        "# Instancia diretamente da classe Pessoa o método de classe gerador_id( )\n",
        "\n",
        "pessoa3 = Pessoa()\n",
        "pessoa3.gerador_id()\n",
        "print(pessoa3)\n",
        "# Apenas como exemplo, retornará o identificador do objeto dentro da classe\n"
      ],
      "execution_count": null,
      "outputs": [
        {
          "output_type": "stream",
          "text": [
            "186\n",
            "<__main__.Pessoa object at 0x7fd0eebd7710>\n"
          ],
          "name": "stdout"
        }
      ]
    },
    {
      "cell_type": "markdown",
      "metadata": {
        "id": "EY0KZiUzW9u7"
      },
      "source": [
        "@property, Getters e Setters"
      ]
    },
    {
      "cell_type": "code",
      "metadata": {
        "id": "ywTYFlVppjCj",
        "colab": {
          "base_uri": "https://localhost:8080/"
        },
        "outputId": "7137ecf8-52bd-4cf4-bbad-5273c22975b8"
      },
      "source": [
        "class Produto:\n",
        "  def __init__(self, nome, preco):\n",
        "    self.nome = nome\n",
        "    self.preco = preco\n",
        "\n",
        "  def desconto(self, percentual):\n",
        "    self.preco = self.preco - (self.preco * (percentual / 100))\n",
        "  \n",
        "  #Getter\n",
        "  @property\n",
        "  def preco(self):\n",
        "    return self._preco\n",
        "  \n",
        "  #Setter\n",
        "  @preco.setter\n",
        "  def preco(self, valor):\n",
        "    if isinstance(valor, str):\n",
        "      valor = float(valor.replace('R$', ''))\n",
        "\n",
        "    self._preco = valor\n",
        "\n",
        "produto1 = Produto('Camiseta', 99)\n",
        "produto1.desconto(5)\n",
        "print(produto1.preco)\n",
        "\n",
        "# Supondo que o usuário passou um valor que não pode ser processado\n",
        "# porque foi passado em tipo de dado incorreto\n",
        "#    produto2 = Produto('Calça', 'R$59')\n",
        "#    produto2.desconto(15)\n",
        "#    print(produto2.preco)\n",
        "# Irá gerar um erro pois R$59 não é um int, então é necessário criar\n",
        "# uma estrutura de métodos que farão essa correção.\n",
        "\n",
        "produto2 = Produto('Calça', 'R$59')\n",
        "produto2.desconto(15)\n",
        "print(f'Produto2 após aplicação do desconto terá valor de {produto2.preco}')\n"
      ],
      "execution_count": null,
      "outputs": [
        {
          "output_type": "stream",
          "text": [
            "94.05\n",
            "Produto2 após aplicação do desconto terá valor de 50.15\n"
          ],
          "name": "stdout"
        }
      ]
    },
    {
      "cell_type": "markdown",
      "metadata": {
        "id": "ZvS30S5WW9u8"
      },
      "source": [
        "Atributos de classe"
      ]
    },
    {
      "cell_type": "code",
      "metadata": {
        "id": "zAjJFdQY4kcs",
        "colab": {
          "base_uri": "https://localhost:8080/"
        },
        "outputId": "b13ba083-0bb5-4b63-9c9b-4b586d6fa2cf"
      },
      "source": [
        "# Variáveis de classe vão ser as variáveis que estarão declaradas\n",
        "# dentro de uma classe, e que serão atribuídas a toda variável\n",
        "# externa que instanciar essa classe.\n",
        "\n",
        "class Classe1:\n",
        "  var1 = 101001\n",
        "\n",
        "variavel1 = Classe1()\n",
        "\n",
        "print(Classe1.var1)\n",
        "print(variavel1.var1)\n"
      ],
      "execution_count": null,
      "outputs": [
        {
          "output_type": "stream",
          "text": [
            "101001\n",
            "101001\n"
          ],
          "name": "stdout"
        }
      ]
    },
    {
      "cell_type": "markdown",
      "metadata": {
        "id": "pUaMEys4W9u8"
      },
      "source": [
        "Mudando um atributo de classe"
      ]
    },
    {
      "cell_type": "code",
      "metadata": {
        "id": "zBtIzxkZ6ccl",
        "colab": {
          "base_uri": "https://localhost:8080/"
        },
        "outputId": "db0af48d-a5d6-4654-9c29-0cdb5283300d"
      },
      "source": [
        "class Classe1:\n",
        "  var1 = 101001\n",
        "\n",
        "variavel1 = Classe1()\n",
        "Classe1.var1 = 111111\n",
        "\n",
        "print(Classe1.var1)\n"
      ],
      "execution_count": null,
      "outputs": [
        {
          "output_type": "stream",
          "text": [
            "111111\n"
          ],
          "name": "stdout"
        }
      ]
    },
    {
      "cell_type": "markdown",
      "metadata": {
        "id": "98ox_SgDW9u9"
      },
      "source": [
        "Aplicação de orientação à objetos"
      ]
    },
    {
      "cell_type": "code",
      "metadata": {
        "id": "bSVm-0Fy59cH",
        "colab": {
          "base_uri": "https://localhost:8080/"
        },
        "outputId": "af787171-66ad-47f2-9108-a4c23ee83c3d"
      },
      "source": [
        "class BaseDeDados:\n",
        "  def __init__(self):\n",
        "    self.base = {}\n",
        "  \n",
        "  def inserir(self, nome, fone):\n",
        "    if 'clientes' not in self.base:\n",
        "      self.base['clientes'] = {nome:fone}\n",
        "    else:\n",
        "      self.base['clientes'].update({nome:fone})\n",
        "  \n",
        "  def listar(self):\n",
        "    for n, f in self.base['clientes'].items():\n",
        "      print(n, f)\n",
        "  \n",
        "  def apagar(self, nome):\n",
        "    del self.base['clientes'][nome]\n",
        "\n",
        "\n",
        "clientes = BaseDeDados()\n",
        "\n",
        "clientes.inserir('Ana', 991358899)\n",
        "clientes.inserir('Fernando', 981357295)\n",
        "clientes.inserir('Maria', 999891415)\n",
        "\n",
        "#clientes.listar()\n",
        "\n",
        "clientes.apagar('Ana')\n",
        "\n",
        "clientes.listar()\n"
      ],
      "execution_count": null,
      "outputs": [
        {
          "output_type": "stream",
          "text": [
            "Fernando 981357295\n",
            "Maria 999891415\n"
          ],
          "name": "stdout"
        }
      ]
    },
    {
      "cell_type": "markdown",
      "metadata": {
        "id": "yqMQ9gcN0SYi"
      },
      "source": [
        "Encapsulamento"
      ]
    },
    {
      "cell_type": "code",
      "metadata": {
        "id": "3c4QHPngAiVi",
        "colab": {
          "base_uri": "https://localhost:8080/"
        },
        "outputId": "743f0fdb-c1ae-4a88-c926-8c3fdca04e02"
      },
      "source": [
        "# Serve para definir se alguma função de alguma classe será acessível ou não fora dela.\n",
        "# Muito pareceido com o public ou private em outras linguagens de programação.\n",
        "\n",
        "class BaseDeDados:\n",
        "  def __init__(self):\n",
        "    self.dados = {}\n",
        "    #self._dados = {} declarado como protegido (ainda acessível de fora da classe)\n",
        "    #self.__dados = {} declarado como privado (inacessível de fora da classe)\n",
        "\n",
        "base = BaseDeDados()\n",
        "\n",
        "print(base.dados)\n"
      ],
      "execution_count": null,
      "outputs": [
        {
          "output_type": "stream",
          "text": [
            "{}\n"
          ],
          "name": "stdout"
        }
      ]
    },
    {
      "cell_type": "markdown",
      "metadata": {
        "id": "1yReQWw-85s8"
      },
      "source": [
        "## Tipagem de Dados Avançada"
      ]
    },
    {
      "cell_type": "code",
      "metadata": {
        "id": "l3rf7ugqkkxy",
        "colab": {
          "base_uri": "https://localhost:8080/"
        },
        "outputId": "208a805f-78c9-4e20-e3f5-772aa4a127c7"
      },
      "source": [
        "num = 1987\n",
        "\n",
        "%whos\n"
      ],
      "execution_count": null,
      "outputs": [
        {
          "output_type": "stream",
          "text": [
            "Variable   Type    Data/Info\n",
            "----------------------------\n",
            "num        int     1987\n"
          ],
          "name": "stdout"
        }
      ]
    },
    {
      "cell_type": "markdown",
      "metadata": {
        "id": "bS_2a3Y3ALmq"
      },
      "source": [
        "Tipagem dinâmica vs estática"
      ]
    },
    {
      "cell_type": "code",
      "metadata": {
        "id": "sVsMJyYyAR0u",
        "colab": {
          "base_uri": "https://localhost:8080/"
        },
        "outputId": "ed13f0f4-022f-49ed-deaa-4f4b8c1c384b"
      },
      "source": [
        "# Python é uma linguagem de programação dinamicamente tipada, logo, todos os\n",
        "# tipos de dados são automaticamente identificados pelo interpretador.\n",
        "\n",
        "numero = 1987\n",
        "\n",
        "print(type(numero))\n",
        "# Retornará int\n",
        "\n",
        "numero = '1987'\n",
        "# Mesma variável, pela leitura léxica terá seu tipo de dado atualizado para str\n",
        "\n",
        "print(type(numero))\n"
      ],
      "execution_count": null,
      "outputs": [
        {
          "output_type": "stream",
          "text": [
            "<class 'int'>\n",
            "<class 'str'>\n"
          ],
          "name": "stdout"
        }
      ]
    },
    {
      "cell_type": "markdown",
      "metadata": {
        "id": "agtn4n2q9R7M"
      },
      "source": [
        "Tipando um dado manualmente"
      ]
    },
    {
      "cell_type": "code",
      "metadata": {
        "id": "h6NszksSAR3F",
        "colab": {
          "base_uri": "https://localhost:8080/"
        },
        "outputId": "f7b23c3b-e342-4fa2-ddc9-2475b9d1bf4c"
      },
      "source": [
        "numero = int(1987)\n",
        "# Definido manualmente como do tipo inteiro\n",
        "\n",
        "print(type(numero))\n",
        "\n",
        "numero = int('1987')\n",
        "# Método int( ) preserva o tipo do dado como inteiro\n",
        "\n",
        "print(type(numero))\n"
      ],
      "execution_count": null,
      "outputs": [
        {
          "output_type": "stream",
          "text": [
            "<class 'int'>\n",
            "<class 'int'>\n"
          ],
          "name": "stdout"
        }
      ]
    },
    {
      "cell_type": "markdown",
      "metadata": {
        "id": "QofQ_rQ-9Wvu"
      },
      "source": [
        "Tipagem manual via gerador de objeto"
      ]
    },
    {
      "cell_type": "code",
      "metadata": {
        "id": "6pMgtZpHmH73",
        "colab": {
          "base_uri": "https://localhost:8080/"
        },
        "outputId": "1288c95a-e833-44ba-92a3-63ce3b45195a"
      },
      "source": [
        "nomes: list = ['Alberto', 'Fernando', 'Tania']\n",
        "\n",
        "print(nomes)\n",
        "print(type(nomes))\n",
        "\n",
        "idades: tuple = (74, 33, 61)\n",
        "\n",
        "print(idades)\n",
        "print(type(idades))\n"
      ],
      "execution_count": null,
      "outputs": [
        {
          "output_type": "stream",
          "text": [
            "['Alberto', 'Fernando', 'Tania']\n",
            "<class 'list'>\n",
            "(74, 33, 61)\n",
            "<class 'tuple'>\n"
          ],
          "name": "stdout"
        }
      ]
    },
    {
      "cell_type": "code",
      "metadata": {
        "id": "eQUEWRqAnWPA",
        "colab": {
          "base_uri": "https://localhost:8080/"
        },
        "outputId": "260b2dd2-198c-484e-8114-fea385eb1ab7"
      },
      "source": [
        "var1: set = {}\n",
        "var2: list = []\n",
        "var3: tuple = ()\n",
        "var4: dict = {}\n",
        "\n",
        "print(__annotations__)\n",
        "# Retornará cada variável e seu respectivo tipo de dado\n",
        "\n",
        "print(list(__annotations__))\n"
      ],
      "execution_count": null,
      "outputs": [
        {
          "output_type": "stream",
          "text": [
            "{'var1': <class 'set'>, 'var2': <class 'list'>, 'var3': <class 'tuple'>, 'var4': <class 'dict'>}\n",
            "['var1', 'var2', 'var3', 'var4']\n"
          ],
          "name": "stdout"
        }
      ]
    },
    {
      "cell_type": "markdown",
      "metadata": {
        "id": "HZDNJZ9vVpZC"
      },
      "source": [
        "Tipo esperado e tipo retornado"
      ]
    },
    {
      "cell_type": "code",
      "metadata": {
        "id": "Ld-x7mtXVtgA"
      },
      "source": [
        "# Define o tipo de variável que é esperado, e qual tipo será retornado\n",
        "\n",
        "def dobro_valor(num: int) -> float:\n",
        "  return num * 2\n",
        "# Nesse caso é esperado que o número fornecido seja do tipo int, e que\n",
        "# o número retornado pela função seja float. Ainda sim, por conta de o\n",
        "# Python ser dinamicamente tipado, para evitar erros o interpretador\n",
        "# pode ignorar tais instruções.\n"
      ],
      "execution_count": null,
      "outputs": []
    },
    {
      "cell_type": "markdown",
      "metadata": {
        "id": "EgNWG84jWipu"
      },
      "source": [
        "Definindo manualmente o tipo de dado da variável/objeto e o tipo de conteúdo atribuído para a mesma."
      ]
    },
    {
      "cell_type": "code",
      "metadata": {
        "id": "J-1D5uLzn_iX",
        "colab": {
          "base_uri": "https://localhost:8080/"
        },
        "outputId": "a029ee27-be81-4596-a62e-d60f4fd88020"
      },
      "source": [
        "from typing import List\n",
        "# Também é possível importar Dict, Tuple e Set\n",
        "\n",
        "digitos1: List[int] = [2, 4, 6, 8]\n",
        "digitos2: List[str] = ['1', '3', '5', '7']\n",
        "\n",
        "print(type(digitos1))\n",
        "print(type(digitos1[0]))\n",
        "\n",
        "print(type(digitos2))\n",
        "print(type(digitos2[0]))\n",
        "\n",
        "print(__annotations__)\n",
        "# Irá retornar digitos1': typing.List[int] e 'digitos2': typing.List[str]\n",
        "# pois digitos1 é uma lista de inteiros assim como digitos2 é uma lista\n",
        "# de strings.\n"
      ],
      "execution_count": null,
      "outputs": [
        {
          "output_type": "stream",
          "text": [
            "<class 'list'>\n",
            "<class 'int'>\n",
            "<class 'list'>\n",
            "<class 'str'>\n",
            "{'nomes': <class 'list'>, 'idades': <class 'tuple'>, 'var1': <class 'set'>, 'var2': <class 'list'>, 'var3': <class 'tuple'>, 'var4': {'almox': ['Folha de Oficio', 'Caneta', 'Grampeador'], 'cozinha': ['Café', 'Açúcar']}, 'digitos1': typing.List[int], 'digitos2': typing.List[str]}\n"
          ],
          "name": "stdout"
        }
      ]
    },
    {
      "cell_type": "markdown",
      "metadata": {
        "id": "2A66b6KQWWa7"
      },
      "source": [
        "Duck Typing"
      ]
    },
    {
      "cell_type": "code",
      "metadata": {
        "id": "YFrBMocsAR5W",
        "colab": {
          "base_uri": "https://localhost:8080/"
        },
        "outputId": "89f70cbc-bf7c-4d38-f1d9-f5a4b4dd890b"
      },
      "source": [
        "# Conceito onde o tipo de dado é menos importante que o método que o define\n",
        "# Tipos de dados parecidos suportam os mesmos métodos\n",
        "\n",
        "lista2 = [1, 2, 3, 4, 5, 6, 7, 8]\n",
        "nome2 = 'Fernando Feltrin'\n",
        "# Tanto lista2 quanto nome2 são contêineres de dados\n",
        "\n",
        "print(len(lista2))\n",
        "print(len(nome2))\n",
        "# Logo, suportam os mesmos métodos\n"
      ],
      "execution_count": null,
      "outputs": [
        {
          "output_type": "stream",
          "text": [
            "8\n",
            "16\n"
          ],
          "name": "stdout"
        }
      ]
    },
    {
      "cell_type": "code",
      "metadata": {
        "id": "ZbFVSY3KYp_U",
        "colab": {
          "base_uri": "https://localhost:8080/",
          "height": 227
        },
        "outputId": "85286baf-2bdd-467f-df22-1600930a8b22"
      },
      "source": [
        "nascimento = 1987\n",
        "\n",
        "print(len(nascimento))\n",
        "\n",
        "# Irá gerar um erro pois o método len não se aplica a esse tipo de dado\n"
      ],
      "execution_count": null,
      "outputs": [
        {
          "output_type": "error",
          "ename": "TypeError",
          "evalue": "ignored",
          "traceback": [
            "\u001b[0;31m---------------------------------------------------------------------------\u001b[0m",
            "\u001b[0;31mTypeError\u001b[0m                                 Traceback (most recent call last)",
            "\u001b[0;32m<ipython-input-348-7d812111c847>\u001b[0m in \u001b[0;36m<module>\u001b[0;34m()\u001b[0m\n\u001b[1;32m      1\u001b[0m \u001b[0mnascimento\u001b[0m \u001b[0;34m=\u001b[0m \u001b[0;36m1987\u001b[0m\u001b[0;34m\u001b[0m\u001b[0;34m\u001b[0m\u001b[0m\n\u001b[1;32m      2\u001b[0m \u001b[0;34m\u001b[0m\u001b[0m\n\u001b[0;32m----> 3\u001b[0;31m \u001b[0mprint\u001b[0m\u001b[0;34m(\u001b[0m\u001b[0mlen\u001b[0m\u001b[0;34m(\u001b[0m\u001b[0mnascimento\u001b[0m\u001b[0;34m)\u001b[0m\u001b[0;34m)\u001b[0m\u001b[0;34m\u001b[0m\u001b[0;34m\u001b[0m\u001b[0m\n\u001b[0m\u001b[1;32m      4\u001b[0m \u001b[0;31m# Irá gerar um erro pois o método len não se aplica a esse tipo de dado\u001b[0m\u001b[0;34m\u001b[0m\u001b[0;34m\u001b[0m\u001b[0;34m\u001b[0m\u001b[0m\n",
            "\u001b[0;31mTypeError\u001b[0m: object of type 'int' has no len()"
          ]
        }
      ]
    },
    {
      "cell_type": "code",
      "metadata": {
        "id": "O7H2EoxhWaR_",
        "colab": {
          "base_uri": "https://localhost:8080/"
        },
        "outputId": "d37f661f-25c9-4865-e1be-715df2f6f40c"
      },
      "source": [
        "class Pessoa:\n",
        "  def __len__(self):\n",
        "    return 1987\n",
        "\n",
        "pessoa1 = Pessoa()\n",
        "print(len(pessoa1))\n",
        "\n",
        "# Transformando o dado em parte de um contêiner, assim como seu método,\n",
        "# é possível retornar essa iteração antes não permitida para um dado\n",
        "# do tipo int, inclusive usando do método len( ) como nos demais contêineres\n"
      ],
      "execution_count": null,
      "outputs": [
        {
          "output_type": "stream",
          "text": [
            "1987\n"
          ],
          "name": "stdout"
        }
      ]
    },
    {
      "cell_type": "markdown",
      "metadata": {
        "id": "CwJJn2d-gu1G"
      },
      "source": [
        "Tipagem em Comentário"
      ]
    },
    {
      "cell_type": "code",
      "metadata": {
        "id": "ACqGfrX7gy5w",
        "colab": {
          "base_uri": "https://localhost:8080/"
        },
        "outputId": "f1c4ac12-d03d-4d63-a9cf-a1203ee55f58"
      },
      "source": [
        "# Para que seja possível interpretar a instrução type, o processo de verificação\n",
        "# dos tipos de dados e suas conversões ao longo do código é feita pela biblioteca\n",
        "# mypy.\n",
        "\n",
        "import math\n",
        "\n",
        "def circunferencia(num):\n",
        "    # type: (int) -> float\n",
        "    return 2 * math.pi * num\n",
        "\n",
        "calculo = circunferencia(8)\n",
        "\n",
        "print(calculo)\n",
        "print(type(calculo))\n"
      ],
      "execution_count": null,
      "outputs": [
        {
          "output_type": "stream",
          "text": [
            "50.26548245743669\n",
            "<class 'float'>\n"
          ],
          "name": "stdout"
        }
      ]
    },
    {
      "cell_type": "code",
      "metadata": {
        "id": "gSg70waFg2x6"
      },
      "source": [
        "# pip install mypy\n",
        "\n",
        "# Executar o arquivo via terminal, ex: mypy arquivo.py, será verificado\n",
        "# o arquivo em busca de erros e será interpretada a instrução repassada\n",
        "# via comentário.\n",
        "\n",
        "# Para permitir dois ou mais tipos de dados de entrada, basta especificá-los\n",
        "# usando vírgula como separador. Ex: # type: (str, bool) -> str\n"
      ],
      "execution_count": null,
      "outputs": []
    },
    {
      "cell_type": "markdown",
      "metadata": {
        "id": "0Uzb8Er0Wo6d"
      },
      "source": [
        "## Tipos de Dados Especiais Para Validações"
      ]
    },
    {
      "cell_type": "markdown",
      "metadata": {
        "id": "FUGmb1hovDfz"
      },
      "source": [
        "Tipo Literal"
      ]
    },
    {
      "cell_type": "code",
      "metadata": {
        "id": "7hxqzI1MWreA"
      },
      "source": [
        "from typing import Literal\n",
        "\n",
        "def usuario(user: str) -> Literal['logado', 'deslogado']:\n",
        "    # Definimos que a função receberá um dado no formato string e retornará\n",
        "    # literalmente/obrigatoriamente ou 'logado' ou 'deslogado'.\n",
        "    if user == 'logado':\n",
        "        print('Logado no sistema')\n",
        "    if user == 'deslogado':\n",
        "        print('Deslogado do sistema')\n",
        "    if user != 'logado' and user != 'deslogado':\n",
        "        print('Status inválido')\n",
        "\n",
        "var1 = usuario('deslogado')\n"
      ],
      "execution_count": null,
      "outputs": []
    },
    {
      "cell_type": "markdown",
      "metadata": {
        "id": "sug-HWOEvFaX"
      },
      "source": [
        "Tipo Union"
      ]
    },
    {
      "cell_type": "code",
      "metadata": {
        "id": "9CKB5-dtWrgh"
      },
      "source": [
        "from typing import Union\n",
        "\n",
        "def soma(num1: int, num2: int) -> Union[str, int]:\n",
        "  # Recebe dois números do tipo int e permite que retorne um dado do tipo\n",
        "  # string ou int.\n",
        "  res_soma = num1 + num2\n",
        "  print(f'O resultado da soma é: {res_soma}')\n",
        "  return res_soma\n",
        "\n",
        "calculo1 = soma(99, 12)\n"
      ],
      "execution_count": null,
      "outputs": []
    },
    {
      "cell_type": "code",
      "metadata": {
        "id": "_uen1yxLb7qv"
      },
      "source": [
        "# Pode ser usado em qualquer parâmetro/argumento\n",
        "\n",
        "from typing import Union\n",
        "\n",
        "def soma(num1: Union[int, float], num2: Union[int, float]) -> Union[str, int]:\n",
        "  # Recebe dois números do tipo int e permite que retorne um dado do tipo\n",
        "  # string ou int.\n",
        "  res_soma = num1 + num2\n",
        "  print(f'O resultado da soma é: {res_soma}')\n",
        "  return res_soma\n",
        "\n",
        "calculo1 = soma(99, 12)\n"
      ],
      "execution_count": null,
      "outputs": []
    },
    {
      "cell_type": "markdown",
      "metadata": {
        "id": "EUGPgQ0CvSwr"
      },
      "source": [
        "Tipo Final"
      ]
    },
    {
      "cell_type": "code",
      "metadata": {
        "id": "LjFgJBfGWrlK"
      },
      "source": [
        "# Tipo de dado equivalente a uma constante\n",
        "\n",
        "from typing import Final\n",
        "\n",
        "NOME: Final = 'Fernando'\n",
        "\n",
        "print(NOME)\n",
        "\n",
        "# Em Python não existem literalmente constantes, porém uma máscara de identificação\n",
        "# é criada tipando esse dado, usando do MyPy é possível verificar se algum\n",
        "# iterador em algum momento tentou modificar essa \"constante\", e se sim, irá\n",
        "# gerar um erro apontando que algo modificou o valor padrão desse objeto.\n"
      ],
      "execution_count": null,
      "outputs": []
    },
    {
      "cell_type": "markdown",
      "metadata": {
        "id": "rZgI8kOn9n8T"
      },
      "source": [
        "Decorador \"final\""
      ]
    },
    {
      "cell_type": "code",
      "metadata": {
        "id": "7onxsfC1WroF"
      },
      "source": [
        "from typing import final\n",
        "\n",
        "class Pessoa:\n",
        "\n",
        "  def acao1(self):\n",
        "    print('Trabalhando...')\n",
        "\n",
        "@final\n",
        "class Pessoa:\n",
        "  def acao1(self):\n",
        "    print('Trabalhando...')\n",
        "\n",
        "class Pessoa:\n",
        "  @final\n",
        "  def acao1(self):\n",
        "    print('Trabalhando...')\n"
      ],
      "execution_count": null,
      "outputs": []
    },
    {
      "cell_type": "code",
      "metadata": {
        "id": "tL18dhEB-ARS"
      },
      "source": [
        "from typing import final\n",
        "\n",
        "# Sem restrições\n",
        "class Pessoa:\n",
        "\n",
        "  def acao1(self):\n",
        "    print('Trabalhando...')\n",
        "\n",
        "# Classe inteira protegida como constante pelo decorador\n",
        "@final\n",
        "class Pessoa:\n",
        "  def acao1(self):\n",
        "    print('Trabalhando...')\n",
        "# Nenhuma classe que herdar essa estrutura conseguirá sobrescrever dados\n",
        "# Via Mypy é possível ver um erro gerado, dizendo que não se deveria \n",
        "# iterar sobre a classe Pessoa\n",
        "\n",
        "# Método de classe protegida como constante pelo decorador\n",
        "class Pessoa:\n",
        "  @final\n",
        "  def acao1(self):\n",
        "    print('Trabalhando...')\n",
        "\n",
        "# No código geral o interpretador contornará esse \"problema\" e\n",
        "# executará os blocos das classes, porém é possível verificar\n",
        "# via MyPy que internamente são geradas pequenas exceções.\n"
      ],
      "execution_count": null,
      "outputs": []
    },
    {
      "cell_type": "markdown",
      "metadata": {
        "id": "o_VD_c3TKGv-"
      },
      "source": [
        "TypedDict"
      ]
    },
    {
      "cell_type": "code",
      "metadata": {
        "id": "avS4dz4OWrrH"
      },
      "source": [
        "# Dicionário tipado orientado a objetos\n",
        "\n",
        "from typing import TypedDict\n",
        "\n",
        "class Programa(TypedDict):\n",
        "  versao: str\n",
        "  revisao: float\n",
        "\n",
        "projeto1 = Programa(versao = '1.0.237', revisao = 0.01)\n",
        "\n",
        "print(projeto1)\n"
      ],
      "execution_count": null,
      "outputs": []
    },
    {
      "cell_type": "markdown",
      "metadata": {
        "id": "Ob46Tz2BURT5"
      },
      "source": [
        "Protocol"
      ]
    },
    {
      "cell_type": "code",
      "metadata": {
        "id": "v_v1QdatWruu"
      },
      "source": [
        "# Define ojetos / atributos de classe tipados, onde uma tipagem é\n",
        "# definida e a partir daí todas classes filhas terão de \"seguir o protocolo\",\n",
        "# respeitando a tipagem para que seus dados internamente não gerem exceções.\n",
        "\n",
        "from typing import Protocol\n",
        "\n",
        "class Pessoa(Protocol):\n",
        "  nome: str\n",
        "\n",
        "def identificacao(primeiro_nome: Pessoa) -> str:\n",
        "  print(f'Usuário identificado como: {primeiro_nome.nome}')\n",
        "\n",
        "class Pessoa1:\n",
        "  nome = 'Fernando'\n",
        "\n",
        "pessoa1 = Pessoa1()\n",
        "identificacao(pessoa1)\n"
      ],
      "execution_count": null,
      "outputs": []
    },
    {
      "cell_type": "code",
      "metadata": {
        "id": "Tp9PxSx893ve"
      },
      "source": [
        "from typing import Protocol\n",
        "\n",
        "class Pessoa(Protocol):\n",
        "  nome: str\n",
        "  # Define que obrigatoriamente classes herdeiras terão de ter um nome\n",
        "  # do tipo string para que se comportem de acordo com a \"classe molde\"\n",
        "\n",
        "def identificacao(primeiro_nome: Pessoa) -> str:\n",
        "  # Função identificacao( ) recebe como parâmetro um primeiro_nome\n",
        "  # que tem sua estrutura moldada e regrada por Pessoa(Protocol)\n",
        "  print(f'Usuário identificado como: {primeiro_nome.nome}')\n",
        "\n",
        "class Pessoa1: # classe herdeira\n",
        "  nome = 'Fernando' # objeto obrigatório segundo o protocolo\n",
        "\n",
        "pessoa1 = Pessoa1()\n",
        "identificacao(pessoa1)\n"
      ],
      "execution_count": null,
      "outputs": []
    },
    {
      "cell_type": "markdown",
      "metadata": {
        "id": "o3PF9FO7LiOw"
      },
      "source": [
        "## Função print( ) (Avançado)"
      ]
    },
    {
      "cell_type": "markdown",
      "metadata": {
        "id": "N8u8wKGKwkq0"
      },
      "source": [
        "Quebrando em linhas o conteúdo de uma string parâmetro da função print( )"
      ]
    },
    {
      "cell_type": "code",
      "metadata": {
        "id": "-HGRDzlFq20k",
        "colab": {
          "base_uri": "https://localhost:8080/"
        },
        "outputId": "fdf44c6b-8c86-4a2e-b9aa-1d52dfcc4440"
      },
      "source": [
        "print('O resultado dos testes serão divulgados amanhã. Grato pela compreensão.')\n",
        "\n",
        "print('O resultado dos testes serão divulgados amanhã. \\nGrato pela compreensão.')\n"
      ],
      "execution_count": null,
      "outputs": [
        {
          "output_type": "stream",
          "text": [
            "O resultado dos testes serão divulgados amanhã. Grato pela compreensão.\n",
            "O resultado dos testes serão divulgados amanhã. \n",
            "Grato pela compreensão.\n"
          ],
          "name": "stdout"
        }
      ]
    },
    {
      "cell_type": "markdown",
      "metadata": {
        "id": "VP6-WiIAUAlZ"
      },
      "source": [
        "Exibindo em tela uma mensagem colorida"
      ]
    },
    {
      "cell_type": "code",
      "metadata": {
        "id": "84xgav5fUFB6",
        "colab": {
          "base_uri": "https://localhost:8080/"
        },
        "outputId": "e08be3ed-3ba7-44e9-a195-9d86459ba420"
      },
      "source": [
        "import sys\n",
        "\n",
        "class cores:\n",
        "  VERDE = '\\033[32m'\n",
        "  AZUL = '\\033[34m'\n",
        "  AMARELO = '\\033[33m'\n",
        "  VERMELHO = '\\033[31m'\n",
        "  PADRAO = '\\033[0m'\n",
        "  # Para mais cores buscar a referência da tabela de cores\n",
        "\n",
        "mensagem1 = 'Estamos vivendo uma pandemia!'\n",
        "\n",
        "def msg(cor, mensagem):\n",
        "  print(cor + mensagem + cores.PADRAO)\n",
        "\n",
        "msg1 = msg(cores.AMARELO, mensagem1)\n",
        "\n",
        "print(msg(cores.VERMELHO, mensagem1))\n",
        "print(msg(cores.VERDE, mensagem1))\n",
        "print(msg(cores.AZUL, mensagem1))\n"
      ],
      "execution_count": null,
      "outputs": [
        {
          "output_type": "stream",
          "text": [
            "\u001b[33mEstamos vivendo uma pandemia!\u001b[0m\n",
            "\u001b[31mEstamos vivendo uma pandemia!\u001b[0m\n",
            "None\n",
            "\u001b[32mEstamos vivendo uma pandemia!\u001b[0m\n",
            "None\n",
            "\u001b[34mEstamos vivendo uma pandemia!\u001b[0m\n",
            "None\n"
          ],
          "name": "stdout"
        }
      ]
    },
    {
      "cell_type": "markdown",
      "metadata": {
        "id": "YVCsoO2scujO"
      },
      "source": [
        "Exibindo em tela o nome e o conteúdo de uma variável"
      ]
    },
    {
      "cell_type": "code",
      "metadata": {
        "id": "3SYMFQqdq22g"
      },
      "source": [
        "nome: str = 'Fernando Feltrin'\n",
        "\n",
        "print(f\"A variável é composta de: '{nome = }'\")\n",
        "# Retornará o nome literal da variável e seu respectivo atributo\n"
      ],
      "execution_count": null,
      "outputs": []
    },
    {
      "cell_type": "markdown",
      "metadata": {
        "id": "DgRlMJHcHF92"
      },
      "source": [
        "## Strings (Avançado)"
      ]
    },
    {
      "cell_type": "code",
      "metadata": {
        "id": "Qx3-gvp1HJ31",
        "colab": {
          "base_uri": "https://localhost:8080/"
        },
        "outputId": "2c626da3-54ec-4824-f336-040f112a1c62"
      },
      "source": [
        "# Máscara de substituição tem a mesma notação de um dicionário\n",
        "# em função disso, ao trabalhar com dicionários em máscaras de\n",
        "# substituição não é preciso fazer nada além de puramente iterar\n",
        "# sobre os dados.\n",
        "\n",
        "pessoa1 = {\n",
        "    'Nome': 'Fernando',\n",
        "    'Linguagem': 'Python'\n",
        "}\n",
        "\n",
        "print(f\"{pessoa1['Nome']} é professor de {pessoa1['Linguagem']}\")\n",
        "# Lembrando de contornar o uso de aspas simples e\n"
      ],
      "execution_count": null,
      "outputs": [
        {
          "output_type": "stream",
          "text": [
            "Fernando é professor de Python\n"
          ],
          "name": "stdout"
        }
      ]
    },
    {
      "cell_type": "markdown",
      "metadata": {
        "id": "Dvxs_SLYO3C-"
      },
      "source": [
        "f'string como atributo de uma variável"
      ]
    },
    {
      "cell_type": "code",
      "metadata": {
        "id": "kSJS9v5MO59z",
        "colab": {
          "base_uri": "https://localhost:8080/"
        },
        "outputId": "2bfea993-e1d8-435b-84eb-78a594ebe6be"
      },
      "source": [
        "nome = 'Fernando'\n",
        "mensagem1 = f'Olá {nome}!!!'\n",
        "\n",
        "print(mensagem1)\n"
      ],
      "execution_count": null,
      "outputs": [
        {
          "output_type": "stream",
          "text": [
            "Olá Fernando!!!\n"
          ],
          "name": "stdout"
        }
      ]
    },
    {
      "cell_type": "markdown",
      "metadata": {
        "id": "bAhzaWMcglcD"
      },
      "source": [
        "Operações matemáticas especiais diretamente na máscara de substituição"
      ]
    },
    {
      "cell_type": "code",
      "metadata": {
        "id": "DJJh-571HJ6d"
      },
      "source": [
        "import math\n",
        "\n",
        "num = 2.2\n",
        "\n",
        "print(f'{math.sin(num) = }')\n",
        "print(f'{math.cos(num) = }')\n"
      ],
      "execution_count": null,
      "outputs": []
    },
    {
      "cell_type": "markdown",
      "metadata": {
        "id": "vlhtXqgVgrOA"
      },
      "source": [
        "Saída de múltiplas linhas via print( ) + f'string"
      ]
    },
    {
      "cell_type": "code",
      "metadata": {
        "id": "pk7TAuQBHJ8b",
        "colab": {
          "base_uri": "https://localhost:8080/"
        },
        "outputId": "a6e24ded-5e30-47ba-da93-99e783a609be"
      },
      "source": [
        "nome1 = 'Fernando'\n",
        "nasc1 = '08/11/1987'\n",
        "sexo1 = 'M'\n",
        "\n",
        "msg1 = (\n",
        "    f'Nome: {nome1}\\n'\n",
        "    f'Nascido em: {nasc1}\\n'\n",
        "    f'Sexo: {sexo1}'\n",
        ")\n",
        "\n",
        "print(msg1)\n"
      ],
      "execution_count": null,
      "outputs": [
        {
          "output_type": "stream",
          "text": [
            "Nome: Fernando\n",
            "Nascido em: 08/11/1987\n",
            "Sexo: M\n"
          ],
          "name": "stdout"
        }
      ]
    },
    {
      "cell_type": "code",
      "metadata": {
        "id": "fUpLCQdydGAf",
        "colab": {
          "base_uri": "https://localhost:8080/"
        },
        "outputId": "52c2280d-e7e2-4dce-b1b3-4a1117996b07"
      },
      "source": [
        "# Simplesmente mostrando o que é uma máscara de substituição\n",
        "\n",
        "print(f'Python usa {{}} para incorporar variáveis, objetos,\\n'\n",
        "f'dados, valores, métodos, etc... diretamente na string.')\n"
      ],
      "execution_count": null,
      "outputs": [
        {
          "output_type": "stream",
          "text": [
            "Python usa {} para incorporar variáveis, objetos,\n",
            "dados, valores, métodos, etc... diretamente na string.\n"
          ],
          "name": "stdout"
        }
      ]
    },
    {
      "cell_type": "markdown",
      "metadata": {
        "id": "kAu161-jgw_6"
      },
      "source": [
        "f'string chamando função do corpo do código"
      ]
    },
    {
      "cell_type": "code",
      "metadata": {
        "id": "lj-DlwAAHJ_6",
        "colab": {
          "base_uri": "https://localhost:8080/"
        },
        "outputId": "919095e8-2f4d-4d51-f922-c5e937146b4a"
      },
      "source": [
        "def soma(n1, n2):\n",
        "  return n1 + n2\n",
        "\n",
        "n1 = 15\n",
        "n2 = 77\n",
        "\n",
        "print(f'O resultado da soma é: {soma(n1, n2)}')\n"
      ],
      "execution_count": null,
      "outputs": [
        {
          "output_type": "stream",
          "text": [
            "O resultado da soma é: 92\n"
          ],
          "name": "stdout"
        }
      ]
    },
    {
      "cell_type": "markdown",
      "metadata": {
        "id": "qt3YIyAqg1Gw"
      },
      "source": [
        "f'string como retorno do método de classe __repr__ ou __srt__"
      ]
    },
    {
      "cell_type": "code",
      "metadata": {
        "id": "Pm-jP3gQZJrK",
        "colab": {
          "base_uri": "https://localhost:8080/"
        },
        "outputId": "6f14621f-8934-41c0-a8b6-ad71fec549cf"
      },
      "source": [
        "# Em outras palavras, como retorno de um método mágico.\n",
        "\n",
        "class Pessoa:\n",
        "  def __init__(self, nome, profissao):\n",
        "    self.nome = nome\n",
        "    self.profissao = profissao\n",
        "  def __repr__(self):\n",
        "    return f'{self.nome} trabalha como {self.profissao}'\n",
        "\n",
        "pessoa1 = Pessoa('Fernando', 'Eng. da Computação')\n",
        "\n",
        "print(f'{pessoa1}')\n"
      ],
      "execution_count": null,
      "outputs": [
        {
          "output_type": "stream",
          "text": [
            "Fernando trabalha como Eng. da Computação\n"
          ],
          "name": "stdout"
        }
      ]
    },
    {
      "cell_type": "markdown",
      "metadata": {
        "id": "s8aPeqVjRPaC"
      },
      "source": [
        "String codificada em unicode e em bytecode"
      ]
    },
    {
      "cell_type": "code",
      "metadata": {
        "colab": {
          "base_uri": "https://localhost:8080/"
        },
        "id": "oDeormRZRFtD",
        "outputId": "7824f679-06cf-434a-f6cb-7cfb01c037ae"
      },
      "source": [
        "a = 'Olá Mundo!!!'\n",
        "\n",
        "print(a)\n",
        "print(type(a))\n",
        "\n",
        "str: a # unicode string\n",
        "print(type(a))\n",
        "\n",
        "bytes: a # byte string\n",
        "print(type(a))"
      ],
      "execution_count": null,
      "outputs": [
        {
          "output_type": "stream",
          "text": [
            "Olá Mundo!!!\n",
            "<class 'str'>\n",
            "<class 'str'>\n",
            "<class 'str'>\n"
          ],
          "name": "stdout"
        }
      ]
    },
    {
      "cell_type": "markdown",
      "metadata": {
        "id": "Vi6D4fXZRUZc"
      },
      "source": [
        "f'Strings, b'Strings, u'Strings e r'Strings"
      ]
    },
    {
      "cell_type": "code",
      "metadata": {
        "colab": {
          "base_uri": "https://localhost:8080/"
        },
        "id": "P8u0fbQjRSdK",
        "outputId": "31508d8e-8cf8-4a75-fe49-f366e0926ea4"
      },
      "source": [
        "# Definindo tipo específico de string\n",
        "\n",
        "a = 'Python'\n",
        "\n",
        "b = f'Python' # oferece suporte a máscaras de substituição / interpolação\n",
        "c = b'Python' # bytecode suporta apenas ASCII caracteres\n",
        "d = u'Python' # oferece compatibilidade em códigos escritos em Python 2, em Python 2 esse dado seria reconhecido como unicode, em Python 3 é convertido para str por questões de compatibilidade\n",
        "e = r'Python' # raw string, dependendo o contexto eliminará todos os espaços e caracteres especiais. # r'strings oferecem suporte a metacaracteres por meio da biblioteca específica para isso\n",
        "\n",
        "print(a)\n",
        "print(type(a))\n",
        "\n",
        "print(b)\n",
        "print(type(b))\n",
        "\n",
        "print(c)\n",
        "print(type(c))\n",
        "\n",
        "print(d)\n",
        "print(type(d))\n",
        "\n",
        "print(e)\n",
        "print(type(e))\n"
      ],
      "execution_count": null,
      "outputs": [
        {
          "output_type": "stream",
          "text": [
            "Python\n",
            "<class 'str'>\n",
            "Python\n",
            "<class 'str'>\n",
            "b'Python'\n",
            "<class 'bytes'>\n",
            "Python\n",
            "<class 'str'>\n",
            "Python\n",
            "<class 'str'>\n"
          ],
          "name": "stdout"
        }
      ]
    },
    {
      "cell_type": "markdown",
      "metadata": {
        "id": "8LTPcLOcVFNV"
      },
      "source": [
        "f'Strings Avançado"
      ]
    },
    {
      "cell_type": "code",
      "metadata": {
        "colab": {
          "base_uri": "https://localhost:8080/"
        },
        "id": "YMcsYp65B-zX",
        "outputId": "2c626da3-54ec-4824-f336-040f112a1c62"
      },
      "source": [
        "# Máscara de substituição tem a mesma notação de um dicionário\n",
        "# em função disso, ao trabalhar com dicionários em máscaras de\n",
        "# substituição não é preciso fazer nada além de puramente iterar\n",
        "# sobre os dados.\n",
        "\n",
        "pessoa1 = {\n",
        "    'Nome': 'Fernando',\n",
        "    'Linguagem': 'Python'\n",
        "}\n",
        "\n",
        "print(f\"{pessoa1['Nome']} é professor de {pessoa1['Linguagem']}\")\n",
        "# Lembrando de contornar o uso de aspas simples e\n"
      ],
      "execution_count": null,
      "outputs": [
        {
          "output_type": "stream",
          "text": [
            "Fernando é professor de Python\n"
          ],
          "name": "stdout"
        }
      ]
    },
    {
      "cell_type": "markdown",
      "metadata": {
        "id": "_SF5nkEkB-zY"
      },
      "source": [
        "f'string como atributo de uma variável"
      ]
    },
    {
      "cell_type": "code",
      "metadata": {
        "colab": {
          "base_uri": "https://localhost:8080/"
        },
        "id": "TZAmFNEVB-zZ",
        "outputId": "2bfea993-e1d8-435b-84eb-78a594ebe6be"
      },
      "source": [
        "nome = 'Fernando'\n",
        "mensagem1 = f'Olá {nome}!!!'\n",
        "\n",
        "print(mensagem1)\n"
      ],
      "execution_count": null,
      "outputs": [
        {
          "output_type": "stream",
          "text": [
            "Olá Fernando!!!\n"
          ],
          "name": "stdout"
        }
      ]
    },
    {
      "cell_type": "markdown",
      "metadata": {
        "id": "NzLCep-3B-zZ"
      },
      "source": [
        "Saída de múltiplas linhas via print( ) + f'string"
      ]
    },
    {
      "cell_type": "code",
      "metadata": {
        "colab": {
          "base_uri": "https://localhost:8080/"
        },
        "id": "z38NMA8qB-za",
        "outputId": "a6e24ded-5e30-47ba-da93-99e783a609be"
      },
      "source": [
        "nome1 = 'Fernando'\n",
        "nasc1 = '08/11/1987'\n",
        "sexo1 = 'M'\n",
        "\n",
        "msg1 = (\n",
        "    f'Nome: {nome1}\\n'\n",
        "    f'Nascido em: {nasc1}\\n'\n",
        "    f'Sexo: {sexo1}'\n",
        ")\n",
        "\n",
        "print(msg1)\n"
      ],
      "execution_count": null,
      "outputs": [
        {
          "output_type": "stream",
          "text": [
            "Nome: Fernando\n",
            "Nascido em: 08/11/1987\n",
            "Sexo: M\n"
          ],
          "name": "stdout"
        }
      ]
    },
    {
      "cell_type": "code",
      "metadata": {
        "colab": {
          "base_uri": "https://localhost:8080/"
        },
        "id": "nnUaeO71B-zb",
        "outputId": "52c2280d-e7e2-4dce-b1b3-4a1117996b07"
      },
      "source": [
        "# Simplesmente mostrando o que é uma máscara de substituição\n",
        "\n",
        "print(f'Python usa {{}} para incorporar variáveis, objetos,\\n'\n",
        "f'dados, valores, métodos, etc... diretamente na string.')\n"
      ],
      "execution_count": null,
      "outputs": [
        {
          "output_type": "stream",
          "text": [
            "Python usa {} para incorporar variáveis, objetos,\n",
            "dados, valores, métodos, etc... diretamente na string.\n"
          ],
          "name": "stdout"
        }
      ]
    },
    {
      "cell_type": "markdown",
      "metadata": {
        "id": "EKFRTnI_B-zd"
      },
      "source": [
        "f'string como retorno do método de classe __repr__ ou __srt__"
      ]
    },
    {
      "cell_type": "code",
      "metadata": {
        "colab": {
          "base_uri": "https://localhost:8080/"
        },
        "id": "lgPLSzarB-ze",
        "outputId": "6f14621f-8934-41c0-a8b6-ad71fec549cf"
      },
      "source": [
        "# Em outras palavras, como retorno de um método mágico.\n",
        "\n",
        "class Pessoa:\n",
        "  def __init__(self, nome, profissao):\n",
        "    self.nome = nome\n",
        "    self.profissao = profissao\n",
        "  def __repr__(self):\n",
        "    return f'{self.nome} trabalha como {self.profissao}'\n",
        "\n",
        "pessoa1 = Pessoa('Fernando', 'Eng. da Computação')\n",
        "\n",
        "print(f'{pessoa1}')\n"
      ],
      "execution_count": null,
      "outputs": [
        {
          "output_type": "stream",
          "text": [
            "Fernando trabalha como Eng. da Computação\n"
          ],
          "name": "stdout"
        }
      ]
    },
    {
      "cell_type": "markdown",
      "metadata": {
        "id": "iNL9TJXXrQVq"
      },
      "source": [
        "Função slice( ) para criação de marcadores de fatiamento em strings"
      ]
    },
    {
      "cell_type": "code",
      "metadata": {
        "colab": {
          "base_uri": "https://localhost:8080/"
        },
        "id": "bRsCGl7ymxVE",
        "outputId": "7ce26be0-34be-4553-9b63-eb5e3d11da3a"
      },
      "source": [
        "# slice( ) permite criar marcadores para que partes de uma string sejam instanciados em outras funções.\n",
        "\n",
        "pessoa1 = 'Fernando Feltrin, 33 anos, Eng. da Computação'\n",
        "\n",
        "nome = slice(0, 16)\n",
        "idade = slice(18, 24)\n",
        "profissao = slice(26, 45)\n",
        "\n",
        "print(f'Seu nome é: {pessoa1[nome]},')\n",
        "print(f'Você tem {pessoa1[idade]} anos,')\n",
        "print(f'{pessoa1[profissao]} de formação.')\n"
      ],
      "execution_count": null,
      "outputs": [
        {
          "output_type": "stream",
          "text": [
            "Seu nome é: Fernando Feltrin,\n",
            "Você tem 33 ano anos,\n",
            " Eng. da Computação de formação.\n"
          ],
          "name": "stdout"
        }
      ]
    },
    {
      "cell_type": "code",
      "metadata": {
        "colab": {
          "base_uri": "https://localhost:8080/"
        },
        "id": "6YrXbYjBmxXM",
        "outputId": "d64a1482-6acc-40ba-d76e-cfd841191b34"
      },
      "source": [
        "# aqui as variáveis servem apenas como marcador, se tentar imprimir seu contéudo apenas verá a referência do fatiamento\n",
        "\n",
        "pessoa1 = 'Fernando Feltrin, 33 anos, Eng. da Computação'\n",
        "\n",
        "nome = slice(0, 16)\n",
        "\n",
        "print(nome)\n"
      ],
      "execution_count": null,
      "outputs": [
        {
          "output_type": "stream",
          "text": [
            "slice(0, 16, None)\n"
          ],
          "name": "stdout"
        }
      ]
    },
    {
      "cell_type": "markdown",
      "metadata": {
        "id": "0Ua0F65SRfa-"
      },
      "source": [
        "Função repr( ) para explicitar que função está interagindo com uma string"
      ]
    },
    {
      "cell_type": "code",
      "metadata": {
        "colab": {
          "base_uri": "https://localhost:8080/"
        },
        "id": "vSXI9c4URSiC",
        "outputId": "2e5853e5-844c-4ae0-97e1-98ab17f4135f"
      },
      "source": [
        "import datetime\n",
        "\n",
        "agora = datetime.datetime.now()\n",
        "\n",
        "print(str(agora)) # retorna apenas o resultado esperado da função datetime.now( )\n",
        "print(repr(agora)) # retorna a função em forma visível e o retorno de sua execução\n"
      ],
      "execution_count": null,
      "outputs": [
        {
          "output_type": "stream",
          "text": [
            "2021-04-27 17:00:25.810891\n",
            "datetime.datetime(2021, 4, 27, 17, 0, 25, 810891)\n"
          ],
          "name": "stdout"
        }
      ]
    },
    {
      "cell_type": "code",
      "metadata": {
        "colab": {
          "base_uri": "https://localhost:8080/"
        },
        "id": "z2j6XO2hRSkg",
        "outputId": "a800a002-9005-4133-b73b-f05798c50b46"
      },
      "source": [
        "# Mesmo exemplo que o anterior, só que mais elaborado, orientado a objetos\n",
        "\n",
        "class Pessoa():\n",
        "    def __init__(self, nome, sobrenome):\n",
        "        self.nome = nome\n",
        "        self.sobrenome = sobrenome\n",
        "    \n",
        "    def __repr__(self):\n",
        "        return f'Seu nome completo é {self.nome}, {self.sobrenome}'\n",
        "    \n",
        "    def __str__(self):\n",
        "        return f'Seu nome completo é {self.nome} {self.sobrenome}'\n",
        "\n",
        "pessoa1 = Pessoa('Fernando', 'Feltrin')\n",
        "\n",
        "print(pessoa1) # Irá retornar automaticamente o método __str__()\n",
        "print(pessoa1.__repr__) # Irá retornar o método __repr__()\n"
      ],
      "execution_count": null,
      "outputs": [
        {
          "output_type": "stream",
          "text": [
            "Seu nome completo é Fernando Feltrin\n",
            "<bound method Pessoa.__repr__ of Seu nome completo é Fernando, Feltrin>\n"
          ],
          "name": "stdout"
        }
      ]
    },
    {
      "cell_type": "markdown",
      "metadata": {
        "id": "YmzFGbdtvYND"
      },
      "source": [
        "## Funções (Avançado)"
      ]
    },
    {
      "cell_type": "markdown",
      "metadata": {
        "id": "iLYXd63qvkjD"
      },
      "source": [
        "Parâmetros em justaposição e parâmetros nomeados"
      ]
    },
    {
      "cell_type": "code",
      "metadata": {
        "id": "EjtRJ-XMBY-e",
        "colab": {
          "base_uri": "https://localhost:8080/"
        },
        "outputId": "5457c558-335d-48db-a02e-c4041057685c"
      },
      "source": [
        "# Justaposição = ordenados sequencialmente\n",
        "\n",
        "#            1º    2º     3º\n",
        "def pessoa1(nome, idade, funcao):\n",
        "  print(f'{nome} tem {idade} anos, função: {funcao}')\n",
        "\n",
        "p1 = pessoa1('Fernando', 32, funcao = 'gerente')\n"
      ],
      "execution_count": null,
      "outputs": [
        {
          "output_type": "stream",
          "text": [
            "Fernando tem 32 anos, função: gerente\n"
          ],
          "name": "stdout"
        }
      ]
    },
    {
      "cell_type": "markdown",
      "metadata": {
        "id": "C-ojAhn-W9u-"
      },
      "source": [
        "Função com número de parâmetros indefinido"
      ]
    },
    {
      "cell_type": "code",
      "metadata": {
        "id": "xBTqslUJBY3P",
        "colab": {
          "base_uri": "https://localhost:8080/"
        },
        "outputId": "76fe061d-9bdf-4783-f83f-28b893b4d5ab"
      },
      "source": [
        "# *args - marcador para múltiplos parâmetros\n",
        "\n",
        "def msg(nome, *args):\n",
        "  print(f'{nome} = {args}')\n",
        "\n",
        "ex1 = msg('Fernando')\n",
        "ex2 = msg('Fernando', 'idade = 33', 'profissão = professor')\n",
        "\n",
        "# O primeiro parâmetro nome é obrigatório, *args reserva espaço para que\n",
        "# outros parâmetros sejam repassados conforme necessário.\n"
      ],
      "execution_count": null,
      "outputs": [
        {
          "output_type": "stream",
          "text": [
            "Fernando = ()\n",
            "Fernando = ('idade = 33', 'profissão = professor')\n"
          ],
          "name": "stdout"
        }
      ]
    },
    {
      "cell_type": "code",
      "metadata": {
        "id": "a_cZSo3oBY15",
        "colab": {
          "base_uri": "https://localhost:8080/"
        },
        "outputId": "b156d5c4-6c51-49f6-f28c-b1f398e53207"
      },
      "source": [
        "def soma(*args):\n",
        "  num = 0\n",
        "  for valordigitado in args:\n",
        "    num += valordigitado\n",
        "  print(num)\n",
        "\n",
        "soma = soma(14, 89)\n",
        "\n",
        "# É possível definir diretamente que a função tem parâmetros indefinidos\n"
      ],
      "execution_count": null,
      "outputs": [
        {
          "output_type": "stream",
          "text": [
            "103\n"
          ],
          "name": "stdout"
        }
      ]
    },
    {
      "cell_type": "markdown",
      "metadata": {
        "id": "wQkMwVODvv_p"
      },
      "source": [
        "Função com número de parâmetros indefinido, porém nomeados"
      ]
    },
    {
      "cell_type": "code",
      "metadata": {
        "id": "7LGtIcRwvuFq",
        "colab": {
          "base_uri": "https://localhost:8080/"
        },
        "outputId": "8df4b6d4-9051-4849-b308-aa781be2472d"
      },
      "source": [
        "# **kwargs - marcador para parâmetros nomeados\n",
        "\n",
        "def identificacao(**kwargs):\n",
        "  print(kwargs)\n",
        "\n",
        "pessoa1 = identificacao(nome = 'Fernando')\n",
        "pessoa2 = identificacao(nome = 'Maria',\n",
        "                        idade = 33)\n",
        "pessoa3 = identificacao(nome = 'Alberto',\n",
        "                        funcao = 'Tec. em Radiologia',\n",
        "                        salario = 1960.00)\n"
      ],
      "execution_count": null,
      "outputs": [
        {
          "output_type": "stream",
          "text": [
            "{'nome': 'Fernando'}\n",
            "{'nome': 'Maria', 'idade': 33}\n",
            "{'nome': 'Alberto', 'funcao': 'Tec. em Radiologia', 'salario': 1960.0}\n"
          ],
          "name": "stdout"
        }
      ]
    },
    {
      "cell_type": "markdown",
      "metadata": {
        "id": "j1HmLHdWv0yy"
      },
      "source": [
        "Função que recebe parâmetros tanto por justaposição quanto nomeados"
      ]
    },
    {
      "cell_type": "code",
      "metadata": {
        "id": "meATlD0JvuIY",
        "colab": {
          "base_uri": "https://localhost:8080/"
        },
        "outputId": "a07adab2-c390-4c20-e6d6-dc165d46fa13"
      },
      "source": [
        "def identificacao(*args, **kwargs):\n",
        "  print(args, kwargs)\n",
        "\n",
        "pessoa = identificacao('Fernando', idade = 33)\n",
        "\n",
        "# *args reserva espaço para parâmetros justapostos, **kwargs reserva\n",
        "# espaço para parâmetros nomeados.\n"
      ],
      "execution_count": null,
      "outputs": [
        {
          "output_type": "stream",
          "text": [
            "('Fernando',) {'idade': 33}\n"
          ],
          "name": "stdout"
        }
      ]
    },
    {
      "cell_type": "markdown",
      "metadata": {
        "id": "OGi8lSX5v9sy"
      },
      "source": [
        "Empacotamento e desempacotamento"
      ]
    },
    {
      "cell_type": "code",
      "metadata": {
        "id": "-ZP4DWuNvuKr",
        "colab": {
          "base_uri": "https://localhost:8080/"
        },
        "outputId": "45e6f5fa-c9d2-4060-e211-e54314c339cb"
      },
      "source": [
        "# Criando uma função que recebe parâmetros tanto por justaposição\n",
        "# quanto nomeados, a partir de uma lista e de um dicionário, \n",
        "# desempacotando os elementos e reorganizando os mesmos na função:\n",
        "\n",
        "numeros = (33, 1987, 2020, 19.90, 100000000)\n",
        "dados = {'Nome':'Fernando', 'Profissão':'Engenheiro'}\n",
        "\n",
        "def identificacao(*args, **kwargs):\n",
        "  print(args)\n",
        "  print(kwargs)\n",
        "\n",
        "identificacao(*numeros, **dados)\n"
      ],
      "execution_count": null,
      "outputs": [
        {
          "output_type": "stream",
          "text": [
            "(33, 1987, 2020, 19.9, 100000000)\n",
            "{'Nome': 'Fernando', 'Profissão': 'Engenheiro'}\n"
          ],
          "name": "stdout"
        }
      ]
    },
    {
      "cell_type": "markdown",
      "metadata": {
        "id": "gYJ0dFdLpEQC"
      },
      "source": [
        "Funções Aninhadas"
      ]
    },
    {
      "cell_type": "code",
      "metadata": {
        "id": "_uyF6iH3pGaP",
        "colab": {
          "base_uri": "https://localhost:8080/"
        },
        "outputId": "efbf99f3-1a84-4d77-e4bd-2a2d7b4ae647"
      },
      "source": [
        "# Basicamente quando se fala em uma função aninhada significa que\n",
        "# temos uma função dentro de outra função. Em algumas literaturas\n",
        "# essa particularidade é chamada como funções de alta ordem e de \n",
        "# baixa ordem, sendo a se alta a função principal, e a de baixa a\n",
        "# função interna a função principal.\n",
        "\n",
        "def funcao1(): # função externa\n",
        "    print (\"Alô, alguêm me ouvindo?\")\n",
        "    def funcao2(): # função interna\n",
        "        print (\"Cambio desligo!!!\")\n",
        "    funcao2()\n",
        "\n",
        "funcao1()\n"
      ],
      "execution_count": null,
      "outputs": [
        {
          "output_type": "stream",
          "text": [
            "Alô, alguêm me ouvindo?\n",
            "Cambio desligo!!!\n"
          ],
          "name": "stdout"
        }
      ]
    },
    {
      "cell_type": "code",
      "metadata": {
        "id": "_SjsrBWarzZL",
        "colab": {
          "base_uri": "https://localhost:8080/"
        },
        "outputId": "f26024f6-7590-49f4-bba9-c05196251515"
      },
      "source": [
        "# Exemplo de funções aninhadas interagindo\n",
        "\n",
        "def make_adder(x):\n",
        "    def add(y):\n",
        "        return x + y\n",
        "    return add\n",
        "\n",
        "plus5 = make_adder(23)\n",
        "print(plus5(10))\n"
      ],
      "execution_count": null,
      "outputs": [
        {
          "output_type": "stream",
          "text": [
            "33\n"
          ],
          "name": "stdout"
        }
      ]
    },
    {
      "cell_type": "markdown",
      "metadata": {
        "id": "I51k9zruQjYc"
      },
      "source": [
        "Parâmetro/argumento somente posicional"
      ]
    },
    {
      "cell_type": "code",
      "metadata": {
        "id": "36lqwDTdQh8V"
      },
      "source": [
        "def msg(nome, /, idade):\n",
        "    # tudo o que estiver à esquerda de \" / \" será somente posicional\n",
        "    return f'Olá {nome}, você tem {idade} anos.'\n",
        "\n",
        "print(msg('Fernando', idade = 33))\n",
        "# Irá executar normalmente repassando esses dados como parâmetros\n",
        "\n",
        "print(msg(nome = 'Alberto', idade = 67))\n",
        "# Irá gerar um erro pois o parâmetro nome é somente posicional,\n",
        "# em outras palavras, não aceita nenhum atributo nomeado.\n"
      ],
      "execution_count": null,
      "outputs": []
    },
    {
      "cell_type": "code",
      "metadata": {
        "id": "CIUwGfNwRiZd"
      },
      "source": [
        "def msg(nome, idade, /):\n",
        "    # Nesse caso, todos parâmetros serão somente posicionais\n",
        "    return f'Olá {nome}, você tem {idade} anos.'\n",
        "\n",
        "print(msg('Fernando', 33))\n",
        "# Irá executar normalmente repassando esses dados como parâmetros\n",
        "# inclusive respeitando a justaposição.\n"
      ],
      "execution_count": null,
      "outputs": []
    },
    {
      "cell_type": "markdown",
      "metadata": {
        "id": "tFosZe-6R5Lg"
      },
      "source": [
        "Parâmetro/argumento obrigatoriamente nomeado"
      ]
    },
    {
      "cell_type": "code",
      "metadata": {
        "id": "HfKUQLyBR9pi",
        "colab": {
          "base_uri": "https://localhost:8080/"
        },
        "outputId": "d2de74b6-9b00-4131-ef3f-4809b9faab30"
      },
      "source": [
        "def msg(*, nome, idade):\n",
        "    # tudo o que estiver após \" * \" terá de ser parâmetro nomeado\n",
        "    return f'Olá {nome}, você tem {idade} anos.'\n",
        "\n",
        "print(msg(nome = 'Fernando', idade = 33))\n",
        "# Irá executar normalmente repassando esses dados como parâmetros\n",
        "# pois ambos são parâmetros nomeados.\n"
      ],
      "execution_count": null,
      "outputs": [
        {
          "output_type": "stream",
          "text": [
            "Olá Fernando, você tem 33 anos.\n"
          ],
          "name": "stdout"
        }
      ]
    },
    {
      "cell_type": "code",
      "metadata": {
        "id": "WM24u9lPSp2r"
      },
      "source": [
        "# Ambos métodos combinados\n",
        "\n",
        "def msg(nome, /, idade, *, altura):\n",
        "    return f'Olá {nome}, você tem {idade} anos e mede {altura}m.'\n",
        "\n",
        "print(msg('Fernando', 33, altura = 1.90))\n",
        "# O primeiro parâmetro é posicional, o segundo é justaposto, o terceiro é nomeado\n"
      ],
      "execution_count": null,
      "outputs": []
    },
    {
      "cell_type": "markdown",
      "metadata": {
        "id": "Ut7fcewoCP9R"
      },
      "source": [
        "Funções em Python são objetos"
      ]
    },
    {
      "cell_type": "code",
      "metadata": {
        "colab": {
          "base_uri": "https://localhost:8080/"
        },
        "id": "7CNwOoTACP9T",
        "outputId": "ae6ee3c4-0796-4786-a013-840ab8bcd63a"
      },
      "source": [
        "nome = input('Digite o seu nome: ')\n",
        "\n",
        "print(id(nome))\n",
        "\n",
        "def msg(nome):\n",
        "  print(f'Olá {nome}!!!')\n",
        "\n",
        "print(id(msg))\n",
        "# retornará o número identificador do objeto alocado em memória\n",
        "\n",
        "print(type(msg))\n",
        "# retornará o tipo de objeto, neste caso, 'function'\n",
        "\n",
        "print(dir(msg))\n",
        "# retornará os builtins padrão para toda e qualquer função\n"
      ],
      "execution_count": null,
      "outputs": [
        {
          "output_type": "stream",
          "text": [
            "Digite o seu nome: Fernando\n",
            "139888126382640\n",
            "139888126002960\n",
            "<class 'function'>\n",
            "['__annotations__', '__call__', '__class__', '__closure__', '__code__', '__defaults__', '__delattr__', '__dict__', '__dir__', '__doc__', '__eq__', '__format__', '__ge__', '__get__', '__getattribute__', '__globals__', '__gt__', '__hash__', '__init__', '__init_subclass__', '__kwdefaults__', '__le__', '__lt__', '__module__', '__name__', '__ne__', '__new__', '__qualname__', '__reduce__', '__reduce_ex__', '__repr__', '__setattr__', '__sizeof__', '__str__', '__subclasshook__']\n"
          ],
          "name": "stdout"
        }
      ]
    },
    {
      "cell_type": "markdown",
      "metadata": {
        "id": "4p-qvqqkHL8A"
      },
      "source": [
        "Função com propriedade recursiva"
      ]
    },
    {
      "cell_type": "code",
      "metadata": {
        "colab": {
          "base_uri": "https://localhost:8080/"
        },
        "id": "M8c4f92lAqBz",
        "outputId": "ea491a2e-ff95-4e53-e81f-22274e60b8f8"
      },
      "source": [
        "def append(elemento, conteiner = []): # função append( ) do built-in, que recebe como parâmetro um elemento e adiciona ao conteúdo do outro parâmetro conteiner, retornando este como objeto\n",
        "    conteiner.append(elemento)\n",
        "    return conteiner\n",
        "\n",
        "\n",
        "numeros = append(5)\n",
        "numeros = append(8)\n",
        "numeros = append(3)\n",
        "\n",
        "print(numeros)\n"
      ],
      "execution_count": null,
      "outputs": [
        {
          "output_type": "stream",
          "text": [
            "[5, 8, 3]\n"
          ],
          "name": "stdout"
        }
      ]
    },
    {
      "cell_type": "code",
      "metadata": {
        "colab": {
          "base_uri": "https://localhost:8080/"
        },
        "id": "9arJaziBIlrg",
        "outputId": "5a0e9c15-588f-43a1-def5-8f1e8ba00ba7"
      },
      "source": [
        "# Verificando a consistênsia dos parâmetros\n",
        "def append(elemento, conteiner = None):\n",
        "    pass\n",
        "\n",
        "print(append.__defaults__) # Irá retornar o que estiver no lugar dos parâmetros já alocado em memória, nesse caso, ainda não foi repassado nenhum dado para elemento, mas conteiner já possui um dado, mesmo que seja None\n"
      ],
      "execution_count": null,
      "outputs": [
        {
          "output_type": "stream",
          "text": [
            "(None,)\n"
          ],
          "name": "stdout"
        }
      ]
    },
    {
      "cell_type": "code",
      "metadata": {
        "colab": {
          "base_uri": "https://localhost:8080/"
        },
        "id": "civXfXxrC3Qz",
        "outputId": "33211b8d-f391-4c70-cd05-482a830d77c0"
      },
      "source": [
        "def append(elemento, conteiner = []): # função append( ) do built-in, que recebe como parâmetro um elemento e adiciona ao conteúdo do outro parâmetro conteiner, retornando este como objeto\n",
        "    conteiner.append(elemento)\n",
        "    return conteiner\n",
        "\n",
        "numeros = append(5)\n",
        "numeros = append(8)\n",
        "numeros = append(3)\n",
        "\n",
        "print(append.__defaults__)\n"
      ],
      "execution_count": null,
      "outputs": [
        {
          "output_type": "stream",
          "text": [
            "([5, 8, 3],)\n"
          ],
          "name": "stdout"
        }
      ]
    },
    {
      "cell_type": "markdown",
      "metadata": {
        "id": "tx9sDPy0K5m3"
      },
      "source": [
        "Função com retorno direto"
      ]
    },
    {
      "cell_type": "code",
      "metadata": {
        "id": "5N6AKZkzIlt6"
      },
      "source": [
        "def retorna_cem():\n",
        "    return 100 # Quando instanciada, a função simplesmente retorna um número 100\n",
        "    "
      ],
      "execution_count": null,
      "outputs": []
    },
    {
      "cell_type": "markdown",
      "metadata": {
        "id": "Kyt56VBWUgSs"
      },
      "source": [
        "Função decorada com decorador pareável"
      ]
    },
    {
      "cell_type": "code",
      "metadata": {
        "colab": {
          "base_uri": "https://localhost:8080/"
        },
        "id": "Ipzf3Ev_Ilvx",
        "outputId": "cc44d30f-492a-4fd6-d5e2-b2bb3f4165b9"
      },
      "source": [
        "from functools import wraps\n",
        "\n",
        "def calculadora(funcao):\n",
        "    @wraps(funcao)\n",
        "    def soma(num1, num2):\n",
        "        s = num1 + num2\n",
        "        print(f'{s}')\n",
        "        return funcao\n",
        "    return soma\n",
        "\n",
        "@calculadora\n",
        "def soma_2_num():\n",
        "    pass\n",
        "\n",
        "soma_2_num(8, 9)\n",
        "\n",
        "# Nesse caso, a função calculadora( ) tem seu conteúdo decorado, de modo que para o bloco decorado em @wraps( )\n",
        "# qualquer função externa (nesse caso soma_2_num( )) pode se parear com a mesma, usando de suas funcionalidades\n",
        "# e retornando um dado/valor independente, sem alterar a consistÊncia original do bloco atrelado a @wraps.\n"
      ],
      "execution_count": null,
      "outputs": [
        {
          "output_type": "stream",
          "text": [
            "17\n"
          ],
          "name": "stdout"
        },
        {
          "output_type": "execute_result",
          "data": {
            "text/plain": [
              "<function __main__.soma_2_num>"
            ]
          },
          "metadata": {
            "tags": []
          },
          "execution_count": 4
        }
      ]
    },
    {
      "cell_type": "code",
      "metadata": {
        "colab": {
          "base_uri": "https://localhost:8080/"
        },
        "id": "mO7iwqqJIlyI",
        "outputId": "38c7cc44-c12f-430d-ce04-956d9d038041"
      },
      "source": [
        "from functools import wraps\n",
        "\n",
        "def calculadora(funcao):\n",
        "    @wraps(funcao)\n",
        "    def soma(num1, num2):\n",
        "        s = num1 + num2\n",
        "        print(f'{s}')\n",
        "        return funcao\n",
        "    return soma\n",
        "\n",
        "@calculadora\n",
        "def soma_2_num():\n",
        "    pass\n",
        "\n",
        "minha_soma = soma_2_num(8, 9)\n",
        "\n",
        "print(minha_soma)\n",
        "\n",
        "# Atribuindo a função decorada soma_2_num( ) a uma variável, pareando com @wraps, o resultado\n",
        "# de suas ações (nesse caso, da soma de 2 números), passa a ser um objeto interno, mapeado com\n",
        "# um identificador de memória alocada.\n"
      ],
      "execution_count": null,
      "outputs": [
        {
          "output_type": "stream",
          "text": [
            "17\n",
            "<function soma_2_num at 0x7fb7907ce4d0>\n"
          ],
          "name": "stdout"
        }
      ]
    },
    {
      "cell_type": "markdown",
      "metadata": {
        "id": "5wvD74RKYydt"
      },
      "source": [
        "Validando o comportamento de um recurso como função simples ou método de classe"
      ]
    },
    {
      "cell_type": "code",
      "metadata": {
        "colab": {
          "base_uri": "https://localhost:8080/"
        },
        "id": "EVMSN0IeIl1x",
        "outputId": "584c7b5c-4a7d-4758-a3d7-de6dfb2aa0e4"
      },
      "source": [
        "import inspect\n",
        "\n",
        "class Calculadora():\n",
        "    def soma(self, num1, num2):\n",
        "        s = num1 + num2\n",
        "        print(s)\n",
        "        return s\n",
        "\n",
        "minha_soma = Calculadora()\n",
        "minha_soma.soma(12, 35)\n",
        "print(minha_soma)\n",
        "# Irá retornar o resultado da soma, seguido da referência ao objeto alocado em memória.\n",
        "\n",
        "print(minha_soma.soma.__class__)\n",
        "# Retornará class 'method' como identificador de tipo.\n",
        "\n",
        "print(minha_soma.soma.__func__)\n",
        "# Retornará function Calculadora.soma, fazendo a referência que esta função é interna a classe.\n",
        "\n",
        "valida_f = inspect.isfunction(minha_soma.soma)\n",
        "print(valida_f)\n",
        "# Irá retornar False, pois seu comportamento não é o de uma simples função, ou de função estática.\n",
        "\n",
        "valida_m = inspect.ismethod(minha_soma.soma)\n",
        "print(valida_m)\n",
        "# Irá retornar True pois soma tem o comportamento de um método de classe para o interpretador.\n"
      ],
      "execution_count": null,
      "outputs": [
        {
          "output_type": "stream",
          "text": [
            "47\n",
            "<__main__.Calculadora object at 0x7fb7907b3810>\n",
            "<class 'method'>\n",
            "<function Calculadora.soma at 0x7fb790826d40>\n",
            "False\n",
            "True\n"
          ],
          "name": "stdout"
        }
      ]
    },
    {
      "cell_type": "markdown",
      "metadata": {
        "id": "c0kR1r6ju7z7"
      },
      "source": [
        "## Closures"
      ]
    },
    {
      "cell_type": "code",
      "metadata": {
        "id": "5uvKsFd-u9eG",
        "colab": {
          "base_uri": "https://localhost:8080/"
        },
        "outputId": "153549bb-1ccf-4307-cf84-c85809452bef"
      },
      "source": [
        "# Equivalente ao escopo global e local, porém, tratando-se de escopos de funções aninhadas\n",
        "\n",
        "def media():\n",
        "  valores = [] # variável no escopo global\n",
        "\n",
        "  def calcula_media(valor):\n",
        "    valores.append(valor)\n",
        "    # usando da variável do escopo global da função externa, como escopo local/estendido\n",
        "    return sum(valores)/len(valores)\n",
        "  return calcula_media\n",
        "\n",
        "\n",
        "# Closure da função, é a junção do escopo da funcao externa com o da interna\n",
        "\n",
        "media = media()\n",
        "\n",
        "media(68)\n",
        "media(45)\n",
        "media(70)\n",
        "media(91)\n"
      ],
      "execution_count": null,
      "outputs": [
        {
          "output_type": "execute_result",
          "data": {
            "text/plain": [
              "68.5"
            ]
          },
          "metadata": {
            "tags": []
          },
          "execution_count": 380
        }
      ]
    },
    {
      "cell_type": "markdown",
      "metadata": {
        "id": "NsJoifXarRsd"
      },
      "source": [
        "## Decoradores"
      ]
    },
    {
      "cell_type": "code",
      "metadata": {
        "id": "yJPIau4JrThV",
        "colab": {
          "base_uri": "https://localhost:8080/"
        },
        "outputId": "e758cfa5-9ad9-4db8-f8f9-b3b01609f085"
      },
      "source": [
        "# Em Python até mesmo uma função é um objeto, sendo assim, podemos criar cadeias\n",
        "# de funções dentro de funções, funções que usam funções como argumentos, ou \n",
        "# simplesmente adicionar funcionalidades em uma função a partir de outra.\n",
        "# Tudo isso é possível criando um marcador (decorador) para identificar para o\n",
        "# interpretador que uma determinada função pode ser usada como parâmetro para \n",
        "# outra. Em outras palavras, uma função decoradora recebe uma função e devolve\n",
        "# outra função já com modificações.\n",
        "\n",
        "def soma_dois_num(funcao_decorada):\n",
        "  def nova_funcao(*args, **kwargs):\n",
        "    return funcao_decorada(*args, **kwargs)\n",
        "  return nova_funcao\n",
        "\n",
        "@soma_dois_num\n",
        "# instancia a função soma_dois_num( ) passando como parâmetro a função soma( )\n",
        "def soma(num1, num2):\n",
        "  return num1 + num2\n",
        "\n",
        "num1 = int(input('Digite o primeiro número: '))\n",
        "num2 = int(input('Digite o segundo número: '))\n",
        "\n",
        "print(soma_dois_num(soma))\n"
      ],
      "execution_count": null,
      "outputs": [
        {
          "output_type": "stream",
          "text": [
            "Digite o primeiro número: 237\n",
            "Digite o segundo número: 44\n",
            "<function soma_dois_num.<locals>.nova_funcao at 0x7f4356de9680>\n"
          ],
          "name": "stdout"
        }
      ]
    },
    {
      "cell_type": "code",
      "metadata": {
        "id": "VSALAQ9pQwsU",
        "colab": {
          "base_uri": "https://localhost:8080/"
        },
        "outputId": "c8254c0a-5930-475f-ca8e-2e51eb0b0037"
      },
      "source": [
        "# Outro exemplo, com variável de controle para identificar quantas vezes o decorador foi usado\n",
        "\n",
        "contador = 0\n",
        "\n",
        "def contar_acessos(funcao_decorada):\n",
        "    def nova_func(*args, **kw):\n",
        "         global contador\n",
        "         contador += 1\n",
        "         return funcao_decorada(*args, **kw)\n",
        "    return nova_func\n",
        "\n",
        "@contar_acessos\n",
        "def soma(a, b):\n",
        "    print(f'O resultado da soma é: {a + b}')\n",
        "    return a + b\n",
        "\n",
        "ui = contar_acessos(soma(4,5))\n",
        "\n",
        "eu = contar_acessos(soma(9,2))\n",
        "\n",
        "print(contador)\n",
        "print(ui)\n",
        "print(eu)\n"
      ],
      "execution_count": null,
      "outputs": [
        {
          "output_type": "stream",
          "text": [
            "O resultado da soma é: 9\n",
            "O resultado da soma é: 11\n",
            "2\n",
            "<function contar_acessos.<locals>.nova_func at 0x7f4354f35ef0>\n",
            "<function contar_acessos.<locals>.nova_func at 0x7f4356de93b0>\n"
          ],
          "name": "stdout"
        }
      ]
    },
    {
      "cell_type": "markdown",
      "metadata": {
        "id": "YaTZnCLMR9mH"
      },
      "source": [
        "## sys.argv"
      ]
    },
    {
      "cell_type": "code",
      "metadata": {
        "id": "fbhuFtggSA7q"
      },
      "source": [
        "import sys\n",
        "\n",
        "var1 = print(f'Argumentos: {sys.argv}')\n",
        "\n",
        "# executar o arquivo .py seguido dos argumentos, estes por sua vez aparecerão\n",
        "# no campo sys.argv .\n",
        "# Ex: via terminal digitar: python arquivo.py Casa Carro Celular\n",
        "# O retorno será Argumentos: Casa Carro Celular \n"
      ],
      "execution_count": null,
      "outputs": []
    },
    {
      "cell_type": "markdown",
      "metadata": {
        "id": "gowIr7T3wWlw"
      },
      "source": [
        "## Recursividade"
      ]
    },
    {
      "cell_type": "code",
      "metadata": {
        "id": "j_DYRI7yjLvi"
      },
      "source": [
        "# Função que chama ela mesma\n",
        "\n",
        "def mensagem():\n",
        "  print('Bem-Vindo(a)!!!')\n",
        "\n",
        "  return mensagem()\n",
        "\n",
        "msg1 = mensagem() # Irá gerar um loop infinito\n"
      ],
      "execution_count": null,
      "outputs": []
    },
    {
      "cell_type": "code",
      "metadata": {
        "colab": {
          "base_uri": "https://localhost:8080/"
        },
        "id": "I7g6LEWBkAGz",
        "outputId": "b185e961-8a3b-4db5-c56c-be27cd9529f7"
      },
      "source": [
        "def mensagem(limitador):\n",
        "  print('Bem-Vindo(a)!!!')\n",
        "  limitador += 1\n",
        "  if limitador == 10:\n",
        "    return\n",
        "  else:\n",
        "    mensagem(limitador)\n",
        "\n",
        "msg1 = mensagem(1)\n"
      ],
      "execution_count": null,
      "outputs": [
        {
          "output_type": "stream",
          "text": [
            "Bem-Vindo(a)!!!\n",
            "Bem-Vindo(a)!!!\n",
            "Bem-Vindo(a)!!!\n",
            "Bem-Vindo(a)!!!\n",
            "Bem-Vindo(a)!!!\n",
            "Bem-Vindo(a)!!!\n",
            "Bem-Vindo(a)!!!\n",
            "Bem-Vindo(a)!!!\n",
            "Bem-Vindo(a)!!!\n"
          ],
          "name": "stdout"
        }
      ]
    },
    {
      "cell_type": "code",
      "metadata": {
        "id": "L0x5R86lvuNA",
        "colab": {
          "base_uri": "https://localhost:8080/"
        },
        "outputId": "52cc2387-7413-4b12-e136-d458769fbf04"
      },
      "source": [
        "# Situações onde uma determinada ação/função do código tem de ser executada\n",
        "# repetidas vezes, por inúmeras vezes.\n",
        "\n",
        "def fatorial(num):\n",
        "  if num == 1:\n",
        "    return 1\n",
        "  \n",
        "  return num * fatorial(num - 1)\n",
        "\n",
        "fator = fatorial(5)\n",
        "print(fator)\n"
      ],
      "execution_count": null,
      "outputs": [
        {
          "output_type": "stream",
          "text": [
            "120\n"
          ],
          "name": "stdout"
        }
      ]
    },
    {
      "cell_type": "markdown",
      "metadata": {
        "id": "I3PficTa9LIl"
      },
      "source": [
        "## Dicionários (Avançado)"
      ]
    },
    {
      "cell_type": "markdown",
      "metadata": {
        "id": "c2gOmv_P4pX_"
      },
      "source": [
        "Dicionário ordenado"
      ]
    },
    {
      "cell_type": "code",
      "metadata": {
        "id": "K11IK0AI4rxM",
        "colab": {
          "base_uri": "https://localhost:8080/"
        },
        "outputId": "e6777ebf-6814-4fe3-934c-3ea4581547ac"
      },
      "source": [
        "from collections import OrderedDict\n",
        "\n",
        "dicionario = OrderedDict()\n",
        "dicionario['a'] = 1\n",
        "dicionario['b'] = 2\n",
        "dicionario['c'] = 3\n",
        "dicionario['d'] = 4\n",
        "dicionario['e'] = 5\n",
        "print(dicionario)\n",
        "\n",
        "for k, v in dicionario.items():\n",
        "    print(k, v)\n",
        "\n",
        "# Internamente é gerado um mapeamento da ordem aos quais os itens foram inseridos\n",
        "# Caso uma nova entrada tente atualizar uma chave:valor do dicionário, a posição\n",
        "# original é mantida, esse log de alterações pode ser visualizado via MyPy.\n"
      ],
      "execution_count": null,
      "outputs": [
        {
          "output_type": "stream",
          "text": [
            "OrderedDict([('a', 1), ('b', 2), ('c', 3), ('d', 4), ('e', 5)])\n",
            "a 1\n",
            "b 2\n",
            "c 3\n",
            "d 4\n",
            "e 5\n"
          ],
          "name": "stdout"
        }
      ]
    },
    {
      "cell_type": "markdown",
      "metadata": {
        "id": "VUhbX4e-7I9w"
      },
      "source": [
        "DefaultDict"
      ]
    },
    {
      "cell_type": "code",
      "metadata": {
        "id": "O37vrF2a7McQ",
        "colab": {
          "base_uri": "https://localhost:8080/"
        },
        "outputId": "457ac1ec-6c81-4d47-c12b-12656f528d74"
      },
      "source": [
        "# Mesmas funcionalidades de um dicionário padrão, porém caso o usuário tente\n",
        "# consultar uma entrada inexistente, ao invés de um erro é retornado um valor padrão\n",
        "\n",
        "from collections import defaultdict\n",
        "\n",
        "dicionario = defaultdict(int)\n",
        "dicionario['Ano'] = 2021\n",
        "dicionario['Mês'] = 5\n",
        "\n",
        "print(dicionario.items())\n",
        "print(dicionario['Dia'])\n",
        "# Retornará 0 no lugar de uma exceção\n"
      ],
      "execution_count": null,
      "outputs": [
        {
          "output_type": "stream",
          "text": [
            "dict_items([('Ano', 2021), ('Mês', 5)])\n",
            "0\n"
          ],
          "name": "stdout"
        }
      ]
    },
    {
      "cell_type": "markdown",
      "metadata": {
        "id": "lK-blPiyUwJg"
      },
      "source": [
        "Função setdefault( ) para geração de elementos de dicionários"
      ]
    },
    {
      "cell_type": "code",
      "metadata": {
        "colab": {
          "base_uri": "https://localhost:8080/"
        },
        "id": "u0Kwrd72uXyv",
        "outputId": "99cfa9cc-0c7d-4894-dbea-bb6ce01b04e3"
      },
      "source": [
        "dicio1 = {}\n",
        "\n",
        "print(dicio1)\n",
        "\n",
        "print(dicio1.setdefault('Nome', 'Fernando'))\n",
        "\n",
        "print(dicio1)\n"
      ],
      "execution_count": null,
      "outputs": [
        {
          "output_type": "stream",
          "text": [
            "{}\n",
            "Fernando\n",
            "{'Nome': 'Fernando'}\n"
          ],
          "name": "stdout"
        }
      ]
    },
    {
      "cell_type": "markdown",
      "metadata": {
        "id": "QmzK9PuwVthG"
      },
      "source": [
        "Dicionário com tipo de dado padrão"
      ]
    },
    {
      "cell_type": "code",
      "metadata": {
        "colab": {
          "base_uri": "https://localhost:8080/"
        },
        "id": "KaL76n5YuX1c",
        "outputId": "8137f34b-71a2-42c2-a02e-0d0fc65d6b5a"
      },
      "source": [
        "from collections import defaultdict\n",
        "\n",
        "dicio2 = defaultdict(int)\n",
        "\n",
        "dicio2['key'] = 1987\n",
        "\n",
        "print(dicio2)\n"
      ],
      "execution_count": null,
      "outputs": [
        {
          "output_type": "stream",
          "text": [
            "defaultdict(<class 'int'>, {'key': 1987})\n"
          ],
          "name": "stdout"
        }
      ]
    },
    {
      "cell_type": "code",
      "metadata": {
        "colab": {
          "base_uri": "https://localhost:8080/"
        },
        "id": "BWj0y2DauX36",
        "outputId": "59490efa-194c-44f0-b20f-2897244cd312"
      },
      "source": [
        "# Como em um dicionário a usabilidade se resume a chamar uma chave obtendo assim seu valor\n",
        "# por meio de uma função lambda é possível criar um valor padrão pré-definido, mesmo ainda\n",
        "# não existindo uma chave.\n",
        "\n",
        "from collections import defaultdict\n",
        "\n",
        "dicio2 = defaultdict(lambda: 'Fernando') # já cria um dicionário com elementos padrão, sendo a chave padrão vazio e o valor padrão 'Fernando'\n",
        "\n",
        "dicio2['Nome'] # a primeira referência feita será identificada como a chave padrão\n",
        "\n",
        "print(dicio2) # irá exibir 'Nome' como chave e 'Fernando' como valor\n",
        "\n",
        "dicio2['Nome'] = 'Alberto'\n",
        "\n",
        "print(dicio2)\n"
      ],
      "execution_count": null,
      "outputs": [
        {
          "output_type": "stream",
          "text": [
            "defaultdict(<function <lambda> at 0x7f5bc70248c0>, {'Nome': 'Fernando'})\n",
            "defaultdict(<function <lambda> at 0x7f5bc70248c0>, {'Nome': 'Alberto'})\n"
          ],
          "name": "stdout"
        }
      ]
    },
    {
      "cell_type": "markdown",
      "metadata": {
        "id": "otGSS8zjFMYH"
      },
      "source": [
        "## itemgetter e attgetter"
      ]
    },
    {
      "cell_type": "markdown",
      "metadata": {
        "id": "qJlDUgIIkvxW"
      },
      "source": [
        "itemgetter e attgetter"
      ]
    },
    {
      "cell_type": "code",
      "metadata": {
        "colab": {
          "base_uri": "https://localhost:8080/"
        },
        "id": "E6-lXIF4uX6P",
        "outputId": "fc0756b3-2bab-4cfd-dcc3-867c0c32dc6f"
      },
      "source": [
        "#itemgetter usado para iterar sobre listas e dicionários\n",
        "\n",
        "from operator import itemgetter\n",
        "\n",
        "clientes = [{'Nome': 'Fernando', 'Telefone': '991357258', 'Renda': '2000'},\n",
        "            {'Nome': 'Ana', 'Telefone': '984351558', 'Renda': '1500'},\n",
        "            {'Nome': 'Paulo', 'Telefone': '999117643', 'Renda': '3200'},\n",
        "            {'Nome': 'Tatiana', 'Telefone': '995591127', 'Renda': '3200'}]\n",
        "\n",
        "print(clientes)\n",
        "\n",
        "nomes = itemgetter('Nome')\n",
        "telefones = itemgetter('Telefone')\n",
        "rendas = itemgetter('Renda')\n",
        "\n",
        "clientes.sort(key = nomes)\n",
        "print(clientes) # Reordenará os elementos da lista em ordem alfabética dos nomes\n"
      ],
      "execution_count": null,
      "outputs": [
        {
          "output_type": "stream",
          "text": [
            "[{'Nome': 'Fernando', 'Telefone': '991357258', 'Renda': '2000'}, {'Nome': 'Ana', 'Telefone': '984351558', 'Renda': '1500'}, {'Nome': 'Paulo', 'Telefone': '999117643', 'Renda': '3200'}, {'Nome': 'Tatiana', 'Telefone': '995591127', 'Renda': '3200'}]\n",
            "[{'Nome': 'Ana', 'Telefone': '984351558', 'Renda': '1500'}, {'Nome': 'Fernando', 'Telefone': '991357258', 'Renda': '2000'}, {'Nome': 'Paulo', 'Telefone': '999117643', 'Renda': '3200'}, {'Nome': 'Tatiana', 'Telefone': '995591127', 'Renda': '3200'}]\n",
            "operator.itemgetter('Nome')\n"
          ],
          "name": "stdout"
        }
      ]
    },
    {
      "cell_type": "code",
      "metadata": {
        "colab": {
          "base_uri": "https://localhost:8080/"
        },
        "id": "l7zlsudgReFU",
        "outputId": "921608e4-aacc-4296-d6b0-7c0d679868ec"
      },
      "source": [
        "clientes.sort(key = rendas)\n",
        "print(clientes) # Reordenará os elementos da lista do menor para o maior salário\n"
      ],
      "execution_count": null,
      "outputs": [
        {
          "output_type": "stream",
          "text": [
            "[{'Nome': 'Ana', 'Telefone': '984351558', 'Renda': '1500'}, {'Nome': 'Fernando', 'Telefone': '991357258', 'Renda': '2000'}, {'Nome': 'Paulo', 'Telefone': '999117643', 'Renda': '3200'}, {'Nome': 'Tatiana', 'Telefone': '995591127', 'Renda': '3200'}]\n"
          ],
          "name": "stdout"
        }
      ]
    },
    {
      "cell_type": "code",
      "metadata": {
        "colab": {
          "base_uri": "https://localhost:8080/"
        },
        "id": "i1N7LANJuX8V",
        "outputId": "62f097e1-c3a8-4dc1-e5ee-33c2e950d296"
      },
      "source": [
        "# attrgetter usado para iterar sobre dados cruzados com objetos de uma classe\n",
        "\n",
        "from operator import attrgetter\n",
        "\n",
        "class Pessoa(object):\n",
        "    def __init__(self, nome, telefone, renda):\n",
        "        self.nome = nome\n",
        "        self.telefone = telefone\n",
        "        self.renda = renda\n",
        "    \n",
        "    def __repr__(self):\n",
        "        return self.nome\n",
        "\n",
        "clientes = [Pessoa('Fernando', 991357258, 3000),\n",
        "            Pessoa('Ana', 984351556, 1500),\n",
        "            Pessoa('Paulo', 999117643, 3200),\n",
        "            Pessoa('Tatiana', 995591127, 3200)]\n",
        "\n",
        "clientes.sort(key = attrgetter('nome'))\n",
        "print(clientes)\n"
      ],
      "execution_count": null,
      "outputs": [
        {
          "output_type": "stream",
          "text": [
            "[Ana, Fernando, Paulo, Tatiana]\n"
          ],
          "name": "stdout"
        }
      ]
    },
    {
      "cell_type": "markdown",
      "metadata": {
        "id": "RC077ZwCwfsu"
      },
      "source": [
        "## Expressões Regulares"
      ]
    },
    {
      "cell_type": "markdown",
      "metadata": {
        "id": "Tg7k0i6R_qc9"
      },
      "source": [
        "r'strings"
      ]
    },
    {
      "cell_type": "code",
      "metadata": {
        "id": "67FdNfQRvuRz",
        "colab": {
          "base_uri": "https://localhost:8080/"
        },
        "outputId": "78df82f8-bf8b-4f98-f3ca-d438acea71fe"
      },
      "source": [
        "import re\n",
        "\n",
        "minha_string = 'Fernando chegará a meia noite.'\n",
        "print(re.findall(r'Fernand.', minha_string))\n",
        "\n",
        "minha_string2 = 'Fernanda chegará a meia noite.'\n",
        "print(re.findall(r'Fernand.', minha_string2))\n"
      ],
      "execution_count": null,
      "outputs": [
        {
          "output_type": "stream",
          "text": [
            "['Fernando']\n",
            "['Fernanda']\n"
          ],
          "name": "stdout"
        }
      ]
    },
    {
      "cell_type": "code",
      "metadata": {
        "id": "_-fz5UDI_b-F",
        "colab": {
          "base_uri": "https://localhost:8080/"
        },
        "outputId": "8653d8a6-b621-45c1-fbf3-15ed418ab49a"
      },
      "source": [
        "import re\n",
        "\n",
        "minha_string = 'Fernando chegará a meia noite.'\n",
        "print(re.findall(r'Fernand.', minha_string))\n",
        "# Método findall( ) irá buscar na origem uma string específica,\n",
        "# o ponto no lugar do o ou a em Fernand é um validador regular,\n",
        "# permitindo que neste ponto esteja todo e qualquer caractere.\n",
        "\n",
        "minha_string2 = 'Fernanda chegará a meia noite.'\n",
        "print(re.findall(r'Fernand.', minha_string2))\n"
      ],
      "execution_count": null,
      "outputs": [
        {
          "output_type": "stream",
          "text": [
            "['Fernando']\n",
            "['Fernanda']\n"
          ],
          "name": "stdout"
        }
      ]
    },
    {
      "cell_type": "code",
      "metadata": {
        "id": "scZOzlgEvuUP",
        "colab": {
          "base_uri": "https://localhost:8080/"
        },
        "outputId": "c827acfb-d902-46e5-c9dc-a78bf64ed45d"
      },
      "source": [
        "minha_string = 'Fernando chegará a meia noite.'\n",
        "\n",
        "print(re.findall(r'Fernando|Fernanda', minha_string))\n",
        "# Operador \" ou\" \" | \" também pode ser perfeitamente utilizado,\n",
        "# desde que se saiba todas as possíveis variantes da string,\n",
        "# nesse caso, apenas Fernando ou Fernanda.\n"
      ],
      "execution_count": null,
      "outputs": [
        {
          "output_type": "stream",
          "text": [
            "['Fernando']\n"
          ],
          "name": "stdout"
        }
      ]
    },
    {
      "cell_type": "markdown",
      "metadata": {
        "id": "pEM_pszkW9vE"
      },
      "source": [
        "r'Strings e metacaracteres"
      ]
    },
    {
      "cell_type": "code",
      "metadata": {
        "id": "OLP5YnnTvuWo",
        "colab": {
          "base_uri": "https://localhost:8080/"
        },
        "outputId": "afb46065-c7c6-4dca-9ee6-8a51f21c28c2"
      },
      "source": [
        "import re\n",
        "\n",
        "# Meta caractere \" . \"\n",
        "\n",
        "texto1 = '''No dia trinta de março de dois mil e vinte\n",
        "foi inaugurado o novo ginásio de esportes da escola\n",
        "estatual Professor Annes Dias, na cidade de Cruz Alta,\n",
        "no estado do Rio Grande do Sul. A obra inicialmente \n",
        "orçada em um milhão de, reais acabou não utilizando de\n",
        "todo o recurso, uma vez que dois grandes empresários da \n",
        "cidade, João Fagundes e Maria Terres doaram juntos em \n",
        "torno de duzentos mil reais. João Fagundes se manifestou\n",
        "dizendo que apoiou a obra pois acredita no desenvolvimento\n",
        "da cidade, assim investe regularmente para hospitais e\n",
        "escolas da mesma. maria Terres não quis se pronunciar \n",
        "sobre o assunto.'''\n",
        "\n",
        "print(re.findall(r'.oão', texto1))\n",
        "# O metacaractere \" . \" no início de uma sentença serve para validar\n",
        "# o caractere inicial sa string, que nesse caso poderia ser uma letra\n",
        "# maiúscula ou minúscula.\n",
        "\n",
        "print(re.findall(r'.oão|.aria', texto1))\n"
      ],
      "execution_count": null,
      "outputs": [
        {
          "output_type": "stream",
          "text": [
            "['João', 'João']\n",
            "['João', 'Maria', 'João', 'maria']\n"
          ],
          "name": "stdout"
        }
      ]
    },
    {
      "cell_type": "code",
      "metadata": {
        "id": "xxYimAzQvuYy",
        "colab": {
          "base_uri": "https://localhost:8080/"
        },
        "outputId": "ef012772-88a5-4b5a-e2d6-0b974faea1bb"
      },
      "source": [
        "# Meta caractere \" | \" significa \"ou\"\n",
        "# | significa ou, e tem suporte a número de palavras ilimitadas\n",
        "\n",
        "print(re.findall(r'.oão|.aria', texto1))\n",
        "# Metacaracteres podem ser perfeitamente combinados em uma sentença\n",
        "\n",
        "print(re.findall(r'.oão|.aria|mil', texto1))\n"
      ],
      "execution_count": null,
      "outputs": [
        {
          "output_type": "stream",
          "text": [
            "['João', 'Maria', 'João', 'maria']\n",
            "['mil', 'mil', 'João', 'Maria', 'mil', 'João', 'maria']\n"
          ],
          "name": "stdout"
        }
      ]
    },
    {
      "cell_type": "code",
      "metadata": {
        "id": "stX0zFHdwonv",
        "colab": {
          "base_uri": "https://localhost:8080/"
        },
        "outputId": "4fa1cba9-c469-4c58-a4b3-b20ec04322c2"
      },
      "source": [
        "# Meta caractere \" [] \" significa \"conjunto de caracteres\"\n",
        "# Usado para definir quais possíveis caracteres estarão numa determinada\n",
        "# posição da string.\n",
        "\n",
        "print(re.findall(r'[Jj]oão|.aria', texto1))\n",
        "# Suponto que toos os caracteres possíveis no início de João são J\n",
        "# maiúsculo e j minúsculo. Nesse caso sabemos que os possíveis caracteres\n",
        "# são J ou j, mas em outras strings precisaremos ampliar a abordagem.\n"
      ],
      "execution_count": null,
      "outputs": [
        {
          "output_type": "stream",
          "text": [
            "['João', 'Maria', 'João', 'maria']\n"
          ],
          "name": "stdout"
        }
      ]
    },
    {
      "cell_type": "code",
      "metadata": {
        "id": "pTbt5UVZwoqK",
        "colab": {
          "base_uri": "https://localhost:8080/"
        },
        "outputId": "8889b06d-f8a1-4a2f-98c6-bd9fdd5e9b85"
      },
      "source": [
        "# pode conter quantos possíveis caracteres forem necessarios\n",
        "print(re.findall(r'[AaBbCcDdEeFfGgHhIiJj]oão', texto1))\n"
      ],
      "execution_count": null,
      "outputs": [
        {
          "output_type": "stream",
          "text": [
            "['João', 'João']\n"
          ],
          "name": "stdout"
        }
      ]
    },
    {
      "cell_type": "code",
      "metadata": {
        "id": "QgdNIFG3BTxy",
        "colab": {
          "base_uri": "https://localhost:8080/"
        },
        "outputId": "f5aa07de-bfad-4b37-9028-3961c2c6676e"
      },
      "source": [
        "# otimizado com um intervalo predefinido\n",
        "print(re.findall(r'[a-z]oão|[A-Z]oão', texto1))\n",
        "print(re.findall(r'[a-zA-Z]oão', texto1))\n"
      ],
      "execution_count": null,
      "outputs": [
        {
          "output_type": "stream",
          "text": [
            "['João', 'João']\n",
            "['João', 'João']\n"
          ],
          "name": "stdout"
        }
      ]
    },
    {
      "cell_type": "markdown",
      "metadata": {
        "id": "9sLmKU0eW9vG"
      },
      "source": [
        "Alterando o comportamento de uma expressão regular via flags"
      ]
    },
    {
      "cell_type": "code",
      "metadata": {
        "id": "4RSwCr5_wosg",
        "colab": {
          "base_uri": "https://localhost:8080/"
        },
        "outputId": "32376cb7-cd17-4dcf-906e-8cae45816d77"
      },
      "source": [
        "# Ignore Case\n",
        "\n",
        "print(re.findall(r'jOãO|maRIA', texto1, flags = re.I))\n",
        "\n",
        "# Flags serve para passar uma instrução local, nesse caso, re.I\n",
        "# significa ignore case (não diferenciar letras maiúsculas de minúsculas)\n"
      ],
      "execution_count": null,
      "outputs": [
        {
          "output_type": "stream",
          "text": [
            "['João', 'Maria', 'João', 'maria']\n"
          ],
          "name": "stdout"
        }
      ]
    },
    {
      "cell_type": "markdown",
      "metadata": {
        "id": "OMyuBcNEW9vH"
      },
      "source": [
        "Metacaracteres quantificadores"
      ]
    },
    {
      "cell_type": "code",
      "metadata": {
        "id": "1IhB59CTwovA",
        "colab": {
          "base_uri": "https://localhost:8080/"
        },
        "outputId": "3e351a83-1bec-4782-e4ed-a8edf5e8211d"
      },
      "source": [
        "# * significa 0 ou ilimitado número de vezes\n",
        "# + significa 1 ou ilimitado número de vezes\n",
        "# ? significa 0 ou 1, apenas uma vez\n",
        "# {} significa um número específico, por exemplo {8} define 8 repetições\n",
        "\n",
        "# {} com dois parâmetros justapostos definem um intervalo, por exemplo {0,15}\n",
        "# define que algo será repetido 15 vezes, iniciando o contador em 0.\n",
        "\n",
        "mensagem = 'Nããããããããããooooooo esquecer de pagar a conta, não deixar para depois'\n",
        "\n",
        "print(re.findall(r'não', mensagem, flags = re.I))\n",
        "\n",
        "print(re.findall(r'Nã+o', mensagem))\n",
        "# o operador \" + \" ao lado de ã diz que esse caractere, naquela posição\n",
        "# pode se repetir uma ou mais vezes\n",
        "\n",
        "print(re.findall(r'Nã+o+', mensagem))\n",
        "\n",
        "print(re.findall(r'[Nn]ã+o+', mensagem))\n",
        "\n",
        "print(re.findall(r'nã+o+', mensagem, flags = re.I))\n"
      ],
      "execution_count": null,
      "outputs": [
        {
          "output_type": "stream",
          "text": [
            "['não']\n",
            "['Nãããããããããão']\n",
            "['Nããããããããããooooooo']\n",
            "['Nããããããããããooooooo', 'não']\n",
            "['Nããããããããããooooooo', 'não']\n"
          ],
          "name": "stdout"
        }
      ]
    },
    {
      "cell_type": "markdown",
      "metadata": {
        "id": "O4ZCrwJKW9vH"
      },
      "source": [
        "Metacaracteres aplicados a um intervalo de caracteres de uma expressão regular"
      ]
    },
    {
      "cell_type": "code",
      "metadata": {
        "id": "jwufCTUNwoxQ",
        "colab": {
          "base_uri": "https://localhost:8080/"
        },
        "outputId": "5dbcd9ca-38a0-4896-b1af-adabda3af3a9"
      },
      "source": [
        "# [A-Za-z0-9]+ significa que vai permitir qualquer caractere,\n",
        "# quantas vezes o mesmo estiver repetido...\n",
        "\n",
        "chamando_nome = 'Fernnnnnnnannnnndo'\n",
        "\n",
        "print(re.findall(r'fer[a-z]+a[Nn]+do', chamando_nome, flags = re.I))\n"
      ],
      "execution_count": null,
      "outputs": [
        {
          "output_type": "stream",
          "text": [
            "['Fernnnnnnnannnnndo']\n"
          ],
          "name": "stdout"
        }
      ]
    },
    {
      "cell_type": "markdown",
      "metadata": {
        "id": "znzdQQWBW9vI"
      },
      "source": [
        "Substituindo um elemento de uma string via expressão regular"
      ]
    },
    {
      "cell_type": "code",
      "metadata": {
        "id": "0PagZDTmwoz1",
        "colab": {
          "base_uri": "https://localhost:8080/"
        },
        "outputId": "32bc475a-607e-4445-e91b-a2af5dd2306f"
      },
      "source": [
        "texto1 = '''No dia trinta de março de dois mil e vinte\n",
        "foi inaugurado o novo ginásio de esportes da escola\n",
        "estatual Professor Annes Dias, na cidade de Cruz Alta,\n",
        "no estado do Rio Grande do Sul. A obra inicialmente \n",
        "orçada em um milhão de, reais acabou não utilizando de\n",
        "todo o recurso, uma vez que dois grandes empresários da \n",
        "cidade, João Fagundes e Maria Terres doaram juntos em \n",
        "torno de duzentos mil reais. João Fagundes se manifestou\n",
        "dizendo que apoiou a obra pois acredita no desenvolvimento\n",
        "da cidade, assim investe regularmente para hospitais e\n",
        "escolas da mesma. maria Terres não quis se pronunciar \n",
        "sobre o assunto.'''\n",
        "\n",
        "print(re.sub(r'jOãO', 'Carlos', texto1, flags = re.I))\n",
        "# método sub( ) recebe três parâmetros, sendo o primeiro a string a ser\n",
        "# substituída, seguido da string substituta, seguido da fonte onde serão\n",
        "# lidas e feitas as devidas alterações.\n"
      ],
      "execution_count": null,
      "outputs": [
        {
          "output_type": "stream",
          "text": [
            "No dia trinta de março de dois mil e vinte\n",
            "foi inaugurado o novo ginásio de esportes da escola\n",
            "estatual Professor Annes Dias, na cidade de Cruz Alta,\n",
            "no estado do Rio Grande do Sul. A obra inicialmente \n",
            "orçada em um milhão de, reais acabou não utilizando de\n",
            "todo o recurso, uma vez que dois grandes empresários da \n",
            "cidade, Carlos Fagundes e Maria Terres doaram juntos em \n",
            "torno de duzentos mil reais. Carlos Fagundes se manifestou\n",
            "dizendo que apoiou a obra pois acredita no desenvolvimento\n",
            "da cidade, assim investe regularmente para hospitais e\n",
            "escolas da mesma. maria Terres não quis se pronunciar \n",
            "sobre o assunto.\n"
          ],
          "name": "stdout"
        }
      ]
    },
    {
      "cell_type": "markdown",
      "metadata": {
        "id": "5fu1zhOxDRqE"
      },
      "source": [
        "Buscando uma string no início de uma sentença"
      ]
    },
    {
      "cell_type": "code",
      "metadata": {
        "id": "GisipVO4vubD",
        "colab": {
          "base_uri": "https://localhost:8080/"
        },
        "outputId": "1c575ec8-c37c-49d2-f554-ecfc2f257a3b"
      },
      "source": [
        "minha_string = 'Fernando chegará a meia noite.'\n",
        "\n",
        "print(re.match(r'Fernando', minha_string))\n",
        "\n",
        "print(re.match(r'noite', minha_string))\n"
      ],
      "execution_count": null,
      "outputs": [
        {
          "output_type": "stream",
          "text": [
            "<re.Match object; span=(0, 8), match='Fernando'>\n",
            "None\n"
          ],
          "name": "stdout"
        }
      ]
    },
    {
      "cell_type": "code",
      "metadata": {
        "id": "wK7Kexe-DN3I",
        "colab": {
          "base_uri": "https://localhost:8080/"
        },
        "outputId": "78ceb172-be69-49de-aa38-040c266a6a23"
      },
      "source": [
        "minha_string = 'Fernando chegará a meia noite.'\n",
        "\n",
        "print(re.match(r'Fernando', minha_string))\n",
        "# match( ) gera um retorno caso a string usada como parâmetro seja a string\n",
        "# inicial de uma sentença. Como retorno será apontado o intervalo de índice\n",
        "# de onde inicia até onde se extende a string inicial.\n",
        "\n",
        "print(re.match(r'noite', minha_string))\n",
        "# Retornará None, pois apesar de noite constar na string de origem, a mesma\n",
        "# não é a string inicial da sentença.\n"
      ],
      "execution_count": null,
      "outputs": [
        {
          "output_type": "stream",
          "text": [
            "<re.Match object; span=(0, 8), match='Fernando'>\n",
            "None\n"
          ],
          "name": "stdout"
        }
      ]
    },
    {
      "cell_type": "markdown",
      "metadata": {
        "id": "6DCwI4vKDhLo"
      },
      "source": [
        "Separando uma string em partes"
      ]
    },
    {
      "cell_type": "code",
      "metadata": {
        "id": "5A-PilQ_w0fA",
        "colab": {
          "base_uri": "https://localhost:8080/"
        },
        "outputId": "d1669e75-d583-4fe3-c4cf-4462036b500b"
      },
      "source": [
        "minha_string2 = 'Fernando chegará, a meia noite.'\n",
        "\n",
        "print(re.split(r',', minha_string2))\n",
        "# Onde houver vírgula, a sentença será quebrada em duas. É perfeitamente\n",
        "# possível definir outros marcadores para que sejam indicadores de separação\n"
      ],
      "execution_count": null,
      "outputs": [
        {
          "output_type": "stream",
          "text": [
            "['Fernando chegará', ' a meia noite.']\n"
          ],
          "name": "stdout"
        }
      ]
    },
    {
      "cell_type": "markdown",
      "metadata": {
        "id": "Td9Uxt4VgljG"
      },
      "source": [
        "## Números Avançados"
      ]
    },
    {
      "cell_type": "markdown",
      "metadata": {
        "id": "YqTCmXuqDqAA"
      },
      "source": [
        "Números Complexos"
      ]
    },
    {
      "cell_type": "code",
      "metadata": {
        "id": "h2OJA_feDuiZ",
        "colab": {
          "base_uri": "https://localhost:8080/"
        },
        "outputId": "a34c8f84-9c7e-42e6-da0a-3c31f4c58157"
      },
      "source": [
        "# Números complexos são compostos de uma parte real e uma imaginária\n",
        "# sendo cada parte representada por um número de casa decimal.\n",
        "\n",
        "num = 3.1 + 8.5j\n",
        "\n",
        "print(type(num))\n"
      ],
      "execution_count": null,
      "outputs": [
        {
          "output_type": "stream",
          "text": [
            "<class 'complex'>\n"
          ],
          "name": "stdout"
        }
      ]
    },
    {
      "cell_type": "code",
      "metadata": {
        "id": "p3Sbea_cEKVS",
        "colab": {
          "base_uri": "https://localhost:8080/"
        },
        "outputId": "7e07c510-c5dd-4462-96f5-703d132624cd"
      },
      "source": [
        "num = 3.1 + 8.5j\n",
        "\n",
        "print(num)\n",
        "# retornará todo o número imaginário\n",
        "\n",
        "print(num.real)\n",
        "# retornará apenas a parte real\n",
        "\n",
        "print(num.imag)\n",
        "# retornará apenas a parte imaginária\n"
      ],
      "execution_count": null,
      "outputs": [
        {
          "output_type": "stream",
          "text": [
            "(3.1+8.5j)\n",
            "3.1\n",
            "8.5\n"
          ],
          "name": "stdout"
        }
      ]
    },
    {
      "cell_type": "markdown",
      "metadata": {
        "id": "rRsS64WVD23T"
      },
      "source": [
        "Criando um número complexo pelo seu construtor"
      ]
    },
    {
      "cell_type": "code",
      "metadata": {
        "id": "HtnbdECnIqCv",
        "colab": {
          "base_uri": "https://localhost:8080/"
        },
        "outputId": "9da79824-c311-42ea-9630-b161b110d953"
      },
      "source": [
        "num2 = complex(4.3, 9.9)\n",
        "# primeiro argumento referente a parte real, segundo argumento referente\n",
        "# a parte imaginária\n",
        "\n",
        "print(num2)\n",
        "\n",
        "print(type(num2))\n"
      ],
      "execution_count": null,
      "outputs": [
        {
          "output_type": "stream",
          "text": [
            "(4.3+9.9j)\n",
            "<class 'complex'>\n"
          ],
          "name": "stdout"
        }
      ]
    },
    {
      "cell_type": "markdown",
      "metadata": {
        "id": "NFovLTxkD_m9"
      },
      "source": [
        "String como argumento"
      ]
    },
    {
      "cell_type": "code",
      "metadata": {
        "id": "PDa0VKULJLc3",
        "colab": {
          "base_uri": "https://localhost:8080/"
        },
        "outputId": "d15ef548-2096-4183-8878-92852a0d94eb"
      },
      "source": [
        "num3 = complex('1.9+2.9j')\n",
        "\n",
        "print(num3)\n",
        "\n",
        "print(type(num3))\n"
      ],
      "execution_count": null,
      "outputs": [
        {
          "output_type": "stream",
          "text": [
            "(1.9+2.9j)\n",
            "<class 'complex'>\n"
          ],
          "name": "stdout"
        }
      ]
    },
    {
      "cell_type": "markdown",
      "metadata": {
        "id": "S-FfJoushMxe"
      },
      "source": [
        "Binário"
      ]
    },
    {
      "cell_type": "code",
      "metadata": {
        "id": "W5iI9T2QhN9t",
        "colab": {
          "base_uri": "https://localhost:8080/"
        },
        "outputId": "4ae8f4fc-ae06-40c6-c966-6660755ab2b4"
      },
      "source": [
        "num1 = 1987\n",
        "\n",
        "num1_bin = bin(num1)\n",
        "\n",
        "print(f'O número original é: {num1}')\n",
        "print(f'Sua forma binária é: {num1_bin}')\n"
      ],
      "execution_count": null,
      "outputs": [
        {
          "output_type": "stream",
          "text": [
            "O número original é: 1987\n",
            "Sua forma binária é: 0b11111000011\n"
          ],
          "name": "stdout"
        }
      ]
    },
    {
      "cell_type": "markdown",
      "metadata": {
        "id": "ZXJ8_vzygvRl"
      },
      "source": [
        "Hexadecimal"
      ]
    },
    {
      "cell_type": "code",
      "metadata": {
        "id": "4Lp_t-pogqwd",
        "colab": {
          "base_uri": "https://localhost:8080/"
        },
        "outputId": "6c2bc249-4825-4186-eace-eadbd64710df"
      },
      "source": [
        "num1 = 1987\n",
        "\n",
        "num1_hex = hex(num1)\n",
        "\n",
        "print(f'O número original é: {num1}')\n",
        "print(f'Sua forma hexadecimal é: {num1_hex}')\n"
      ],
      "execution_count": null,
      "outputs": [
        {
          "output_type": "stream",
          "text": [
            "O número original é: 1987\n",
            "Sua forma hexadecimal é: 0x7c3\n"
          ],
          "name": "stdout"
        }
      ]
    },
    {
      "cell_type": "markdown",
      "metadata": {
        "id": "7MMBTi-nhtFi"
      },
      "source": [
        "Um número elevado a outro"
      ]
    },
    {
      "cell_type": "code",
      "metadata": {
        "id": "eHPkJQfKguC8",
        "colab": {
          "base_uri": "https://localhost:8080/"
        },
        "outputId": "c7e8450f-9aed-4843-c011-fa42c22d1333"
      },
      "source": [
        "num1 = 2\n",
        "num2 = 8\n",
        "\n",
        "num3 = pow(num1, num2)\n",
        "\n",
        "print(f'Quando elevamos {num1} a {num2} o resultado é: {num3}')\n"
      ],
      "execution_count": null,
      "outputs": [
        {
          "output_type": "stream",
          "text": [
            "Quando elevamos 2 a 8 o resultado é: 256\n"
          ],
          "name": "stdout"
        }
      ]
    },
    {
      "cell_type": "markdown",
      "metadata": {
        "id": "0MjhOGhMiMsm"
      },
      "source": [
        "Valor Absoluto"
      ]
    },
    {
      "cell_type": "code",
      "metadata": {
        "id": "fMwOgVETguP7",
        "colab": {
          "base_uri": "https://localhost:8080/"
        },
        "outputId": "e61ccddf-3829-4850-b14e-c112a2f9b2a2"
      },
      "source": [
        "print(abs(19))\n",
        "# Irá retornar 19\n",
        "\n",
        "print(abs(-19))\n",
        "# Irá retornar 19, pois em números absolutos não existem números negativos 19\n"
      ],
      "execution_count": null,
      "outputs": [
        {
          "output_type": "stream",
          "text": [
            "19\n",
            "19\n"
          ],
          "name": "stdout"
        }
      ]
    },
    {
      "cell_type": "markdown",
      "metadata": {
        "id": "kyyBgy-XGaqC"
      },
      "source": [
        "NaN"
      ]
    },
    {
      "cell_type": "code",
      "metadata": {
        "id": "c_sf7EgUGcxr",
        "colab": {
          "base_uri": "https://localhost:8080/"
        },
        "outputId": "1569110b-5a50-4f18-ea49-c7058660322c"
      },
      "source": [
        "# Em tradução literal \"Não é número\" pode ser uma alternativa específica para\n",
        "# situações onde None não é aplicável\n",
        "\n",
        "float('nan')\n",
        "# Alocará em memória um objeto do tipo \"não é número\"\n"
      ],
      "execution_count": null,
      "outputs": [
        {
          "output_type": "execute_result",
          "data": {
            "text/plain": [
              "nan"
            ]
          },
          "metadata": {
            "tags": []
          },
          "execution_count": 448
        }
      ]
    },
    {
      "cell_type": "markdown",
      "metadata": {
        "id": "jwpEf6zbHjBy"
      },
      "source": [
        "Infinity"
      ]
    },
    {
      "cell_type": "code",
      "metadata": {
        "id": "3Y7DSNvGHnH4",
        "colab": {
          "base_uri": "https://localhost:8080/"
        },
        "outputId": "f9dd6104-5fa1-4b5a-e7b6-2aed6d706f65"
      },
      "source": [
        "float('infinity')\n",
        "# Criará um objeto que é um número tendendo ao infinito positivo\n"
      ],
      "execution_count": null,
      "outputs": [
        {
          "output_type": "execute_result",
          "data": {
            "text/plain": [
              "inf"
            ]
          },
          "metadata": {
            "tags": []
          },
          "execution_count": 449
        }
      ]
    },
    {
      "cell_type": "code",
      "metadata": {
        "id": "nOzeS7IhIAJc",
        "colab": {
          "base_uri": "https://localhost:8080/"
        },
        "outputId": "22c09fdf-4831-4e3c-a594-3ac9dc67b6fd"
      },
      "source": [
        "float('-infinity')\n",
        "# Criará um objeto que é um número tendendo ao infinito negativo\n"
      ],
      "execution_count": null,
      "outputs": [
        {
          "output_type": "execute_result",
          "data": {
            "text/plain": [
              "-inf"
            ]
          },
          "metadata": {
            "tags": []
          },
          "execution_count": 450
        }
      ]
    },
    {
      "cell_type": "markdown",
      "metadata": {
        "id": "UETe6ot-FicO"
      },
      "source": [
        "## Listas (Avançado)"
      ]
    },
    {
      "cell_type": "markdown",
      "metadata": {
        "id": "LxczRaVMyFfv"
      },
      "source": [
        "list( )"
      ]
    },
    {
      "cell_type": "code",
      "metadata": {
        "colab": {
          "base_uri": "https://localhost:8080/"
        },
        "id": "YW0S_oDixmPg",
        "outputId": "cc584e59-afc7-4891-8042-3486a7b2fc85"
      },
      "source": [
        "# Gerador de listas\n",
        "\n",
        "nome = 'Fernando'\n",
        "sobrenome = 'Feltrin'\n",
        "idade = 34\n",
        "ano_nasc = 1987\n",
        "\n",
        "cadastro = list((nome, sobrenome, idade, ano_nasc))\n",
        "# Elementos entre parênteses para que sejam repassados como **kwargs\n",
        "\n",
        "print(cadastro)\n",
        "print(type(cadastro))\n"
      ],
      "execution_count": null,
      "outputs": [
        {
          "output_type": "stream",
          "text": [
            "['Fernando', 'Feltrin', 34, 1987]\n",
            "<class 'list'>\n"
          ],
          "name": "stdout"
        }
      ]
    },
    {
      "cell_type": "markdown",
      "metadata": {
        "id": "r17vBkPL0apm"
      },
      "source": [
        "Criação de lista com número de elementos já pré-definido"
      ]
    },
    {
      "cell_type": "code",
      "metadata": {
        "colab": {
          "base_uri": "https://localhost:8080/"
        },
        "id": "GgpPXso-mxZi",
        "outputId": "7cd01c36-95c4-405e-8c3e-ffad9fe61db4"
      },
      "source": [
        "lista1 = [None] * 10 # este valor será aplicado a quantos do elemento None queremos inicialmente na lista\n",
        "\n",
        "print(lista1)\n",
        "\n",
        "lista2 = [{1}] * 10\n",
        "\n",
        "print(lista2)\n"
      ],
      "execution_count": null,
      "outputs": [
        {
          "output_type": "stream",
          "text": [
            "[None, None, None, None, None, None, None, None, None, None]\n",
            "[{1}, {1}, {1}, {1}, {1}, {1}, {1}, {1}, {1}, {1}]\n"
          ],
          "name": "stdout"
        }
      ]
    },
    {
      "cell_type": "code",
      "metadata": {
        "colab": {
          "base_uri": "https://localhost:8080/"
        },
        "id": "74Qjdda4mxbz",
        "outputId": "e72c9e31-0808-4d77-c437-f2d3845dcca9"
      },
      "source": [
        "lista1 = [{4}] * 10\n",
        "lista1[0].add(8)\n",
        "\n",
        "print(lista1)\n"
      ],
      "execution_count": null,
      "outputs": [
        {
          "output_type": "stream",
          "text": [
            "[{8, 4}, {8, 4}, {8, 4}, {8, 4}, {8, 4}, {8, 4}, {8, 4}, {8, 4}, {8, 4}, {8, 4}]\n"
          ],
          "name": "stdout"
        }
      ]
    },
    {
      "cell_type": "markdown",
      "metadata": {
        "id": "KQZh_DqIFUJJ"
      },
      "source": [
        "Função heapq( ) para classificar/ordenar elementos de uma lista"
      ]
    },
    {
      "cell_type": "code",
      "metadata": {
        "colab": {
          "base_uri": "https://localhost:8080/"
        },
        "id": "8UOrTQiuAp44",
        "outputId": "df310c5a-be99-4d6a-eca8-aa06d8765887"
      },
      "source": [
        "import heapq\n",
        "\n",
        "numeros = [1, 54, 32, 101, 8, 21, 117, 99, 10, 87]\n",
        "\n",
        "print(heapq.nlargest(5, numeros)) # retornará os 5 maiores números, do maior para o menor destes\n"
      ],
      "execution_count": null,
      "outputs": [
        {
          "output_type": "stream",
          "text": [
            "[117, 101, 99, 87, 54]\n"
          ],
          "name": "stdout"
        }
      ]
    },
    {
      "cell_type": "code",
      "metadata": {
        "colab": {
          "base_uri": "https://localhost:8080/"
        },
        "id": "zMqKm8EYAp7B",
        "outputId": "0bc8aac6-b2f3-47fa-f02e-536bcb9d3206"
      },
      "source": [
        "import heapq\n",
        "\n",
        "numeros = [1, 54, 32, 101, 8, 21, 117, 99, 10, 87]\n",
        "\n",
        "print(heapq.nsmallest(5, numeros)) # retornará os 5 menores números, do menor para o maior destes\n"
      ],
      "execution_count": null,
      "outputs": [
        {
          "output_type": "stream",
          "text": [
            "[1, 8, 10, 21, 32]\n"
          ],
          "name": "stdout"
        }
      ]
    },
    {
      "cell_type": "code",
      "metadata": {
        "id": "sIc491KzAp9X",
        "colab": {
          "base_uri": "https://localhost:8080/"
        },
        "outputId": "76e5a6c4-0949-4d3a-e06b-bdc9c3537ff9"
      },
      "source": [
        "import heapq\n",
        "\n",
        "numeros = [1, 54, 32, 101, 8, 21, 117, 99, 10, 87]\n",
        "\n",
        "heapq.heapify(numeros) # retorna como primeiro elemento o menor deles, deixando o resto aleatório\n",
        "\n",
        "print(numeros)\n"
      ],
      "execution_count": null,
      "outputs": [
        {
          "output_type": "stream",
          "text": [
            "[1, 8, 21, 10, 54, 32, 117, 99, 101, 87]\n"
          ],
          "name": "stdout"
        }
      ]
    },
    {
      "cell_type": "code",
      "metadata": {
        "colab": {
          "base_uri": "https://localhost:8080/"
        },
        "id": "TOBTPUQXtIkE",
        "outputId": "cffd66db-b928-4803-98c4-c3096e3f0e6c"
      },
      "source": [
        "import heapq\n",
        "\n",
        "numeros = [1, 54, 32, 101, 8, 21, 117, 99, 10, 87]\n",
        "\n",
        "heapq.heappop(numeros) # remove o menor elemento\n",
        "\n",
        "print(numeros)\n"
      ],
      "execution_count": null,
      "outputs": [
        {
          "output_type": "stream",
          "text": [
            "[32, 54, 21, 101, 8, 87, 117, 99, 10]\n"
          ],
          "name": "stdout"
        }
      ]
    },
    {
      "cell_type": "code",
      "metadata": {
        "colab": {
          "base_uri": "https://localhost:8080/"
        },
        "id": "yg5Xw3U9tgcD",
        "outputId": "7cdf2e0e-3950-43e7-e1ff-7ea98515ecec"
      },
      "source": [
        "import heapq\n",
        "\n",
        "numeros = [1, 54, 32, 101, 8, 21, 117, 99, 10, 87]\n",
        "\n",
        "heapq.heappush(numeros, 33) # insere o elemento 33 em uma posição aleatória\n",
        "\n",
        "print(numeros)\n"
      ],
      "execution_count": null,
      "outputs": [
        {
          "output_type": "stream",
          "text": [
            "[1, 54, 32, 101, 8, 21, 117, 99, 10, 87, 33]\n"
          ],
          "name": "stdout"
        }
      ]
    },
    {
      "cell_type": "markdown",
      "metadata": {
        "id": "UZ_OmORcIdBT"
      },
      "source": [
        "Funções iter( ) e next( ) para iterar sobre elementos sequencialmente"
      ]
    },
    {
      "cell_type": "code",
      "metadata": {
        "colab": {
          "base_uri": "https://localhost:8080/"
        },
        "id": "2FB0Oit-Ap_t",
        "outputId": "c37946fb-74fd-45bf-dbe5-29411e9b899b"
      },
      "source": [
        "numeros = [1, 54, 32, 101, 8]\n",
        "\n",
        "i = iter(numeros)\n",
        "\n",
        "a = next(i)\n",
        "print(a)\n",
        "b = next(i)\n",
        "print(b)\n",
        "c = next(i)\n",
        "print(c)\n",
        "d = next(i)\n",
        "print(d)\n",
        "e = next(i)\n",
        "print(e)\n",
        "\n",
        "# f = next(i) # Irá gerar um erro StopIteration\n",
        "# print(f)\n"
      ],
      "execution_count": null,
      "outputs": [
        {
          "output_type": "stream",
          "text": [
            "1\n",
            "54\n",
            "32\n",
            "101\n",
            "8\n"
          ],
          "name": "stdout"
        }
      ]
    },
    {
      "cell_type": "markdown",
      "metadata": {
        "id": "Wkc5Q8Y064mO"
      },
      "source": [
        "## Pilhas (Avançado)"
      ]
    },
    {
      "cell_type": "code",
      "metadata": {
        "id": "i7Vh-mCf662G"
      },
      "source": [
        "# Pilha criada com estrutura de dados orientada a objetos, fazendo uso de vetores\n",
        "# da biblioteca Numpy\n",
        "\n",
        "import numpy as np\n",
        "\n",
        "class Pilha:\n",
        "    def __init__(self, tamanho):\n",
        "        self.__tamanho = tamanho\n",
        "        self.__ultimo = -1\n",
        "        self.__elementos = np.empty(self.__tamanho, dtype = int)\n",
        "        # Alguns objetos podem serem definidos como privado\n",
        "        # pois a ideia é que o usuário apenas tenha acesso\n",
        "        # ao elemento do topo da pilha\n",
        "    \n",
        "    def verifica_estado(self):\n",
        "        if self.__ultimo == self.__tamanho - 1:\n",
        "            return True\n",
        "        else:\n",
        "            return False\n",
        "    \n",
        "    def pilha_vazia(self):\n",
        "        if self.__ultimo == -1:\n",
        "            print('Pilha vazia...')\n",
        "            return True\n",
        "        else:\n",
        "            print(f'Desempilhando o último elemento: {__ultimo}')\n",
        "    \n",
        "    def insere_elemento(self, elemento):\n",
        "        if self.verifica_estado():\n",
        "            print('Pilha cheia!!!')\n",
        "        else:\n",
        "            self.__ultimo += 1\n",
        "            self.__elementos[self.__ultimo] = elemento\n",
        "    \n",
        "    def desempilhar(self):\n",
        "        if self.pilha_vazia():\n",
        "            print('Pilha vazia...')\n",
        "        else:\n",
        "            self.__ultimo -= 1\n",
        "    \n",
        "    def mostra_topo(self):\n",
        "        if self.__ultimo != -1:\n",
        "            return self.__elementos[self.__ultimo]\n",
        "        return -1\n"
      ],
      "execution_count": null,
      "outputs": []
    },
    {
      "cell_type": "code",
      "metadata": {
        "colab": {
          "base_uri": "https://localhost:8080/"
        },
        "id": "pjgLRvzv67N-",
        "outputId": "b7d9029b-9594-413e-a2b2-9343716a6001"
      },
      "source": [
        "pilha1 = Pilha(10) # Instancia e inicializa a classe definindo o tamanho da pilha para 10 elementos\n",
        "print(pilha1.mostra_topo())\n"
      ],
      "execution_count": null,
      "outputs": [
        {
          "output_type": "stream",
          "text": [
            "-1\n"
          ],
          "name": "stdout"
        }
      ]
    },
    {
      "cell_type": "code",
      "metadata": {
        "colab": {
          "base_uri": "https://localhost:8080/"
        },
        "id": "Wr6Grst1Auil",
        "outputId": "cbff2602-cc65-43c8-87b7-b0e8dee4b886"
      },
      "source": [
        "pilha1.insere_elemento(8)\n",
        "print(pilha1.mostra_topo())\n"
      ],
      "execution_count": null,
      "outputs": [
        {
          "output_type": "stream",
          "text": [
            "8\n"
          ],
          "name": "stdout"
        }
      ]
    },
    {
      "cell_type": "code",
      "metadata": {
        "colab": {
          "base_uri": "https://localhost:8080/"
        },
        "id": "jno2TtqBAums",
        "outputId": "871a1c2e-4a10-4e9b-8ff6-42f58bf4f6a8"
      },
      "source": [
        "pilha1.insere_elemento(5)\n",
        "print(pilha1.mostra_topo())\n"
      ],
      "execution_count": null,
      "outputs": [
        {
          "output_type": "stream",
          "text": [
            "5\n"
          ],
          "name": "stdout"
        }
      ]
    },
    {
      "cell_type": "code",
      "metadata": {
        "colab": {
          "base_uri": "https://localhost:8080/"
        },
        "id": "vjXO971QBlBT",
        "outputId": "7bf0b87b-e254-4197-ab3c-d8ffe940bad9"
      },
      "source": [
        "pilha1.desempilhar()\n",
        "print(pilha1.mostra_topo())\n"
      ],
      "execution_count": null,
      "outputs": [
        {
          "output_type": "stream",
          "text": [
            "Pilha não está vazia...\n",
            "8\n"
          ],
          "name": "stdout"
        }
      ]
    },
    {
      "cell_type": "code",
      "metadata": {
        "colab": {
          "base_uri": "https://localhost:8080/"
        },
        "id": "F6BPGHFcAurc",
        "outputId": "59b5b670-6b81-45cb-9e99-7b58ccad1ec3"
      },
      "source": [
        "pilha1.insere_elemento(1)\n",
        "pilha1.insere_elemento(9)\n",
        "pilha1.insere_elemento(13)\n",
        "pilha1.insere_elemento(11)\n",
        "pilha1.insere_elemento(4)\n",
        "pilha1.insere_elemento(6)\n",
        "pilha1.insere_elemento(0)\n",
        "pilha1.insere_elemento(23)\n",
        "pilha1.insere_elemento(50)\n",
        "pilha1.insere_elemento(52)\n",
        "print(pilha1.mostra_topo())\n"
      ],
      "execution_count": null,
      "outputs": [
        {
          "output_type": "stream",
          "text": [
            "Pilha cheia!!!\n",
            "50\n"
          ],
          "name": "stdout"
        }
      ]
    },
    {
      "cell_type": "markdown",
      "metadata": {
        "id": "FEZOtQyuw37G"
      },
      "source": [
        "## List Comprehension (Avançado)"
      ]
    },
    {
      "cell_type": "markdown",
      "metadata": {
        "id": "BH9jWpPEw9Vu"
      },
      "source": [
        "Gerando uma nova lista via comprehension"
      ]
    },
    {
      "cell_type": "code",
      "metadata": {
        "id": "k7uVnHquw0j1",
        "colab": {
          "base_uri": "https://localhost:8080/"
        },
        "outputId": "beaf447a-fa2c-41b8-adaa-628b8ae05683"
      },
      "source": [
        "lista1 = [1,2,3,4,5,6]\n",
        "\n",
        "for i in lista1:\n",
        "  print(i * 2)\n",
        "\n",
        "#print(lista1)\n",
        "\n",
        "lista2 = [i * 2 for i in lista1]\n",
        "\n",
        "# Variável temporária i que percorre cada elemento da lista1 e multiplica por 2\n",
        "\n",
        "print(lista2)\n"
      ],
      "execution_count": null,
      "outputs": [
        {
          "output_type": "stream",
          "text": [
            "2\n",
            "4\n",
            "6\n",
            "8\n",
            "10\n",
            "12\n",
            "[2, 4, 6, 8, 10, 12]\n"
          ],
          "name": "stdout"
        }
      ]
    },
    {
      "cell_type": "markdown",
      "metadata": {
        "id": "88sDe7mFxAf_"
      },
      "source": [
        "Desmembrando uma string elemento por elemento"
      ]
    },
    {
      "cell_type": "code",
      "metadata": {
        "id": "9WmeNZl4w0mS",
        "colab": {
          "base_uri": "https://localhost:8080/"
        },
        "outputId": "d99c31d9-317a-4ff0-e3ac-7450753d58f8"
      },
      "source": [
        "string = '1234567890'\n",
        "comprehension = [letra for letra in string]\n",
        "# Retornará elemento por elemento da variável como uma nova string\n",
        "\n",
        "print(comprehension)\n"
      ],
      "execution_count": null,
      "outputs": [
        {
          "output_type": "stream",
          "text": [
            "['1', '2', '3', '4', '5', '6', '7', '8', '9', '0']\n"
          ],
          "name": "stdout"
        }
      ]
    },
    {
      "cell_type": "markdown",
      "metadata": {
        "id": "g380TnGJEZ5e"
      },
      "source": [
        "Desmembrando uma string dentro de um intervalo de índice"
      ]
    },
    {
      "cell_type": "code",
      "metadata": {
        "id": "3RFUc4P2w0om",
        "colab": {
          "base_uri": "https://localhost:8080/"
        },
        "outputId": "7ffd19f6-8ef0-48f8-87bd-86de9f51c458"
      },
      "source": [
        "string = '123456789012345678905925249529562'\n",
        "\n",
        "print(string[0:10])\n",
        "# Retornará do primeiro ao décimo elemento da string\n",
        "\n",
        "print(string[10:20])\n",
        "# Retornará do décimo ao vigésimo elemento\n",
        "\n",
        "print(string[20:30])\n",
        "# Retornará do vigésimo ao trigésimo elemento\n"
      ],
      "execution_count": null,
      "outputs": [
        {
          "output_type": "stream",
          "text": [
            "1234567890\n",
            "1234567890\n",
            "5925249529\n"
          ],
          "name": "stdout"
        }
      ]
    },
    {
      "cell_type": "markdown",
      "metadata": {
        "id": "qcF2ynxNEpLS"
      },
      "source": [
        "Separando a string de n em n números"
      ]
    },
    {
      "cell_type": "code",
      "metadata": {
        "id": "8keRAth9w0q4",
        "colab": {
          "base_uri": "https://localhost:8080/"
        },
        "outputId": "d315c460-b3ea-43a2-ffd7-ebcfec2a0fc0"
      },
      "source": [
        "string = '012345678901234567890123456789012'\n",
        "n = 10\n",
        "\n",
        "comp = [i for i in range(0, len(string), n)]\n",
        "# Separando a string de 10 em 10 de acordo com a variável n, repassada como\n",
        "# terceiro parâmetro da função range( )\n",
        "\n",
        "print(comp)\n",
        "\n",
        "comp2 = [(i, i + n) for i in range(0, len(string), n)]\n",
        "# Verificando de quanto a quanto é esse intervalo\n",
        "\n",
        "print(comp2)\n"
      ],
      "execution_count": null,
      "outputs": [
        {
          "output_type": "stream",
          "text": [
            "[0, 10, 20, 30]\n",
            "[(0, 10), (10, 20), (20, 30), (30, 40)]\n"
          ],
          "name": "stdout"
        }
      ]
    },
    {
      "cell_type": "markdown",
      "metadata": {
        "id": "-yOPF--_E2uF"
      },
      "source": [
        "Realizando o fatiamento da string"
      ]
    },
    {
      "cell_type": "code",
      "metadata": {
        "id": "nB1xyIX4E5R_",
        "colab": {
          "base_uri": "https://localhost:8080/"
        },
        "outputId": "e69657a3-98ad-47e9-d8f4-406ad9532bae"
      },
      "source": [
        "string = '012345678901234567890123456789012'\n",
        "n = 10\n",
        "\n",
        "comp3 = [string[i:i + n] for i in range(0, len(string), n)]\n",
        "# Realizando o fatiamento de nossa string, desmembrando a mesma de 10 em 10\n",
        "# caracteres.\n",
        "\n",
        "print(comp3)\n",
        "\n",
        "lista = [string[i:i + n] for i in range(0, len(string), n)]\n",
        "retorno = '.'.join(lista)\n",
        "# Caractere \".\" usado como separador, join( ) para juntar novamente os elementos\n",
        "\n",
        "print(retorno)\n"
      ],
      "execution_count": null,
      "outputs": [
        {
          "output_type": "stream",
          "text": [
            "['0123456789', '0123456789', '0123456789', '012']\n",
            "0123456789.0123456789.0123456789.012\n"
          ],
          "name": "stdout"
        }
      ]
    },
    {
      "cell_type": "markdown",
      "metadata": {
        "id": "riaiQD0RxHYu"
      },
      "source": [
        "Otimizando código via list comprehension"
      ]
    },
    {
      "cell_type": "code",
      "metadata": {
        "id": "JjQYLeijw0tP",
        "colab": {
          "base_uri": "https://localhost:8080/"
        },
        "outputId": "40db55c9-24ff-4f83-c6a7-61338e3d9daf"
      },
      "source": [
        "carrinho = []\n",
        "carrinho.append(('Item 1', 30))\n",
        "carrinho.append(('Item 2', 45))\n",
        "carrinho.append(('Item 3', 22))\n",
        "total = 0\n",
        "\n",
        "for produto in carrinho:\n",
        "  total = total + produto[1]\n",
        "  \n",
        "print('Método tradicional', total)\n",
        "\n",
        "# Mesmo que:\n",
        "# total2 = []\n",
        "# for produto in carrinho:\n",
        "#   total2.append(produto[1])\n",
        "# print('Usando funções internas', sum(total2))\n",
        "\n",
        "# Usando list comprehension\n",
        "total3 = sum([y for x, y in carrinho])\n",
        "# Notação entre colchetes para que se trabalha na camada interna da lista carrinho\n",
        "\n",
        "print('Usando list comprehension', total3)\n"
      ],
      "execution_count": null,
      "outputs": [
        {
          "output_type": "stream",
          "text": [
            "Método tradicional 97\n",
            "Usando list comprehension 97\n"
          ],
          "name": "stdout"
        }
      ]
    },
    {
      "cell_type": "markdown",
      "metadata": {
        "id": "vCda51-N7_R0"
      },
      "source": [
        "Combinando diferentes métodos em comprehension"
      ]
    },
    {
      "cell_type": "code",
      "metadata": {
        "colab": {
          "base_uri": "https://localhost:8080/"
        },
        "id": "R7SrFonW8FRZ",
        "outputId": "c76939d5-6c94-4bde-9688-5a2061e018f0"
      },
      "source": [
        "carros = ['Vectra', 'Golf', 'Civic', 'Tucson', 'Uno', 'Azera', 'Montana']\n",
        "\n",
        "print(f'Carros em Estoque: ' + ' , '.join(sorted(set(carros))))\n",
        "# sorted( ) organizará os elementos em ordem alfabética de acordo com sua inicial\n"
      ],
      "execution_count": null,
      "outputs": [
        {
          "output_type": "stream",
          "text": [
            "Carros em Estoque: Azera , Civic , Golf , Montana , Tucson , Uno , Vectra\n"
          ],
          "name": "stdout"
        }
      ]
    },
    {
      "cell_type": "code",
      "metadata": {
        "colab": {
          "base_uri": "https://localhost:8080/"
        },
        "id": "FmOqdGIt9YN2",
        "outputId": "ec027b64-3c86-4d78-a74d-4ecaabd99ac4"
      },
      "source": [
        "carros = ['Vectra',\n",
        "          'Uno',\n",
        "          'Golf',\n",
        "          'Civic',\n",
        "          'Tucson',\n",
        "          'Uno',\n",
        "          'Azera',\n",
        "          'Montana',\n",
        "          'Vectra']\n",
        "\n",
        "print(f'Carros em Estoque: ' + ' , '.join(sorted(set(carros))))\n",
        "\n",
        "# Se houverem elementos repetidos na string, no retorno será apresentado apenas\n",
        "# uma amostra destes elementos\n"
      ],
      "execution_count": null,
      "outputs": [
        {
          "output_type": "stream",
          "text": [
            "Carros em Estoque: Azera , Civic , Golf , Montana , Tucson , Uno , Vectra\n"
          ],
          "name": "stdout"
        }
      ]
    },
    {
      "cell_type": "markdown",
      "metadata": {
        "id": "yfE8g7lU9OA7"
      },
      "source": [
        "Frequência de um elemento de uma lista"
      ]
    },
    {
      "cell_type": "code",
      "metadata": {
        "colab": {
          "base_uri": "https://localhost:8080/"
        },
        "id": "JMC7ytFf3ZHt",
        "outputId": "392ca3dc-8a80-4a04-fd4a-480aee08ff8d"
      },
      "source": [
        "carros = ['Vectra',\n",
        "          'Uno',\n",
        "          'Golf',\n",
        "          'Civic',\n",
        "          'Tucson',\n",
        "          'Uno',\n",
        "          'Azera',\n",
        "          'Montana',\n",
        "          'Vectra']\n",
        "\n",
        "lista_frequencia = dict()\n",
        "\n",
        "for carro in carros:\n",
        "  lista_frequencia[carro] = lista_frequencia.get(carro, 0) + 1\n",
        "\n",
        "print(lista_frequencia)\n",
        "\n",
        "print(f'Carros em Estoque: ' + ' , '.join(sorted(set(lista_frequencia))))\n"
      ],
      "execution_count": null,
      "outputs": [
        {
          "output_type": "stream",
          "text": [
            "{'Vectra': 2, 'Uno': 2, 'Golf': 1, 'Civic': 1, 'Tucson': 1, 'Azera': 1, 'Montana': 1}\n",
            "Carros em Estoque: Azera , Civic , Golf , Montana , Tucson , Uno , Vectra\n"
          ],
          "name": "stdout"
        }
      ]
    },
    {
      "cell_type": "code",
      "metadata": {
        "colab": {
          "base_uri": "https://localhost:8080/",
          "height": 35
        },
        "id": "4hnwKjm59Mpn",
        "outputId": "1256b79e-1a17-49a0-8d24-ad33638ab926"
      },
      "source": [
        "# Ordenando por frequência a lista anterior\n",
        "\n",
        "from operator import itemgetter\n",
        "\n",
        "', '.join([carro for carro, frequencia in sorted(lista_frequencia.items(),\n",
        "                                                 key = itemgetter(1),\n",
        "                                                 reverse = True)])\n",
        "# Retornará uma lista com os elementos ordenados do mais frequente para o\n",
        "# menos frequente.\n"
      ],
      "execution_count": null,
      "outputs": [
        {
          "output_type": "execute_result",
          "data": {
            "application/vnd.google.colaboratory.intrinsic+json": {
              "type": "string"
            },
            "text/plain": [
              "'Vectra, Uno, Golf, Civic, Tucson, Azera, Montana'"
            ]
          },
          "metadata": {
            "tags": []
          },
          "execution_count": 19
        }
      ]
    },
    {
      "cell_type": "markdown",
      "metadata": {
        "id": "7-bLJGJgxezt"
      },
      "source": [
        "## Expressões Ternárias"
      ]
    },
    {
      "cell_type": "code",
      "metadata": {
        "id": "8Tf_x-S3xU9_",
        "colab": {
          "base_uri": "https://localhost:8080/",
          "height": 36
        },
        "outputId": "9b6551cb-23fa-4602-a374-b5ac912d47dd"
      },
      "source": [
        "# Parecido com comprehension, mas iterando sobre estruturas condicionais\n",
        "# tornando as mesmas reduzidas.\n",
        "\n",
        "num = 2\n",
        "\n",
        "'Positivo' if num >= 0 else 'Negativo'\n",
        "\n",
        "# Retorno esperado 'Positivo' caso a condição imposta seja verdadeira, caso\n",
        "# contrário, retorna 'Negativo', tudo reduzido em uma expressão.\n"
      ],
      "execution_count": null,
      "outputs": [
        {
          "output_type": "execute_result",
          "data": {
            "application/vnd.google.colaboratory.intrinsic+json": {
              "type": "string"
            },
            "text/plain": [
              "'Positivo'"
            ]
          },
          "metadata": {
            "tags": []
          },
          "execution_count": 419
        }
      ]
    },
    {
      "cell_type": "markdown",
      "metadata": {
        "id": "dW33CyAHGC4w"
      },
      "source": [
        "Expressão ternária associada a uma variável"
      ]
    },
    {
      "cell_type": "code",
      "metadata": {
        "id": "cpY5t75bF0xy",
        "colab": {
          "base_uri": "https://localhost:8080/"
        },
        "outputId": "24ceb21c-632c-42f2-d4c4-9cc94bc280cb"
      },
      "source": [
        "num2 = 5\n",
        "\n",
        "validador = 'Positivo' if num2 >= 0 else 'Negativo'\n",
        "\n",
        "print(validador)"
      ],
      "execution_count": null,
      "outputs": [
        {
          "output_type": "stream",
          "text": [
            "Positivo\n"
          ],
          "name": "stdout"
        }
      ]
    },
    {
      "cell_type": "markdown",
      "metadata": {
        "id": "zk9lMUE4GNJj"
      },
      "source": [
        "Expressão ternária aplicada a função print( )"
      ]
    },
    {
      "cell_type": "code",
      "metadata": {
        "id": "E6sl2OwTGkDs"
      },
      "source": [
        "num = int(input('Digite um número entre 1 e 10: '))\n",
        "\n",
        "if num >= 0 and num <= 10:\n",
        "  print('Maior que 5') if num >= 5 else print('Menor que 5')\n",
        "else:\n",
        "  print('Número inválido')\n"
      ],
      "execution_count": null,
      "outputs": []
    },
    {
      "cell_type": "markdown",
      "metadata": {
        "id": "RrHo-mukMdrk"
      },
      "source": [
        "## Any e All"
      ]
    },
    {
      "cell_type": "markdown",
      "metadata": {
        "id": "9vHikFiKGC9b"
      },
      "source": [
        "any( )"
      ]
    },
    {
      "cell_type": "code",
      "metadata": {
        "id": "J04sH9GjpbPg",
        "colab": {
          "base_uri": "https://localhost:8080/"
        },
        "outputId": "1dcc05b0-4f52-49cc-8cdb-693daea6c24d"
      },
      "source": [
        "# Retornará True se ao menos um dos elementos de uma tupla/lista/dicionário\n",
        "# ou qualquer contêiner de dados for válido\n",
        "\n",
        "condicoes = [False, False, False, True, False]\n",
        "# Elemento de índice 3 é True, já validando o método\n",
        "\n",
        "condicoes2 = {'ligado': 1, 'desligado': 0}\n",
        "# No caso de um dicionário, o método irá chegar se alguma das chaves é True\n",
        "\n",
        "print(any(condicoes))\n",
        "print(any(condicoes2))\n"
      ],
      "execution_count": null,
      "outputs": [
        {
          "output_type": "stream",
          "text": [
            "True\n",
            "True\n"
          ],
          "name": "stdout"
        }
      ]
    },
    {
      "cell_type": "code",
      "metadata": {
        "id": "-Oyzy4AwHSO3",
        "colab": {
          "base_uri": "https://localhost:8080/"
        },
        "outputId": "8fca6d51-7233-4d3b-e09a-daefe512220f"
      },
      "source": [
        "condicoes2 = {'ligado': 1, 'desligado': 0}\n",
        "# Duas chaves com elementos válidos\n",
        "\n",
        "condicoes3 = {None: 1, 'desligado': 0}\n",
        "# Uma chave com elemento válido\n",
        "\n",
        "condicoes4 = {None: 1, False: 0}\n",
        "# Nenhuma chave com elemento válido\n",
        "\n",
        "print(any(condicoes2)) \n",
        "print(any(condicoes3))\n",
        "print(any(condicoes4))\n"
      ],
      "execution_count": null,
      "outputs": [
        {
          "output_type": "stream",
          "text": [
            "True\n",
            "True\n",
            "False\n"
          ],
          "name": "stdout"
        }
      ]
    },
    {
      "cell_type": "markdown",
      "metadata": {
        "id": "qTWlFTBzHzlv"
      },
      "source": [
        "all( )"
      ]
    },
    {
      "cell_type": "code",
      "metadata": {
        "id": "Y3-RfokDH4w9",
        "colab": {
          "base_uri": "https://localhost:8080/"
        },
        "outputId": "8a68165c-4eee-41ae-8666-31873b61bad8"
      },
      "source": [
        "# Retornará True somente se todos elementos de uma tupla/lista/dicionário\n",
        "# ou contêiner de dados forem válidos\n",
        "\n",
        "condicoes = [True, True, True, True, True]\n",
        "condicoes2 = {True: 1, True: 0}\n",
        "\n",
        "print(all(condicoes))\n",
        "print(all(condicoes2))\n"
      ],
      "execution_count": null,
      "outputs": [
        {
          "output_type": "stream",
          "text": [
            "True\n",
            "True\n"
          ],
          "name": "stdout"
        }
      ]
    },
    {
      "cell_type": "code",
      "metadata": {
        "id": "HZV1zmtxpbRw",
        "colab": {
          "base_uri": "https://localhost:8080/"
        },
        "outputId": "f41b2624-408d-42c6-9573-d992749ebe5e"
      },
      "source": [
        "condicoes3 = (1, 'Fernando', True, True)\n",
        "# Todos elementos válidos\n",
        "\n",
        "condicoes4 = (0, 'Fernando', True, True)\n",
        "# 0 é interpretado como False, logo, um elemento False invalida todo o método\n",
        "\n",
        "condicoes5 = (1, 'Fernando', True, False)\n",
        "# 3 elementos válidos e um inválido\n",
        "\n",
        "condicoes6 = {True: 1, True: 0}\n",
        "# As duas chaves são elementos válidos\n",
        "\n",
        "print(all(condicoes3))\n",
        "print(all(condicoes4))\n",
        "print(all(condicoes5))\n",
        "print(all(condicoes6))\n"
      ],
      "execution_count": null,
      "outputs": [
        {
          "output_type": "stream",
          "text": [
            "True\n",
            "False\n",
            "False\n",
            "True\n"
          ],
          "name": "stdout"
        }
      ]
    },
    {
      "cell_type": "markdown",
      "metadata": {
        "id": "Bng1ATKb6hum"
      },
      "source": [
        "## Operador Walrus"
      ]
    },
    {
      "cell_type": "markdown",
      "metadata": {
        "id": "FcxbfWSgisMp"
      },
      "source": [
        "Sintaxe"
      ]
    },
    {
      "cell_type": "code",
      "metadata": {
        "id": "GAi3o3vwQTq2"
      },
      "source": [
        "# Operador que permite iterar, atribuir e retornar valor em forma reduzida.\n",
        "# Permite criar objetos diretamente dentro da função print( ).\n",
        "\n",
        "# variavel := expressão\n",
        "\n",
        "# Operador \" := \"\n"
      ],
      "execution_count": null,
      "outputs": []
    },
    {
      "cell_type": "markdown",
      "metadata": {
        "id": "wOJGs3uBH6ON"
      },
      "source": [
        ":="
      ]
    },
    {
      "cell_type": "code",
      "metadata": {
        "id": "SJxtnbUR6o-X"
      },
      "source": [
        "print(cidade := 'Curitiba')\n",
        "# Dentro da função print( ) foi declarada a variável cidade com seu respectivo\n",
        "# atributo e ao mesmo tempo foi executada a função realizada pelo print( )\n",
        "\n",
        "# Mesmo que:\n",
        "# cidade = 'Curitiba'\n",
        "# print(cidade)\n",
        "# Porém, a variável cidade é funcional, como se estivesse declarada no corpo/\n",
        "# escopo global do código.\n"
      ],
      "execution_count": null,
      "outputs": []
    },
    {
      "cell_type": "code",
      "metadata": {
        "id": "d2f5plxD6pBF"
      },
      "source": [
        "print(cidade := 'Curitiba')\n",
        "# Nesta etapa é criada uma variável que fica suspensa em memória, sendo iterável\n",
        "# como qualquer outra variável declarada ao longo do código geral\n",
        "\n",
        "print(cidade)\n",
        "# irá exibir em tela o conteúdo da variável cidade, que apesar de não declarada\n",
        "# no escopo global do código, existe e possui conteúdo atribuído.\n"
      ],
      "execution_count": null,
      "outputs": []
    },
    {
      "cell_type": "code",
      "metadata": {
        "id": "-RzaoxwKQTtP"
      },
      "source": [
        "num1 = 2021\n",
        "\n",
        "if num1 > 2000:\n",
        "    print(seculo := 'XXI')\n",
        "    # Variável seculo é criada e tem seu dado/valor atribuído 'XXI'\n",
        "\n",
        "print(num1)\n",
        "# Exibe em tela o conteúdo da variável num1, do escopo global do código\n",
        "\n",
        "print(seculo)\n",
        "# Exibe em tela o conteúdo da variável seculo, suspensa em memória\n"
      ],
      "execution_count": null,
      "outputs": []
    },
    {
      "cell_type": "code",
      "metadata": {
        "id": "AyvMprVDa15u"
      },
      "source": [
        "# Pela leitura léxica, uma variável recém criada pelo operador Walrus\n",
        "# já é reconhecida e pode ser instanciada na mesma linha de código\n",
        "\n",
        "print(f'{(metade := 16 / 2)} é a metade de {metade * 2}')\n",
        "# Na primeira máscara de substituição é criada a variável metade, que\n",
        "# recebe como atributo o resultado da divisão de 16 por 2, em seguida\n",
        "# a própria variável metade é instanciada, agora sendo usada para\n",
        "# uma operação matemática que pega seu valor e multiplica por 2.\n"
      ],
      "execution_count": null,
      "outputs": []
    },
    {
      "cell_type": "code",
      "metadata": {
        "id": "WBa7QxV5CcEu"
      },
      "source": [
        "carrinho = []\n",
        "\n",
        "print('Quando quiser, digite \"sair\" para encerrar o programa.')\n",
        "while (objeto := input('Digite um objeto: ')) != 'sair':\n",
        "  carrinho.append(objeto)\n",
        "print(carrinho)\n",
        "\n",
        "# Repare na linha 4, por meio do operador walrus é criada uma variável chamada\n",
        "# objeto, que recebe do usuário um dado/valor, a cada laço de repetição.\n",
        "# Fora desta expressão ainda temos uma estrutura de validação, onde o loop\n",
        "# só será encerrado quando o usuário digitar 'sair'.\n"
      ],
      "execution_count": null,
      "outputs": []
    },
    {
      "cell_type": "markdown",
      "metadata": {
        "id": "MvkMyDbQxtH9"
      },
      "source": [
        "## Geradores e Iteradores (Avançado)"
      ]
    },
    {
      "cell_type": "code",
      "metadata": {
        "id": "olXU03r0xVAa",
        "colab": {
          "base_uri": "https://localhost:8080/"
        },
        "outputId": "7345753f-d2d1-40ca-a29e-74738731ab38"
      },
      "source": [
        "# Um objeto iterável é aquele com que você consegue interagir\n",
        "# com cada elemento de sua composição, ex: cada letra de uma string...\n",
        "\n",
        "minha_lista = [1,2,3,4]\n",
        "minha_lista = iter(minha_lista)\n",
        "# Construtor iter( ) \"força\" um objeto a permitir iterações\n",
        "\n",
        "print(hasattr(minha_lista, '__iter__'))\n",
        "# Verificando se minha_lista é iterável\n",
        "\n",
        "for i in minha_lista:\n",
        "  print(i)\n"
      ],
      "execution_count": null,
      "outputs": [
        {
          "output_type": "stream",
          "text": [
            "True\n",
            "1\n",
            "2\n",
            "3\n",
            "4\n"
          ],
          "name": "stdout"
        }
      ]
    },
    {
      "cell_type": "markdown",
      "metadata": {
        "id": "gL_yYbPlE65m"
      },
      "source": [
        "Gerador gera valores onde não existem para poupar tempo e codificação"
      ]
    },
    {
      "cell_type": "code",
      "metadata": {
        "id": "UOmW5TTJxyz2",
        "colab": {
          "base_uri": "https://localhost:8080/"
        },
        "outputId": "ac0b4f01-1a5a-4529-d128-b462b84480b7"
      },
      "source": [
        "lista_0_a_100 = list(range(101))\n",
        "# Método range( ) dentro de um construtor de lista precisará apenas do\n",
        "# valor final como parâmetro para gerar tal sequência numérica.\n",
        "\n",
        "print(lista_0_a_100)\n"
      ],
      "execution_count": null,
      "outputs": [
        {
          "output_type": "stream",
          "text": [
            "[0, 1, 2, 3, 4, 5, 6, 7, 8, 9, 10, 11, 12, 13, 14, 15, 16, 17, 18, 19, 20, 21, 22, 23, 24, 25, 26, 27, 28, 29, 30, 31, 32, 33, 34, 35, 36, 37, 38, 39, 40, 41, 42, 43, 44, 45, 46, 47, 48, 49, 50, 51, 52, 53, 54, 55, 56, 57, 58, 59, 60, 61, 62, 63, 64, 65, 66, 67, 68, 69, 70, 71, 72, 73, 74, 75, 76, 77, 78, 79, 80, 81, 82, 83, 84, 85, 86, 87, 88, 89, 90, 91, 92, 93, 94, 95, 96, 97, 98, 99, 100]\n"
          ],
          "name": "stdout"
        }
      ]
    },
    {
      "cell_type": "code",
      "metadata": {
        "id": "fzENfy3Lxy2W",
        "colab": {
          "base_uri": "https://localhost:8080/"
        },
        "outputId": "ff7f2a9b-2f2f-4f66-e364-8ac18c7b810d"
      },
      "source": [
        "# Porém dados gerados com muitos elementos tem impacto sobre a memória\n",
        "\n",
        "import sys\n",
        "\n",
        "lista_manual = list([0,1,2,3,4,5,6,7,8,9,10,11,12,13,14])\n",
        "lista_gerada = list(range(14))\n",
        "\n",
        "lista_milhao = list(range(1000001))\n",
        "\n",
        "print('Tamanho em bytes de lista_manual:', sys.getsizeof(lista_manual))\n",
        "# sys.getsizeof( ) retorna o tamanho em bytes de um objeto\n",
        "\n",
        "print('Tamanho em bytes de lista_gerada:', sys.getsizeof(lista_gerada))\n",
        "\n",
        "print('Tamanho em bytes de lista_milhao:', sys.getsizeof(lista_milhao))\n"
      ],
      "execution_count": null,
      "outputs": [
        {
          "output_type": "stream",
          "text": [
            "Tamanho em bytes de lista_manual: 248\n",
            "Tamanho em bytes de lista_gerada: 240\n",
            "Tamanho em bytes de lista_milhao: 9000128\n"
          ],
          "name": "stdout"
        }
      ]
    },
    {
      "cell_type": "markdown",
      "metadata": {
        "id": "o96IAb9ShaNg"
      },
      "source": [
        "Yeld"
      ]
    },
    {
      "cell_type": "code",
      "metadata": {
        "id": "vdu6tu5cxy4_",
        "colab": {
          "base_uri": "https://localhost:8080/"
        },
        "outputId": "3d723016-f28a-45c5-e812-2fa4888935a4"
      },
      "source": [
        "# Guardando valores em uma variável, de forma que a cada vez\n",
        "# que eu chame ela ela me retorne um valor diferente.\n",
        "\n",
        "import sys\n",
        "\n",
        "def gera_numero():\n",
        "  num = 0\n",
        "  while True:\n",
        "    yield num\n",
        "    num += 1\n",
        "\n",
        "gerador = gera_numero()\n",
        "\n",
        "print(next(gerador))\n",
        "\n",
        "print(next(gerador))\n",
        "print(next(gerador))\n",
        "print(next(gerador))\n",
        "print(next(gerador))\n"
      ],
      "execution_count": null,
      "outputs": [
        {
          "output_type": "stream",
          "text": [
            "0\n",
            "1\n",
            "2\n",
            "3\n",
            "4\n"
          ],
          "name": "stdout"
        }
      ]
    },
    {
      "cell_type": "code",
      "metadata": {
        "id": "vypRn_xJEtT7",
        "colab": {
          "base_uri": "https://localhost:8080/"
        },
        "outputId": "5e00eee4-0ee8-4f52-a108-55b6a1173bc7"
      },
      "source": [
        "import sys\n",
        "import time\n",
        "\n",
        "def variavel_iterada():\n",
        "  variavel = 'Valor 1'\n",
        "  yield variavel\n",
        "  variavel = 'Valor 2'\n",
        "  yield variavel\n",
        "  variavel = 'Valor 3'\n",
        "  yield variavel\n",
        "\n",
        "var1 = variavel_iterada()\n",
        "\n",
        "print(next(var1))\n",
        "print(next(var1))\n",
        "print(next(var1))\n"
      ],
      "execution_count": null,
      "outputs": [
        {
          "output_type": "stream",
          "text": [
            "Valor 1\n",
            "Valor 2\n",
            "Valor 3\n"
          ],
          "name": "stdout"
        }
      ]
    },
    {
      "cell_type": "markdown",
      "metadata": {
        "id": "-3wFw-o_yg0D"
      },
      "source": [
        "## Map, Filter, Reduce + Comprehension"
      ]
    },
    {
      "cell_type": "markdown",
      "metadata": {
        "id": "KLo7uyO2W9vQ"
      },
      "source": [
        "Método convencional para extração de dados"
      ]
    },
    {
      "cell_type": "code",
      "metadata": {
        "id": "TMsALmi-xy7T",
        "colab": {
          "base_uri": "https://localhost:8080/"
        },
        "outputId": "a7d41421-7b68-4f80-e8c4-20c52dcf7aad"
      },
      "source": [
        "estoque = [\n",
        "    {'Item01': 'Camisa Nike', 'Preco':39.90},\n",
        "    {'Item02': 'Camisa Adidas', 'Preco':37.90},\n",
        "    {'Item03': 'Moletom 00', 'Preco':79.90},\n",
        "    {'Item04': 'Calca Jeans', 'Preco': 69.90},\n",
        "    {'Item05': 'Tenis AllStar', 'Preco': 59.90}\n",
        "]\n",
        "\n",
        "precos01 = []\n",
        "for preco in estoque:\n",
        "    precos01.append(preco['Preco'])\n",
        "\n",
        "print(f'Preços de estoque (normal) {precos01}')\n"
      ],
      "execution_count": null,
      "outputs": [
        {
          "output_type": "stream",
          "text": [
            "Preços de estoque (normal) [39.9, 37.9, 79.9, 69.9, 59.9]\n"
          ],
          "name": "stdout"
        }
      ]
    },
    {
      "cell_type": "markdown",
      "metadata": {
        "id": "zrFybi0AEhdl"
      },
      "source": [
        "Extraindo dados via map + função lambda"
      ]
    },
    {
      "cell_type": "code",
      "metadata": {
        "id": "Qntj88ANBUR4",
        "colab": {
          "base_uri": "https://localhost:8080/"
        },
        "outputId": "faf0809b-6eb8-4855-da0b-8bd26c6053c8"
      },
      "source": [
        "# map( ) permite aplicar uma função individualmente sobre cada elemento de um\n",
        "# contêiner de dados.\n",
        "\n",
        "estoque = [\n",
        "    {'Item01': 'Camisa Nike', 'Preco':39.90},\n",
        "    {'Item02': 'Camisa Adidas', 'Preco':37.90},\n",
        "    {'Item03': 'Moletom 00', 'Preco':79.90},\n",
        "    {'Item04': 'Calca Jeans', 'Preco': 69.90},\n",
        "    {'Item05': 'Tenis AllStar', 'Preco': 59.90}\n",
        "]\n",
        "\n",
        "precos02 = list(map(lambda p: p['Preco'], estoque))\n",
        "# map( ) percorrendo cada elemento de estoque, retornando a cada laço\n",
        "# especificamente o valor de 'Preco', retornando esses valores em forma\n",
        "# de lista\n",
        "\n",
        "print(f'Preços de estoque (Map + Lambda) {precos02}')\n"
      ],
      "execution_count": null,
      "outputs": [
        {
          "output_type": "stream",
          "text": [
            "Preços de estoque (Map + Lambda) [39.9, 37.9, 79.9, 69.9, 59.9]\n"
          ],
          "name": "stdout"
        }
      ]
    },
    {
      "cell_type": "markdown",
      "metadata": {
        "id": "TOUgd_foEjwo"
      },
      "source": [
        "Extraindo dados via list comprehension"
      ]
    },
    {
      "cell_type": "code",
      "metadata": {
        "id": "iGF8RhU7BQjY",
        "colab": {
          "base_uri": "https://localhost:8080/"
        },
        "outputId": "57e3c4f2-4f26-465f-d2de-ed16a006a2b2"
      },
      "source": [
        "estoque = [\n",
        "    {'Item01': 'Camisa Nike', 'Preco':39.90},\n",
        "    {'Item02': 'Camisa Adidas', 'Preco':37.90},\n",
        "    {'Item03': 'Moletom 00', 'Preco':79.90},\n",
        "    {'Item04': 'Calca Jeans', 'Preco': 69.90},\n",
        "    {'Item05': 'Tenis AllStar', 'Preco': 59.90}\n",
        "]\n",
        "\n",
        "precos03 = [preco['Preco'] for preco in estoque]\n",
        "# Para cada valor associado a 'Preco' em estoque, retorne preco\n",
        "\n",
        "print(f'Preços de estoque (List Comprehension) {precos03}')\n"
      ],
      "execution_count": null,
      "outputs": [
        {
          "output_type": "stream",
          "text": [
            "Preços de estoque (List Comprehension) [39.9, 37.9, 79.9, 69.9, 59.9]\n"
          ],
          "name": "stdout"
        }
      ]
    },
    {
      "cell_type": "markdown",
      "metadata": {
        "id": "AyYsHzNbElxE"
      },
      "source": [
        "Extraindo dados via filter"
      ]
    },
    {
      "cell_type": "code",
      "metadata": {
        "id": "9m5Wm8NeBNzJ",
        "colab": {
          "base_uri": "https://localhost:8080/"
        },
        "outputId": "776f502c-31b3-4557-ff13-8e10ac39e9f9"
      },
      "source": [
        "estoque = [\n",
        "    {'Item01': 'Camisa Nike', 'Preco':39.90},\n",
        "    {'Item02': 'Camisa Adidas', 'Preco':37.90},\n",
        "    {'Item03': 'Moletom 00', 'Preco':79.90},\n",
        "    {'Item04': 'Calca Jeans', 'Preco': 69.90},\n",
        "    {'Item05': 'Tenis AllStar', 'Preco': 59.90}\n",
        "]\n",
        "\n",
        "precos04 = list(filter(lambda p: p['Preco'] >= 60, estoque))\n",
        "# Precisa especificar um parâmetro a ser filtrado, nesse caso, \"filtrando\"\n",
        "# apenas os valores da chave 'Preco' cujo valor seja igual ou maior que 60\n",
        "\n",
        "print(f'Preços de estoque (Filter) {precos04}')\n"
      ],
      "execution_count": null,
      "outputs": [
        {
          "output_type": "stream",
          "text": [
            "Preços de estoque (Filter) [{'Item03': 'Moletom 00', 'Preco': 79.9}, {'Item04': 'Calca Jeans', 'Preco': 69.9}]\n"
          ],
          "name": "stdout"
        }
      ]
    },
    {
      "cell_type": "markdown",
      "metadata": {
        "id": "NYPLWW6mEouV"
      },
      "source": [
        "Combinando filter e list comprehension"
      ]
    },
    {
      "cell_type": "code",
      "metadata": {
        "id": "v6J3Sp83BMCr",
        "colab": {
          "base_uri": "https://localhost:8080/"
        },
        "outputId": "eca033dd-5a85-482d-a5c1-7bb4739525ab"
      },
      "source": [
        "estoque = [\n",
        "    {'Item01': 'Camisa Nike', 'Preco':39.90},\n",
        "    {'Item02': 'Camisa Adidas', 'Preco':37.90},\n",
        "    {'Item03': 'Moletom 00', 'Preco':79.90},\n",
        "    {'Item04': 'Calca Jeans', 'Preco': 69.90},\n",
        "    {'Item05': 'Tenis AllStar', 'Preco': 59.90}\n",
        "]\n",
        "\n",
        "precos05 = [preco['Preco'] for preco in estoque if preco['Preco'] > 60]\n",
        "# filtrados somente precos maiores que 60\n",
        "\n",
        "print(f'Preços de estoque (Filter + List Comprehension) {precos05}')\n"
      ],
      "execution_count": null,
      "outputs": [
        {
          "output_type": "stream",
          "text": [
            "Preços de estoque (Filter + List Comprehension) [79.9, 69.9]\n"
          ],
          "name": "stdout"
        }
      ]
    },
    {
      "cell_type": "markdown",
      "metadata": {
        "id": "3tRGG5FkErCV"
      },
      "source": [
        "Combinando map e filter para extrair um dado"
      ]
    },
    {
      "cell_type": "code",
      "metadata": {
        "id": "ExszpjFkBIux",
        "colab": {
          "base_uri": "https://localhost:8080/"
        },
        "outputId": "5e4c4012-e705-4123-aee8-7acf4b162df6"
      },
      "source": [
        "estoque = [\n",
        "    {'Item01': 'Camisa Nike', 'Preco':39.90},\n",
        "    {'Item02': 'Camisa Adidas', 'Preco':37.90},\n",
        "    {'Item03': 'Moletom 00', 'Preco':79.90},\n",
        "    {'Item04': 'Calca Jeans', 'Preco': 69.90},\n",
        "    {'Item05': 'Tenis AllStar', 'Preco': 59.90}\n",
        "]\n",
        "\n",
        "precos06 = list(map(lambda p: p['Preco'],\n",
        "                    filter(lambda p: p['Preco'], estoque)))\n",
        "\n",
        "print(f'Preços de estoque (Map + Filter) {precos06}')\n"
      ],
      "execution_count": null,
      "outputs": [
        {
          "output_type": "stream",
          "text": [
            "Preços de estoque (Map + Filter) [39.9, 37.9, 79.9, 69.9, 59.9]\n"
          ],
          "name": "stdout"
        }
      ]
    },
    {
      "cell_type": "markdown",
      "metadata": {
        "id": "nQJWLBrQEuCV"
      },
      "source": [
        "Extraindo dados via reduce"
      ]
    },
    {
      "cell_type": "code",
      "metadata": {
        "id": "Zbnk3D5oBF56",
        "colab": {
          "base_uri": "https://localhost:8080/"
        },
        "outputId": "febcc4c5-8c80-4513-e7c9-4f6c033fc3d0"
      },
      "source": [
        "estoque = [\n",
        "    {'Item01': 'Camisa Nike', 'Preco':39.90},\n",
        "    {'Item02': 'Camisa Adidas', 'Preco':37.90},\n",
        "    {'Item03': 'Moletom 00', 'Preco':79.90},\n",
        "    {'Item04': 'Calca Jeans', 'Preco': 69.90},\n",
        "    {'Item05': 'Tenis AllStar', 'Preco': 59.90}\n",
        "]\n",
        "\n",
        "from functools import reduce\n",
        "\n",
        "def func_reduce(soma, valores):\n",
        "    return soma + valores['Preco']\n",
        "\n",
        "precos_total = reduce(func_reduce, estoque, 0)\n",
        "# reduce( ) recebe como parâmetros uma função, um objeto origem e um valor inicial\n",
        "\n",
        "print(f'Soma dos Preços (Reduce) {precos_total}')\n"
      ],
      "execution_count": null,
      "outputs": [
        {
          "output_type": "stream",
          "text": [
            "Soma dos Preços (Reduce) 287.5\n"
          ],
          "name": "stdout"
        }
      ]
    },
    {
      "cell_type": "markdown",
      "metadata": {
        "id": "Z3z0scHdEwek"
      },
      "source": [
        "Extraindo dados via reduce + list comprehension"
      ]
    },
    {
      "cell_type": "code",
      "metadata": {
        "id": "iTlTPNJNBDJa",
        "colab": {
          "base_uri": "https://localhost:8080/"
        },
        "outputId": "2f0e042f-08f1-43dd-f4af-60e1f730aea5"
      },
      "source": [
        "estoque = [\n",
        "    {'Item01': 'Camisa Nike', 'Preco':39.90},\n",
        "    {'Item02': 'Camisa Adidas', 'Preco':37.90},\n",
        "    {'Item03': 'Moletom 00', 'Preco':79.90},\n",
        "    {'Item04': 'Calca Jeans', 'Preco': 69.90},\n",
        "    {'Item05': 'Tenis AllStar', 'Preco': 59.90}\n",
        "]\n",
        "\n",
        "from functools import reduce\n",
        "\n",
        "precos_total = reduce(lambda soma, valores: soma + valores['Preco'], estoque, 0)\n",
        "\n",
        "print(f'Soma dos Preços (Reduce + List Comprehension) {precos_total}')\n"
      ],
      "execution_count": null,
      "outputs": [
        {
          "output_type": "stream",
          "text": [
            "Soma dos Preços (Reduce + List Comprehension) 287.5\n"
          ],
          "name": "stdout"
        }
      ]
    },
    {
      "cell_type": "markdown",
      "metadata": {
        "id": "kHReb98uEykU"
      },
      "source": [
        "Extraindo dados via reduce (método otimizado)"
      ]
    },
    {
      "cell_type": "code",
      "metadata": {
        "id": "ufrOrZtHA_ym",
        "colab": {
          "base_uri": "https://localhost:8080/"
        },
        "outputId": "7fe61580-3641-4d5b-87af-64c0a076932a"
      },
      "source": [
        "estoque = [\n",
        "    {'Item01': 'Camisa Nike', 'Preco':39.90},\n",
        "    {'Item02': 'Camisa Adidas', 'Preco':37.90},\n",
        "    {'Item03': 'Moletom 00', 'Preco':79.90},\n",
        "    {'Item04': 'Calca Jeans', 'Preco': 69.90},\n",
        "    {'Item05': 'Tenis AllStar', 'Preco': 59.90}\n",
        "]\n",
        "\n",
        "from functools import reduce\n",
        "\n",
        "precos_total = sum([preco['Preco'] for preco in estoque])\n",
        "\n",
        "print(f'Soma dos Preços (Reduce Método Otimizado) {precos_total}')\n"
      ],
      "execution_count": null,
      "outputs": [
        {
          "output_type": "stream",
          "text": [
            "Soma dos Preços (Reduce Método Otimizado) 287.5\n"
          ],
          "name": "stdout"
        }
      ]
    },
    {
      "cell_type": "markdown",
      "metadata": {
        "id": "pQX0NJAgzDGz"
      },
      "source": [
        "## Try, Except, Finally, Raise (Avançado)"
      ]
    },
    {
      "cell_type": "markdown",
      "metadata": {
        "id": "a9WiWZeWEd0d"
      },
      "source": [
        "Tratando exceções para que não se interrompa a execução de um código"
      ]
    },
    {
      "cell_type": "code",
      "metadata": {
        "id": "Kr_EGcSExy92",
        "colab": {
          "base_uri": "https://localhost:8080/"
        },
        "outputId": "4cee6121-79f9-413a-a5c2-b762b7483223"
      },
      "source": [
        "try:\n",
        "  print(abc)\n",
        "except:\n",
        "  print('Não foi possível exibir o conteúdo de \"a\"')\n",
        "  \n",
        "# Nesse caso nada acontecerá, mas também não acontecerá um erro ou\n",
        "# interrupção em função de não conseguir imprimir o comando print(a).\n"
      ],
      "execution_count": null,
      "outputs": [
        {
          "output_type": "stream",
          "text": [
            "Não foi possível exibir o conteúdo de \"a\"\n"
          ],
          "name": "stdout"
        }
      ]
    },
    {
      "cell_type": "markdown",
      "metadata": {
        "id": "u6hvLshKEa34"
      },
      "source": [
        "Except genérico"
      ]
    },
    {
      "cell_type": "code",
      "metadata": {
        "id": "Jz6Xaxo9xVCw",
        "colab": {
          "base_uri": "https://localhost:8080/"
        },
        "outputId": "761fa5b3-b49a-4293-8b7b-f3d336ee833b"
      },
      "source": [
        "try:\n",
        "  print(abc)\n",
        "except Exception as erro:\n",
        "  print('Ocorreu um erro inesperado')\n"
      ],
      "execution_count": null,
      "outputs": [
        {
          "output_type": "stream",
          "text": [
            "Ocorreu um erro inesperado\n"
          ],
          "name": "stdout"
        }
      ]
    },
    {
      "cell_type": "markdown",
      "metadata": {
        "id": "rH-Zu_HYETNF"
      },
      "source": [
        "Exibindo que erro específico aconteceu"
      ]
    },
    {
      "cell_type": "code",
      "metadata": {
        "id": "K2EUQQOOzLsa",
        "colab": {
          "base_uri": "https://localhost:8080/"
        },
        "outputId": "2defbf76-0654-4c65-ea68-3ce32c6e3a68"
      },
      "source": [
        "try:\n",
        "  print(abc)\n",
        "except NameError as erro:\n",
        "  print(f'Ocorreu um erro: {erro}')\n"
      ],
      "execution_count": null,
      "outputs": [
        {
          "output_type": "stream",
          "text": [
            "Ocorreu um erro: name 'abc' is not defined\n"
          ],
          "name": "stdout"
        }
      ]
    },
    {
      "cell_type": "markdown",
      "metadata": {
        "id": "TZ7AiTZ2zOr8"
      },
      "source": [
        "Try e Except como condicional, servindo para prever exceções geradas pelo usuário"
      ]
    },
    {
      "cell_type": "code",
      "metadata": {
        "id": "3cRX_COFzLus",
        "colab": {
          "base_uri": "https://localhost:8080/"
        },
        "outputId": "7a9b2303-05d4-43a6-dccc-73a3b2080138"
      },
      "source": [
        "def conversor_num(num):\n",
        "  try:\n",
        "    num = int(num) # tentará converter para int\n",
        "    return num\n",
        "  except ValueError:\n",
        "    try:\n",
        "      num = float(num) # tentará converter para float\n",
        "      return num\n",
        "    except ValueError:\n",
        "      pass # caso não consiga nenhuma opção anterior irá retornar None\n",
        "\n",
        "num1 = conversor_num(input('Digite um número: '))\n",
        "\n",
        "if num1 is not None:\n",
        "  print(num1 + 100)\n",
        "else:\n",
        "  print('Operação inválida.')\n",
        "  "
      ],
      "execution_count": null,
      "outputs": [
        {
          "output_type": "stream",
          "text": [
            "Digite um número: 85\n",
            "185\n"
          ],
          "name": "stdout"
        }
      ]
    },
    {
      "cell_type": "markdown",
      "metadata": {
        "id": "RHWiVi_WQ7aR"
      },
      "source": [
        "Finally"
      ]
    },
    {
      "cell_type": "code",
      "metadata": {
        "id": "uAhFJPchzLw_",
        "colab": {
          "base_uri": "https://localhost:8080/"
        },
        "outputId": "9cd64dd7-4dd1-4d1a-f290-4f74717404ac"
      },
      "source": [
        "def conversor_num(num):\n",
        "  try:\n",
        "    num = int(num)\n",
        "    return num\n",
        "  except:\n",
        "    num = float(num)\n",
        "    return num\n",
        "  finally:\n",
        "    print('Você digitou um caractere que não pode ser convertido')\n",
        "\n",
        "num1 = conversor_num(input('Digite um número: '))\n"
      ],
      "execution_count": null,
      "outputs": [
        {
          "output_type": "stream",
          "text": [
            "Digite um número: 101\n",
            "Você digitou um caractere que não pode ser convertido\n"
          ],
          "name": "stdout"
        }
      ]
    },
    {
      "cell_type": "markdown",
      "metadata": {
        "id": "v8KRH_3QzWrr"
      },
      "source": [
        "Raise"
      ]
    },
    {
      "cell_type": "code",
      "metadata": {
        "id": "fhEoSWvXzLzL",
        "colab": {
          "base_uri": "https://localhost:8080/",
          "height": 264
        },
        "outputId": "0e4bf01b-de2b-4caa-fc42-ff1ed4194d73"
      },
      "source": [
        "idade = int(input('Digite sua idade: '))\n",
        "\n",
        "if idade <= 0:\n",
        "  raise Exception('Idade inválida!!!')\n",
        "\n",
        "print(f'Você tem {idade} anos!!!')\n",
        "\n",
        "# Será gerado um erro Exception: Idade inválida!!!\n"
      ],
      "execution_count": null,
      "outputs": [
        {
          "output_type": "stream",
          "text": [
            "Digite sua idade: 0\n"
          ],
          "name": "stdout"
        },
        {
          "output_type": "error",
          "ename": "Exception",
          "evalue": "ignored",
          "traceback": [
            "\u001b[0;31m---------------------------------------------------------------------------\u001b[0m",
            "\u001b[0;31mException\u001b[0m                                 Traceback (most recent call last)",
            "\u001b[0;32m<ipython-input-482-d316ba1626df>\u001b[0m in \u001b[0;36m<module>\u001b[0;34m()\u001b[0m\n\u001b[1;32m      2\u001b[0m \u001b[0;34m\u001b[0m\u001b[0m\n\u001b[1;32m      3\u001b[0m \u001b[0;32mif\u001b[0m \u001b[0midade\u001b[0m \u001b[0;34m<=\u001b[0m \u001b[0;36m0\u001b[0m\u001b[0;34m:\u001b[0m\u001b[0;34m\u001b[0m\u001b[0;34m\u001b[0m\u001b[0m\n\u001b[0;32m----> 4\u001b[0;31m   \u001b[0;32mraise\u001b[0m \u001b[0mException\u001b[0m\u001b[0;34m(\u001b[0m\u001b[0;34m'Idade inválida!!!'\u001b[0m\u001b[0;34m)\u001b[0m\u001b[0;34m\u001b[0m\u001b[0;34m\u001b[0m\u001b[0m\n\u001b[0m\u001b[1;32m      5\u001b[0m \u001b[0;34m\u001b[0m\u001b[0m\n\u001b[1;32m      6\u001b[0m \u001b[0mprint\u001b[0m\u001b[0;34m(\u001b[0m\u001b[0;34mf'Você tem {idade} anos!!!'\u001b[0m\u001b[0;34m)\u001b[0m\u001b[0;34m\u001b[0m\u001b[0;34m\u001b[0m\u001b[0m\n",
            "\u001b[0;31mException\u001b[0m: Idade inválida!!!"
          ]
        }
      ]
    },
    {
      "cell_type": "markdown",
      "metadata": {
        "id": "7V7kSqlPzxAh"
      },
      "source": [
        "## if __name__ == '__main__'"
      ]
    },
    {
      "cell_type": "code",
      "metadata": {
        "id": "SHzNCOhpzL1g",
        "colab": {
          "base_uri": "https://localhost:8080/"
        },
        "outputId": "e6645447-64e2-40ae-dc59-647c9988c881"
      },
      "source": [
        "# arquivo soma.py\n",
        "def soma_num(num1, num2):\n",
        "    return num1 + num2\n",
        "\n",
        "#print(__name__) # irá retornar __main__\n",
        "#print(soma_num(9, 4))\n",
        "\n",
        "if __name__ == '__main__':\n",
        "    print(soma_num(9, 4))\n",
        "    print('Teste de validação')\n",
        "    \n",
        "# Esse é um código de teste, se executar este arquivo, esse resultado será\n",
        "# impresso, quando esse arquivo for importado como módulo para outro arquivo,\n",
        "# esse arquivo deixará de ter o __name__ igual a __main__ e passará a ter o\n",
        "# __name__ igual a soma, então, esse código de teste não será executado.\n"
      ],
      "execution_count": null,
      "outputs": [
        {
          "output_type": "stream",
          "text": [
            "13\n",
            "Teste de validação\n"
          ],
          "name": "stdout"
        }
      ]
    },
    {
      "cell_type": "code",
      "metadata": {
        "id": "YXb6QXevEKv_"
      },
      "source": [
        "# arquivo meuprograma.py\n",
        "import soma\n",
        "\n",
        "num1 = int(input('Digite um número: '))\n",
        "num2 = int(input('Digite outro número: '))\n",
        "resultado = soma.soma_num(num1, num2)\n",
        "\n",
        "print(resultado)\n",
        "# irá retornar soma porque o módulo passa a ter o nome do próprio arquivo\n",
        "# quando importado\n",
        "print(__name__)\n",
        "# irá retornar __main__\n"
      ],
      "execution_count": null,
      "outputs": []
    },
    {
      "cell_type": "markdown",
      "metadata": {
        "id": "59rAbZ9wz23Y"
      },
      "source": [
        "## Módulos nativos do Python"
      ]
    },
    {
      "cell_type": "markdown",
      "metadata": {
        "id": "CEiZlSDxz8zp"
      },
      "source": [
        "Datetime"
      ]
    },
    {
      "cell_type": "code",
      "metadata": {
        "id": "Sv5uJ0FCzL3Y",
        "colab": {
          "base_uri": "https://localhost:8080/"
        },
        "outputId": "ce931b6a-22f4-40a7-aa4a-220d03f7ed46"
      },
      "source": [
        "# import datetime\n",
        "\n",
        "from datetime import datetime, date, time\n",
        "\n",
        "data = datetime(2020, 6, 12, 15, 24, 59)\n",
        "# Por justaposição, os parâmetros estarão como:\n",
        "# ano, mês, dia, hora, minuto, segundo\n",
        "\n",
        "print(data.date())\n",
        "print(data.time())\n",
        "\n",
        "print(data.year)\n",
        "print(data.month)\n",
        "print(data.day)\n",
        "\n",
        "print(data.hour)\n",
        "print(data.minute)\n",
        "print(data.second)\n"
      ],
      "execution_count": null,
      "outputs": [
        {
          "output_type": "stream",
          "text": [
            "2020-06-12\n",
            "15:24:59\n",
            "2020\n",
            "6\n",
            "12\n",
            "15\n",
            "24\n",
            "59\n"
          ],
          "name": "stdout"
        }
      ]
    },
    {
      "cell_type": "markdown",
      "metadata": {
        "id": "BiIdt56PEDGO"
      },
      "source": [
        "Datetime como string"
      ]
    },
    {
      "cell_type": "code",
      "metadata": {
        "id": "LmmP13VoF9AC",
        "colab": {
          "base_uri": "https://localhost:8080/"
        },
        "outputId": "720b094b-a227-427d-88b5-c6e327c26568"
      },
      "source": [
        "print(data.strftime('%m/%d/%Y %H:%M'))\n",
        "\n",
        "\n",
        "# %Y - Ano com 4 dígitos\n",
        "# %y - Ano com 2 dígitos\n",
        "# %m - Mês com 2 dígitos\n",
        "# %d - Dia com 2 dígitos\n",
        "# %w - Dia da semana (entre 0 (domingo) e 6 (sábado))\n",
        "# %H - Hora com notação de 24 horas\n",
        "# %h - Hora com notação de 12 horas\n",
        "# %M - Minuto com 2 dígitos\n",
        "# %S - Segundos com 2 dígitos\n",
        "# %W - Semana do ano (entre 00 e 53)\n",
        "# %z - Fuso horário\n"
      ],
      "execution_count": null,
      "outputs": [
        {
          "output_type": "stream",
          "text": [
            "06/12/2020 15:24\n"
          ],
          "name": "stdout"
        }
      ]
    },
    {
      "cell_type": "markdown",
      "metadata": {
        "id": "uuF8vG0ZEAzn"
      },
      "source": [
        "Convertendo uma string em datetime"
      ]
    },
    {
      "cell_type": "code",
      "metadata": {
        "id": "7BOfFaHGF2k5",
        "colab": {
          "base_uri": "https://localhost:8080/"
        },
        "outputId": "8bb8d28f-73e3-425c-bd94-7e0ca948b77d"
      },
      "source": [
        "data2 = datetime.strptime('20200101', '%Y%m%d')\n",
        "\n",
        "print(data2)\n"
      ],
      "execution_count": null,
      "outputs": [
        {
          "output_type": "stream",
          "text": [
            "2020-01-01 00:00:00\n"
          ],
          "name": "stdout"
        }
      ]
    },
    {
      "cell_type": "markdown",
      "metadata": {
        "id": "Ubd_cnyPD97X"
      },
      "source": [
        "Substituindo um valor de datetime"
      ]
    },
    {
      "cell_type": "code",
      "metadata": {
        "id": "elOjgI4BFpw8",
        "colab": {
          "base_uri": "https://localhost:8080/"
        },
        "outputId": "630b6cdd-e2a2-4a23-e1ce-18c5c51459db"
      },
      "source": [
        "data3 = datetime(2020, 6, 12, 15, 24, 59)\n",
        "#data3.year = 2001 # retorna um erro porque o datetime inicial é imutavel\n",
        "\n",
        "data3 = data3.replace(year = 2001)\n",
        "\n",
        "print(data3)\n"
      ],
      "execution_count": null,
      "outputs": [
        {
          "output_type": "stream",
          "text": [
            "2001-06-12 15:24:59\n"
          ],
          "name": "stdout"
        }
      ]
    },
    {
      "cell_type": "markdown",
      "metadata": {
        "id": "-TSuPgssD66_"
      },
      "source": [
        "Diferença entre dois datetimes"
      ]
    },
    {
      "cell_type": "code",
      "metadata": {
        "id": "49_UjFanFUb4",
        "colab": {
          "base_uri": "https://localhost:8080/"
        },
        "outputId": "eeba4d14-e0b9-4af3-bc76-82fa7c359fc2"
      },
      "source": [
        "data2 = datetime.strptime('20200101', '%Y%m%d')\n",
        "data3 = datetime(2020, 6, 12, 15, 24, 59)\n",
        "\n",
        "delta = data3 - data2\n",
        "\n",
        "print(delta)\n"
      ],
      "execution_count": null,
      "outputs": [
        {
          "output_type": "stream",
          "text": [
            "163 days, 15:24:59\n"
          ],
          "name": "stdout"
        }
      ]
    },
    {
      "cell_type": "markdown",
      "metadata": {
        "id": "6pMcrrgw0Z4v"
      },
      "source": [
        "## Combinações, Permutações e Produto (Itertools)"
      ]
    },
    {
      "cell_type": "markdown",
      "metadata": {
        "id": "6XJGCbUdDsUf"
      },
      "source": [
        "Combinações"
      ]
    },
    {
      "cell_type": "code",
      "metadata": {
        "id": "sqco4SFjz6V5",
        "colab": {
          "base_uri": "https://localhost:8080/"
        },
        "outputId": "6beebed6-004e-4728-fc52-57c3f2c71ef6"
      },
      "source": [
        "from itertools import combinations\n",
        "\n",
        "lista10 = ['Ana', 'Bianca', 'Carla', 'Daniela', 'Franciele', 'Maria']\n",
        "\n",
        "for combinacoes in combinations(lista10, 2):\n",
        "  # possíveis combinações em grupos de 2\n",
        "  print(combinacoes)\n",
        "\n",
        "# A ordem não importa e não haverão combinações repetidas entre os elementos\n"
      ],
      "execution_count": null,
      "outputs": [
        {
          "output_type": "stream",
          "text": [
            "('Ana', 'Bianca')\n",
            "('Ana', 'Carla')\n",
            "('Ana', 'Daniela')\n",
            "('Ana', 'Franciele')\n",
            "('Ana', 'Maria')\n",
            "('Bianca', 'Carla')\n",
            "('Bianca', 'Daniela')\n",
            "('Bianca', 'Franciele')\n",
            "('Bianca', 'Maria')\n",
            "('Carla', 'Daniela')\n",
            "('Carla', 'Franciele')\n",
            "('Carla', 'Maria')\n",
            "('Daniela', 'Franciele')\n",
            "('Daniela', 'Maria')\n",
            "('Franciele', 'Maria')\n"
          ],
          "name": "stdout"
        }
      ]
    },
    {
      "cell_type": "code",
      "metadata": {
        "id": "P33OpPUKqp15",
        "colab": {
          "base_uri": "https://localhost:8080/"
        },
        "outputId": "f14617a4-8861-412a-ae78-bf128b832527"
      },
      "source": [
        "from itertools import combinations\n",
        "\n",
        "combina = combinations([1, 2, 3, 4], 2)\n",
        "# combinações entre os elementos, separados em grupos de 2 elementos\n",
        "\n",
        "print(list(combina))\n"
      ],
      "execution_count": null,
      "outputs": [
        {
          "output_type": "stream",
          "text": [
            "[(1, 2), (1, 3), (1, 4), (2, 3), (2, 4), (3, 4)]\n"
          ],
          "name": "stdout"
        }
      ]
    },
    {
      "cell_type": "markdown",
      "metadata": {
        "id": "Us8pk-KCDxGv"
      },
      "source": [
        "Permutações"
      ]
    },
    {
      "cell_type": "code",
      "metadata": {
        "id": "_6eiBRs7z6YK",
        "colab": {
          "base_uri": "https://localhost:8080/"
        },
        "outputId": "217aae7d-070f-4d3e-b756-17f939e9e5d0"
      },
      "source": [
        "from itertools import permutations\n",
        "\n",
        "lista10 = ['Ana', 'Bianca', 'Carla', 'Daniela', 'Franciele', 'Maria']\n",
        "\n",
        "for combinacoes in permutations(lista10, 2):\n",
        "  # possíveis combinações de elementos em grupos de 2\n",
        "  print(combinacoes)\n",
        "\n",
        "# Neste caso, as combinações podem se repetir, alterando a ordem dos elementos\n",
        "# Ex: Ana e Bianca, Bianca e Ana...\n"
      ],
      "execution_count": null,
      "outputs": [
        {
          "output_type": "stream",
          "text": [
            "('Ana', 'Bianca')\n",
            "('Ana', 'Carla')\n",
            "('Ana', 'Daniela')\n",
            "('Ana', 'Franciele')\n",
            "('Ana', 'Maria')\n",
            "('Bianca', 'Ana')\n",
            "('Bianca', 'Carla')\n",
            "('Bianca', 'Daniela')\n",
            "('Bianca', 'Franciele')\n",
            "('Bianca', 'Maria')\n",
            "('Carla', 'Ana')\n",
            "('Carla', 'Bianca')\n",
            "('Carla', 'Daniela')\n",
            "('Carla', 'Franciele')\n",
            "('Carla', 'Maria')\n",
            "('Daniela', 'Ana')\n",
            "('Daniela', 'Bianca')\n",
            "('Daniela', 'Carla')\n",
            "('Daniela', 'Franciele')\n",
            "('Daniela', 'Maria')\n",
            "('Franciele', 'Ana')\n",
            "('Franciele', 'Bianca')\n",
            "('Franciele', 'Carla')\n",
            "('Franciele', 'Daniela')\n",
            "('Franciele', 'Maria')\n",
            "('Maria', 'Ana')\n",
            "('Maria', 'Bianca')\n",
            "('Maria', 'Carla')\n",
            "('Maria', 'Daniela')\n",
            "('Maria', 'Franciele')\n"
          ],
          "name": "stdout"
        }
      ]
    },
    {
      "cell_type": "code",
      "metadata": {
        "id": "zqJGOhicqE0f",
        "colab": {
          "base_uri": "https://localhost:8080/"
        },
        "outputId": "270f370f-5b39-4b27-c140-22e4eb37b05f"
      },
      "source": [
        "from itertools import permutations\n",
        "\n",
        "permuta = permutations([1, 2, 3])\n",
        "\n",
        "print(list(permuta))\n",
        "# Irá retornar as devidas combinações, desde que o mesmo elemento numérico\n",
        "# não não se repita em sua posição da tupla gerada.\n"
      ],
      "execution_count": null,
      "outputs": [
        {
          "output_type": "stream",
          "text": [
            "[(1, 2, 3), (1, 3, 2), (2, 1, 3), (2, 3, 1), (3, 1, 2), (3, 2, 1)]\n"
          ],
          "name": "stdout"
        }
      ]
    },
    {
      "cell_type": "markdown",
      "metadata": {
        "id": "1sxmK9SfD0GY"
      },
      "source": [
        "Product"
      ]
    },
    {
      "cell_type": "code",
      "metadata": {
        "id": "w9miDkhzz6ap",
        "colab": {
          "base_uri": "https://localhost:8080/"
        },
        "outputId": "1dad7c2c-e2bd-412f-dee9-50c4d5f421b6"
      },
      "source": [
        "from itertools import product\n",
        "\n",
        "lista10 = ['Ana', 'Bianca', 'Carla', 'Daniela', 'Franciele', 'Maria']\n",
        "\n",
        "for combinacoes in product(lista10, repeat = 2):\n",
        "  # possíveis combinações de elementos separados em grupos de 2\n",
        "  print(combinacoes)\n",
        "\n",
        "# Parecido com Permutations, mas aqui é permitido que um elemento se combine\n",
        "# com ele mesmo.\n"
      ],
      "execution_count": null,
      "outputs": [
        {
          "output_type": "stream",
          "text": [
            "('Ana', 'Ana')\n",
            "('Ana', 'Bianca')\n",
            "('Ana', 'Carla')\n",
            "('Ana', 'Daniela')\n",
            "('Ana', 'Franciele')\n",
            "('Ana', 'Maria')\n",
            "('Bianca', 'Ana')\n",
            "('Bianca', 'Bianca')\n",
            "('Bianca', 'Carla')\n",
            "('Bianca', 'Daniela')\n",
            "('Bianca', 'Franciele')\n",
            "('Bianca', 'Maria')\n",
            "('Carla', 'Ana')\n",
            "('Carla', 'Bianca')\n",
            "('Carla', 'Carla')\n",
            "('Carla', 'Daniela')\n",
            "('Carla', 'Franciele')\n",
            "('Carla', 'Maria')\n",
            "('Daniela', 'Ana')\n",
            "('Daniela', 'Bianca')\n",
            "('Daniela', 'Carla')\n",
            "('Daniela', 'Daniela')\n",
            "('Daniela', 'Franciele')\n",
            "('Daniela', 'Maria')\n",
            "('Franciele', 'Ana')\n",
            "('Franciele', 'Bianca')\n",
            "('Franciele', 'Carla')\n",
            "('Franciele', 'Daniela')\n",
            "('Franciele', 'Franciele')\n",
            "('Franciele', 'Maria')\n",
            "('Maria', 'Ana')\n",
            "('Maria', 'Bianca')\n",
            "('Maria', 'Carla')\n",
            "('Maria', 'Daniela')\n",
            "('Maria', 'Franciele')\n",
            "('Maria', 'Maria')\n"
          ],
          "name": "stdout"
        }
      ]
    },
    {
      "cell_type": "code",
      "metadata": {
        "id": "zISOpJZ7pI3G",
        "colab": {
          "base_uri": "https://localhost:8080/"
        },
        "outputId": "06ae07b4-2a8a-4872-ca66-781e30380424"
      },
      "source": [
        "from itertools import product\n",
        "\n",
        "produto = product([1, 2], [3, 4])\n",
        "\n",
        "print(list(produto))\n",
        "# Irá retornar uma lista onde cada elemento de cada lista é combinado\n",
        "# por cada elemento da outra. Ex: 1 e 3, 1 e 4, 2 e 3, 2 e 4.\n"
      ],
      "execution_count": null,
      "outputs": [
        {
          "output_type": "stream",
          "text": [
            "[(1, 3), (1, 4), (2, 3), (2, 4)]\n"
          ],
          "name": "stdout"
        }
      ]
    },
    {
      "cell_type": "markdown",
      "metadata": {
        "id": "w_V5XxzXrSZl"
      },
      "source": [
        "Combinations with replacement"
      ]
    },
    {
      "cell_type": "code",
      "metadata": {
        "id": "IEE55ziOrWTf",
        "colab": {
          "base_uri": "https://localhost:8080/"
        },
        "outputId": "eaaba3e8-8e19-4cd4-8385-81159a2927a9"
      },
      "source": [
        "# Forma alternativa de combinations, permitindo a repetição de elementos\n",
        "\n",
        "from itertools import combinations_with_replacement\n",
        "\n",
        "combina = combinations_with_replacement([1, 2, 3, 4], 2)\n",
        "\n",
        "print(list(combina))\n"
      ],
      "execution_count": null,
      "outputs": [
        {
          "output_type": "stream",
          "text": [
            "[(1, 1), (1, 2), (1, 3), (1, 4), (2, 2), (2, 3), (2, 4), (3, 3), (3, 4), (4, 4)]\n"
          ],
          "name": "stdout"
        }
      ]
    },
    {
      "cell_type": "markdown",
      "metadata": {
        "id": "0T0UL93Sr-Pz"
      },
      "source": [
        "Accumulate"
      ]
    },
    {
      "cell_type": "code",
      "metadata": {
        "id": "KrBk5EHrsAHM",
        "colab": {
          "base_uri": "https://localhost:8080/"
        },
        "outputId": "6c8df15a-b2c6-4c3a-c42a-c25ed7f0e0df"
      },
      "source": [
        "# Como acumulação entenda-se a soma dos elementos subsequentes\n",
        "\n",
        "from itertools import accumulate\n",
        "\n",
        "acumula = accumulate([1,2,3,4])\n",
        "\n",
        "print(list(acumula))\n",
        "# Retornará o equivalente a (1) no índice 0, (1 + 2) no índice 1, (1 + 2 + 3)\n",
        "# no índice 2 e (1 + 2 + 3 + 4) no índice 3 da lista retornada.\n"
      ],
      "execution_count": null,
      "outputs": [
        {
          "output_type": "stream",
          "text": [
            "[1, 3, 6, 10]\n"
          ],
          "name": "stdout"
        }
      ]
    },
    {
      "cell_type": "code",
      "metadata": {
        "id": "5pl59PF_talz",
        "colab": {
          "base_uri": "https://localhost:8080/"
        },
        "outputId": "f0ac66b0-3164-4d02-fc45-6983a8b75c4c"
      },
      "source": [
        "# accumulate( ) interagindo com operador aritmético\n",
        "\n",
        "from itertools import accumulate\n",
        "import operator\n",
        "\n",
        "acumula2 = accumulate([1,2,3,4], func=operator.mul)\n",
        "\n",
        "print(list(acumula2))\n",
        "# Irá retornar o equivalente a (1 * 1) para o índice 0, (1 * 2) no índice 1,\n",
        "# (1 * 2 * 3) no índice 2 e finalmente o equivalente a (1 * 2 * 3 * 4) para o\n",
        "# índice 3 da lista retornada.\n"
      ],
      "execution_count": null,
      "outputs": [
        {
          "output_type": "stream",
          "text": [
            "[1, 2, 6, 24]\n"
          ],
          "name": "stdout"
        }
      ]
    },
    {
      "cell_type": "markdown",
      "metadata": {
        "id": "EjJOWDOTu0N7"
      },
      "source": [
        "GroupBy"
      ]
    },
    {
      "cell_type": "code",
      "metadata": {
        "id": "wb7918Sgu4Jn",
        "colab": {
          "base_uri": "https://localhost:8080/"
        },
        "outputId": "62c75b2c-47fd-499b-f9fe-8e4611f7acd9"
      },
      "source": [
        "from itertools import groupby\n",
        "\n",
        "def par(n):\n",
        "    if n % 2 == 0:\n",
        "      return n\n",
        "\n",
        "grupo = groupby([1, 2, 3, 4, 5, 6, 7, 8, 9, 10], key = par)\n",
        "for num in grupo:\n",
        "    print(num)\n"
      ],
      "execution_count": null,
      "outputs": [
        {
          "output_type": "stream",
          "text": [
            "(None, <itertools._grouper object at 0x7f4356fcc3d0>)\n",
            "(2, <itertools._grouper object at 0x7f4356ec4150>)\n",
            "(None, <itertools._grouper object at 0x7f4356ec4c90>)\n",
            "(4, <itertools._grouper object at 0x7f4356ec4650>)\n",
            "(None, <itertools._grouper object at 0x7f4356f7a910>)\n",
            "(6, <itertools._grouper object at 0x7f4356ec4890>)\n",
            "(None, <itertools._grouper object at 0x7f4356ec4250>)\n",
            "(8, <itertools._grouper object at 0x7f43578d2f90>)\n",
            "(None, <itertools._grouper object at 0x7f43578d2650>)\n",
            "(10, <itertools._grouper object at 0x7f43578d2850>)\n"
          ],
          "name": "stdout"
        }
      ]
    },
    {
      "cell_type": "markdown",
      "metadata": {
        "id": "dAMfM4q2w8uc"
      },
      "source": [
        "Repeat"
      ]
    },
    {
      "cell_type": "code",
      "metadata": {
        "id": "xBU7zS_-w-Gb",
        "colab": {
          "base_uri": "https://localhost:8080/"
        },
        "outputId": "7295cfc1-2dae-4901-867c-0ee8707288ed"
      },
      "source": [
        "from itertools import count, cycle, repeat\n",
        "\n",
        "var1 = 'Python'\n",
        "\n",
        "for i in repeat(var1, 8):\n",
        "    print(i)\n",
        "# repeat( ) irá repetir um dado/valor um número específico de vezes definido\n",
        "# em seu segundo parâmetro.\n"
      ],
      "execution_count": null,
      "outputs": [
        {
          "output_type": "stream",
          "text": [
            "Python\n",
            "Python\n",
            "Python\n",
            "Python\n",
            "Python\n",
            "Python\n",
            "Python\n",
            "Python\n"
          ],
          "name": "stdout"
        }
      ]
    },
    {
      "cell_type": "markdown",
      "metadata": {
        "id": "3DNKYDRdPlQo"
      },
      "source": [
        "## Expressões Lambda"
      ]
    },
    {
      "cell_type": "code",
      "metadata": {
        "id": "CKh-s3PDRqKO",
        "colab": {
          "base_uri": "https://localhost:8080/"
        },
        "outputId": "a9c5b52a-dd69-434a-d484-a5da2f320eb7"
      },
      "source": [
        "# Também chamadas de funções anônimas, vazias ou reduzidas\n",
        "\n",
        "def mensagem(x):\n",
        "  return x\n",
        "\n",
        "# lambda\n",
        "lambda x: x\n",
        "\n",
        "# x: é a versão reduzida da função mensagem(x), enquanto o elemento x seguinte\n",
        "# é o retorno da função, que nesse caso apenas retorna o que foi passado como\n",
        "# parâmetro da função.\n"
      ],
      "execution_count": null,
      "outputs": [
        {
          "output_type": "execute_result",
          "data": {
            "text/plain": [
              "<function __main__.<lambda>>"
            ]
          },
          "metadata": {
            "tags": []
          },
          "execution_count": 501
        }
      ]
    },
    {
      "cell_type": "code",
      "metadata": {
        "id": "JIt8pFTcnVRy",
        "colab": {
          "base_uri": "https://localhost:8080/"
        },
        "outputId": "f25299a8-51c2-4164-a0e9-7ddecc66edcc"
      },
      "source": [
        "# Muito utilizado como método de redução e otimização de código\n",
        "\n",
        "# A estrutura:\n",
        "def mensagem():\n",
        "    return 'Olá Mundo!!!'\n",
        "\n",
        "msg1 = mensagem()\n",
        "print(msg1)\n",
        "\n",
        "\n",
        "# Pode ser reduzida para:\n",
        "msg2 = lambda: 'Olá Mundo!!!'\n",
        "print(msg2())\n"
      ],
      "execution_count": null,
      "outputs": [
        {
          "output_type": "stream",
          "text": [
            "Olá Mundo!!!\n",
            "Olá Mundo!!!\n"
          ],
          "name": "stdout"
        }
      ]
    },
    {
      "cell_type": "code",
      "metadata": {
        "id": "GNYQE9XgPG8F",
        "colab": {
          "base_uri": "https://localhost:8080/"
        },
        "outputId": "a2c7e87c-ce4a-45bb-d428-ef375153b036"
      },
      "source": [
        "variavel1 = lambda n1, n2: n1 * n2\n",
        "\n",
        "n1 = int(input('Digite um número:'))\n",
        "n2 = int(input('Digite outro número:'))\n",
        "\n",
        "print(n1)\n",
        "print(n2)\n",
        "\n",
        "print(variavel1(n1, n2))\n"
      ],
      "execution_count": null,
      "outputs": [
        {
          "output_type": "stream",
          "text": [
            "Digite um número:8\n",
            "Digite outro número:5\n",
            "8\n",
            "5\n",
            "40\n"
          ],
          "name": "stdout"
        }
      ]
    },
    {
      "cell_type": "markdown",
      "metadata": {
        "id": "8xt3uEIQDPT_"
      },
      "source": [
        "## Expressões Condicionais Independentes"
      ]
    },
    {
      "cell_type": "markdown",
      "metadata": {
        "id": "k60J5HJVeXou"
      },
      "source": [
        "Expressão condicional independente"
      ]
    },
    {
      "cell_type": "code",
      "metadata": {
        "colab": {
          "base_uri": "https://localhost:8080/",
          "height": 36
        },
        "id": "ZcazXs4fYRZI",
        "outputId": "e5804e31-18b3-42d2-b204-3fe64c94913d"
      },
      "source": [
        "# funciona da mesma forma como uma expressão ternária\n",
        "\n",
        "media = 7\n",
        "\n",
        "'Aprovado' if media > 6 else 'Em recuperação' if media > 5 else 'Tente novamente' if media > 0 else 'Reprovado'\n",
        "\n",
        "# Se o valor de media for 0 é exibida a mensagem 'Reprovado'\n",
        "# se o valor de media for entre 1 e 5 é exibida a mensagem 'Tente novamente'\n",
        "# Se o valor de media for 6 é exibida a mensagem 'Em recuperação'\n",
        "# Se o valor de média for 7 ou maior é exibida a mensagem 'Aprovado'\n"
      ],
      "execution_count": null,
      "outputs": [
        {
          "output_type": "execute_result",
          "data": {
            "application/vnd.google.colaboratory.intrinsic+json": {
              "type": "string"
            },
            "text/plain": [
              "'Aprovado'"
            ]
          },
          "metadata": {
            "tags": []
          },
          "execution_count": 36
        }
      ]
    },
    {
      "cell_type": "markdown",
      "metadata": {
        "id": "HMRpt6ztjnMj"
      },
      "source": [
        "## Tópicos Avançados em POO"
      ]
    },
    {
      "cell_type": "markdown",
      "metadata": {
        "id": "MwVzyGYmkfAj"
      },
      "source": [
        "Associação de classes"
      ]
    },
    {
      "cell_type": "code",
      "metadata": {
        "id": "khy6LS49jmec",
        "colab": {
          "base_uri": "https://localhost:8080/"
        },
        "outputId": "afb9783e-9993-4fcf-d13b-6e3efa9f4636"
      },
      "source": [
        "class Usuario:\n",
        "    def __init__(self, nome):\n",
        "        self.__nome = nome\n",
        "        self.__logar = None\n",
        "    @property\n",
        "    def nome(self):\n",
        "        return self.__nome\n",
        "    @property\n",
        "    def logar(self):\n",
        "        return self.__logar\n",
        "    @logar.setter\n",
        "    def logar(self, logar):\n",
        "        self.__logar = logar\n",
        "\n",
        "class Identificador:\n",
        "    def __init__(self, numero):\n",
        "        self.__numero = numero\n",
        "    @property\n",
        "    def numero(self):\n",
        "        return self.__numero\n",
        "    def logar(self):\n",
        "        print('Logando no sistema...')\n",
        "\n",
        "usuario1 = Usuario('Fernando')\n",
        "identificador1 = Identificador('0001')\n",
        "\n",
        "usuario1.logar = identificador1\n",
        "# Irá repassar como argumento para o método de classe logar(logar)\n",
        "# da classe Usuario( ) a classe Identificador('0001'), dessa forma\n",
        "# Usuario( ) irá incorporar para si a estrutura de Identificador( )\n",
        "\n",
        "usuario1.logar.logar()\n"
      ],
      "execution_count": null,
      "outputs": [
        {
          "output_type": "stream",
          "text": [
            "Logando no sistema...\n"
          ],
          "name": "stdout"
        }
      ]
    },
    {
      "cell_type": "markdown",
      "metadata": {
        "id": "uZbpGcZkki_c"
      },
      "source": [
        "Agregação e composição de classes"
      ]
    },
    {
      "cell_type": "code",
      "metadata": {
        "id": "xh76sTPyjmgc",
        "colab": {
          "base_uri": "https://localhost:8080/"
        },
        "outputId": "0ef78018-6b2c-4af1-96e7-bfcd7bfe2c73"
      },
      "source": [
        "class Contato:\n",
        "    def __init__(self, residencial, celular):\n",
        "        self.residencial = residencial\n",
        "        self.celular = celular\n",
        "\n",
        "class Cliente:\n",
        "    def __init__(self, nome, idade, fone=None):\n",
        "        self.nome = nome\n",
        "        self.idade = idade\n",
        "        self.fone = []\n",
        "\n",
        "    def addFone(self, residencial, celular):\n",
        "        self.fone.append(Contato(residencial, celular))\n",
        "        # Adiciona a estrutura e conteúdo dos objetos de classe residencial\n",
        "        # e celular da classe Contato( ) como atributo para o objeto fone da\n",
        "        # classe Cliente( ).\n",
        "    def listaFone(self):\n",
        "        for fone in self.fone:\n",
        "            print(fone.residencial, fone.celular)\n",
        "\n",
        "cliente1 = Cliente('Fernando', 32)\n",
        "cliente1.addFone(33221766, 991357258)\n",
        "\n",
        "print(cliente1.nome)\n",
        "\n",
        "print(cliente1.listaFone())\n"
      ],
      "execution_count": null,
      "outputs": [
        {
          "output_type": "stream",
          "text": [
            "Fernando\n",
            "33221766 991357258\n",
            "None\n"
          ],
          "name": "stdout"
        }
      ]
    },
    {
      "cell_type": "markdown",
      "metadata": {
        "id": "WQ6XnJjCkm_a"
      },
      "source": [
        "Herança Simples"
      ]
    },
    {
      "cell_type": "code",
      "metadata": {
        "id": "V5Mjs6C-klae"
      },
      "source": [
        "class Corsa:\n",
        "    def __init__(self, nome, ano):\n",
        "        self.nome = nome\n",
        "        self.ano = ano\n",
        "\n",
        "class Gol:\n",
        "    def __init__(self, nome, ano):\n",
        "        self.nome = nome\n",
        "        self.ano = ano\n",
        "\n",
        "class Carro:\n",
        "    def __init__(self, nome, ano):\n",
        "        self.nome = nome\n",
        "        self.ano = ano\n",
        "\n",
        "class Corsa(Carro):\n",
        "    # Incorpora toda estrutura da classe Carro() para a classe Corsa()\n",
        "    pass\n",
        "\n",
        "class Gol(Carro):\n",
        "    pass\n"
      ],
      "execution_count": null,
      "outputs": []
    },
    {
      "cell_type": "markdown",
      "metadata": {
        "id": "Jl3F077fksWv"
      },
      "source": [
        "Cadeia de Heranças"
      ]
    },
    {
      "cell_type": "code",
      "metadata": {
        "id": "a6KQ_c2hklcy",
        "colab": {
          "base_uri": "https://localhost:8080/"
        },
        "outputId": "4ac3401d-a587-414c-c182-958a05a7d8d7"
      },
      "source": [
        "class Carro:\n",
        "    def __init__(self, nome, ano):\n",
        "        self.nome = nome\n",
        "        self.ano = ano\n",
        "\n",
        "class Gasolina(Carro):\n",
        "    def __init__(self, tipogasolina=True, tipoalcool=False):\n",
        "        self.tipogasolina = tipogasolina\n",
        "        self.tipoalcool = tipoalcool\n",
        "\n",
        "class Jeep(Gasolina):\n",
        "    pass\n",
        "\n",
        "carro1 = Jeep()\n",
        "\n",
        "print(carro1.tipogasolina)\n"
      ],
      "execution_count": null,
      "outputs": [
        {
          "output_type": "stream",
          "text": [
            "True\n"
          ],
          "name": "stdout"
        }
      ]
    },
    {
      "cell_type": "code",
      "metadata": {
        "colab": {
          "base_uri": "https://localhost:8080/"
        },
        "id": "Mn_tlsPYEb9f",
        "outputId": "53030989-b63f-4218-a85a-78e09e06adae"
      },
      "source": [
        "class Carro:\n",
        "    def __init__(self, nome, ano):\n",
        "        self.nome = nome\n",
        "        self.ano = ano\n",
        "\n",
        "class Gasolina(Carro):\n",
        "    def __init__(self, tipogasolina=True, tipoalcool=False):\n",
        "        self.tipogasolina = tipogasolina\n",
        "        self.tipoalcool = tipoalcool\n",
        "\n",
        "class Jeep(Gasolina):\n",
        "    # A classe Jeep( ) incorpora em sua estrutura as estruturas da classe\n",
        "    # Gasolina( ) que por sua vez possui em sua estrutura a estrutura da\n",
        "    # classe Carro( )\n",
        "    pass\n",
        "\n",
        "# Internamente é o mesmo que:\n",
        "# class Jeep():\n",
        "#    def __init__(self, nome, ano, tipogasolina=True, tipoalcool=False):\n",
        "#        self.nome = nome\n",
        "#        self.ano = ano\n",
        "#        self.tipogasolina = tipogasolina\n",
        "#        self.tipoalcool = tipoalcool\n",
        "\n",
        "carro1 = Jeep()\n",
        "\n",
        "print(carro1.tipogasolina)\n"
      ],
      "execution_count": null,
      "outputs": [
        {
          "output_type": "stream",
          "text": [
            "True\n"
          ],
          "name": "stdout"
        }
      ]
    },
    {
      "cell_type": "code",
      "metadata": {
        "id": "MY1dhQUuklfY"
      },
      "source": [
        "# Mesmo que:\n",
        "\n",
        "class Jeep:\n",
        "    def carro():\n",
        "        def __init__(self, nome, ano):\n",
        "            self.nome = nome\n",
        "            self.ano = ano\n",
        "\n",
        "    def gasolina(self, tipogasolina=True, tipoalcool=False):\n",
        "        self.tipogasolina = tipogasolina\n",
        "        self.tipoalcool = tipoalcool\n",
        "\n",
        "jeep = Jeep()\n"
      ],
      "execution_count": null,
      "outputs": []
    },
    {
      "cell_type": "code",
      "metadata": {
        "id": "cVilcIpjklhq",
        "colab": {
          "base_uri": "https://localhost:8080/"
        },
        "outputId": "22259f6b-6017-45b8-8d20-48c9a2cfd414"
      },
      "source": [
        "# Código otimizado\n",
        "\n",
        "class Carro:\n",
        "    def __init__(self, nome, ano):\n",
        "        self.nome = nome\n",
        "        self.ano = ano\n",
        "\n",
        "class Gasolina(Carro):\n",
        "    def __init__(self, tipogasolina=True, tipoalcool=False):\n",
        "        self.tipogasolina = tipogasolina\n",
        "        self.tipoalcool = tipoalcool\n",
        "\n",
        "class Jeep(Gasolina):\n",
        "    pass\n",
        "\n",
        "carro1 = Jeep()\n",
        "\n",
        "print(carro1.tipogasolina)\n"
      ],
      "execution_count": null,
      "outputs": [
        {
          "output_type": "stream",
          "text": [
            "True\n"
          ],
          "name": "stdout"
        }
      ]
    },
    {
      "cell_type": "markdown",
      "metadata": {
        "id": "tqbqByrjkziH"
      },
      "source": [
        "Herança Múltipla"
      ]
    },
    {
      "cell_type": "code",
      "metadata": {
        "id": "f-mUuau4klkX"
      },
      "source": [
        "class Mercadoria:\n",
        "    def __init__(self, nome, preco):\n",
        "        self.nome = nome\n",
        "        self.preco = preco\n",
        "\n",
        "class Carnes(Mercadoria):\n",
        "    def __init__(self, tipo, peso):\n",
        "        self.tipo = tipo\n",
        "        self.peso = peso\n",
        "\n",
        "class Utensilios:\n",
        "    def __init__(self, espetos, carvao):\n",
        "        self.espetos = espetos\n",
        "        self.carvao = carvao\n",
        "\n",
        "class KitChurrasco(Carnes, Utensilios):\n",
        "    pass\n",
        "\n",
        "pacote1 = KitChurrasco('carne', 14.90)\n",
        "pacote1.tipo = 'costela'\n",
        "pacote1.peso = 1\n",
        "pacote1.espetos = 1\n",
        "pacote1.carvao = 1\n"
      ],
      "execution_count": null,
      "outputs": []
    },
    {
      "cell_type": "code",
      "metadata": {
        "id": "gLFQzQtvHE3P"
      },
      "source": [
        "class Mercadoria:\n",
        "    def __init__(self, nome, preco):\n",
        "        self.nome = nome\n",
        "        self.preco = preco\n",
        "\n",
        "class Carnes(Mercadoria):\n",
        "    def __init__(self, tipo, peso):\n",
        "        self.tipo = tipo\n",
        "        self.peso = peso\n",
        "\n",
        "class Utensilios:\n",
        "    def __init__(self, espetos, carvao):\n",
        "        self.espetos = espetos\n",
        "        self.carvao = carvao\n",
        "\n",
        "class KitChurrasco(Carnes, Utensilios):\n",
        "    # KitChurrasco recebe como argumento para seus atributos de classe\n",
        "    # toda estrutura e conteúdos das classes Carnes( ) e Utensilios( )\n",
        "    pass\n",
        "\n",
        "pacote1 = KitChurrasco('carne', 14.90)\n",
        "pacote1.tipo = 'costela'\n",
        "pacote1.peso = 1\n",
        "pacote1.espetos = 1\n",
        "pacote1.carvao = 1\n",
        "\n",
        "# Internamente é o mesmo que:\n",
        "# class KitChurrasco(Carnes, Utensilios):\n",
        "#     def __init__(self, nome, preco, tipo, peso, espetos, carvao):\n",
        "#         self.nome = nome\n",
        "#         self.preco = preco\n",
        "#         self.tipo = tipo\n",
        "#         self.peso = peso\n",
        "#         self.espetos = espetos\n",
        "#         self.carvao = carvao\n",
        "#    pass\n"
      ],
      "execution_count": null,
      "outputs": []
    },
    {
      "cell_type": "markdown",
      "metadata": {
        "id": "HqRytpsik23F"
      },
      "source": [
        "Sobreposição de membros"
      ]
    },
    {
      "cell_type": "code",
      "metadata": {
        "id": "V7EuqY43klmm",
        "colab": {
          "base_uri": "https://localhost:8080/"
        },
        "outputId": "2bead2f6-0472-4841-b087-7b9c3b7bbd7a"
      },
      "source": [
        "class Pessoa:\n",
        "    def __init__(self, nome):\n",
        "        self.nome = nome\n",
        "    \n",
        "    def Acao1(self):\n",
        "        print(f'{self.nome} está dormindo')\n",
        "\n",
        "class Jogador1(Pessoa):\n",
        "    def Acao2(self):\n",
        "        print(f'{self.nome} está comendo')\n",
        "\n",
        "class SaveJogador1(Jogador1):\n",
        "    pass\n",
        "\n",
        "p1 = SaveJogador1('Fernando')\n",
        "# O argumento 'Fernando' será repassado para o atributo de classe nome da\n",
        "# classe Pessoa(), que por sua vez é objeto da classe Jogador1(), que por\n",
        "# sua vez é objeto da classe SaveJogador1( ).\n",
        "print(p1.nome)\n",
        "\n",
        "p1.Acao1()\n",
        "p1.Acao2()\n"
      ],
      "execution_count": null,
      "outputs": [
        {
          "output_type": "stream",
          "text": [
            "Fernando\n",
            "Fernando está dormindo\n",
            "Fernando está comendo\n"
          ],
          "name": "stdout"
        }
      ]
    },
    {
      "cell_type": "code",
      "metadata": {
        "id": "KeVw3tgoklpO",
        "colab": {
          "base_uri": "https://localhost:8080/"
        },
        "outputId": "876a5872-cdb0-431c-c904-562ba7514f46"
      },
      "source": [
        "class Pessoa:\n",
        "    def __init__(self, nome):\n",
        "        self.nome = nome\n",
        "    \n",
        "    def Acao1(self):\n",
        "        print(f'{self.nome} está dormindo')\n",
        "\n",
        "class Jogador1(Pessoa):\n",
        "    def Acao2(self):\n",
        "        print(f'{self.nome} está comendo')\n",
        "\n",
        "class SaveJogador1(Jogador1):\n",
        "    def Acao1(self):\n",
        "        super().Acao1()\n",
        "        print(f'{self.nome} está acordado')\n",
        "\n",
        "p1 = SaveJogador1('Fernando')\n",
        "p1.Acao1()\n",
        "p1.Acao2()\n"
      ],
      "execution_count": null,
      "outputs": [
        {
          "output_type": "stream",
          "text": [
            "Fernando está dormindo\n",
            "Fernando está acordado\n",
            "Fernando está comendo\n"
          ],
          "name": "stdout"
        }
      ]
    },
    {
      "cell_type": "markdown",
      "metadata": {
        "id": "D22gjNoclAVO"
      },
      "source": [
        "Sobreposição via super( )"
      ]
    },
    {
      "cell_type": "code",
      "metadata": {
        "id": "D4t94k2Ck-hq"
      },
      "source": [
        "class Pessoa:\n",
        "    def __init__(self, nome):\n",
        "        self.nome = nome\n",
        "    \n",
        "    def Acao1(self):\n",
        "        print(f'{self.nome} está dormindo')\n",
        "\n",
        "class Jogador1(Pessoa):\n",
        "    def Acao2(self):\n",
        "        print(f'{self.nome} está comendo')\n"
      ],
      "execution_count": null,
      "outputs": []
    },
    {
      "cell_type": "code",
      "metadata": {
        "colab": {
          "base_uri": "https://localhost:8080/"
        },
        "id": "9zyXKpRTK9TG",
        "outputId": "93376a48-a85c-424a-bbad-d7b6d6c46c7a"
      },
      "source": [
        "# super() para definir a prioridade de execução de um método de classe\n",
        "\n",
        "class SaveJogador1(Jogador1):\n",
        "    def Acao1(self):\n",
        "        super().Acao2()\n",
        "        # Define que dos métodos de classe associados a classe Pessoa(),\n",
        "        # Acao2() terá prioridade de execução\n",
        "        print(f'{self.nome} encerrando as atividades')\n",
        "\n",
        "p1 = SaveJogador1('Fernando')\n",
        "p1.Acao1()\n"
      ],
      "execution_count": null,
      "outputs": [
        {
          "output_type": "stream",
          "text": [
            "Fernando está comendo\n",
            "Fernando encerrando as atividades\n"
          ],
          "name": "stdout"
        }
      ]
    },
    {
      "cell_type": "code",
      "metadata": {
        "colab": {
          "base_uri": "https://localhost:8080/"
        },
        "id": "NqhzG92JKvJ-",
        "outputId": "81cb748c-6dde-4c1b-f2c7-99b2a3142f24"
      },
      "source": [
        "class SaveJogador1(Jogador1):\n",
        "    def Acao1(self):\n",
        "        super().Acao1()\n",
        "        print(f'{self.nome} encerrando as atividades')\n",
        "\n",
        "p1 = SaveJogador1('Fernando')\n",
        "p1.Acao1()\n"
      ],
      "execution_count": null,
      "outputs": [
        {
          "output_type": "stream",
          "text": [
            "Fernando está dormindo\n",
            "Fernando encerrando as atividades\n"
          ],
          "name": "stdout"
        }
      ]
    },
    {
      "cell_type": "code",
      "metadata": {
        "id": "y5wFcAPKk-kD",
        "colab": {
          "base_uri": "https://localhost:8080/"
        },
        "outputId": "271fc607-b139-4587-b0da-d01b8e4747c5"
      },
      "source": [
        "# Outro exemplo\n",
        "\n",
        "class Pessoa:\n",
        "    def __init__(self, nome):\n",
        "        self.nome = nome\n",
        "\n",
        "    def Acao1(self):\n",
        "        print(f'{self.nome} Primeira Ação')\n",
        "    \n",
        "    def Acao2(self):\n",
        "        print(f'{self.nome} Segunda Ação')\n",
        "    \n",
        "class SaveJogador1(Pessoa):\n",
        "    def Acao(self):\n",
        "        super().Acao1() # Executará primeiro o método de classe Acao1()\n",
        "        #super().Acao2() # Executará primeiro o método de classe Acao2()\n",
        "\n",
        "p1 = SaveJogador1('Fernando')\n",
        "p1.Acao()\n"
      ],
      "execution_count": null,
      "outputs": [
        {
          "output_type": "stream",
          "text": [
            "Fernando Primeira Ação\n"
          ],
          "name": "stdout"
        }
      ]
    },
    {
      "cell_type": "markdown",
      "metadata": {
        "id": "v2I-F7JGlI3Z"
      },
      "source": [
        "Classes abstratas"
      ]
    },
    {
      "cell_type": "code",
      "metadata": {
        "id": "uzHwnPNmk-mh",
        "colab": {
          "base_uri": "https://localhost:8080/"
        },
        "outputId": "4452cb6c-026a-44b3-ec81-5a9f3de21034"
      },
      "source": [
        "from abc import ABC, abstractclassmethod\n",
        "\n",
        "class Pessoa(ABC):\n",
        "    @abstractclassmethod\n",
        "    def logar(self):\n",
        "        pass\n",
        "\n",
        "class Usuario(Pessoa):\n",
        "    def logar(self):\n",
        "        print('Usuario logado no sistema')\n",
        "\n",
        "#user1 = Pessoa()\n",
        "#user1.logar()\n",
        "\n",
        "user1 = Usuario()\n",
        "user1.logar()\n"
      ],
      "execution_count": null,
      "outputs": [
        {
          "output_type": "stream",
          "text": [
            "Usuario logado no sistema\n"
          ],
          "name": "stdout"
        }
      ]
    },
    {
      "cell_type": "markdown",
      "metadata": {
        "id": "tWdwuZhVlL86"
      },
      "source": [
        "Polimorfismo"
      ]
    },
    {
      "cell_type": "code",
      "metadata": {
        "id": "34CiHQ-Ik-o8",
        "colab": {
          "base_uri": "https://localhost:8080/"
        },
        "outputId": "5afea962-57b1-402b-bf2a-95719e35655c"
      },
      "source": [
        "from abc import ABC, abstractclassmethod\n",
        "\n",
        "class Pessoa(ABC):\n",
        "    @abstractclassmethod\n",
        "    def logar(self, chaveseguranca):\n",
        "        pass\n",
        "\n",
        "class Usuario(Pessoa):\n",
        "    def logar(self, chaveseguranca):\n",
        "        print('Usuario logado no sistema')\n",
        "\n",
        "class Bot(Pessoa):\n",
        "    def logar(self, chaveseguranca):\n",
        "        print('Sistema rodando em segundo plano')\n",
        "\n",
        "user1 = Usuario()\n",
        "user1.logar('I5m8b4y9')\n"
      ],
      "execution_count": null,
      "outputs": [
        {
          "output_type": "stream",
          "text": [
            "Usuario logado no sistema\n"
          ],
          "name": "stdout"
        }
      ]
    },
    {
      "cell_type": "markdown",
      "metadata": {
        "id": "LbxPIBPGlQVS"
      },
      "source": [
        "Sobrecarga de operadores"
      ]
    },
    {
      "cell_type": "code",
      "metadata": {
        "id": "uypyOah3k-rY",
        "colab": {
          "base_uri": "https://localhost:8080/",
          "height": 246
        },
        "outputId": "1279f3c3-645c-4aa0-cf0d-1669da6b2123"
      },
      "source": [
        "class Caixa:\n",
        "    def __init__(self, largura, altura):\n",
        "        self.largura = largura\n",
        "        self.altura = altura\n",
        "\n",
        "caixa1 = Caixa(10,10)\n",
        "caixa2 = Caixa(10,20)\n",
        "\n",
        "print(caixa1 + caixa2)\n",
        "\n",
        "# Irá gerar um erro, pois estaríamos tentando sobrepor objetos\n"
      ],
      "execution_count": null,
      "outputs": [
        {
          "output_type": "error",
          "ename": "TypeError",
          "evalue": "ignored",
          "traceback": [
            "\u001b[0;31m---------------------------------------------------------------------------\u001b[0m",
            "\u001b[0;31mTypeError\u001b[0m                                 Traceback (most recent call last)",
            "\u001b[0;32m<ipython-input-517-186cd61e3323>\u001b[0m in \u001b[0;36m<module>\u001b[0;34m()\u001b[0m\n\u001b[1;32m      7\u001b[0m \u001b[0mcaixa2\u001b[0m \u001b[0;34m=\u001b[0m \u001b[0mCaixa\u001b[0m\u001b[0;34m(\u001b[0m\u001b[0;36m10\u001b[0m\u001b[0;34m,\u001b[0m\u001b[0;36m20\u001b[0m\u001b[0;34m)\u001b[0m\u001b[0;34m\u001b[0m\u001b[0;34m\u001b[0m\u001b[0m\n\u001b[1;32m      8\u001b[0m \u001b[0;34m\u001b[0m\u001b[0m\n\u001b[0;32m----> 9\u001b[0;31m \u001b[0mprint\u001b[0m\u001b[0;34m(\u001b[0m\u001b[0mcaixa1\u001b[0m \u001b[0;34m+\u001b[0m \u001b[0mcaixa2\u001b[0m\u001b[0;34m)\u001b[0m\u001b[0;34m\u001b[0m\u001b[0;34m\u001b[0m\u001b[0m\n\u001b[0m\u001b[1;32m     10\u001b[0m \u001b[0;34m\u001b[0m\u001b[0m\n\u001b[1;32m     11\u001b[0m \u001b[0;31m# Irá gerar um erro, pois estaríamos tentando sobrepor objetos\u001b[0m\u001b[0;34m\u001b[0m\u001b[0;34m\u001b[0m\u001b[0;34m\u001b[0m\u001b[0m\n",
            "\u001b[0;31mTypeError\u001b[0m: unsupported operand type(s) for +: 'Caixa' and 'Caixa'"
          ]
        }
      ]
    },
    {
      "cell_type": "code",
      "metadata": {
        "id": "vn9l1ec8k-wC",
        "colab": {
          "base_uri": "https://localhost:8080/"
        },
        "outputId": "3ec7ba8d-2687-418c-82cf-62079f5bc481"
      },
      "source": [
        "# Contornando o erro anterior:\n",
        "\n",
        "class Caixa:\n",
        "    def __init__(self, largura, altura):\n",
        "        self.largura = largura\n",
        "        self.altura = altura\n",
        "    \n",
        "    def __add__(self, other):\n",
        "        largura1 = self.largura + other.largura\n",
        "        altura1 = self.altura + other.altura\n",
        "        return Caixa(largura1, altura1)\n",
        "\n",
        "    def __repr__(self):\n",
        "        return f\"<class 'Caixa({self.largura}, {self.altura})'>\"\n",
        "\n",
        "caixa1 = Caixa(10,10)\n",
        "caixa2 = Caixa(10,20)\n",
        "caixa3 = caixa1 + caixa2\n",
        "\n",
        "print(caixa3)\n"
      ],
      "execution_count": null,
      "outputs": [
        {
          "output_type": "stream",
          "text": [
            "<class 'Caixa(20, 30)'>\n"
          ],
          "name": "stdout"
        }
      ]
    },
    {
      "cell_type": "markdown",
      "metadata": {
        "id": "XvDsVE0blqnl"
      },
      "source": [
        "Dataclass para tornar reduzida a criação de classes-molde"
      ]
    },
    {
      "cell_type": "code",
      "metadata": {
        "colab": {
          "base_uri": "https://localhost:8080/"
        },
        "id": "XSqieAoDlvKU",
        "outputId": "e462e75a-5da8-400c-ff1b-2ed3bd6c87ef"
      },
      "source": [
        "# Método convencional\n",
        "\n",
        "class Pessoa1:\n",
        "    def __init__(self, nome, idade):\n",
        "        self.nome = nome\n",
        "        self.idade = idade\n",
        "    def __repr__(self):\n",
        "        return f'Pessoa {{nome: {self.nome}, idade: {self.idade}}}'\n",
        "\n",
        "pessoa1 = Pessoa1('Fernando', 34)\n",
        "print(pessoa1)\n"
      ],
      "execution_count": null,
      "outputs": [
        {
          "output_type": "stream",
          "text": [
            "Pessoa {nome: Fernando, idade: 34}\n"
          ],
          "name": "stdout"
        }
      ]
    },
    {
      "cell_type": "code",
      "metadata": {
        "colab": {
          "base_uri": "https://localhost:8080/"
        },
        "id": "5anEQDmQn5lA",
        "outputId": "2793ddf1-eb88-4504-9181-ce425cdbeb0f"
      },
      "source": [
        "pessoa1.ocupacao = 'Professor' # Permite perfeitamente inserir novos campos, embora fiquem implícitos pois não constam em repr\n",
        "print(pessoa1)\n"
      ],
      "execution_count": null,
      "outputs": [
        {
          "output_type": "stream",
          "text": [
            "Pessoa {nome: Fernando, idade: 34}\n"
          ],
          "name": "stdout"
        }
      ]
    },
    {
      "cell_type": "code",
      "metadata": {
        "colab": {
          "base_uri": "https://localhost:8080/"
        },
        "id": "TWvFBnOLoMSr",
        "outputId": "1f05ee78-a658-42bc-ec18-f69335409cf4"
      },
      "source": [
        "print(pessoa1.ocupacao)\n"
      ],
      "execution_count": null,
      "outputs": [
        {
          "output_type": "stream",
          "text": [
            "Professor\n"
          ],
          "name": "stdout"
        }
      ]
    },
    {
      "cell_type": "code",
      "metadata": {
        "colab": {
          "base_uri": "https://localhost:8080/"
        },
        "id": "v52d6Bsoly3c",
        "outputId": "cbf64510-b933-42d5-bd93-b386f149260d"
      },
      "source": [
        "from dataclasses import dataclass\n",
        "\n",
        "@dataclass # Irá auto gerar os métodos construtores e repr, associando seus respectivos objetos de classe\n",
        "class Pessoa2:\n",
        "    nome: str\n",
        "    idade: int\n",
        "\n",
        "pessoa2 = Pessoa2('Fernando', 34)\n",
        "print(pessoa2)\n"
      ],
      "execution_count": null,
      "outputs": [
        {
          "output_type": "stream",
          "text": [
            "Pessoa2(nome='Fernando', idade=34)\n"
          ],
          "name": "stdout"
        }
      ]
    },
    {
      "cell_type": "code",
      "metadata": {
        "colab": {
          "base_uri": "https://localhost:8080/"
        },
        "id": "QQQcxuUrl_Id",
        "outputId": "433114df-0598-4ff4-adcf-26a84362658e"
      },
      "source": [
        "@dataclass\n",
        "class Pessoa3:\n",
        "    nome: str = 'Nome' # Pode se usar de valores padrão perfeitamente, para usar a classe inicialmente apenas como molde\n",
        "    idade: int = 0\n",
        "\n",
        "pessoa3 = Pessoa3()\n",
        "print(pessoa3)\n"
      ],
      "execution_count": null,
      "outputs": [
        {
          "output_type": "stream",
          "text": [
            "Pessoa3(nome='Nome', idade=0)\n"
          ],
          "name": "stdout"
        }
      ]
    },
    {
      "cell_type": "code",
      "metadata": {
        "colab": {
          "base_uri": "https://localhost:8080/"
        },
        "id": "2oHlFgMOmcTo",
        "outputId": "2e84154a-7b17-47b4-b0e2-625efb60bb34"
      },
      "source": [
        "# Parâmetro frozen para o decorador\n",
        "\n",
        "@dataclass(frozen = True) # Bloqueia a inserção de novos objetos de classe fora os que já estão declarados\n",
        "class Pessoa4:\n",
        "    nome: str\n",
        "    idade: int\n",
        "\n",
        "pessoa4 = Pessoa4('Fernando', 34)\n",
        "print(pessoa4)\n"
      ],
      "execution_count": null,
      "outputs": [
        {
          "output_type": "stream",
          "text": [
            "Pessoa4(nome='Fernando', idade=34)\n"
          ],
          "name": "stdout"
        }
      ]
    },
    {
      "cell_type": "code",
      "metadata": {
        "colab": {
          "base_uri": "https://localhost:8080/",
          "height": 209
        },
        "id": "1JL0jKCFm3VT",
        "outputId": "c9fb3f8b-edb9-414f-f9c8-0f29cf639c2a"
      },
      "source": [
        "pessoa4.profissao = 'Eng. da Computação' # Irá retornar um erro pois não é permitido a criação de novos objetos em uma classe decorada bloqueada\n"
      ],
      "execution_count": null,
      "outputs": [
        {
          "output_type": "error",
          "ename": "FrozenInstanceError",
          "evalue": "ignored",
          "traceback": [
            "\u001b[0;31m---------------------------------------------------------------------------\u001b[0m",
            "\u001b[0;31mFrozenInstanceError\u001b[0m                       Traceback (most recent call last)",
            "\u001b[0;32m<ipython-input-8-6e340984243b>\u001b[0m in \u001b[0;36m<module>\u001b[0;34m()\u001b[0m\n\u001b[0;32m----> 1\u001b[0;31m \u001b[0mpessoa4\u001b[0m\u001b[0;34m.\u001b[0m\u001b[0mprofissao\u001b[0m \u001b[0;34m=\u001b[0m \u001b[0;34m'Eng. da Computação'\u001b[0m\u001b[0;34m\u001b[0m\u001b[0;34m\u001b[0m\u001b[0m\n\u001b[0m",
            "\u001b[0;32m<string>\u001b[0m in \u001b[0;36m__setattr__\u001b[0;34m(self, name, value)\u001b[0m\n",
            "\u001b[0;31mFrozenInstanceError\u001b[0m: cannot assign to field 'profissao'"
          ]
        }
      ]
    },
    {
      "cell_type": "code",
      "metadata": {
        "colab": {
          "base_uri": "https://localhost:8080/"
        },
        "id": "4PTTrIYyohW3",
        "outputId": "7cf26dfa-8177-42c4-e884-ad552847722a"
      },
      "source": [
        "# Convertendo uma dataclass para dicionário por questões de compatibilidade\n",
        "\n",
        "from dataclasses import dataclass, asdict\n",
        "\n",
        "@dataclass\n",
        "class Pessoa4:\n",
        "    nome: str\n",
        "    idade: int\n",
        "\n",
        "pessoa4 = Pessoa4('Fernando', 34)\n",
        "print(pessoa4)\n",
        "print(asdict(pessoa4))\n"
      ],
      "execution_count": null,
      "outputs": [
        {
          "output_type": "stream",
          "text": [
            "Pessoa4(nome='Fernando', idade=34)\n",
            "{'nome': 'Fernando', 'idade': 34}\n"
          ],
          "name": "stdout"
        }
      ]
    },
    {
      "cell_type": "markdown",
      "metadata": {
        "id": "x2XJ4mC3esGc"
      },
      "source": [
        "Dataclass para tornar reduzida a criação de classes-molde"
      ]
    },
    {
      "cell_type": "code",
      "metadata": {
        "colab": {
          "base_uri": "https://localhost:8080/"
        },
        "id": "2mHKfgTtesGn",
        "outputId": "e462e75a-5da8-400c-ff1b-2ed3bd6c87ef"
      },
      "source": [
        "# Método convencional\n",
        "\n",
        "class Pessoa1:\n",
        "    def __init__(self, nome, idade):\n",
        "        self.nome = nome\n",
        "        self.idade = idade\n",
        "    def __repr__(self):\n",
        "        return f'Pessoa {{nome: {self.nome}, idade: {self.idade}}}'\n",
        "\n",
        "pessoa1 = Pessoa1('Fernando', 34)\n",
        "print(pessoa1)\n"
      ],
      "execution_count": null,
      "outputs": [
        {
          "output_type": "stream",
          "text": [
            "Pessoa {nome: Fernando, idade: 34}\n"
          ],
          "name": "stdout"
        }
      ]
    },
    {
      "cell_type": "code",
      "metadata": {
        "colab": {
          "base_uri": "https://localhost:8080/"
        },
        "id": "7ugjfYNvesGq",
        "outputId": "2793ddf1-eb88-4504-9181-ce425cdbeb0f"
      },
      "source": [
        "pessoa1.ocupacao = 'Professor' # Permite perfeitamente inserir novos campos, embora fiquem implícitos pois não constam em repr\n",
        "print(pessoa1)\n"
      ],
      "execution_count": null,
      "outputs": [
        {
          "output_type": "stream",
          "text": [
            "Pessoa {nome: Fernando, idade: 34}\n"
          ],
          "name": "stdout"
        }
      ]
    },
    {
      "cell_type": "code",
      "metadata": {
        "colab": {
          "base_uri": "https://localhost:8080/"
        },
        "id": "lslNtXj1esGs",
        "outputId": "1f05ee78-a658-42bc-ec18-f69335409cf4"
      },
      "source": [
        "print(pessoa1.ocupacao)\n"
      ],
      "execution_count": null,
      "outputs": [
        {
          "output_type": "stream",
          "text": [
            "Professor\n"
          ],
          "name": "stdout"
        }
      ]
    },
    {
      "cell_type": "code",
      "metadata": {
        "colab": {
          "base_uri": "https://localhost:8080/"
        },
        "id": "3u2UGNu8esGu",
        "outputId": "cbf64510-b933-42d5-bd93-b386f149260d"
      },
      "source": [
        "from dataclasses import dataclass\n",
        "\n",
        "@dataclass # Irá auto gerar os métodos construtores e repr, associando seus respectivos objetos de classe\n",
        "class Pessoa2:\n",
        "    nome: str\n",
        "    idade: int\n",
        "\n",
        "pessoa2 = Pessoa2('Fernando', 34)\n",
        "print(pessoa2)\n"
      ],
      "execution_count": null,
      "outputs": [
        {
          "output_type": "stream",
          "text": [
            "Pessoa2(nome='Fernando', idade=34)\n"
          ],
          "name": "stdout"
        }
      ]
    },
    {
      "cell_type": "code",
      "metadata": {
        "colab": {
          "base_uri": "https://localhost:8080/"
        },
        "id": "HhI-RaU6esGv",
        "outputId": "433114df-0598-4ff4-adcf-26a84362658e"
      },
      "source": [
        "@dataclass\n",
        "class Pessoa3:\n",
        "    nome: str = 'Nome' # Pode se usar de valores padrão perfeitamente, para usar a classe inicialmente apenas como molde\n",
        "    idade: int = 0\n",
        "\n",
        "pessoa3 = Pessoa3()\n",
        "print(pessoa3)\n"
      ],
      "execution_count": null,
      "outputs": [
        {
          "output_type": "stream",
          "text": [
            "Pessoa3(nome='Nome', idade=0)\n"
          ],
          "name": "stdout"
        }
      ]
    },
    {
      "cell_type": "code",
      "metadata": {
        "colab": {
          "base_uri": "https://localhost:8080/"
        },
        "id": "dUYC0jhSesGw",
        "outputId": "2e84154a-7b17-47b4-b0e2-625efb60bb34"
      },
      "source": [
        "# Parâmetro frozen para o decorador\n",
        "\n",
        "@dataclass(frozen = True) # Bloqueia a inserção de novos objetos de classe fora os que já estão declarados\n",
        "class Pessoa4:\n",
        "    nome: str\n",
        "    idade: int\n",
        "\n",
        "pessoa4 = Pessoa4('Fernando', 34)\n",
        "print(pessoa4)\n"
      ],
      "execution_count": null,
      "outputs": [
        {
          "output_type": "stream",
          "text": [
            "Pessoa4(nome='Fernando', idade=34)\n"
          ],
          "name": "stdout"
        }
      ]
    },
    {
      "cell_type": "code",
      "metadata": {
        "colab": {
          "base_uri": "https://localhost:8080/",
          "height": 209
        },
        "id": "Qko-cfZZesGx",
        "outputId": "c9fb3f8b-edb9-414f-f9c8-0f29cf639c2a"
      },
      "source": [
        "pessoa4.profissao = 'Eng. da Computação' # Irá retornar um erro pois não é permitido a criação de novos objetos em uma classe decorada bloqueada\n"
      ],
      "execution_count": null,
      "outputs": [
        {
          "output_type": "error",
          "ename": "FrozenInstanceError",
          "evalue": "ignored",
          "traceback": [
            "\u001b[0;31m---------------------------------------------------------------------------\u001b[0m",
            "\u001b[0;31mFrozenInstanceError\u001b[0m                       Traceback (most recent call last)",
            "\u001b[0;32m<ipython-input-8-6e340984243b>\u001b[0m in \u001b[0;36m<module>\u001b[0;34m()\u001b[0m\n\u001b[0;32m----> 1\u001b[0;31m \u001b[0mpessoa4\u001b[0m\u001b[0;34m.\u001b[0m\u001b[0mprofissao\u001b[0m \u001b[0;34m=\u001b[0m \u001b[0;34m'Eng. da Computação'\u001b[0m\u001b[0;34m\u001b[0m\u001b[0;34m\u001b[0m\u001b[0m\n\u001b[0m",
            "\u001b[0;32m<string>\u001b[0m in \u001b[0;36m__setattr__\u001b[0;34m(self, name, value)\u001b[0m\n",
            "\u001b[0;31mFrozenInstanceError\u001b[0m: cannot assign to field 'profissao'"
          ]
        }
      ]
    },
    {
      "cell_type": "code",
      "metadata": {
        "colab": {
          "base_uri": "https://localhost:8080/"
        },
        "id": "vEni3QPGesGy",
        "outputId": "7cf26dfa-8177-42c4-e884-ad552847722a"
      },
      "source": [
        "# Convertendo uma dataclass para dicionário por questões de compatibilidade\n",
        "\n",
        "from dataclasses import dataclass, asdict\n",
        "\n",
        "@dataclass\n",
        "class Pessoa4:\n",
        "    nome: str\n",
        "    idade: int\n",
        "\n",
        "pessoa4 = Pessoa4('Fernando', 34)\n",
        "print(pessoa4)\n",
        "print(asdict(pessoa4))\n"
      ],
      "execution_count": null,
      "outputs": [
        {
          "output_type": "stream",
          "text": [
            "Pessoa4(nome='Fernando', idade=34)\n",
            "{'nome': 'Fernando', 'idade': 34}\n"
          ],
          "name": "stdout"
        }
      ]
    },
    {
      "cell_type": "markdown",
      "metadata": {
        "id": "jyCOJtF-jOYv"
      },
      "source": [
        "## Gerenciamento de Filas"
      ]
    },
    {
      "cell_type": "markdown",
      "metadata": {
        "id": "9T8ek5KFRW6l"
      },
      "source": [
        "Fila Orientada a Objetos"
      ]
    },
    {
      "cell_type": "code",
      "metadata": {
        "id": "5ymoCKUdRZ7Y"
      },
      "source": [
        "import numpy as np\n",
        "\n",
        "class Fila:\n",
        "    def __init__(self, tamanho):\n",
        "        self.tamanho = tamanho\n",
        "        self.inicio = 0\n",
        "        self.fim = -1\n",
        "        self.num_elementos = 0\n",
        "        self.elementos = np.empty(self.tamanho, dtype = int)\n",
        "\n",
        "    def fila_vazia(self):\n",
        "        return self.num_elementos == 0\n",
        "    \n",
        "    def fila_cheia(self):\n",
        "        return self.num_elementos == self.tamanho\n",
        "    \n",
        "    def enfileirar(self, elemento):\n",
        "        if self.fila_cheia():\n",
        "            print('Fila cheia...')\n",
        "            return\n",
        "        if self.fim == self.tamanho - 1:\n",
        "            self.fim = -1\n",
        "        self.fim += 1\n",
        "        self.elementos[self.fim] = elemento\n",
        "        self.num_elementos += 1\n",
        "    \n",
        "    def desenfileirar(self):\n",
        "        if self.fila_vazia():\n",
        "            print('Fila vazia...')\n",
        "            return\n",
        "        \n",
        "        temp = self.elementos[self.inicio]\n",
        "        self.inicio += 1\n",
        "        if self.inicio == self.tamanho - 1:\n",
        "            self.inicio = 0\n",
        "        self.num_elementos -= 1\n",
        "        return temp\n",
        "    \n",
        "    def primeiro(self):\n",
        "        if self.fila_vazia():\n",
        "            return -1\n",
        "        return self.elementos[self.inicio]\n",
        "        "
      ],
      "execution_count": null,
      "outputs": []
    },
    {
      "cell_type": "code",
      "metadata": {
        "id": "u5fVGkLvRfvZ"
      },
      "source": [
        "fila1 = Fila(10)\n"
      ],
      "execution_count": null,
      "outputs": []
    },
    {
      "cell_type": "code",
      "metadata": {
        "colab": {
          "base_uri": "https://localhost:8080/"
        },
        "id": "9ciOtlEbRfyz",
        "outputId": "39d004d3-8287-49a9-c0e1-39b5beb188ba"
      },
      "source": [
        "print(fila1.primeiro())\n"
      ],
      "execution_count": null,
      "outputs": [
        {
          "output_type": "stream",
          "text": [
            "-1\n"
          ],
          "name": "stdout"
        }
      ]
    },
    {
      "cell_type": "code",
      "metadata": {
        "colab": {
          "base_uri": "https://localhost:8080/"
        },
        "id": "xXG5epTCRf2S",
        "outputId": "38840d75-f29f-4da1-dafb-9e317d20daad"
      },
      "source": [
        "fila1.enfileirar(3)\n",
        "fila1.enfileirar(1)\n",
        "fila1.enfileirar(8)\n",
        "fila1.enfileirar(9)\n",
        "\n",
        "print(fila1.elementos)\n"
      ],
      "execution_count": null,
      "outputs": [
        {
          "output_type": "stream",
          "text": [
            "[ 3  1  8  9  0  0 10  0  0  0]\n"
          ],
          "name": "stdout"
        }
      ]
    },
    {
      "cell_type": "code",
      "metadata": {
        "colab": {
          "base_uri": "https://localhost:8080/"
        },
        "id": "2vPuDuRzRx6o",
        "outputId": "7bfa1a3d-da26-4682-ca69-c2a5c01ca235"
      },
      "source": [
        "print(fila1.primeiro())\n"
      ],
      "execution_count": null,
      "outputs": [
        {
          "output_type": "stream",
          "text": [
            "3\n"
          ],
          "name": "stdout"
        }
      ]
    },
    {
      "cell_type": "code",
      "metadata": {
        "colab": {
          "base_uri": "https://localhost:8080/"
        },
        "id": "SQePpBZgRx-C",
        "outputId": "a8791c61-b382-47c8-d657-43e2a3514e4a"
      },
      "source": [
        "fila1.enfileirar(2)\n",
        "fila1.enfileirar(8)\n",
        "fila1.enfileirar(9)\n",
        "fila1.enfileirar(2)\n",
        "fila1.enfileirar(6)\n",
        "fila1.enfileirar(5)\n",
        "fila1.enfileirar(4)\n",
        "\n",
        "print(fila1.elementos)\n"
      ],
      "execution_count": null,
      "outputs": [
        {
          "output_type": "stream",
          "text": [
            "Fila cheia...\n",
            "[3 1 8 9 2 8 9 2 6 5]\n"
          ],
          "name": "stdout"
        }
      ]
    },
    {
      "cell_type": "code",
      "metadata": {
        "colab": {
          "base_uri": "https://localhost:8080/"
        },
        "id": "_N4mI4I6Rx3E",
        "outputId": "6c9cc091-5d57-4aaf-ce54-8daeaffdeab2"
      },
      "source": [
        "fila1.desenfileirar()\n",
        "print(fila1.elementos)\n"
      ],
      "execution_count": null,
      "outputs": [
        {
          "output_type": "stream",
          "text": [
            "[3 1 8 9 2 8 9 2 6 5]\n"
          ],
          "name": "stdout"
        }
      ]
    },
    {
      "cell_type": "markdown",
      "metadata": {
        "id": "OdsuEtqgXKlC"
      },
      "source": [
        "Fila ordenada com prioridade de elementos"
      ]
    },
    {
      "cell_type": "code",
      "metadata": {
        "id": "eDGZDZ6pXPJm"
      },
      "source": [
        "import numpy as np\n",
        "\n",
        "class Fila:\n",
        "    def __init__(self, tamanho):\n",
        "        self.tamanho = tamanho\n",
        "        self.num_elementos = 0\n",
        "        self.elementos = np.empty(self.tamanho, dtype = int)\n",
        "    \n",
        "    def fila_vazia(self):\n",
        "        return self.num_elementos == 0\n",
        "    \n",
        "    def fila_cheia(self):\n",
        "        return self.num_elementos == self.tamanho\n",
        "    \n",
        "    def enfileirar(self, elemento):\n",
        "        if self.fila_cheia():\n",
        "            print('A fila já está cheia...')\n",
        "            return\n",
        "        if self.num_elementos == 0:\n",
        "            self.elementos[self.num_elementos] = elemento\n",
        "            self.num_elementos += 1\n",
        "        else:\n",
        "            x = self.num_elementos - 1\n",
        "            while x >= 0:\n",
        "                if elemento > self.elementos[x]:\n",
        "                    self.elementos[x + 1] = self.elementos[x]\n",
        "                else:\n",
        "                    break\n",
        "                x -= 1\n",
        "            self.elementos[x + 1] = elemento\n",
        "            self.num_elementos += 1\n",
        "    \n",
        "    def desenfileirar(self):\n",
        "        if self.fila_vazia():\n",
        "            print('Fila atualmente vazia.')\n",
        "            return\n",
        "        elemento = self.elementos[self.num_elementos - 1]\n",
        "        self.num_elementos -= 1\n",
        "        return elemento\n",
        "    \n",
        "    def primeiro_elemento(self):\n",
        "        if self.fila_vazia():\n",
        "            return -1\n",
        "        return self.elementos[self.num_elementos - 1]\n"
      ],
      "execution_count": null,
      "outputs": []
    },
    {
      "cell_type": "code",
      "metadata": {
        "colab": {
          "base_uri": "https://localhost:8080/"
        },
        "id": "IIVDJ2NbXSNR",
        "outputId": "0b3e4af8-8e65-4dbb-8996-e8ff759611d4"
      },
      "source": [
        "fila1 = Fila(10)\n",
        "\n",
        "print(fila1.primeiro_elemento())\n"
      ],
      "execution_count": null,
      "outputs": [
        {
          "output_type": "stream",
          "text": [
            "-1\n"
          ],
          "name": "stdout"
        }
      ]
    },
    {
      "cell_type": "code",
      "metadata": {
        "colab": {
          "base_uri": "https://localhost:8080/"
        },
        "id": "3nRzYDmCXUNP",
        "outputId": "2ac7f1f8-573f-4700-b063-a0ffa0008448"
      },
      "source": [
        "fila1.enfileirar(5)\n",
        "print(fila1.primeiro_elemento())\n"
      ],
      "execution_count": null,
      "outputs": [
        {
          "output_type": "stream",
          "text": [
            "5\n"
          ],
          "name": "stdout"
        }
      ]
    },
    {
      "cell_type": "code",
      "metadata": {
        "colab": {
          "base_uri": "https://localhost:8080/"
        },
        "id": "6nrY-bZ4Xa26",
        "outputId": "f251249b-8a7a-4f47-89d5-2bbfe390ed02"
      },
      "source": [
        "fila1.enfileirar(11) # Será adicionado ao final da fila\n",
        "print(fila1.primeiro_elemento())\n"
      ],
      "execution_count": null,
      "outputs": [
        {
          "output_type": "stream",
          "text": [
            "5\n"
          ],
          "name": "stdout"
        }
      ]
    },
    {
      "cell_type": "code",
      "metadata": {
        "colab": {
          "base_uri": "https://localhost:8080/"
        },
        "id": "91f2XELBXkTp",
        "outputId": "339f7366-3912-409e-dac2-b8da46ce302b"
      },
      "source": [
        "fila1.desenfileirar() # Remove o primeiro elemento da fila\n",
        "print(fila1.primeiro_elemento())\n"
      ],
      "execution_count": null,
      "outputs": [
        {
          "output_type": "stream",
          "text": [
            "11\n"
          ],
          "name": "stdout"
        }
      ]
    },
    {
      "cell_type": "code",
      "metadata": {
        "id": "TDamPANqYD1b"
      },
      "source": [
        "fila1.enfileirar(1)\n",
        "fila1.enfileirar(12)\n",
        "fila1.enfileirar(7)\n",
        "fila1.enfileirar(99)\n",
        "fila1.enfileirar(11)\n",
        "fila1.enfileirar(22)\n"
      ],
      "execution_count": null,
      "outputs": []
    },
    {
      "cell_type": "code",
      "metadata": {
        "colab": {
          "base_uri": "https://localhost:8080/"
        },
        "id": "AQTklyHCXkXA",
        "outputId": "ba555280-ca1f-402c-d802-f8cef8a4db47"
      },
      "source": [
        "print(fila1.elementos)\n"
      ],
      "execution_count": null,
      "outputs": [
        {
          "output_type": "stream",
          "text": [
            "[99 22 12 11 11  7  1  0  0  0]\n"
          ],
          "name": "stdout"
        }
      ]
    },
    {
      "cell_type": "markdown",
      "metadata": {
        "id": "bsC01nUwliem"
      },
      "source": [
        "Gerenciamento de filas via nodes"
      ]
    },
    {
      "cell_type": "code",
      "metadata": {
        "id": "qNTJD_M_lh1H"
      },
      "source": [
        "from typing import Any\n",
        "\n",
        "EMPTY_NODE_VALUE = '__EMPTY_NODE_VALUE__'\n",
        "\n",
        "class Erro(Exception):\n",
        "  ...\n",
        "\n",
        "class Node:\n",
        "  def __init__(self, value: Any) -> None:\n",
        "    self.value = value\n",
        "    self.next = Node\n",
        "  \n",
        "  def __repr__(self) -> str:\n",
        "    return f'{self.value}'\n",
        "\n",
        "  def __bool__(self) -> bool:\n",
        "    return bool(self.value != EMPTY_NODE_VALUE)\n",
        "\n",
        "class Queue:\n",
        "  def __init__(self) -> None:\n",
        "    self.first: Node = Node(EMPTY_NODE_VALUE)\n",
        "    self.last: Node = Node(EMPTY_NODE_VALUE)\n",
        "    self._count = 0\n",
        "\n",
        "  def enqueue(self, node_value: Any) -> None:\n",
        "    novo_node = Node(node_value)\n",
        "\n",
        "    if not self.first:\n",
        "      self.first = novo_node\n",
        "    if not self.last:\n",
        "      self.last = novo_node\n",
        "    else:\n",
        "      self.last.next = novo_node\n",
        "      self.last = novo_node\n",
        "    self._count += 1\n",
        "  \n",
        "  def pop(self) -> Node: \n",
        "    if not self.first:\n",
        "      raise Erro('Sem elementos na fila')\n",
        "    first = self.first\n",
        "\n",
        "    if hasattr(self.first, 'next'):\n",
        "      self.first = self.first.next\n",
        "    else:\n",
        "      self.first = Node(EMPTY_NODE_VALUE)\n",
        "    self._count += 1\n",
        "    return first\n",
        "  \n",
        "  def peek(self) -> Node:\n",
        "    return self.first\n",
        "  \n",
        "  def __len__(self) -> int:\n",
        "    return - self._count\n",
        "  \n",
        "  def __bool__(self) -> bool:\n",
        "    return bool(self._count)\n",
        "\n",
        "  def __iter__(self) -> Queue:\n",
        "    return self\n",
        "\n",
        "  def __next__(self) -> Any:\n",
        "    try:\n",
        "      next_value = self.pop()\n",
        "      return next_value\n",
        "    except Erro:\n",
        "      raise StopIteration\n",
        "\n",
        "fila1 = Queue()\n",
        "fila1.enqueue('Maria')\n",
        "fila1.enqueue('Carlos')\n",
        "fila1.pop()\n"
      ],
      "execution_count": null,
      "outputs": []
    },
    {
      "cell_type": "markdown",
      "metadata": {
        "id": "aBrHfy1ilm5h"
      },
      "source": [
        "Gerenciamento de filas via deque"
      ]
    },
    {
      "cell_type": "code",
      "metadata": {
        "id": "FCoz89-Plh3R",
        "colab": {
          "base_uri": "https://localhost:8080/"
        },
        "outputId": "6f95d5bf-a5de-4568-9aa5-f9762fc22023"
      },
      "source": [
        "from typing import Deque, Any\n",
        "from collections import deque\n",
        "\n",
        "fila2: Deque[Any] = deque()\n",
        "\n",
        "fila2.append('Ana')\n",
        "fila2.append('Carlos')\n",
        "fila2.append('Fernando')\n",
        "fila2.append('Maria')\n",
        "\n",
        "for pessoas in fila2:\n",
        "  print(pessoas)\n",
        "\n",
        "fila2.popleft() # Removerá o elemento de índice 0\n",
        "\n",
        "for pessoas in fila2:\n",
        "  print(pessoas)\n",
        "\n",
        "# Deque trabalha com índices, sendo assim, ao tentar remover um lemento que não\n",
        "# consta no índice 0, seré gerado um erro.\n"
      ],
      "execution_count": null,
      "outputs": [
        {
          "output_type": "stream",
          "text": [
            "Ana\n",
            "Carlos\n",
            "Fernando\n",
            "Maria\n",
            "Carlos\n",
            "Fernando\n",
            "Maria\n"
          ],
          "name": "stdout"
        }
      ]
    },
    {
      "cell_type": "markdown",
      "metadata": {
        "id": "n6kFGHymMsR2"
      },
      "source": [
        "## Docstrings"
      ]
    },
    {
      "cell_type": "markdown",
      "metadata": {
        "id": "lgTM3REIMvdA"
      },
      "source": [
        "Docstrings de bibliotecas/módulos de terceiros"
      ]
    },
    {
      "cell_type": "code",
      "metadata": {
        "id": "S-0UwBV1NFsw",
        "colab": {
          "base_uri": "https://localhost:8080/"
        },
        "outputId": "94eed625-41e0-4477-f8a6-a6d202696fb3"
      },
      "source": [
        "import pickle\n",
        "\n",
        "print(pickle.__doc__)\n"
      ],
      "execution_count": null,
      "outputs": [
        {
          "output_type": "stream",
          "text": [
            "Create portable serialized representations of Python objects.\n",
            "\n",
            "See module copyreg for a mechanism for registering custom picklers.\n",
            "See module pickletools source for extensive comments.\n",
            "\n",
            "Classes:\n",
            "\n",
            "    Pickler\n",
            "    Unpickler\n",
            "\n",
            "Functions:\n",
            "\n",
            "    dump(object, file)\n",
            "    dumps(object) -> string\n",
            "    load(file) -> object\n",
            "    loads(string) -> object\n",
            "\n",
            "Misc variables:\n",
            "\n",
            "    __version__\n",
            "    format_version\n",
            "    compatible_formats\n",
            "\n",
            "\n"
          ],
          "name": "stdout"
        }
      ]
    },
    {
      "cell_type": "markdown",
      "metadata": {
        "id": "2q_wpRp5NJ35"
      },
      "source": [
        "Criando uma docstring personalizada"
      ]
    },
    {
      "cell_type": "code",
      "metadata": {
        "id": "ZIlYEJGzMw5r",
        "colab": {
          "base_uri": "https://localhost:8080/"
        },
        "outputId": "8bc872cb-dce3-46e4-ea68-c46e41afbf3a"
      },
      "source": [
        "# módulo soma.py\n",
        "\n",
        "def soma(n1, n2):\n",
        "  ''' Esta é uma simples função de soma de dois números,\n",
        "  ao chamar a função, dois números devem ser obrigatoriamente\n",
        "  repassados para a função, a mesma irá retornar o valor\n",
        "  da soma destes números, em formato float.'''\n",
        "\n",
        "  return float(n1 + n2)\n",
        "\n",
        "\n",
        "soma_numeros = soma(7, 14)\n",
        "\n",
        "print(f'O resultado da soma é: {soma_numeros}')\n",
        "# retornará o resultado da soma\n",
        "\n",
        "print(f'Documentação do módulo soma: \\n {soma.__doc__}')\n",
        "# retornará a \"documentação\" criada para o módulo, que nesse caso\n",
        "# se encontra dentro da própria função soma( ).\n"
      ],
      "execution_count": null,
      "outputs": [
        {
          "output_type": "stream",
          "text": [
            "O resultado da soma é: 21.0\n",
            "Documentação do módulo soma: \n",
            "  Esta é uma simples função de soma de dois números,\n",
            "  ao chamar a função, dois números devem ser obrigatoriamente\n",
            "  repassados para a função, a mesma irá retornar o valor\n",
            "  da soma destes números, em formato float.\n"
          ],
          "name": "stdout"
        }
      ]
    },
    {
      "cell_type": "markdown",
      "metadata": {
        "id": "-aYTzPDuIec7"
      },
      "source": [
        "## Citações"
      ]
    },
    {
      "cell_type": "markdown",
      "metadata": {
        "id": "h-jIOt2grMA5"
      },
      "source": [
        "Citações dentro de strings"
      ]
    },
    {
      "cell_type": "code",
      "metadata": {
        "id": "fk4H5vK5D-eD",
        "colab": {
          "base_uri": "https://localhost:8080/"
        },
        "outputId": "319858a4-bc7a-44e8-8da6-6ae41e655ac1"
      },
      "source": [
        "msg1 = 'Olá, seja bem-vindo(a)!!!'\n",
        "\n",
        "msg2 = \"Marca d'água\"\n",
        "\n",
        "print(msg1)\n",
        "print(msg2)\n"
      ],
      "execution_count": null,
      "outputs": [
        {
          "output_type": "stream",
          "text": [
            "Olá, seja bem-vindo(a)!!!\n",
            "Marca d'água\n"
          ],
          "name": "stdout"
        }
      ]
    },
    {
      "cell_type": "code",
      "metadata": {
        "id": "Oh8rDtSEq2si",
        "colab": {
          "base_uri": "https://localhost:8080/"
        },
        "outputId": "2b243db6-68ca-4d90-a2bb-38cbcaa0155f"
      },
      "source": [
        "msg3 = 'Ele disse, \\\"Python é a melhor linguagem de programação!!!\" '\n",
        "# intercalando aspas simples e duplas para contornar a sintaxe\n",
        "\n",
        "msg4 = 'Ele disse, \\'Python é a melhor linguagem de programação!!!\\''\n",
        "# usando de barra \\ para permitir o uso de apenas um tipo de aspas\n",
        "\n",
        "msg5 = \"Ela disse, \\\"Não encontrei a marca d'água neste objeto...\\\" \"\n",
        "# usando de aspas duplas e simples para contornar o apóstrofo\n",
        "\n",
        "print(msg3)\n",
        "print(msg4)\n",
        "print(msg5)\n"
      ],
      "execution_count": null,
      "outputs": [
        {
          "output_type": "stream",
          "text": [
            "Ele disse, \"Python é a melhor linguagem de programação!!!\" \n",
            "Ele disse, 'Python é a melhor linguagem de programação!!!'\n",
            "Ela disse, \"Não encontrei a marca d'água neste objeto...\" \n"
          ],
          "name": "stdout"
        }
      ]
    },
    {
      "cell_type": "markdown",
      "metadata": {
        "id": "AW8qIs0dND3L"
      },
      "source": [
        "## Built-ins"
      ]
    },
    {
      "cell_type": "markdown",
      "metadata": {
        "id": "rqpyXwM5NaDB"
      },
      "source": [
        "Métodos genéricos inclusos nos built-ins"
      ]
    },
    {
      "cell_type": "markdown",
      "metadata": {
        "id": "uDdiu_B7J7Ee"
      },
      "source": [
        "abs( )"
      ]
    },
    {
      "cell_type": "code",
      "metadata": {
        "id": "J_oSVI5oqQMa",
        "colab": {
          "base_uri": "https://localhost:8080/"
        },
        "outputId": "ae476abd-1de5-4a01-8db6-9ae46e4d487c"
      },
      "source": [
        "# Valor absoluto de um número\n",
        "\n",
        "num_negativo = -276\n",
        "\n",
        "print(num_negativo)\n",
        "\n",
        "num_absoluto = abs(num_negativo)\n",
        "\n",
        "print(num_absoluto)\n"
      ],
      "execution_count": null,
      "outputs": [
        {
          "output_type": "stream",
          "text": [
            "-276\n",
            "276\n"
          ],
          "name": "stdout"
        }
      ]
    },
    {
      "cell_type": "code",
      "metadata": {
        "id": "UZXPGgjBJ6II",
        "colab": {
          "base_uri": "https://localhost:8080/"
        },
        "outputId": "f0793c2e-c82d-4315-a903-34ba00828a5d"
      },
      "source": [
        "# Conversão direta de um número para seu estado matemático absoluto\n",
        "\n",
        "num = abs(-276)\n",
        "\n",
        "print(num)\n"
      ],
      "execution_count": null,
      "outputs": [
        {
          "output_type": "stream",
          "text": [
            "276\n"
          ],
          "name": "stdout"
        }
      ]
    },
    {
      "cell_type": "markdown",
      "metadata": {
        "id": "kRHpoE2WKkgQ"
      },
      "source": [
        "ascii( )"
      ]
    },
    {
      "cell_type": "code",
      "metadata": {
        "id": "2fUiQLy6J6Kg",
        "colab": {
          "base_uri": "https://localhost:8080/"
        },
        "outputId": "52e0a497-0be9-4f64-e8e4-4033f9170599"
      },
      "source": [
        "nome = 'Fernando'\n",
        "\n",
        "nome_ascii = ascii(nome)\n",
        "\n",
        "print(nome)\n",
        "print(nome_ascii)\n"
      ],
      "execution_count": null,
      "outputs": [
        {
          "output_type": "stream",
          "text": [
            "Fernando\n",
            "'Fernando'\n"
          ],
          "name": "stdout"
        }
      ]
    },
    {
      "cell_type": "code",
      "metadata": {
        "id": "eh9dNKJEJ6Mt",
        "colab": {
          "base_uri": "https://localhost:8080/"
        },
        "outputId": "99d85aab-1d22-44e8-cce9-f1af419d832c"
      },
      "source": [
        "# Retornará o código de caractere especial no lugar do símbolo, evitando erros\n",
        "\n",
        "nome = '网络Fernando'\n",
        "\n",
        "nome_ascii = ascii(nome)\n",
        "\n",
        "print(nome)\n",
        "print(nome_ascii)\n"
      ],
      "execution_count": null,
      "outputs": [
        {
          "output_type": "stream",
          "text": [
            "网络Fernando\n",
            "'\\u7f51\\u7edcFernando'\n"
          ],
          "name": "stdout"
        }
      ]
    },
    {
      "cell_type": "code",
      "metadata": {
        "id": "a8nTtbF_J6PF"
      },
      "source": [
        "# -*- coding: utf-8 -*-\n",
        "\n",
        "# Declarado na primeira linha do código \"força\" o interpretador a reconhecer\n",
        "# caracteres especiais evitando exceções ou erros de sintaxe.\n"
      ],
      "execution_count": null,
      "outputs": []
    },
    {
      "cell_type": "markdown",
      "metadata": {
        "id": "V5AaH8JOPcdT"
      },
      "source": [
        "bytes( )"
      ]
    },
    {
      "cell_type": "code",
      "metadata": {
        "id": "zAkedIXzJ6Rd",
        "colab": {
          "base_uri": "https://localhost:8080/"
        },
        "outputId": "f73f9465-1557-4bb1-d41a-be38bffddf9a"
      },
      "source": [
        "# int para bytes\n",
        "\n",
        "tamanho = 8\n",
        "tam_bytes = bytes(tamanho)\n",
        "\n",
        "print(tam_bytes)\n",
        "print(type(tam_bytes))\n"
      ],
      "execution_count": null,
      "outputs": [
        {
          "output_type": "stream",
          "text": [
            "b'\\x00\\x00\\x00\\x00\\x00\\x00\\x00\\x00'\n",
            "<class 'bytes'>\n"
          ],
          "name": "stdout"
        }
      ]
    },
    {
      "cell_type": "code",
      "metadata": {
        "id": "AsO0FyHWJ6Tv",
        "colab": {
          "base_uri": "https://localhost:8080/"
        },
        "outputId": "28be22d4-beb3-4b83-a25d-a5a33080ac66"
      },
      "source": [
        "# str para bytes\n",
        "\n",
        "nome = 'Fernando'\n",
        "tam_bytes = bytes(nome, 'utf-8')\n",
        "\n",
        "print(tam_bytes)\n",
        "print(type(tam_bytes))\n"
      ],
      "execution_count": null,
      "outputs": [
        {
          "output_type": "stream",
          "text": [
            "b'Fernando'\n",
            "<class 'bytes'>\n"
          ],
          "name": "stdout"
        }
      ]
    },
    {
      "cell_type": "code",
      "metadata": {
        "id": "s5tvQ5fcJ6V9",
        "colab": {
          "base_uri": "https://localhost:8080/"
        },
        "outputId": "46035c96-73d6-4c26-c69c-433314057a9a"
      },
      "source": [
        "# list para bytes\n",
        "\n",
        "pares = [2, 4, 6, 8, 10]\n",
        "tbytes = bytes(pares)\n",
        "\n",
        "print(pares)\n",
        "print(type(pares))\n",
        "\n",
        "print(tbytes)\n",
        "print(type(tbytes))\n"
      ],
      "execution_count": null,
      "outputs": [
        {
          "output_type": "stream",
          "text": [
            "[2, 4, 6, 8, 10]\n",
            "<class 'list'>\n",
            "b'\\x02\\x04\\x06\\x08\\n'\n",
            "<class 'bytes'>\n"
          ],
          "name": "stdout"
        }
      ]
    },
    {
      "cell_type": "code",
      "metadata": {
        "id": "DQWN4-xOqQPM",
        "colab": {
          "base_uri": "https://localhost:8080/"
        },
        "outputId": "13a35073-89a0-470a-e30c-bf94f765fe8a"
      },
      "source": [
        "# bytearray\n",
        "\n",
        "tamanho = 8\n",
        "barr = bytearray(tamanho)\n",
        "# Retornará uma array de 8 bytes\n",
        "\n",
        "print(tamanho)\n",
        "print(barr)\n"
      ],
      "execution_count": null,
      "outputs": [
        {
          "output_type": "stream",
          "text": [
            "8\n",
            "bytearray(b'\\x00\\x00\\x00\\x00\\x00\\x00\\x00\\x00')\n"
          ],
          "name": "stdout"
        }
      ]
    },
    {
      "cell_type": "markdown",
      "metadata": {
        "id": "cDal82kYpyHM"
      },
      "source": [
        "callable( )"
      ]
    },
    {
      "cell_type": "code",
      "metadata": {
        "id": "5za_FRQ0RaQR",
        "colab": {
          "base_uri": "https://localhost:8080/"
        },
        "outputId": "f5485ae6-e7e8-417a-a6d3-9363a69db3a2"
      },
      "source": [
        "def soma(n1, n2):\n",
        "  return n1 + n2\n",
        "\n",
        "print(callable(soma))\n",
        "# Retorna True caso a função esteja declarada corretamente, pronta para usp\n"
      ],
      "execution_count": null,
      "outputs": [
        {
          "output_type": "stream",
          "text": [
            "True\n"
          ],
          "name": "stdout"
        }
      ]
    },
    {
      "cell_type": "markdown",
      "metadata": {
        "id": "Yf3HkagzqzW_"
      },
      "source": [
        "eval( )"
      ]
    },
    {
      "cell_type": "code",
      "metadata": {
        "id": "MBJcX3PbRaVO",
        "colab": {
          "base_uri": "https://localhost:8080/"
        },
        "outputId": "8cf4ca82-cf24-4f95-8128-23379e6ba2f9"
      },
      "source": [
        "# Avalia uma expressão fora de contexto, normalmente em formato de string,\n",
        "# e caso essa expressão seja válida executa a expressão mesmo fora de contexto.\n",
        "\n",
        "variavel = 'print(99)'\n",
        "# Em forma de string existe uma função com parâmetro\n",
        "\n",
        "print(variavel)\n",
        "\n",
        "print(eval(variavel))\n",
        "# Executará a função identificada na string de variavel\n"
      ],
      "execution_count": null,
      "outputs": [
        {
          "output_type": "stream",
          "text": [
            "print(99)\n",
            "99\n",
            "None\n"
          ],
          "name": "stdout"
        }
      ]
    },
    {
      "cell_type": "code",
      "metadata": {
        "id": "1uj1NhMkrL2E",
        "colab": {
          "base_uri": "https://localhost:8080/"
        },
        "outputId": "05735b4b-272c-4284-fae4-5b4dc296cab7"
      },
      "source": [
        "from math import *\n",
        "\n",
        "opr = {'raiz_quadrada': sqrt, 'potenciacao': pow}\n",
        "\n",
        "print(eval('dir()', opr))\n",
        "# retornará as expressões associadas a variável opr\n",
        "\n",
        "print(eval('raiz_quadrada(81)', opr))\n",
        "# Retornará o resultado da expressão em si\n"
      ],
      "execution_count": null,
      "outputs": [
        {
          "output_type": "stream",
          "text": [
            "['__builtins__', 'potenciacao', 'raiz_quadrada']\n",
            "9.0\n"
          ],
          "name": "stdout"
        }
      ]
    },
    {
      "cell_type": "code",
      "metadata": {
        "id": "JJf1WLSjrL5J",
        "colab": {
          "base_uri": "https://localhost:8080/"
        },
        "outputId": "591990f7-67e9-4d8b-b492-7d57a85f0762"
      },
      "source": [
        "from math import *\n",
        "\n",
        "opr = {'raiz_quadrada': sqrt, 'potenciacao': pow}\n",
        "eval1 = eval('raiz_quadrada(81)', opr)\n",
        "# Identifica e executa a expressão, atribuindo o dado resultante para si\n",
        "\n",
        "print(f'O resultado da operação é: {eval1}')\n",
        "# Apenas instancia a variável eval1\n"
      ],
      "execution_count": null,
      "outputs": [
        {
          "output_type": "stream",
          "text": [
            "O resultado da operação é: 9.0\n"
          ],
          "name": "stdout"
        }
      ]
    },
    {
      "cell_type": "markdown",
      "metadata": {
        "id": "Ynd1lm4R0hLI"
      },
      "source": [
        "exec( )"
      ]
    },
    {
      "cell_type": "code",
      "metadata": {
        "id": "XvCaLnUMrL7L",
        "colab": {
          "base_uri": "https://localhost:8080/"
        },
        "outputId": "a783c0ee-2437-496a-bd9b-2aca154ad27e"
      },
      "source": [
        "# Funcionalidade parecida com o eval( ), porém suportando duas ou mais expressões na mesma string\n",
        "\n",
        "programa = 'n1 = 5\\nn2 = 10\\nprint(\"Resultado da soma:\", n1 + n2)'\n",
        "exec(programa)\n",
        "\n",
        "# Cada linha demarcada por \\n atua como separador para cada elemento e operação\n",
        "\n",
        "# Seria o mesmo que:\n",
        "# programa = 'n1 = 5,\n",
        "#             n2 = 10,\n",
        "#             print(\"Resultado da soma:\", n1 + n2)'\n",
        "# mas essa forma não é permitida.\n"
      ],
      "execution_count": null,
      "outputs": [
        {
          "output_type": "stream",
          "text": [
            "Resultado da soma: 15\n"
          ],
          "name": "stdout"
        }
      ]
    },
    {
      "cell_type": "markdown",
      "metadata": {
        "id": "O1UVmA8l3fwM"
      },
      "source": [
        "format( )"
      ]
    },
    {
      "cell_type": "code",
      "metadata": {
        "id": "idgHGluY3e1m",
        "colab": {
          "base_uri": "https://localhost:8080/"
        },
        "outputId": "dd9e3213-61e4-4c2c-801e-41fc494c0dcb"
      },
      "source": [
        "# Altera o identificador do tipo de dado, mas sem alterar o tipo do mesmo de fato\n",
        "\n",
        "num1 = format(128, 'o') # octal\n",
        "num2 = format(1987, 'x') # hexadecimal\n",
        "\n",
        "print(num1)\n",
        "print(num2)\n",
        "# Retornará o dado/valor em seu novo formato identificável\n",
        "\n",
        "print(type(num1))\n",
        "# Retorna o tipo de dado verdadeiro, basicamente string em função do marcador\n"
      ],
      "execution_count": null,
      "outputs": [
        {
          "output_type": "stream",
          "text": [
            "200\n",
            "7c3\n",
            "<class 'str'>\n"
          ],
          "name": "stdout"
        }
      ]
    },
    {
      "cell_type": "code",
      "metadata": {
        "id": "eRFg0lvI3e4X"
      },
      "source": [
        "# Marcadores e seus respectivos tipos de dados\n",
        "\n",
        "'b' - binário\n",
        "'c' - unicode\n",
        "'d' - decimal\n",
        "'e' - número científico\n",
        "'g' - geral\n",
        "'o' - octal\n",
        "'x' - hexadecimal\n",
        "'n' - número genérico\n",
        "'%' - percentual\n"
      ],
      "execution_count": null,
      "outputs": []
    },
    {
      "cell_type": "markdown",
      "metadata": {
        "id": "0WwWloNh_Qe_"
      },
      "source": [
        "id( )"
      ]
    },
    {
      "cell_type": "code",
      "metadata": {
        "id": "LpZUC0U03e7l",
        "colab": {
          "base_uri": "https://localhost:8080/"
        },
        "outputId": "45bb46f6-b3b1-4a66-9028-e7bb7cad0a23"
      },
      "source": [
        "# Todos dados possuem um identificador interno, caso seja necessário,\n",
        "# é possível descobrir o número identificador desse objeto\n",
        "\n",
        "carros = ['Astra', 'Golf', 'Vectra']\n",
        "\n",
        "ids = id(carros)\n",
        "\n",
        "print(ids)\n"
      ],
      "execution_count": null,
      "outputs": [
        {
          "output_type": "stream",
          "text": [
            "140596099803408\n"
          ],
          "name": "stdout"
        }
      ]
    },
    {
      "cell_type": "markdown",
      "metadata": {
        "id": "YSXi6wYL_xCr"
      },
      "source": [
        "iter( )"
      ]
    },
    {
      "cell_type": "code",
      "metadata": {
        "id": "38lEonxB3fAc",
        "colab": {
          "base_uri": "https://localhost:8080/"
        },
        "outputId": "1dde641a-12bc-4f25-f3e0-7b3dd0a298f1"
      },
      "source": [
        "# Útil para iterar isoladamente desmembrando elementos de uma tupla/lista/dicionário\n",
        "\n",
        "cidades = iter(['Curitiba', 'Brasília', 'Florianópolis'])\n",
        "\n",
        "cidade1 = next(cidades)\n",
        "# Retornará o primeiro elemento isoladamente\n",
        "print(cidade1)\n",
        "\n",
        "cidade2 = next(cidades)\n",
        "# next() retornará o segundo elemento, e assim por diante, até o número total de elementos\n",
        "print(cidade2)\n",
        "\n",
        "cidade3 = next(cidades)\n",
        "print(cidade3)\n"
      ],
      "execution_count": null,
      "outputs": [
        {
          "output_type": "stream",
          "text": [
            "Curitiba\n",
            "Brasília\n",
            "Florianópolis\n"
          ],
          "name": "stdout"
        }
      ]
    },
    {
      "cell_type": "markdown",
      "metadata": {
        "id": "JaLgatl3BBm4"
      },
      "source": [
        "open( )"
      ]
    },
    {
      "cell_type": "code",
      "metadata": {
        "id": "v7jjHIby3fCl"
      },
      "source": [
        "# Abre um arquivo, possibilitando manipular o mesmo diretamente via código\n",
        "\n",
        "arquivo1 = open('pareceres.txt', 'r')\n",
        "\n",
        "print(arquivo1.read())\n"
      ],
      "execution_count": null,
      "outputs": []
    },
    {
      "cell_type": "code",
      "metadata": {
        "id": "rquJfdqm3fFB"
      },
      "source": [
        "# Modos de leitura de arquivo:\n",
        "\n",
        "'r' - apenas leitura\n",
        "'w' - leitura e escrita\n",
        "'t' - abre um arquivo em formato apenas texto\n",
        "'b' - abre um arquivo em seu modo binário\n",
        "'x' - cria no diretório um arquivo\n"
      ],
      "execution_count": null,
      "outputs": []
    },
    {
      "cell_type": "markdown",
      "metadata": {
        "id": "9I_6ogQICs2F"
      },
      "source": [
        "slice( )"
      ]
    },
    {
      "cell_type": "code",
      "metadata": {
        "id": "19um8kWRrL9x",
        "colab": {
          "base_uri": "https://localhost:8080/"
        },
        "outputId": "7404507a-6e32-4cbf-f1c8-ecf06b6478bd"
      },
      "source": [
        "# Fatia e extrai informação dos elementos de uma tupla, a contar do número\n",
        "# de índice 0 até o número especificado.\n",
        "\n",
        "nomes = ('Ana', 'Carlos', 'Daniela', 'Elis', 'Fernando', 'Mariana', 'Paulo')\n",
        "primeiros3 = slice(3)\n",
        "# A variável servirá apenas como parâmetro para leitura dos elementos instanciados\n",
        "\n",
        "print(nomes[primeiros3])\n"
      ],
      "execution_count": null,
      "outputs": [
        {
          "output_type": "stream",
          "text": [
            "('Ana', 'Carlos', 'Daniela')\n"
          ],
          "name": "stdout"
        }
      ]
    },
    {
      "cell_type": "markdown",
      "metadata": {
        "id": "pDUA32o1lSCR"
      },
      "source": [
        "Comparador orientado a objetos e com funções embutidas"
      ]
    },
    {
      "cell_type": "code",
      "metadata": {
        "colab": {
          "base_uri": "https://localhost:8080/"
        },
        "id": "-eOr4G5lYRbc",
        "outputId": "5fbbebae-0d91-4088-9523-7d4c7327ac5d"
      },
      "source": [
        "class Comparador(object):\n",
        "    def __init__(self, numero):\n",
        "        self.numero = numero\n",
        "    def __eq__(self, num2):\n",
        "        return self.numero == num2.numero\n",
        " \n",
        "a = Comparador(5)\n",
        "b = Comparador(5)\n",
        "\n",
        "print(a == b)\n",
        "\n",
        "print(Comparador(6) == a)\n",
        "print(Comparador(6) == b)\n",
        "\n",
        "c = Comparador(8)\n",
        "\n",
        "print(a == c)\n",
        "print(a != c)\n",
        "\n",
        "# __ne__() diferente de\n",
        "# __lt__() menor que\n",
        "# __le__() menor ou igual a\n",
        "# __gt__() maior que\n",
        "# __ge__() maior ou igual a\n"
      ],
      "execution_count": null,
      "outputs": [
        {
          "output_type": "stream",
          "text": [
            "True\n",
            "False\n",
            "False\n",
            "False\n",
            "True\n"
          ],
          "name": "stdout"
        }
      ]
    },
    {
      "cell_type": "markdown",
      "metadata": {
        "id": "xbh7zF7zyjbe"
      },
      "source": [
        "## Contêineres de Dados"
      ]
    },
    {
      "cell_type": "markdown",
      "metadata": {
        "id": "2tQ2F1kH1bUh"
      },
      "source": [
        "Desempacotando e iterando sobre contêineres"
      ]
    },
    {
      "cell_type": "code",
      "metadata": {
        "id": "6tiRgX8Zyhkf",
        "colab": {
          "base_uri": "https://localhost:8080/"
        },
        "outputId": "7f5d3b16-42ea-457b-835b-15cb21ccdf91"
      },
      "source": [
        "# Entende-se por contêiner toda variável/objeto que guarda múltiplos\n",
        "# dados atribuídos para si.\n",
        "\n",
        "numeros = (1, 2, 3, 4, 5, 6, 7, 8, 9, 10)\n",
        "\n",
        "*primeiros, ultimo = numeros\n",
        "\n",
        "print(f'Os primeiros números são: {primeiros}')\n",
        "print(f'O último número é: {ultimo}')\n"
      ],
      "execution_count": null,
      "outputs": [
        {
          "output_type": "stream",
          "text": [
            "Os primeiros números são: [1, 2, 3, 4, 5, 6, 7, 8, 9]\n",
            "O último número é: 10\n"
          ],
          "name": "stdout"
        }
      ]
    },
    {
      "cell_type": "code",
      "metadata": {
        "id": "IDqH-3xdrMCO",
        "colab": {
          "base_uri": "https://localhost:8080/"
        },
        "outputId": "22113d9d-ba1b-4e35-f22b-cfa40a28ea28"
      },
      "source": [
        "numeros = (1, 2, 3, 4, 5, 6, 7, 8, 9, 10)\n",
        "\n",
        "primeiro, *ultimos = numeros\n",
        "\n",
        "print(f'O primeiro número é: {primeiro}')\n",
        "print(f'Os demais números são: {ultimos}')\n"
      ],
      "execution_count": null,
      "outputs": [
        {
          "output_type": "stream",
          "text": [
            "O primeiro número é: 1\n",
            "Os demais números são: [2, 3, 4, 5, 6, 7, 8, 9, 10]\n"
          ],
          "name": "stdout"
        }
      ]
    },
    {
      "cell_type": "code",
      "metadata": {
        "id": "I7v9Bj1z1j3u",
        "colab": {
          "base_uri": "https://localhost:8080/"
        },
        "outputId": "080fe223-200e-40f1-c5d4-bd10ce4d4236"
      },
      "source": [
        "numeros = (1, 2, 3, 4, 5, 6, 7, 8, 9, 10)\n",
        "\n",
        "primeiro, *intermediarios, ultimo = numeros\n",
        "\n",
        "print(f'O primeiro números é: {primeiro}')\n",
        "print(f'Os números intermediários são: {intermediarios}')\n",
        "print(f'O último número é: {ultimo}')\n"
      ],
      "execution_count": null,
      "outputs": [
        {
          "output_type": "stream",
          "text": [
            "O primeiro números é: 1\n",
            "Os números intermediários são: [2, 3, 4, 5, 6, 7, 8, 9]\n",
            "O último número é: 10\n"
          ],
          "name": "stdout"
        }
      ]
    },
    {
      "cell_type": "code",
      "metadata": {
        "id": "aljOxgEW1j7S",
        "colab": {
          "base_uri": "https://localhost:8080/"
        },
        "outputId": "1d6155a8-bf45-4a13-91bf-407302e0732b"
      },
      "source": [
        "nomes = ['Ana Luiza', 'Carolina', 'Daiane', 'Franciele', 'Maria']\n",
        "\n",
        "primeiro, *intermediarios, ultimo = nomes\n",
        "\n",
        "print(f'A lista de chamada começa com: {primeiro}')\n",
        "print(f'E termina com: {ultimo}')\n"
      ],
      "execution_count": null,
      "outputs": [
        {
          "output_type": "stream",
          "text": [
            "A lista de chamada começa com: Ana Luiza\n",
            "E termina com: Maria\n"
          ],
          "name": "stdout"
        }
      ]
    },
    {
      "cell_type": "markdown",
      "metadata": {
        "id": "HP2h0RmP1g0o"
      },
      "source": [
        "Migrando dados de contêineres"
      ]
    },
    {
      "cell_type": "code",
      "metadata": {
        "id": "33ZJxd161krY",
        "colab": {
          "base_uri": "https://localhost:8080/"
        },
        "outputId": "14779c8c-80c6-4751-bc68-d5fd286b5528"
      },
      "source": [
        "tupla = (1, 2, 3)\n",
        "conjunto = {4, 5, 6}\n",
        "\n",
        "lista = [*tupla, *conjunto]\n",
        "# Um marcador \" * \" pois estamos trabalhando com elementos independentes\n",
        "\n",
        "print(lista)\n"
      ],
      "execution_count": null,
      "outputs": [
        {
          "output_type": "stream",
          "text": [
            "[1, 2, 3, 4, 5, 6]\n"
          ],
          "name": "stdout"
        }
      ]
    },
    {
      "cell_type": "code",
      "metadata": {
        "id": "Gsosh6eQ13mn",
        "colab": {
          "base_uri": "https://localhost:8080/"
        },
        "outputId": "7ea0e919-84a6-4059-ee89-a2107918c259"
      },
      "source": [
        "dicionario1 = {'one': 1, 'two': 2}\n",
        "dicionario2 = {'three': 3, 'four': 4}\n",
        "\n",
        "dicionario3 = {**dicionario1, **dicionario2}\n",
        "# Marcador \" ** \" pois em dicionários estamos trabalhando com chaves : valores\n",
        "\n",
        "print(dicionario3)\n"
      ],
      "execution_count": null,
      "outputs": [
        {
          "output_type": "stream",
          "text": [
            "{'one': 1, 'two': 2, 'three': 3, 'four': 4}\n"
          ],
          "name": "stdout"
        }
      ]
    },
    {
      "cell_type": "markdown",
      "metadata": {
        "id": "k2d5ByExqhiR"
      },
      "source": [
        "Desempacotando elementos de um conteiner de dados aninhado"
      ]
    },
    {
      "cell_type": "code",
      "metadata": {
        "colab": {
          "base_uri": "https://localhost:8080/"
        },
        "id": "Bmgk4ymPq55Q",
        "outputId": "03f4263a-58fd-4d96-887b-a291bab4016e"
      },
      "source": [
        "elementos = [('a', 'b', 'c'), ('x', 'y', 'z'), ('1', '2', '3')]\n",
        "\n",
        "for i in elementos:\n",
        "    a1 = i[0]\n",
        "    print(a1)\n",
        "\n",
        "    a2 = i[1]\n",
        "    print(a2)\n",
        "\n"
      ],
      "execution_count": null,
      "outputs": [
        {
          "output_type": "stream",
          "text": [
            "a\n",
            "b\n",
            "x\n",
            "y\n",
            "1\n",
            "2\n"
          ],
          "name": "stdout"
        }
      ]
    },
    {
      "cell_type": "code",
      "metadata": {
        "colab": {
          "base_uri": "https://localhost:8080/"
        },
        "id": "tFfXIfDX8oBo",
        "outputId": "2a1a24f7-cbff-4cbe-9bbf-2a6069ba8a50"
      },
      "source": [
        "for i in elementos:\n",
        "    #a1 = i[0]\n",
        "    #print(a1)\n",
        "\n",
        "    a2 = i[1]\n",
        "    print(a2)\n",
        "\n"
      ],
      "execution_count": null,
      "outputs": [
        {
          "output_type": "stream",
          "text": [
            "b\n",
            "y\n",
            "2\n"
          ],
          "name": "stdout"
        }
      ]
    },
    {
      "cell_type": "code",
      "metadata": {
        "colab": {
          "base_uri": "https://localhost:8080/"
        },
        "id": "HBXE4S9B6I_d",
        "outputId": "eb662483-b079-4e2c-c185-98abfc76641b"
      },
      "source": [
        "for i in elementos:\n",
        "    a1 = i[0]\n",
        "    a2 = i[1]\n",
        "    a3 = i[2]\n",
        "\n",
        "    print(f'{a1}, {a2}, {a3}')\n"
      ],
      "execution_count": null,
      "outputs": [
        {
          "output_type": "stream",
          "text": [
            "a, b, c\n",
            "x, y, z\n",
            "1, 2, 3\n"
          ],
          "name": "stdout"
        }
      ]
    },
    {
      "cell_type": "code",
      "metadata": {
        "colab": {
          "base_uri": "https://localhost:8080/"
        },
        "id": "pLe9a3xJo5G-",
        "outputId": "4912b2a7-5621-4666-d056-f1f70fd7a0de"
      },
      "source": [
        "# Mesmo que\n",
        "\n",
        "elementos = [('a', 'b', 'c'), ('x', 'y', 'z'), ('1', '2', '3')]\n",
        "\n",
        "for i, j, k in elementos:\n",
        "    a1 = i\n",
        "    a2 = j\n",
        "    a3 = k\n",
        "\n",
        "    print(f'{a1}, {a2}, {a3}')\n",
        "\n"
      ],
      "execution_count": null,
      "outputs": [
        {
          "output_type": "stream",
          "text": [
            "a, b, c\n",
            "x, y, z\n",
            "1, 2, 3\n"
          ],
          "name": "stdout"
        }
      ]
    },
    {
      "cell_type": "code",
      "metadata": {
        "colab": {
          "base_uri": "https://localhost:8080/"
        },
        "id": "JMu100oqo5Ja",
        "outputId": "125950cf-0095-4cc1-a831-4845f6e3bc9c"
      },
      "source": [
        "# Mesmo que\n",
        "\n",
        "elementos = [('a', 'b', 'c'), ('x', 'y', 'z'), ('1', '2', '3')]\n",
        "\n",
        "for i in elementos:\n",
        "    a1, a2, a3 = i\n",
        "\n",
        "    print(f'{a1, {a2}, {a3}}')\n"
      ],
      "execution_count": null,
      "outputs": [
        {
          "output_type": "stream",
          "text": [
            "('a', {'b'}, {'c'})\n",
            "('x', {'y'}, {'z'})\n",
            "('1', {'2'}, {'3'})\n"
          ],
          "name": "stdout"
        }
      ]
    },
    {
      "cell_type": "code",
      "metadata": {
        "colab": {
          "base_uri": "https://localhost:8080/"
        },
        "id": "5Ol-x6dAGkOu",
        "outputId": "c933c88a-1a2f-4efe-b4a8-48a8637b0ba6"
      },
      "source": [
        "# Iterando sobre um elemento de um elemento de uma lista da maneira correta\n",
        "codigo = [('a', 'b', 'c'), ('x', 'y', 'z'), ('1', '2', '3')]\n",
        "\n",
        "for i in codigo: # a cada laço retorna um dos elementos da lista\n",
        "    print(f'Primeiros elementos: {i[:1]}') # retorna apenas o primeiro elemento do elemento retornado da lista\n"
      ],
      "execution_count": null,
      "outputs": [
        {
          "output_type": "stream",
          "text": [
            "Primeiros elementos: ('a',)\n",
            "Primeiros elementos: ('x',)\n",
            "Primeiros elementos: ('1',)\n"
          ],
          "name": "stdout"
        }
      ]
    },
    {
      "cell_type": "code",
      "metadata": {
        "colab": {
          "base_uri": "https://localhost:8080/"
        },
        "id": "VDY_c3249Z68",
        "outputId": "89638a1d-ba66-4e20-e51a-a56d42d9436f"
      },
      "source": [
        "# Iterando sobre um elemento de um elemento de uma lista da maneira correta\n",
        "codigo = [('a', 'b', 'c'), ('x', 'y', 'z'), ('1', '2', '3')]\n",
        "\n",
        "for i in codigo: # a cada laço retorna um dos elementos da lista\n",
        "    print(f'Segundos elementos: {i[1:2]}') # retorna apenas o primeiro elemento do elemento retornado da lista\n"
      ],
      "execution_count": null,
      "outputs": [
        {
          "output_type": "stream",
          "text": [
            "Segundos elementos: ('b',)\n",
            "Segundos elementos: ('y',)\n",
            "Segundos elementos: ('2',)\n"
          ],
          "name": "stdout"
        }
      ]
    },
    {
      "cell_type": "code",
      "metadata": {
        "colab": {
          "base_uri": "https://localhost:8080/"
        },
        "id": "rmUOqrAKo5N8",
        "outputId": "d66b9135-63d8-4a00-ee02-b7e16268cfb5"
      },
      "source": [
        "# gerando índice para o elemento mapeado de cada elemento da lista original\n",
        "\n",
        "codigo =  ['Alpha', 'Bravo', 'Charlie', 'Delta', 'Echo']\n",
        "\n",
        "for idx, i in enumerate(codigo): # por justaposição, idx recebe o retorno da função enumerate(), enquanto i retorna cada elemento lido da lista codigo\n",
        "    print(f'Índice: {idx}, Inicial: {i[:1]}')\n"
      ],
      "execution_count": null,
      "outputs": [
        {
          "output_type": "stream",
          "text": [
            "Índice: 0, Inicial: A\n",
            "Índice: 1, Inicial: B\n",
            "Índice: 2, Inicial: C\n",
            "Índice: 3, Inicial: D\n",
            "Índice: 4, Inicial: E\n"
          ],
          "name": "stdout"
        }
      ]
    },
    {
      "cell_type": "markdown",
      "metadata": {
        "id": "wS0BT8xORs7_"
      },
      "source": [
        "Frozenset - Tipo de dado parecido com Set, porém totalmente imutável pois não suporta funções add() ou append()\n"
      ]
    },
    {
      "cell_type": "code",
      "metadata": {
        "colab": {
          "base_uri": "https://localhost:8080/"
        },
        "id": "7nc6I_B5RSml",
        "outputId": "4d1de051-c45d-4467-8268-6f73e634c554"
      },
      "source": [
        "cidades = frozenset(['Porto Alegre', 'Curitiba', 'São Paulo'])\n",
        "\n",
        "print(cidades)\n",
        "print(type(cidades))\n",
        "\n",
        "#cidades.append('Florianópolis')\n",
        "#print(cidades)\n"
      ],
      "execution_count": null,
      "outputs": [
        {
          "output_type": "stream",
          "text": [
            "frozenset({'Porto Alegre', 'Curitiba', 'São Paulo'})\n",
            "<class 'frozenset'>\n"
          ],
          "name": "stdout"
        }
      ]
    },
    {
      "cell_type": "markdown",
      "metadata": {
        "id": "Wd3DiZZj_jgF"
      },
      "source": [
        "## Listas de alta performance"
      ]
    },
    {
      "cell_type": "code",
      "metadata": {
        "colab": {
          "base_uri": "https://localhost:8080/"
        },
        "id": "qfyTJc7tr5eh",
        "outputId": "82849323-f6c2-464f-f7f3-21a1bc5398ad"
      },
      "source": [
        "from timeit import timeit as t\n",
        "\n",
        "class Pessoa(object):\n",
        "  nome = 'Pessoa'\n",
        "  email = 'fernando2rad@gmail.com'\n",
        "  fone = '55991357259'\n",
        "  casado = 'não'\n",
        "  filhos = 'não'\n",
        "  nacionalidade = 'brasileiro'\n",
        "\n",
        "print(t(Pessoa, globals=globals()))\n",
        "\n",
        "# Irá retornar o tempo em segundos que o núcleo Python levou para abrir\n",
        "# e processar todo o conteúdo desse código.\n"
      ],
      "execution_count": null,
      "outputs": [
        {
          "output_type": "stream",
          "text": [
            "0.10588530399991214\n"
          ],
          "name": "stdout"
        }
      ]
    },
    {
      "cell_type": "markdown",
      "metadata": {
        "id": "qIINFdLv_yuy"
      },
      "source": [
        "namedtuple"
      ]
    },
    {
      "cell_type": "code",
      "metadata": {
        "colab": {
          "base_uri": "https://localhost:8080/"
        },
        "id": "_e8BeD4qXF5A",
        "outputId": "3717f925-e47d-4092-885f-386515ec9c6c"
      },
      "source": [
        "from timeit import timeit as t\n",
        "from collections import namedtuple\n",
        "\n",
        "Pessoa = namedtuple('Pessoa', 'nome email fone casado filhos nacionalidade')\n",
        "\n",
        "pessoa1 = Pessoa('Pessoa',\n",
        "                 'fernando2rad@gmail.com',\n",
        "                 '55991357259',\n",
        "                 'não',\n",
        "                 'não',\n",
        "                 'brasileiro')\n",
        "\n",
        "print(t(pessoa1.nome, globals=globals()))\n",
        "# Irá retornar o tempo em segundos que o núcleo Python levou para abrir\n",
        "# e processar todo o conteúdo desse código.\n"
      ],
      "execution_count": null,
      "outputs": [
        {
          "output_type": "stream",
          "text": [
            "0.037464770000042336\n"
          ],
          "name": "stdout"
        }
      ]
    },
    {
      "cell_type": "markdown",
      "metadata": {
        "id": "FqO3SPJd_7aq"
      },
      "source": [
        "blist"
      ]
    },
    {
      "cell_type": "code",
      "metadata": {
        "colab": {
          "base_uri": "https://localhost:8080/"
        },
        "id": "qauOwuxseC-G",
        "outputId": "56d22fff-8304-49c4-c888-0719e445fb36"
      },
      "source": [
        "!pip install blist"
      ],
      "execution_count": null,
      "outputs": [
        {
          "output_type": "stream",
          "text": [
            "Collecting blist\n",
            "\u001b[?25l  Downloading https://files.pythonhosted.org/packages/6b/a8/dca5224abe81ccf8db81f8a2ca3d63e7a5fa7a86adc198d4e268c67ce884/blist-1.3.6.tar.gz (122kB)\n",
            "\r\u001b[K     |██▊                             | 10kB 13.1MB/s eta 0:00:01\r\u001b[K     |█████▍                          | 20kB 18.8MB/s eta 0:00:01\r\u001b[K     |████████                        | 30kB 10.8MB/s eta 0:00:01\r\u001b[K     |██████████▊                     | 40kB 8.7MB/s eta 0:00:01\r\u001b[K     |█████████████▍                  | 51kB 5.5MB/s eta 0:00:01\r\u001b[K     |████████████████                | 61kB 6.4MB/s eta 0:00:01\r\u001b[K     |██████████████████▊             | 71kB 6.0MB/s eta 0:00:01\r\u001b[K     |█████████████████████▍          | 81kB 6.3MB/s eta 0:00:01\r\u001b[K     |████████████████████████        | 92kB 6.4MB/s eta 0:00:01\r\u001b[K     |██████████████████████████▊     | 102kB 6.9MB/s eta 0:00:01\r\u001b[K     |█████████████████████████████▍  | 112kB 6.9MB/s eta 0:00:01\r\u001b[K     |████████████████████████████████| 122kB 6.9MB/s \n",
            "\u001b[?25hBuilding wheels for collected packages: blist\n",
            "  Building wheel for blist (setup.py) ... \u001b[?25l\u001b[?25hdone\n",
            "  Created wheel for blist: filename=blist-1.3.6-cp37-cp37m-linux_x86_64.whl size=130557 sha256=ed2c6e8e4fe7170f1a94b36ac0bc082a760904182b4fbfb4ed9f56b7ec468c84\n",
            "  Stored in directory: /root/.cache/pip/wheels/d2/c2/9e/eab393d3d33d7ba0302e2b85bceca711e01a36055b9fbf2fda\n",
            "Successfully built blist\n",
            "Installing collected packages: blist\n",
            "Successfully installed blist-1.3.6\n"
          ],
          "name": "stdout"
        }
      ]
    },
    {
      "cell_type": "code",
      "metadata": {
        "colab": {
          "base_uri": "https://localhost:8080/"
        },
        "id": "wf_EZ2xxXF7I",
        "outputId": "fe0f8e3e-1178-4d9e-ba65-d2056c3501ae"
      },
      "source": [
        "from blist import blist\n",
        "from collections import namedtuple\n",
        "\n",
        "Pessoa = namedtuple('Pessoa', 'nome email fone casado filhos nacionalidade')\n",
        "\n",
        "pessoa1 = Pessoa('Pessoa',\n",
        "                 'fernando2rad@gmail.com',\n",
        "                 '55991357259',\n",
        "                 'não',\n",
        "                 'não',\n",
        "                 'brasileiro')\n",
        "\n",
        "blist(pessoa1)\n"
      ],
      "execution_count": null,
      "outputs": [
        {
          "output_type": "execute_result",
          "data": {
            "text/plain": [
              "blist(['Pessoa', 'fernando2rad@gmail.com', '55991357259', 'não', 'não', 'brasileiro'])"
            ]
          },
          "metadata": {
            "tags": []
          },
          "execution_count": 63
        }
      ]
    },
    {
      "cell_type": "code",
      "metadata": {
        "colab": {
          "base_uri": "https://localhost:8080/"
        },
        "id": "vmdHA1hGXF_b",
        "outputId": "43007eaf-d1d9-477a-bb33-70b9d0dca318"
      },
      "source": [
        "print(t(blist, globals=globals()))\n"
      ],
      "execution_count": null,
      "outputs": [
        {
          "output_type": "stream",
          "text": [
            "0.10021460200005095\n"
          ],
          "name": "stdout"
        }
      ]
    },
    {
      "cell_type": "markdown",
      "metadata": {
        "id": "Yhtd-U6fAAus"
      },
      "source": [
        "marisa_trie"
      ]
    },
    {
      "cell_type": "code",
      "metadata": {
        "colab": {
          "base_uri": "https://localhost:8080/"
        },
        "id": "B5c34q0CgSfD",
        "outputId": "67193f1a-2c74-40dc-ec60-63dd7dbaa5db"
      },
      "source": [
        "!pip install marisa_trie"
      ],
      "execution_count": null,
      "outputs": [
        {
          "output_type": "stream",
          "text": [
            "Requirement already satisfied: marisa_trie in /usr/local/lib/python3.7/dist-packages (0.7.5)\n"
          ],
          "name": "stdout"
        }
      ]
    },
    {
      "cell_type": "code",
      "metadata": {
        "colab": {
          "base_uri": "https://localhost:8080/"
        },
        "id": "7qWaODZ-XGBo",
        "outputId": "81d44903-8b34-40b5-a3e1-39b2cfa6f0dc"
      },
      "source": [
        "from collections import namedtuple\n",
        "import marisa_trie\n",
        "\n",
        "Pessoa = namedtuple('Pessoa', 'nome email fone casado filhos nacionalidade')\n",
        "\n",
        "pessoa1 = Pessoa('Pessoa',\n",
        "                 'fernando2rad@gmail.com',\n",
        "                 '55991357259',\n",
        "                 'não',\n",
        "                 'não',\n",
        "                 'brasileiro')\n",
        "\n",
        "trie = marisa_trie.Trie(pessoa1)\n",
        "\n",
        "trie.items()\n"
      ],
      "execution_count": null,
      "outputs": [
        {
          "output_type": "execute_result",
          "data": {
            "text/plain": [
              "[('não', 0),\n",
              " ('55991357259', 1),\n",
              " ('Pessoa', 2),\n",
              " ('brasileiro', 3),\n",
              " ('fernando2rad@gmail.com', 4)]"
            ]
          },
          "metadata": {
            "tags": []
          },
          "execution_count": 64
        }
      ]
    },
    {
      "cell_type": "code",
      "metadata": {
        "colab": {
          "base_uri": "https://localhost:8080/"
        },
        "id": "egj8jQKdXGIF",
        "outputId": "737f5134-20b4-461e-bd94-bc8287cb1b29"
      },
      "source": [
        "print(t(trie.items, globals=globals()))\n"
      ],
      "execution_count": null,
      "outputs": [
        {
          "output_type": "stream",
          "text": [
            "1.8753603680006563\n"
          ],
          "name": "stdout"
        }
      ]
    },
    {
      "cell_type": "markdown",
      "metadata": {
        "id": "khHNTfAWC4BX"
      },
      "source": [
        "## Escopos global, local e nonlocal"
      ]
    },
    {
      "cell_type": "markdown",
      "metadata": {
        "id": "i2zclrI1YLoJ"
      },
      "source": [
        "Modificando uma variável do escopo global do código"
      ]
    },
    {
      "cell_type": "code",
      "metadata": {
        "colab": {
          "base_uri": "https://localhost:8080/"
        },
        "id": "F0jb4OT2R4K8",
        "outputId": "74bf84a1-38b9-4b0a-c34e-3ab52252e61f"
      },
      "source": [
        "nome = 'Fernando'\n",
        "\n",
        "def exibe_nome():\n",
        "    nome = 'Maria' # está usando a variável nome que é do escopo global da função, independente da variável nome do corpo geral do código\n",
        "    print(nome)\n",
        "\n",
        "ponto = exibe_nome()\n",
        "print(nome)\n"
      ],
      "execution_count": null,
      "outputs": [
        {
          "output_type": "stream",
          "text": [
            "Maria\n",
            "Fernando\n"
          ],
          "name": "stdout"
        }
      ]
    },
    {
      "cell_type": "code",
      "metadata": {
        "colab": {
          "base_uri": "https://localhost:8080/"
        },
        "id": "ry7LitA7R4Nr",
        "outputId": "3ac1534c-3ef6-402e-c170-62366b5950dc"
      },
      "source": [
        "nome = 'Fernando'\n",
        "\n",
        "def exibe_nome():\n",
        "    global nome # instancia a variável nome do corpo geral do código\n",
        "    nome = 'Maria' # a variável nome nesse caso faz referência/é a mesma variável nome do corpo geral do código\n",
        "    print(nome)\n",
        "\n",
        "ponto = exibe_nome()\n",
        "print(nome)\n"
      ],
      "execution_count": null,
      "outputs": [
        {
          "output_type": "stream",
          "text": [
            "Maria\n",
            "Maria\n"
          ],
          "name": "stdout"
        }
      ]
    },
    {
      "cell_type": "code",
      "metadata": {
        "id": "WVE4gNWxYRUS",
        "colab": {
          "base_uri": "https://localhost:8080/"
        },
        "outputId": "115f9235-d3da-4a0f-ecab-919812d49cec"
      },
      "source": [
        "# o marcador global consegue pular qualquer hierarquia ou aninhamento para buscar um dado/valor de uma variável no escopo global do código\n",
        "\n",
        "num = 8 # global\n",
        "\n",
        "def f1():\n",
        "  num = 1 # nova variável local em f1\n",
        " \n",
        "  def f2():\n",
        "    num = 2 # nova variável local em f2\n",
        " \n",
        "    def f3():\n",
        "      num = 3 # nova variável local em f3\n",
        "      print(num) # exibirá o conteúdo da variável local em f3\n",
        "      num = 30 # pela indentação, modificará somente a variável local de f3\n",
        " \n",
        "      def f4():\n",
        "        global num # instancia a variável global foo\n",
        "        print(num) # exibe o valor da variável global foo\n",
        "        num = 100 # modifica o conteúdo da variável global foo\n",
        "\n",
        "print(num)\n",
        "print(f1)\n",
        "print(num)\n"
      ],
      "execution_count": null,
      "outputs": [
        {
          "output_type": "stream",
          "text": [
            "8\n",
            "<function f1 at 0x7f96baf239e0>\n",
            "8\n"
          ],
          "name": "stdout"
        }
      ]
    },
    {
      "cell_type": "code",
      "metadata": {
        "id": "xv_MDTjfYRWw",
        "colab": {
          "base_uri": "https://localhost:8080/"
        },
        "outputId": "95636646-3954-4d1c-a12d-df11b92127b5"
      },
      "source": [
        "# nonglobal retorna um posto acima da hierarquia/aninhamento quando é utilizada\n",
        "\n",
        "num = 0 # global\n",
        "\n",
        "def f1():\n",
        "  num = 1 # nova variável local em f1\n",
        " \n",
        "  def f2():\n",
        "    num = 2 # nova variável local em f2\n",
        " \n",
        "    def f3():\n",
        "      num = 3 # nova variável local em f3\n",
        "      #print(num) # exibirá o conteúdo da variável local em f3\n",
        "      num = 30 # pela indentação, modificará somente a variável local de f3\n",
        " \n",
        "      def f4():\n",
        "        nonlocal num # instancia a variável local de f3\n",
        "        print(num) # exibe o valor da variável local de f3\n",
        "        num = 100 # modifica o conteúdo da variável local de f3\n",
        "\n",
        "print(num)\n",
        "print(f1)\n",
        "print(num)\n"
      ],
      "execution_count": null,
      "outputs": [
        {
          "output_type": "stream",
          "text": [
            "0\n",
            "<function f1 at 0x7f96bb02d4d0>\n",
            "0\n"
          ],
          "name": "stdout"
        }
      ]
    },
    {
      "cell_type": "markdown",
      "metadata": {
        "id": "67Hw3K6mVmId"
      },
      "source": [
        "nonlocal para uso de variáveis não locais para contadores"
      ]
    },
    {
      "cell_type": "code",
      "metadata": {
        "colab": {
          "base_uri": "https://localhost:8080/"
        },
        "id": "HjHfbr9VR4In",
        "outputId": "b49e4eb1-7e16-42b4-f31d-4b931c53cde8"
      },
      "source": [
        "def contador():\n",
        "    num = 0\n",
        "    def incrementador():\n",
        "        nonlocal num # em funções aninhadas, irá atualizar a variável local temporariamente, sendo que a cada execução da função contador no mesmo código o valor será incrementado, porém se parar e rodar o código novamente o indexador estará zerado\n",
        "        num += 1\n",
        "        return num\n",
        "    return incrementador\n",
        "\n",
        "conta = contador()\n",
        "\n",
        "print(conta())\n",
        "print(conta())\n",
        "print(conta())\n",
        "print(conta())\n",
        "print(conta())\n",
        "\n",
        "# é uma alternativa onde se mantém a variável protegida dentro da função, pois se colocasse global a variável poderia ser instanciada e até mesmo atualizada de fora dessa função\n"
      ],
      "execution_count": null,
      "outputs": [
        {
          "output_type": "stream",
          "text": [
            "1\n",
            "2\n",
            "3\n",
            "4\n",
            "5\n"
          ],
          "name": "stdout"
        }
      ]
    },
    {
      "cell_type": "markdown",
      "metadata": {
        "id": "9FeYoFFUQDKc"
      },
      "source": [
        "## Funções matemáticas especiais"
      ]
    },
    {
      "cell_type": "markdown",
      "metadata": {
        "id": "Esrm5AK2QIVK"
      },
      "source": [
        "Distância entre espaço 2D"
      ]
    },
    {
      "cell_type": "code",
      "metadata": {
        "id": "R1D6c175v89o"
      },
      "source": [
        "import math\n",
        "\n",
        "pontoa = [45, 9]\n",
        "pontob = [23, 5]\n",
        "\n",
        "print(math.dist(pontoa, pontob))\n"
      ],
      "execution_count": null,
      "outputs": []
    },
    {
      "cell_type": "markdown",
      "metadata": {
        "id": "WDAdQoJtQjsU"
      },
      "source": [
        "Distância entre espaço 3D"
      ]
    },
    {
      "cell_type": "code",
      "metadata": {
        "id": "9nqMmGPkv9DA"
      },
      "source": [
        "import math\n",
        "\n",
        "pontoa = (12, 15, 9)\n",
        "pontob = (66, 9, 19)\n",
        "# Podemos abstrair os elementos como coordenadas X, Y e Z de um plano carteziano\n",
        "\n",
        "print(math.dist(pontoa, pontob))\n",
        "\n",
        "# Notação de contêiner pois estamos passando coordenadas de vetores\n"
      ],
      "execution_count": null,
      "outputs": []
    },
    {
      "cell_type": "markdown",
      "metadata": {
        "id": "d4w_yrtQRcZx"
      },
      "source": [
        "Hipotenusa"
      ]
    },
    {
      "cell_type": "code",
      "metadata": {
        "id": "K1p13XXDv9HF"
      },
      "source": [
        "import math\n",
        "\n",
        "objeto3d = (12, 15, 9)\n",
        "\n",
        "print(math.hypot(*objeto3d))\n",
        "# Usar marcador \" * \" pois a função terá de desempacotar as coordenadas do contêiner\n"
      ],
      "execution_count": null,
      "outputs": []
    },
    {
      "cell_type": "markdown",
      "metadata": {
        "id": "k3_VG2-1SbBM"
      },
      "source": [
        "## Funções estatísticas"
      ]
    },
    {
      "cell_type": "markdown",
      "metadata": {
        "id": "NGy8-62WSgMU"
      },
      "source": [
        "Média dos valores de números reais"
      ]
    },
    {
      "cell_type": "code",
      "metadata": {
        "id": "7VSProC7Remz"
      },
      "source": [
        "import statistics\n",
        "\n",
        "num_reais = [3.5, 4.4, 9, 12.1, 7.9]\n",
        "\n",
        "print(statistics.fmean(num_reais))\n",
        "\n",
        "# Quando parametrizada com números inteiros (sem casa decimal), os mesmos serão\n",
        "# internamente convertidos para float.\n"
      ],
      "execution_count": null,
      "outputs": []
    },
    {
      "cell_type": "markdown",
      "metadata": {
        "id": "gc0N83yST7bk"
      },
      "source": [
        "Média geométrica"
      ]
    },
    {
      "cell_type": "code",
      "metadata": {
        "id": "kla-b1pWReo4"
      },
      "source": [
        "import statistics\n",
        "\n",
        "num_reais = [3.5, 4.4, 9, 12.1, 7.9]\n",
        "\n",
        "print(statistics.geometric_mean(num_reais))\n"
      ],
      "execution_count": null,
      "outputs": []
    },
    {
      "cell_type": "markdown",
      "metadata": {
        "id": "QMEV1oZEUQlG"
      },
      "source": [
        "Valor mais frequente"
      ]
    },
    {
      "cell_type": "code",
      "metadata": {
        "id": "NJtpK-eERerD"
      },
      "source": [
        "import statistics\n",
        "\n",
        "num_reais = [7, 3, 5, 9, 7, 2, 2, 4, 1, 8, 7, 0, 7]\n",
        "\n",
        "print(statistics.multimode(num_reais))\n",
        "# Retornará o(s) número(s) mais frequente(s)\n"
      ],
      "execution_count": null,
      "outputs": []
    },
    {
      "cell_type": "code",
      "metadata": {
        "id": "_U1bL-y2RetI"
      },
      "source": [
        "# Também se aplica a uma string, pois a mesma é internamente considerada um contêiner\n",
        "\n",
        "import statistics\n",
        "\n",
        "num_reais = 'Histerossalpingografia Exploratória'\n",
        "\n",
        "print(statistics.multimode(num_reais))\n",
        "# Retornará a(s) letra(s) mais frequente(s)\n"
      ],
      "execution_count": null,
      "outputs": []
    },
    {
      "cell_type": "markdown",
      "metadata": {
        "id": "0hwdAJscMDux"
      },
      "source": [
        "## Threads"
      ]
    },
    {
      "cell_type": "code",
      "metadata": {
        "id": "FfSsOOUTQitI",
        "colab": {
          "base_uri": "https://localhost:8080/"
        },
        "outputId": "d18cf7c5-fd78-45b3-b32c-e433c0302df9"
      },
      "source": [
        "# Método sequencial regular\n",
        "\n",
        "def mensagem1():\n",
        "  contador = 0\n",
        "  while contador <= 3:\n",
        "    print('Estou trabalhando...')\n",
        "    contador += 1\n",
        "\n",
        "def mensagem2():\n",
        "  contador2 = 0\n",
        "  while contador2 <= 3:\n",
        "    print('Estou estudando...')\n",
        "    contador2 += 1\n",
        "\n",
        "mensagem1()\n",
        "mensagem2()\n"
      ],
      "execution_count": null,
      "outputs": [
        {
          "output_type": "stream",
          "text": [
            "Estou trabalhando...\n",
            "Estou trabalhando...\n",
            "Estou trabalhando...\n",
            "Estou trabalhando...\n",
            "Estou estudando...\n",
            "Estou estudando...\n",
            "Estou estudando...\n",
            "Estou estudando...\n"
          ],
          "name": "stdout"
        }
      ]
    },
    {
      "cell_type": "code",
      "metadata": {
        "id": "08_VVkYSQrM6",
        "colab": {
          "base_uri": "https://localhost:8080/"
        },
        "outputId": "6971f9d4-aef9-4c35-b402-fa064e45b051"
      },
      "source": [
        "# Threads paralelas\n",
        "\n",
        "import threading\n",
        "\n",
        "def mensagem3():\n",
        "  contador = 0\n",
        "  while contador <= 3:\n",
        "    print('Estou trabalhando...')\n",
        "    contador += 1\n",
        "\n",
        "def mensagem4():\n",
        "  contador2 = 0\n",
        "  while contador2 <= 3:\n",
        "    print('Estou estudando...')\n",
        "    contador2 += 1\n",
        "\n",
        "threading.Thread(target=mensagem3).start()\n",
        "mensagem4()\n"
      ],
      "execution_count": null,
      "outputs": [
        {
          "output_type": "stream",
          "text": [
            "Estou trabalhando...\n",
            "Estou trabalhando...\n",
            "Estou trabalhando...\n",
            "Estou trabalhando...\n",
            "Estou estudando...\n",
            "Estou estudando...\n",
            "Estou estudando...\n",
            "Estou estudando...\n"
          ],
          "name": "stdout"
        }
      ]
    },
    {
      "cell_type": "markdown",
      "metadata": {
        "id": "vT-0hBsXzLg2"
      },
      "source": [
        "Single-thread vs multi-thread"
      ]
    },
    {
      "cell_type": "code",
      "metadata": {
        "id": "PsBx8ze81IXv",
        "colab": {
          "base_uri": "https://localhost:8080/"
        },
        "outputId": "3891f1b5-c957-48e1-d409-abbe7273e85e"
      },
      "source": [
        "# single-thread\n",
        "\n",
        "import time\n",
        "from threading import Thread\n",
        "\n",
        "contador = 100000000\n",
        "\n",
        "def contagem_regressiva(num):\n",
        "    while num > 0:\n",
        "        num -= 1\n",
        "\n",
        "inicio = time.time()\n",
        "contagem_regressiva(contador)\n",
        "fim = time.time()\n",
        "\n",
        "print(f'Tempo de execução: {fim - inicio}')\n"
      ],
      "execution_count": null,
      "outputs": [
        {
          "output_type": "stream",
          "text": [
            "Tempo de execução: 4.415599584579468\n"
          ],
          "name": "stdout"
        }
      ]
    },
    {
      "cell_type": "code",
      "metadata": {
        "id": "gZZy_MpoQTxo",
        "colab": {
          "base_uri": "https://localhost:8080/"
        },
        "outputId": "3add7e4b-e894-4078-a7a3-601d97f228bf"
      },
      "source": [
        "# multi-thread\n",
        "\n",
        "import time\n",
        "from threading import Thread\n",
        "\n",
        "contador = 100000000\n",
        "\n",
        "def contagem_regressiva(num):\n",
        "    while num > 0:\n",
        "        num -= 1\n",
        "\n",
        "tempo = Thread(target = contagem_regressiva,\n",
        "               args = (contador//2,))\n",
        "\n",
        "inicio = time.time()\n",
        "tempo.start()\n",
        "tempo.join()\n",
        "fim = time.time()\n",
        "\n",
        "print(f'Tempo de execução: {fim - inicio}')\n"
      ],
      "execution_count": null,
      "outputs": [
        {
          "output_type": "stream",
          "text": [
            "Tempo de execução: 2.2378089427948\n"
          ],
          "name": "stdout"
        }
      ]
    },
    {
      "cell_type": "markdown",
      "metadata": {
        "id": "SBu0xVck17Zv"
      },
      "source": [
        "GIL - Python global interpreter lock"
      ]
    },
    {
      "cell_type": "code",
      "metadata": {
        "id": "hCIylmTKpbDF"
      },
      "source": [
        "# Utiliza multi-processing ao invés de multi-threading\n",
        "\n",
        "# Em outras palavras, cada processo ganha seu próprio interpretador\n",
        "# Python e espaço dedicado em memória, como em computação paralela.\n"
      ],
      "execution_count": null,
      "outputs": []
    },
    {
      "cell_type": "code",
      "metadata": {
        "id": "0JFhl7x8pbFe",
        "colab": {
          "base_uri": "https://localhost:8080/"
        },
        "outputId": "d0ca089a-bb4d-4e54-98a2-36a586ade1a7"
      },
      "source": [
        "from multiprocessing import Pool\n",
        "import time\n",
        "\n",
        "contador = 100000000\n",
        "\n",
        "def contagem_regressiva(num):\n",
        "    while num > 0:\n",
        "        num -= 1\n",
        "\n",
        "if __name__ == '__main__':\n",
        "  pool = Pool(processes = 4) # número de threads independentes\n",
        "  inicio = time.time()\n",
        "  tempo = pool.apply_async(contagem_regressiva, [contador//2])\n",
        "  pool.close()\n",
        "  pool.join()\n",
        "  fim = time.time()\n",
        "  print(f'Tempo de execução: {fim - inicio}')\n"
      ],
      "execution_count": null,
      "outputs": [
        {
          "output_type": "stream",
          "text": [
            "Tempo de execução: 2.311781167984009\n"
          ],
          "name": "stdout"
        }
      ]
    },
    {
      "cell_type": "markdown",
      "metadata": {
        "id": "JRv_ZlM0wOBI"
      },
      "source": [
        "Definindo a prioridade de iteração de um objeto via pickle"
      ]
    },
    {
      "cell_type": "code",
      "metadata": {
        "id": "32DlqULbtw8N"
      },
      "source": [
        "import pickle\n",
        "\n",
        "lista1 = [1,2,3,4,5,6,7,8,9,10]\n",
        "\n",
        "# Definindo prioridade máxima de leitura\n",
        "with open('lista1.pickle', 'wb') as lista_prioritaria:\n",
        "    pickle.dump(lista1, lista_prioritaria, pickle.HIGHEST_PROTOCOL)\n",
        "\n",
        "# a partir desse momento, lista_prioritária fará referência a sua variável\n",
        "# original, forçando que o interpretador leia este conteúdo primeiro que\n",
        "# outros..."
      ],
      "execution_count": null,
      "outputs": []
    },
    {
      "cell_type": "code",
      "metadata": {
        "id": "iPevLUWAwYFT"
      },
      "source": [
        "# Devolvendo a arbitrariedade de leitura ao interpretador\n",
        "with open('lista1.pickle', 'rb') as lista1:\n",
        "    lista1 = pickle.load(lista1)\n",
        "\n",
        "# Para remover a prioridade de um objeto, é necessário realizar a validação\n",
        "# acima..."
      ],
      "execution_count": null,
      "outputs": []
    },
    {
      "cell_type": "code",
      "metadata": {
        "id": "IghMqhfDwYH7"
      },
      "source": [
        "lista1_prioritaria = pickle.dumps(lista1, pickle.HIGHEST_PROTOCOL)\n",
        "# Método alternativo, definindo prioridade e validando o tipo de dado em bytes\n",
        "\n",
        "lista2 = pickle.loads(lista1_prioritaria)\n",
        "# Convertendo novamente o conteúdo de lista1_prioritaria para seu formato original\n"
      ],
      "execution_count": null,
      "outputs": []
    },
    {
      "cell_type": "markdown",
      "metadata": {
        "id": "NSRfvU27goom"
      },
      "source": [
        "Queue para contêineres de dados que podem ser processados de forma paralela"
      ]
    },
    {
      "cell_type": "code",
      "metadata": {
        "id": "AbW1Eov9gvol"
      },
      "source": [
        "from queue import Queue\n",
        "\n",
        "base = Queue()\n",
        "\n",
        "base.put('Ana')\n",
        "base.put('Alberto')\n",
        "base.put('Fernando')\n",
        "base.put('Maria')\n",
        "base.put('Paulo')\n"
      ],
      "execution_count": null,
      "outputs": []
    },
    {
      "cell_type": "code",
      "metadata": {
        "colab": {
          "base_uri": "https://localhost:8080/"
        },
        "id": "k0uYGWbthUvj",
        "outputId": "ef984e7d-3c53-4927-a9b8-b55c843f2718"
      },
      "source": [
        "print(base)\n",
        "print(type(base))\n"
      ],
      "execution_count": null,
      "outputs": [
        {
          "output_type": "stream",
          "text": [
            "<queue.Queue object at 0x7f2822107a10>\n",
            "<class 'queue.Queue'>\n"
          ],
          "name": "stdout"
        }
      ]
    },
    {
      "cell_type": "code",
      "metadata": {
        "colab": {
          "base_uri": "https://localhost:8080/",
          "height": 36
        },
        "id": "wNCrC5cZhbC-",
        "outputId": "5824a416-73da-4b5e-bd7d-a846e26c4bf3"
      },
      "source": [
        "base.get() # Retornará o primeiro elemento\n"
      ],
      "execution_count": null,
      "outputs": [
        {
          "output_type": "execute_result",
          "data": {
            "application/vnd.google.colaboratory.intrinsic+json": {
              "type": "string"
            },
            "text/plain": [
              "'Paulo'"
            ]
          },
          "metadata": {
            "tags": []
          },
          "execution_count": 14
        }
      ]
    },
    {
      "cell_type": "code",
      "metadata": {
        "colab": {
          "base_uri": "https://localhost:8080/",
          "height": 36
        },
        "id": "h3gDTKqOhfL3",
        "outputId": "79610370-3b27-4d44-acd2-ba1e18938ce5"
      },
      "source": [
        "base.get() # Retornará o segundo elemento e assim por diante\n"
      ],
      "execution_count": null,
      "outputs": [
        {
          "output_type": "execute_result",
          "data": {
            "application/vnd.google.colaboratory.intrinsic+json": {
              "type": "string"
            },
            "text/plain": [
              "'Alberto'"
            ]
          },
          "metadata": {
            "tags": []
          },
          "execution_count": 12
        }
      ]
    },
    {
      "cell_type": "code",
      "metadata": {
        "colab": {
          "base_uri": "https://localhost:8080/",
          "height": 36
        },
        "id": "Ts1aAFOohkCr",
        "outputId": "4363ada6-eef5-4846-8d95-d928cda5644b"
      },
      "source": [
        "base.get_nowait() # Retornará o elemento subsequente, ignorando qualquer outra prioridade\n"
      ],
      "execution_count": null,
      "outputs": [
        {
          "output_type": "execute_result",
          "data": {
            "application/vnd.google.colaboratory.intrinsic+json": {
              "type": "string"
            },
            "text/plain": [
              "'Fernando'"
            ]
          },
          "metadata": {
            "tags": []
          },
          "execution_count": 13
        }
      ]
    },
    {
      "cell_type": "code",
      "metadata": {
        "id": "vP9-Htc7h7Jd"
      },
      "source": [
        "from multiprocessing import Queue\n",
        "\n",
        "base = Queue()\n",
        "\n",
        "base.put('Ana')\n",
        "base.put('Alberto')\n",
        "base.put('Fernando')\n",
        "base.put('Maria')\n",
        "base.put('Paulo')\n"
      ],
      "execution_count": null,
      "outputs": []
    },
    {
      "cell_type": "code",
      "metadata": {
        "colab": {
          "base_uri": "https://localhost:8080/"
        },
        "id": "D9P6qGlaiV8L",
        "outputId": "0b5631c8-b025-4949-ac61-eb6812095b89"
      },
      "source": [
        "print(base)\n",
        "print(type(base))\n"
      ],
      "execution_count": null,
      "outputs": [
        {
          "output_type": "stream",
          "text": [
            "<multiprocessing.queues.Queue object at 0x7f28220a9d90>\n",
            "<class 'multiprocessing.queues.Queue'>\n"
          ],
          "name": "stdout"
        }
      ]
    },
    {
      "cell_type": "code",
      "metadata": {
        "colab": {
          "base_uri": "https://localhost:8080/",
          "height": 36
        },
        "id": "MkedtNYDiXnW",
        "outputId": "4f7a5a3d-761d-46d7-c2aa-c49d43ca66c0"
      },
      "source": [
        "# Aqui se aplicam todos os mesmso métodos de Queue convencional, com o diferencial\n",
        "# que internamente quando necessário o gerenciamento de memória fará o processamento\n",
        "# de forma paralela.\n",
        "\n",
        "base.get()\n"
      ],
      "execution_count": null,
      "outputs": [
        {
          "output_type": "execute_result",
          "data": {
            "application/vnd.google.colaboratory.intrinsic+json": {
              "type": "string"
            },
            "text/plain": [
              "'Ana'"
            ]
          },
          "metadata": {
            "tags": []
          },
          "execution_count": 17
        }
      ]
    },
    {
      "cell_type": "code",
      "metadata": {
        "id": "65odnZJljHff"
      },
      "source": [
        "from queue import PriorityQueue\n",
        "\n",
        "base = PriorityQueue()\n",
        "\n",
        "base.put('Ana')\n",
        "base.put('Alberto')\n",
        "base.put('Fernando')\n",
        "base.put('Maria')\n",
        "base.put('Paulo')\n"
      ],
      "execution_count": null,
      "outputs": []
    },
    {
      "cell_type": "code",
      "metadata": {
        "colab": {
          "base_uri": "https://localhost:8080/"
        },
        "id": "veODctiLjQfA",
        "outputId": "237e3e45-d4f9-4032-8f7f-a81a6fed5ecc"
      },
      "source": [
        "print(base)\n",
        "print(type(base))\n"
      ],
      "execution_count": null,
      "outputs": [
        {
          "output_type": "stream",
          "text": [
            "<queue.PriorityQueue object at 0x7fd075e3f710>\n",
            "<class 'queue.PriorityQueue'>\n"
          ],
          "name": "stdout"
        }
      ]
    },
    {
      "cell_type": "code",
      "metadata": {
        "colab": {
          "base_uri": "https://localhost:8080/",
          "height": 36
        },
        "id": "CV8evC0mjUkT",
        "outputId": "6c6fe225-3a6f-4702-b9c7-57a23e00fb99"
      },
      "source": [
        "base.get() # Retornará de acordo com heapq interno o elemento de maior prioridade por primeiro\n"
      ],
      "execution_count": null,
      "outputs": [
        {
          "output_type": "execute_result",
          "data": {
            "application/vnd.google.colaboratory.intrinsic+json": {
              "type": "string"
            },
            "text/plain": [
              "'Alberto'"
            ]
          },
          "metadata": {
            "tags": []
          },
          "execution_count": 3
        }
      ]
    },
    {
      "cell_type": "markdown",
      "metadata": {
        "id": "hcWC_vT1jUcz"
      },
      "source": [
        "## Manipulando Arquivos"
      ]
    },
    {
      "cell_type": "markdown",
      "metadata": {
        "id": "d12pLRXeW9vm"
      },
      "source": [
        "Abrindo/criando um arquivo para leitura e escrita"
      ]
    },
    {
      "cell_type": "code",
      "metadata": {
        "id": "M7ekrxiLjBvy"
      },
      "source": [
        "\n",
        "arquivo = open('nomedoarquivo.txt', 'w+')\n",
        "# w+ permite a leitura e escrita\n",
        "\n",
        "arquivo.write('Prineira Linha \\n')\n",
        "arquivo.write('Segunda Linha \\n')\n",
        "arquivo.write('Terceira Linha \\n')\n",
        "arquivo.write('Quarta Linha \\n')\n",
        "\n",
        "arquivo.seek(0,0)\n",
        "\n",
        "print(arquivo.read())\n",
        "# print(arquivo.readline()) linha por linha\n",
        "\n",
        "arquivo.close()\n"
      ],
      "execution_count": null,
      "outputs": []
    },
    {
      "cell_type": "markdown",
      "metadata": {
        "id": "tKz4j7dgQMSB"
      },
      "source": [
        "Manipulando o conteúdo de um arquivo dentro de uma sessão"
      ]
    },
    {
      "cell_type": "code",
      "metadata": {
        "id": "SwtEc0t5QQV8"
      },
      "source": [
        "with open('arquivo.txt', 'r') as texto:\n",
        "  conteudo = texto.read()\n",
        "  "
      ],
      "execution_count": null,
      "outputs": []
    },
    {
      "cell_type": "markdown",
      "metadata": {
        "id": "88Vez5rCW9vm"
      },
      "source": [
        "Apagando um arquivo via IDE"
      ]
    },
    {
      "cell_type": "code",
      "metadata": {
        "id": "e7SDapmTjByZ"
      },
      "source": [
        "import os\n",
        "\n",
        "os.remove('arquivo.txt')\n"
      ],
      "execution_count": null,
      "outputs": []
    },
    {
      "cell_type": "markdown",
      "metadata": {
        "id": "2qJ7gU4HO4Iq"
      },
      "source": [
        "## Gerenciamento de Memória"
      ]
    },
    {
      "cell_type": "markdown",
      "metadata": {
        "id": "K3NplYNbUz6-"
      },
      "source": [
        "Memória stack e memória heap"
      ]
    },
    {
      "cell_type": "code",
      "metadata": {
        "id": "EJ9d_bUVU5A_"
      },
      "source": [
        "# Meu Programa\n",
        "variavel1 = 1987\n",
        "\n",
        "# variavel1 estará situada na stack layer, como uma referência mapeada e indexada\n",
        "# para um objeto que está carregado na memória, alocando espaço para guardar um\n",
        "# dado ou valor a ser utilizado.\n",
        "\n",
        "# 1987, atributo do objeto variavel1, estará em um espaço de memória alocado na\n",
        "# memória heap, sendo um objeto que pode ser instanciado e manipulado pelo programa\n",
        "\n",
        "# cada vez que um objeto tem seu atributo modificado por uma função, é criado um\n",
        "# novo stack com o mesmo objeto porém com seu atributo diferente. Em outras palavras\n",
        "# um dado/valor da memoria heap pode ser compartilhado por vários objetos da memória\n",
        "# stack, mas o contrário não é possível, cada objeto que instancia e itera sobre\n",
        "# um dado/valor alocado em memória é uma stack única.\n"
      ],
      "execution_count": null,
      "outputs": []
    },
    {
      "cell_type": "code",
      "metadata": {
        "id": "7VkwJ4c3P-OB"
      },
      "source": [
        "num1 = 1987\n",
        "# Um objeto alocando um espaço em memória para guardar seu dado\n",
        "\n",
        "num2 = 237\n",
        "num3 = num2\n",
        "# Dois objetos usando apenas de um dado alocado em memória\n",
        "\n",
        "print(num2)\n",
        "print(type(num2))\n",
        "print(id(num2))\n",
        "\n",
        "print(num3)\n",
        "print(type(num3))\n",
        "print(id(num3))\n"
      ],
      "execution_count": null,
      "outputs": []
    },
    {
      "cell_type": "code",
      "metadata": {
        "id": "dPaaOJdOP-Q5",
        "colab": {
          "base_uri": "https://localhost:8080/"
        },
        "outputId": "b04a4918-6db2-4214-c2ed-b3d4e8c31a0f"
      },
      "source": [
        "# Verificando se de fato dois ou mais objetos usam do mesmo dado alocado em memória\n",
        "\n",
        "n1 = 1987\n",
        "n2 = 1987\n",
        "\n",
        "if id(n1) == id(n2):\n",
        "  print(f'{n1} e {n2} São o mesmo dado alocado em memória.')\n",
        "else:\n",
        "  print(f'{n1} e {n2} possuem dados alocados em memória diferentes.')\n"
      ],
      "execution_count": null,
      "outputs": [
        {
          "output_type": "stream",
          "text": [
            "1987 e 1987 possuem dados alocados em memória diferentes.\n"
          ],
          "name": "stdout"
        }
      ]
    },
    {
      "cell_type": "code",
      "metadata": {
        "id": "qqcF_rdkP-VC",
        "colab": {
          "base_uri": "https://localhost:8080/"
        },
        "outputId": "3355f56f-2312-4b75-8ae4-42e130e5d8b5"
      },
      "source": [
        "n1 = 1987\n",
        "n2 = 1988\n",
        "\n",
        "if id(n1) == id(n2):\n",
        "  print(f'{n1} e {n2} São o mesmo dado alocado em memória.')\n",
        "else:\n",
        "    print(f'{n1} e {n2} possuem dados alocados em memória diferentes.')\n"
      ],
      "execution_count": null,
      "outputs": [
        {
          "output_type": "stream",
          "text": [
            "1987 e 1988 possuem dados alocados em memória diferentes.\n"
          ],
          "name": "stdout"
        }
      ]
    },
    {
      "cell_type": "code",
      "metadata": {
        "colab": {
          "base_uri": "https://localhost:8080/"
        },
        "id": "JjkL8eQGXo55",
        "outputId": "14bad91c-3796-469b-eed2-139306be0297"
      },
      "source": [
        "n1 = 1987\n",
        "n2 = n1\n",
        "\n",
        "if id(n1) == id(n2):\n",
        "  print(f'{n1} e {n2} São o mesmo dado alocado em memória.')\n",
        "else:\n",
        "    print(f'{n1} e {n2} possuem dados alocados em memória diferentes.')\n"
      ],
      "execution_count": null,
      "outputs": [
        {
          "output_type": "stream",
          "text": [
            "1987 e 1987 São o mesmo dado alocado em memória.\n"
          ],
          "name": "stdout"
        }
      ]
    },
    {
      "cell_type": "code",
      "metadata": {
        "id": "WK5YMznrP-Ya",
        "colab": {
          "base_uri": "https://localhost:8080/"
        },
        "outputId": "581d192e-e711-447f-f8c3-c2b3b54e8a9e"
      },
      "source": [
        "num1 = 20\n",
        "\n",
        "def soma(num):\n",
        "    num = num + 10\n",
        "    return num\n",
        "\n",
        "calculo = soma(10)\n",
        "\n",
        "print(id(num1))\n",
        "print(id(calculo))\n",
        "# Uma vez que os valores de num1 e de calculo serão iguais (20), exibindo em\n",
        "# tela o id desses objetos podemos ver que os mesmos apontam para o mesmo dado\n",
        "# alocado em memória.\n"
      ],
      "execution_count": null,
      "outputs": [
        {
          "output_type": "stream",
          "text": [
            "94220624440416\n",
            "94220624440416\n"
          ],
          "name": "stdout"
        }
      ]
    },
    {
      "cell_type": "code",
      "metadata": {
        "id": "s9E-fHvvSqBE"
      },
      "source": [
        "# Em uma estrutura orientada a objetos, uma classe poderá ter atributos de classe\n",
        "# e métodos de classe, porém haverá uma identificação e indexação interna, onde\n",
        "# quando a classe deixar de ser molde para um objeto, internamente os atributos\n",
        "# iniciais serão classificados como dead object e um mecanismo chamado garbage\n",
        "# collector irá zerar as referências de dados/valores alocados em memória\n"
      ],
      "execution_count": null,
      "outputs": []
    },
    {
      "cell_type": "code",
      "metadata": {
        "id": "MfX6bnvBSqEw",
        "colab": {
          "base_uri": "https://localhost:8080/"
        },
        "outputId": "b76ed894-a3ee-4f33-86a9-c46e7d881a2c"
      },
      "source": [
        "class Pessoa:\n",
        "    def __init__(self, idade):\n",
        "        self.idade = idade\n",
        "    \n",
        "    def att_idade(self):\n",
        "        return self.idade\n",
        "\n",
        "pessoa1 = Pessoa(18)\n",
        "\n",
        "pessoa2 = pessoa1\n",
        "\n",
        "print(pessoa1)\n",
        "print(pessoa2)\n",
        "\n",
        "# pessoa1 e pessoa2 apontam para o mesmo dado/valor alocado em memória\n"
      ],
      "execution_count": null,
      "outputs": [
        {
          "output_type": "stream",
          "text": [
            "<__main__.Pessoa object at 0x7f72dbdb8710>\n",
            "<__main__.Pessoa object at 0x7f72dbdb8710>\n"
          ],
          "name": "stdout"
        }
      ]
    },
    {
      "cell_type": "code",
      "metadata": {
        "id": "DYj9k5z6SqH2"
      },
      "source": [
        "class Pessoa:\n",
        "    def __init__(self, idade):\n",
        "        self.idade = idade\n",
        "    \n",
        "    def att_idade(self):\n",
        "        return self.idade\n",
        "\n",
        "pessoa1 = Pessoa(18)\n",
        "\n",
        "pessoa2 = pessoa1\n",
        "\n",
        "pessoa3 = Pessoa(33)\n",
        "\n",
        "# 3 objetos apontando para 2 dados/valores alocados em memória\n"
      ],
      "execution_count": null,
      "outputs": []
    },
    {
      "cell_type": "markdown",
      "metadata": {
        "id": "W_ZmuqO1PQjP"
      },
      "source": [
        "Contagem de referência"
      ]
    },
    {
      "cell_type": "code",
      "metadata": {
        "id": "ETSipMWkSqLA"
      },
      "source": [
        "# Serve para contar quantos objetos estão usando um dado/valor alocado\n",
        "# em memória, lembrando que na orientação a objetos quando uma variável/objeto\n",
        "# deixa de instanciar um dado/valor alocado em memória, o mesmo se torna um\n",
        "# dead object, em seguida tendo seus registros e conteúdo limpados por completo.\n",
        "\n",
        "# Lembrando também que em python uma função também é um objeto, logo, ao buscar\n",
        "# pela contagem de quantos objetos existem com dados/valores alicados em memória\n",
        "# a própria função de contagem será mais uma instância que interage com o dado/\n",
        "# valor em memória.\n"
      ],
      "execution_count": null,
      "outputs": []
    },
    {
      "cell_type": "code",
      "metadata": {
        "id": "jH61WNESSqNY",
        "colab": {
          "base_uri": "https://localhost:8080/"
        },
        "outputId": "09021ae6-5306-4396-e91a-7240b73e1116"
      },
      "source": [
        "import sys\n",
        "\n",
        "lista = ['Paulo', 'Mariana']\n",
        "nomes = lista\n",
        "\n",
        "print(sys.getrefcount(lista))\n",
        "\n",
        "# Retornará 3, sendo na contagem de referência 1 referente a variével lista, 2\n",
        "# referente a variável nomes e 3 referente a função getrefcount().\n"
      ],
      "execution_count": null,
      "outputs": [
        {
          "output_type": "stream",
          "text": [
            "3\n"
          ],
          "name": "stdout"
        }
      ]
    },
    {
      "cell_type": "markdown",
      "metadata": {
        "id": "htx6PriqV3No"
      },
      "source": [
        "Verificando o tempo de execução de um código"
      ]
    },
    {
      "cell_type": "code",
      "metadata": {
        "id": "71n67soRV6sI",
        "colab": {
          "base_uri": "https://localhost:8080/"
        },
        "outputId": "7f52f8d2-d207-41ae-8fed-4272f53dcc35"
      },
      "source": [
        "from timeit import timeit as t\n",
        "from collections import namedtuple\n",
        "\n",
        "Pessoa = namedtuple('Pessoa', 'nome email')\n",
        "\n",
        "pessoa1 = Pessoa('Pessoa', 'fernando2rad@gmail.com')\n",
        "\n",
        "print(t(pessoa1.nome, globals=globals()))\n",
        "# Irá retornar o tempo em segundos que o núcleo Python levou para abrir\n",
        "# e processar todo o conteúdo desse código.\n"
      ],
      "execution_count": null,
      "outputs": [
        {
          "output_type": "stream",
          "text": [
            "0.02830556899994008\n"
          ],
          "name": "stdout"
        }
      ]
    },
    {
      "cell_type": "markdown",
      "metadata": {
        "id": "BzAjfUUvC38j"
      },
      "source": [
        "Função timeit( ) para verificar de forma simples o tempo de execução de um código"
      ]
    },
    {
      "cell_type": "code",
      "metadata": {
        "colab": {
          "base_uri": "https://localhost:8080/"
        },
        "id": "MfDQHN38mxd6",
        "outputId": "8abd0d9f-5472-473b-c1ce-ef93027cc875"
      },
      "source": [
        "import timeit\n",
        "\n",
        "numeros = [[1,2], [3,4], [5,6], [7,8], [9,10]]\n",
        "\n",
        "def lista_numeros():\n",
        "    lista = []\n",
        "    for i in numeros:\n",
        "        for j in i:\n",
        "            lista.append(j)\n",
        "    return lista\n",
        "\n",
        "print(timeit.timeit()) # Quando usado no final de um código, retornará o tempo de execução do mesmo\n"
      ],
      "execution_count": null,
      "outputs": [
        {
          "output_type": "stream",
          "text": [
            "0.021313827999620116\n"
          ],
          "name": "stdout"
        }
      ]
    },
    {
      "cell_type": "markdown",
      "metadata": {
        "id": "ExL2Vad-doFa"
      },
      "source": [
        "Inspecionando um objeto (sua referência na memória e seu arquivo de origem)"
      ]
    },
    {
      "cell_type": "code",
      "metadata": {
        "colab": {
          "base_uri": "https://localhost:8080/"
        },
        "id": "EHtND4P4dwuc",
        "outputId": "fb528577-3c9c-4625-d665-6099186bfe13"
      },
      "source": [
        "def fib(n):\n",
        " if n <= 2: return 1\n",
        " return fib(n-1) + fib(n-2)\n",
        "dir(fib.__code__)\n",
        "\n",
        "num = fib(4)\n",
        "\n",
        "print(num) # Irá exibir em tela o valor retornado pela função fib()\n",
        "\n",
        "print(fib.__code__) # Irá exibir em tela o ID do objeto, seguido de seu arquivo local de origem\n"
      ],
      "execution_count": null,
      "outputs": [
        {
          "output_type": "stream",
          "text": [
            "3\n",
            "<code object fib at 0x7fb5a706b8a0, file \"<ipython-input-1-29939fac05a0>\", line 1>\n"
          ],
          "name": "stdout"
        }
      ]
    },
    {
      "cell_type": "markdown",
      "metadata": {
        "id": "bwI-G7I88I-9"
      },
      "source": [
        "Persistência"
      ]
    },
    {
      "cell_type": "code",
      "metadata": {
        "id": "KKDiI_TM8K4V"
      },
      "source": [
        "# Persistência em Python diz respeito a guardar o último estado de um código,\n",
        "# com os últimos estados de seus objetos como estavam alocados em memória,\n",
        "# para que se possa carregar um estado e continuar a execução de um script\n",
        "# sem ter que o fazer novamente do zero.\n",
        "\n",
        "pessoa1 = {'Nome':'Fernando',\n",
        "           'Idade':'34',\n",
        "           'Profissão':'Eng. da Computação'}\n",
        "\n",
        "import pickle\n",
        "\n",
        "# Armazenando dados e estados\n",
        "file = open('nomedoarquivo', 'wb')\n",
        "pickle.dump(pessoa1, file)\n",
        "file.close()\n",
        "\n",
        "# Carregando dados e estados\n",
        "file = open('nomedoarquivo', 'rb')\n",
        "data = pickle.load(file)\n",
        "file.close()\n"
      ],
      "execution_count": null,
      "outputs": []
    },
    {
      "cell_type": "code",
      "metadata": {
        "id": "AdWg3dVS9eWe"
      },
      "source": [
        "# Criando um mecanismo de save e load de estado para qualquer aplicação\n",
        "\n",
        "import pickle\n",
        "\n",
        "# Mecanismo de salvamento\n",
        "def save(nomedoarquivo.object):\n",
        "  file = open('nomedoarquivo', 'wb')\n",
        "  pickle.dump(object, file)\n",
        "  file.close()\n",
        "  return object\n",
        "\n",
        "# Mecanismo de carregamento\n",
        "def load(nomedoarquivo):\n",
        "  file = open(nomedoarquivo, 'rb')\n",
        "  object = pickle.load(file)\n",
        "  file.close()\n",
        "  return object\n"
      ],
      "execution_count": null,
      "outputs": []
    },
    {
      "cell_type": "markdown",
      "metadata": {
        "id": "xzEVZMRr1k8z"
      },
      "source": [
        "## Pip"
      ]
    },
    {
      "cell_type": "markdown",
      "metadata": {
        "id": "E_jU2e7ehJRu"
      },
      "source": [
        "Site oficial para documentação"
      ]
    },
    {
      "cell_type": "code",
      "metadata": {
        "id": "uWPIZyuw1kBq"
      },
      "source": [
        "https://pypi.org/project/pip/\n"
      ],
      "execution_count": null,
      "outputs": []
    },
    {
      "cell_type": "code",
      "metadata": {
        "id": "GWXSM4zo1kE5"
      },
      "source": [
        "pip install pip\n"
      ],
      "execution_count": null,
      "outputs": []
    },
    {
      "cell_type": "markdown",
      "metadata": {
        "id": "8YS7EmWHhMXQ"
      },
      "source": [
        "Instalando uma biblioteca"
      ]
    },
    {
      "cell_type": "code",
      "metadata": {
        "id": "v4nm-NuT1p9i"
      },
      "source": [
        "pip install camelcase\n"
      ],
      "execution_count": null,
      "outputs": []
    },
    {
      "cell_type": "markdown",
      "metadata": {
        "id": "vHs8lq9jhS_m"
      },
      "source": [
        "Desinstalando uma biblioteca"
      ]
    },
    {
      "cell_type": "code",
      "metadata": {
        "id": "PAxuYmHm1qAB"
      },
      "source": [
        "pip uninstall camelcase\n"
      ],
      "execution_count": null,
      "outputs": []
    },
    {
      "cell_type": "markdown",
      "metadata": {
        "id": "T76xi1XUhWfW"
      },
      "source": [
        "Listar bibliotecas, módulos e pacotes instalados"
      ]
    },
    {
      "cell_type": "code",
      "metadata": {
        "id": "a6Bmzy5N4H6I"
      },
      "source": [
        "pip list # somente via terminal\n"
      ],
      "execution_count": null,
      "outputs": []
    },
    {
      "cell_type": "markdown",
      "metadata": {
        "id": "HS4qlYKAhcl5"
      },
      "source": [
        "Importando uma biblioteca"
      ]
    },
    {
      "cell_type": "code",
      "metadata": {
        "id": "fMhgkkcU1qCG"
      },
      "source": [
        "import camelcase\n"
      ],
      "execution_count": null,
      "outputs": []
    },
    {
      "cell_type": "markdown",
      "metadata": {
        "id": "6q_rf7h1hfxd"
      },
      "source": [
        "Importando apenas um módulo de uma biblioteca"
      ]
    },
    {
      "cell_type": "code",
      "metadata": {
        "id": "1dKvnEPV1qEG"
      },
      "source": [
        "from camelcase import CamelCase\n"
      ],
      "execution_count": null,
      "outputs": []
    },
    {
      "cell_type": "markdown",
      "metadata": {
        "id": "_qtP4jFgwSDs"
      },
      "source": [
        "Referenciando um módulo por uma abreviação"
      ]
    },
    {
      "cell_type": "code",
      "metadata": {
        "id": "3AVFBKIq1kHt"
      },
      "source": [
        "from camelcase import CamelCase as cc\n"
      ],
      "execution_count": null,
      "outputs": []
    },
    {
      "cell_type": "code",
      "metadata": {
        "id": "_0-XJ1K32G0V"
      },
      "source": [
        "nome = 'fernando'\n",
        "\n",
        "conversor = cc()\n",
        "\n",
        "print(conversor.hump(nome))\n"
      ],
      "execution_count": null,
      "outputs": []
    },
    {
      "cell_type": "markdown",
      "metadata": {
        "id": "HOdwv5PCf9K8"
      },
      "source": [
        "Verificando a versão instalada no ambiente virtualizado"
      ]
    },
    {
      "cell_type": "code",
      "metadata": {
        "id": "gbWbRYbA2G50"
      },
      "source": [
        "# pip install importlib\n",
        "\n",
        "from importlib import metadata\n",
        "\n",
        "print(metadata.version('pip'))\n"
      ],
      "execution_count": null,
      "outputs": []
    },
    {
      "cell_type": "markdown",
      "metadata": {
        "id": "AYibuRadw2e5"
      },
      "source": [
        "## Metadados"
      ]
    },
    {
      "cell_type": "code",
      "metadata": {
        "id": "g-UIbnziw4XU"
      },
      "source": [
        "!pip install importlib\n",
        "from importlib import metadata\n"
      ],
      "execution_count": null,
      "outputs": []
    },
    {
      "cell_type": "code",
      "metadata": {
        "id": "xDzTgXeMw4cM"
      },
      "source": [
        "from importlib import metadata\n",
        "\n",
        "versao_numpy = metadata.version('numpy')\n",
        "\n",
        "print(versao_numpy)\n",
        "\n",
        "metadados_numpy = metadata.metadata('numpy')\n",
        "\n",
        "print(list(metadados_numpy))\n",
        "print(metadados_numpy)\n",
        "\n",
        "print(metadados_numpy['Maintainer-email'])\n"
      ],
      "execution_count": null,
      "outputs": []
    },
    {
      "cell_type": "markdown",
      "metadata": {
        "id": "X8iHqbGt1dID"
      },
      "source": [
        "Verificando o número de arquivos de um pacote"
      ]
    },
    {
      "cell_type": "code",
      "metadata": {
        "id": "ek1dyVONw4ex"
      },
      "source": [
        "print(len(metadata.files('numpy')))\n"
      ],
      "execution_count": null,
      "outputs": []
    },
    {
      "cell_type": "markdown",
      "metadata": {
        "id": "B4LQ2hsi1xL2"
      },
      "source": [
        "Verificando os requisitos de uma biblioteca"
      ]
    },
    {
      "cell_type": "code",
      "metadata": {
        "id": "ckVhWE97w4gs"
      },
      "source": [
        "print(metadata.requires('numpy'))\n",
        "# Caso retorne None significa que todas dependências são instaladas\n",
        "# junto com a própria biblioteca.\n"
      ],
      "execution_count": null,
      "outputs": []
    },
    {
      "cell_type": "markdown",
      "metadata": {
        "id": "bckZ_UkWH8U1"
      },
      "source": [
        "## Índices Ordenados"
      ]
    },
    {
      "cell_type": "markdown",
      "metadata": {
        "id": "_9hLJu7RSB0_"
      },
      "source": [
        "Enum para transformar objetos de uma classe em índices ordenados imutáveis"
      ]
    },
    {
      "cell_type": "code",
      "metadata": {
        "colab": {
          "base_uri": "https://localhost:8080/"
        },
        "id": "6GZ1Q_6TR4D0",
        "outputId": "e5232e46-ba1b-4ca8-a5d1-bde2c03ed014"
      },
      "source": [
        "from enum import Enum\n",
        "\n",
        "class Cores(Enum):\n",
        "    azul = 1\n",
        "    branco = 2\n",
        "    verde = 3\n",
        "    amarelo = 4\n",
        "    vermelho = 5\n",
        "\n",
        "print(Cores.amarelo)\n",
        "print(Cores(4))\n",
        "print(Cores['amarelo'])\n",
        "\n",
        "print(Cores(1))\n"
      ],
      "execution_count": null,
      "outputs": [
        {
          "output_type": "stream",
          "text": [
            "Cores.amarelo\n",
            "Cores.amarelo\n",
            "Cores.amarelo\n",
            "Cores.azul\n"
          ],
          "name": "stdout"
        }
      ]
    },
    {
      "cell_type": "code",
      "metadata": {
        "colab": {
          "base_uri": "https://localhost:8080/"
        },
        "id": "q1LWUUFeR4GZ",
        "outputId": "ffcd2b37-818e-4a76-dcbc-a632bcdeaa9d"
      },
      "source": [
        "# Para exibir todo o conjunto de elementos é possível usar do laço for\n",
        "\n",
        "[c for c in Cores]\n"
      ],
      "execution_count": null,
      "outputs": [
        {
          "output_type": "execute_result",
          "data": {
            "text/plain": [
              "[<Cores.azul: 1>,\n",
              " <Cores.branco: 2>,\n",
              " <Cores.verde: 3>,\n",
              " <Cores.amarelo: 4>,\n",
              " <Cores.vermelho: 5>]"
            ]
          },
          "metadata": {
            "tags": []
          },
          "execution_count": 14
        }
      ]
    },
    {
      "cell_type": "markdown",
      "metadata": {
        "id": "fXJYpuJcHyWh"
      },
      "source": [
        "## Arrays de Alta Performance"
      ]
    },
    {
      "cell_type": "markdown",
      "metadata": {
        "id": "lDTDjtiIuYTL"
      },
      "source": [
        "Arrays de alta performance"
      ]
    },
    {
      "cell_type": "code",
      "metadata": {
        "id": "eNPpmAiWmBJq",
        "colab": {
          "base_uri": "https://localhost:8080/"
        },
        "outputId": "c3a9e49b-5983-4aef-d382-fac145c267c5"
      },
      "source": [
        "from array import *\n",
        "\n",
        "array1 = array('f', [1,2,3,4,5,6,7,8,9,10])\n",
        "\n",
        "print(array1)\n",
        "print(type(array1))\n",
        "\n",
        "# Tabela dos principais typecodes\n",
        "\n",
        "# b Representa um número inteiro de 1 byte\n",
        "# h Representa um número inteiro de 2 bytes\n",
        "# c Representa um caractere de 1 byte\n",
        "# u Representa um caractere unicode de 2 bytes\n",
        "# w Representa um caractere unicode de 4 bytes\n",
        "# f Representa um número float de 4 bytes\n",
        "# d Representa um número float de 8 bytes\n",
        "\n",
        "# especificando o tipo de dado que consta em uma lista pode se reduzir drasticamente seu tamanho em memória\n"
      ],
      "execution_count": null,
      "outputs": [
        {
          "output_type": "stream",
          "text": [
            "array('f', [1.0, 2.0, 3.0, 4.0, 5.0, 6.0, 7.0, 8.0, 9.0, 10.0])\n",
            "<class 'array.array'>\n"
          ],
          "name": "stdout"
        }
      ]
    },
    {
      "cell_type": "markdown",
      "metadata": {
        "id": "12xzbr9MIu92"
      },
      "source": [
        "Arrays Numpy"
      ]
    },
    {
      "cell_type": "code",
      "metadata": {
        "id": "vuFdlPDprqIa"
      },
      "source": [
        "import numpy as np"
      ],
      "execution_count": null,
      "outputs": []
    },
    {
      "cell_type": "code",
      "metadata": {
        "colab": {
          "base_uri": "https://localhost:8080/"
        },
        "id": "TOD6Mi-UXGKR",
        "outputId": "76351bcd-3a76-4d4f-8abc-d3ddd72e5896"
      },
      "source": [
        "Tipagem de dados Numpy\n",
        "\n",
        "data = np.array([[122, 183, 115],[420, 111, 128]])\n",
        "# Dados automaticamente identificados como do tipo int\n",
        "\n",
        "print(data)\n",
        "print(type(data))\n",
        "print(data.dtype)\n"
      ],
      "execution_count": null,
      "outputs": [
        {
          "output_type": "stream",
          "text": [
            "[[122 183 115]\n",
            " [420 111 128]]\n",
            "<class 'numpy.ndarray'>\n",
            "int64\n"
          ],
          "name": "stdout"
        }
      ]
    },
    {
      "cell_type": "code",
      "metadata": {
        "colab": {
          "base_uri": "https://localhost:8080/"
        },
        "id": "n2CcNXsztJS-",
        "outputId": "9933cac4-c4ca-4405-f651-eb709f33988b"
      },
      "source": [
        "data = np.array([[122, 183, 115],[420, 111, 128]], dtype = 'int')\n",
        "# Dados manualmente definidos como do tipo int\n",
        "\n",
        "print(data)\n",
        "print(type(data))\n",
        "print(data.dtype)\n"
      ],
      "execution_count": null,
      "outputs": [
        {
          "output_type": "stream",
          "text": [
            "[[122 183 115]\n",
            " [420 111 128]]\n",
            "<class 'numpy.ndarray'>\n",
            "int64\n"
          ],
          "name": "stdout"
        }
      ]
    },
    {
      "cell_type": "code",
      "metadata": {
        "colab": {
          "base_uri": "https://localhost:8080/"
        },
        "id": "bvDEZ7Y8XGMl",
        "outputId": "8ef3a6c3-d96a-44b6-c9cd-f0ee9b3acff6"
      },
      "source": [
        "data = np.array([[122, 183, 115],[420, 111, 128]], dtype = 'float')\n",
        "# Dados inicialmente declarados como int, porém definidos como float passarão\n",
        "# a ter suas respectivas casas decimais consideradas\n",
        "\n",
        "print(data)\n",
        "print(type(data))\n",
        "print(data.dtype)\n"
      ],
      "execution_count": null,
      "outputs": [
        {
          "output_type": "stream",
          "text": [
            "[[122. 183. 115.]\n",
            " [420. 111. 128.]]\n",
            "<class 'numpy.ndarray'>\n",
            "float64\n"
          ],
          "name": "stdout"
        }
      ]
    },
    {
      "cell_type": "code",
      "metadata": {
        "colab": {
          "base_uri": "https://localhost:8080/"
        },
        "id": "awNf2RwqtsAV",
        "outputId": "00a16c64-58fe-401d-bed4-9a9284aa3c6e"
      },
      "source": [
        "data = np.array([[122.4, 183.7, 115.0],[420.1, 111.9, 128.0]], dtype = 'int')\n",
        "# Dados manualmente definidos como do tipo int, passando a ter seus valores\n",
        "# decimais ignorados pelo interpretador\n",
        "\n",
        "print(data)\n",
        "print(type(data))\n",
        "print(data.dtype)\n"
      ],
      "execution_count": null,
      "outputs": [
        {
          "output_type": "stream",
          "text": [
            "[[122 183 115]\n",
            " [420 111 128]]\n",
            "<class 'numpy.ndarray'>\n",
            "int64\n"
          ],
          "name": "stdout"
        }
      ]
    },
    {
      "cell_type": "code",
      "metadata": {
        "colab": {
          "base_uri": "https://localhost:8080/"
        },
        "id": "cCqh4U0uXGOs",
        "outputId": "8485babd-5d9f-45ae-da0a-b3927a238f6e"
      },
      "source": [
        "data = np.array([['122', '183', '115'],['420', '111', '128']])\n",
        "# Dados automaticamente identificados como string pela sintaxe\n",
        "\n",
        "print(data)\n",
        "print(type(data))\n",
        "print(data.dtype)\n"
      ],
      "execution_count": null,
      "outputs": [
        {
          "output_type": "stream",
          "text": [
            "[['122' '183' '115']\n",
            " ['420' '111' '128']]\n",
            "<class 'numpy.ndarray'>\n",
            "<U3\n"
          ],
          "name": "stdout"
        }
      ]
    },
    {
      "cell_type": "code",
      "metadata": {
        "colab": {
          "base_uri": "https://localhost:8080/"
        },
        "id": "PnbEjKNBsiib",
        "outputId": "3da87d17-4996-4a14-9447-5b8d0fb52394"
      },
      "source": [
        "data = np.array([[True, True, False],[False, False, True]])\n",
        "\n",
        "print(data)\n",
        "print(type(data))\n",
        "print(data.dtype)\n"
      ],
      "execution_count": null,
      "outputs": [
        {
          "output_type": "stream",
          "text": [
            "[[ True  True False]\n",
            " [False False  True]]\n",
            "<class 'numpy.ndarray'>\n",
            "bool\n"
          ],
          "name": "stdout"
        }
      ]
    },
    {
      "cell_type": "markdown",
      "metadata": {
        "id": "HcS79tdCQ-nc"
      },
      "source": [
        "Performance de uma array Numpy comparado a uma array padrão do Python"
      ]
    },
    {
      "cell_type": "code",
      "metadata": {
        "colab": {
          "base_uri": "https://localhost:8080/"
        },
        "id": "73uDQFeDsipR",
        "outputId": "1ed63687-0f47-4e97-edcb-91c1403520f6"
      },
      "source": [
        "array_numpy = np.arange(2000)\n",
        "\n",
        "%timeit array_numpy\n"
      ],
      "execution_count": null,
      "outputs": [
        {
          "output_type": "stream",
          "text": [
            "The slowest run took 635.30 times longer than the fastest. This could mean that an intermediate result is being cached.\n",
            "10000000 loops, best of 5: 27.4 ns per loop\n"
          ],
          "name": "stdout"
        }
      ]
    },
    {
      "cell_type": "code",
      "metadata": {
        "colab": {
          "base_uri": "https://localhost:8080/"
        },
        "id": "QH6TTMogsirY",
        "outputId": "177efc53-1a61-4cf0-a766-746419683d92"
      },
      "source": [
        "array_python = range(2000)\n",
        "\n",
        "%timeit [array_python[i] for i in array_python]"
      ],
      "execution_count": null,
      "outputs": [
        {
          "output_type": "stream",
          "text": [
            "1000 loops, best of 5: 311 µs per loop\n"
          ],
          "name": "stdout"
        }
      ]
    },
    {
      "cell_type": "markdown",
      "metadata": {
        "id": "zxs3JDZaDQPh"
      },
      "source": [
        "## Códigos de Erro"
      ]
    },
    {
      "cell_type": "markdown",
      "metadata": {
        "id": "Vsi1hO-GEHO4"
      },
      "source": [
        "SyntaxError"
      ]
    },
    {
      "cell_type": "code",
      "metadata": {
        "id": "UN0hlxeCEIFz",
        "colab": {
          "base_uri": "https://localhost:8080/",
          "height": 135
        },
        "outputId": "5bae022e-3e14-45b3-ddc5-de330b2fff88"
      },
      "source": [
        "# Erro gerado ao tentar passar uma instrução usando de um comando\n",
        "# não reconhecido pelo interpretador.\n",
        "\n",
        "num1 47\n",
        "# Toda variável deve usar do operador de atribuição \" = \" para associar algum dado/valor para si\n",
        "\n",
        "# Forma correta: num1 = 47\n"
      ],
      "execution_count": null,
      "outputs": [
        {
          "output_type": "error",
          "ename": "SyntaxError",
          "evalue": "ignored",
          "traceback": [
            "\u001b[0;36m  File \u001b[0;32m\"<ipython-input-564-c2bec80545a4>\"\u001b[0;36m, line \u001b[0;32m4\u001b[0m\n\u001b[0;31m    num1 47\u001b[0m\n\u001b[0m          ^\u001b[0m\n\u001b[0;31mSyntaxError\u001b[0m\u001b[0;31m:\u001b[0m invalid syntax\n"
          ]
        }
      ]
    },
    {
      "cell_type": "code",
      "metadata": {
        "id": "5EYUzVdJE5p8",
        "colab": {
          "base_uri": "https://localhost:8080/",
          "height": 135
        },
        "outputId": "c648a895-834b-4ad2-b369-d1a95b4ee352"
      },
      "source": [
        "num1 = 47\n",
        "\n",
        "print(num1 -> 10)\n",
        "# símbolo não reconhecido pelo interpretador gera erro de sintaxe\n",
        "\n",
        "# Forma correta: print(num1 > 10)\n"
      ],
      "execution_count": null,
      "outputs": [
        {
          "output_type": "error",
          "ename": "SyntaxError",
          "evalue": "ignored",
          "traceback": [
            "\u001b[0;36m  File \u001b[0;32m\"<ipython-input-565-ef984fc7df1a>\"\u001b[0;36m, line \u001b[0;32m3\u001b[0m\n\u001b[0;31m    print(num1 -> 10)\u001b[0m\n\u001b[0m                ^\u001b[0m\n\u001b[0;31mSyntaxError\u001b[0m\u001b[0;31m:\u001b[0m invalid syntax\n"
          ]
        }
      ]
    },
    {
      "cell_type": "code",
      "metadata": {
        "id": "fNrOqHWEFTWx",
        "colab": {
          "base_uri": "https://localhost:8080/",
          "height": 135
        },
        "outputId": "2e23477d-2ab7-47bd-f564-8851288b9542"
      },
      "source": [
        "num1 = 47\n",
        "\n",
        "if num1 > 10\n",
        "print('Maior que 10')\n",
        "# Toda estrutura condicional deve ser encerrada com \" : \", assim como seu\n",
        "# referente bloco de código deve ser indentado.\n",
        "\n",
        "# Forma correta:\n",
        "# if num1 > 10:\n",
        "#    print('Maior que 10')\n"
      ],
      "execution_count": null,
      "outputs": [
        {
          "output_type": "error",
          "ename": "SyntaxError",
          "evalue": "ignored",
          "traceback": [
            "\u001b[0;36m  File \u001b[0;32m\"<ipython-input-566-5980e7533e6f>\"\u001b[0;36m, line \u001b[0;32m3\u001b[0m\n\u001b[0;31m    if num1 > 10\u001b[0m\n\u001b[0m                ^\u001b[0m\n\u001b[0;31mSyntaxError\u001b[0m\u001b[0;31m:\u001b[0m invalid syntax\n"
          ]
        }
      ]
    },
    {
      "cell_type": "code",
      "metadata": {
        "id": "eKqKLjtVGNoC",
        "colab": {
          "base_uri": "https://localhost:8080/",
          "height": 135
        },
        "outputId": "2fe3113c-4f96-4f74-9659-ed2436534bc6"
      },
      "source": [
        "lista = [1, 3, 5, 7, 9, 2, 4, 6, 8]\n",
        "\n",
        "for num lista:\n",
        "  print(num)\n",
        "# Todo laço de repetição for precisa de uma variável temporária definida,\n",
        "# nesse caso num, assim como um operador que indique onde iterar, nesse\n",
        "# caso dentro do conteúdo da variável lista.\n",
        "\n",
        "# Forma correta:\n",
        "# for num in lista:\n",
        "#     print(num)\n"
      ],
      "execution_count": null,
      "outputs": [
        {
          "output_type": "error",
          "ename": "SyntaxError",
          "evalue": "ignored",
          "traceback": [
            "\u001b[0;36m  File \u001b[0;32m\"<ipython-input-567-011155aedf46>\"\u001b[0;36m, line \u001b[0;32m3\u001b[0m\n\u001b[0;31m    for num lista:\u001b[0m\n\u001b[0m                ^\u001b[0m\n\u001b[0;31mSyntaxError\u001b[0m\u001b[0;31m:\u001b[0m invalid syntax\n"
          ]
        }
      ]
    },
    {
      "cell_type": "markdown",
      "metadata": {
        "id": "pXX5eASbHtIG"
      },
      "source": [
        "NameError"
      ]
    },
    {
      "cell_type": "code",
      "metadata": {
        "id": "CVJUXzMIHuVn",
        "colab": {
          "base_uri": "https://localhost:8080/",
          "height": 246
        },
        "outputId": "1a53b6c6-d8b9-498f-a3f6-6531da7872ea"
      },
      "source": [
        "# Todo objeto em Python deve ter um nome para que possa ser instanciável\n",
        "\n",
        "print(var_num47)\n",
        "# A função print( ) precisa conseguir ler o conteúdo de uma variável para\n",
        "# exibir em tela seu conteúdo. Nesse caso, como a variável var_num47 não\n",
        "# existe, será retornado um NameError\n"
      ],
      "execution_count": null,
      "outputs": [
        {
          "output_type": "error",
          "ename": "NameError",
          "evalue": "ignored",
          "traceback": [
            "\u001b[0;31m---------------------------------------------------------------------------\u001b[0m",
            "\u001b[0;31mNameError\u001b[0m                                 Traceback (most recent call last)",
            "\u001b[0;32m<ipython-input-568-565fda4a6058>\u001b[0m in \u001b[0;36m<module>\u001b[0;34m()\u001b[0m\n\u001b[1;32m      1\u001b[0m \u001b[0;31m# Todo objeto em Python deve ter um nome para que possa ser instanciável\u001b[0m\u001b[0;34m\u001b[0m\u001b[0;34m\u001b[0m\u001b[0;34m\u001b[0m\u001b[0m\n\u001b[1;32m      2\u001b[0m \u001b[0;34m\u001b[0m\u001b[0m\n\u001b[0;32m----> 3\u001b[0;31m \u001b[0mprint\u001b[0m\u001b[0;34m(\u001b[0m\u001b[0mvar_num47\u001b[0m\u001b[0;34m)\u001b[0m\u001b[0;34m\u001b[0m\u001b[0;34m\u001b[0m\u001b[0m\n\u001b[0m\u001b[1;32m      4\u001b[0m \u001b[0;31m# A função print( ) precisa conseguir ler o conteúdo de uma variável para\u001b[0m\u001b[0;34m\u001b[0m\u001b[0;34m\u001b[0m\u001b[0;34m\u001b[0m\u001b[0m\n\u001b[1;32m      5\u001b[0m \u001b[0;31m# exibir em tela seu conteúdo. Nesse caso, como a variável var_num47 não\u001b[0m\u001b[0;34m\u001b[0m\u001b[0;34m\u001b[0m\u001b[0;34m\u001b[0m\u001b[0m\n",
            "\u001b[0;31mNameError\u001b[0m: name 'var_num47' is not defined"
          ]
        }
      ]
    },
    {
      "cell_type": "markdown",
      "metadata": {
        "id": "8Tby9_tKDZF9"
      },
      "source": [
        "TypeError"
      ]
    },
    {
      "cell_type": "code",
      "metadata": {
        "id": "GctWek6-Ctbh",
        "colab": {
          "base_uri": "https://localhost:8080/",
          "height": 227
        },
        "outputId": "39df4f79-fd3e-4234-a604-3198c9df64a6"
      },
      "source": [
        "# Erro gerado quando tentado realizar alguma operação entre tipos\n",
        "# de dados não equivalentes.\n",
        "\n",
        "num1 = 47 # int\n",
        "num2 = '48' # string\n",
        "\n",
        "print(num1 + num2)\n",
        "# Irá retornar um TypeError pois não é possível somar um número com um texto\n"
      ],
      "execution_count": null,
      "outputs": [
        {
          "output_type": "error",
          "ename": "TypeError",
          "evalue": "ignored",
          "traceback": [
            "\u001b[0;31m---------------------------------------------------------------------------\u001b[0m",
            "\u001b[0;31mTypeError\u001b[0m                                 Traceback (most recent call last)",
            "\u001b[0;32m<ipython-input-569-a3d403f1d558>\u001b[0m in \u001b[0;36m<module>\u001b[0;34m()\u001b[0m\n\u001b[1;32m      5\u001b[0m \u001b[0mnum2\u001b[0m \u001b[0;34m=\u001b[0m \u001b[0;34m'48'\u001b[0m \u001b[0;31m# string\u001b[0m\u001b[0;34m\u001b[0m\u001b[0;34m\u001b[0m\u001b[0m\n\u001b[1;32m      6\u001b[0m \u001b[0;34m\u001b[0m\u001b[0m\n\u001b[0;32m----> 7\u001b[0;31m \u001b[0mprint\u001b[0m\u001b[0;34m(\u001b[0m\u001b[0mnum1\u001b[0m \u001b[0;34m+\u001b[0m \u001b[0mnum2\u001b[0m\u001b[0;34m)\u001b[0m\u001b[0;34m\u001b[0m\u001b[0;34m\u001b[0m\u001b[0m\n\u001b[0m\u001b[1;32m      8\u001b[0m \u001b[0;31m# Irá retornar um TypeError pois não é possível somar um número com um texto\u001b[0m\u001b[0;34m\u001b[0m\u001b[0;34m\u001b[0m\u001b[0;34m\u001b[0m\u001b[0m\n",
            "\u001b[0;31mTypeError\u001b[0m: unsupported operand type(s) for +: 'int' and 'str'"
          ]
        }
      ]
    },
    {
      "cell_type": "code",
      "metadata": {
        "id": "wgR4hbYmOtRe",
        "colab": {
          "base_uri": "https://localhost:8080/",
          "height": 227
        },
        "outputId": "5b05a86b-41b2-4a35-9c6e-dac321c9520c"
      },
      "source": [
        "# Erro gerado quando um parâmetro/argumento ou atributo de classe não é um objeto válido\n",
        "\n",
        "class Pessoa():\n",
        "    def msg():\n",
        "        print('Olá!')\n",
        "\n",
        "visitante = Pessoa()\n",
        "visitante.msg()\n",
        "# Como self não foi declarado, o próprio método de classe foi considerado como argumento\n"
      ],
      "execution_count": null,
      "outputs": [
        {
          "output_type": "error",
          "ename": "TypeError",
          "evalue": "ignored",
          "traceback": [
            "\u001b[0;31m---------------------------------------------------------------------------\u001b[0m",
            "\u001b[0;31mTypeError\u001b[0m                                 Traceback (most recent call last)",
            "\u001b[0;32m<ipython-input-570-a1d609adf32e>\u001b[0m in \u001b[0;36m<module>\u001b[0;34m()\u001b[0m\n\u001b[1;32m      6\u001b[0m \u001b[0;34m\u001b[0m\u001b[0m\n\u001b[1;32m      7\u001b[0m \u001b[0mvisitante\u001b[0m \u001b[0;34m=\u001b[0m \u001b[0mPessoa\u001b[0m\u001b[0;34m(\u001b[0m\u001b[0;34m)\u001b[0m\u001b[0;34m\u001b[0m\u001b[0;34m\u001b[0m\u001b[0m\n\u001b[0;32m----> 8\u001b[0;31m \u001b[0mvisitante\u001b[0m\u001b[0;34m.\u001b[0m\u001b[0mmsg\u001b[0m\u001b[0;34m(\u001b[0m\u001b[0;34m)\u001b[0m\u001b[0;34m\u001b[0m\u001b[0;34m\u001b[0m\u001b[0m\n\u001b[0m\u001b[1;32m      9\u001b[0m \u001b[0;31m# Como self não foi declarado, o próprio método de classe foi considerado como argumento\u001b[0m\u001b[0;34m\u001b[0m\u001b[0;34m\u001b[0m\u001b[0;34m\u001b[0m\u001b[0m\n",
            "\u001b[0;31mTypeError\u001b[0m: msg() takes 0 positional arguments but 1 was given"
          ]
        }
      ]
    },
    {
      "cell_type": "code",
      "metadata": {
        "id": "ThOuLx75Qn4f",
        "colab": {
          "base_uri": "https://localhost:8080/",
          "height": 227
        },
        "outputId": "03d08da5-1002-42b8-f4e1-51bdc46969ef"
      },
      "source": [
        "# TypeError também é levantado quando é tentado usar de um método embutido\n",
        "# em uma variável de tipo de dado não suportado.\n",
        "\n",
        "abs('Olá!')\n",
        "# Método abs( ) serve para retornar o valor absoluto, apenas de dados numéricos\n"
      ],
      "execution_count": null,
      "outputs": [
        {
          "output_type": "error",
          "ename": "TypeError",
          "evalue": "ignored",
          "traceback": [
            "\u001b[0;31m---------------------------------------------------------------------------\u001b[0m",
            "\u001b[0;31mTypeError\u001b[0m                                 Traceback (most recent call last)",
            "\u001b[0;32m<ipython-input-571-852534cb1846>\u001b[0m in \u001b[0;36m<module>\u001b[0;34m()\u001b[0m\n\u001b[1;32m      2\u001b[0m \u001b[0;31m# em uma variável de tipo de dado não suportado.\u001b[0m\u001b[0;34m\u001b[0m\u001b[0;34m\u001b[0m\u001b[0;34m\u001b[0m\u001b[0m\n\u001b[1;32m      3\u001b[0m \u001b[0;34m\u001b[0m\u001b[0m\n\u001b[0;32m----> 4\u001b[0;31m \u001b[0mabs\u001b[0m\u001b[0;34m(\u001b[0m\u001b[0;34m'Olá!'\u001b[0m\u001b[0;34m)\u001b[0m\u001b[0;34m\u001b[0m\u001b[0;34m\u001b[0m\u001b[0m\n\u001b[0m\u001b[1;32m      5\u001b[0m \u001b[0;31m# Método abs( ) serve para retornar o valor absoluto, apenas de dados numéricos\u001b[0m\u001b[0;34m\u001b[0m\u001b[0;34m\u001b[0m\u001b[0;34m\u001b[0m\u001b[0m\n",
            "\u001b[0;31mTypeError\u001b[0m: bad operand type for abs(): 'str'"
          ]
        }
      ]
    },
    {
      "cell_type": "markdown",
      "metadata": {
        "id": "XO9-xUmiMnNI"
      },
      "source": [
        "IndentationError"
      ]
    },
    {
      "cell_type": "code",
      "metadata": {
        "id": "Xe1rmnSZMqDy",
        "colab": {
          "base_uri": "https://localhost:8080/",
          "height": 135
        },
        "outputId": "652e3ee9-595a-4df6-ae96-b8ce56d3f927"
      },
      "source": [
        "# Erro gerado quando o interpretador não conseguir ler um bloco de\n",
        "# código em função de sua indentação errada.\n",
        "\n",
        "if 10 > 5:\n",
        "print('10 é maior que 5')\n",
        "\n",
        "# Forma correta:\n",
        "# if 10 > 5:\n",
        "#    print('10 é maior que 5')\n"
      ],
      "execution_count": null,
      "outputs": [
        {
          "output_type": "error",
          "ename": "IndentationError",
          "evalue": "ignored",
          "traceback": [
            "\u001b[0;36m  File \u001b[0;32m\"<ipython-input-572-7a1719be206f>\"\u001b[0;36m, line \u001b[0;32m5\u001b[0m\n\u001b[0;31m    print('10 é maior que 5')\u001b[0m\n\u001b[0m        ^\u001b[0m\n\u001b[0;31mIndentationError\u001b[0m\u001b[0;31m:\u001b[0m expected an indented block\n"
          ]
        }
      ]
    },
    {
      "cell_type": "markdown",
      "metadata": {
        "id": "jrW2p4coNPns"
      },
      "source": [
        "IndexError"
      ]
    },
    {
      "cell_type": "code",
      "metadata": {
        "id": "uaJLtOldNRNh",
        "colab": {
          "base_uri": "https://localhost:8080/",
          "height": 227
        },
        "outputId": "02bd813a-1092-469d-f2d5-ef42be92973e"
      },
      "source": [
        "# Erro gerado quando tentado consultar um valor de índice inexistente em uma lista\n",
        "\n",
        "lista1 = ['Ana', 'Bia', 'Eli', 'Iuri']\n",
        "print(lista1[4])\n",
        "# Elemento 4 não existe no conteúdo de lista1\n"
      ],
      "execution_count": null,
      "outputs": [
        {
          "output_type": "error",
          "ename": "IndexError",
          "evalue": "ignored",
          "traceback": [
            "\u001b[0;31m---------------------------------------------------------------------------\u001b[0m",
            "\u001b[0;31mIndexError\u001b[0m                                Traceback (most recent call last)",
            "\u001b[0;32m<ipython-input-573-691bb0725ff6>\u001b[0m in \u001b[0;36m<module>\u001b[0;34m()\u001b[0m\n\u001b[1;32m      2\u001b[0m \u001b[0;34m\u001b[0m\u001b[0m\n\u001b[1;32m      3\u001b[0m \u001b[0mlista1\u001b[0m \u001b[0;34m=\u001b[0m \u001b[0;34m[\u001b[0m\u001b[0;34m'Ana'\u001b[0m\u001b[0;34m,\u001b[0m \u001b[0;34m'Bia'\u001b[0m\u001b[0;34m,\u001b[0m \u001b[0;34m'Eli'\u001b[0m\u001b[0;34m,\u001b[0m \u001b[0;34m'Iuri'\u001b[0m\u001b[0;34m]\u001b[0m\u001b[0;34m\u001b[0m\u001b[0;34m\u001b[0m\u001b[0m\n\u001b[0;32m----> 4\u001b[0;31m \u001b[0mprint\u001b[0m\u001b[0;34m(\u001b[0m\u001b[0mlista1\u001b[0m\u001b[0;34m[\u001b[0m\u001b[0;36m4\u001b[0m\u001b[0;34m]\u001b[0m\u001b[0;34m)\u001b[0m\u001b[0;34m\u001b[0m\u001b[0;34m\u001b[0m\u001b[0m\n\u001b[0m\u001b[1;32m      5\u001b[0m \u001b[0;31m# Elemento 4 não existe no conteúdo de lista1\u001b[0m\u001b[0;34m\u001b[0m\u001b[0;34m\u001b[0m\u001b[0;34m\u001b[0m\u001b[0m\n",
            "\u001b[0;31mIndexError\u001b[0m: list index out of range"
          ]
        }
      ]
    },
    {
      "cell_type": "markdown",
      "metadata": {
        "id": "mgcLf9hHNyV1"
      },
      "source": [
        "KeyError"
      ]
    },
    {
      "cell_type": "code",
      "metadata": {
        "id": "G1aZdvUcN1nu",
        "colab": {
          "base_uri": "https://localhost:8080/",
          "height": 209
        },
        "outputId": "317929ec-6662-466d-c957-1cdf18ecfa1d"
      },
      "source": [
        "# Erro gerado quando tentado consultar uma chave inexistente em um dicionário\n",
        "\n",
        "nomes = {'Paulo': 'pai',\n",
        "         'Alice': 'mãe',\n",
        "         'Guilherme': 'filho'}\n",
        "\n",
        "print(nomes['Miguel'])\n"
      ],
      "execution_count": null,
      "outputs": [
        {
          "output_type": "error",
          "ename": "KeyError",
          "evalue": "ignored",
          "traceback": [
            "\u001b[0;31m---------------------------------------------------------------------------\u001b[0m",
            "\u001b[0;31mKeyError\u001b[0m                                  Traceback (most recent call last)",
            "\u001b[0;32m<ipython-input-574-e828da1ee6f6>\u001b[0m in \u001b[0;36m<module>\u001b[0;34m()\u001b[0m\n\u001b[1;32m      5\u001b[0m          'Guilherme': 'filho'}\n\u001b[1;32m      6\u001b[0m \u001b[0;34m\u001b[0m\u001b[0m\n\u001b[0;32m----> 7\u001b[0;31m \u001b[0mprint\u001b[0m\u001b[0;34m(\u001b[0m\u001b[0mnomes\u001b[0m\u001b[0;34m[\u001b[0m\u001b[0;34m'Miguel'\u001b[0m\u001b[0;34m]\u001b[0m\u001b[0;34m)\u001b[0m\u001b[0;34m\u001b[0m\u001b[0;34m\u001b[0m\u001b[0m\n\u001b[0m",
            "\u001b[0;31mKeyError\u001b[0m: 'Miguel'"
          ]
        }
      ]
    },
    {
      "cell_type": "markdown",
      "metadata": {
        "id": "O96Mug9FH7Rs"
      },
      "source": [
        "ZeroDivisionError"
      ]
    },
    {
      "cell_type": "code",
      "metadata": {
        "id": "P4F5NTqECteP",
        "colab": {
          "base_uri": "https://localhost:8080/",
          "height": 227
        },
        "outputId": "683080cf-9445-4d12-f1b9-cab853cac32f"
      },
      "source": [
        "# Erro gerado especificamente quando tentado dividir um dado numérico\n",
        "# por 0, que conhecidamente é uma operação matemática impossível.\n",
        "\n",
        "num1 = 99\n",
        "num2 = 0\n",
        "\n",
        "print(num1 / num2)\n",
        "# Impossível dividir 90 por 0\n"
      ],
      "execution_count": null,
      "outputs": [
        {
          "output_type": "error",
          "ename": "ZeroDivisionError",
          "evalue": "ignored",
          "traceback": [
            "\u001b[0;31m---------------------------------------------------------------------------\u001b[0m",
            "\u001b[0;31mZeroDivisionError\u001b[0m                         Traceback (most recent call last)",
            "\u001b[0;32m<ipython-input-575-7a56cfc1c355>\u001b[0m in \u001b[0;36m<module>\u001b[0;34m()\u001b[0m\n\u001b[1;32m      5\u001b[0m \u001b[0mnum2\u001b[0m \u001b[0;34m=\u001b[0m \u001b[0;36m0\u001b[0m\u001b[0;34m\u001b[0m\u001b[0;34m\u001b[0m\u001b[0m\n\u001b[1;32m      6\u001b[0m \u001b[0;34m\u001b[0m\u001b[0m\n\u001b[0;32m----> 7\u001b[0;31m \u001b[0mprint\u001b[0m\u001b[0;34m(\u001b[0m\u001b[0mnum1\u001b[0m \u001b[0;34m/\u001b[0m \u001b[0mnum2\u001b[0m\u001b[0;34m)\u001b[0m\u001b[0;34m\u001b[0m\u001b[0;34m\u001b[0m\u001b[0m\n\u001b[0m\u001b[1;32m      8\u001b[0m \u001b[0;31m# Impossível dividir 90 por 0\u001b[0m\u001b[0;34m\u001b[0m\u001b[0;34m\u001b[0m\u001b[0;34m\u001b[0m\u001b[0m\n",
            "\u001b[0;31mZeroDivisionError\u001b[0m: division by zero"
          ]
        }
      ]
    },
    {
      "cell_type": "markdown",
      "metadata": {
        "id": "mqopLYKEKJi5"
      },
      "source": [
        "FileNotFoundError"
      ]
    },
    {
      "cell_type": "code",
      "metadata": {
        "id": "vgOAg7z6KKDC",
        "colab": {
          "base_uri": "https://localhost:8080/",
          "height": 246
        },
        "outputId": "4f157194-06a5-48d4-9ee9-fb1b29fcf7c8"
      },
      "source": [
        "# Erro gerado ao tentar abrir/ler um arquivo inexistente ou corrompido\n",
        "\n",
        "base = open('planilha.csv', 'r')\n",
        "# O arquivo planilha.csv deveria constar no diretório do código, ou ser\n",
        "# especificado o caminho absoluto até o arquivo.\n"
      ],
      "execution_count": null,
      "outputs": [
        {
          "output_type": "error",
          "ename": "FileNotFoundError",
          "evalue": "ignored",
          "traceback": [
            "\u001b[0;31m---------------------------------------------------------------------------\u001b[0m",
            "\u001b[0;31mFileNotFoundError\u001b[0m                         Traceback (most recent call last)",
            "\u001b[0;32m<ipython-input-576-c7d61d5d7d5e>\u001b[0m in \u001b[0;36m<module>\u001b[0;34m()\u001b[0m\n\u001b[1;32m      1\u001b[0m \u001b[0;31m# Erro gerado ao tentar abrir/ler um arquivo inexistente ou corrompido\u001b[0m\u001b[0;34m\u001b[0m\u001b[0;34m\u001b[0m\u001b[0;34m\u001b[0m\u001b[0m\n\u001b[1;32m      2\u001b[0m \u001b[0;34m\u001b[0m\u001b[0m\n\u001b[0;32m----> 3\u001b[0;31m \u001b[0mbase\u001b[0m \u001b[0;34m=\u001b[0m \u001b[0mopen\u001b[0m\u001b[0;34m(\u001b[0m\u001b[0;34m'planilha.csv'\u001b[0m\u001b[0;34m,\u001b[0m \u001b[0;34m'r'\u001b[0m\u001b[0;34m)\u001b[0m\u001b[0;34m\u001b[0m\u001b[0;34m\u001b[0m\u001b[0m\n\u001b[0m\u001b[1;32m      4\u001b[0m \u001b[0;31m# O arquivo planilha.csv deveria constar no diretório do código, ou ser\u001b[0m\u001b[0;34m\u001b[0m\u001b[0;34m\u001b[0m\u001b[0;34m\u001b[0m\u001b[0m\n\u001b[1;32m      5\u001b[0m \u001b[0;31m# especificado o caminho absoluto até o arquivo.\u001b[0m\u001b[0;34m\u001b[0m\u001b[0;34m\u001b[0m\u001b[0;34m\u001b[0m\u001b[0m\n",
            "\u001b[0;31mFileNotFoundError\u001b[0m: [Errno 2] No such file or directory: 'planilha.csv'"
          ]
        }
      ]
    },
    {
      "cell_type": "markdown",
      "metadata": {
        "id": "UGE27Gs0LDVq"
      },
      "source": [
        "RunTimeError"
      ]
    },
    {
      "cell_type": "code",
      "metadata": {
        "id": "cByXeUZtMclf"
      },
      "source": [
        "# Será todo e qualquer erro que cause interrupção na execução de um programa\n"
      ],
      "execution_count": null,
      "outputs": []
    },
    {
      "cell_type": "markdown",
      "metadata": {
        "id": "w3EbfsEeIxMv"
      },
      "source": [
        "OSError"
      ]
    },
    {
      "cell_type": "code",
      "metadata": {
        "id": "ZE5lX03SP-KI",
        "colab": {
          "base_uri": "https://localhost:8080/",
          "height": 246
        },
        "outputId": "dd1ac788-2f24-43ae-9880-a5c6582ccef5"
      },
      "source": [
        "# Erros gerados ao tentar sem sucesso interagir com alguma\n",
        "# funcionalidade do sistema operacional\n",
        "\n",
        "import os\n",
        "\n",
        "print(os.ttyname(1))\n",
        "# Irá gerar um OSError pois em um ambiente virtualizado comum é esperado\n",
        "# que se tenha apenas um terminal dedicado.\n"
      ],
      "execution_count": null,
      "outputs": [
        {
          "output_type": "error",
          "ename": "OSError",
          "evalue": "ignored",
          "traceback": [
            "\u001b[0;31m---------------------------------------------------------------------------\u001b[0m",
            "\u001b[0;31mOSError\u001b[0m                                   Traceback (most recent call last)",
            "\u001b[0;32m<ipython-input-578-cffa9c802bc7>\u001b[0m in \u001b[0;36m<module>\u001b[0;34m()\u001b[0m\n\u001b[1;32m      4\u001b[0m \u001b[0;32mimport\u001b[0m \u001b[0mos\u001b[0m\u001b[0;34m\u001b[0m\u001b[0;34m\u001b[0m\u001b[0m\n\u001b[1;32m      5\u001b[0m \u001b[0;34m\u001b[0m\u001b[0m\n\u001b[0;32m----> 6\u001b[0;31m \u001b[0mprint\u001b[0m\u001b[0;34m(\u001b[0m\u001b[0mos\u001b[0m\u001b[0;34m.\u001b[0m\u001b[0mttyname\u001b[0m\u001b[0;34m(\u001b[0m\u001b[0;36m1\u001b[0m\u001b[0;34m)\u001b[0m\u001b[0;34m)\u001b[0m\u001b[0;34m\u001b[0m\u001b[0;34m\u001b[0m\u001b[0m\n\u001b[0m\u001b[1;32m      7\u001b[0m \u001b[0;31m# Irá gerar um OSError pois em um ambiente virtualizado comum é esperado\u001b[0m\u001b[0;34m\u001b[0m\u001b[0;34m\u001b[0m\u001b[0;34m\u001b[0m\u001b[0m\n\u001b[1;32m      8\u001b[0m \u001b[0;31m# que se tenha apenas um terminal dedicado.\u001b[0m\u001b[0;34m\u001b[0m\u001b[0;34m\u001b[0m\u001b[0;34m\u001b[0m\u001b[0m\n",
            "\u001b[0;31mOSError\u001b[0m: [Errno 25] Inappropriate ioctl for device"
          ]
        }
      ]
    },
    {
      "cell_type": "markdown",
      "metadata": {
        "id": "fzJ4Ml6mHN0i"
      },
      "source": [
        "## Tópicos Não Categorizados"
      ]
    },
    {
      "cell_type": "markdown",
      "metadata": {
        "id": "_XUi56MURYWJ"
      },
      "source": [
        "Tornando um módulo um script que pode ser executado de forma independente"
      ]
    },
    {
      "cell_type": "code",
      "metadata": {
        "id": "KxA2yIMhRSfk"
      },
      "source": [
        "# Arquivo mensagem.py\n",
        "nome = input('Qual o seu nome: ')\n",
        "\n",
        "def msg():\n",
        "    print(f'Obrigado pela visita {nome}, volte sempre!!!')\n"
      ],
      "execution_count": null,
      "outputs": []
    },
    {
      "cell_type": "code",
      "metadata": {
        "id": "G-ArvPUeOXIc"
      },
      "source": [
        "# Arquivo executa.py\n",
        "if __name__ == '__main__':\n",
        "    from mensagem import msg\n",
        "    msg()\n",
        "\n",
        "# Rodando o código via IDE ou executando o arquivo executa.py via terminal, será executando normalmente seu contexto."
      ],
      "execution_count": null,
      "outputs": []
    },
    {
      "cell_type": "markdown",
      "metadata": {
        "id": "y8zsmGwWR7XV"
      },
      "source": [
        "Long descontinuado"
      ]
    },
    {
      "cell_type": "code",
      "metadata": {
        "colab": {
          "base_uri": "https://localhost:8080/",
          "height": 135
        },
        "id": "rEzTVRiqRSo7",
        "outputId": "9a6f2c7c-5222-4b24-aa77-1a68b8ca7ab6"
      },
      "source": [
        "num = 123456789\n",
        "num2 = 123456789L # não é mais necessário no Python 3 pois o interpretador consegue trabalhar com números longos\n",
        "\n",
        "print(num)\n",
        "print(type(num))\n",
        "print(num2)\n",
        "print(type(num2))\n",
        "\n",
        "# int e long foram unificados, pois o interpretador consegue interpretar números longos perfeitamente, no Python 2 o tamanho máximo era 24 bytes, no Python 3 suporta gigabyter de 32 bits e exabytes de 64 bits\n"
      ],
      "execution_count": null,
      "outputs": [
        {
          "output_type": "error",
          "ename": "SyntaxError",
          "evalue": "ignored",
          "traceback": [
            "\u001b[0;36m  File \u001b[0;32m\"<ipython-input-10-69013893667d>\"\u001b[0;36m, line \u001b[0;32m2\u001b[0m\n\u001b[0;31m    num2 = 123456789L # não é mais necessário no Python 3 pois o interpretador consegue trabalhar com números longos\u001b[0m\n\u001b[0m                    ^\u001b[0m\n\u001b[0;31mSyntaxError\u001b[0m\u001b[0;31m:\u001b[0m invalid syntax\n"
          ]
        }
      ]
    },
    {
      "cell_type": "markdown",
      "metadata": {
        "id": "fqH_LwQpqxoD"
      },
      "source": [
        "copy( ) e deepcopy( ) para listas"
      ]
    },
    {
      "cell_type": "code",
      "metadata": {
        "colab": {
          "base_uri": "https://localhost:8080/"
        },
        "id": "yfqEmbkbmxSp",
        "outputId": "76dde101-c273-4aa7-8a94-4ecc934f3287"
      },
      "source": [
        "import copy\n",
        "\n",
        "lista1 = [1,2,3,4,5,6,7,8,9,10]\n",
        "\n",
        "lista2 = list(lista1)\n",
        "print(lista2)\n",
        "\n",
        "lista3 = copy.copy(lista1) # insere as referências dos elementos encontrados, pode gerar inconsistencias em listas muito grandes\n",
        "print(lista3)\n",
        "\n",
        "lista4 = copy.deepcopy(lista1) # insere cópias literais dos elementos encontrados da lista de origem.\n",
        "print(lista4)\n"
      ],
      "execution_count": null,
      "outputs": [
        {
          "output_type": "stream",
          "text": [
            "[1, 2, 3, 4, 5, 6, 7, 8, 9, 10]\n",
            "[1, 2, 3, 4, 5, 6, 7, 8, 9, 10]\n",
            "[1, 2, 3, 4, 5, 6, 7, 8, 9, 10]\n"
          ],
          "name": "stdout"
        }
      ]
    },
    {
      "cell_type": "markdown",
      "metadata": {
        "id": "qEVwcAGBsSEE"
      },
      "source": [
        "Gerando um executável de seu programa"
      ]
    },
    {
      "cell_type": "code",
      "metadata": {
        "id": "C6vgJzvEsVGH"
      },
      "source": [
        "# https://pythonhosted.org/PyInstaller/usage.html#options"
      ],
      "execution_count": null,
      "outputs": []
    },
    {
      "cell_type": "code",
      "metadata": {
        "id": "ZRuomTjmsVI2"
      },
      "source": [
        "# navegar até o diretório de seu arquivo .py\n",
        "# via terminal escrever pyinstaller meuarquivo.py\n",
        "\n",
        "# Quando não definido nenhum parâmetro adicional, o Pyinstaller\n",
        "# criará no diretório,um arquivo meuarquivo.spec uma pasta chamada\n",
        "# build e outra chamada dist. Todo log do processo ficará dentro \n",
        "# da pasta build, assim como o executável gerado ficrá na paosta build.\n",
        "# Terminado o processo, você já pode rodar seu programa por meio de\n",
        "# seu executável "
      ],
      "execution_count": null,
      "outputs": []
    },
    {
      "cell_type": "code",
      "metadata": {
        "id": "SlwtlkPisVLO"
      },
      "source": [
        "# Usando do parâmetro pyinstaller meuprograma.py -D, todos os arquivos\n",
        "# de uma pasta serão empacotados para o executável, pois o pyinstaller\n",
        "# irá presumir que todos os arquivos na mesma pasta são módulos e outras\n",
        "# dependências para o programa principal"
      ],
      "execution_count": null,
      "outputs": []
    },
    {
      "cell_type": "code",
      "metadata": {
        "id": "HrVb-jSqV_Mz"
      },
      "source": [
        "# Usando do parâmetro pyinstaller meuprograma.py -F, será gerado um \n",
        "# programa com todos seus arquivos em um único arquivo, parecido com\n",
        "# um programa portátil."
      ],
      "execution_count": null,
      "outputs": []
    }
  ]
}