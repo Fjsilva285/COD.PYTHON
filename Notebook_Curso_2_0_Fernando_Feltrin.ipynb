{
  "nbformat": 4,
  "nbformat_minor": 0,
  "metadata": {
    "colab": {
      "name": "Notebook Curso 2.0 - Fernando Feltrin.ipynb",
      "provenance": [],
      "collapsed_sections": [],
      "include_colab_link": true
    },
    "kernelspec": {
      "name": "python3",
      "display_name": "Python 3"
    }
  },
  "cells": [
    {
      "cell_type": "markdown",
      "metadata": {
        "id": "view-in-github",
        "colab_type": "text"
      },
      "source": [
        "<a href=\"https://colab.research.google.com/github/fernandofeltrin/Python/blob/master/Notebook_Curso_2_0_Fernando_Feltrin.ipynb\" target=\"_parent\"><img src=\"https://colab.research.google.com/assets/colab-badge.svg\" alt=\"Open In Colab\"/></a>"
      ]
    },
    {
      "cell_type": "code",
      "metadata": {
        "id": "gm4O769ABLIC"
      },
      "source": [
        "# Livro Python do ZERO à Programação Orientada a Objetos - https://www.amazon.com.br/dp/B07P2VJVW5\n",
        "# Livro Programação Orientada a Objetos com Python - https://www.amazon.com.br/dp/B083ZYRY9C\n",
        "# Livro Tópicos Avançados em Python - https://www.amazon.com.br/dp/B08FBKBC9H\n",
        "# Livro Ciência de Dados e Aprendizado de Máquina - https://www.amazon.com.br/dp/B07X1TVLKW\n",
        "# Livro Inteligência Artificial com Python - Redes Neurais Intuitivas - https://www.amazon.com.br/dp/B087YSVVXW\n",
        "# Livro Redes Neurais Artificiais - https://www.amazon.com.br/dp/B0881ZYYCJ\n",
        "# Livro Análise Financeira com Python - https://www.amazon.com.br/dp/B08B6ZX6BB\n",
        "# Livro Arrays com Python + Numpy - https://www.amazon.com.br/dp/B08BTN6V7Y\n",
        "# Livro Visão Computacional em Python - https://www.amazon.com.br/dp/B08NTW8TNV\n",
        "\n",
        "# CURSO PYTHON DO ZERO A PROGRAMAÇÃO ORIENTADA A OBJETOS - UDEMY\n",
        "# https://www.udemy.com/course/python-do-zero-a-poo/?referralCode=1E35B0F2DA8266558B42"
      ],
      "execution_count": null,
      "outputs": []
    },
    {
      "cell_type": "markdown",
      "metadata": {
        "id": "3geZCrCP2aol"
      },
      "source": [
        "## Sintaxe Básica em Python"
      ]
    },
    {
      "cell_type": "code",
      "metadata": {
        "id": "l2Ko_2jI2U_F"
      },
      "source": [
        "# Sintaxe Básica em Python\n",
        "\n",
        "# nome_da_variavel = dado/valor/atributo\n",
        "\n",
        "\n",
        "numero = 20\n",
        "\n",
        "nome = 'Veronica'\n",
        "\n",
        "variavel = [21, 'Maria', 19.90]\n",
        "\n",
        "\n",
        "print(numero)\n",
        "print(nome)\n",
        "print(variavel)\n"
      ],
      "execution_count": null,
      "outputs": []
    },
    {
      "cell_type": "code",
      "metadata": {
        "id": "VdNmCgnrUKcX"
      },
      "source": [
        "# Sintaxe\n",
        "# Leitura Léxica\n",
        "# Indentação\n",
        "\n",
        "dicionario = {'Nome':'Fernando',\n",
        "              'Idade':33,\n",
        "              'Formação':'Eng. da Computação'}\n",
        "\n",
        "print(dicionario)\n"
      ],
      "execution_count": null,
      "outputs": []
    },
    {
      "cell_type": "code",
      "metadata": {
        "id": "EHvDeVWtVKQf"
      },
      "source": [
        "# Estrutura básica de um programa\n",
        "\n",
        "# Olá Mundo!!! em Java\n",
        "\n",
        "class MeuPrograma {\n",
        "    public static void main(String args[]) {\n",
        "        System.out.println(\"Olá Mundo!!!\");\n",
        "    }\n",
        "}\n",
        "\n",
        "\n",
        "\n",
        "# Olá Mundo!!! em C#\n",
        "\n",
        "using System; \n",
        "namespace MeuPrograma { \n",
        "    class OlaMundo { \n",
        "\t    static void Main(string[] args) {\n",
        "           Console.WriteLine(\"Olá Mundo!!!\"); \n",
        "\t       Console.ReadKey(); \n",
        "\t    } \n",
        "    } \n",
        "} \n",
        "\n",
        "\n",
        "\n",
        "# Olá Mundo!!! em Python\n",
        "\n",
        "print('Olá Mundo!!!')\n",
        "\n"
      ],
      "execution_count": null,
      "outputs": []
    },
    {
      "cell_type": "code",
      "metadata": {
        "id": "ELCO7MxEWA-T"
      },
      "source": [
        "# Linguagens de alto nível vs linguagens de baixo nível\n",
        "\n",
        "# Olá mundo em Assembly\n",
        "\n",
        "section     .text\n",
        "global      _start\n",
        "\n",
        "_start:\n",
        "\n",
        "    mov     edx,len\n",
        "    mov     ecx,msg\n",
        "    mov     ebx,1\n",
        "    mov     eax,4\n",
        "    int     0x80\n",
        "\n",
        "    mov     eax,1\n",
        "    int     0x80\n",
        "\n",
        "section     .data\n",
        "\n",
        "msg     db  'Olá, Mundo!!!',0xa \n",
        "len     equ $ - msg\n",
        "\n",
        "\n",
        "# Olá Mundo!!! em Python\n",
        "\n",
        "print('Olá Mundo!!!')\n"
      ],
      "execution_count": null,
      "outputs": []
    },
    {
      "cell_type": "markdown",
      "metadata": {
        "id": "GjcsshqNDPqq"
      },
      "source": [
        "## Tipos de Dados"
      ]
    },
    {
      "cell_type": "code",
      "metadata": {
        "id": "4zPcgZWKDZF5"
      },
      "source": [
        "# INT - Número real inteiro, sem casas decimais.\n",
        "\n",
        "num1 = 12\n",
        "\n",
        "num2 = int(15)\n",
        "\n",
        "print(num1)\n",
        "print(type(num2))\n"
      ],
      "execution_count": null,
      "outputs": []
    },
    {
      "cell_type": "code",
      "metadata": {
        "id": "5bJd3GgWZuwW"
      },
      "source": [
        "# FLOAT - Número de ponto flutuante / com casas decimais.\n",
        "\n",
        "num3 = 12.8\n",
        "\n",
        "num4 = float(19.0)\n",
        "\n",
        "print(type(num3))\n",
        "print(type(num4))\n"
      ],
      "execution_count": null,
      "outputs": []
    },
    {
      "cell_type": "code",
      "metadata": {
        "id": "ErfJUN4LZzUh"
      },
      "source": [
        "# STRING - Texto composto de qualquer caractere alfanumérico.\n",
        "\n",
        "palavra1 = 'palavra'\n",
        "\n",
        "\n",
        "palavra2 = \"marca d'água\"\n",
        "\n",
        "frase1 = 'Uma frase qualquer'\n",
        "\n",
        "frase3 = 'Ela tinha 8 anos'\n",
        "\n",
        "frase3 = str('Outra frase qualquer')\n",
        "\n",
        "print(palavra2)\n",
        "print(type(frase3))\n"
      ],
      "execution_count": null,
      "outputs": []
    },
    {
      "cell_type": "code",
      "metadata": {
        "id": "xQ-M5WhP4pTo"
      },
      "source": [
        "# TUPLA - Conjunto de elementos imutável.\n",
        "\n",
        "tupla = ('Ana', 'Fernando', 3, 19.90)\n",
        "\n",
        "print(tupla)\n"
      ],
      "execution_count": null,
      "outputs": []
    },
    {
      "cell_type": "code",
      "metadata": {
        "id": "iFAeGUxVZ2W9"
      },
      "source": [
        "# LIST - Conjunto de elementos indexados e mutáveis.\n",
        "\n",
        "lista = [2, 'Pedro', 15.9]\n",
        "\n",
        "lista2 = list([1, 'Maria', 19.99])\n",
        "\n",
        "print(lista)\n",
        "print(lista2)\n"
      ],
      "execution_count": null,
      "outputs": []
    },
    {
      "cell_type": "code",
      "metadata": {
        "id": "PL_Haq_7Z5QK"
      },
      "source": [
        "# DICT - Dicionários.\n",
        "\n",
        "dicionario = {'Nome':'Fernando', 'Idade':32}\n",
        "\n",
        "print(dicionario)\n",
        "print(type(dicionario))\n"
      ],
      "execution_count": null,
      "outputs": []
    },
    {
      "cell_type": "code",
      "metadata": {
        "id": "DBSsfX3WZxOx"
      },
      "source": [
        "# BOOL - Booleano \n",
        "\n",
        "condicao1 = True\n",
        "\n",
        "print(condicao1)\n",
        "print(type(condicao1))\n"
      ],
      "execution_count": null,
      "outputs": []
    },
    {
      "cell_type": "markdown",
      "metadata": {
        "id": "uj3hznCxD_-I"
      },
      "source": [
        "##Comentários"
      ]
    },
    {
      "cell_type": "code",
      "metadata": {
        "id": "AsFzrOGOECsP"
      },
      "source": [
        "# Comentário simples de até uma linha\n",
        "\n",
        "'''Comentário onde não há limite de linhas,\n",
        "   podendo ser usado para descrever blocos\n",
        "   de código mais detalhadamente'''\n",
        "   "
      ],
      "execution_count": null,
      "outputs": []
    },
    {
      "cell_type": "code",
      "metadata": {
        "id": "gmPpBtnrmdh6"
      },
      "source": [
        "# Comentando uma variável para desabilitar a mesma\n",
        "\n",
        "usuario1 = 'Fernando'  # Legível pelo interpretador\n",
        "\n",
        "#usuario1 = 'Fernando' # Ignorado pelo interpretador\n"
      ],
      "execution_count": null,
      "outputs": []
    },
    {
      "cell_type": "markdown",
      "metadata": {
        "id": "5ffJLPzoEE4Z"
      },
      "source": [
        "##Variáveis"
      ]
    },
    {
      "cell_type": "code",
      "metadata": {
        "id": "E7fgJO3sEJZT"
      },
      "source": [
        "# Tipos de Variáveis\n",
        "\n",
        "var_int = 12\n",
        "# Número inteiro\n",
        "\n",
        "var_float = 15.3\n",
        "# Número com casas decimais\n",
        "\n",
        "var_string = 'Conjunto de caracteres alfanuméricos'\n",
        "# Incluindo símbolos e caracteres especiais\n",
        "\n",
        "var_lista = [1, 2, 'Paulo', 'Maria', True]\n",
        "# Lista de dados/valores\n",
        "\n",
        "var_dicionario = {'nome':'Fernando', 'idade':31}\n",
        "# Conjunto de dados:valores\n",
        "\n",
        "var_tupla = ('Ana', 'Fernando', 3)\n",
        "# Lista de dados/valores porém imutável\n",
        "\n",
        "var_bool = 1\n",
        "# Booleano / Binário (0 ou 1)\n",
        "\n",
        "var_comentario = \"\"\"Um comentário atribuído a uma\n",
        "                         variável deixa de ser apenas\n",
        "                         um comentário, vira um texto\n",
        "                         que pode ser incorporado ao\n",
        "                         código...\"\"\"\n"
      ],
      "execution_count": null,
      "outputs": []
    },
    {
      "cell_type": "code",
      "metadata": {
        "id": "Wfa-Nbbk8D5R"
      },
      "source": [
        "# Declarando uma variável quanto ao seu tipo\n",
        "\n",
        "ano_nasc = 1987\n",
        "ano_nasc2 = '1987'\n",
        "\n",
        "ano_nasc = int(1987)\n",
        "ano_nasc2 = str(1987)\n",
        "\n",
        "\n",
        "print(ano_nasc)\n",
        "print(type(ano_nasc))\n",
        "\n",
        "print(ano_nasc2)\n",
        "print(type(ano_nasc2))\n"
      ],
      "execution_count": null,
      "outputs": []
    },
    {
      "cell_type": "code",
      "metadata": {
        "id": "wpzChtPFOIL1"
      },
      "source": [
        "# Declarando múltiplas variáveis por justaposição\n",
        "\n",
        "nome, idade, sexo = 'Maria', 32, 'F'\n",
        "\n",
        "'''\n",
        "Mesmo que:\n",
        "nome = 'Maria'\n",
        "idade = 32\n",
        "sexo = 'F'\n",
        "'''\n",
        "\n",
        "print(nome)\n",
        "print(idade)\n",
        "print(sexo)\n",
        "\n",
        "print(nome, idade, sexo)\n"
      ],
      "execution_count": null,
      "outputs": []
    },
    {
      "cell_type": "code",
      "metadata": {
        "id": "vzo-mowSOUiy"
      },
      "source": [
        "# Declarando múltiplas variáveis de mesmo tipo e dado/valor\n",
        "\n",
        "num2 = x = a1 = 10\n",
        "\n",
        "'''\n",
        "Mesmo que:\n",
        "num2 = 10\n",
        "x = 10\n",
        "a1 = 10\n",
        "'''\n",
        "\n",
        "print(num2)\n",
        "print(x)\n",
        "print(a1)\n"
      ],
      "execution_count": null,
      "outputs": []
    },
    {
      "cell_type": "code",
      "metadata": {
        "id": "lDqJVxa7O88u"
      },
      "source": [
        "# Operações entre variáveis\n",
        "\n",
        "a = 10\n",
        "b = 5.2\n",
        "\n",
        "print(a + b)   # Soma simples\n"
      ],
      "execution_count": null,
      "outputs": []
    },
    {
      "cell_type": "code",
      "metadata": {
        "id": "EtV3WIr-tt3s"
      },
      "source": [
        "# Interações entre variáveis\n",
        "\n",
        "msg = 'Olá '\n",
        "pessoa = 'Carlos'\n",
        "\n",
        "print(msg + pessoa)   # Concatenação\n"
      ],
      "execution_count": null,
      "outputs": []
    },
    {
      "cell_type": "code",
      "metadata": {
        "id": "9rK9QOGE5qIY"
      },
      "source": [
        "# Sintaxe não permitida / não recomendada\n",
        "\n",
        "'''\n",
        "Formas de declarar uma variável que podem gerar erros de interpretação\n",
        "\n",
        "Nome              Nome de variável iniciando em letra maiúscula\n",
        "NOME              Nome de variável escrita totalmente em letras maiúsculas\n",
        "8dados            Nome de variável iniciando com números\n",
        "_numero           Nome de variável iniciando com caractere especial\n",
        "minha variavel    Nome de variável com espaços\n",
        "número = 12345    Nome de variável contendo acentos\n",
        "(variavel2)       Nome de variável encapsulado em chaves, parênteses ou colchetes\n",
        "\n",
        "Sintaxe usual permitida\n",
        "\n",
        "nome\n",
        "nome2\n",
        "nome_de_variavel\n",
        "'''"
      ],
      "execution_count": null,
      "outputs": []
    },
    {
      "cell_type": "code",
      "metadata": {
        "id": "6Qh_yQ9A5syu"
      },
      "source": [
        "# Palavras reservadas ao sistema\n",
        "\n",
        "'''\n",
        "Palavras que não podem ser usadas como nome de uma variável\n",
        "\n",
        "and        del        from        not        while\n",
        "as         elif       global      or         with\n",
        "assert     else       if          pass       yield\n",
        "break      except     import      print\n",
        "class      exec       in          raise\n",
        "continue   finally    is          return\n",
        "def        for        lambda      try\n",
        "'''"
      ],
      "execution_count": null,
      "outputs": []
    },
    {
      "cell_type": "markdown",
      "metadata": {
        "id": "5VpQVBM_EOXn"
      },
      "source": [
        "##Funções Básicas"
      ]
    },
    {
      "cell_type": "markdown",
      "metadata": {
        "id": "PPgxopKBm0eA"
      },
      "source": [
        "Funções de Entrada e de Saída"
      ]
    },
    {
      "cell_type": "markdown",
      "metadata": {
        "id": "Mpj090gxRvgg"
      },
      "source": [
        "**Função print( )**"
      ]
    },
    {
      "cell_type": "code",
      "metadata": {
        "id": "-y5I3RbyPaaZ"
      },
      "source": [
        "# Função de saída que exibe em tela ou em terminal algo para o usuário\n",
        "\n",
        "print('Seja Bem-Vindo!!!')\n"
      ],
      "execution_count": null,
      "outputs": []
    },
    {
      "cell_type": "code",
      "metadata": {
        "id": "g-Vslr9uERfv"
      },
      "source": [
        "# Exibindo em tela o conteúdo de uma variável\n",
        "\n",
        "nome = 'Fernando'\n",
        "\n",
        "print('Fernando')\n",
        "print(nome)\n"
      ],
      "execution_count": null,
      "outputs": []
    },
    {
      "cell_type": "code",
      "metadata": {
        "id": "pO6aG3z4kyUu"
      },
      "source": [
        "# Realizando operações aritméticas dentro da função print( )\n",
        "\n",
        "print(15 + 4)\n",
        "print(15 - 4)\n",
        "print(15 * 4)\n",
        "print(15 / 4)\n"
      ],
      "execution_count": null,
      "outputs": []
    },
    {
      "cell_type": "code",
      "metadata": {
        "id": "m03AedTJ8fJY"
      },
      "source": [
        "# Realizando operações entre dados/valores declarados e dados/valores atribuídos\n",
        "\n",
        "numero3 = 30\n",
        "\n",
        "print('O resultado da soma é: ', numero3 + 15)\n"
      ],
      "execution_count": null,
      "outputs": []
    },
    {
      "cell_type": "code",
      "metadata": {
        "id": "bsQBB8LilU21"
      },
      "source": [
        "# Realizando operações lógicas dentro da função print( )\n",
        "\n",
        "numero = 9\n",
        "\n",
        "print(numero > 3)\n",
        "print(numero < 10)\n",
        "print(numero == 11)\n",
        "print(numero >= 12)\n"
      ],
      "execution_count": null,
      "outputs": []
    },
    {
      "cell_type": "code",
      "metadata": {
        "id": "Uf6Cyki7ltkV"
      },
      "source": [
        "# Usando fStrings e máscaras de substituição dentro da função print( )\n",
        "\n",
        "nome = 'Fernando'\n",
        "\n",
        "print(f'Seja muito bem-vindo {nome}!!!')\n"
      ],
      "execution_count": null,
      "outputs": []
    },
    {
      "cell_type": "code",
      "metadata": {
        "id": "ru5gPWyOp-up"
      },
      "source": [
        "# Usando operadores por meio de fStrings e suas máscaras de substituição\n",
        "\n",
        "camisa = 19.90\n",
        "calca = 39.90\n",
        "\n",
        "print(f'A soma dos produtos do carrinho é: {camisa + calca}')\n"
      ],
      "execution_count": null,
      "outputs": []
    },
    {
      "cell_type": "code",
      "metadata": {
        "id": "lBZjWYw7hK_1"
      },
      "source": [
        "# Sintaxe antiga vs atual moderna\n",
        "\n",
        "nome = 'Maria'\n",
        "\n",
        "# Sintaxe funcional básica  //  Defasada\n",
        "print('Bem-vindo', nome,'!!!')\n",
        "\n",
        "# Sintaxe funcional  //  Defasada\n",
        "print('Bem-vindo' + ' ' + nome + ' ' '!!!')\n",
        "\n",
        "# Sintaxe antiga  //  Defasada\n",
        "print('Bem-vindo %s !!!'%nome) \n",
        "\n",
        "# Sintaxe usual  //  Defasada\n",
        "print('Bem-vindo {} !!!'.format(nome)) \n",
        "\n",
        "# Sintaxe moderna atual\n",
        "print(f'Bem-vindo {nome} !!!')\n",
        "\n",
        "# Apesar da evolução da linguagem, é perfeitamente possível usar da sintaxe antiga\n",
        "# de acordo com sua preferência.\n"
      ],
      "execution_count": null,
      "outputs": []
    },
    {
      "cell_type": "markdown",
      "metadata": {
        "id": "oW6_qTCIR3Ov"
      },
      "source": [
        "**Função input(  )**"
      ]
    },
    {
      "cell_type": "code",
      "metadata": {
        "id": "6wzUvKiFR7TI"
      },
      "source": [
        "# Função de entrada, interage com o usuário fazendo com que o mesmo insira dados\n",
        "# Esta função por sua vez deve ser associada a uma variável\n",
        "# A mesma só termina dua função no momento que o usuário aperta o botão ENTER\n",
        "\n",
        "nome = input('Digite o seu nome: ')\n",
        "\n",
        "print(nome)\n"
      ],
      "execution_count": null,
      "outputs": []
    },
    {
      "cell_type": "code",
      "metadata": {
        "id": "Fn6Q26Y0SWBh"
      },
      "source": [
        "nome = input('Digite o seu nome: ')\n",
        "\n",
        "print(f'Bem-vindo {nome} !!!') \n"
      ],
      "execution_count": null,
      "outputs": []
    },
    {
      "cell_type": "markdown",
      "metadata": {
        "id": "a1xZFCoCEUar"
      },
      "source": [
        "##Operadores"
      ]
    },
    {
      "cell_type": "markdown",
      "metadata": {
        "id": "lWlZ-kUdr2lR"
      },
      "source": [
        "Operadores Aritméticos"
      ]
    },
    {
      "cell_type": "code",
      "metadata": {
        "id": "rhnkl0Jgq43C"
      },
      "source": [
        "# Soma\n",
        "\n",
        "print(5 + 7)\n"
      ],
      "execution_count": null,
      "outputs": []
    },
    {
      "cell_type": "code",
      "metadata": {
        "id": "vOSo6sYqr-7s"
      },
      "source": [
        "# Subtração\n",
        "\n",
        "print(12 - 3)\n"
      ],
      "execution_count": null,
      "outputs": []
    },
    {
      "cell_type": "code",
      "metadata": {
        "id": "xi28xC4Ar_Eq"
      },
      "source": [
        "# Multiplicação\n",
        "\n",
        "print(5 * 7)\n"
      ],
      "execution_count": null,
      "outputs": []
    },
    {
      "cell_type": "code",
      "metadata": {
        "id": "OBL7N9fDr-5C"
      },
      "source": [
        "# Divisão\n",
        "\n",
        "print(120 / 6)\n"
      ],
      "execution_count": null,
      "outputs": []
    },
    {
      "cell_type": "code",
      "metadata": {
        "id": "TiLXyna3r-2B"
      },
      "source": [
        "# Mais de uma operação simples\n",
        "\n",
        "print(5 + 2 * 7)\n"
      ],
      "execution_count": null,
      "outputs": []
    },
    {
      "cell_type": "code",
      "metadata": {
        "id": "QhYocEbdq4xk"
      },
      "source": [
        "# Operação composta\n",
        "\n",
        "print((5 + 2) * 7)\n",
        "# Primeiro será realizada a operação dentro dos parênteses, posteriormente o resto.\n"
      ],
      "execution_count": null,
      "outputs": []
    },
    {
      "cell_type": "code",
      "metadata": {
        "id": "4fFVtiavsKNJ"
      },
      "source": [
        "# Potenciação\n",
        "\n",
        "print(3 ** 5) # 3 elevado a 5ª potência\n"
      ],
      "execution_count": null,
      "outputs": []
    },
    {
      "cell_type": "code",
      "metadata": {
        "id": "_2-CtLtasKWv"
      },
      "source": [
        "# Divisão exata\n",
        "\n",
        "print(9.4 // 3)\n"
      ],
      "execution_count": null,
      "outputs": []
    },
    {
      "cell_type": "code",
      "metadata": {
        "id": "j6TexQICsKc9"
      },
      "source": [
        "# Módulo/Resto de uma divisão\n",
        "\n",
        "print(10 % 3)\n"
      ],
      "execution_count": null,
      "outputs": []
    },
    {
      "cell_type": "markdown",
      "metadata": {
        "id": "7AokrePVnUgH"
      },
      "source": [
        "Operadores de Atribuição"
      ]
    },
    {
      "cell_type": "code",
      "metadata": {
        "id": "eGyTZf3XEXNZ"
      },
      "source": [
        "# Atribuindo um dado ou valor a uma variável\n",
        "\n",
        "nome = 'Fernando'\n",
        "idade = 33\n"
      ],
      "execution_count": null,
      "outputs": []
    },
    {
      "cell_type": "code",
      "metadata": {
        "id": "V1TeoE--nXhd"
      },
      "source": [
        "# Atribuição aditiva\n",
        "\n",
        "valor = 4\n",
        "\n",
        "valor = valor + 5\n",
        "\n",
        "print(valor)\n"
      ],
      "execution_count": null,
      "outputs": []
    },
    {
      "cell_type": "code",
      "metadata": {
        "id": "Cr7Zuk6RnXvF"
      },
      "source": [
        "# Atribuição aditiva (método reduzido)\n",
        "\n",
        "valor = 4\n",
        "\n",
        "valor += 5\n",
        "\n",
        "'''\n",
        "Mesmo que:\n",
        "valor = valor + 5\n",
        "'''\n",
        "\n",
        "print(valor)\n"
      ],
      "execution_count": null,
      "outputs": []
    },
    {
      "cell_type": "code",
      "metadata": {
        "id": "6nnY6XSHnX13"
      },
      "source": [
        "# Atribuição subtrativa\n",
        "\n",
        "valor = 4\n",
        "\n",
        "valor -= 3\n",
        "\n",
        "'''\n",
        "Mesmo que:\n",
        "valor = valor - 3\n",
        "'''\n",
        "\n",
        "print(valor)\n"
      ],
      "execution_count": null,
      "outputs": []
    },
    {
      "cell_type": "code",
      "metadata": {
        "id": "zaYb3iEBnX81"
      },
      "source": [
        "# Atribuição multiplicativa\n",
        "\n",
        "valor = 4\n",
        "\n",
        "valor *= 3\n",
        "\n",
        "'''\n",
        "Mesmo que:\n",
        "valor = valor * 3\n",
        "'''\n",
        "\n",
        "print(valor)\n"
      ],
      "execution_count": null,
      "outputs": []
    },
    {
      "cell_type": "code",
      "metadata": {
        "id": "3dOAJliGq4l3"
      },
      "source": [
        "# Atribuição divisiva\n",
        "\n",
        "valor = 12\n",
        "\n",
        "valor /= 2\n",
        "\n",
        "'''\n",
        "Mesmo que:\n",
        "valor = valor / 2\n",
        "'''\n",
        "\n",
        "print(valor)\n"
      ],
      "execution_count": null,
      "outputs": []
    },
    {
      "cell_type": "code",
      "metadata": {
        "id": "U8gEWuCTq4tC"
      },
      "source": [
        "# Módulo de (ou resto da divisão de)\n",
        "\n",
        "valor = 12\n",
        "\n",
        "valor %= 2\n",
        "\n",
        "'''\n",
        "Mesmo que:\n",
        "valor = valor % 4\n",
        "'''\n",
        "\n",
        "print(valor)\n"
      ],
      "execution_count": null,
      "outputs": []
    },
    {
      "cell_type": "code",
      "metadata": {
        "id": "Qikh3PF8rf01"
      },
      "source": [
        "# Divisão inteira\n",
        "\n",
        "valor = 512\n",
        "\n",
        "valor //= 256\n",
        "\n",
        "'''\n",
        "Mesmo que:\n",
        "valor = valor // 256\n",
        "'''\n",
        "\n",
        "print(valor)\n"
      ],
      "execution_count": null,
      "outputs": []
    },
    {
      "cell_type": "code",
      "metadata": {
        "id": "BvGg05Mkq4zW"
      },
      "source": [
        "# Exponenciação\n",
        "\n",
        "valor = 4\n",
        "\n",
        "valor **= 8\n",
        "\n",
        "'''\n",
        "Mesmo que:\n",
        "valor = valor ** 8\n",
        "ou\n",
        "valor = 4 * 4 * 4 * 4 * 4 * 4 * 4 * 4\n",
        "'''\n",
        "\n",
        "print(valor)\n"
      ],
      "execution_count": null,
      "outputs": []
    },
    {
      "cell_type": "code",
      "metadata": {
        "colab": {
          "base_uri": "https://localhost:8080/"
        },
        "id": "QfeQvQC-rbpA",
        "outputId": "89d8c1e9-55f2-4952-9b4c-120c23d08be2"
      },
      "source": [
        "# Arredondando valores de casas decimais\n",
        "\n",
        "equacao = ((50 + 25) * 7.2) / 3.8\n",
        "\n",
        "print(f'O resultado bruto da equação é: {equacao}')\n",
        "\n",
        "print(f'O resultado arredondado da equação é: {equacao:.2f}')\n",
        "# :.2f define quantas casas decimais serão exibidas após a vírgula\n",
        "\n",
        "print(f'O resultado arredondado da equação é: {round(equacao, 2)}')\n",
        "# Função round() parametrizada com a expressão e em seguida com o número de casas após a vírgula\n"
      ],
      "execution_count": null,
      "outputs": [
        {
          "output_type": "stream",
          "text": [
            "O resultado bruto da equação é: 142.10526315789474\n",
            "O resultado arredondado da equação é: 142.11\n",
            "O resultado arredondado da equação é: 142.11\n"
          ],
          "name": "stdout"
        }
      ]
    },
    {
      "cell_type": "markdown",
      "metadata": {
        "id": "exsKYDeRsXOx"
      },
      "source": [
        "Operadores Lógicos"
      ]
    },
    {
      "cell_type": "code",
      "metadata": {
        "id": "B3SQk1uUBtua"
      },
      "source": [
        "# Igualdade\n",
        "\n",
        "print(5 == 6)\n",
        "print(12 == 12)\n"
      ],
      "execution_count": null,
      "outputs": []
    },
    {
      "cell_type": "code",
      "metadata": {
        "id": "evpRFO4psKg4"
      },
      "source": [
        "# Diferença\n",
        "\n",
        "print(7 != 3)\n"
      ],
      "execution_count": null,
      "outputs": []
    },
    {
      "cell_type": "code",
      "metadata": {
        "colab": {
          "base_uri": "https://localhost:8080/"
        },
        "id": "uRGAzmNvG4ja",
        "outputId": "2c90d2d6-24b2-4eb3-dc18-01816d62c119"
      },
      "source": [
        "# Operadores lógicos compostos\n",
        "# Apenas uma proposição precisa ser verdadeira para o retorno ser True\n",
        "\n",
        "print(7 != 3 or 2 > 3)\n"
      ],
      "execution_count": null,
      "outputs": [
        {
          "output_type": "stream",
          "text": [
            "True\n"
          ],
          "name": "stdout"
        }
      ]
    },
    {
      "cell_type": "code",
      "metadata": {
        "id": "vqBPYS5dscFY"
      },
      "source": [
        "# Operadores lógicos compostos\n",
        "# Todas as condições precisam ser verdadeiras para o retorno ser True\n",
        "\n",
        "print(7 != 3 and 2 > 3)\n"
      ],
      "execution_count": null,
      "outputs": []
    },
    {
      "cell_type": "code",
      "metadata": {
        "id": "1VGXi7aRscDm"
      },
      "source": [
        "# Outras expressões dependem de qual contexto serão aplicadas\n",
        "\n",
        "num1 = 4\n",
        "num2 = 9\n",
        "num3 = 9\n",
        "\n",
        "print(num1 == num2)\n",
        "print(num1 is num2)\n",
        "\n",
        "print(num2 is 9)\n",
        "print(num2 is num3)\n"
      ],
      "execution_count": null,
      "outputs": []
    },
    {
      "cell_type": "markdown",
      "metadata": {
        "id": "VmE2KJYzspKg"
      },
      "source": [
        "Operadores de Membro"
      ]
    },
    {
      "cell_type": "code",
      "metadata": {
        "id": "vy31hDvKscAg"
      },
      "source": [
        "# Verifica se um elemento é membro daquele tipo de dado\n",
        "\n",
        "lista = [1, 2, 3, 'Ana', 'Maria']\n",
        "\n",
        "print(2 in lista)\n"
      ],
      "execution_count": null,
      "outputs": []
    },
    {
      "cell_type": "code",
      "metadata": {
        "id": "zNzgh4Gisb92"
      },
      "source": [
        "# Verifica se um elemento não faz parte daquele tipo de dado\n",
        "\n",
        "lista = [1, 2, 3, 'Ana', 'Maria'] \n",
        "\n",
        "print('Maria' not in lista)\n"
      ],
      "execution_count": null,
      "outputs": []
    },
    {
      "cell_type": "markdown",
      "metadata": {
        "id": "IYKKfTnIsvlA"
      },
      "source": [
        "Operadores Relacionais"
      ]
    },
    {
      "cell_type": "code",
      "metadata": {
        "id": "ZHmknNHfsb7R"
      },
      "source": [
        "# Maior que\n",
        "\n",
        "idade = 3\n",
        "\n",
        "print(idade > 4)\n",
        "# 3 é maior que 4?\n"
      ],
      "execution_count": null,
      "outputs": []
    },
    {
      "cell_type": "code",
      "metadata": {
        "id": "_CkKsFb0sxly"
      },
      "source": [
        "# Igual ou maior que\n",
        "\n",
        "num1 = 7\n",
        "\n",
        "print(num1 >= 7)  \n",
        "# 7 é maior ou igual a 3?\n"
      ],
      "execution_count": null,
      "outputs": []
    },
    {
      "cell_type": "code",
      "metadata": {
        "id": "JK9lkhERs4Zg"
      },
      "source": [
        "# Operações entre valores atribuídos a variáveis\n",
        "\n",
        "x = 2\n",
        "z = 5\n",
        "\n",
        "print(x > z)\n",
        "# O valor de x é maior que o valor de z?\n"
      ],
      "execution_count": null,
      "outputs": []
    },
    {
      "cell_type": "code",
      "metadata": {
        "id": "Be_q3Fs5s4XZ"
      },
      "source": [
        "# Menor ou igual a\n",
        "\n",
        "y = 7\n",
        "z = 5\n",
        "\n",
        "print(z <= y)\n",
        "# O valor de z é igual ou menor que o valor de y?\n"
      ],
      "execution_count": null,
      "outputs": []
    },
    {
      "cell_type": "code",
      "metadata": {
        "id": "yN2RVtZgs4Uw"
      },
      "source": [
        "# Duas condições lógicas\n",
        "\n",
        "x = 2\n",
        "y = 7\n",
        "\n",
        "print(x is 2 and y != x)\n",
        "# O valor de x é 2? E o valor de y é diferente do valor de x?\n"
      ],
      "execution_count": null,
      "outputs": []
    },
    {
      "cell_type": "code",
      "metadata": {
        "id": "a2bTnI5Ns_Dn"
      },
      "source": [
        "# Operadores em estruturas condicionais\n",
        "\n",
        "idade = 21\n",
        "\n",
        "if (idade > 18):\n",
        "        print('Idade adulta.')\n",
        "        "
      ],
      "execution_count": null,
      "outputs": []
    },
    {
      "cell_type": "code",
      "metadata": {
        "id": "f27G8wG6s_BP"
      },
      "source": [
        "num1 = 2\n",
        "num2 = 1\n",
        "\n",
        "if num1 > num2:\n",
        "    print('2 é maior que 1')\n",
        "    "
      ],
      "execution_count": null,
      "outputs": []
    },
    {
      "cell_type": "markdown",
      "metadata": {
        "id": "kPp-yuKatNQn"
      },
      "source": [
        "Operadores de Identidade"
      ]
    },
    {
      "cell_type": "code",
      "metadata": {
        "id": "z56MLajQtPCf"
      },
      "source": [
        "# O valor de uma variável é compatível com outra\n",
        "\n",
        "aluguel = 250\n",
        "energia = 250\n",
        "agua = 65\n",
        "\n",
        "print(aluguel is energia)\n",
        "# O valor de aluguel é o mesmo valor de energia?\n",
        "\n",
        "print(aluguel is agua)\n",
        "# O valor de aluguel é o mesmo valor de agua?\n"
      ],
      "execution_count": null,
      "outputs": []
    },
    {
      "cell_type": "markdown",
      "metadata": {
        "id": "O7okGsokEcJH"
      },
      "source": [
        "##Estruturas Condicionais"
      ]
    },
    {
      "cell_type": "code",
      "metadata": {
        "id": "R8_9iJwNDYG7"
      },
      "source": [
        "# if, elif, else\n",
        "# Estrutura Condicional Simples\n",
        "\n",
        "nome = input('Digite o seu nome:')\n",
        "\n",
        "if nome == 'Fernando':\n",
        "  print('Bem vindo de volta Fernando!!!')\n",
        "\n",
        "print(f'Você é novo(a) aqui, olá {nome}!!!')\n",
        "\n",
        "# se a condição for atingida, o bloco dela é executado, caso contrario é simplesmente ignorado\n"
      ],
      "execution_count": null,
      "outputs": []
    },
    {
      "cell_type": "code",
      "metadata": {
        "id": "BhXkkppNB-kn"
      },
      "source": [
        "# Estrutura Condicional com argumento lógico\n",
        "\n",
        "num = 51\n",
        "\n",
        "if num < 50:\n",
        "  print('Menor que 50')\n",
        "else:\n",
        "  print('Maior que 50')\n"
      ],
      "execution_count": null,
      "outputs": []
    },
    {
      "cell_type": "code",
      "metadata": {
        "id": "1kamV4i7EV7a"
      },
      "source": [
        "# Estrutura Condicional Composta\n",
        "\n",
        "nome = input('Digite o seu nome:')\n",
        "\n",
        "if nome == 'Fernando':\n",
        "  print('Bem vindo de volta Fernando!!!')\n",
        "else:\n",
        "  print('Você não é Fernando...')\n",
        "\n",
        "print(f'Você é novo(a) aqui, olá {nome}!!!')\n"
      ],
      "execution_count": null,
      "outputs": []
    },
    {
      "cell_type": "code",
      "metadata": {
        "id": "NHc1XL5kEetN",
        "colab": {
          "base_uri": "https://localhost:8080/"
        },
        "outputId": "b0eee549-27b0-4c2f-f578-a7552c071ddf"
      },
      "source": [
        "# Estruturas Condicionais Aninhadas (quando se tem mais de duas possibilidades)\n",
        "\n",
        "num1 = float(input('Digite um número: '))\n",
        "\n",
        "if num1 <= 50:\n",
        "  print('Menor que 50')\n",
        "elif num1 > 50 and num1 < 100:\n",
        "  print('Maior que 50')\n",
        "else:\n",
        "  print('Número Inválido')\n",
        "\n",
        "# Se o valor de num1 for igual ou maior que 50, exibe a respectiva mensagem\n",
        "# Caso a primeira condição não for verdadeira, é verificado se o valor de num1\n",
        "# é maior ou igual a 50. Caso nenhuma condição seja verdadeira, é exibida a\n",
        "# mensagem em else. Quando uma condição for verdadeira, nenhuma das seguintes\n",
        "# será executada.\n"
      ],
      "execution_count": null,
      "outputs": [
        {
          "output_type": "stream",
          "text": [
            "Digite um número: 120\n",
            "Número Inválido\n"
          ],
          "name": "stdout"
        }
      ]
    },
    {
      "cell_type": "code",
      "metadata": {
        "id": "MTlM--59udMU"
      },
      "source": [
        "# 1 condição sendo verdadeira já encerra o processo\n",
        "\n",
        "nome1 = 'Fernando'\n",
        "nome2 = 'Maria'\n",
        "\n",
        "if nome1 == 'Fernando':\n",
        "  print('Bem-vindo Fernando!!!')\n",
        "#if nome2 == 'Maria':\n",
        "elif nome2 == 'Maria':\n",
        "  print('Bem-vinda Maria!!!')\n",
        "else:\n",
        "  print('Erro: Nome Desconhecido.')\n",
        "\n",
        "# elif irá executar somente a primeira condição e encerrar o processo se ela\n",
        "# for verdadeira. elif irá imprimir somente o primeiro print() substituir elif \n",
        "# por if irá considerar mais de uma condição como verdadeira. if irá imprimir \n",
        "# o primeiro e o segundo print por ambos serem verdadeiros.\n"
      ],
      "execution_count": null,
      "outputs": []
    },
    {
      "cell_type": "code",
      "metadata": {
        "id": "zhzpmNQMvr6Z"
      },
      "source": [
        "# 2 ou mais condições sendo verdadeiras\n",
        "\n",
        "num1 = 12\n",
        "num2 = 44\n",
        "nome1 = 'Fernando'\n",
        "nome2 = 'Maria'\n",
        "\n",
        "if num1 >= 10 and nome1 == 'Fernando':\n",
        "  print('Número maior que 10 e o usuário é Fernando')\n",
        "if num1 <= 10 and nome1 == 'Fernando':\n",
        "  print('Número menor que 10 e o usuário é Fernando')\n",
        "if num1 == num2 and nome2 == 'Maria':\n",
        "  print('Número 1 e número 2 são iguais, assim como o usuário é Maria')\n",
        "if num1 != num2 and nome2 == 'Maria':\n",
        "  print('Número 1 e número 2 são diferentes, assim como o usuário é Maria')\n",
        "\n",
        "# Operador and exige que as duas condições sejam verdadeiras (uma condição e outra).\n"
      ],
      "execution_count": null,
      "outputs": []
    },
    {
      "cell_type": "code",
      "metadata": {
        "id": "0TaE-sR_w54q",
        "colab": {
          "base_uri": "https://localhost:8080/"
        },
        "outputId": "070f87af-b69b-459e-96fc-542af9120b68"
      },
      "source": [
        "# Operações dentro de estruturas condicionais simples\n",
        "\n",
        "num1 = 2\n",
        "num2 = 15\n",
        "\n",
        "\n",
        "if (num1 + num2) > 20:\n",
        "    print('O resultado da soma é MAIOR do que 20')\n",
        "elif (num1 + num2) ==20:\n",
        "    print('O resultado da soma é IGUAL a 20')\n",
        "else:\n",
        "    print('O resultado da soma é MENOR do que 20')\n",
        "  "
      ],
      "execution_count": null,
      "outputs": [
        {
          "output_type": "stream",
          "text": [
            "O resultado da soma é MENOR do que 20\n"
          ],
          "name": "stdout"
        }
      ]
    },
    {
      "cell_type": "code",
      "metadata": {
        "id": "HW_MQ3KnybqK"
      },
      "source": [
        "# Estruturas condicionais com interpolação e máscaras de substituição\n",
        "\n",
        "nomes = ['Fernando', 'Maria', 'Carlos']\n",
        "login = input('Digite o seu nome: ')\n",
        "\n",
        "if login in nomes:\n",
        "  print(f'Bem-vindo(a) {login}')\n",
        "else:\n",
        "  print('Usuário não cadastrado.')\n",
        "  "
      ],
      "execution_count": null,
      "outputs": []
    },
    {
      "cell_type": "code",
      "metadata": {
        "id": "e4vvJ9texad5"
      },
      "source": [
        "# Operações dentro de estruturas condicionais compostas\n",
        "\n",
        "num1 = 15\n",
        "num2 = 40\n",
        "num3 = 2\n",
        "soma = num1 + num2 + num3\n",
        "\n",
        "if (num1 + num2) >= 0:\n",
        "  print('O número é positivo')\n",
        "if (num1 + num2) > 50 and soma < 100:\n",
        "  print('O número é maior que 50 e menor que 100')\n",
        "  "
      ],
      "execution_count": null,
      "outputs": []
    },
    {
      "cell_type": "code",
      "metadata": {
        "id": "eWLNWBxzFoo4"
      },
      "source": [
        "# Estruturas Condicionais com Validadores Simples (em string)\n",
        "\n",
        "nome = input('Digite o seu nome: ')\n",
        "\n",
        "if nome == 'Fernando':\n",
        "  print('Olá Fernando, você é o administraor do sistema!!!')\n",
        "elif nome in 'Ana Bárbara Carlos José Maria Paulo Tatiana':\n",
        "  print(f'Bem vindo(a) {nome}, você é um(a) usuário(a) registrado no sistema.')\n",
        "else:\n",
        "  print('Olá, você não está logado no sistema, suas permissões são restritas.')\n",
        "  "
      ],
      "execution_count": null,
      "outputs": []
    },
    {
      "cell_type": "code",
      "metadata": {
        "id": "PPs2SFbnG00n"
      },
      "source": [
        "# Mesmo exemplo que o anterior, mas diferenciando gêneros\n",
        "\n",
        "nome = input('Digite o seu nome: ')\n",
        "\n",
        "if nome == 'Fernando':\n",
        "  print('Olá Fernando, você é o administraor do sistema!!!')\n",
        "elif nome in 'Ana Bárbara Maria Tatiana':\n",
        "  print(f'Bem vinda {nome}, você é uma usuária registrada no sistema.')\n",
        "elif nome in 'Carlos José Paulo':\n",
        "  print(f'Bem vindo {nome}, você é um usuário registrado no sistema.')\n",
        "else:\n",
        "  print('Olá, você não está logado no sistema, suas permissões são restritas.')\n",
        "  "
      ],
      "execution_count": null,
      "outputs": []
    },
    {
      "cell_type": "code",
      "metadata": {
        "id": "dNA0_gcLHZ0t"
      },
      "source": [
        "# Mesmo exemplo anterior, aprimorado\n",
        "\n",
        "nome = input('Digite o seu nome: ')\n",
        "\n",
        "funcionarios_homens = ['Carlos', 'José', 'Paulo']\n",
        "funcionarias_mulheres = ['Ana', 'Bárbara', 'Maria', 'Tatiana']\n",
        "\n",
        "if nome == 'Fernando':\n",
        "  print('Olá Fernando, você é o administrador do sistema!!!')\n",
        "elif nome in funcionarias_mulheres:\n",
        "  print(f'Bem vinda {nome}, você é uma usuária registrada no sistema.')\n",
        "elif nome in funcionarios_homens:\n",
        "  print(f'Bem vindo {nome}, você é um usuário registrado no sistema.')\n",
        "else:\n",
        "  print('Olá, você não está logado no sistema, suas permissões são restritas.')\n",
        "  "
      ],
      "execution_count": null,
      "outputs": []
    },
    {
      "cell_type": "code",
      "metadata": {
        "id": "KNYdDcPp0_y5"
      },
      "source": [
        "# Estrutura condicional composta com or (ou) e and (e)\n",
        "\n",
        "veiculo1 = 'Gol'\n",
        "veiculo2 = 'Corsa'\n",
        "veiculo3 = 'Onibus'\n",
        "cor1 = 'Branco'\n",
        "cor2 = 'Vermelho'\n",
        "\n",
        "if veiculo1 == 'Gol' or veiculo2 == 'Celta':\n",
        "  print('Carro')\n",
        "if veiculo1 == 'Gol' and cor1 == 'Branco':\n",
        "  print('Gol Branco')\n",
        "if veiculo1 == 'Onibus' and cor2 == 'Vermelho':\n",
        "  print('Onibus Vermelho')\n",
        "\n",
        "# Condição em or apenas uma das condicionais precisa ser verdadeira.\n",
        "# Condicão em and as duas condicionais precisam serem verdadeiras.\n"
      ],
      "execution_count": null,
      "outputs": []
    },
    {
      "cell_type": "markdown",
      "metadata": {
        "id": "6J5k1s6VRPaj"
      },
      "source": [
        "## Estruturas de Repetição"
      ]
    },
    {
      "cell_type": "markdown",
      "metadata": {
        "id": "hZu4lCdSRgRD"
      },
      "source": [
        "**While**"
      ]
    },
    {
      "cell_type": "code",
      "metadata": {
        "id": "JKhGEgItRb46"
      },
      "source": [
        "# Enquanto determinada condição for verdadeira, o processo se repete\n",
        "\n",
        "x = 0\n",
        "while x <= 5:\n",
        "  print(x)\n",
        "  x = x + 1\n",
        "  "
      ],
      "execution_count": null,
      "outputs": []
    },
    {
      "cell_type": "code",
      "metadata": {
        "id": "MvjUj_KFyk9Y"
      },
      "source": [
        "# Enquanto o usuário não digitar a palavra específica o código não é executado\n",
        "\n",
        "validador = input('Digite \"Brasil\" para continuar:')\n",
        "\n",
        "while validador != 'Brasil':\n",
        "    print('Palavra-chave não confere, digite novamente:')\n",
        "    validador = input('Digite \"Brasil\" para continuar:')\n",
        "\n",
        "    if validador == 'Brasil':\n",
        "        print('Agora você digitou Brasil corretamente.')\n"
      ],
      "execution_count": null,
      "outputs": []
    },
    {
      "cell_type": "code",
      "metadata": {
        "id": "jsb-h2jM3YuI"
      },
      "source": [
        "# Estruturas condicionais dentro de laços de repetição\n",
        "\n",
        "num = 0\n",
        "total = 10\n",
        "\n",
        "while num <= 10:\n",
        "  print(num)\n",
        "  num += 1\n",
        "  if num == 5:\n",
        "    print('50% computado')\n",
        "  if num == 10:\n",
        "    print('100%, processo encerrado')\n",
        "    "
      ],
      "execution_count": null,
      "outputs": []
    },
    {
      "cell_type": "code",
      "metadata": {
        "id": "IkWfuFK7zoMa",
        "colab": {
          "base_uri": "https://localhost:8080/"
        },
        "outputId": "42bb1ce8-59a7-448d-deb6-0e4461f233d7"
      },
      "source": [
        "# Reescrevendo o exemplo de palavra-chave específica, aprimorado com while True\n",
        "\n",
        "while True:\n",
        "    validador = input('Digite \"Brasil\" para continuar:')\n",
        "    \n",
        "    if validador == 'Brasil':\n",
        "        print('Você digitou Brasil corretamente!!!')\n",
        "        break\n",
        "    else:\n",
        "        print('Palavra-chave não confere, digite novamente:')\n",
        "\n"
      ],
      "execution_count": null,
      "outputs": [
        {
          "output_type": "stream",
          "text": [
            "Digite \"Brasil\" para continuar:ubre\n",
            "Palavra-chave não confere, digite novamente:\n",
            "Digite \"Brasil\" para continuar:Brasil\n",
            "Você digitou Brasil corretamente!!!\n"
          ],
          "name": "stdout"
        }
      ]
    },
    {
      "cell_type": "markdown",
      "metadata": {
        "id": "rijj2c3SRzIE"
      },
      "source": [
        "**For**"
      ]
    },
    {
      "cell_type": "code",
      "metadata": {
        "id": "_T0SYDJBRwLs"
      },
      "source": [
        "# Laço de repetição simples\n",
        "\n",
        "compras = ['Arroz', 'Feijão', 'Massa', 'Carne', 'Pão']\n",
        "\n",
        "for i in compras:\n",
        "  print(i)\n",
        "  "
      ],
      "execution_count": null,
      "outputs": []
    },
    {
      "cell_type": "code",
      "metadata": {
        "id": "ZLhQZXGliZik"
      },
      "source": [
        "# Laço de repetição que percorre cada elemento de uma string\n",
        "\n",
        "nome = 'Alberto'\n",
        "\n",
        "for i in nome:\n",
        "  print(i)\n",
        "  "
      ],
      "execution_count": null,
      "outputs": []
    },
    {
      "cell_type": "code",
      "metadata": {
        "id": "uO25M76wTTla"
      },
      "source": [
        "# Laço de repetição dentro de um intervalo predefinido\n",
        "\n",
        "for i in range(0, 10):\n",
        "  print(i)\n",
        "  "
      ],
      "execution_count": null,
      "outputs": []
    },
    {
      "cell_type": "code",
      "metadata": {
        "id": "UFpMTQinSHt4"
      },
      "source": [
        "# Laço de repetição que atualiza valor de variável\n",
        "\n",
        "vendas = [1000, 459, 911, 200, 838, 50]\n",
        "\n",
        "total = 0\n",
        "\n",
        "for i in vendas:\n",
        "  total += i\n",
        "print(total)\n"
      ],
      "execution_count": null,
      "outputs": []
    },
    {
      "cell_type": "code",
      "metadata": {
        "id": "3-xY3rVfStMR"
      },
      "source": [
        "# Laço de repetição que separa elementos de uma lista\n",
        "\n",
        "compras = [['Arroz', 'feijão'], ['Carne', 'Frango', 'Peixe'], ['Leite']]\n",
        "\n",
        "for i in compras:\n",
        "  print(i)\n",
        "  "
      ],
      "execution_count": null,
      "outputs": []
    },
    {
      "cell_type": "code",
      "metadata": {
        "id": "6ecR4kK1SdFy"
      },
      "source": [
        "# Laço de repetição que separa elementos de um dicionário\n",
        "\n",
        "cores = {'verde': 'green', 'azul': 'blue', 'vermelho': 'red'}\n",
        "\n",
        "for i in cores:\n",
        "  print(i, ':', cores[i])\n",
        "  "
      ],
      "execution_count": null,
      "outputs": []
    },
    {
      "cell_type": "code",
      "metadata": {
        "id": "5t66wujYQCW4"
      },
      "source": [
        "# Laço for contando de 2 em 2 elementos\n",
        "\n",
        "for i in range(0, 10, 2):\n",
        "  print(i)\n",
        "  "
      ],
      "execution_count": null,
      "outputs": []
    },
    {
      "cell_type": "code",
      "metadata": {
        "id": "ZStEWSQAPnBF"
      },
      "source": [
        "# Contagem Regressiva via laço for\n",
        "\n",
        "for i in range(10, 0, -1): # terceiro parâmetro estipula que o laço será feito do fim para o começo\n",
        "  print(i)\n"
      ],
      "execution_count": null,
      "outputs": []
    },
    {
      "cell_type": "code",
      "metadata": {
        "id": "eRZZMK1tQgxw"
      },
      "source": [
        "# Laço for que realiza contagem com base em número digitado pelo usuário\n",
        "\n",
        "num = int(input('Digite o número limite: '))\n",
        "\n",
        "for i in range(0, num+1):\n",
        "  print(i)\n",
        "  "
      ],
      "execution_count": null,
      "outputs": []
    },
    {
      "cell_type": "code",
      "metadata": {
        "id": "eqWOHBhQTa_b"
      },
      "source": [
        "# Laço de repetição com múltiplos parâmetros de múltiplas variáveis\n",
        "\n",
        "repetir = 's'\n",
        "fatura = []\n",
        "total = 0\n",
        "\n",
        "while repetir == 's':\n",
        "  produto = input('Digite o nome do produto: ')\n",
        "  preco = float(input('Digite o preço: '))\n",
        "  fatura.append([produto, preco])\n",
        "  total += preco\n",
        "  repetir = input('Cadastrar mais algum item? (S ou N)').lower()\n",
        "\n",
        "for i in fatura:\n",
        "  print(i[0], ':', i[1])\n",
        "  \n",
        "print('O Total da fatura é: ', total)\n"
      ],
      "execution_count": null,
      "outputs": []
    },
    {
      "cell_type": "code",
      "metadata": {
        "id": "Pc1L6SXqqW0q"
      },
      "source": [
        "# Usando de alternativas quando o laço for não for eficiente\n",
        "\n",
        "# Código convencional - percorrendo os elementos de uma string e exibindo-os junto ao seu índice\n",
        "nome = 'Fernando'\n",
        "n_indice = 0\n",
        "\n",
        "for n_indice in range(len(nome)):\n",
        "  print(n_indice, nome[n_indice])\n",
        "\n",
        "# Código otimizado via função enumerate( )\n",
        "\n",
        "for n_indice, valor in enumerate(nome):\n",
        "  print(n_indice, valor)\n",
        "  "
      ],
      "execution_count": null,
      "outputs": []
    },
    {
      "cell_type": "markdown",
      "metadata": {
        "id": "HKQSc5K2EnlK"
      },
      "source": [
        "##Strings"
      ]
    },
    {
      "cell_type": "code",
      "metadata": {
        "id": "6bVtytQflFc2"
      },
      "source": [
        "# Sintaxe básica\n",
        "\n",
        "nome = 'atributo em formato alfanumérico'\n"
      ],
      "execution_count": null,
      "outputs": []
    },
    {
      "cell_type": "code",
      "metadata": {
        "id": "dGvDYqRxEuqd",
        "colab": {
          "base_uri": "https://localhost:8080/"
        },
        "outputId": "baa55f02-a009-4ea9-be1e-fdeeb9db2b2b"
      },
      "source": [
        "# Contando quantos caracteres compõe uma string\n",
        "\n",
        "frase1 = 'Porto Alegre é uma cidade Brasileira.'\n",
        "\n",
        "print(len(frase1))\n"
      ],
      "execution_count": null,
      "outputs": [
        {
          "output_type": "stream",
          "text": [
            "37\n"
          ],
          "name": "stdout"
        }
      ]
    },
    {
      "cell_type": "code",
      "metadata": {
        "colab": {
          "base_uri": "https://localhost:8080/"
        },
        "id": "JCy049UJFllV",
        "outputId": "7dac5392-2556-434f-8335-10aff1e8153b"
      },
      "source": [
        "# Contar quantos caracteres compõe uma string desconsiderando os espaços\n",
        "\n",
        "frase1 = str('Porto Alegre é uma cidade Brasileira.')\n",
        "\n",
        "print(len(frase1))\n",
        "print(len(frase1) - frase1.count(' '))\n"
      ],
      "execution_count": null,
      "outputs": [
        {
          "output_type": "stream",
          "text": [
            "37\n",
            "32\n",
            "6\n"
          ],
          "name": "stdout"
        }
      ]
    },
    {
      "cell_type": "code",
      "metadata": {
        "id": "e11CK3P0pfbJ"
      },
      "source": [
        "# Substituindo elementos de uma string\n",
        "\n",
        "frase1 = 'Porto Alegre é uma cidade Brasileira.'\n",
        "frase1 = frase1.replace('Porto Alegre', 'Curitiba')\n",
        "\n",
        "print(frase1)\n"
      ],
      "execution_count": null,
      "outputs": []
    },
    {
      "cell_type": "code",
      "metadata": {
        "id": "L_ziQl_Npz_O"
      },
      "source": [
        "# Contando quantos de um tipo específico de caractere estão na string\n",
        "\n",
        "frase1 = 'Porto Alegre é uma cidade Brasileira.'\n",
        "\n",
        "print(frase1.count('a'))\n"
      ],
      "execution_count": null,
      "outputs": []
    },
    {
      "cell_type": "code",
      "metadata": {
        "id": "oAaxZ4-fqORv"
      },
      "source": [
        "# Exibindo a posição do índice de um determinado elemento da string\n",
        "\n",
        "frase1 = 'Porto Alegre é uma cidade Brasileira.'\n",
        "\n",
        "print(frase1.find('é'))\n"
      ],
      "execution_count": null,
      "outputs": []
    },
    {
      "cell_type": "code",
      "metadata": {
        "id": "HL5Ik8_btqiu"
      },
      "source": [
        "# Realizando a leitura de um caractere pelo seu índice\n",
        "\n",
        "frase1 = 'Porto Alegre é uma cidade Brasileira.'\n",
        "\n",
        "print(frase1[16])\n"
      ],
      "execution_count": null,
      "outputs": []
    },
    {
      "cell_type": "code",
      "metadata": {
        "id": "KImp_Amwqss2"
      },
      "source": [
        "# Desmembrando uma string, separando cada palavra da frase\n",
        "\n",
        "frase1 = 'Porto Alegre é uma cidade Brasileira.'\n",
        "\n",
        "print(frase1.split())\n",
        "\n",
        "# split() sem parâmetros considerará os espaços entre as palavras, caso\n",
        "# queira um delimitador diferente é necessário definir via parâmetro, por exemplo\n",
        "# split(';'), dessa forma, apenas onde houver ; haverá a separação das strings.\n"
      ],
      "execution_count": null,
      "outputs": []
    },
    {
      "cell_type": "code",
      "metadata": {
        "id": "saKyWA-CrE5f"
      },
      "source": [
        "# Pegando dados de uma string especificando um intervalo de seu índice\n",
        "\n",
        "frase1 = 'Porto Alegre é uma cidade Brasileira.'\n",
        "\n",
        "print(frase1[26:37]) # intervalo específico\n",
        "print(frase1[0:5]) # do início até uma posição i\n",
        "print(frase1[-9]) # de trás para frente\n"
      ],
      "execution_count": null,
      "outputs": []
    },
    {
      "cell_type": "code",
      "metadata": {
        "id": "DRj-63SuvWQm"
      },
      "source": [
        "# Concatenando strings por meio de variáveis\n",
        "\n",
        "mensagem = 'Seja bem-vinda '\n",
        "usuario = 'Ana Clara'\n",
        "\n",
        "base = mensagem + usuario\n",
        "\n",
        "print(base)\n"
      ],
      "execution_count": null,
      "outputs": []
    },
    {
      "cell_type": "code",
      "metadata": {
        "id": "FASEfVB5v_M1"
      },
      "source": [
        "# Concatenando diferentes tipos de dados em uma string\n",
        "\n",
        "nome = 'Ana Clara'\n",
        "idade = 12\n",
        "\n",
        "print(f'{nome} tem {idade} anos')\n",
        "\n",
        "aviso = 'Atenção, geradores entrarão em manutenção às: ' + str(22) + ' horas!'\n",
        "\n",
        "print(aviso)\n"
      ],
      "execution_count": null,
      "outputs": []
    },
    {
      "cell_type": "code",
      "metadata": {
        "id": "EXl_gDG2w9J-"
      },
      "source": [
        "# Operadores lógicos em uma string\n",
        "\n",
        "aviso = 'Não é permitida a entrada de menores de 18 anos'\n",
        "\n",
        "print(aviso)\n",
        "\n",
        "print('anos' in aviso)\n",
        "\n",
        "print('gestante' not in aviso)\n"
      ],
      "execution_count": null,
      "outputs": []
    },
    {
      "cell_type": "code",
      "metadata": {
        "id": "b3Aq0eS_xtoX"
      },
      "source": [
        "# Letras maiúsculas ou minúsculas em uma string\n",
        "\n",
        "alerta = 'Risco de Morte'\n",
        "\n",
        "print(alerta.upper())\n",
        "\n",
        "print(alerta.lower())\n"
      ],
      "execution_count": null,
      "outputs": []
    },
    {
      "cell_type": "code",
      "metadata": {
        "id": "N-A1g2jGyE-n"
      },
      "source": [
        "# Convertendo outro tipo de dado para string\n",
        "\n",
        "num1 = 5623\n",
        "num2 = str(num1)\n",
        "\n",
        "print(type(num1))\n",
        "print(type(num2))\n"
      ],
      "execution_count": null,
      "outputs": []
    },
    {
      "cell_type": "code",
      "metadata": {
        "id": "rQWMXf_Syqbt"
      },
      "source": [
        "# Removendo espaços no início e no fim de uma string\n",
        "\n",
        "frase1 = '         Olá, você é o visitante nº 1000 '\n",
        "\n",
        "print(frase1)\n",
        "print(frase1.strip())\n"
      ],
      "execution_count": null,
      "outputs": []
    },
    {
      "cell_type": "code",
      "metadata": {
        "id": "82G2GNEw1tG9"
      },
      "source": [
        "# Convertendo todas iniciais das palavras para maiúsculo, como em um título\n",
        "\n",
        "tema = 'O diagnóstico por imagem como ferramenta para detecção de câncer'\n",
        "\n",
        "tema = tema.title()\n",
        "\n",
        "print(tema)\n"
      ],
      "execution_count": null,
      "outputs": []
    },
    {
      "cell_type": "code",
      "metadata": {
        "id": "x_9m1-jv2LVW"
      },
      "source": [
        "# Verificando se uma string é composta por letras e números\n",
        "\n",
        "print('aa44'.isalnum()) # Qualquer caractere alfanumérico\n",
        "\n",
        "print('aa44'.isalpha()) # Apenas letras\n",
        "\n",
        "print('aa44'.isdigit()) # Apenas números\n"
      ],
      "execution_count": null,
      "outputs": []
    },
    {
      "cell_type": "code",
      "metadata": {
        "id": "rqtt2IXA5ONN"
      },
      "source": [
        "# Adicionando espaços antes e depois de uma string\n",
        "\n",
        "frase1 = 'Alerta, Risco de Morte!!!'\n",
        "frase1 = frase1.ljust(50)\n",
        "\n",
        "print(frase1)\n",
        "\n",
        "frase2 = 'Alerta, Risco de Morte!!!'\n",
        "frase2 = frase2.rjust(50)\n",
        "\n",
        "print(frase2)\n",
        "\n",
        "frase3 = 'Alerta, Risco de Morte!!!'\n",
        "frase3 = frase3.center(50)\n",
        "\n",
        "print(frase3)\n"
      ],
      "execution_count": null,
      "outputs": []
    },
    {
      "cell_type": "markdown",
      "metadata": {
        "id": "baGyJEPdE1K-"
      },
      "source": [
        "##Listas"
      ]
    },
    {
      "cell_type": "code",
      "metadata": {
        "id": "OUZoUc7pE3wc"
      },
      "source": [
        "# Criando uma lista simples\n",
        "\n",
        "lista1 = ['Ana Clara', 'Carlos', 'Maria', 'Michele', 'Fernando', 1987]\n",
        "\n",
        "print(lista1)\n"
      ],
      "execution_count": null,
      "outputs": []
    },
    {
      "cell_type": "code",
      "metadata": {
        "id": "PRXtVhLv4-lZ"
      },
      "source": [
        "# Descobrindo o elemento de uma lista através de seu número de índice\n",
        "\n",
        "lista1 = ['Ana Clara', 'Carlos', 'Maria', 'Michele', 'Fernando', 1987]\n",
        "\n",
        "print(lista1[3])\n"
      ],
      "execution_count": null,
      "outputs": []
    },
    {
      "cell_type": "code",
      "metadata": {
        "id": "AnN8pE5i3v3C"
      },
      "source": [
        "# Descobrindo o número de índice de um determinado elemento\n",
        "\n",
        "lista1 = ['Ana Clara', 'Carlos', 'Maria', 'Michele', 'Fernando', 1987]\n",
        "\n",
        "print(lista1.index('Michele'))\n"
      ],
      "execution_count": null,
      "outputs": []
    },
    {
      "cell_type": "code",
      "metadata": {
        "id": "YEb_najczmWU"
      },
      "source": [
        "# Descobrindo o número de elementos de uma lista\n",
        "\n",
        "lista1 = ['Ana Clara', 'Carlos', 'Maria', 'Michele', 'Fernando', 1987]\n",
        "\n",
        "print(len(lista1))\n"
      ],
      "execution_count": null,
      "outputs": []
    },
    {
      "cell_type": "code",
      "metadata": {
        "id": "2kFM18u65Doo"
      },
      "source": [
        "# Adicionando um novo elemento a lista\n",
        "\n",
        "lista1 = ['Ana Clara', 'Carlos', 'Maria', 'Michele', 'Fernando', 1987]\n",
        "\n",
        "lista1.append('Paulo')\n",
        "\n",
        "print(lista1)\n"
      ],
      "execution_count": null,
      "outputs": []
    },
    {
      "cell_type": "code",
      "metadata": {
        "id": "ZWAucqYDHHBe"
      },
      "source": [
        "# Adicionando um novo elemento na lista em uma posição específica\n",
        "\n",
        "lista1 = ['Ana Clara', 'Carlos', 'Maria', 'Michele', 'Fernando', 1987]\n",
        "\n",
        "lista1[2] = 'José'\n",
        "\n",
        "print(lista1)\n"
      ],
      "execution_count": null,
      "outputs": []
    },
    {
      "cell_type": "code",
      "metadata": {
        "id": "Sig7MD107LHT"
      },
      "source": [
        "# Adicionando um novo elemento na lista em uma posição específica via função insert()\n",
        "\n",
        "lista1 = ['Ana Clara', 'Carlos', 'Maria', 'Michele', 'Fernando', 1987]\n",
        "\n",
        "lista1.insert(2, 'José')\n",
        "\n",
        "print(lista1)\n"
      ],
      "execution_count": null,
      "outputs": []
    },
    {
      "cell_type": "code",
      "metadata": {
        "id": "BCeD4PT25M0I",
        "colab": {
          "base_uri": "https://localhost:8080/"
        },
        "outputId": "7cacee24-e00f-41fa-d608-25f4b2999660"
      },
      "source": [
        "# Removendo um elemento de uma lista pelo seu número de índice\n",
        "\n",
        "lista1 = ['Ana Clara', 'Carlos', 'Maria', 'Michele', 'Fernando', 1987]\n",
        "\n",
        "lista1.remove(lista1[5])\n",
        "\n",
        "print(lista1)\n"
      ],
      "execution_count": null,
      "outputs": [
        {
          "output_type": "stream",
          "text": [
            "['Ana Clara', 'Carlos', 'Maria', 'Michele', 'Fernando']\n"
          ],
          "name": "stdout"
        }
      ]
    },
    {
      "cell_type": "code",
      "metadata": {
        "id": "b2YiMQ2OxMP_"
      },
      "source": [
        "# Listas dentro de listas\n",
        "\n",
        "cadastro = [[1, 2, 3, 4], ['Ana', 'Maria', 'Paulo', 'Roberto']]\n",
        "\n",
        "print(cadastro)\n"
      ],
      "execution_count": null,
      "outputs": []
    },
    {
      "cell_type": "markdown",
      "metadata": {
        "id": "4HFrgFjgFCYE"
      },
      "source": [
        "##Conjuntos Numéricos"
      ]
    },
    {
      "cell_type": "code",
      "metadata": {
        "id": "X563OkTfFH4v"
      },
      "source": [
        "# Criando um conjunto numérico (set) em Python\n",
        "\n",
        "conjunto1 = {5, 10, 15, 20}\n",
        "\n",
        "print(type(conjunto1))\n"
      ],
      "execution_count": null,
      "outputs": []
    },
    {
      "cell_type": "code",
      "metadata": {
        "id": "nq4q-87fmuGP"
      },
      "source": [
        "# Operações entre conjuntos\n",
        "\n",
        "cj1 = {1, 2, 3, 4, 5}\n",
        "cj2 = {1, 3, 5, 7, 9}\n",
        "\n",
        "print(cj2 - cj1)\n"
      ],
      "execution_count": null,
      "outputs": []
    },
    {
      "cell_type": "code",
      "metadata": {
        "id": "rvT_2Zii1Vnt"
      },
      "source": [
        "# União de conjuntos numéricos\n",
        "\n",
        "conjunto1 = {5, 10, 15, 20, 25}\n",
        "conjunto2 = {1, 2, 3, 4, 5}\n",
        "\n",
        "uniao = conjunto1.union(conjunto2)\n",
        "\n",
        "print(uniao)\n",
        "\n",
        "# Os dados que forem comum aos dois conjuntos não serão duplicados.\n"
      ],
      "execution_count": null,
      "outputs": []
    },
    {
      "cell_type": "code",
      "metadata": {
        "id": "NjKM2FPv6imV"
      },
      "source": [
        "# Interseção de dois conjuntos\n",
        "\n",
        "conjunto1 = {5, 10, 15, 20, 25}\n",
        "conjunto2 = {1, 2, 3, 4, 5}\n",
        "\n",
        "uniao = conjunto1.intersection(conjunto2)\n",
        "#uniao = conjunto1.update(conjunto2)\n",
        "\n",
        "print(uniao)\n"
      ],
      "execution_count": null,
      "outputs": []
    },
    {
      "cell_type": "code",
      "metadata": {
        "id": "BXF-W1LM7Y5t"
      },
      "source": [
        "# Operadores lógicos em conjuntos numéricos\n",
        "\n",
        "conjunto1 = {5, 10, 15, 20, 25}\n",
        "conjunto2 = {1, 2, 3, 4, 5}\n",
        "uniao = conjunto1.union(conjunto2)\n",
        "\n",
        "print(uniao == conjunto1)\n",
        "print(uniao >= conjunto2)\n"
      ],
      "execution_count": null,
      "outputs": []
    },
    {
      "cell_type": "code",
      "metadata": {
        "id": "DTibl0OS8bNF"
      },
      "source": [
        "# Diferença entre conjuntos\n",
        "\n",
        "c1 = {1, 2, 3, 4, 5} - {1, 2}\n",
        "\n",
        "print(c1)\n"
      ],
      "execution_count": null,
      "outputs": []
    },
    {
      "cell_type": "code",
      "metadata": {
        "id": "CAhDVcXw8tOT"
      },
      "source": [
        "# Diferença entre conjuntos associados a variáveis\n",
        "\n",
        "c1 = {1, 2, 3, 4, 5, 6, 7, 8, 9}\n",
        "c2 = {1, 3, 5, 7, 9}\n",
        "\n",
        "print(c1 - c2)\n"
      ],
      "execution_count": null,
      "outputs": []
    },
    {
      "cell_type": "markdown",
      "metadata": {
        "id": "UEkV7BTV8ojq"
      },
      "source": [
        "## Pilhas"
      ]
    },
    {
      "cell_type": "code",
      "metadata": {
        "id": "MQSYJeq48sQc"
      },
      "source": [
        "sequencia = [11, 22, 33, 444]\n",
        "\n",
        "pilha = []\n",
        "\n",
        "for elemento in sequencia:\n",
        "    pilha.append(elemento)\n",
        "\n",
        "\n",
        "pilha.append(555)\n",
        "\n",
        "\n",
        "while len(pilha) > 0:\n",
        "    print(pilha)\n",
        "\n",
        "    topo = pilha.pop()\n",
        "\n",
        "    print(f'Objeto do topo da pilha: {topo}')\n",
        "\n"
      ],
      "execution_count": null,
      "outputs": []
    },
    {
      "cell_type": "markdown",
      "metadata": {
        "id": "9oZOyemkFKIr"
      },
      "source": [
        "##Interpolação"
      ]
    },
    {
      "cell_type": "code",
      "metadata": {
        "id": "mEW_s8xBFM0d"
      },
      "source": [
        "# Uso de máscaras de substituição\n",
        "\n",
        "nome = 'Maria'\n",
        "exp = 33\n",
        "\n",
        "print(f'Olá {nome}, queremos te parabenizar por seus {exp} anos em nossa empresa.')\n"
      ],
      "execution_count": null,
      "outputs": []
    },
    {
      "cell_type": "code",
      "metadata": {
        "id": "fykcdYtR9zh0"
      },
      "source": [
        "# Operações dentro de máscaras de substituição\n",
        "\n",
        "nome = 'Maria'\n",
        "idade = 30\n",
        "\n",
        "print(f'{nome} tem 3 vezes minha idade, ela tem {3 * idade} anos!!!')\n"
      ],
      "execution_count": null,
      "outputs": []
    },
    {
      "cell_type": "markdown",
      "metadata": {
        "id": "J6pTx-TE-uEM"
      },
      "source": [
        "## Dicionários"
      ]
    },
    {
      "cell_type": "code",
      "metadata": {
        "id": "3Sk24lK7Qg4p"
      },
      "source": [
        "# Sintaxe básica\n",
        "\n",
        "dicionario = {'chave': 'valor'}\n",
        "\n",
        "print(dicionario)\n"
      ],
      "execution_count": null,
      "outputs": []
    },
    {
      "cell_type": "code",
      "metadata": {
        "id": "uRkMLS0K_Mej"
      },
      "source": [
        "# Adicionando novos elementos ao dicionário\n",
        "\n",
        "dicionario1 = {'Nome1':'Paulo'}\n",
        "\n",
        "print(dicionario1)\n",
        "\n",
        "dicionario1['Nome2'] = 'Veronica'\n",
        "\n",
        "print(dicionario1)\n"
      ],
      "execution_count": null,
      "outputs": []
    },
    {
      "cell_type": "code",
      "metadata": {
        "id": "YvmGh0N9IZ7c"
      },
      "source": [
        "# Alterando o valor de uma chave do dicionário\n",
        "\n",
        "dicionario1 = {'Nome1': 'Ana',\n",
        "               'Nome2': 'Carla',\n",
        "               'Nome3': 'Maria'}\n",
        "               \n",
        "print(dicionario1)\n",
        "\n",
        "dicionario1['Nome2'] = 'Bárbara'\n",
        "\n",
        "print(dicionario1)\n"
      ],
      "execution_count": null,
      "outputs": []
    },
    {
      "cell_type": "code",
      "metadata": {
        "id": "vpNrovLq_1aY"
      },
      "source": [
        "# Acessando um elemento do dicionário\n",
        "\n",
        "dicionario1 = {'Nome':'Fernando',\n",
        "               'Idade':32,\n",
        "               'Sexo':'Masculino',\n",
        "               'Nacionalidade':'Brasileiro'}\n",
        "\n",
        "print(dicionario1['Nome'])\n",
        "print(dicionario1['Nacionalidade'])\n"
      ],
      "execution_count": null,
      "outputs": []
    },
    {
      "cell_type": "code",
      "metadata": {
        "id": "r7c-ex_PFiIt"
      },
      "source": [
        "# Usando o construtor de dicionários do Python\n",
        "\n",
        "dicionario2 = dict(chave1 = 'valor da chave1',\n",
        "                   chave2 = 'valor da chave 2')\n",
        "\n",
        "print(dicionario2)\n",
        "print(type(dicionario2))\n"
      ],
      "execution_count": null,
      "outputs": []
    },
    {
      "cell_type": "code",
      "metadata": {
        "id": "xVo3fmeALndl"
      },
      "source": [
        "# Consultando apenas as chaves de um dicionário\n",
        "\n",
        "dicionario2 = dict(chave1 = 'valor da chave1',\n",
        "                   chave2 = 'valor da chave 2')\n",
        "\n",
        "dicionario2.keys()\n"
      ],
      "execution_count": null,
      "outputs": []
    },
    {
      "cell_type": "code",
      "metadata": {
        "id": "4rXJDrd0QG4x"
      },
      "source": [
        "# Consultando apenas os valores de um dicionário\n",
        "\n",
        "dicionario2 = dict(chave1 = 'valor da chave1',\n",
        "                   chave2 = 'valor da chave 2')\n",
        "\n",
        "dicionario2.values()\n"
      ],
      "execution_count": null,
      "outputs": []
    },
    {
      "cell_type": "code",
      "metadata": {
        "id": "pBmRc8rNGLRc"
      },
      "source": [
        "# Verificando se uma chave ou valor consta em um dicionário\n",
        "\n",
        "# Pesquisando pela chave, obtendo valor\n",
        "d3 = {'1':'Ana', '2':'Maria', '3':'Paulo', '4':'Marcos'}\n",
        "\n",
        "print(d3.get('5'))\n",
        "print(d3.get('2'))\n",
        "\n",
        "'''Mesmo que:\n",
        "print('3' in d3)'''\n",
        "\n",
        "# Pesquisando se o dado/valor consta em uma chave\n",
        "print('2' in d3.keys())\n",
        "\n",
        "# Pesquisando se o dado/valor consta em um valor\n",
        "print('Ana' in d3.values())\n",
        "\n",
        "# Pesquisando se o dado/valor de um valor de dicionário é o dado/valor que se espera ser\n",
        "print(d3['2'] == 'Maria')   # O valor da chave '2' é 'Maria' ?\n"
      ],
      "execution_count": null,
      "outputs": []
    },
    {
      "cell_type": "code",
      "metadata": {
        "id": "rkgxs7AMPHkT"
      },
      "source": [
        "# Atualizando um elemento do dicionário\n",
        "\n",
        "d4 = {'1':'A', '2':'B', '3':'C', '4':'D'}\n",
        "\n",
        "print(d4)\n",
        "\n",
        "d4.update({'2':'E'})\n",
        "\n",
        "'''Mesmo que:\n",
        "d4['3'] = 'F'\n",
        "print(d4)'''\n",
        "\n",
        "print(d4)\n"
      ],
      "execution_count": null,
      "outputs": []
    },
    {
      "cell_type": "code",
      "metadata": {
        "id": "MBh47MAdPtNo"
      },
      "source": [
        "# Removendo um elemento do dicionário\n",
        "\n",
        "d4 = {'1':'A', '2':'B', '3':'C', '4':'D'}\n",
        "\n",
        "print(d4)\n",
        "\n",
        "del d4['4']\n",
        "\n",
        "print(d4)\n"
      ],
      "execution_count": null,
      "outputs": []
    },
    {
      "cell_type": "code",
      "metadata": {
        "id": "JrvoW4waQ95x"
      },
      "source": [
        "# Pesquisando o tamanho de um dicionário / de quantos elementos ele é composto\n",
        "\n",
        "d4 = {'1':'A', '2':'B', '3':'C', '4':'D', '5':'E', '6':'F'}\n",
        "\n",
        "print(len(d4))\n"
      ],
      "execution_count": null,
      "outputs": []
    },
    {
      "cell_type": "code",
      "metadata": {
        "id": "UzZRad2QShKu"
      },
      "source": [
        "# Imprimindo só chaves e só valores\n",
        "\n",
        "d4 = {'1':'A', '2':'B', '3':'C', '4':'D', '5':'E', '6':'F'}\n",
        "\n",
        "print(d4.keys())\n",
        "print(d4.values())\n"
      ],
      "execution_count": null,
      "outputs": []
    },
    {
      "cell_type": "code",
      "metadata": {
        "id": "io6M_mTkaEJr"
      },
      "source": [
        "# Lendo as chaves ou valores por meio do laço for\n",
        "\n",
        "d4 = {'1':'A', '2':'B', '3':'C'}\n",
        "for i in d4.keys():   # somente as chaves\n",
        "  print('Chaves:', i)\n",
        "  \n",
        "for j in d4.values():  # somente os valores\n",
        "  print('Valores:', j)\n",
        "  \n",
        "for l in d4.items():   # chaves e valores\n",
        "  print('Chaves : Valores =', l)\n",
        "  \n",
        "for m in d4.items():\n",
        "  print('Chaves:',m[0],' - ','Valores:',m[1])\n",
        "  \n",
        "for n, o in d4.items():   # 2 variáveis temporárias n e o, o mesmo que desempacotamento de elementos\n",
        "  print('Chaves:',n,' - ','Valores:',o)\n",
        "  print(f'Chaves: {n}, Valores: {o}')   # trazendo para a sintaxe atual f'Strings\n",
        "  "
      ],
      "execution_count": null,
      "outputs": []
    },
    {
      "cell_type": "code",
      "metadata": {
        "id": "Fcz9LOkc05zq"
      },
      "source": [
        "# Listas como valores de uma chave do dicionário\n",
        "\n",
        "dict = {'almox':['Folha de Oficio', 'Caneta', 'Grampeador'],\n",
        "        'cozinha':['Café', 'Açúcar']}\n",
        "\n",
        "print(dict['almox'][0])\n",
        "print(dict['cozinha'][1])\n"
      ],
      "execution_count": null,
      "outputs": []
    },
    {
      "cell_type": "code",
      "metadata": {
        "id": "B1-8NcLjU_H4"
      },
      "source": [
        "# Transformando chaves ou valores de um dicionário em tupla para fácil indexação\n",
        "\n",
        "dicionario1 = {'Nome':'Fernando', 'Idade':32, 'Sexo':'Masculino', 'Nacionalidade':'Brasileiro'}\n",
        "\n",
        "print(dicionario1.keys())\n",
        "\n",
        "dict_chaves = tuple(dicionario1.keys())\n",
        "\n",
        "print(dict_chaves)\n",
        "print(dict_chaves[3])\n"
      ],
      "execution_count": null,
      "outputs": []
    },
    {
      "cell_type": "code",
      "metadata": {
        "id": "c6IEh8pzah98"
      },
      "source": [
        "# Dicionários dentro de dicionários\n",
        "\n",
        "usuarios = {'João':{'Identificador':'0001','Cargo':'Porteiro','Salario':'2000'},\n",
        "            'Maria':{'Identificador':'0003','Cargo':'Aux. Limpeza','Salario':'1900'},\n",
        "            'José':{'Identificador':'0002','Cargo':'Técnico','Salario':'2500'}}\n",
        "            \n",
        "for i, j in usuarios.items():\n",
        "  print(f'Funcionário: {i}')\n",
        "  for k, l in j.items():\n",
        "    print(f'\\t {k} = {l}')\n",
        "    "
      ],
      "execution_count": null,
      "outputs": []
    },
    {
      "cell_type": "code",
      "metadata": {
        "id": "JE5EB-EuyRAf"
      },
      "source": [
        "# Removendo elementos de um dicionário por meio da função pop( )\n",
        "\n",
        "dicionario1 = {'Nome':'Fernando', 'Idade':32, 'Sexo':'Masculino', 'Nacionalidade':'Brasileiro'}\n",
        "\n",
        "dicionario1.pop('Nacionalidade')\n",
        "\n",
        "'''\n",
        "Mesmo que:\n",
        "del dicionário1['Nacionalidade']\n",
        "porém del é uma palavra reservada ao sistema\n",
        "'''\n",
        "\n",
        "print(dicionario1)\n"
      ],
      "execution_count": null,
      "outputs": []
    },
    {
      "cell_type": "code",
      "metadata": {
        "id": "iO6JUb6Ht44v",
        "colab": {
          "base_uri": "https://localhost:8080/",
          "height": 54
        },
        "outputId": "84ad8b0e-f40b-48f1-e68c-48d4a588ea96"
      },
      "source": [
        "# Usando do método get( ) para não gerar exceções quando um elemento não faz parte do dicionário\n",
        "\n",
        "dict1 = {'1':'A', '2':'B', '3':'C'}\n",
        "\n",
        "print(dict1['1'])   # ok\n",
        "#print(dict1['4'])   # chave não existente, irá gerar um KeyError\n",
        "\n",
        "dict1.get('4', 'nova chave') # '4' é um elemento não existe,te, será substituído por 'nova chave'\n",
        "                             # caso instanciasse no primeiro parâmetro um elemento presente no \n",
        "                             # dicionário iria retornar o mesmo normalmente, caso for um elemento\n",
        "                             # faltante já irá tratar a exceção normalmente, inserindo o novo dado\n",
        "                             "
      ],
      "execution_count": null,
      "outputs": [
        {
          "output_type": "stream",
          "text": [
            "A\n"
          ],
          "name": "stdout"
        },
        {
          "output_type": "execute_result",
          "data": {
            "application/vnd.google.colaboratory.intrinsic+json": {
              "type": "string"
            },
            "text/plain": [
              "'nova chave'"
            ]
          },
          "metadata": {
            "tags": []
          },
          "execution_count": 2
        }
      ]
    },
    {
      "cell_type": "markdown",
      "metadata": {
        "id": "9Fe37G6FKXJS"
      },
      "source": [
        "## Funções"
      ]
    },
    {
      "cell_type": "code",
      "metadata": {
        "id": "5E3q8UvwKXJS"
      },
      "source": [
        "# Sintaxe básica\n",
        "\n",
        "def nome_da_funcao(parametros):\n",
        "  \"corpo da função\"\n",
        "  "
      ],
      "execution_count": null,
      "outputs": []
    },
    {
      "cell_type": "code",
      "metadata": {
        "id": "TJBIRpnOKXJU",
        "colab": {
          "base_uri": "https://localhost:8080/"
        },
        "outputId": "c5f5ce45-b302-48a4-e163-ce96a312cce6"
      },
      "source": [
        "# Definindo uma função sem parâmetros\n",
        "\n",
        "def exibe_mensagem():\n",
        "  print('Seja Bem-Vindo!!!')\n",
        "  # poderia ser, dependendo o contexto, return 'Seja Bem-Vindo!!!'\n",
        "\n",
        "print(exibe_mensagem())\n"
      ],
      "execution_count": null,
      "outputs": [
        {
          "output_type": "stream",
          "text": [
            "Seja Bem-Vindo!!!\n",
            "None\n"
          ],
          "name": "stdout"
        }
      ]
    },
    {
      "cell_type": "code",
      "metadata": {
        "id": "EdW6oicHKXJV"
      },
      "source": [
        "# Chamando a função\n",
        "\n",
        "def mensagem():\n",
        "  print('Seja Bem Vindo!!!')\n",
        "\n",
        "mensagem()\n"
      ],
      "execution_count": null,
      "outputs": []
    },
    {
      "cell_type": "code",
      "metadata": {
        "id": "SSTUWBcsKXJX"
      },
      "source": [
        "# Função associada a uma variável\n",
        "\n",
        "def mensagem():\n",
        "  print('Seja Bem Vindo!!!')\n",
        "\n",
        "mensagem1 = mensagem()\n",
        "\n",
        "print(mensagem1)\n"
      ],
      "execution_count": null,
      "outputs": []
    },
    {
      "cell_type": "code",
      "metadata": {
        "id": "nnZh-umX09Qf",
        "colab": {
          "base_uri": "https://localhost:8080/"
        },
        "outputId": "db8e93f7-dfcb-4c22-bfaf-974ed3194a0b"
      },
      "source": [
        "# Criando uma função que temporariamente não faz nada\n",
        "\n",
        "def funcao():\n",
        "  pass\n",
        "\n",
        "var1 = funcao()   # Não acontecerá absolutamente nada\n",
        "\n",
        "print(type(var1))   # Retornará NoneType\n"
      ],
      "execution_count": null,
      "outputs": [
        {
          "output_type": "stream",
          "text": [
            "<class 'NoneType'>\n"
          ],
          "name": "stdout"
        }
      ]
    },
    {
      "cell_type": "code",
      "metadata": {
        "id": "-ExuY4FHKXJY",
        "colab": {
          "base_uri": "https://localhost:8080/"
        },
        "outputId": "a21bb82a-af4c-4011-9a37-b646fa50c51e"
      },
      "source": [
        "# Função interagindo com variável que interage com o usuário\n",
        "\n",
        "usuario3 = input('Digite o seu nome:')\n",
        "\n",
        "def mensagem(nome):\n",
        "  print(f'Bem Vindo {nome}!!!')\n",
        "\n",
        "print(mensagem(usuario3))\n"
      ],
      "execution_count": null,
      "outputs": [
        {
          "output_type": "stream",
          "text": [
            "Digite o seu nome:yutyu\n",
            "Bem Vindo yutyu!!!\n",
            "Bem Vindo yutyu!!!\n",
            "None\n"
          ],
          "name": "stdout"
        }
      ]
    },
    {
      "cell_type": "code",
      "metadata": {
        "id": "c8QHvRQDKXJb",
        "colab": {
          "base_uri": "https://localhost:8080/"
        },
        "outputId": "dfcaabf7-d557-4a4b-bf7a-121fd6511474"
      },
      "source": [
        "# Passando o parâmetro ao chamar a função\n",
        "\n",
        "def funcao(msg):\n",
        "  print(msg)\n",
        "  \n",
        "funcao('Bem Vindo!!!')\n"
      ],
      "execution_count": null,
      "outputs": [
        {
          "output_type": "stream",
          "text": [
            "Bem Vindo!!!\n"
          ],
          "name": "stdout"
        }
      ]
    },
    {
      "cell_type": "code",
      "metadata": {
        "id": "0Srns5yzKXJd"
      },
      "source": [
        "# Passando o parâmetro ao chamar a função = exemplo 2\n",
        "\n",
        "def mensagem(nome):\n",
        "  print(f'Bem Vindo(a) {nome}!!!')\n",
        "\n",
        "usuario1 = mensagem('Fernando')\n",
        "\n",
        "print(mensagem)\n"
      ],
      "execution_count": null,
      "outputs": []
    },
    {
      "cell_type": "code",
      "metadata": {
        "id": "nZqwdBbW2Hf8"
      },
      "source": [
        "# Passando mais de um parâmetro para uma função\n",
        "\n",
        "def mensagem(nome, idade):\n",
        "  print(f'{nome} tem {idade} anos...')\n",
        "\n",
        "usuario1 = mensagem('Fernando', 33)   # respeitar a ordem dos parâmetros\n",
        "\n",
        "print(usuario1)\n"
      ],
      "execution_count": null,
      "outputs": []
    },
    {
      "cell_type": "code",
      "metadata": {
        "id": "Bp5aJXp1KXJe"
      },
      "source": [
        "# Definindo parâmetros \"padrão\", para caso o usuário não passe nenhum parâmetro.\n",
        "\n",
        "def funcao(msg, nome='usuário'):\n",
        "  print(msg, nome)\n",
        "  \n",
        "funcao()\n"
      ],
      "execution_count": null,
      "outputs": []
    },
    {
      "cell_type": "code",
      "metadata": {
        "id": "Q5ljJ3N8KXJg"
      },
      "source": [
        "# Passando apenas um parâmetro e recebendo o resto padrão\n",
        "\n",
        "def funcao(msg='Olá', nome='usuário', msg2='Seja Bem Vindo!!!'):\n",
        "  print(msg, nome, msg2)\n",
        "  \n",
        "funcao(nome='Fernando')\n"
      ],
      "execution_count": null,
      "outputs": []
    },
    {
      "cell_type": "code",
      "metadata": {
        "id": "UbbXJLdmKXJh",
        "colab": {
          "base_uri": "https://localhost:8080/"
        },
        "outputId": "41314ed4-1e77-4aab-92f8-82c9356804fb"
      },
      "source": [
        "# Passando parâmetro e interagindo com o usuário\n",
        "\n",
        "def funcao(mensagem, nome):\n",
        "  print(mensagem, nome)\n",
        "  \n",
        "funcao('Olá', input('Digite o seu nome: '))\n"
      ],
      "execution_count": null,
      "outputs": [
        {
          "output_type": "stream",
          "text": [
            "Digite o seu nome: eu\n",
            "Olá eu\n"
          ],
          "name": "stdout"
        }
      ]
    },
    {
      "cell_type": "code",
      "metadata": {
        "id": "A-5v5mAMKXJj",
        "colab": {
          "base_uri": "https://localhost:8080/"
        },
        "outputId": "1a433554-b822-4c82-dfe5-9dd5728fd9dc"
      },
      "source": [
        "# Interagindo com o usuário #2\n",
        "\n",
        "def funcao(msg='Ola', nome='usuário', msg2='Seja Bem Vindo!!!'):\n",
        "  nome = input('Digite o seu nome: ')\n",
        "  print(msg, nome, msg2)\n",
        "  \n",
        "variavel1 = funcao()\n"
      ],
      "execution_count": null,
      "outputs": [
        {
          "output_type": "stream",
          "text": [
            "Digite o seu nome: euuuuuu\n",
            "Ola euuuuuu Seja Bem Vindo!!!\n"
          ],
          "name": "stdout"
        }
      ]
    },
    {
      "cell_type": "code",
      "metadata": {
        "id": "ufwHtSV2KXJk",
        "colab": {
          "base_uri": "https://localhost:8080/"
        },
        "outputId": "dba18c84-4727-4e97-fa4d-8db4379f8eab"
      },
      "source": [
        "# Interagindo com o usuário #3\n",
        "\n",
        "def funcao(msg='Ola', nome='usuário', msg2='Seja Bem Vindo!!!'):\n",
        "  return f'{msg} {nome}, {msg2}'\n",
        "\n",
        "variavel1 = funcao(nome=input('Digite o seu nome: '))\n",
        "\n",
        "print(variavel1)\n"
      ],
      "execution_count": null,
      "outputs": [
        {
          "output_type": "stream",
          "text": [
            "Digite o seu nome: Fernando\n",
            "Ola Fernando, Seja Bem Vindo!!!\n"
          ],
          "name": "stdout"
        }
      ]
    },
    {
      "cell_type": "code",
      "metadata": {
        "id": "wEmsABAI3_eo"
      },
      "source": [
        "# Passando um parâmetro manualmente e fora da ordem padrão do índice\n",
        "\n",
        "def msg(nome = 'Ana', idade = 25, prof = 'Cozinheira'):\n",
        "  print(f'{nome}, {idade} anos, {prof}')\n",
        "\n",
        "variavel5 = msg(prof = 'Costureira')\n",
        "# assim não foi preciso declarar os primeiros parâmetros até chegar na prof\n",
        "\n",
        "print(msg)\n"
      ],
      "execution_count": null,
      "outputs": []
    },
    {
      "cell_type": "code",
      "metadata": {
        "id": "asLr5OyEKXJn",
        "colab": {
          "base_uri": "https://localhost:8080/"
        },
        "outputId": "011549df-7779-497f-ae26-b8de0f21c945"
      },
      "source": [
        "# Fazendo operações dentro de uma função\n",
        "\n",
        "# o código:\n",
        "n1 = int(input('Digite o Primeiro Número: '))\n",
        "n2 = int(input('Digite o Segundo Número: '))\n",
        "\n",
        "print(f'O resultado da soma é: {n1 + n2}')\n"
      ],
      "execution_count": null,
      "outputs": [
        {
          "output_type": "stream",
          "text": [
            "Digite o Primeiro Número: 80\n",
            "Digite o Segundo Número: 4\n",
            "O resultado da soma é: 84\n"
          ],
          "name": "stdout"
        }
      ]
    },
    {
      "cell_type": "code",
      "metadata": {
        "colab": {
          "base_uri": "https://localhost:8080/"
        },
        "id": "Dt4JgGu3ktEH",
        "outputId": "beae87df-2e4e-405a-b1af-91cd8d928c39"
      },
      "source": [
        "# O exemplo anterior pode ser reescrito por:\n",
        "\n",
        "def soma(n1, n2):\n",
        "  return f'O resultado da soma é: {n1 + n2}'\n",
        "\n",
        "n1 = int(input('Digite o Primeiro Número: '))\n",
        "n2 = int(input('Digite o Segundo Número: '))\n",
        "\n",
        "print(soma(n1, n2))\n"
      ],
      "execution_count": null,
      "outputs": [
        {
          "output_type": "stream",
          "text": [
            "Digite o Primeiro Número:50\n",
            "Digite o Segundo Número:90\n",
            "O resultado da soma é: 140\n"
          ],
          "name": "stdout"
        }
      ]
    },
    {
      "cell_type": "code",
      "metadata": {
        "colab": {
          "base_uri": "https://localhost:8080/"
        },
        "id": "jKZZ9O0plKYT",
        "outputId": "50e51685-fde8-4f8a-c3f0-2462cdd7d81d"
      },
      "source": [
        "# O exemplo anterior pode ser reescrito por:\n",
        "\n",
        "def soma(n1, n2):\n",
        "  return n1 + n2\n",
        "\n",
        "n1 = int(input('Digite o Primeiro Número: '))\n",
        "n2 = int(input('Digite o Segundo Número: '))\n",
        "\n",
        "print(f'O resultado da soma é: {soma(n1, n2)}')\n"
      ],
      "execution_count": null,
      "outputs": [
        {
          "output_type": "stream",
          "text": [
            "Digite o Primeiro Número: 6\n",
            "Digite o Segundo Número: 5\n",
            "O resultado da soma é: 11\n"
          ],
          "name": "stdout"
        }
      ]
    },
    {
      "cell_type": "code",
      "metadata": {
        "id": "4GLhvSgIKXJo",
        "colab": {
          "base_uri": "https://localhost:8080/"
        },
        "outputId": "0385f3c9-f7b7-464b-a6bb-dcd1438a4c1f"
      },
      "source": [
        "# Fazendo operações compostas dentro de uma função\n",
        "\n",
        "def aumento_percentual(valor, percentual):\n",
        "  return (valor + (valor * percentual / 100))\n",
        "\n",
        "num1 = int(input('Digite o valor: '))\n",
        "num2 = int(input('Você deseja somar quantos % ? '))\n",
        "\n",
        "calculo = aumento_percentual(num1, num2)\n",
        "\n",
        "print(f'O valor final será: {calculo}')\n",
        "\n",
        "print(f'O valor final será: {round(calculo, 2)} reais ')\n",
        "\n",
        "print(f'O valor final será: R${calculo:.2f} reais.')\n"
      ],
      "execution_count": null,
      "outputs": [
        {
          "output_type": "stream",
          "text": [
            "Digite o valor: 100\n",
            "Você deseja somar quantos % ? 6\n",
            "O valor final será: 106.0\n",
            "O valor final será: 106.0 reais \n",
            "O valor final será: R$106.00 reais.\n"
          ],
          "name": "stdout"
        }
      ]
    },
    {
      "cell_type": "code",
      "metadata": {
        "id": "WzNp5my7KXJq",
        "colab": {
          "base_uri": "https://localhost:8080/"
        },
        "outputId": "3780c05c-9132-41fc-decc-dfc839525dcf"
      },
      "source": [
        "# Estruturas condicionais dentro de funções #1\n",
        "\n",
        "def repetidor(msg):\n",
        "  contador = 0\n",
        "  while contador < 5:\n",
        "    print(msg)\n",
        "    contador += 1\n",
        "\n",
        "print(repetidor(msg=input('Digite algo para ser repetido 5 vezes: ')))\n"
      ],
      "execution_count": null,
      "outputs": [
        {
          "output_type": "stream",
          "text": [
            "Digite algo para ser repetido 5 vezes: 9\n",
            "9\n",
            "9\n",
            "9\n",
            "9\n",
            "9\n",
            "None\n"
          ],
          "name": "stdout"
        }
      ]
    },
    {
      "cell_type": "code",
      "metadata": {
        "id": "qon7o5-vKXJr",
        "colab": {
          "base_uri": "https://localhost:8080/"
        },
        "outputId": "59f38400-83a0-4485-9d8d-03069fd9cb9f"
      },
      "source": [
        "# Estruturas condicionais dentro de funções #2\n",
        "\n",
        "def divisao(n1, n2):\n",
        "  if n1 == 0 or n2 == 0:\n",
        "    return 'Operação Inválida'\n",
        "  return n1 / n2\n",
        "\n",
        "num1 = int(input('Digite o Primeiro Número:'))\n",
        "num2 = int(input('Digite o Segundo Número:'))\n",
        "\n",
        "print(f'O resultado da divisão é: {divisao(num1, num2)}')\n"
      ],
      "execution_count": null,
      "outputs": [
        {
          "output_type": "stream",
          "text": [
            "Digite o Primeiro Número:9\n",
            "Digite o Segundo Número:5\n",
            "O resultado da divisão é: 1.8\n"
          ],
          "name": "stdout"
        }
      ]
    },
    {
      "cell_type": "code",
      "metadata": {
        "id": "OlTcfSJjKXJs"
      },
      "source": [
        "# Estruturas condicionais dentro de funções #3 - Exercício Fizz Buzz\n",
        "\n",
        "def fizz_buzz(num):\n",
        "  if num % 3 == 0 and num % 5 == 0:\n",
        "    return f'FizzBuzz, {num} é divisível por 3 e por 5'\n",
        "  if num % 5 == 0:\n",
        "    return f'Buzz, {num} é divisível por 5'\n",
        "  if num % 3 == 0:\n",
        "    return f'Fizz, {num} é divisível por 3)'\n",
        "  return num\n",
        "\n",
        "print(fizz_buzz(num=int(input('Digite um Número: '))))\n"
      ],
      "execution_count": null,
      "outputs": []
    },
    {
      "cell_type": "code",
      "metadata": {
        "id": "bhxyCie5KXJu",
        "colab": {
          "base_uri": "https://localhost:8080/"
        },
        "outputId": "76588aad-5849-4764-dee2-f3450dbbbf1f"
      },
      "source": [
        "# Função com argumentos externos\n",
        "\n",
        "def funcao(*args):\n",
        "  for v in args:\n",
        "    print(v)\n",
        "    \n",
        "argumentos = (1, 2, 3, 'Paulo', 'Ana')\n",
        "\n",
        "print(funcao(argumentos))\n"
      ],
      "execution_count": null,
      "outputs": [
        {
          "output_type": "stream",
          "text": [
            "(1, 2, 3, 'Paulo', 'Ana')\n",
            "None\n"
          ],
          "name": "stdout"
        }
      ]
    },
    {
      "cell_type": "code",
      "metadata": {
        "id": "1vOD-eizKXJw",
        "colab": {
          "base_uri": "https://localhost:8080/"
        },
        "outputId": "230a227f-fb2b-4b9f-93e6-e7b23b06d97e"
      },
      "source": [
        "# Desempacotando uma lista para que os elementos dela virem argumentos da função\n",
        "\n",
        "lista1 = ['nome', 'idade', 'sexo', 'nacionalidade']\n",
        "\n",
        "def funcao(*args):\n",
        "  print('Informações Necessárias:')\n",
        "  print(args)\n",
        "  \n",
        "funcao(*lista1)\n"
      ],
      "execution_count": null,
      "outputs": [
        {
          "output_type": "stream",
          "text": [
            "Informações Necessárias:\n",
            "('nome', 'idade', 'sexo', 'nacionalidade')\n"
          ],
          "name": "stdout"
        }
      ]
    },
    {
      "cell_type": "code",
      "metadata": {
        "id": "BPfIoBWsKXJx",
        "colab": {
          "base_uri": "https://localhost:8080/"
        },
        "outputId": "f14144b2-b692-40a0-a077-46b7a49d1f18"
      },
      "source": [
        "# Função com parâmetros baseados em *args e **kwargs\n",
        "\n",
        "# Supondo que está cadastrando senhas e usuários em um sistema\n",
        "def funcao(*args, **kwargs):\n",
        "  print(args)\n",
        "  print(kwargs)\n",
        "  \n",
        "senhas_padrao = [12345, 11111, 54321]\n",
        "\n",
        "resultado = funcao(*senhas_padrao, usuario='user', administrador='admin')\n",
        "\n",
        "print(resultado)\n",
        "\n",
        "# senhas_padrao substituirá *args e o parametro nomeado aqui usuario substituirá **kwargs\n"
      ],
      "execution_count": null,
      "outputs": [
        {
          "output_type": "stream",
          "text": [
            "(12345, 11111, 54321)\n",
            "{'usuario': 'user', 'administrador': 'admin'}\n",
            "None\n"
          ],
          "name": "stdout"
        }
      ]
    },
    {
      "cell_type": "code",
      "metadata": {
        "id": "WyrXH-PWKXJ0",
        "colab": {
          "base_uri": "https://localhost:8080/"
        },
        "outputId": "7d9d2ac2-2006-4839-ffaa-8caad76fdeea"
      },
      "source": [
        "# Função com parâmetros baseados em *args e **kwargs\n",
        "\n",
        "# Buscando dados do modelo anterior\n",
        "def funcao(*args, **kwargs):\n",
        "  nome = kwargs['usuario']\n",
        "  nome2 = kwargs['administrador']\n",
        "  senha1 = args[0]\n",
        "  senha2 = args[1]\n",
        "  \n",
        "  print(f'O usuário padrão é: {nome}')\n",
        "  print(f'O administrador é:{nome2}')\n",
        "  print(f'A senha padrão é: {senha1}')\n",
        "  print(f'A senha alternativa é: {senha2}')\n",
        "  \n",
        "senhas_padrao = [12345, 11111]\n",
        "\n",
        "funcao(*senhas_padrao, usuario='user', administrador='admin')\n",
        "\n",
        "# senhas_padrao substituirá *args e o parametro nomeado aqui usuario substituirá **kwargs\n"
      ],
      "execution_count": null,
      "outputs": [
        {
          "output_type": "stream",
          "text": [
            "O usuário padrão é: user\n",
            "O administrador é:admin\n",
            "A senha padrão é: 12345\n",
            "A senha alternativa é: 11111\n"
          ],
          "name": "stdout"
        }
      ]
    },
    {
      "cell_type": "code",
      "metadata": {
        "id": "BLi3LPiGKXJ4",
        "colab": {
          "base_uri": "https://localhost:8080/"
        },
        "outputId": "70bade4c-f2ae-462f-f6a7-8a627b8f5eea"
      },
      "source": [
        "# Função que recebe outra função como parâmetro\n",
        "\n",
        "def msg_boas_vindas():\n",
        "  return 'Seja Muito Bem Vindo!!!'\n",
        "\n",
        "def mestre(funcao):\n",
        "  return funcao()\n",
        "\n",
        "executa = mestre(msg_boas_vindas)\n",
        "\n",
        "print(executa)\n"
      ],
      "execution_count": null,
      "outputs": [
        {
          "output_type": "stream",
          "text": [
            "Seja Muito Bem Vindo!!!\n"
          ],
          "name": "stdout"
        }
      ]
    },
    {
      "cell_type": "markdown",
      "metadata": {
        "id": "P0bVUgiNKXJ5"
      },
      "source": [
        "## Expressões Lambda (Funções Anônimas)"
      ]
    },
    {
      "cell_type": "code",
      "metadata": {
        "id": "0Wwq2w_pKXJ6"
      },
      "source": [
        "variavel1 = lambda num1, num2: num1 * num2\n",
        "\n",
        "num1 = int(input('Digite um número:'))\n",
        "num2 = int(input('Digite outro número:'))\n",
        "\n",
        "print(num1)\n",
        "print(num2)\n",
        "\n",
        "print(variavel1(num1,num2))\n"
      ],
      "execution_count": null,
      "outputs": []
    },
    {
      "cell_type": "markdown",
      "metadata": {
        "id": "thayvTWDKXJ8"
      },
      "source": [
        "## Escopo Global Vs Escopo Local"
      ]
    },
    {
      "cell_type": "code",
      "metadata": {
        "id": "TxwGl21gKXJ8"
      },
      "source": [
        "variavel1 = 'Paulo'\n",
        "\n",
        "def funcao1():\n",
        "    print(f'Print da variável do escopo global: {variavel1}')\n",
        "  \n",
        "funcao1()\n",
        "\n",
        "\n",
        "\n",
        "def funcao2():\n",
        "  variavel2 = 'Maria'\n",
        "  print(f'Print da variável do escopo local: {variavel2}')\n",
        "\n",
        "funcao2()\n"
      ],
      "execution_count": null,
      "outputs": []
    },
    {
      "cell_type": "code",
      "metadata": {
        "id": "9cKTObd1KXJ9"
      },
      "source": [
        "#  Modificando uma variável global de dentro de uma função\n",
        "\n",
        "num1 = 100\n",
        "\n",
        "print(f'Variável com seu valor inicial: {num1}')\n",
        "\n",
        "\n",
        "def modificador():\n",
        "    global num1\n",
        "    num1 = 200\n",
        "    print(f'Variável alterada dentro da função: {num1}')\n",
        "\n",
        "\n",
        "modificador()\n",
        "\n",
        "\n",
        "print(f'Variável atualizada pela função modificador: {num1}')\n",
        "\n"
      ],
      "execution_count": null,
      "outputs": []
    },
    {
      "cell_type": "markdown",
      "metadata": {
        "id": "3vXMf2qcOyYQ"
      },
      "source": [
        "## Sets (Conjuntos)"
      ]
    },
    {
      "cell_type": "code",
      "metadata": {
        "id": "oBsQ65HRNfZx"
      },
      "source": [
        "set1 = {1,2,3,4,5,6,7,8,9,0}\n",
        "\n",
        "print(set1)\n",
        "print(type(set1))\n",
        "\n",
        "set2 = {1,2,3,4,5,6,7,8,9,0,9,9,9,9,5,6,7}\n",
        "print(set2)\n",
        "\n",
        "# A diferença de um set para um dicionário será que um set não tem aquele par de elementos chave:valor.\n",
        "# Um set não tem índice e os elementos guardados dentro dele ficam em ordem aleatória.\n",
        "# Um set não pode ter elementos duplicados\n"
      ],
      "execution_count": null,
      "outputs": []
    },
    {
      "cell_type": "code",
      "metadata": {
        "id": "_V90bFbFPcWE"
      },
      "source": [
        "# Criando um set via construtor\n",
        "\n",
        "set1 = set()\n",
        "set1.add('Ana')\n",
        "set1.add(23)\n",
        "\n",
        "print(set1)\n",
        "\n",
        "set1.add(15.6)\n",
        "set1.add('Maria')\n",
        "set1.discard(23)\n",
        "\n",
        "print(set1)\n"
      ],
      "execution_count": null,
      "outputs": []
    },
    {
      "cell_type": "code",
      "metadata": {
        "id": "uKxx5B7WPwgL"
      },
      "source": [
        "# Convertendo lista para set para que sejam removidos os elementos duplicados\n",
        "\n",
        "lista1 = [1,1,2,3,4,4,4,4,4,5,6,7,8,9,'Luiz', 'Maria', 'Carlos', 'Luiz']\n",
        "print(lista1)\n",
        "\n",
        "lista1 = set(lista1) # Transformando em set\n",
        "print(lista1)\n",
        "\n",
        "lista1 = list(lista1) # Transformando em lista novamente\n",
        "print(lista1)\n"
      ],
      "execution_count": null,
      "outputs": []
    },
    {
      "cell_type": "markdown",
      "metadata": {
        "id": "MXPBkgQJ4pxt"
      },
      "source": [
        "## List Comprehension"
      ]
    },
    {
      "cell_type": "code",
      "metadata": {
        "id": "u0g-3NCw93eE"
      },
      "source": [
        "# Fazendo operações com elementos de uma lista usando 'comprehension'\n",
        "\n",
        "lista1 = [1,2,3,4,5,6]\n",
        "lista2 = [i * 2 for i in lista1]\n",
        "\n",
        "# Variável temporária i que percorre cada elemento da lista1 e multiplica por 2\n",
        "\n",
        "print(lista1)\n",
        "print(lista2)\n"
      ],
      "execution_count": null,
      "outputs": []
    },
    {
      "cell_type": "code",
      "metadata": {
        "id": "oBOx3jfTRREC"
      },
      "source": [
        "# Desmembrando uma string elemento por elemento\n",
        "\n",
        "string = '12345678901234567890'\n",
        "comprehension = [letra for letra in string]\n",
        "\n",
        "print(comprehension)\n"
      ],
      "execution_count": null,
      "outputs": []
    },
    {
      "cell_type": "code",
      "metadata": {
        "id": "rn3B9xLK5Q4d"
      },
      "source": [
        "# Pegando partes de uma string\n",
        "\n",
        "string = '123456789012345678905925249529562956243482649287529843482548258922'\n",
        "\n",
        "print(string[0:10])\n",
        "print(string[10:20])\n",
        "print(string[20:30])\n"
      ],
      "execution_count": null,
      "outputs": []
    },
    {
      "cell_type": "code",
      "metadata": {
        "id": "Qugho_vT6xOx"
      },
      "source": [
        "# Trabalhando com partes de uma string\n",
        "\n",
        "string = '01234567890123456789012345678901234567890123456789'\n",
        "n = 10\n",
        "comp = [i for i in range(0, len(string), n)]\n",
        "# Separando a string de 10 em 10 de acordo com a variável n\n",
        "\n",
        "print(comp)\n",
        "\n",
        "comp2 = [(i, i + n) for i in range(0, len(string), n)]\n",
        "# Verificando de quanto a quanto é esse intervalo\n",
        "\n",
        "print(comp2)\n",
        "\n",
        "comp3 = [string[i:i + n] for i in range(0, len(string), n)]\n",
        "# Realizando o fatiamento de nossa string\n",
        "\n",
        "print(comp3)\n",
        "\n",
        "lista = [string[i:i + n] for i in range(0, len(string), n)]\n",
        "retorno = '.'.join(lista)\n",
        "# Caractere \".\" usado como separador. join( ) para juntar novamente os elementos da lista\n",
        "\n",
        "print(retorno)\n"
      ],
      "execution_count": null,
      "outputs": []
    },
    {
      "cell_type": "code",
      "metadata": {
        "id": "tVTWAqlV3cVM"
      },
      "source": [
        "# Aprimorando um código mudando sua função por uma list comprehension\n",
        "\n",
        "carrinho = []\n",
        "carrinho.append(('Item 1', 30))\n",
        "carrinho.append(('Item 2', 45))\n",
        "carrinho.append(('Item 3', 22))\n",
        "total = 0\n",
        "\n",
        "for produto in carrinho:\n",
        "  total = total + produto[1]\n",
        "  \n",
        "print('Método tradicional', total)\n",
        "\n",
        "# Mesmo que:\n",
        "total2 = []\n",
        "for produto in carrinho:\n",
        "  total2.append(produto[1])\n",
        "print('Usando funções internas', sum(total2))\n",
        "\n",
        "# Usando list comprehension\n",
        "total3 = sum([y for x, y in carrinho])\n",
        "\n",
        "print('Usando list comprehension', total3)\n"
      ],
      "execution_count": null,
      "outputs": []
    },
    {
      "cell_type": "markdown",
      "metadata": {
        "id": "F22ir2Xa9i4c"
      },
      "source": [
        "## Dictionary Comprehension"
      ]
    },
    {
      "cell_type": "code",
      "metadata": {
        "id": "mBnrHYd88khc"
      },
      "source": [
        "# Basicamente a mesma lógica de list comprehension, mas quando tempos chave:valor podemos transormar em dicionário.\n",
        "\n",
        "lista = [('chave1','chave2'), ('chave2','valor2'),('chave3','valor3')]\n",
        "\n",
        "dicionario = {x:y for x, y in lista}\n",
        "# Mesmo que dicionario = dict(lista)\n",
        "\n",
        "print(dicionario)\n"
      ],
      "execution_count": null,
      "outputs": []
    },
    {
      "cell_type": "code",
      "metadata": {
        "id": "GFVUdA_-_FSf"
      },
      "source": [
        "# Realizando operações dentro do dicionário via comprehension\n",
        "\n",
        "produtos = [('Caneta',1.99), ('Lápis',1.49), ('Caderno',8.99)]\n",
        "produtos_com_imposto = {x:y * 1.6 for x, y in produtos}\n",
        "\n",
        "print('Preços SEM Imposto: ', produtos)\n",
        "print('Preços COM Imposto: ', produtos_com_imposto)\n"
      ],
      "execution_count": null,
      "outputs": []
    },
    {
      "cell_type": "markdown",
      "metadata": {
        "id": "8wnr5U06B6HQ"
      },
      "source": [
        "## Geradores e Iteradores"
      ]
    },
    {
      "cell_type": "code",
      "metadata": {
        "id": "FblUVoo0AqhB"
      },
      "source": [
        "# Um objeto iterável é aquele com que você consegue interagir com cada elemento de sua composição, ex cada letra de uma string\n",
        "\n",
        "lista = [1,2,3,4]\n",
        "nome = 'Fernando'\n",
        "\n",
        "for i in lista:\n",
        "  print(i)\n",
        "  \n",
        "for j in nome:\n",
        "  print(j)\n",
        "  "
      ],
      "execution_count": null,
      "outputs": []
    },
    {
      "cell_type": "code",
      "metadata": {
        "id": "FEUhkzV9DW2i"
      },
      "source": [
        "# Gerador gera valores onde não existem para poupar tempo e codificação\n",
        "\n",
        "lista_0_a_100 = list(range(101))\n",
        "\n",
        "print(lista_0_a_100)\n"
      ],
      "execution_count": null,
      "outputs": []
    },
    {
      "cell_type": "code",
      "metadata": {
        "id": "YqJfmgbqD2Tv"
      },
      "source": [
        "# Porém dados gerados com muitos elementos tem impacto sobre a memória\n",
        "\n",
        "import sys\n",
        "\n",
        "lista100 = list(range(101))\n",
        "listamilhao = list(range(1000001))\n",
        "\n",
        "print('Tamanho em bytes:', sys.getsizeof(lista100))\n",
        "print('Tamanho em bytes:', sys.getsizeof(listamilhao))\n"
      ],
      "execution_count": null,
      "outputs": []
    },
    {
      "cell_type": "code",
      "metadata": {
        "id": "vypRn_xJEtT7"
      },
      "source": [
        "# Guardando valores em uma variável, de forma que a cada vez que eu chame ela ela me retorne um valor diferente\n",
        "\n",
        "import sys\n",
        "import time\n",
        "\n",
        "def variavel_iterada():\n",
        "  variavel = 'Valor 1'\n",
        "  yield variavel\n",
        "  variavel = 'Valor 2'\n",
        "  yield variavel\n",
        "  variavel = 'Valor 3'\n",
        "  yield variavel\n",
        "\n",
        "var1 = variavel_iterada()\n",
        "\n",
        "print(next(var1))\n",
        "print(next(var1))\n",
        "print(next(var1))\n"
      ],
      "execution_count": null,
      "outputs": []
    },
    {
      "cell_type": "markdown",
      "metadata": {
        "id": "VguSmkSx4xrx"
      },
      "source": [
        "## Zip"
      ]
    },
    {
      "cell_type": "code",
      "metadata": {
        "id": "LPv5xDIny-Pp"
      },
      "source": [
        "# Zip para iterar e unir duas listas\n",
        "\n",
        "cidades = ['Porto Alegre', 'Curitiba', 'Salvador', 'Belo Horizonte']\n",
        "estados = ['RS', 'PR', 'BH', 'MG']\n",
        "\n",
        "cidades_estados = zip(cidades, estados)\n",
        "\n",
        "for i in cidades_estados:\n",
        "  print(i)\n",
        "  "
      ],
      "execution_count": null,
      "outputs": []
    },
    {
      "cell_type": "code",
      "metadata": {
        "id": "PNXcSeS862s1"
      },
      "source": [
        "# Zip_longest para unir listas de diferentes tamanhos\n",
        "\n",
        "from itertools import zip_longest\n",
        "\n",
        "cidades = ['Porto Alegre', 'Curitiba', 'Salvador', 'Belo Horizonte', 'Rio de Janeiro', 'Goiânia']\n",
        "estados = ['RS', 'PR', 'BH', 'MG']\n",
        "\n",
        "cidades_estados = zip_longest(cidades, estados)\n",
        "cidades_estados2 = zip_longest(cidades, estados, fillvalue='Desconhecido')\n",
        "\n",
        "for i in cidades_estados:\n",
        "  print(i)\n",
        "\n",
        "for j in cidades_estados2:\n",
        "  print(j)\n",
        "  "
      ],
      "execution_count": null,
      "outputs": []
    },
    {
      "cell_type": "markdown",
      "metadata": {
        "id": "w7bUz1BM8hwn"
      },
      "source": [
        "## Count"
      ]
    },
    {
      "cell_type": "code",
      "metadata": {
        "id": "wCxv3FQ_79xu"
      },
      "source": [
        "# Usando o contador do sistema\n",
        "\n",
        "from itertools import count\n",
        "contador = count()\n",
        "\n",
        "for numero in contador:\n",
        "  print(numero)\n",
        "  if numero >= 10:\n",
        "    break\n",
        "    "
      ],
      "execution_count": null,
      "outputs": []
    },
    {
      "cell_type": "code",
      "metadata": {
        "id": "ybuTU-n8-bfa"
      },
      "source": [
        "# Contando dentro de um intervalo personalizado\n",
        "\n",
        "from itertools import count\n",
        "contador = count(start = 40)\n",
        "\n",
        "for numero in contador:\n",
        "  print(numero)\n",
        "  if numero >= 50:\n",
        "    break\n",
        "    "
      ],
      "execution_count": null,
      "outputs": []
    },
    {
      "cell_type": "code",
      "metadata": {
        "id": "nWDr1pGbBTx_"
      },
      "source": [
        "# Personalizando de quantos em quantos números o contador irá trabalhar\n",
        "\n",
        "from itertools import count\n",
        "contador = count(start = 0, step = 2)\n",
        "\n",
        "for numero in contador:\n",
        "  print(numero)\n",
        "  if numero >= 20:\n",
        "    break\n",
        "    "
      ],
      "execution_count": null,
      "outputs": []
    },
    {
      "cell_type": "markdown",
      "metadata": {
        "id": "vTHEBc8YlSKt"
      },
      "source": [
        "##Map"
      ]
    },
    {
      "cell_type": "code",
      "metadata": {
        "id": "eu9Xnj-glUs_"
      },
      "source": [
        "# Map = função que serve para aplicar uma função em cada elemento ou linha por linha de uma lista/tupla/dicionario\n",
        "\n",
        "produtos = [\n",
        "            {'nome': 'item 1', 'preco': 32},\n",
        "            {'nome': 'item 2', 'preco': 23},\n",
        "            {'nome': 'item 3', 'preco': 12},\n",
        "            {'nome': 'item 4', 'preco': 10},\n",
        "            {'nome': 'item 5', 'preco': 55},\n",
        "]\n",
        "\n",
        "lista = [1,2,3,4,5,6,7,8,9,10]\n",
        "\n",
        "nova_lista = map(lambda x: x * 2, lista)\n",
        "\n",
        "# Mesmo que:\n",
        "nova_lista2 = [x * 2 for x in lista]\n",
        "\n",
        "print(lista)\n",
        "print(list(nova_lista))\n",
        "print(nova_lista2)\n"
      ],
      "execution_count": null,
      "outputs": []
    },
    {
      "cell_type": "code",
      "metadata": {
        "id": "UgZB3iOAr3Vk"
      },
      "source": [
        "# Usando map( ) para extrair dados de um dicionário\n",
        "\n",
        "produtos = [\n",
        "            {'nome': 'item 1', 'preco': 32},\n",
        "            {'nome': 'item 2', 'preco': 23},\n",
        "            {'nome': 'item 3', 'preco': 12},\n",
        "            {'nome': 'item 4', 'preco': 10},\n",
        "            {'nome': 'item 5', 'preco': 55},\n",
        "]\n",
        "\n",
        "precos = map(lambda p: p['preco'], produtos)\n",
        "\n",
        "for preco in precos:\n",
        "  print(preco)\n",
        "  "
      ],
      "execution_count": null,
      "outputs": []
    },
    {
      "cell_type": "code",
      "metadata": {
        "id": "kN9e7CDStmDI"
      },
      "source": [
        "# Usando uma função ativa no lugar da lambra (que é uma função vazia)\n",
        "\n",
        "def aumenta_precos(p):\n",
        "  p['preco'] = p['preco'] * 1.05\n",
        "  return p\n",
        "\n",
        "precos2 = map(aumenta_precos, produtos)\n",
        "\n",
        "for produto in precos2:\n",
        "  print(produto)\n",
        "  "
      ],
      "execution_count": null,
      "outputs": []
    },
    {
      "cell_type": "markdown",
      "metadata": {
        "id": "zbnEjo1g3vmr"
      },
      "source": [
        "##Filter"
      ]
    },
    {
      "cell_type": "code",
      "metadata": {
        "id": "D_AchhbI3y2f"
      },
      "source": [
        "# Mesma coisa que a map, só que trabalha com lógica condicional, servindo para aplicar funções ou extrair informação de um elemento desde que uma condição seja True\n",
        "\n",
        "pessoas = [\n",
        "           {'nome': 'Ana', 'idade': 22},\n",
        "           {'nome': 'Maria', 'idade': 72},\n",
        "           {'nome': 'Paulo', 'idade': 55},\n",
        "           {'nome': 'Pedro', 'idade': 68},\n",
        "           {'nome': 'Rafael', 'idade': 99},\n",
        "           {'nome': 'Tania', 'idade': 18},\n",
        "]\n",
        "\n",
        "idosos = filter(lambda x: x['idade'] > 70, pessoas)\n",
        "\n",
        "print(list(idosos))\n"
      ],
      "execution_count": null,
      "outputs": []
    },
    {
      "cell_type": "code",
      "metadata": {
        "id": "2sBLIM9z5Rhj"
      },
      "source": [
        "produtos2 = [\n",
        "            {'nome': 'item 1', 'preco': 32},\n",
        "            {'nome': 'item 2', 'preco': 23},\n",
        "            {'nome': 'item 3', 'preco': 62},\n",
        "            {'nome': 'item 4', 'preco': 10},\n",
        "            {'nome': 'item 5', 'preco': 55},\n",
        "]\n",
        "\n",
        "def filtra(p):\n",
        "  if p['preco'] > 50:\n",
        "    return True\n",
        "\n",
        "nova_lista3 = filter(filtra, produtos2)\n",
        "for produtox in nova_lista3:\n",
        "  print(produtox)\n",
        "  "
      ],
      "execution_count": null,
      "outputs": []
    },
    {
      "cell_type": "markdown",
      "metadata": {
        "id": "WEQ-TVKCyXSM"
      },
      "source": [
        "## Reduce"
      ]
    },
    {
      "cell_type": "code",
      "metadata": {
        "id": "3kkHZxShyZNV"
      },
      "source": [
        "from functools import reduce\n",
        "\n",
        "def soma(num1, num2):\n",
        "  return num1 + num2\n",
        "\n",
        "lista = [1,2,3,4,5,6,7,8,9,10]\n",
        "\n",
        "resultado = reduce(soma, lista)\n",
        "\n",
        "print(resultado)\n"
      ],
      "execution_count": null,
      "outputs": []
    },
    {
      "cell_type": "markdown",
      "metadata": {
        "id": "tGjqW-GC8oxd"
      },
      "source": [
        "## Try, Except"
      ]
    },
    {
      "cell_type": "code",
      "metadata": {
        "id": "-OloVsoX8sfy"
      },
      "source": [
        "# Tratando exceções para que não se interrompa a execução de um código\n",
        "\n",
        "try:\n",
        "  print(a)\n",
        "except:\n",
        "  pass\n",
        "  \n",
        "# Nesse caso nada acontecerá, mas também não acontecerá um erro ou interrupção em função de não conseguir imprimir o comando print(a).\n"
      ],
      "execution_count": null,
      "outputs": []
    },
    {
      "cell_type": "code",
      "metadata": {
        "id": "PB5_FyFOQ9ls"
      },
      "source": [
        "# Tratando exceções para que não se interrompa a execução de um código\n",
        "\n",
        "try:\n",
        "  print(a)\n",
        "except:\n",
        "  print('A Variável Não Existe!!!')\n",
        "  "
      ],
      "execution_count": null,
      "outputs": []
    },
    {
      "cell_type": "code",
      "metadata": {
        "id": "FDE4nAIY9IvA"
      },
      "source": [
        "# Exibindo que erro aconteceu\n",
        "\n",
        "try:\n",
        "  print(a)\n",
        "except NameError as erro:\n",
        "  print('Ocorreu um erro:',erro)\n",
        "\n",
        "#Except genérico:\n",
        "except Exception as erro:\n",
        "  print('Ocorreu um erro inesperado')\n",
        "  "
      ],
      "execution_count": null,
      "outputs": []
    },
    {
      "cell_type": "markdown",
      "metadata": {
        "id": "nH6Kv_JPFSlE"
      },
      "source": [
        "## Bibliotecas, Módulos e Pacotes"
      ]
    },
    {
      "cell_type": "code",
      "metadata": {
        "id": "ZIjC9EZ3uC4k"
      },
      "source": [
        "# Função dir( ) exibe quais módulos/pacotes/funções foram carregadas por padrão.\n",
        "\n",
        "dir()\n"
      ],
      "execution_count": null,
      "outputs": []
    },
    {
      "cell_type": "code",
      "metadata": {
        "id": "H--07r2QwVLu"
      },
      "source": [
        "# Explorando tudo o que vem importado por padrão no Python\n",
        "\n",
        "import builtins\n",
        "\n",
        "dir(builtins)\n"
      ],
      "execution_count": null,
      "outputs": []
    },
    {
      "cell_type": "code",
      "metadata": {
        "id": "BahTIEbMFWS9"
      },
      "source": [
        "# Importando módulos que por padrão não são carregados junto ao Python em sua inicialização\n",
        "\n",
        "import random\n",
        "\n",
        "dir()\n",
        "\n",
        "# Agora random( ) está carregada na memória e pronta para uso\n"
      ],
      "execution_count": null,
      "outputs": []
    },
    {
      "cell_type": "code",
      "metadata": {
        "id": "6RF6JWlrvQi3"
      },
      "source": [
        "# Verificando o que existe dentro de um módulo/pacote externo\n",
        "\n",
        "dir(random)\n",
        "\n",
        "# Todas linhas após '__spec__' são os nomes das funções da biblioteca random disponíveis para serem usadas.\n"
      ],
      "execution_count": null,
      "outputs": []
    },
    {
      "cell_type": "code",
      "metadata": {
        "id": "5M0CyLlLuafX",
        "cellView": "both"
      },
      "source": [
        "# Usando funções de um módulo/pacote externo\n",
        "\n",
        "for i in range(10):\n",
        "  print(random.randint(0,10))\n",
        "  "
      ],
      "execution_count": null,
      "outputs": []
    },
    {
      "cell_type": "code",
      "metadata": {
        "id": "D8nsln9g3Zaa"
      },
      "source": [
        "# Abreviando a nomenclatura de um módulo\n",
        "\n",
        "import random as ra\n",
        "\n",
        "for i in range(10):\n",
        "  print(ra.randint(1,10))\n",
        "  "
      ],
      "execution_count": null,
      "outputs": []
    },
    {
      "cell_type": "code",
      "metadata": {
        "id": "VGePhe1K3shG"
      },
      "source": [
        "# Importando apenas uma função específica de um módulo\n",
        "\n",
        "from random import randint\n",
        "\n",
        "for i in range(10):\n",
        "  print(randint(0,10))\n",
        "  "
      ],
      "execution_count": null,
      "outputs": []
    },
    {
      "cell_type": "markdown",
      "metadata": {
        "id": "x2jUMbB5zliD"
      },
      "source": [
        "Criando Módulos Manualmente"
      ]
    },
    {
      "cell_type": "code",
      "metadata": {
        "id": "x7YUQ4thCaM7"
      },
      "source": [
        "# Arquivo soma.py\n",
        "\n",
        "def soma(num1, num2):\n",
        "    s = int(num1) + int(num2)\n",
        "    return s\n",
        "\n",
        "# Arquivo index.py\n",
        "\n",
        "import soma\n",
        "\n",
        "print(f'O resultado da soma é: {soma.soma(8,3)}')\n"
      ],
      "execution_count": null,
      "outputs": []
    },
    {
      "cell_type": "markdown",
      "metadata": {
        "id": "oEh_goX80GwL"
      },
      "source": [
        "## Manipulando arquivos"
      ]
    },
    {
      "cell_type": "code",
      "metadata": {
        "id": "GK_cNj9d0MFh"
      },
      "source": [
        "# Abrindo/criando um arquivo para leitura e escrita\n",
        "\n",
        "arquivo = open('nomedoarquivo.txt', 'w+')\n",
        "# w+ permite a leitura e escrita\n",
        "\n",
        "arquivo.write('Prineira Linha \\n')\n",
        "arquivo.write('Segunda Linha \\n')\n",
        "arquivo.write('Terceira Linha \\n')\n",
        "arquivo.write('Quarta Linha \\n')\n",
        "\n",
        "arquivo.close()\n",
        "\n",
        "arquivo.seek(0,0) # força a leitura do arquivo desde sua posição 0\n",
        "\n",
        "print(arquivo.read())\n",
        "# print(arquivo.readline()) linha por linha\n",
        "\n",
        "arquivo.close()\n"
      ],
      "execution_count": null,
      "outputs": []
    },
    {
      "cell_type": "code",
      "metadata": {
        "id": "_WXozRas9hig"
      },
      "source": [
        "# Apagando um arquivo via IDE\n",
        "\n",
        "import os\n",
        "\n",
        "os.remove('arquivo.txt')\n"
      ],
      "execution_count": null,
      "outputs": []
    },
    {
      "cell_type": "markdown",
      "metadata": {
        "id": "VCtYZYJXFaZl"
      },
      "source": [
        "## Programação Orientada a Objetos"
      ]
    },
    {
      "cell_type": "code",
      "metadata": {
        "id": "yC1OENGJP3EJ"
      },
      "source": [
        "# Sintaxe básica\n",
        "\n",
        "class Nome:\n",
        "  objetos\n",
        "  "
      ],
      "execution_count": null,
      "outputs": []
    },
    {
      "cell_type": "code",
      "metadata": {
        "id": "BoiLe2_GFdsC"
      },
      "source": [
        "# Criando uma classe vazia\n",
        "\n",
        "class Pessoa:\n",
        "  pass\n",
        "  "
      ],
      "execution_count": null,
      "outputs": []
    },
    {
      "cell_type": "code",
      "metadata": {
        "id": "5acPQQdyQaIZ"
      },
      "source": [
        "# Criando objetos (atributos de classe) dentro de uma classe\n",
        "\n",
        "class Pessoa:\n",
        "  pass\n",
        "\n",
        "pessoa1 = Pessoa()\n",
        "\n",
        "pessoa1.nome = 'Fernando'\n",
        "pessoa1.idade = 32\n",
        "\n",
        "print(pessoa1.nome)\n"
      ],
      "execution_count": null,
      "outputs": []
    },
    {
      "cell_type": "code",
      "metadata": {
        "id": "vdn8wdNJbuWz"
      },
      "source": [
        "# Criando funções (métodos de classe) dentro de uma classe\n",
        "\n",
        "class Pessoa:\n",
        "  def acao1(self):\n",
        "    print('Ação 1 sendo executada...')\n",
        "\n",
        "pessoa1 = Pessoa()\n",
        "\n",
        "pessoa1.acao1()\n"
      ],
      "execution_count": null,
      "outputs": []
    },
    {
      "cell_type": "code",
      "metadata": {
        "id": "-4K5fr9ncHnb"
      },
      "source": [
        "# Criando uma classe com método construtor e objetos internos\n",
        "\n",
        "class Pessoa:\n",
        "  def __init__(self, nome, idade, sexo, altura):\n",
        "    self.nome = nome\n",
        "    self.idade = idade\n",
        "    self.sexo = sexo\n",
        "    self.altura = altura\n",
        "\n",
        "pessoa1 = Pessoa('Fernando', 32, 'M', 1.90)\n",
        "\n",
        "print(pessoa1.nome, pessoa1.idade)\n",
        "print(f'Bem vindo {pessoa1.nome}, parabéns pelos seus {pessoa1.idade} anos!!!')\n"
      ],
      "execution_count": null,
      "outputs": []
    },
    {
      "cell_type": "code",
      "metadata": {
        "id": "ro_Ci-j4c1ck"
      },
      "source": [
        "# Mais de um método de classe dentro de uma classe\n",
        "\n",
        "class Pessoa:\n",
        "  ano_atual = 2019\n",
        "\n",
        "  def __init__(self, nome, idade):\n",
        "    self.nome = nome\n",
        "    self.idade = idade\n",
        "\n",
        "  def ano_nascimento(self):\n",
        "    ano_nasc = self.ano_atual - self.idade\n",
        "    print(f'Seu ano de nascimento é {ano_nasc}')\n",
        "\n",
        "pessoa1 = Pessoa('Fernando', 32)\n",
        "\n",
        "print(pessoa1.ano_nascimento())\n",
        "\n",
        "# Lembrando que nesse exemplo ano_atual é um atributo da classe, e está acessível a todas funções internas, já ano_nasc por exemplo é uma variável do escopo da função ano_nascimento(), e não está acessível fora dessa função. Funções dentro de classes podem receber a nomenclatura de \"métodos\" e seus atributos podem ser chamados de \"instâncias\".\n"
      ],
      "execution_count": null,
      "outputs": []
    },
    {
      "cell_type": "code",
      "metadata": {
        "id": "scT3YJ2Ughzd"
      },
      "source": [
        "# Métodos de classe\n",
        "# Métodos que até interagem com funções internas, mas retorna dados para o escopo global da classe\n",
        "\n",
        "class Pessoa:\n",
        "  ano_atual = 2020\n",
        "\n",
        "  def __init__(self, nome, idade):\n",
        "    self.nome = nome\n",
        "    self.idade = idade\n",
        "\n",
        "  @classmethod\n",
        "  def ano_nasc(cls, nome, ano_nascimento):\n",
        "    idade = cls.ano_atual - ano_nascimento\n",
        "    return cls(nome, idade)\n",
        "\n",
        "pessoa2 = Pessoa.ano_nasc('Fernando', 1987)\n",
        "\n",
        "print(pessoa2.idade)\n"
      ],
      "execution_count": null,
      "outputs": []
    },
    {
      "cell_type": "code",
      "metadata": {
        "id": "p6rjRuvLkpqc"
      },
      "source": [
        "# Métodos estáticos\n",
        "# Aqueles que não possuem instâncias como atributos, funciona como uma função normal dentro da classe\n",
        "\n",
        "from random import randint\n",
        "\n",
        "class Pessoa:\n",
        "  @staticmethod\n",
        "  def gerador_id():\n",
        "    gerador = randint(100, 999)\n",
        "    return gerador\n",
        "\n",
        "print(Pessoa.gerador_id())\n"
      ],
      "execution_count": null,
      "outputs": []
    },
    {
      "cell_type": "code",
      "metadata": {
        "id": "ywTYFlVppjCj"
      },
      "source": [
        "# @property, Getters e Setters\n",
        "\n",
        "class Produto:\n",
        "  def __init__(self, nome, preco):\n",
        "    self.nome = nome\n",
        "    self.preco = preco\n",
        "\n",
        "  def desconto(self, percentual):\n",
        "    self.preco = self.preco - (self.preco * (percentual / 100))\n",
        "  \n",
        "  #Getter\n",
        "  @property\n",
        "  def preco(self):\n",
        "    return self._preco\n",
        "  \n",
        "  #Setter\n",
        "  @preco.setter\n",
        "  def preco(self, valor):\n",
        "    if isinstance(valor, str):\n",
        "      valor = float(valor.replace('R$', ''))\n",
        "\n",
        "    self._preco = valor\n",
        "\n",
        "produto1 = Produto('Camiseta', 99)\n",
        "produto1.desconto(5)\n",
        "print(produto1.preco)\n",
        "\n",
        "# Supondo que o usuário passou um valor que não pode ser processado porque foi passado em tipo de dado incorreto\n",
        "#    produto2 = Produto('Calça', 'R$59')\n",
        "#    produto2.desconto(15)\n",
        "#    print(produto2.preco)\n",
        "# Irá gerar um erro pois R$59 não é um int, então é necessário criar uma estrutura de métodos que farão essa correção.\n",
        "\n",
        "produto2 = Produto('Calça', 'R$59')\n",
        "produto2.desconto(15)\n",
        "print(f'Produto2 após aplicação do desconto terá valor de {produto2.preco}')\n"
      ],
      "execution_count": null,
      "outputs": []
    },
    {
      "cell_type": "code",
      "metadata": {
        "id": "zAjJFdQY4kcs"
      },
      "source": [
        "# Atributos de classe // Variáveis de classe vão ser as variáveis que estarão declaradas dentro de uma classe, e que serão atribuídas a toda variável externa que instanciar essa classe.\n",
        "\n",
        "class Classe1:\n",
        "  var1 = 101001\n",
        "\n",
        "variavel1 = Classe1()\n",
        "\n",
        "print(Classe1.var1)\n",
        "print(variavel1.var1)\n"
      ],
      "execution_count": null,
      "outputs": []
    },
    {
      "cell_type": "code",
      "metadata": {
        "id": "zBtIzxkZ6ccl"
      },
      "source": [
        "# Mudando um atributo de classe\n",
        "\n",
        "class Classe1:\n",
        "  var1 = 101001\n",
        "\n",
        "variavel1 = Classe1()\n",
        "Classe1.var1 = 111111\n",
        "\n",
        "print(Classe1.var1)\n"
      ],
      "execution_count": null,
      "outputs": []
    },
    {
      "cell_type": "code",
      "metadata": {
        "id": "bSVm-0Fy59cH"
      },
      "source": [
        "# Aplicação de Orientação a Objetos\n",
        "\n",
        "class BaseDeDados:\n",
        "  def __init__(self):\n",
        "    self.base = {}\n",
        "  \n",
        "  def inserir(self, nome, fone):\n",
        "    if 'clientes' not in self.base:\n",
        "      self.base['clientes'] = {nome:fone}\n",
        "    else:\n",
        "      self.base['clientes'].update({nome:fone})\n",
        "  \n",
        "  def listar(self):\n",
        "    for n, f in self.base['clientes'].items():\n",
        "      print(n, f)\n",
        "  \n",
        "  def apagar(self, nome):\n",
        "    del self.base['clientes'][nome]\n",
        "\n",
        "\n",
        "clientes = BaseDeDados()\n",
        "\n",
        "clientes.inserir('Ana', 991358899)\n",
        "clientes.inserir('Fernando', 981357295)\n",
        "clientes.inserir('Maria', 999891415)\n",
        "\n",
        "#clientes.listar()\n",
        "\n",
        "clientes.apagar('Ana')\n",
        "\n",
        "clientes.listar()\n"
      ],
      "execution_count": null,
      "outputs": []
    },
    {
      "cell_type": "markdown",
      "metadata": {
        "id": "yqMQ9gcN0SYi"
      },
      "source": [
        "Encapsulamento"
      ]
    },
    {
      "cell_type": "code",
      "metadata": {
        "id": "3c4QHPngAiVi"
      },
      "source": [
        "# Serve para definir se alguma função de alguma classe será acessível ou não fora dela.\n",
        "# Muito pareceido com o public ou private em outras linguagens de programação.\n",
        "\n",
        "class BaseDeDados:\n",
        "  def __init__(self):\n",
        "    self.dados = {}\n",
        "    #self._dados = {} declarado como protegido (ainda acessível de fora da classe)\n",
        "    #self.__dados = {} declarado como privado (inacessível e imutável de fora da classe)\n",
        "\n",
        "base = BaseDeDados()\n",
        "\n",
        "print(base.dados)\n"
      ],
      "execution_count": null,
      "outputs": []
    },
    {
      "cell_type": "markdown",
      "metadata": {
        "id": "YmzFGbdtvYND"
      },
      "source": [
        "## Funções (Avançado)"
      ]
    },
    {
      "cell_type": "markdown",
      "metadata": {
        "id": "iLYXd63qvkjD"
      },
      "source": [
        "Parâmetros em Justaposição e Parâmetros Nomeados"
      ]
    },
    {
      "cell_type": "code",
      "metadata": {
        "id": "EjtRJ-XMBY-e"
      },
      "source": [
        "# Parâmetros em Justaposição e Parâmetros Nomeados\n",
        "\n",
        "# Justaposição = ordenados sequencialmente\n",
        "\n",
        "#            1º    2º     3º\n",
        "def pessoa1(nome, idade, funcao):\n",
        "  print(f'{nome} tem {idade} anos, função: {funcao}')\n",
        "\n",
        "p1 = pessoa1('Fernando', 32, funcao = 'gerente')\n"
      ],
      "execution_count": null,
      "outputs": []
    },
    {
      "cell_type": "markdown",
      "metadata": {
        "id": "KHx7YLA1voSb"
      },
      "source": [
        "Função com número de parâmetros indefinido"
      ]
    },
    {
      "cell_type": "code",
      "metadata": {
        "id": "xBTqslUJBY3P"
      },
      "source": [
        "# Função com número de parâmetros indefinido\n",
        "\n",
        "# *args - marcador para múltiplos parâmetros\n",
        "\n",
        "def msg(nome, *args):\n",
        "  print(f'{nome} = {args}')\n",
        "\n",
        "ex1 = msg('Fernando')\n",
        "ex2 = msg('Fernando', 'idade = 33', 'profissão = professor')\n"
      ],
      "execution_count": null,
      "outputs": []
    },
    {
      "cell_type": "code",
      "metadata": {
        "id": "a_cZSo3oBY15"
      },
      "source": [
        "def soma(*args):\n",
        "  num = 0\n",
        "  for valordigitado in args:\n",
        "    num += valordigitado\n",
        "  print(num)\n",
        "\n",
        "soma = soma(14, 89)\n"
      ],
      "execution_count": null,
      "outputs": []
    },
    {
      "cell_type": "markdown",
      "metadata": {
        "id": "wQkMwVODvv_p"
      },
      "source": [
        "Função com número de parâmetros indefinido, porém nomeados"
      ]
    },
    {
      "cell_type": "code",
      "metadata": {
        "id": "7LGtIcRwvuFq"
      },
      "source": [
        "# **kwargs - marcador para parâmetros nomeados\n",
        "\n",
        "def identificacao(**kwargs):\n",
        "  print(kwargs)\n",
        "\n",
        "pessoa1 = identificacao(nome = 'Fernando')\n",
        "pessoa2 = identificacao(nome = 'Maria', idade = 33)\n",
        "pessoa3 = identificacao(nome = 'Alberto', funcao = 'Tec. em Radiologia', salario = 1960.00)\n"
      ],
      "execution_count": null,
      "outputs": []
    },
    {
      "cell_type": "markdown",
      "metadata": {
        "id": "j1HmLHdWv0yy"
      },
      "source": [
        "Função que recebe parâmetros tanto por justaposição quanto nomeados"
      ]
    },
    {
      "cell_type": "code",
      "metadata": {
        "id": "meATlD0JvuIY"
      },
      "source": [
        "# Função que recebe parâmetros tanto por justaposição quanto nomeados\n",
        "\n",
        "def identificacao(*args, **kwargs):\n",
        "  print(args, kwargs)\n",
        "\n",
        "pessoa = identificacao('Fernando', idade = 33)\n"
      ],
      "execution_count": null,
      "outputs": []
    },
    {
      "cell_type": "markdown",
      "metadata": {
        "id": "OGi8lSX5v9sy"
      },
      "source": [
        "Empacotamento e desempacotamento"
      ]
    },
    {
      "cell_type": "code",
      "metadata": {
        "id": "-ZP4DWuNvuKr"
      },
      "source": [
        "# Criando uma função que recebe parâmetros tanto por justaposição quanto nomeados,\n",
        "# a partir de uma lista e de um dicionário, desempacotando os elementos e reorganizando\n",
        "# os mesmos na função:\n",
        "\n",
        "numeros = (33, 1987, 2020, 19.90, 100000000)\n",
        "dados = {'Nome':'Fernando', 'Profissão':'Engenheiro'}\n",
        "\n",
        "def identificacao(*args, **kwargs):\n",
        "  print(args)\n",
        "  print(kwargs)\n",
        "\n",
        "identificacao(*numeros, **dados)\n"
      ],
      "execution_count": null,
      "outputs": []
    },
    {
      "cell_type": "markdown",
      "metadata": {
        "id": "gowIr7T3wWlw"
      },
      "source": [
        "## Recursividade"
      ]
    },
    {
      "cell_type": "code",
      "metadata": {
        "id": "L0x5R86lvuNA",
        "colab": {
          "base_uri": "https://localhost:8080/"
        },
        "outputId": "fd1f527d-b5e1-489a-8f5d-79246f0f90e6"
      },
      "source": [
        "def fatorial(num):\n",
        "  if num == 1:\n",
        "    return 1\n",
        "  \n",
        "  return num * fatorial(num - 1)\n",
        "\n",
        "fator = fatorial(5)\n",
        "print(fator)\n"
      ],
      "execution_count": 27,
      "outputs": [
        {
          "output_type": "stream",
          "text": [
            "120\n"
          ],
          "name": "stdout"
        }
      ]
    },
    {
      "cell_type": "markdown",
      "metadata": {
        "id": "RC077ZwCwfsu"
      },
      "source": [
        "## Expressões Regulares"
      ]
    },
    {
      "cell_type": "code",
      "metadata": {
        "id": "67FdNfQRvuRz",
        "colab": {
          "base_uri": "https://localhost:8080/"
        },
        "outputId": "f58eb573-c603-4ab6-fc64-376d15eca339"
      },
      "source": [
        "import re\n",
        "\n",
        "minha_string = 'Fernando chegará a meia noite.'\n",
        "print(re.findall(r'Fernand.', minha_string))\n",
        "\n",
        "minha_string2 = 'Fernanda chegará a meia noite.'\n",
        "print(re.findall(r'Fernand.', minha_string2))\n"
      ],
      "execution_count": 28,
      "outputs": [
        {
          "output_type": "stream",
          "text": [
            "['Fernando']\n",
            "['Fernanda']\n"
          ],
          "name": "stdout"
        }
      ]
    },
    {
      "cell_type": "code",
      "metadata": {
        "id": "scZOzlgEvuUP"
      },
      "source": [
        "minha_string = 'Fernando chegará a meia noite.'\n",
        "print(re.findall(r'Fernando|Fernanda', minha_string))\n"
      ],
      "execution_count": null,
      "outputs": []
    },
    {
      "cell_type": "code",
      "metadata": {
        "id": "OLP5YnnTvuWo"
      },
      "source": [
        "import re\n",
        "\n",
        "# r'Strings\n",
        "\n",
        "# Meta caractere \" . \"\n",
        "\n",
        "texto1 = '''No dia trinta de março de dois mil e vinte\n",
        "foi inaugurado o novo ginásio de esportes da escola\n",
        "estatual Professor Annes Dias, na cidade de Cruz Alta,\n",
        "no estado do Rio Grande do Sul. A obra inicialmente \n",
        "orçada em um milhão de, reais acabou não utilizando de\n",
        "todo o recurso, uma vez que dois grandes empresários da \n",
        "cidade, João Fagundes e Maria Terres doaram juntos em \n",
        "torno de duzentos mil reais. João Fagundes se manifestou\n",
        "dizendo que apoiou a obra pois acredita no desenvolvimento\n",
        "da cidade, assim investe regularmente para hospitais e\n",
        "escolas da mesma. maria Terres não quis se pronunciar \n",
        "sobre o assunto.'''\n",
        "\n",
        "print(re.findall(r'.oão', texto1))\n",
        "print(re.findall(r'.oão|.aria', texto1))\n"
      ],
      "execution_count": null,
      "outputs": []
    },
    {
      "cell_type": "code",
      "metadata": {
        "id": "xxYimAzQvuYy"
      },
      "source": [
        "# Meta caractere \" | \" significa \"ou\"\n",
        "# | significa ou, e tem suporte a número de palavras ilimitadas\n",
        "\n",
        "print(re.findall(r'.oão|.aria', texto1))\n",
        "print(re.findall(r'.oão|.aria|mil', texto1))\n"
      ],
      "execution_count": null,
      "outputs": []
    },
    {
      "cell_type": "code",
      "metadata": {
        "id": "stX0zFHdwonv"
      },
      "source": [
        "# Meta caractere \" [] \" significa \"conjunto de caracteres\"\n",
        "# Usado para definir quais possíveis caracteres estarão numa determinada posição da string.\n",
        "\n",
        "print(re.findall(r'[Jj]oão|.aria', texto1))\n",
        "# Suponto que toos os caracteres possíveis no início de João são J maiúsculo e j minúsculo nesse caso também sabemos que os possíveis caracteres são J ou j, mas em outras strings precisaremos ampliar a abordagem\n"
      ],
      "execution_count": null,
      "outputs": []
    },
    {
      "cell_type": "code",
      "metadata": {
        "id": "pTbt5UVZwoqK"
      },
      "source": [
        "# pode conter quantos possíveis caracteres forem necessarios\n",
        "print(re.findall(r'[AaBbCcDdEeFfGgHhIiJj]oão', texto1))\n",
        "\n",
        "# otimizado com um intervalo predefinido\n",
        "print(re.findall(r'[a-z]oão|[A-Z]oão', texto1))\n",
        "print(re.findall(r'[a-zA-Z]oão', texto1))\n"
      ],
      "execution_count": null,
      "outputs": []
    },
    {
      "cell_type": "code",
      "metadata": {
        "id": "4RSwCr5_wosg"
      },
      "source": [
        "# Alterando o comportamento de uma expressão regular via flags\n",
        "\n",
        "print(re.findall(r'jOãO|maRIA', texto1, flags = re.I))\n",
        "# flags serve para passar uma instrução local, nesse caso, re.I significa ignore case (não diferenciar letras maiúsculas de minúsculas)\n"
      ],
      "execution_count": null,
      "outputs": []
    },
    {
      "cell_type": "code",
      "metadata": {
        "id": "1IhB59CTwovA"
      },
      "source": [
        "# Meta caracteres quantificadores\n",
        "\n",
        "# * significa 0 ou ilimitado número de vezes\n",
        "# + significa 1 ou ilimitado número de vezes\n",
        "# ? significa 0 ou 1, apenas uma vez\n",
        "# {} significa um número específico ou um intervalo específico de repetições {8} ou {0,15}\n",
        "\n",
        "mensagem = 'Nãããããããããããooooooo esquecer de pagar a mensalidade, não deixar para depois'\n",
        "\n",
        "print(re.findall(r'não', mensagem, flags = re.I))\n",
        "\n",
        "print(re.findall(r'Nã+o', mensagem))\n",
        "# o operador + ao lado de ã diz que esse caractere ali naquela posição pode se repetir uma ou mais vezes\n",
        "\n",
        "print(re.findall(r'Nã+o+', mensagem))\n",
        "\n",
        "print(re.findall(r'[Nn]ã+o+', mensagem))\n",
        "\n",
        "print(re.findall(r'nã+o+', mensagem, flags = re.I))\n"
      ],
      "execution_count": null,
      "outputs": []
    },
    {
      "cell_type": "code",
      "metadata": {
        "id": "jwufCTUNwoxQ"
      },
      "source": [
        "# Meta caracteres aplicados a um intervalo de caracteres de uma expressão regular\n",
        "#[A-Za-z0-9]+ significa que vai permitir qualquer caractere, quantas vezes o mesmo estiver repetido\n",
        "\n",
        "chamando_nome = 'Fernnnnnnnannnnndo'\n",
        "\n",
        "print(re.findall(r'fer[a-z]+a[Nn]+do', chamando_nome, flags = re.I))\n"
      ],
      "execution_count": null,
      "outputs": []
    },
    {
      "cell_type": "code",
      "metadata": {
        "id": "0PagZDTmwoz1"
      },
      "source": [
        "# Substituindo um elemento de uma string via expressão regular\n",
        "\n",
        "texto1 = '''No dia trinta de março de dois mil e vinte\n",
        "foi inaugurado o novo ginásio de esportes da escola\n",
        "estatual Professor Annes Dias, na cidade de Cruz Alta,\n",
        "no estado do Rio Grande do Sul. A obra inicialmente \n",
        "orçada em um milhão de, reais acabou não utilizando de\n",
        "todo o recurso, uma vez que dois grandes empresários da \n",
        "cidade, João Fagundes e Maria Terres doaram juntos em \n",
        "torno de duzentos mil reais. João Fagundes se manifestou\n",
        "dizendo que apoiou a obra pois acredita no desenvolvimento\n",
        "da cidade, assim investe regularmente para hospitais e\n",
        "escolas da mesma. maria Terres não quis se pronunciar \n",
        "sobre o assunto.'''\n",
        "\n",
        "print(re.sub(r'jOãO', 'Carlos', texto1, flags = re.I))\n"
      ],
      "execution_count": null,
      "outputs": []
    },
    {
      "cell_type": "code",
      "metadata": {
        "id": "GisipVO4vubD"
      },
      "source": [
        "minha_string = 'Fernando chegará a meia noite.'\n",
        "\n",
        "print(re.match(r'Fernando', minha_string))\n",
        "\n",
        "print(re.match(r'noite', minha_string))\n"
      ],
      "execution_count": null,
      "outputs": []
    },
    {
      "cell_type": "code",
      "metadata": {
        "id": "5A-PilQ_w0fA"
      },
      "source": [
        "minha_string2 = 'Fernando chegará, a meia noite.'\n",
        "\n",
        "print(re.split(r',', minha_string2))\n"
      ],
      "execution_count": null,
      "outputs": []
    },
    {
      "cell_type": "markdown",
      "metadata": {
        "id": "FEZOtQyuw37G"
      },
      "source": [
        "## List Comprehension (Avançado)"
      ]
    },
    {
      "cell_type": "markdown",
      "metadata": {
        "id": "BH9jWpPEw9Vu"
      },
      "source": [
        "Gerando uma nova lista via comprehension"
      ]
    },
    {
      "cell_type": "code",
      "metadata": {
        "id": "k7uVnHquw0j1"
      },
      "source": [
        "lista1 = [1,2,3,4,5,6]\n",
        "\n",
        "for i in lista1:\n",
        "  print(i * 2)\n",
        "\n",
        "#print(lista1)\n",
        "\n",
        "lista2 = [i * 2 for i in lista1]\n",
        "\n",
        "# Variável temporária i que percorre cada elemento da lista1 e multiplica por 2\n",
        "\n",
        "print(lista2)\n"
      ],
      "execution_count": null,
      "outputs": []
    },
    {
      "cell_type": "markdown",
      "metadata": {
        "id": "88sDe7mFxAf_"
      },
      "source": [
        "Desmembrando uma string elemento por elemento"
      ]
    },
    {
      "cell_type": "code",
      "metadata": {
        "id": "9WmeNZl4w0mS"
      },
      "source": [
        "string = '1234567890'\n",
        "comprehension = [letra for letra in string]\n",
        "\n",
        "print(comprehension)\n"
      ],
      "execution_count": null,
      "outputs": []
    },
    {
      "cell_type": "code",
      "metadata": {
        "id": "3RFUc4P2w0om"
      },
      "source": [
        "string = '123456789012345678905925249529562'\n",
        "\n",
        "print(string[0:10])\n",
        "\n",
        "print(string[10:20])\n",
        "\n",
        "print(string[20:30])\n"
      ],
      "execution_count": null,
      "outputs": []
    },
    {
      "cell_type": "code",
      "metadata": {
        "id": "8keRAth9w0q4"
      },
      "source": [
        "string = '012345678901234567890123456789012'\n",
        "n = 10\n",
        "\n",
        "comp = [i for i in range(0, len(string), n)]\n",
        "# Separando a string de 10 em 10 de acordo com a variável n\n",
        "\n",
        "print(comp)\n",
        "\n",
        "comp2 = [(i, i + n) for i in range(0, len(string), n)]\n",
        "# Verificando de quanto a quanto é esse intervalo\n",
        "\n",
        "print(comp2)\n",
        "\n",
        "comp3 = [string[i:i + n] for i in range(0, len(string), n)]\n",
        "# Realizando o fatiamento de nossa string\n",
        "\n",
        "print(comp3)\n",
        "\n",
        "lista = [string[i:i + n] for i in range(0, len(string), n)]\n",
        "retorno = '.'.join(lista)\n",
        "# Caractere \".\" usado como separador. join( ) para juntar novamente os elementos da lista\n",
        "\n",
        "print(retorno)\n"
      ],
      "execution_count": null,
      "outputs": []
    },
    {
      "cell_type": "markdown",
      "metadata": {
        "id": "riaiQD0RxHYu"
      },
      "source": [
        "Otimizando código via list comprehension"
      ]
    },
    {
      "cell_type": "code",
      "metadata": {
        "id": "JjQYLeijw0tP"
      },
      "source": [
        "carrinho = []\n",
        "carrinho.append(('Item 1', 30))\n",
        "carrinho.append(('Item 2', 45))\n",
        "carrinho.append(('Item 3', 22))\n",
        "total = 0\n",
        "\n",
        "for produto in carrinho:\n",
        "  total = total + produto[1]\n",
        "  \n",
        "print('Método tradicional', total)\n",
        "\n",
        "# Mesmo que:\n",
        "total2 = []\n",
        "for produto in carrinho:\n",
        "  total2.append(produto[1])\n",
        "print('Usando funções internas', sum(total2))\n",
        "\n",
        "# Usando list comprehension\n",
        "total3 = sum([y for x, y in carrinho])\n",
        "\n",
        "print('Usando list comprehension', total3)\n"
      ],
      "execution_count": null,
      "outputs": []
    },
    {
      "cell_type": "markdown",
      "metadata": {
        "id": "GnEdsF3KxRL2"
      },
      "source": [
        "## Dictionary Comprehension"
      ]
    },
    {
      "cell_type": "markdown",
      "metadata": {
        "id": "JWDL4qkmxW_H"
      },
      "source": [
        "Gerando um dicionário via comprehension"
      ]
    },
    {
      "cell_type": "code",
      "metadata": {
        "id": "j4n-8sOCw0v0"
      },
      "source": [
        "# Basicamente a mesma lógica de list comprehension, mas quando tempos chave:valor podemos transormar em dicionário\n",
        "\n",
        "lista = [('chave1','chave2'), ('chave2','valor2'),('chave3','valor3')]\n",
        "\n",
        "dicionario = {x:y for x, y in lista}\n",
        "dicionario2 = dict(lista)\n",
        "\n",
        "print(dicionario)\n",
        "\n",
        "print(dicionario2)\n"
      ],
      "execution_count": null,
      "outputs": []
    },
    {
      "cell_type": "markdown",
      "metadata": {
        "id": "YJSdlrpRxaSW"
      },
      "source": [
        "Operações dentro do dicionário via comprehension"
      ]
    },
    {
      "cell_type": "code",
      "metadata": {
        "id": "v07kR0WrxU7m"
      },
      "source": [
        "produtos = [('Caneta',1.99), ('Lápis',1.49), ('Caderno',8.99)]\n",
        "\n",
        "produtos_com_imposto = {x:y * 1.6 for x, y in produtos}\n",
        "\n",
        "print('Preços SEM Imposto: ', produtos)\n",
        "\n",
        "print('Preços COM Imposto: ', produtos_com_imposto)\n"
      ],
      "execution_count": null,
      "outputs": []
    },
    {
      "cell_type": "markdown",
      "metadata": {
        "id": "7-bLJGJgxezt"
      },
      "source": [
        "# Expressões Ternárias"
      ]
    },
    {
      "cell_type": "code",
      "metadata": {
        "id": "8Tf_x-S3xU9_"
      },
      "source": [
        "# Parecido com o \"comprehension\", mas iterando sobre estruturas condicionais e sobre expressões booleanas\n",
        "\n",
        "num = 2\n",
        "\n",
        "'Positivo' if num >= 0 else 'Negativo'\n"
      ],
      "execution_count": null,
      "outputs": []
    },
    {
      "cell_type": "markdown",
      "metadata": {
        "id": "MvkMyDbQxtH9"
      },
      "source": [
        "# Geradores e Iteradores"
      ]
    },
    {
      "cell_type": "code",
      "metadata": {
        "id": "olXU03r0xVAa"
      },
      "source": [
        "# Um objeto iterável é aquele com que você consegue interagir com cada elemento de sua composição,\n",
        "# ex cada letra de uma string...\n",
        "\n",
        "minha_lista = [1,2,3,4]\n",
        "minha_lista = iter(minha_lista)\n",
        "\n",
        "print(hasattr(minha_lista, '__iter__'))\n",
        "\n",
        "for i in minha_lista:\n",
        "  print(i)\n"
      ],
      "execution_count": null,
      "outputs": []
    },
    {
      "cell_type": "code",
      "metadata": {
        "id": "UOmW5TTJxyz2"
      },
      "source": [
        "# Gerador gera valores onde não existem para poupar tempo e codificação\n",
        "\n",
        "lista_0_a_100 = list(range(101))\n",
        "\n",
        "print(lista_0_a_100)\n"
      ],
      "execution_count": null,
      "outputs": []
    },
    {
      "cell_type": "code",
      "metadata": {
        "id": "fzENfy3Lxy2W"
      },
      "source": [
        "# Porém dados gerados com muitos elementos tem impacto sobre a memória\n",
        "\n",
        "import sys\n",
        "\n",
        "lista_manual = list([0,1,2,3,4,5,6,7,8,9,10,11,12,13,14])\n",
        "lista_gerada = list(range(14))\n",
        "\n",
        "listamilhao = list(range(1000001))\n",
        "\n",
        "print('Tamanho em bytes:', sys.getsizeof(lista_manual))\n",
        "\n",
        "print('Tamanho em bytes:', sys.getsizeof(lista_gerada))\n",
        "\n",
        "print('Tamanho em bytes:', sys.getsizeof(listamilhao))\n"
      ],
      "execution_count": null,
      "outputs": []
    },
    {
      "cell_type": "code",
      "metadata": {
        "id": "vdu6tu5cxy4_"
      },
      "source": [
        "# Guardando valores em uma variável, de forma que a cada vez que eu chame ela ela me retorne um valor diferente\n",
        "\n",
        "import sys\n",
        "\n",
        "def gera_numero():\n",
        "  num = 0\n",
        "  while True:\n",
        "    yield num\n",
        "    num += 1\n",
        "\n",
        "gerador = gera_numero()\n",
        "\n",
        "print(next(gerador))\n",
        "\n",
        "print(next(gerador))\n",
        "print(next(gerador))\n",
        "print(next(gerador))\n",
        "print(next(gerador))\n"
      ],
      "execution_count": null,
      "outputs": []
    },
    {
      "cell_type": "markdown",
      "metadata": {
        "id": "-3wFw-o_yg0D"
      },
      "source": [
        "# Map, Filter, Reduce + List Comprehension"
      ]
    },
    {
      "cell_type": "code",
      "metadata": {
        "id": "TMsALmi-xy7T"
      },
      "source": [
        "estoque = [\n",
        "    {'Item01': 'Camisa Nike', 'Preco':39.90},\n",
        "    {'Item02': 'Camisa Adidas', 'Preco':37.90},\n",
        "    {'Item03': 'Moletom 00', 'Preco':79.90},\n",
        "    {'Item04': 'Calca Jeans', 'Preco': 69.90},\n",
        "    {'Item05': 'Tenis AllStar', 'Preco': 59.90}\n",
        "]\n",
        "\n",
        "# Método convencional para extrair dados\n",
        "\n",
        "precos01 = []\n",
        "for preco in estoque:\n",
        "    precos01.append(preco['Preco'])\n",
        "\n",
        "print(f'Preços de estoque (normal) {precos01}')\n"
      ],
      "execution_count": null,
      "outputs": []
    },
    {
      "cell_type": "code",
      "metadata": {
        "id": "Qntj88ANBUR4"
      },
      "source": [
        "# Extraindo dados via Map + Função Lambda\n",
        "\n",
        "estoque = [\n",
        "    {'Item01': 'Camisa Nike', 'Preco':39.90},\n",
        "    {'Item02': 'Camisa Adidas', 'Preco':37.90},\n",
        "    {'Item03': 'Moletom 00', 'Preco':79.90},\n",
        "    {'Item04': 'Calca Jeans', 'Preco': 69.90},\n",
        "    {'Item05': 'Tenis AllStar', 'Preco': 59.90}\n",
        "]\n",
        "\n",
        "precos02 = list(map(lambda p: p['Preco'], estoque))\n",
        "\n",
        "print(f'Preços de estoque (Map + Lambda) {precos02}')\n"
      ],
      "execution_count": null,
      "outputs": []
    },
    {
      "cell_type": "code",
      "metadata": {
        "id": "iGF8RhU7BQjY"
      },
      "source": [
        "# Extraindo dados via List Comprehension\n",
        "\n",
        "estoque = [\n",
        "    {'Item01': 'Camisa Nike', 'Preco':39.90},\n",
        "    {'Item02': 'Camisa Adidas', 'Preco':37.90},\n",
        "    {'Item03': 'Moletom 00', 'Preco':79.90},\n",
        "    {'Item04': 'Calca Jeans', 'Preco': 69.90},\n",
        "    {'Item05': 'Tenis AllStar', 'Preco': 59.90}\n",
        "]\n",
        "\n",
        "precos03 = [preco['Preco'] for preco in estoque]\n",
        "\n",
        "print(f'Preços de estoque (List Comprehension) {precos03}')\n"
      ],
      "execution_count": null,
      "outputs": []
    },
    {
      "cell_type": "code",
      "metadata": {
        "id": "9m5Wm8NeBNzJ"
      },
      "source": [
        "# Extraindo dados via Filter\n",
        "\n",
        "estoque = [\n",
        "    {'Item01': 'Camisa Nike', 'Preco':39.90},\n",
        "    {'Item02': 'Camisa Adidas', 'Preco':37.90},\n",
        "    {'Item03': 'Moletom 00', 'Preco':79.90},\n",
        "    {'Item04': 'Calca Jeans', 'Preco': 69.90},\n",
        "    {'Item05': 'Tenis AllStar', 'Preco': 59.90}\n",
        "]\n",
        "\n",
        "precos04 = list(filter(lambda p: p['Preco'] >= 60, estoque))\n",
        "#precisa especificar um parâmetro a ser filtrado\n",
        "\n",
        "print(f'Preços de estoque (Filter) {precos04}')\n"
      ],
      "execution_count": null,
      "outputs": []
    },
    {
      "cell_type": "code",
      "metadata": {
        "id": "v6J3Sp83BMCr"
      },
      "source": [
        "# Combinando Filter e List Comprehension\n",
        "\n",
        "estoque = [\n",
        "    {'Item01': 'Camisa Nike', 'Preco':39.90},\n",
        "    {'Item02': 'Camisa Adidas', 'Preco':37.90},\n",
        "    {'Item03': 'Moletom 00', 'Preco':79.90},\n",
        "    {'Item04': 'Calca Jeans', 'Preco': 69.90},\n",
        "    {'Item05': 'Tenis AllStar', 'Preco': 59.90}\n",
        "]\n",
        "\n",
        "precos05 = [preco['Preco'] for preco in estoque if preco['Preco'] > 60]\n",
        "#filtrados somente precos maiores que 60\n",
        "\n",
        "print(f'Preços de estoque (Filter + List Comprehension) {precos05}')\n"
      ],
      "execution_count": null,
      "outputs": []
    },
    {
      "cell_type": "code",
      "metadata": {
        "id": "ExszpjFkBIux"
      },
      "source": [
        "# Combinando Map e Filter para extrair um dado\n",
        "\n",
        "estoque = [\n",
        "    {'Item01': 'Camisa Nike', 'Preco':39.90},\n",
        "    {'Item02': 'Camisa Adidas', 'Preco':37.90},\n",
        "    {'Item03': 'Moletom 00', 'Preco':79.90},\n",
        "    {'Item04': 'Calca Jeans', 'Preco': 69.90},\n",
        "    {'Item05': 'Tenis AllStar', 'Preco': 59.90}\n",
        "]\n",
        "\n",
        "precos06 = list(map(lambda p: p['Preco'],\n",
        "                    filter(lambda p: p['Preco'], estoque)))\n",
        "\n",
        "print(f'Preços de estoque (Map + Filter) {precos06}')\n"
      ],
      "execution_count": null,
      "outputs": []
    },
    {
      "cell_type": "code",
      "metadata": {
        "id": "Zbnk3D5oBF56"
      },
      "source": [
        "# Extraindo dados via Reduce\n",
        "\n",
        "estoque = [\n",
        "    {'Item01': 'Camisa Nike', 'Preco':39.90},\n",
        "    {'Item02': 'Camisa Adidas', 'Preco':37.90},\n",
        "    {'Item03': 'Moletom 00', 'Preco':79.90},\n",
        "    {'Item04': 'Calca Jeans', 'Preco': 69.90},\n",
        "    {'Item05': 'Tenis AllStar', 'Preco': 59.90}\n",
        "]\n",
        "\n",
        "from functools import reduce\n",
        "def func_reduce(soma, valores):\n",
        "    return soma + valores['Preco']\n",
        "precos_total = reduce(func_reduce, estoque, 0)\n",
        "\n",
        "print(f'Soma dos Preços (Reduce) {precos_total}')\n"
      ],
      "execution_count": null,
      "outputs": []
    },
    {
      "cell_type": "code",
      "metadata": {
        "id": "iTlTPNJNBDJa"
      },
      "source": [
        "# Extraindo dados via Reduce + List Comprehension\n",
        "\n",
        "estoque = [\n",
        "    {'Item01': 'Camisa Nike', 'Preco':39.90},\n",
        "    {'Item02': 'Camisa Adidas', 'Preco':37.90},\n",
        "    {'Item03': 'Moletom 00', 'Preco':79.90},\n",
        "    {'Item04': 'Calca Jeans', 'Preco': 69.90},\n",
        "    {'Item05': 'Tenis AllStar', 'Preco': 59.90}\n",
        "]\n",
        "\n",
        "from functools import reduce\n",
        "precos_total = reduce(lambda soma, valores: soma + valores['Preco'], estoque, 0)\n",
        "\n",
        "print(f'Soma dos Preços (Reduce + List Comprehension) {precos_total}')\n"
      ],
      "execution_count": null,
      "outputs": []
    },
    {
      "cell_type": "code",
      "metadata": {
        "id": "ufrOrZtHA_ym"
      },
      "source": [
        "# Extraindo dados via Reduce (Método Otimizado)\n",
        "\n",
        "estoque = [\n",
        "    {'Item01': 'Camisa Nike', 'Preco':39.90},\n",
        "    {'Item02': 'Camisa Adidas', 'Preco':37.90},\n",
        "    {'Item03': 'Moletom 00', 'Preco':79.90},\n",
        "    {'Item04': 'Calca Jeans', 'Preco': 69.90},\n",
        "    {'Item05': 'Tenis AllStar', 'Preco': 59.90}\n",
        "]\n",
        "\n",
        "from functools import reduce\n",
        "precos_total = sum([preco['Preco'] for preco in estoque])\n",
        "\n",
        "print(f'Soma dos Preços (Reduce Método Otimizado) {precos_total}')\n"
      ],
      "execution_count": null,
      "outputs": []
    },
    {
      "cell_type": "markdown",
      "metadata": {
        "id": "pQX0NJAgzDGz"
      },
      "source": [
        "## Try, Except, Raise (Avançado)"
      ]
    },
    {
      "cell_type": "code",
      "metadata": {
        "id": "Kr_EGcSExy92"
      },
      "source": [
        "# Tratando exceções para que não se interrompa a execução de um código\n",
        "\n",
        "try:\n",
        "  print(abc)\n",
        "except:\n",
        "  print('Não foi possível exibir o conteúdo de \"a\"')\n",
        "  \n",
        "# Nesse caso nada acontecerá, mas também não acontecerá um erro ou interrupção em função de não conseguir imprimir o comando print(a).\n"
      ],
      "execution_count": null,
      "outputs": []
    },
    {
      "cell_type": "code",
      "metadata": {
        "id": "Jz6Xaxo9xVCw"
      },
      "source": [
        "#Except genérico\n",
        "\n",
        "try:\n",
        "  print(abc)\n",
        "except Exception as erro:\n",
        "  print('Ocorreu um erro inesperado')\n"
      ],
      "execution_count": null,
      "outputs": []
    },
    {
      "cell_type": "code",
      "metadata": {
        "id": "K2EUQQOOzLsa"
      },
      "source": [
        "# Exibindo que erro específico aconteceu\n",
        "\n",
        "try:\n",
        "  print(abc)\n",
        "except NameError as erro:\n",
        "  print('Ocorreu um erro:', erro)\n"
      ],
      "execution_count": null,
      "outputs": []
    },
    {
      "cell_type": "markdown",
      "metadata": {
        "id": "TZ7AiTZ2zOr8"
      },
      "source": [
        "Try e Except como condicional, servindo para prever exceções geradas pelo usuário"
      ]
    },
    {
      "cell_type": "code",
      "metadata": {
        "id": "3cRX_COFzLus"
      },
      "source": [
        "def conversor_num(num):\n",
        "  try:\n",
        "    num = int(num) # tentará converter para int\n",
        "    return num\n",
        "  except ValueError:\n",
        "    try:\n",
        "      num = float(num) # tentará converter para float\n",
        "      return num\n",
        "    except ValueError:\n",
        "      pass # caso não consiga nenhuma opção anterior irá retornar None\n",
        "\n",
        "num1 = conversor_num(input('Digite um número: '))\n",
        "\n",
        "if num1 is not None:\n",
        "  print(num1 + 100)\n",
        "else:\n",
        "  print('Operação inválida.')\n",
        "  "
      ],
      "execution_count": null,
      "outputs": []
    },
    {
      "cell_type": "code",
      "metadata": {
        "id": "uAhFJPchzLw_"
      },
      "source": [
        "def conversor_num(num):\n",
        "  try:\n",
        "    num = int(num)\n",
        "    return num\n",
        "  except:\n",
        "    num = float(num)\n",
        "    return num\n",
        "  finally:\n",
        "    print('Você digitou um caractere que não pode ser convertido')\n",
        "\n",
        "num1 = conversor_num(input('Digite um número: '))\n"
      ],
      "execution_count": null,
      "outputs": []
    },
    {
      "cell_type": "markdown",
      "metadata": {
        "id": "v8KRH_3QzWrr"
      },
      "source": [
        "Raise"
      ]
    },
    {
      "cell_type": "code",
      "metadata": {
        "id": "fhEoSWvXzLzL"
      },
      "source": [
        "idade = int(input('Digite sua idade: '))\n",
        "\n",
        "if idade <= 0:\n",
        "  raise Exception('Idade inválida!!!')\n",
        "\n",
        "print(f'Você tem {idade} anos!!!')\n",
        "\n",
        "# Será gerado um erro Exception: Idade inválida!!!\n"
      ],
      "execution_count": null,
      "outputs": []
    },
    {
      "cell_type": "markdown",
      "metadata": {
        "id": "7V7kSqlPzxAh"
      },
      "source": [
        "## if __name__ == '__main__'"
      ]
    },
    {
      "cell_type": "code",
      "metadata": {
        "id": "SHzNCOhpzL1g"
      },
      "source": [
        "# arquivo soma.py\n",
        "def soma_num(num1, num2):\n",
        "    return num1 + num2\n",
        "\n",
        "#print(__name__) # irá retornar __main__\n",
        "#print(soma_num(9, 4))\n",
        "\n",
        "if __name__ == '__main__':\n",
        "    print(soma_num(9, 4))\n",
        "    print('Teste de validação')\n",
        "    # esse é um código de teste, se eu executar este arquivo, esse resultado será impresso,\n",
        "    # quando esse arquivo for importado como módulo para outro arquivo, esse arquivo deixará\n",
        "    # de ter o __name__ igual a __main__ e passará a ter o __name__ igual a soma, então, esse\n",
        "    # código de teste não será executado\n",
        "\n",
        "# arquivo meuprograma.py\n",
        "import soma\n",
        "\n",
        "num1 = int(input('Digite um número: '))\n",
        "num2 = int(input('Digite outro número: '))\n",
        "resultado = soma.soma_num(num1, num2)\n",
        "\n",
        "print(resultado)\n",
        "# irá retornar soma porque o módulo passa a ter o nome do próprio arquivo quando importado\n",
        "print(__name__)\n",
        "# irá retornar __main__\n"
      ],
      "execution_count": null,
      "outputs": []
    },
    {
      "cell_type": "markdown",
      "metadata": {
        "id": "59rAbZ9wz23Y"
      },
      "source": [
        "## Módulos nativos do Python"
      ]
    },
    {
      "cell_type": "markdown",
      "metadata": {
        "id": "CEiZlSDxz8zp"
      },
      "source": [
        "Datetime"
      ]
    },
    {
      "cell_type": "code",
      "metadata": {
        "id": "Sv5uJ0FCzL3Y"
      },
      "source": [
        "#import datetime\n",
        "\n",
        "from datetime import datetime, date, time\n",
        "\n",
        "data = datetime(2020, 6, 12, 15, 24, 59)\n",
        "# Por justaposição, os parâmetros estarão como:\n",
        "# ano, mês, dia, hora, minuto, segundo\n",
        "\n",
        "print(data.date())\n",
        "print(data.time())\n",
        "\n",
        "print(data.year)\n",
        "print(data.month)\n",
        "print(data.day)\n",
        "\n",
        "print(data.hour)\n",
        "print(data.minute)\n",
        "print(data.second)\n"
      ],
      "execution_count": null,
      "outputs": []
    },
    {
      "cell_type": "code",
      "metadata": {
        "id": "LmmP13VoF9AC"
      },
      "source": [
        "# Datetime como string\n",
        "\n",
        "print(data.strftime('%m/%d/%Y %H:%M'))\n",
        "\n",
        "'''\n",
        "%Y - Ano com 4 dígitos\n",
        "%y - Ano com 2 dígitos\n",
        "%m - Mês com 2 dígitos\n",
        "%d - Dia com 2 dígitos\n",
        "%w - Dia da semana (entre 0 (domingo) e 6 (sábado))\n",
        "%H - Hora com notação de 24 horas\n",
        "%h - Hora com notação de 12 horas\n",
        "%M - Minuto com 2 dígitos\n",
        "%S - Segundos com 2 dígitos\n",
        "%W - Semana do ano (entre 00 e 53)\n",
        "%z - Fuso horário'''\n"
      ],
      "execution_count": null,
      "outputs": []
    },
    {
      "cell_type": "code",
      "metadata": {
        "id": "7BOfFaHGF2k5"
      },
      "source": [
        "# Convertendo uma string em datetime\n",
        "\n",
        "data2 = datetime.strptime('20200101', '%Y%m%d')\n",
        "\n",
        "print(data2)\n"
      ],
      "execution_count": null,
      "outputs": []
    },
    {
      "cell_type": "code",
      "metadata": {
        "id": "elOjgI4BFpw8"
      },
      "source": [
        "# Substituindo um valor de datetime\n",
        "\n",
        "data3 = datetime(2020, 6, 12, 15, 24, 59)\n",
        "#data3.year = 2001 # retorna um erro porque o datetime inicial é imutavel\n",
        "\n",
        "data3 = data3.replace(year = 2001)\n",
        "\n",
        "print(data3)\n"
      ],
      "execution_count": null,
      "outputs": []
    },
    {
      "cell_type": "code",
      "metadata": {
        "id": "49_UjFanFUb4"
      },
      "source": [
        "# Diferença entre dois datetimes\n",
        "\n",
        "data2 = datetime.strptime('20200101', '%Y%m%d')\n",
        "data3 = datetime(2020, 6, 12, 15, 24, 59)\n",
        "\n",
        "delta = data3 - data2\n",
        "\n",
        "print(delta)\n"
      ],
      "execution_count": null,
      "outputs": []
    },
    {
      "cell_type": "markdown",
      "metadata": {
        "id": "6pMcrrgw0Z4v"
      },
      "source": [
        "## Combinações, Permutações e Produto (Itertools)"
      ]
    },
    {
      "cell_type": "code",
      "metadata": {
        "id": "sqco4SFjz6V5"
      },
      "source": [
        "# Combinações\n",
        "\n",
        "from itertools import combinations\n",
        "\n",
        "lista10 = ['Ana', 'Bianca', 'Carla', 'Daniela', 'Franciele', 'Maria']\n",
        "\n",
        "for combinacoes in combinations(lista10, 2):# possíveis combinações em grupos de 2\n",
        "  print(combinacoes)\n",
        "\n",
        "# a ordem não importa e não haverão combinações repetidas entre os elementos\n"
      ],
      "execution_count": null,
      "outputs": []
    },
    {
      "cell_type": "code",
      "metadata": {
        "id": "_6eiBRs7z6YK"
      },
      "source": [
        "# Permutações\n",
        "\n",
        "from itertools import permutations\n",
        "\n",
        "lista10 = ['Ana', 'Bianca', 'Carla', 'Daniela', 'Franciele', 'Maria']\n",
        "\n",
        "for combinacoes in permutations(lista10, 2): # possíveis combinações em grupos de 2\n",
        "  print(combinacoes)\n",
        "\n",
        "# Neste caso, as combinações podem se repetir, alterando a ordem dos elementos\n",
        "# Ex: Ana e Bianca, Bianca e Ana...\n"
      ],
      "execution_count": null,
      "outputs": []
    },
    {
      "cell_type": "code",
      "metadata": {
        "id": "w9miDkhzz6ap"
      },
      "source": [
        "# Product\n",
        "\n",
        "from itertools import product\n",
        "\n",
        "lista10 = ['Ana', 'Bianca', 'Carla', 'Daniela', 'Franciele', 'Maria']\n",
        "\n",
        "for combinacoes in product(lista10, repeat = 2): # possíveis combinações em grupos de 2\n",
        "  print(combinacoes)\n",
        "\n",
        "# Parecido com Permutations, mas aqui é permitido que um elemento se combine com ele mesmo\n"
      ],
      "execution_count": null,
      "outputs": []
    },
    {
      "cell_type": "markdown",
      "metadata": {
        "id": "2n-PGqYB07Mu"
      },
      "source": [
        "# Programação Orientada a Objetos (Avançado)"
      ]
    },
    {
      "cell_type": "code",
      "metadata": {
        "id": "S1M_AxHIz6dL"
      },
      "source": [
        "# Associação de Classes\n",
        "\n",
        "class Usuario:\n",
        "    def __init__(self, nome):\n",
        "        self.__nome = nome\n",
        "        self.__logar = None\n",
        "    @property\n",
        "    def nome(self):\n",
        "        return self.__nome\n",
        "    @property\n",
        "    def logar(self):\n",
        "        return self.__logar\n",
        "    @logar.setter\n",
        "    def logar(self, logar):\n",
        "        self.__logar = logar\n",
        "\n",
        "class Identificador:\n",
        "    def __init__(self, numero):\n",
        "        self.__numero = numero\n",
        "    @property\n",
        "    def numero(self):\n",
        "        return self.__numero\n",
        "    def logar(self):\n",
        "        print('Logando no sistema...')\n",
        "\n",
        "usuario1 = Usuario('Fernando')\n",
        "identificador1 = Identificador('0001')\n",
        "\n",
        "usuario1.logar = identificador1\n",
        "usuario1.logar.logar()\n"
      ],
      "execution_count": null,
      "outputs": []
    },
    {
      "cell_type": "code",
      "metadata": {
        "id": "__5GLdSOz6fS"
      },
      "source": [
        "# Agregação e Composição de Classes\n",
        "\n",
        "class Contato:\n",
        "    def __init__(self, residencial, celular):\n",
        "        self.residencial = residencial\n",
        "        self.celular = celular\n",
        "\n",
        "class Cliente:\n",
        "    def __init__(self, nome, idade, fone=None):\n",
        "        self.nome = nome\n",
        "        self.idade = idade\n",
        "        self.fone = []\n",
        "\n",
        "    def addFone(self, residencial, celular):\n",
        "        self.fone.append(Contato(residencial, celular))\n",
        "    def listaFone(self):\n",
        "        for fone in self.fone:\n",
        "            print(fone.residencial, fone.celular)\n",
        "\n",
        "cliente1 = Cliente('Fernando', 32)\n",
        "cliente1.addFone(33221766, 991357258)\n",
        "\n",
        "print(cliente1.nome)\n",
        "\n",
        "print(cliente1.listaFone())\n"
      ],
      "execution_count": null,
      "outputs": []
    },
    {
      "cell_type": "code",
      "metadata": {
        "id": "LrVt7ErXxVFJ"
      },
      "source": [
        "# Herança Simples\n",
        "\n",
        "class Corsa:\n",
        "    def __init__(self, nome, ano):\n",
        "        self.nome = nome\n",
        "        self.ano = ano\n",
        "\n",
        "class Gol:\n",
        "    def __init__(self, nome, ano):\n",
        "        self.nome = nome\n",
        "        self.ano = ano\n",
        "\n",
        "class Carro:\n",
        "    def __init__(self, nome, ano):\n",
        "        self.nome = nome\n",
        "        self.ano = ano\n",
        "\n",
        "class Corsa(Carro):\n",
        "    pass\n",
        "\n",
        "class Gol(Carro):\n",
        "    pass\n"
      ],
      "execution_count": null,
      "outputs": []
    },
    {
      "cell_type": "code",
      "metadata": {
        "id": "wt3UcfUn1D6D"
      },
      "source": [
        "# Cadeia de Heranças\n",
        "\n",
        "class Carro:\n",
        "    def __init__(self, nome, ano):\n",
        "        self.nome = nome\n",
        "        self.ano = ano\n",
        "\n",
        "class Gasolina(Carro):\n",
        "    def __init__(self, tipogasolina=True, tipoalcool=False):\n",
        "        self.tipogasolina = tipogasolina\n",
        "        self.tipoalcool = tipoalcool\n",
        "\n",
        "class Jeep(Gasolina):\n",
        "    pass\n"
      ],
      "execution_count": null,
      "outputs": []
    },
    {
      "cell_type": "code",
      "metadata": {
        "id": "Un_XeTFn1D8h"
      },
      "source": [
        "# Mesmo que\n",
        "\n",
        "class Jeep:\n",
        "    def carro():\n",
        "        def __init__(self, nome, ano):\n",
        "            self.nome = nome\n",
        "            self.ano = ano\n",
        "\n",
        "    def gasolina(self, tipogasolina=True, tipoalcool=False):\n",
        "        self.tipogasolina = tipogasolina\n",
        "        self.tipoalcool = tipoalcool\n",
        "\n",
        "jeep = Jeep()\n"
      ],
      "execution_count": null,
      "outputs": []
    },
    {
      "cell_type": "code",
      "metadata": {
        "id": "EL3jCwuy1D_B"
      },
      "source": [
        "# Código otimizado\n",
        "\n",
        "class Carro:\n",
        "    def __init__(self, nome, ano):\n",
        "        self.nome = nome\n",
        "        self.ano = ano\n",
        "\n",
        "class Gasolina(Carro):\n",
        "    def __init__(self, tipogasolina=True, tipoalcool=False):\n",
        "        self.tipogasolina = tipogasolina\n",
        "        self.tipoalcool = tipoalcool\n",
        "\n",
        "class Jeep(Gasolina):\n",
        "    pass\n",
        "\n",
        "carro1 = Jeep()\n",
        "\n",
        "print(carro1.tipogasolina)\n"
      ],
      "execution_count": null,
      "outputs": []
    },
    {
      "cell_type": "code",
      "metadata": {
        "id": "dtsFV8Zw1EBM"
      },
      "source": [
        "# Herança Múltipla\n",
        "\n",
        "class Mercadoria:\n",
        "    def __init__(self, nome, preco):\n",
        "        self.nome = nome\n",
        "        self.preco = preco\n",
        "\n",
        "class Carnes(Mercadoria):\n",
        "    def __init__(self, tipo, peso):\n",
        "        self.tipo = tipo\n",
        "        self.peso = peso\n",
        "\n",
        "class Utensilios:\n",
        "    def __init__(self, espetos, carvao):\n",
        "        self.espetos = espetos\n",
        "        self.carvao = carvao\n",
        "\n",
        "class KitChurrasco(Carnes, Utensilios):\n",
        "    pass\n",
        "\n",
        "pacote1 = KitChurrasco('carne', 14.90)\n",
        "pacote1.tipo = 'costela'\n",
        "pacote1.peso = 1\n",
        "pacote1.espetos = 1\n",
        "pacote1.carvao = 1\n"
      ],
      "execution_count": null,
      "outputs": []
    },
    {
      "cell_type": "code",
      "metadata": {
        "id": "mv0x4oVt1EDy"
      },
      "source": [
        "# Sobreposição de Membros\n",
        "\n",
        "class Pessoa:\n",
        "    def __init__(self, nome):\n",
        "        self.nome = nome\n",
        "    \n",
        "    def Acao1(self):\n",
        "        print(f'{self.nome} está dormindo')\n",
        "\n",
        "class Jogador1(Pessoa):\n",
        "    def Acao2(self):\n",
        "        print(f'{self.nome} está comendo')\n",
        "\n",
        "class SaveJogador1(Jogador1):\n",
        "    pass\n",
        "\n",
        "p1 = SaveJogador1('Fernando')\n",
        "print(p1.nome)\n",
        "\n",
        "p1.Acao1()\n",
        "p1.Acao2()\n"
      ],
      "execution_count": null,
      "outputs": []
    },
    {
      "cell_type": "code",
      "metadata": {
        "id": "dMxNWM4Q1MNu"
      },
      "source": [
        "class Pessoa:\n",
        "    def __init__(self, nome):\n",
        "        self.nome = nome\n",
        "    \n",
        "    def Acao1(self):\n",
        "        print(f'{self.nome} está dormindo')\n",
        "\n",
        "class Jogador1(Pessoa):\n",
        "    def Acao2(self):\n",
        "        print(f'{self.nome} está comendo')\n",
        "\n",
        "class SaveJogador1(Jogador1):\n",
        "    def Acao1(self):\n",
        "        super().Acao1()\n",
        "        print(f'{self.nome} está acordado')\n",
        "\n",
        "p1 = SaveJogador1('Fernando')\n",
        "p1.Acao1()\n",
        "p1.Acao2()\n"
      ],
      "execution_count": null,
      "outputs": []
    },
    {
      "cell_type": "markdown",
      "metadata": {
        "id": "NFagsKIk1QmB"
      },
      "source": [
        "Sobreposição via super(  )"
      ]
    },
    {
      "cell_type": "code",
      "metadata": {
        "id": "Q9w6pWdJ1MP_"
      },
      "source": [
        "class SaveJogador1(Jogador1):\n",
        "    def Acao1(self):\n",
        "        super().Acao1()\n",
        "        print(f'{self.nome} está acordado')\n"
      ],
      "execution_count": null,
      "outputs": []
    },
    {
      "cell_type": "code",
      "metadata": {
        "id": "EFtUhF_-1MRn"
      },
      "source": [
        "class Pessoa:\n",
        "    def acao(self):\n",
        "        print('Inicializando o sistema')\n",
        "\n",
        "class Acao1(Pessoa):\n",
        "    def acao(self):\n",
        "        print('Sistema pronto para uso')\n",
        "\n",
        "class Acao2(Pessoa):\n",
        "    def acao(self):\n",
        "        print('Desligando o sistema')\n",
        "\n",
        "class SaveJogador1(Acao2, Acao1):\n",
        "    pass\n",
        "\n",
        "p1 = SaveJogador1()\n",
        "p1.acao()\n"
      ],
      "execution_count": null,
      "outputs": []
    },
    {
      "cell_type": "code",
      "metadata": {
        "id": "gBNzKX3-1W4G"
      },
      "source": [
        "# Classes Abstratas\n",
        "\n",
        "from abc import ABC, abstractclassmethod\n",
        "\n",
        "class Pessoa(ABC):\n",
        "    @abstractclassmethod\n",
        "    def logar(self):\n",
        "        pass\n",
        "\n",
        "class Usuario(Pessoa):\n",
        "    def logar(self):\n",
        "        print('Usuario logado no sistema')\n",
        "\n",
        "#user1 = Pessoa()\n",
        "#user1.logar()\n",
        "\n",
        "user1 = Usuario()\n",
        "user1.logar()\n"
      ],
      "execution_count": null,
      "outputs": []
    },
    {
      "cell_type": "code",
      "metadata": {
        "id": "kVJ-2iLb1W6i"
      },
      "source": [
        "# Polimorfismo\n",
        "\n",
        "from abc import ABC, abstractclassmethod\n",
        "\n",
        "class Pessoa(ABC):\n",
        "    @abstractclassmethod\n",
        "    def logar(self, chaveseguranca):\n",
        "        pass\n",
        "\n",
        "class Usuario(Pessoa):\n",
        "    def logar(self, chaveseguranca):\n",
        "        print('Usuario logado no sistema')\n",
        "\n",
        "class Bot(Pessoa):\n",
        "    def logar(self, chaveseguranca):\n",
        "        print('Sistema rodando em segundo plano')\n",
        "\n",
        "user1 = Usuario()\n",
        "user1.logar('I5m8b4y9')\n"
      ],
      "execution_count": null,
      "outputs": []
    },
    {
      "cell_type": "code",
      "metadata": {
        "id": "dCo7WimY1W-N"
      },
      "source": [
        "# Sobrecarga de Operadores\n",
        "\n",
        "class Caixa:\n",
        "    def __init__(self, largura, altura):\n",
        "        self.largura = largura\n",
        "        self.altura = altura\n",
        "\n",
        "caixa1 = Caixa(10,10)\n",
        "caixa2 = Caixa(10,20)\n",
        "\n",
        "print(caixa1 + caixa2)\n"
      ],
      "execution_count": null,
      "outputs": []
    },
    {
      "cell_type": "code",
      "metadata": {
        "id": "79k1D4iT1cDv"
      },
      "source": [
        "class Caixa:\n",
        "    def __init__(self, largura, altura):\n",
        "        self.largura = largura\n",
        "        self.altura = altura\n",
        "    \n",
        "    def __add__(self, other):\n",
        "        largura1 = self.largura + other.largura\n",
        "        altura1 = self.altura + other.altura\n",
        "        return Caixa(largura1, altura1)\n",
        "\n",
        "    def __repr__(self):\n",
        "        return f\"<class 'Caixa({self.largura}, {self.altura})'>\"\n",
        "\n",
        "caixa1 = Caixa(10,10)\n",
        "caixa2 = Caixa(10,20)\n",
        "caixa3 = caixa1 + caixa2\n",
        "\n",
        "print(caixa3)\n"
      ],
      "execution_count": null,
      "outputs": []
    },
    {
      "cell_type": "markdown",
      "metadata": {
        "id": "k422cBWu1hNH"
      },
      "source": [
        "Gerenciamento de Filas (Nodes)"
      ]
    },
    {
      "cell_type": "code",
      "metadata": {
        "id": "m9WR8W8A1cGR"
      },
      "source": [
        "# Gerenciamento de filas via Nodes\n",
        "\n",
        "from typing import Any\n",
        "\n",
        "EMPTY_NODE_VALUE = '__EMPTY_NODE_VALUE__'\n",
        "\n",
        "class Erro(Exception):\n",
        "  ...\n",
        "\n",
        "class Node:\n",
        "  def __init__(self, value: Any) -> None:\n",
        "    self.value = value\n",
        "    self.next = Node\n",
        "  \n",
        "  def __repr__(self) -> str:\n",
        "    return f'{self.value}'\n",
        "\n",
        "  def __bool__(self) -> bool:\n",
        "    return bool(self.value != EMPTY_NODE_VALUE)\n",
        "\n",
        "class Queue:\n",
        "  def __init__(self) -> None:\n",
        "    self.first: Node = Node(EMPTY_NODE_VALUE)\n",
        "    self.last: Node = Node(EMPTY_NODE_VALUE)\n",
        "    self._count = 0\n",
        "\n",
        "  def enqueue(self, node_value: Any) -> None:\n",
        "    novo_node = Node(node_value)\n",
        "\n",
        "    if not self.first:\n",
        "      self.first = novo_node\n",
        "    if not self.last:\n",
        "      self.last = novo_node\n",
        "    else:\n",
        "      self.last.next = novo_node\n",
        "      self.last = novo_node\n",
        "    self._count += 1\n",
        "  \n",
        "  def pop(self) -> Node: \n",
        "    if not self.first:\n",
        "      raise Erro('Sem elementos na fila')\n",
        "    first = self.first\n",
        "\n",
        "    if hasattr(self.first, 'next'):\n",
        "      self.first = self.first.next\n",
        "    else:\n",
        "      self.first = Node(EMPTY_NODE_VALUE)\n",
        "    self._count += 1\n",
        "    return first\n",
        "  \n",
        "  def peek(self) -> Node:\n",
        "    return self.first\n",
        "  \n",
        "  def __len__(self) -> int:\n",
        "    return - self._count\n",
        "  \n",
        "  def __bool__(self) -> bool:\n",
        "    return bool(self._count)\n",
        "\n",
        "  def __iter__(self) -> Queue:\n",
        "    return self\n",
        "\n",
        "  def __next__(self) -> Any:\n",
        "    try:\n",
        "      next_value = self.pop()\n",
        "      return next_value\n",
        "    except Erro:\n",
        "      raise StopIteration\n",
        "\n",
        "fila1 = Queue()\n",
        "fila1.enqueue('Maria')\n",
        "fila1.enqueue('Carlos')\n",
        "fila1.pop()\n"
      ],
      "execution_count": null,
      "outputs": []
    },
    {
      "cell_type": "code",
      "metadata": {
        "id": "5LNUpAtC1cJB"
      },
      "source": [
        "# Gerenciamento de filas via Deque\n",
        "\n",
        "from typing import Deque, Any\n",
        "from collections import deque\n",
        "\n",
        "fila2: Deque[Any] = deque()\n",
        "\n",
        "fila2.append('Ana')\n",
        "fila2.append('Carlos')\n",
        "fila2.append('Fernando')\n",
        "fila2.append('Maria')\n",
        "\n",
        "for pessoas in fila2:\n",
        "  print(pessoas)\n",
        "\n",
        "fila2.popleft()\n",
        "\n",
        "for pessoas in fila2:\n",
        "  print(pessoas)\n",
        "\n",
        "# Deque trabalha com índices, sendo assim, ao tentar remover um elemento que não consta no índice 0, será gerado um erro\n"
      ],
      "execution_count": null,
      "outputs": []
    },
    {
      "cell_type": "code",
      "metadata": {
        "id": "sa4bDtL71cLq"
      },
      "source": [
        "valor_final = 10\n",
        "contador = 0\n",
        "\n",
        "while contador <= valor_final:\n",
        "  print(contador)\n",
        "  contador += 1\n"
      ],
      "execution_count": null,
      "outputs": []
    },
    {
      "cell_type": "markdown",
      "metadata": {
        "id": "SwTxJrSl1-FE"
      },
      "source": [
        "# Banco de Dados SQLite"
      ]
    },
    {
      "cell_type": "code",
      "metadata": {
        "id": "OPwWHnE92D-E"
      },
      "source": [
        "import sqlite3\n"
      ],
      "execution_count": null,
      "outputs": []
    },
    {
      "cell_type": "code",
      "metadata": {
        "id": "PmDp_Qwc2EAo"
      },
      "source": [
        "# Criando uma conexão persistente\n",
        "\n",
        "conexao = sqlite3.connect('base.db')\n",
        "cursor = conexao.cursor()\n"
      ],
      "execution_count": null,
      "outputs": []
    },
    {
      "cell_type": "code",
      "metadata": {
        "id": "vwrypFB82J63"
      },
      "source": [
        "# Criando uma tabela com campos personalizados\n",
        "\n",
        "cursor.execute('CREATE TABLE IF NOT EXISTS usuarios ('\n",
        "               'id INTEGER PRIMARY KEY AUTOINCREMENT,'\n",
        "               'nome TEXT,'\n",
        "               'peso REAL'\n",
        "               ')')\n"
      ],
      "execution_count": null,
      "outputs": []
    },
    {
      "cell_type": "code",
      "metadata": {
        "id": "vpWjXdIk2J9q"
      },
      "source": [
        "# Inserindo dados/registros na base\n",
        "\n",
        "cursor.execute('INSERT INTO usuarios (nome, peso) VALUES (\"Fernando Feltrin\", 130.5)') # método comum, não seguro\n",
        "\n",
        "#cursor.execute('INSERT INTO usuarios (nome, peso) VALUES (?, ?)', ('Fernando Feltrin', 130.5)) # Dados repassados via tupla com justaposição de argumentos\n",
        "#cursor.execute('INSERT INTO usuarios (nome, peso) VALUES (:nome, :peso)', {'nome':'Fernando Feltrin', 'peso':130.5}) # via dicionário com justaposição\n",
        "#cursor.execute('INSERT INTO clientes VALUES (id:, :nome, :peso)', {'id': None, 'nome':'Fernando Feltrin', 'peso':130.5}) # Via dicionário com justaposição, método reduzido\n",
        "\n",
        "conexao.commit()\n"
      ],
      "execution_count": null,
      "outputs": []
    },
    {
      "cell_type": "code",
      "metadata": {
        "id": "P_7s3cJF2KAr"
      },
      "source": [
        "# Atualizando dados\n",
        "\n",
        "cursor.execute('UPDATE usuarios SET nome=:nome WHERE id=:id',\n",
        "               {'nome':'Mariana Veiga', 'id':2}\n",
        "               )\n",
        "conexao.commit()\n"
      ],
      "execution_count": null,
      "outputs": []
    },
    {
      "cell_type": "code",
      "metadata": {
        "id": "FSN-KG3u2KDY"
      },
      "source": [
        "# Excluindo registros existentes\n",
        "\n",
        "cursor.execute('DELETE FROM usuarios WHERE id=:id',\n",
        "               {'id':3}\n",
        "               )\n",
        "conexao.commit()\n"
      ],
      "execution_count": null,
      "outputs": []
    },
    {
      "cell_type": "code",
      "metadata": {
        "id": "KIMz1GYX2EEP"
      },
      "source": [
        "# Visualizando o conteúdo da base de dados\n",
        "\n",
        "cursor.execute('SELECT * FROM usuarios')\n",
        "for linha in cursor.fetchall():\n",
        "    num, nome, peso = linha # desempacotando os dados em variáveis\n",
        "    print(f'Identificador: {num}, Nome: {nome}, Peso: {peso}')\n",
        "    #print(linha)\n"
      ],
      "execution_count": null,
      "outputs": []
    },
    {
      "cell_type": "code",
      "metadata": {
        "id": "kz-xK1AD2YwB"
      },
      "source": [
        "# Buscando registros específicos\n",
        "\n",
        "cursor.execute('SELECT nome FROM usuarios WHERE peso > 100')\n",
        "for linha in cursor.fetchall():\n",
        "    nome = linha\n",
        "    print(nome)\n"
      ],
      "execution_count": null,
      "outputs": []
    },
    {
      "cell_type": "code",
      "metadata": {
        "id": "oZLujark2bbq"
      },
      "source": [
        "# Encerrando os trabalhos na base de dados\n",
        "\n",
        "cursor.close()\n",
        "conexao.close()\n"
      ],
      "execution_count": null,
      "outputs": []
    }
  ]
}