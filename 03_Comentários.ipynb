{
  "nbformat": 4,
  "nbformat_minor": 0,
  "metadata": {
    "colab": {
      "name": "03 - Comentários.ipynb",
      "provenance": []
    },
    "kernelspec": {
      "name": "python3",
      "display_name": "Python 3"
    },
    "language_info": {
      "name": "python"
    }
  },
  "cells": [
    {
      "cell_type": "markdown",
      "metadata": {
        "id": "uj3hznCxD_-I"
      },
      "source": [
        "## Comentários"
      ]
    },
    {
      "cell_type": "markdown",
      "metadata": {
        "id": "thtonbLnW9r_"
      },
      "source": [
        "Comentário simples de até uma linha"
      ]
    },
    {
      "cell_type": "code",
      "metadata": {
        "id": "AsFzrOGOECsP"
      },
      "source": [
        "# Comentário simples de até uma linha.\n"
      ],
      "execution_count": null,
      "outputs": []
    },
    {
      "cell_type": "code",
      "metadata": {
        "id": "30IeyJwD_upS"
      },
      "source": [
        "# Embora possa acarretar perda de performance\n",
        "# para o código, é perfeitamente possível comentar\n",
        "# linha por linha individualmente.\n"
      ],
      "execution_count": null,
      "outputs": []
    },
    {
      "cell_type": "markdown",
      "metadata": {
        "id": "03isi-nDW9r_"
      },
      "source": [
        "Comentário sem limite de extensão"
      ]
    },
    {
      "cell_type": "code",
      "metadata": {
        "id": "vM_sBIErW9r_",
        "colab": {
          "base_uri": "https://localhost:8080/",
          "height": 36
        },
        "outputId": "f6bbaa5a-1b54-4419-d244-be13d088f557"
      },
      "source": [
        "'''Comentário onde não há limite de linhas,\n",
        "   podendo ser usado para descrever blocos\n",
        "   de código mais detalhadamente'''\n",
        "   "
      ],
      "execution_count": null,
      "outputs": [
        {
          "output_type": "execute_result",
          "data": {
            "application/vnd.google.colaboratory.intrinsic+json": {
              "type": "string"
            },
            "text/plain": [
              "'Comentário onde não há limite de linhas,\\n   podendo ser usado para descrever blocos\\n   de código mais detalhadamente'"
            ]
          },
          "metadata": {
            "tags": []
          },
          "execution_count": 24
        }
      ]
    },
    {
      "cell_type": "markdown",
      "metadata": {
        "id": "ta-kZpO4W9sA"
      },
      "source": [
        "Comentando uma variável para desabilitar a mesma"
      ]
    },
    {
      "cell_type": "code",
      "metadata": {
        "id": "gmPpBtnrmdh6"
      },
      "source": [
        "usuario1 = 'Fernando'  # Visível para o interpretador.\n",
        "\n",
        "#usuario1 = 'Fernando' # Invisível para o interpretador, ignorada.\n"
      ],
      "execution_count": null,
      "outputs": []
    }
  ]
}