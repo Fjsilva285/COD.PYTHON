{
  "nbformat": 4,
  "nbformat_minor": 0,
  "metadata": {
    "colab": {
      "name": "TESTES.ipynb",
      "provenance": []
    },
    "kernelspec": {
      "name": "python3",
      "display_name": "Python 3"
    },
    "language_info": {
      "name": "python"
    }
  },
  "cells": [
    {
      "cell_type": "markdown",
      "metadata": {
        "id": "3geZCrCP2aol"
      },
      "source": [
        "## Sintaxe Básica em Python"
      ]
    },
    {
      "cell_type": "markdown",
      "metadata": {
        "id": "WPtiq2SfW9rt"
      },
      "source": [
        "Declaração de Variáveis"
      ]
    },
    {
      "cell_type": "code",
      "metadata": {
        "colab": {
          "base_uri": "https://localhost:8080/"
        },
        "id": "l2Ko_2jI2U_F",
        "outputId": "3bee964e-d4ae-46b1-f1de-e8b7cc9d62ca"
      },
      "source": [
        "# nome_da_variavel = dado/valor/atributo\n",
        "\n",
        "numero = 20\n",
        "# Nome da variável: numero\n",
        "# Dado/valor atribuído: 20\n",
        "\n",
        "nome = 'Veronica'\n",
        "\n",
        "variavel = [21, 'Maria', 19.90]\n",
        "\n",
        "print(numero)\n",
        "# Exibe em tela o conteúdo da variável numero\n",
        "\n",
        "print(nome)\n",
        "print(variavel)\n"
      ],
      "execution_count": null,
      "outputs": [
        {
          "output_type": "stream",
          "text": [
            "20\n",
            "Veronica\n",
            "[21, 'Maria', 19.9]\n"
          ],
          "name": "stdout"
        }
      ]
    },
    {
      "cell_type": "markdown",
      "metadata": {
        "id": "U2AN7hmrW9rv"
      },
      "source": [
        "Sintaxe básica, leitura léxica e indentação"
      ]
    },
    {
      "cell_type": "code",
      "metadata": {
        "colab": {
          "base_uri": "https://localhost:8080/"
        },
        "id": "VdNmCgnrUKcX",
        "outputId": "6064386b-5714-4faf-991c-5e311f7e93d1"
      },
      "source": [
        "dicionario = {'Nome':'Fernando',\n",
        "              'Idade':33,\n",
        "              'Formação':'Eng. da Computação'}\n",
        "\n",
        "print(dicionario)\n",
        "\n",
        "# Por leitura léxica entenda que o interpretador lê o código sequencialmente,\n",
        "# de cima para baixo, da esquerda para direita, levando em conta os espaços e\n",
        "# tabulações aplicadas ao código (indentação).\n"
      ],
      "execution_count": null,
      "outputs": [
        {
          "output_type": "stream",
          "text": [
            "{'Nome': 'Fernando', 'Idade': 33, 'Formação': 'Eng. da Computação'}\n"
          ],
          "name": "stdout"
        }
      ]
    },
    {
      "cell_type": "markdown",
      "metadata": {
        "id": "a2qrKGqkW9rz"
      },
      "source": [
        "Estrutura básica de um programa"
      ]
    },
    {
      "cell_type": "markdown",
      "metadata": {
        "id": "3ZS9pXUcW9rz"
      },
      "source": [
        "Olá Mundo!!! em Java"
      ]
    },
    {
      "cell_type": "code",
      "metadata": {
        "id": "EHvDeVWtVKQf"
      },
      "source": [
        "class MeuPrograma {\n",
        "    public static void main(String args[]) {\n",
        "        System.out.println(\"Olá Mundo!!!\");\n",
        "    }\n",
        "}\n"
      ],
      "execution_count": null,
      "outputs": []
    },
    {
      "cell_type": "markdown",
      "metadata": {
        "id": "Cy2OkUk8W9r0"
      },
      "source": [
        "Olá Mundo!!! em C#"
      ]
    },
    {
      "cell_type": "code",
      "metadata": {
        "id": "u2JaymKDW9r1"
      },
      "source": [
        "using System; \n",
        "namespace MeuPrograma { \n",
        "    class OlaMundo { \n",
        "\t    static void Main(string[] args) {\n",
        "           Console.WriteLine(\"Olá Mundo!!!\"); \n",
        "\t       Console.ReadKey(); \n",
        "\t    } \n",
        "    } \n",
        "} \n"
      ],
      "execution_count": null,
      "outputs": []
    },
    {
      "cell_type": "markdown",
      "metadata": {
        "id": "sgUDlNsiW9r1"
      },
      "source": [
        "Olá Mundo!!! em Python"
      ]
    },
    {
      "cell_type": "code",
      "metadata": {
        "id": "Xqxuu02EW9r1",
        "colab": {
          "base_uri": "https://localhost:8080/"
        },
        "outputId": "9ee022e8-6d68-47af-d87e-e21a561f0223"
      },
      "source": [
        "print('Olá Mundo!!!')\n"
      ],
      "execution_count": null,
      "outputs": [
        {
          "output_type": "stream",
          "text": [
            "Olá Mundo!!!\n"
          ],
          "name": "stdout"
        }
      ]
    },
    {
      "cell_type": "markdown",
      "metadata": {
        "id": "7HQ_jTX5W9r2"
      },
      "source": [
        "Linguagens de Alto Nível vs Linguagens de Baixo Nível"
      ]
    },
    {
      "cell_type": "markdown",
      "metadata": {
        "id": "7xVbSTgJW9r3"
      },
      "source": [
        "Olá Mundo!!! em Assembly"
      ]
    },
    {
      "cell_type": "code",
      "metadata": {
        "id": "ELCO7MxEWA-T"
      },
      "source": [
        "section     .text\n",
        "global      _start\n",
        "\n",
        "_start:\n",
        "\n",
        "    mov     edx,len\n",
        "    mov     ecx,msg\n",
        "    mov     ebx,1\n",
        "    mov     eax,4\n",
        "    int     0x80\n",
        "\n",
        "    mov     eax,1\n",
        "    int     0x80\n",
        "\n",
        "section     .data\n",
        "\n",
        "msg     db  'Olá Mundo!!!',0xa \n",
        "len     equ $ - msg\n"
      ],
      "execution_count": null,
      "outputs": []
    },
    {
      "cell_type": "markdown",
      "metadata": {
        "id": "vYD2-gEWW9r3"
      },
      "source": [
        "Olá Mundo!!! em Python"
      ]
    },
    {
      "cell_type": "code",
      "metadata": {
        "id": "2iPbDUvlW9r4",
        "colab": {
          "base_uri": "https://localhost:8080/"
        },
        "outputId": "89b50935-c3a6-4c9a-cb9c-be964f9c3110"
      },
      "source": [
        "print('Olá Mundo!!!')\n"
      ],
      "execution_count": null,
      "outputs": [
        {
          "output_type": "stream",
          "text": [
            "Olá Mundo!!!\n"
          ],
          "name": "stdout"
        }
      ]
    }
  ]
}